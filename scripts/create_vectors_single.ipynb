{
 "cells": [
  {
   "cell_type": "markdown",
   "id": "4ea7b227",
   "metadata": {},
   "source": [
    "# CORPUS-INFORMED AUTO-TRANSLATOR: VECTOR CREATION NOTEBOOK\n",
    "Day 3: Converting JSON Document into Semantic Vectors\n",
    "(Creating vectors from a single corpus item)"
   ]
  },
  {
   "cell_type": "markdown",
   "id": "d34d5253",
   "metadata": {},
   "source": [
    "## Notebook Outline\n",
    "\n",
    "**Part 1: Data Preparation and Planning**\n",
    "\n",
    "- STEP 1: LOAD THE REQUIRED LIBRARIES\n",
    "- STEP 2: LOAD AND EXAMINE DATABASE STRUCTURE\n",
    "- STEP 3: LOAD AND EXAMINE INDIVIDUAL CORPUS ITEM\n",
    "\n",
    "**Part 2: Function and Model Setup**\n",
    "\n",
    "- STEP 4: INITIALIZE THE MULTILINGUAL EMBEDDING MODEL (WITH DEMONSTRATION)\n",
    "- STEP 5: PREPARE THE VECTOR STORAGE STRUCTURE (SCHEMA COMPLIANT)\n",
    "- STEP 6: DEFINE TEXT EXTRACTION FUNCTIONS\n",
    "- STEP 7: CREATE VECTORIZATION FUNCTIONS\n",
    "\n",
    "**Part 3: Execution and Output**\n",
    "- STEP 8: BATCH PROCESS DOCUMENTS\n",
    "- STEP 9: VISUALIZE THE VECTORS"
   ]
  },
  {
   "cell_type": "markdown",
   "id": "50b92867",
   "metadata": {},
   "source": [
    "## ============================================================================="
   ]
  },
  {
   "cell_type": "markdown",
   "id": "772dc31f",
   "metadata": {},
   "source": [
    "## Part 1: Data Preparation and Planning"
   ]
  },
  {
   "cell_type": "markdown",
   "id": "6cfc5ebe",
   "metadata": {},
   "source": [
    "### STEP 1: LOAD THE REQUIRED LIBRARIES"
   ]
  },
  {
   "cell_type": "code",
   "execution_count": null,
   "id": "1e9d5911",
   "metadata": {},
   "outputs": [
    {
     "name": "stdout",
     "output_type": "stream",
     "text": [
      "✅ All libraries loaded successfully!\n",
      "📁 Working with domain: gai\n",
      "🌐 Processing languages: ['eng', 'esp']\n",
      "🤖 Using model: paraphrase-multilingual-MiniLM-L12-v2\n"
     ]
    }
   ],
   "source": [
    "### STEP 1: LOAD THE REQUIRED LIBRARIES\n",
    "\n",
    "# Core Python libraries\n",
    "import json\n",
    "import os\n",
    "from pathlib import Path\n",
    "import logging\n",
    "from typing import Dict, List, Tuple, Optional\n",
    "from datetime import datetime\n",
    "\n",
    "# Data processing libraries\n",
    "import pandas as pd\n",
    "import numpy as np\n",
    "\n",
    "# Text processing libraries\n",
    "import re\n",
    "from collections import defaultdict\n",
    "\n",
    "# Machine learning and embedding libraries\n",
    "from sentence_transformers import SentenceTransformer\n",
    "from sklearn.decomposition import PCA\n",
    "from sklearn.metrics.pairwise import cosine_similarity\n",
    "\n",
    "# Progress tracking (helpful for long processing times)\n",
    "from tqdm.notebook import tqdm\n",
    "\n",
    "# Visualization libraries (for testing our vectors)\n",
    "import matplotlib.pyplot as plt\n",
    "import seaborn as sns\n",
    "\n",
    "# Configuration management\n",
    "import sys\n",
    "sys.path.append('../scripts')  # Add scripts folder to path\n",
    "from config import *  # Import all our configuration settings\n",
    "\n",
    "# Set up logging for debugging\n",
    "logging.basicConfig(level=logging.INFO, format='%(asctime)s - %(levelname)s - %(message)s')\n",
    "logger = logging.getLogger(__name__)\n",
    "\n",
    "print(\"✅ All libraries loaded successfully!\")\n",
    "print(f\"📁 Working with domain: {DOMAIN}\")\n",
    "print(f\"🌐 Processing languages: {LANGUAGES}\")\n",
    "print(f\"🤖 Using model: {MODEL_NAME}\")"
   ]
  },
  {
   "cell_type": "markdown",
   "id": "3aacb633",
   "metadata": {},
   "source": [
    "### STEP 2: LOAD AND EXAMINE DATABASE STRUCTURE"
   ]
  },
  {
   "cell_type": "code",
   "execution_count": null,
   "id": "52d02824",
   "metadata": {},
   "outputs": [
    {
     "name": "stdout",
     "output_type": "stream",
     "text": [
      "🔍 Loading ENG database...\n",
      "📊 ENG database contains 1 top-level keys:\n",
      "  • documents\n",
      "📚 Found 4 documents in ENG database\n",
      "  All document IDs:\n",
      "     1. gai-eng_item001: Attention is All You Need\n",
      "     2. gai-eng_item002: On the Dangers of Stochastic Parrots: Can Language Models Be...\n",
      "     3. gai-eng_item003: Recommendation on the Ethics of Artificial Intelligence\n",
      "     4. gai-eng_item004: The Age of AI has begun\n",
      "\n",
      "🔍 Loading ESP database...\n",
      "📊 ESP database contains 1 top-level keys:\n",
      "  • documents\n",
      "📚 Found 2 documents in ESP database\n",
      "  All document IDs:\n",
      "     1. gai-esp_item001: Propuesta de Agenda Nacional de la Inteligencia Artificial p...\n",
      "     2. gai-esp_item002: Conversando con una computadora: ¿Cómo entienden las intelig...\n",
      "\n",
      "✅ Successfully loaded databases for: eng, esp\n",
      "📊 Total documents across all languages: 6\n",
      "\n",
      "📊 Document count breakdown:\n",
      "  • ENG: 4 documents\n",
      "  • ESP: 2 documents\n",
      "\n",
      "📂 Expected database file locations:\n",
      "  • ENG: ..\\corpora\\gai\\eng\\gai-eng_database.json\n",
      "  • ESP: ..\\corpora\\gai\\esp\\gai-esp_database.json\n",
      "\n",
      "📋 Summary:\n",
      "Total documents loaded: 6\n",
      "  ENG: 4 documents\n",
      "  ESP: 2 documents\n"
     ]
    }
   ],
   "source": [
    "### STEP 2: LOAD AND EXAMINE DATABASE STRUCTURE\n",
    "\n",
    "def load_database_file(language):\n",
    "    \"\"\"Load the database file for a specific language\"\"\"\n",
    "    database_path = Path(CORPORA_DIR) / language / f\"{DOMAIN}-{language}_database.json\"\n",
    "    \n",
    "    if not database_path.exists():\n",
    "        raise FileNotFoundError(f\"Database file not found: {database_path}\")\n",
    "    \n",
    "    with open(database_path, 'r', encoding='utf-8') as f:\n",
    "        return json.load(f)\n",
    "\n",
    "# Load databases for all languages\n",
    "databases = {}\n",
    "all_documents = {}  # Store all documents for easy access\n",
    "\n",
    "for language in LANGUAGES:\n",
    "    try:\n",
    "        print(f\"🔍 Loading {language.upper()} database...\")\n",
    "        databases[language] = load_database_file(language)\n",
    "        \n",
    "        # Show database structure\n",
    "        db = databases[language]\n",
    "        print(f\"📊 {language.upper()} database contains {len(db)} top-level keys:\")\n",
    "        for key in list(db.keys())[:5]:  # Show first 5 keys\n",
    "            print(f\"  • {key}\")\n",
    "        \n",
    "        # Count actual documents (excluding template)\n",
    "        # Handle mixed structure: check both nested 'documents' and top-level keys\n",
    "        documents = {}\n",
    "        \n",
    "        # First, get documents from nested 'documents' key\n",
    "        if 'documents' in db and isinstance(db['documents'], dict):\n",
    "            nested_docs = {k: v for k, v in db['documents'].items() if k.startswith(f'gai-{language}_item')}\n",
    "            documents.update(nested_docs)\n",
    "        \n",
    "        # Also check for direct top-level document keys\n",
    "        top_level_docs = {k: v for k, v in db.items() if k != 'gai_template' and k != 'documents' and k.startswith(f'gai-{language}_item')}\n",
    "        documents.update(top_level_docs)\n",
    "        \n",
    "        # Store documents for this language\n",
    "        all_documents[language] = documents\n",
    "        \n",
    "        print(f\"📚 Found {len(documents)} documents in {language.upper()} database\")\n",
    "        \n",
    "        # Show ALL document IDs (not just sample)\n",
    "        if documents:\n",
    "            print(f\"  All document IDs:\")\n",
    "            for i, (doc_id, doc_data) in enumerate(documents.items(), 1):\n",
    "                title = doc_data.get('document_metadata', {}).get('title', 'No title')\n",
    "                print(f\"    {i:2d}. {doc_id}: {title[:60]}{'...' if len(title) > 60 else ''}\")\n",
    "        \n",
    "        print()  # Add blank line between languages\n",
    "        \n",
    "    except FileNotFoundError as e:\n",
    "        print(f\"❌ Error loading {language.upper()} database: {e}\")\n",
    "        print(f\"Expected location: {Path(CORPORA_DIR) / language / f'{DOMAIN}-{language}_database.json'}\")\n",
    "        print()\n",
    "\n",
    "print(f\"✅ Successfully loaded databases for: {', '.join(databases.keys())}\")\n",
    "\n",
    "# Calculate correct total documents using the stored documents\n",
    "total_documents = sum(len(docs) for docs in all_documents.values())\n",
    "print(f\"📊 Total documents across all languages: {total_documents}\")\n",
    "\n",
    "# Show breakdown by language\n",
    "print(f\"\\n📊 Document count breakdown:\")\n",
    "for language, docs in all_documents.items():\n",
    "    print(f\"  • {language.upper()}: {len(docs)} documents\")\n",
    "\n",
    "# Show expected file locations for all languages\n",
    "print(f\"\\n📂 Expected database file locations:\")\n",
    "for language in LANGUAGES:\n",
    "    expected_path = Path(CORPORA_DIR) / language / f\"{DOMAIN}-{language}_database.json\"\n",
    "    print(f\"  • {language.upper()}: {expected_path}\")\n",
    "\n",
    "# Optional: Create a summary dictionary for easy access\n",
    "document_summary = {\n",
    "    'total_count': total_documents,\n",
    "    'by_language': {lang: len(docs) for lang, docs in all_documents.items()},\n",
    "    'all_documents': all_documents\n",
    "}\n",
    "\n",
    "print(f\"\\n📋 Summary:\")\n",
    "print(f\"Total documents loaded: {document_summary['total_count']}\")\n",
    "for lang, count in document_summary['by_language'].items():\n",
    "    print(f\"  {lang.upper()}: {count} documents\")"
   ]
  },
  {
   "cell_type": "markdown",
   "id": "ae9ba408",
   "metadata": {},
   "source": [
    "### STEP 3: LOAD AND EXAMINE INDIVIDUAL CORPUS ITEM"
   ]
  },
  {
   "cell_type": "code",
   "execution_count": null,
   "id": "21a9aa35",
   "metadata": {},
   "outputs": [
    {
     "name": "stdout",
     "output_type": "stream",
     "text": [
      "📖 Loading and analyzing corpus item: gai-eng_item001\n",
      "✅ Loaded content from corpus item file\n",
      "✅ Retrieved metadata from database\n",
      "\n",
      "📊 DOCUMENT ANALYSIS:\n",
      "  🔖 ID: gai-eng_item001\n",
      "  📝 Title: Attention is All You Need\n",
      "  🌐 Language: usa\n",
      "  📄 Type: Academic paper\n",
      "  📏 Word Count: 5,817\n",
      "  📝 Total Text Length: 24,391 characters\n",
      "\n",
      "📋 STRUCTURE FOR VECTORIZATION:\n",
      "  🔍 Abstract: Yes (1,139 chars)\n",
      "  📚 Main Sections: 7\n",
      "  📂 Total Subsections: 12\n",
      "  🔗 Total Sub-subsections: 3\n",
      "  📝 Total Paragraphs: 69\n",
      "\n",
      "📑 DETAILED SECTION BREAKDOWN:\n",
      "   1. Introduction\n",
      "      📊 Structure: 4 main paragraphs\n",
      "      📝 Total paragraphs in section: 4\n",
      "      📏 1,900 characters\n",
      "\n",
      "   2. Background\n",
      "      📊 Structure: 4 main paragraphs\n",
      "      📝 Total paragraphs in section: 4\n",
      "      📏 1,810 characters\n",
      "\n",
      "   3. Model Architecture\n",
      "      📊 Structure: 2 main paragraphs, 5 subsections, 3 sub-subsections\n",
      "      📝 Total paragraphs in section: 29\n",
      "      📏 8,642 characters\n",
      "      📂 Subsection breakdown:\n",
      "        1 Encoder and Decoder Stacks: 2 paragraphs\n",
      "        2 Attention: 1 paragraphs\n",
      "          1 Scaled Dot-Product Attention: 5 paragraphs\n",
      "          2 Multi-Head Attention: 5 paragraphs\n",
      "          3 Applications of Attention in our Model: 4 paragraphs\n",
      "        3 Position-wise Feed-Forward Networks: 3 paragraphs\n",
      "        4 Embeddings and Softmax: 1 paragraphs\n",
      "        5 Positional Encoding: 6 paragraphs\n",
      "\n",
      "   4. 4 Why Self-Attention\n",
      "      📊 Structure: 6 main paragraphs\n",
      "      📝 Total paragraphs in section: 6\n",
      "      📏 3,165 characters\n",
      "\n",
      "   5. Training\n",
      "      📊 Structure: 1 main paragraphs, 4 subsections\n",
      "      📝 Total paragraphs in section: 9\n",
      "      📏 2,042 characters\n",
      "      📂 Subsection breakdown:\n",
      "        1 Training Data and Batching: 1 paragraphs\n",
      "        2 Hardware and Schedule: 1 paragraphs\n",
      "        3 Optimizer: 3 paragraphs\n",
      "        4 Regularization: 3 paragraphs\n",
      "\n",
      "   6. Results\n",
      "      📊 Structure: 3 subsections\n",
      "      📝 Total paragraphs in section: 12\n",
      "      📏 4,481 characters\n",
      "      📂 Subsection breakdown:\n",
      "        1 Machine Translation: 4 paragraphs\n",
      "        2 Model Variations: 3 paragraphs\n",
      "        3 English Constituency Parsing: 5 paragraphs\n",
      "\n",
      "   7. 7 Conclusion\n",
      "      📊 Structure: 5 main paragraphs\n",
      "      📝 Total paragraphs in section: 5\n",
      "      📏 1,212 characters\n",
      "\n",
      "🎯 VECTORIZATION PLAN:\n",
      "  • Document-level vectors: 1\n",
      "  • Section-level vectors: 7\n",
      "  • Subsection-level vectors: 12\n",
      "  • Sub-subsection-level vectors: 3\n",
      "  • Paragraph-level vectors: 69\n",
      "  • Total vectors to create: 92\n",
      "\n",
      "📂 Expected file locations:\n",
      "  📊 Metadata: ..\\corpora\\gai\\eng\\gai-eng_database.json\n",
      "  📄 Content: ..\\corpora\\gai\\eng\\processed\\gai-eng_item001.json\n"
     ]
    }
   ],
   "source": [
    "### STEP 3: LOAD AND EXAMINE INDIVIDUAL CORPUS ITEM\n",
    "\n",
    "def load_corpus_item(language, item_id):\n",
    "    \"\"\"Load a specific corpus item JSON file (content only)\"\"\"\n",
    "    item_path = Path(CORPORA_DIR) / language / \"processed\" / f\"{item_id}.json\"\n",
    "    \n",
    "    if not item_path.exists():\n",
    "        raise FileNotFoundError(f\"Corpus item not found: {item_path}\")\n",
    "    \n",
    "    with open(item_path, 'r', encoding='utf-8') as f:\n",
    "        return json.load(f)\n",
    "\n",
    "def get_document_metadata(databases, language, item_id):\n",
    "    \"\"\"Get metadata for a document from the database\"\"\"\n",
    "    db = databases.get(language, {})\n",
    "    documents = db.get('documents', {})\n",
    "    return documents.get(item_id, {})\n",
    "\n",
    "def merge_content_and_metadata(content_data, metadata):\n",
    "    \"\"\"Merge content and metadata into a complete document object\"\"\"\n",
    "    return {\n",
    "        'document_id': content_data.get('document_id'),\n",
    "        'document_metadata': metadata.get('document_metadata', {}),\n",
    "        'processing_metadata': metadata.get('processing_metadata', {}),\n",
    "        'content': content_data.get('content', {})\n",
    "    }\n",
    "\n",
    "def analyze_corpus_structure(corpus_item):\n",
    "    \"\"\"\n",
    "    Enhanced analysis that provides complete hierarchical breakdown\n",
    "    \"\"\"\n",
    "    analysis = {\n",
    "        'document_id': corpus_item.get('document_id', 'Unknown'),\n",
    "        'title': corpus_item.get('document_metadata', {}).get('title', 'No title'),\n",
    "        'language': corpus_item.get('document_metadata', {}).get('language_variant', 'Unknown'),\n",
    "        'text_type': corpus_item.get('document_metadata', {}).get('text_type', 'Unknown'),\n",
    "        'word_count': corpus_item.get('processing_metadata', {}).get('word_count', 0),\n",
    "        'has_abstract': bool(corpus_item.get('content', {}).get('abstract')),\n",
    "        'abstract_length': len(corpus_item.get('content', {}).get('abstract', '')),\n",
    "        'sections': [],\n",
    "        'total_paragraphs': 0,\n",
    "        'total_subsections': 0,\n",
    "        'total_subsubsections': 0,\n",
    "        'total_text_length': 0\n",
    "    }\n",
    "    \n",
    "    # Analyze sections and paragraphs\n",
    "    content = corpus_item.get('content', {})\n",
    "    sections = content.get('sections', [])\n",
    "    \n",
    "    for section in sections:\n",
    "        section_info = {\n",
    "            'id': section.get('id', 'No ID'),\n",
    "            'title': section.get('title', 'No title'),\n",
    "            'main_paragraph_count': len(section.get('paragraphs', [])),\n",
    "            'subsection_count': len(section.get('subsections', [])),\n",
    "            'subsubsection_count': 0,\n",
    "            'total_section_paragraphs': 0,  # All paragraphs in this section\n",
    "            'text_length': 0,\n",
    "            'subsections': []\n",
    "        }\n",
    "        \n",
    "        # Count main section paragraphs\n",
    "        section_info['total_section_paragraphs'] += section_info['main_paragraph_count']\n",
    "        analysis['total_paragraphs'] += section_info['main_paragraph_count']\n",
    "        \n",
    "        # Calculate text length for main section\n",
    "        for paragraph in section.get('paragraphs', []):\n",
    "            paragraph_text = paragraph.get('text', '')\n",
    "            section_info['text_length'] += len(paragraph_text)\n",
    "        \n",
    "        # Process subsections\n",
    "        for subsection in section.get('subsections', []):\n",
    "            subsection_info = {\n",
    "                'id': subsection.get('id', 'No ID'),\n",
    "                'title': subsection.get('title', 'No title'),\n",
    "                'paragraph_count': len(subsection.get('paragraphs', [])),\n",
    "                'subsubsection_count': 0,  # Initialize counter for this subsection\n",
    "                'subsubsections': []\n",
    "            }\n",
    "            \n",
    "            # Count subsection paragraphs\n",
    "            section_info['total_section_paragraphs'] += subsection_info['paragraph_count']\n",
    "            analysis['total_paragraphs'] += subsection_info['paragraph_count']\n",
    "            \n",
    "            # Add subsection text length\n",
    "            for paragraph in subsection.get('paragraphs', []):\n",
    "                paragraph_text = paragraph.get('text', '')\n",
    "                section_info['text_length'] += len(paragraph_text)\n",
    "            \n",
    "            # Process subsubsections - FIXED: Check for 'subsubsections' key\n",
    "            subsubsections = subsection.get('subsubsections', [])\n",
    "            if subsubsections:\n",
    "                for subsubsection in subsubsections:\n",
    "                    subsubsection_info = {\n",
    "                        'id': subsubsection.get('id', 'No ID'),\n",
    "                        'title': subsubsection.get('title', 'No title'),\n",
    "                        'paragraph_count': len(subsubsection.get('paragraphs', []))\n",
    "                    }\n",
    "                    \n",
    "                    # Count subsubsection paragraphs\n",
    "                    section_info['total_section_paragraphs'] += subsubsection_info['paragraph_count']\n",
    "                    analysis['total_paragraphs'] += subsubsection_info['paragraph_count']\n",
    "                    subsection_info['subsubsection_count'] += 1\n",
    "                    section_info['subsubsection_count'] += 1\n",
    "                    \n",
    "                    # Add subsubsection text\n",
    "                    for paragraph in subsubsection.get('paragraphs', []):\n",
    "                        paragraph_text = paragraph.get('text', '')\n",
    "                        section_info['text_length'] += len(paragraph_text)\n",
    "                    \n",
    "                    subsection_info['subsubsections'].append(subsubsection_info)\n",
    "            \n",
    "            section_info['subsections'].append(subsection_info)\n",
    "        \n",
    "        analysis['sections'].append(section_info)\n",
    "        analysis['total_subsections'] += section_info['subsection_count']\n",
    "        analysis['total_subsubsections'] += section_info['subsubsection_count']\n",
    "        analysis['total_text_length'] += section_info['text_length']\n",
    "    \n",
    "    # Add abstract to total text length\n",
    "    analysis['total_text_length'] += analysis['abstract_length']\n",
    "    \n",
    "    return analysis\n",
    "\n",
    "def display_enhanced_analysis(analysis):\n",
    "    \"\"\"Display the enhanced analysis with complete hierarchy\"\"\"\n",
    "    \n",
    "    print(f\"\\n📊 DOCUMENT ANALYSIS:\")\n",
    "    print(f\"  🔖 ID: {analysis['document_id']}\")\n",
    "    print(f\"  📝 Title: {analysis['title']}\")\n",
    "    print(f\"  🌐 Language: {analysis['language']}\")\n",
    "    print(f\"  📄 Type: {analysis['text_type']}\")\n",
    "    print(f\"  📏 Word Count: {analysis['word_count']:,}\")\n",
    "    print(f\"  📝 Total Text Length: {analysis['total_text_length']:,} characters\")\n",
    "    \n",
    "    print(f\"\\n📋 STRUCTURE FOR VECTORIZATION:\")\n",
    "    print(f\"  🔍 Abstract: {'Yes' if analysis['has_abstract'] else 'No'} ({analysis['abstract_length']:,} chars)\")\n",
    "    print(f\"  📚 Main Sections: {len(analysis['sections'])}\")\n",
    "    print(f\"  📂 Total Subsections: {analysis['total_subsections']}\")\n",
    "    print(f\"  🔗 Total Sub-subsections: {analysis['total_subsubsections']}\")\n",
    "    print(f\"  📝 Total Paragraphs: {analysis['total_paragraphs']}\")\n",
    "    \n",
    "    print(f\"\\n📑 DETAILED SECTION BREAKDOWN:\")\n",
    "    for i, section in enumerate(analysis['sections'], 1):\n",
    "        print(f\"  {i:2d}. {section['title']}\")\n",
    "        \n",
    "        # Show structure summary first\n",
    "        structure_parts = []\n",
    "        if section['main_paragraph_count'] > 0:\n",
    "            structure_parts.append(f\"{section['main_paragraph_count']} main paragraphs\")\n",
    "        if section['subsection_count'] > 0:\n",
    "            structure_parts.append(f\"{section['subsection_count']} subsections\")\n",
    "        if section['subsubsection_count'] > 0:\n",
    "            structure_parts.append(f\"{section['subsubsection_count']} sub-subsections\")\n",
    "        \n",
    "        print(f\"      📊 Structure: {', '.join(structure_parts)}\")\n",
    "        print(f\"      📝 Total paragraphs in section: {section['total_section_paragraphs']}\")\n",
    "        print(f\"      📏 {section['text_length']:,} characters\")\n",
    "        \n",
    "        # Show subsection details if any\n",
    "        if section['subsections']:\n",
    "            print(f\"      📂 Subsection breakdown:\")\n",
    "            for j, subsection in enumerate(section['subsections'], 1):\n",
    "                subsection_id = subsection['id'].split('_')[-1] if '_' in subsection['id'] else f\"{i}.{j}\"\n",
    "                print(f\"        {subsection_id} {subsection['title']}: {subsection['paragraph_count']} paragraphs\")\n",
    "                \n",
    "                # Show sub-subsections if any - FIXED: Now properly displays subsubsections\n",
    "                if subsection['subsubsections']:\n",
    "                    for k, subsubsection in enumerate(subsection['subsubsections'], 1):\n",
    "                        subsubsection_id = subsubsection['id'].split('_')[-1] if '_' in subsubsection['id'] else f\"{i}.{j}.{k}\"\n",
    "                        print(f\"          {subsubsection_id} {subsubsection['title']}: {subsubsection['paragraph_count']} paragraphs\")\n",
    "        print()  # Empty line between sections\n",
    "    \n",
    "    print(f\"🎯 VECTORIZATION PLAN:\")\n",
    "    structural_vectors = 1 + len(analysis['sections']) + analysis['total_subsections'] + analysis['total_subsubsections']\n",
    "    total_vectors = structural_vectors + analysis['total_paragraphs']\n",
    "    \n",
    "    print(f\"  • Document-level vectors: 1\")\n",
    "    print(f\"  • Section-level vectors: {len(analysis['sections'])}\")\n",
    "    print(f\"  • Subsection-level vectors: {analysis['total_subsections']}\")\n",
    "    print(f\"  • Sub-subsection-level vectors: {analysis['total_subsubsections']}\")\n",
    "    print(f\"  • Paragraph-level vectors: {analysis['total_paragraphs']}\")\n",
    "    print(f\"  • Total vectors to create: {total_vectors}\")\n",
    "\n",
    "# Load and analyze our test document\n",
    "test_doc_id = \"gai-eng_item001\" \n",
    "test_language = \"eng\"\n",
    "\n",
    "print(f\"📖 Loading and analyzing corpus item: {test_doc_id}\")\n",
    "\n",
    "try:\n",
    "    # Load content from corpus item file\n",
    "    content_data = load_corpus_item(test_language, test_doc_id)\n",
    "    print(f\"✅ Loaded content from corpus item file\")\n",
    "    \n",
    "    # Get metadata from database\n",
    "    if test_language in databases:\n",
    "        metadata = get_document_metadata(databases, test_language, test_doc_id)\n",
    "        print(f\"✅ Retrieved metadata from database\")\n",
    "        \n",
    "        # Merge content and metadata\n",
    "        corpus_item = merge_content_and_metadata(content_data, metadata)\n",
    "        \n",
    "        # Analyze the merged document\n",
    "        analysis = analyze_corpus_structure(corpus_item)\n",
    "        \n",
    "        # Display enhanced analysis\n",
    "        display_enhanced_analysis(analysis)\n",
    "        \n",
    "    else:\n",
    "        print(f\"❌ Database for {test_language} not loaded\")\n",
    "    \n",
    "except FileNotFoundError as e:\n",
    "    print(f\"❌ Error: {e}\")\n",
    "    print(f\"💡 Make sure you have placed {test_doc_id}.json in:\")\n",
    "    print(f\"   {Path(CORPORA_DIR) / test_language / 'processed' / f'{test_doc_id}.json'}\")\n",
    "except Exception as e:\n",
    "    print(f\"❌ Unexpected error: {e}\")\n",
    "    print(\"💡 Check that the JSON file structure matches the expected format\")\n",
    "\n",
    "print(f\"\\n📂 Expected file locations:\")\n",
    "print(f\"  📊 Metadata: {Path(CORPORA_DIR) / test_language / f'{DOMAIN}-{test_language}_database.json'}\")\n",
    "print(f\"  📄 Content: {Path(CORPORA_DIR) / test_language / 'processed' / f'{test_doc_id}.json'}\")"
   ]
  },
  {
   "cell_type": "markdown",
   "id": "bb194b0e",
   "metadata": {},
   "source": [
    "## ============================================================================="
   ]
  },
  {
   "cell_type": "markdown",
   "id": "4f0f4727",
   "metadata": {},
   "source": [
    "## Part 2: Function and Model Setup"
   ]
  },
  {
   "cell_type": "markdown",
   "id": "2c6e10b2",
   "metadata": {},
   "source": [
    "### STEP 4: INITIALIZE THE MULTILINGUAL EMBEDDING MODEL"
   ]
  },
  {
   "cell_type": "code",
   "execution_count": null,
   "id": "16389b51",
   "metadata": {},
   "outputs": [
    {
     "name": "stderr",
     "output_type": "stream",
     "text": [
      "2025-05-28 23:53:08,887 - INFO - Use pytorch device_name: cpu\n",
      "2025-05-28 23:53:08,888 - INFO - Load pretrained SentenceTransformer: paraphrase-multilingual-MiniLM-L12-v2\n"
     ]
    },
    {
     "name": "stdout",
     "output_type": "stream",
     "text": [
      "🤖 Loading multilingual embedding model...\n",
      "This may take a moment on first run as it downloads the model (~420MB)\n",
      "✅ Model loaded successfully!\n",
      "\n",
      "📊 Model Information:\n",
      "  • Model name: sentence-transformers/paraphrase-multilingual-MiniLM-L12-v2\n",
      "  • Embedding dimension: 384\n",
      "  • Max sequence length: 128\n",
      "  • Supports 50+ languages including English and Spanish\n"
     ]
    }
   ],
   "source": [
    "### STEP 4: INITIALIZE THE MULTILINGUAL EMBEDDING MODEL\n",
    "\n",
    "# Initialize the multilingual sentence transformer model\n",
    "print(\"🤖 Loading multilingual embedding model...\")\n",
    "print(\"This may take a moment on first run as it downloads the model (~420MB)\")\n",
    "\n",
    "try:\n",
    "    # Load the model that creates our unified vector space\n",
    "    model = SentenceTransformer('paraphrase-multilingual-MiniLM-L12-v2')\n",
    "    print(\"✅ Model loaded successfully!\")\n",
    "    \n",
    "    # Display model information\n",
    "    print(f\"\\n📊 Model Information:\")\n",
    "    print(f\"  • Model name: {model._modules['0'].auto_model.config._name_or_path}\")\n",
    "    print(f\"  • Embedding dimension: {model.get_sentence_embedding_dimension()}\")\n",
    "    print(f\"  • Max sequence length: {model.max_seq_length}\")\n",
    "    print(f\"  • Supports 50+ languages including English and Spanish\")\n",
    "    \n",
    "except Exception as e:\n",
    "    print(f\"❌ Error loading model: {e}\")\n",
    "    print(\"💡 Try running: pip install sentence-transformers\")"
   ]
  },
  {
   "cell_type": "markdown",
   "id": "c0af33f6",
   "metadata": {},
   "source": [
    "#### DEMONSTRATION: UNIFIED VECTOR SPACE FOR BILINGUAL CONTENT"
   ]
  },
  {
   "cell_type": "code",
   "execution_count": null,
   "id": "6a45fbba",
   "metadata": {},
   "outputs": [
    {
     "name": "stdout",
     "output_type": "stream",
     "text": [
      "\n",
      "🌐 DEMONSTRATING UNIFIED VECTOR SPACE:\n",
      "============================================================\n",
      "Creating embeddings for test sentences...\n"
     ]
    },
    {
     "data": {
      "application/vnd.jupyter.widget-view+json": {
       "model_id": "50e3fcdcf8444052adbe8d3de5de9d68",
       "version_major": 2,
       "version_minor": 0
      },
      "text/plain": [
       "Batches:   0%|          | 0/1 [00:00<?, ?it/s]"
      ]
     },
     "metadata": {},
     "output_type": "display_data"
    },
    {
     "name": "stdout",
     "output_type": "stream",
     "text": [
      "\n",
      "📈 Similarity scores (0-1, higher = more similar):\n",
      "------------------------------------------------------------\n",
      "\n",
      "English: 'Artificial intelligence is transforming ...'\n",
      "Spanish: 'La inteligencia artificial está transfor...'\n",
      "Similarity: 0.9880 ✅ High similarity!\n",
      "\n",
      "English: 'Machine learning requires large amounts ...'\n",
      "Spanish: 'El aprendizaje automático requiere grand...'\n",
      "Similarity: 0.9280 ✅ High similarity!\n",
      "\n",
      "English: 'The weather is nice today...'\n",
      "Spanish: 'El clima está agradable hoy...'\n",
      "Similarity: 0.9361 ✅ High similarity!\n",
      "\n",
      "🔍 Cross-language comparison (unrelated sentences):\n",
      "'Artificial intelligence...' vs 'The weather...': -0.0196\n"
     ]
    }
   ],
   "source": [
    "# Demonstrate the unified vector space with a simple multilingual example\n",
    "print(\"\\n🌐 DEMONSTRATING UNIFIED VECTOR SPACE:\")\n",
    "print(\"=\" * 60)\n",
    "\n",
    "# Test sentences in English and Spanish\n",
    "test_sentences = [\n",
    "    \"Artificial intelligence is transforming our world\",  # English\n",
    "    \"La inteligencia artificial está transformando nuestro mundo\",  # Spanish (same meaning)\n",
    "    \"Machine learning requires large amounts of data\",  # English\n",
    "    \"El aprendizaje automático requiere grandes cantidades de datos\",  # Spanish (same meaning)\n",
    "    \"The weather is nice today\",  # English (unrelated)\n",
    "    \"El clima está agradable hoy\"  # Spanish (unrelated)\n",
    "]\n",
    "\n",
    "# Create embeddings\n",
    "print(\"Creating embeddings for test sentences...\")\n",
    "test_embeddings = model.encode(test_sentences)\n",
    "\n",
    "# Calculate similarity between English and Spanish pairs\n",
    "from sklearn.metrics.pairwise import cosine_similarity\n",
    "\n",
    "print(\"\\n📈 Similarity scores (0-1, higher = more similar):\")\n",
    "print(\"-\" * 60)\n",
    "\n",
    "# Compare sentence pairs\n",
    "for i in range(0, len(test_sentences), 2):\n",
    "    eng_sentence = test_sentences[i]\n",
    "    spa_sentence = test_sentences[i+1]\n",
    "    \n",
    "    similarity = cosine_similarity(\n",
    "        test_embeddings[i].reshape(1, -1),\n",
    "        test_embeddings[i+1].reshape(1, -1)\n",
    "    )[0][0]\n",
    "    \n",
    "    print(f\"\\nEnglish: '{eng_sentence[:40]}...'\")\n",
    "    print(f\"Spanish: '{spa_sentence[:40]}...'\")\n",
    "    print(f\"Similarity: {similarity:.4f} {'✅ High similarity!' if similarity > 0.8 else ''}\")\n",
    "\n",
    "# Show that unrelated sentences have lower similarity\n",
    "print(\"\\n🔍 Cross-language comparison (unrelated sentences):\")\n",
    "unrelated_sim = cosine_similarity(\n",
    "    test_embeddings[0].reshape(1, -1),  # AI sentence in English\n",
    "    test_embeddings[4].reshape(1, -1)   # Weather sentence in English\n",
    ")[0][0]\n",
    "print(f\"'Artificial intelligence...' vs 'The weather...': {unrelated_sim:.4f}\")"
   ]
  },
  {
   "cell_type": "code",
   "execution_count": null,
   "id": "57b5e9a9",
   "metadata": {},
   "outputs": [
    {
     "name": "stdout",
     "output_type": "stream",
     "text": [
      "\n",
      "📊 VISUALIZING THE UNIFIED VECTOR SPACE:\n",
      "============================================================\n"
     ]
    },
    {
     "data": {
      "image/png": "[encoded data removed]",
      "text/plain": [
       "<Figure size 1000x800 with 1 Axes>"
      ]
     },
     "metadata": {},
     "output_type": "display_data"
    },
    {
     "name": "stdout",
     "output_type": "stream",
     "text": [
      "\n",
      "💡 Notice how translation pairs (connected by lines) are close together!\n",
      "This demonstrates that our model creates a truly multilingual vector space.\n"
     ]
    }
   ],
   "source": [
    "# Visualize the test embeddings in 2D space\n",
    "print(\"\\n📊 VISUALIZING THE UNIFIED VECTOR SPACE:\")\n",
    "print(\"=\" * 60)\n",
    "\n",
    "# Reduce dimensions for visualization\n",
    "from sklearn.decomposition import PCA\n",
    "import matplotlib.pyplot as plt\n",
    "\n",
    "# Reduce to 2D for visualization\n",
    "pca = PCA(n_components=2)\n",
    "embeddings_2d = pca.fit_transform(test_embeddings)\n",
    "\n",
    "# Create visualization\n",
    "plt.figure(figsize=(10, 8))\n",
    "\n",
    "# Plot English sentences\n",
    "plt.scatter(embeddings_2d[::2, 0], embeddings_2d[::2, 1], \n",
    "           c='blue', s=200, alpha=0.6, label='English')\n",
    "\n",
    "# Plot Spanish sentences\n",
    "plt.scatter(embeddings_2d[1::2, 0], embeddings_2d[1::2, 1], \n",
    "           c='red', s=200, alpha=0.6, label='Spanish')\n",
    "\n",
    "# Add labels\n",
    "for i, txt in enumerate(test_sentences):\n",
    "    # Shorten text for display\n",
    "    display_text = txt[:25] + \"...\" if len(txt) > 25 else txt\n",
    "    plt.annotate(display_text, (embeddings_2d[i, 0], embeddings_2d[i, 1]), \n",
    "                fontsize=9, ha='center', va='bottom')\n",
    "\n",
    "# Draw lines between translation pairs\n",
    "for i in range(0, len(test_sentences), 2):\n",
    "    plt.plot([embeddings_2d[i, 0], embeddings_2d[i+1, 0]], \n",
    "             [embeddings_2d[i, 1], embeddings_2d[i+1, 1]], \n",
    "             'k--', alpha=0.3)\n",
    "\n",
    "plt.xlabel('First Principal Component')\n",
    "plt.ylabel('Second Principal Component')\n",
    "plt.title('Unified Vector Space: English and Spanish Sentences')\n",
    "plt.legend()\n",
    "plt.grid(True, alpha=0.3)\n",
    "plt.tight_layout()\n",
    "plt.show()\n",
    "\n",
    "print(\"\\n💡 Notice how translation pairs (connected by lines) are close together!\")\n",
    "print(\"This demonstrates that our model creates a truly multilingual vector space.\")"
   ]
  },
  {
   "cell_type": "markdown",
   "id": "e9ddb483",
   "metadata": {},
   "source": [
    "### STEP 5: PREPARE THE VECTOR STORAGE STRUCTURE (SCHEMA COMPLIANT)\n",
    "\n",
    "Note: Consider adding \"text_length\" to vector structure in a future iteration"
   ]
  },
  {
   "cell_type": "code",
   "execution_count": null,
   "id": "8214118a",
   "metadata": {},
   "outputs": [
    {
     "name": "stdout",
     "output_type": "stream",
     "text": [
      "\n",
      "📦 PREPARING VECTOR STORAGE STRUCTURE:\n",
      "============================================================\n",
      "✅ Using standardized schema for vector storage\n",
      "\n",
      "📋 Schema structure:\n",
      "  • metadata: Model name and embedding dimensions\n",
      "  • vectors: Array of vector objects with:\n",
      "    - Document vectors: id, title, count, created, vector, text\n",
      "    - Section vectors: id, document_id, title, level, count, created, vector, text\n",
      "    - Paragraph vectors: id, document_id, count, created, vector, text\n",
      "\n",
      "✅ Ready to create vectors from your corpus documents!\n",
      "📋 Available functions:\n",
      "  • save_document_vectors_json() - Save document-level vectors\n",
      "  • save_section_vectors_json() - Save section-level vectors\n",
      "  • save_paragraph_vectors_json() - Save paragraph-level vectors\n",
      "  • save_all_vectors_with_schema() - Save all vector types at once\n"
     ]
    }
   ],
   "source": [
    "### STEP 5: PREPARE THE VECTOR STORAGE STRUCTURE (SCHEMA COMPLIANT)\n",
    "\n",
    "# Prepare vector storage structure\n",
    "print(\"\\n📦 PREPARING VECTOR STORAGE STRUCTURE:\")\n",
    "print(\"=\" * 60)\n",
    "\n",
    "print(\"✅ Using standardized schema for vector storage\")\n",
    "print(\"\\n📋 Schema structure:\")\n",
    "print(\"  • metadata: Model name and embedding dimensions\")\n",
    "print(\"  • vectors: Array of vector objects with:\")\n",
    "print(\"    - Document vectors: id, title, count, created, vector, text\")\n",
    "print(\"    - Section vectors: id, document_id, title, level, count, created, vector, text\")\n",
    "print(\"    - Paragraph vectors: id, document_id, count, created, vector, text\")\n",
    "\n",
    "def save_document_vectors_json(vectors_data, filename, model):\n",
    "    \"\"\"Save document vectors to JSON file following the standardized schema\"\"\"\n",
    "    \n",
    "    vector_objects = []\n",
    "    \n",
    "    for i, vector_info in enumerate(vectors_data, 1):\n",
    "        vector_obj = {\n",
    "            \"id\": vector_info['id'],  # document_id\n",
    "            \"title\": vector_info.get('title', 'No title'),\n",
    "            \"count\": i,\n",
    "            \"created\": datetime.now().isoformat(),\n",
    "            \"vector\": vector_info['vector'].tolist() if hasattr(vector_info['vector'], 'tolist') else vector_info['vector'],\n",
    "            \"text\": vector_info.get('text', '')[:500]  # Limit text length for storage\n",
    "        }\n",
    "        vector_objects.append(vector_obj)\n",
    "    \n",
    "    # Create the complete data structure following schema\n",
    "    vector_data = {\n",
    "        \"metadata\": {\n",
    "            \"model\": \"paraphrase-multilingual-MiniLM-L12-v2\",\n",
    "            \"dimension\": model.get_sentence_embedding_dimension()\n",
    "        },\n",
    "        \"vectors\": vector_objects\n",
    "    }\n",
    "    \n",
    "    with open(filename, 'w', encoding='utf-8') as f:\n",
    "        json.dump(vector_data, f, ensure_ascii=False, indent=2)\n",
    "    \n",
    "    print(f\"💾 Saved {len(vector_objects)} document vectors to {filename}\")\n",
    "\n",
    "def save_section_vectors_json(vectors_data, filename, model):\n",
    "    \"\"\"Save section vectors to JSON file following the standardized schema\"\"\"\n",
    "    \n",
    "    vector_objects = []\n",
    "    \n",
    "    for i, vector_info in enumerate(vectors_data, 1):\n",
    "        vector_obj = {\n",
    "            \"id\": vector_info['id'],  # section_id\n",
    "            \"document_id\": vector_info['document_id'],\n",
    "            \"title\": vector_info.get('title', 'No title'),\n",
    "            \"level\": vector_info.get('level', 0),\n",
    "            \"count\": i,\n",
    "            \"created\": datetime.now().isoformat(),\n",
    "            \"vector\": vector_info['vector'].tolist() if hasattr(vector_info['vector'], 'tolist') else vector_info['vector'],\n",
    "            \"text\": vector_info.get('text', '')[:500]  # Limit text length for storage\n",
    "        }\n",
    "        vector_objects.append(vector_obj)\n",
    "    \n",
    "    # Create the complete data structure following schema\n",
    "    vector_data = {\n",
    "        \"metadata\": {\n",
    "            \"model\": \"paraphrase-multilingual-MiniLM-L12-v2\",\n",
    "            \"dimension\": model.get_sentence_embedding_dimension()\n",
    "        },\n",
    "        \"vectors\": vector_objects\n",
    "    }\n",
    "    \n",
    "    with open(filename, 'w', encoding='utf-8') as f:\n",
    "        json.dump(vector_data, f, ensure_ascii=False, indent=2)\n",
    "    \n",
    "    print(f\"💾 Saved {len(vector_objects)} section vectors to {filename}\")\n",
    "\n",
    "def save_paragraph_vectors_json(vectors_data, filename, model):\n",
    "    \"\"\"Save paragraph vectors to JSON file following the standardized schema\"\"\"\n",
    "    \n",
    "    vector_objects = []\n",
    "    \n",
    "    for i, vector_info in enumerate(vectors_data, 1):\n",
    "        vector_obj = {\n",
    "            \"id\": vector_info['id'],  # paragraph_id\n",
    "            \"document_id\": vector_info['document_id'],\n",
    "            \"count\": i,\n",
    "            \"created\": datetime.now().isoformat(),\n",
    "            \"vector\": vector_info['vector'].tolist() if hasattr(vector_info['vector'], 'tolist') else vector_info['vector'],\n",
    "            \"text\": vector_info.get('text', '')[:300]  # Limit text length for storage\n",
    "        }\n",
    "        vector_objects.append(vector_obj)\n",
    "    \n",
    "    # Create the complete data structure following schema\n",
    "    vector_data = {\n",
    "        \"metadata\": {\n",
    "            \"model\": \"paraphrase-multilingual-MiniLM-L12-v2\",\n",
    "            \"dimension\": model.get_sentence_embedding_dimension()\n",
    "        },\n",
    "        \"vectors\": vector_objects\n",
    "    }\n",
    "    \n",
    "    with open(filename, 'w', encoding='utf-8') as f:\n",
    "        json.dump(vector_data, f, ensure_ascii=False, indent=2)\n",
    "    \n",
    "    print(f\"💾 Saved {len(vector_objects)} paragraph vectors to {filename}\")\n",
    "\n",
    "def save_all_vectors_with_schema(vectors, extracted_content, model, output_dir):\n",
    "    \"\"\"\n",
    "    Convenience function to save all vectors using the standardized schema format\n",
    "    \n",
    "    Args:\n",
    "        vectors: Dictionary containing all vector data from create_vectors()\n",
    "        extracted_content: Content data from extract_document_content()\n",
    "        model: SentenceTransformer model\n",
    "        output_dir: Directory to save vector files\n",
    "    \"\"\"\n",
    "    \n",
    "    # Ensure output directory exists\n",
    "    os.makedirs(output_dir, exist_ok=True)\n",
    "    \n",
    "    print(\"💾 SAVING VECTORS WITH STANDARDIZED SCHEMA:\")\n",
    "    print(\"=\" * 60)\n",
    "    \n",
    "    # 1. Save document vectors\n",
    "    document_vectors_data = [{\n",
    "        'id': vectors['document_id'],\n",
    "        'title': extracted_content['title'],\n",
    "        'vector': vectors['document_vector']['vector'],\n",
    "        'text': extracted_content['document_text']\n",
    "    }]\n",
    "    \n",
    "    save_document_vectors_json(\n",
    "        vectors_data=document_vectors_data,\n",
    "        filename=os.path.join(output_dir, 'gai-document-vectors.json'),\n",
    "        model=model\n",
    "    )\n",
    "    \n",
    "    # 2. Save section vectors\n",
    "    section_vectors_data = []\n",
    "    for section_vec in vectors['section_vectors']:\n",
    "        section_vectors_data.append({\n",
    "            'id': section_vec['id'],\n",
    "            'document_id': section_vec['document_id'],\n",
    "            'title': section_vec['title'],\n",
    "            'level': section_vec['level'],\n",
    "            'vector': section_vec['vector'],\n",
    "            'text': section_vec['text']\n",
    "        })\n",
    "    \n",
    "    save_section_vectors_json(\n",
    "        vectors_data=section_vectors_data,\n",
    "        filename=os.path.join(output_dir, 'gai-section-vectors.json'),\n",
    "        model=model\n",
    "    )\n",
    "    \n",
    "    # 3. Save paragraph vectors\n",
    "    paragraph_vectors_data = []\n",
    "    for para_vec in vectors['paragraph_vectors']:\n",
    "        paragraph_vectors_data.append({\n",
    "            'id': para_vec['id'],\n",
    "            'document_id': para_vec['document_id'],\n",
    "            'vector': para_vec['vector'],\n",
    "            'text': para_vec['text']\n",
    "        })\n",
    "    \n",
    "    save_paragraph_vectors_json(\n",
    "        vectors_data=paragraph_vectors_data,\n",
    "        filename=os.path.join(output_dir, 'gai-paragraph-vectors.json'),\n",
    "        model=model\n",
    "    )\n",
    "    \n",
    "    print(f\"\\n✅ All vectors saved to: {output_dir}\")\n",
    "    print(\"Schema-compliant files created:\")\n",
    "    print(\"  • gai-document-vectors.json\")\n",
    "    print(\"  • gai-section-vectors.json\") \n",
    "    print(\"  • gai-paragraph-vectors.json\")\n",
    "\n",
    "print(\"\\n✅ Ready to create vectors from your corpus documents!\")\n",
    "print(\"📋 Available functions:\")\n",
    "print(\"  • save_document_vectors_json() - Save document-level vectors\")\n",
    "print(\"  • save_section_vectors_json() - Save section-level vectors\") \n",
    "print(\"  • save_paragraph_vectors_json() - Save paragraph-level vectors\")\n",
    "print(\"  • save_all_vectors_with_schema() - Save all vector types at once\")"
   ]
  },
  {
   "cell_type": "markdown",
   "id": "f04a70cb",
   "metadata": {},
   "source": [
    "### STEP 6: DEFINE TEXT EXTRACTION FUNCTIONS"
   ]
  },
  {
   "cell_type": "code",
   "execution_count": null,
   "id": "b427be0f",
   "metadata": {},
   "outputs": [],
   "source": [
    "### STEP 6a: DEFINE PARAGRAPH EXTRACTION FUNCTIONS\n",
    "\n",
    "def extract_clean_text(text, include_citations=True):\n",
    "    \"\"\"\n",
    "    Clean text for vectorization while preserving meaning\n",
    "    \n",
    "    Args:\n",
    "        text: Raw text string\n",
    "        include_citations: Whether to keep citation markers like [1] in the text\n",
    "    \n",
    "    Returns:\n",
    "        Cleaned text string\n",
    "    \"\"\"\n",
    "    if not text:\n",
    "        return \"\"\n",
    "    \n",
    "    # Remove extra whitespace\n",
    "    text = ' '.join(text.split())\n",
    "    \n",
    "    # Remove citation markers if requested\n",
    "    if not include_citations:\n",
    "        # Remove patterns like [1], [2,3], [14-16], etc.\n",
    "        text = re.sub(r'\\[\\d+(?:[-,]\\d+)*\\]', '', text)\n",
    "    \n",
    "    # Remove excessive punctuation but keep sentence structure\n",
    "    text = re.sub(r'\\.{2,}', '.', text)  # Multiple periods to single\n",
    "    text = re.sub(r'\\s+([.,!?;:])', r'\\1', text)  # Remove space before punctuation\n",
    "    \n",
    "    return text.strip()\n",
    "\n",
    "def extract_equation_text(paragraph_data):\n",
    "    \"\"\"\n",
    "    Extract readable text from equations in a paragraph\n",
    "    \n",
    "    Args:\n",
    "        paragraph_data: Dictionary containing paragraph information\n",
    "    \n",
    "    Returns:\n",
    "        String with equation descriptions\n",
    "    \"\"\"\n",
    "    equation_texts = []\n",
    "    \n",
    "    # Check for inline equations\n",
    "    if 'inline_equations' in paragraph_data:\n",
    "        for eq in paragraph_data['inline_equations']:\n",
    "            if 'text' in eq:\n",
    "                equation_texts.append(eq['text'])\n",
    "    \n",
    "    # Check for equation numbers\n",
    "    if 'equation_numbers' in paragraph_data:\n",
    "        for eq in paragraph_data['equation_numbers']:\n",
    "            if 'text' in eq:\n",
    "                equation_texts.append(f\"Equation {eq['text']}\")\n",
    "    \n",
    "    return ' '.join(equation_texts)\n",
    "\n",
    "def extract_paragraph_text(paragraph):\n",
    "    \"\"\"\n",
    "    Extract complete text from a paragraph including equations\n",
    "    \n",
    "    Args:\n",
    "        paragraph: Paragraph dictionary from JSON\n",
    "    \n",
    "    Returns:\n",
    "        Tuple of (paragraph_id, full_text)\n",
    "    \"\"\"\n",
    "    paragraph_id = paragraph.get('id', 'unknown')\n",
    "    \n",
    "    # Get main text\n",
    "    main_text = paragraph.get('text', '')\n",
    "    \n",
    "    # Add equation text if present\n",
    "    equation_text = extract_equation_text(paragraph)\n",
    "    if equation_text:\n",
    "        main_text = f\"{main_text} {equation_text}\"\n",
    "    \n",
    "    # Clean the combined text\n",
    "    clean_text = extract_clean_text(main_text)\n",
    "    \n",
    "    return paragraph_id, clean_text"
   ]
  },
  {
   "cell_type": "code",
   "execution_count": null,
   "id": "62e70038",
   "metadata": {},
   "outputs": [],
   "source": [
    "### STEP 6b: DEFINE SECTION EXTRACTION FUNCTIONS\n",
    "\n",
    "def extract_section_content(section, parent_id=\"\", level=0):\n",
    "    \"\"\"\n",
    "    Recursively extract all text content from a section and its subsections\n",
    "    \n",
    "    Args:\n",
    "        section: Section dictionary from JSON\n",
    "        parent_id: Parent section ID for hierarchical tracking\n",
    "        level: Current nesting level (0=main, 1=sub, 2=subsub)\n",
    "    \n",
    "    Returns:\n",
    "        Dictionary with section text and list of all paragraphs\n",
    "    \"\"\"\n",
    "    section_id = section.get('id', 'unknown')\n",
    "    section_title = section.get('title', '')\n",
    "    \n",
    "    # Build simpler section ID based on level\n",
    "    if level == 0:\n",
    "        full_section_id = section_id\n",
    "    else:\n",
    "        full_section_id = f\"{parent_id}_{section_id.split('_')[-1]}\"\n",
    "    \n",
    "    # Collect all text for this section level\n",
    "    section_texts = []\n",
    "    all_paragraphs = []\n",
    "    subsection_results = []\n",
    "    \n",
    "    # Add section title\n",
    "    if section_title:\n",
    "        section_texts.append(section_title)\n",
    "    \n",
    "    # Extract main section paragraphs\n",
    "    for paragraph in section.get('paragraphs', []):\n",
    "        para_id, para_text = extract_paragraph_text(paragraph)\n",
    "        if para_text:\n",
    "            section_texts.append(para_text)\n",
    "            all_paragraphs.append({\n",
    "                'id': para_id,\n",
    "                'text': para_text,\n",
    "                'section_id': full_section_id,\n",
    "                'section_title': section_title,\n",
    "                'level': level\n",
    "            })\n",
    "    \n",
    "    # Process subsections recursively\n",
    "    for subsection in section.get('subsections', []):\n",
    "        subsection_content = extract_section_content(subsection, full_section_id, level + 1)\n",
    "        subsection_results.append(subsection_content)\n",
    "        section_texts.append(subsection_content['section_text'])\n",
    "        all_paragraphs.extend(subsection_content['all_paragraphs'])\n",
    "        \n",
    "        # Process subsubsections within each subsection\n",
    "        for subsubsection in subsection.get('subsubsections', []):\n",
    "            subsubsection_content = extract_section_content(\n",
    "                subsubsection, \n",
    "                f\"{full_section_id}_{subsection['id'].split('_')[-1]}\", \n",
    "                level + 2\n",
    "            )\n",
    "            subsection_results.append(subsubsection_content)\n",
    "            section_texts.append(subsubsection_content['section_text'])\n",
    "            all_paragraphs.extend(subsubsection_content['all_paragraphs'])\n",
    "    \n",
    "    # Combine all text for this section\n",
    "    combined_section_text = ' '.join(section_texts)\n",
    "    \n",
    "    return {\n",
    "        'section_id': full_section_id,\n",
    "        'section_title': section_title,\n",
    "        'section_text': combined_section_text,\n",
    "        'subsections': subsection_results,\n",
    "        'all_paragraphs': all_paragraphs,\n",
    "        'level': level\n",
    "    }"
   ]
  },
  {
   "cell_type": "code",
   "execution_count": null,
   "id": "d72f1992",
   "metadata": {},
   "outputs": [],
   "source": [
    "### STEP 6c: DEFINE DOCUMENT EXTRACTION FUNCTIONS\n",
    "\n",
    "def extract_document_content(corpus_item):\n",
    "    \"\"\"\n",
    "    Extract all text content from a corpus document at all levels\n",
    "    \"\"\"\n",
    "    print(f\"📄 Extracting content from: {corpus_item.get('document_id', 'Unknown')}\")\n",
    "    \n",
    "    # Initialize containers\n",
    "    document_texts = []\n",
    "    all_sections = []\n",
    "    all_paragraphs = []\n",
    "    \n",
    "    # Extract metadata\n",
    "    metadata = corpus_item.get('document_metadata', {})\n",
    "    doc_id = corpus_item.get('document_id', 'unknown')\n",
    "    title = metadata.get('title', '')\n",
    "    language = metadata.get('language_variant', 'unknown')\n",
    "    \n",
    "    # Add title to document text\n",
    "    if title:\n",
    "        document_texts.append(title)\n",
    "    \n",
    "    # Extract abstract if present\n",
    "    content = corpus_item.get('content', {})\n",
    "    abstract = content.get('abstract', '')\n",
    "    if abstract:\n",
    "        clean_abstract = extract_clean_text(abstract)\n",
    "        document_texts.append(clean_abstract)\n",
    "        all_paragraphs.append({\n",
    "            'id': f\"{doc_id}_abstract\",\n",
    "            'document_id': doc_id,\n",
    "            'text': clean_abstract,\n",
    "            'section_id': 'abstract',\n",
    "            'section_title': 'Abstract',\n",
    "            'level': -1  # Special level for abstract\n",
    "        })\n",
    "    \n",
    "    # Process all main sections\n",
    "    for section in content.get('sections', []):\n",
    "        section_content = extract_section_content(section, \"\", 0)\n",
    "        \n",
    "        # Add to document text\n",
    "        document_texts.append(section_content['section_text'])\n",
    "        \n",
    "        # Recursive function to collect all sections at all levels\n",
    "        def collect_sections(section_data):\n",
    "            all_sections.append({\n",
    "                'id': section_data['section_id'],\n",
    "                'document_id': doc_id,\n",
    "                'title': section_data['section_title'],\n",
    "                'text': section_data['section_text'],\n",
    "                'level': section_data['level']\n",
    "            })\n",
    "            for subsection in section_data['subsections']:\n",
    "                collect_sections(subsection)\n",
    "        \n",
    "        collect_sections(section_content)\n",
    "\n",
    "        # Update all paragraphs to include document_id\n",
    "        for paragraph in section_content['all_paragraphs']:\n",
    "            paragraph['document_id'] = doc_id\n",
    "        \n",
    "        # Collect all paragraphs\n",
    "        all_paragraphs.extend(section_content['all_paragraphs'])\n",
    "    \n",
    "    # Combine all text for document level\n",
    "    full_document_text = ' '.join(document_texts)\n",
    "    \n",
    "    # Calculate statistics by level\n",
    "    level_counts = {\n",
    "        'main_sections': len([s for s in all_sections if s['level'] == 0]),\n",
    "        'subsections': len([s for s in all_sections if s['level'] == 1]),\n",
    "        'subsubsections': len([s for s in all_sections if s['level'] == 2])\n",
    "    }\n",
    "    \n",
    "    stats = {\n",
    "        'total_sections': len(all_sections),\n",
    "        'total_paragraphs': len(all_paragraphs),\n",
    "        'document_length': len(full_document_text),\n",
    "        'level_counts': level_counts\n",
    "    }\n",
    "    \n",
    "    print(f\"  ✅ Extracted: {stats['total_sections']} sections, {stats['total_paragraphs']} paragraphs\")\n",
    "    print(f\"  📊 By level: {level_counts['main_sections']} main, {level_counts['subsections']} sub, {level_counts['subsubsections']} subsub\")\n",
    "    \n",
    "    return {\n",
    "        'document_id': doc_id,\n",
    "        'title': title,\n",
    "        'language': language,\n",
    "        'document_text': full_document_text,\n",
    "        'sections': all_sections,\n",
    "        'paragraphs': all_paragraphs,\n",
    "        'statistics': stats\n",
    "    }"
   ]
  },
  {
   "cell_type": "code",
   "execution_count": null,
   "id": "82767bb1",
   "metadata": {},
   "outputs": [
    {
     "name": "stdout",
     "output_type": "stream",
     "text": [
      "🔍 VERIFYING SECTION EXTRACTION (FIXED):\n",
      "============================================================\n",
      "📄 Extracting content from: gai-eng_item001\n",
      "  ✅ Extracted: 22 sections, 70 paragraphs\n",
      "  📊 By level: 7 main, 12 sub, 3 subsub\n",
      "\n",
      "📊 Section Hierarchy:\n",
      "section_1: Introduction (level 0)\n",
      "section_2: Background (level 0)\n",
      "section_3: Model Architecture (level 0)\n",
      "  section_3_1: Encoder and Decoder Stacks (level 1)\n",
      "  section_3_2: Attention (level 1)\n",
      "    section_3_2_1: Scaled Dot-Product Attention (level 2)\n",
      "    section_3_2_2: Multi-Head Attention (level 2)\n",
      "    section_3_2_3: Applications of Attention in our Model (level 2)\n",
      "  section_3_3: Position-wise Feed-Forward Networks (level 1)\n",
      "  section_3_4: Embeddings and Softmax (level 1)\n",
      "  section_3_5: Positional Encoding (level 1)\n",
      "section_4: 4 Why Self-Attention (level 0)\n",
      "section_5: Training (level 0)\n",
      "  section_5_1: Training Data and Batching (level 1)\n",
      "  section_5_2: Hardware and Schedule (level 1)\n",
      "  section_5_3: Optimizer (level 1)\n",
      "  section_5_4: Regularization (level 1)\n",
      "section_6: Results (level 0)\n",
      "  section_6_1: Machine Translation (level 1)\n",
      "  section_6_2: Model Variations (level 1)\n",
      "  section_6_3: English Constituency Parsing (level 1)\n",
      "section_7: 7 Conclusion (level 0)\n",
      "\n",
      "🔍 Section 3 Analysis:\n",
      "  • Section 3 (main): 1\n",
      "  • Section 3 subsections: 5 (expected: 5)\n",
      "    - section_3_1: Encoder and Decoder Stacks (level 1)\n",
      "    - section_3_2: Attention (level 1)\n",
      "    - section_3_3: Position-wise Feed-Forward Networks (level 1)\n",
      "    - section_3_4: Embeddings and Softmax (level 1)\n",
      "    - section_3_5: Positional Encoding (level 1)\n",
      "\n",
      "  • Section 3.2 subsubsections: 3 (expected: 3)\n",
      "    - section_3_2_1: Scaled Dot-Product Attention (level 2)\n",
      "    - section_3_2_2: Multi-Head Attention (level 2)\n",
      "    - section_3_2_3: Applications of Attention in our Model (level 2)\n",
      "\n",
      "📊 Level Distribution:\n",
      "  Level 0: 7 sections\n",
      "  Level 1: 12 sections\n",
      "    - section_3_1\n",
      "    - section_3_2\n",
      "    - section_3_3\n",
      "    - section_3_4\n",
      "    - section_3_5\n",
      "  Level 2: 3 sections\n"
     ]
    }
   ],
   "source": [
    "### STEP 6d: VERIFY EXTRACTION FUNCTIONS\n",
    "\n",
    "def verify_section_extraction(corpus_item):\n",
    "    \"\"\"\n",
    "    Fixed verification of section extraction\n",
    "    \"\"\"\n",
    "    print(\"🔍 VERIFYING SECTION EXTRACTION (FIXED):\")\n",
    "    print(\"=\" * 60)\n",
    "    \n",
    "    extracted = extract_document_content(corpus_item)\n",
    "    \n",
    "    # Show hierarchy\n",
    "    print(\"\\n📊 Section Hierarchy:\")\n",
    "    for section in extracted['sections']:\n",
    "        indent = \"  \" * section['level']\n",
    "        print(f\"{indent}{section['id']}: {section['title']} (level {section['level']})\")\n",
    "    \n",
    "    # Check Section 3 specifically - FIXED FILTERING\n",
    "    print(f\"\\n🔍 Section 3 Analysis:\")\n",
    "    \n",
    "    # Get all sections\n",
    "    all_sections = extracted['sections']\n",
    "    \n",
    "    # Main section 3\n",
    "    section_3_main = [s for s in all_sections if s['id'] == 'section_3']\n",
    "    \n",
    "    # Subsections of section 3 (they should have IDs like section_3_1, section_3_2, etc.)\n",
    "    section_3_subs = [s for s in all_sections if s['id'].startswith('section_3_') and s['id'].count('_') == 2]\n",
    "    \n",
    "    # Subsubsections of section 3.2\n",
    "    section_3_2_subsubs = [s for s in all_sections if s['id'].startswith('section_3_2_') and s['id'].count('_') == 3]\n",
    "    \n",
    "    print(f\"  • Section 3 (main): {len(section_3_main)}\")\n",
    "    print(f\"  • Section 3 subsections: {len(section_3_subs)} (expected: 5)\")\n",
    "    for sub in section_3_subs:\n",
    "        print(f\"    - {sub['id']}: {sub['title']} (level {sub['level']})\")\n",
    "    \n",
    "    print(f\"\\n  • Section 3.2 subsubsections: {len(section_3_2_subsubs)} (expected: 3)\")\n",
    "    for subsub in section_3_2_subsubs:\n",
    "        print(f\"    - {subsub['id']}: {subsub['title']} (level {subsub['level']})\")\n",
    "    \n",
    "    # Additional debugging: Show what levels are actually being assigned\n",
    "    print(f\"\\n📊 Level Distribution:\")\n",
    "    level_distribution = {}\n",
    "    for s in all_sections:\n",
    "        level = s['level']\n",
    "        if level not in level_distribution:\n",
    "            level_distribution[level] = []\n",
    "        level_distribution[level].append(f\"{s['id']}\")\n",
    "    \n",
    "    for level, sections in sorted(level_distribution.items()):\n",
    "        print(f\"  Level {level}: {len(sections)} sections\")\n",
    "        if level == 1:  # Show subsections\n",
    "            for s_id in sections[:5]:  # Show first 5\n",
    "                print(f\"    - {s_id}\")\n",
    "    \n",
    "    return extracted\n",
    "\n",
    "# Run the fixed verification\n",
    "verified_content = verify_section_extraction(corpus_item)"
   ]
  },
  {
   "cell_type": "markdown",
   "id": "e19804be",
   "metadata": {},
   "source": [
    "### STEP 7: CREATE VECTORIZATION FUNCTIONS"
   ]
  },
  {
   "cell_type": "code",
   "execution_count": 12,
   "id": "9bde2c0f",
   "metadata": {},
   "outputs": [],
   "source": [
    "### STEP 7a: FLEXIBLE TEXT EXTRACTION FUNCTIONS\n",
    "### FROM: create_vectors_single.ipynb\n",
    "\n",
    "def create_vectors(extracted_content, model):\n",
    "    \"\"\"\n",
    "    Create vectors at document, section, and paragraph levels\n",
    "    \n",
    "    Args:\n",
    "        extracted_content: Output from extract_document_content()\n",
    "        model: SentenceTransformer model\n",
    "    \n",
    "    Returns:\n",
    "        Dictionary with vectors at all levels\n",
    "    \"\"\"\n",
    "    print(f\"🚀 Creating vectors for: {extracted_content['document_id']}\")\n",
    "    \n",
    "    # Document-level vector\n",
    "    doc_vector = model.encode(extracted_content['document_text'])\n",
    "    \n",
    "    # Section-level vectors\n",
    "    section_vectors = []\n",
    "    for section in extracted_content['sections']:\n",
    "        vector = model.encode(section['text'])\n",
    "        section_vectors.append({\n",
    "            'id': section['id'],\n",
    "            'document_id': section['document_id'],\n",
    "            'title': section['title'],\n",
    "            'level': section['level'],\n",
    "            'vector': vector,\n",
    "            'text': section['text'][:500]  # Store first 500 chars for reference\n",
    "        })\n",
    "    \n",
    "    # Paragraph-level vectors\n",
    "    paragraph_vectors = []\n",
    "    for paragraph in extracted_content['paragraphs']:\n",
    "        vector = model.encode(paragraph['text'])\n",
    "        paragraph_vectors.append({\n",
    "            'id': paragraph['id'],\n",
    "            'document_id': paragraph['document_id'],\n",
    "            'section_id': paragraph['section_id'],\n",
    "            'vector': vector,\n",
    "            'text': paragraph['text'][:300]  # Store first 300 chars for reference\n",
    "        })\n",
    "    \n",
    "    print(f\"  ✅ Created: 1 document vector, {len(section_vectors)} section vectors, {len(paragraph_vectors)} paragraph vectors\")\n",
    "    \n",
    "    return {\n",
    "        'document_id': extracted_content['document_id'],\n",
    "        'language': extracted_content['language'],\n",
    "        'document_vector': {\n",
    "            'id': extracted_content['document_id'],\n",
    "            'title': extracted_content['title'],\n",
    "            'vector': doc_vector,\n",
    "            'text': extracted_content['document_text'][:1000]\n",
    "        },\n",
    "        'section_vectors': section_vectors,\n",
    "        'paragraph_vectors': paragraph_vectors\n",
    "    }"
   ]
  },
  {
   "cell_type": "code",
   "execution_count": 13,
   "id": "40fd9ca0",
   "metadata": {},
   "outputs": [],
   "source": [
    "### STEP 7b: FLEXIBLE TEXT EXTRACTION FUNCTIONS\n",
    "### FROM: create_vectors_single.ipynb\n",
    "\n",
    "def batch_create_vectors(corpus_items, model):\n",
    "    \"\"\"\n",
    "    Process multiple documents and create all vectors\n",
    "    \"\"\"\n",
    "    all_vectors = {\n",
    "        'document_vectors': [],\n",
    "        'section_vectors': [],\n",
    "        'paragraph_vectors': []\n",
    "    }\n",
    "    \n",
    "    for item in corpus_items:\n",
    "        # Extract content\n",
    "        extracted = extract_document_content(item)\n",
    "        \n",
    "        # Create vectors\n",
    "        vectors = create_vectors(extracted, model)\n",
    "        \n",
    "        # Add to collections\n",
    "        all_vectors['document_vectors'].append(vectors['document_vector'])\n",
    "        all_vectors['section_vectors'].extend(vectors['section_vectors'])\n",
    "        all_vectors['paragraph_vectors'].extend(vectors['paragraph_vectors'])\n",
    "    \n",
    "    return all_vectors"
   ]
  },
  {
   "cell_type": "markdown",
   "id": "0e103ea3",
   "metadata": {},
   "source": [
    "## ============================================================================="
   ]
  },
  {
   "cell_type": "markdown",
   "id": "b6d97c2d",
   "metadata": {},
   "source": [
    "## Part 3: Execution and Output"
   ]
  },
  {
   "cell_type": "markdown",
   "id": "547124d2",
   "metadata": {},
   "source": [
    "### STEP 8: PROCESS SINGLE DOCUMENT\n",
    "(Work with one document in this file first to verify everything works)"
   ]
  },
  {
   "cell_type": "code",
   "execution_count": null,
   "id": "f2bda0fd",
   "metadata": {},
   "outputs": [
    {
     "name": "stdout",
     "output_type": "stream",
     "text": [
      "📄 Extracting content from: gai-eng_item001\n",
      "  ✅ Extracted: 22 sections, 70 paragraphs\n",
      "  📊 By level: 7 main, 12 sub, 3 subsub\n",
      "🔍 DEBUG - First paragraph keys:\n",
      "Keys: ['id', 'document_id', 'text', 'section_id', 'section_title', 'level']\n",
      "Sample paragraph: {'id': 'gai-eng_item001_abstract', 'document_id': 'gai-eng_item001', 'text': 'The dominant sequence transduction models are based on complex recurrent or convolutional neural networks that include an encoder and a decoder. The best performing models also connect the encoder and decoder through an attention mechanism. We propose a new simple network architecture, the Transformer, based solely on attention mechanisms, dispensing with recurrence and convolutions entirely. Experiments on two machine translation tasks show these models to be superior in quality while being more parallelizable and requiring significantly less time to train. Our model achieves 28.4 BLEU on the WMT 2014 English-to-German translation task, improving over the existing best results, including ensembles, by over 2 BLEU. On the WMT 2014 English-to-French translation task, our model establishes a new single-model state-of-the-art BLEU score of 41.8 after training for 3.5 days on eight GPUs, a small fraction of the training costs of the best models from the literature. We show that the Transformer generalizes well to other tasks by applying it successfully to English constituency parsing both with large and limited training data.', 'section_id': 'abstract', 'section_title': 'Abstract', 'level': -1}\n"
     ]
    }
   ],
   "source": [
    "# DEBUG: Check what's in the paragraphs\n",
    "extracted = extract_document_content(corpus_item)\n",
    "print(\"🔍 DEBUG - First paragraph keys:\")\n",
    "if extracted['paragraphs']:\n",
    "    print(f\"Keys: {list(extracted['paragraphs'][0].keys())}\")\n",
    "    print(f\"Sample paragraph: {extracted['paragraphs'][0]}\")"
   ]
  },
  {
   "cell_type": "code",
   "execution_count": null,
   "id": "70d933d1",
   "metadata": {},
   "outputs": [
    {
     "name": "stdout",
     "output_type": "stream",
     "text": [
      "🧪 TESTING VECTOR CREATION:\n",
      "============================================================\n",
      "📄 Extracting content from: gai-eng_item001\n",
      "  ✅ Extracted: 22 sections, 70 paragraphs\n",
      "  📊 By level: 7 main, 12 sub, 3 subsub\n",
      "🚀 Creating vectors for: gai-eng_item001\n"
     ]
    },
    {
     "data": {
      "application/vnd.jupyter.widget-view+json": {
       "model_id": "6cfff1866d844a8bb7bd41c9d4d8030b",
       "version_major": 2,
       "version_minor": 0
      },
      "text/plain": [
       "Batches:   0%|          | 0/1 [00:00<?, ?it/s]"
      ]
     },
     "metadata": {},
     "output_type": "display_data"
    },
    {
     "data": {
      "application/vnd.jupyter.widget-view+json": {
       "model_id": "def993483f8e4528987feaa8c5732ccd",
       "version_major": 2,
       "version_minor": 0
      },
      "text/plain": [
       "Batches:   0%|          | 0/1 [00:00<?, ?it/s]"
      ]
     },
     "metadata": {},
     "output_type": "display_data"
    },
    {
     "data": {
      "application/vnd.jupyter.widget-view+json": {
       "model_id": "dce548007cb54f44975348b7b1e01495",
       "version_major": 2,
       "version_minor": 0
      },
      "text/plain": [
       "Batches:   0%|          | 0/1 [00:00<?, ?it/s]"
      ]
     },
     "metadata": {},
     "output_type": "display_data"
    },
    {
     "data": {
      "application/vnd.jupyter.widget-view+json": {
       "model_id": "868e10c3ea1b4145ac7e7de351433546",
       "version_major": 2,
       "version_minor": 0
      },
      "text/plain": [
       "Batches:   0%|          | 0/1 [00:00<?, ?it/s]"
      ]
     },
     "metadata": {},
     "output_type": "display_data"
    },
    {
     "data": {
      "application/vnd.jupyter.widget-view+json": {
       "model_id": "c474777802234323b2c14ca7bc3ca531",
       "version_major": 2,
       "version_minor": 0
      },
      "text/plain": [
       "Batches:   0%|          | 0/1 [00:00<?, ?it/s]"
      ]
     },
     "metadata": {},
     "output_type": "display_data"
    },
    {
     "data": {
      "application/vnd.jupyter.widget-view+json": {
       "model_id": "de2f0d8a0721401ebee1870e7ad9a2ec",
       "version_major": 2,
       "version_minor": 0
      },
      "text/plain": [
       "Batches:   0%|          | 0/1 [00:00<?, ?it/s]"
      ]
     },
     "metadata": {},
     "output_type": "display_data"
    },
    {
     "data": {
      "application/vnd.jupyter.widget-view+json": {
       "model_id": "9a06489c047c48f49e154da83f07166a",
       "version_major": 2,
       "version_minor": 0
      },
      "text/plain": [
       "Batches:   0%|          | 0/1 [00:00<?, ?it/s]"
      ]
     },
     "metadata": {},
     "output_type": "display_data"
    },
    {
     "data": {
      "application/vnd.jupyter.widget-view+json": {
       "model_id": "460bf068e755457a8e1ea689b4aac73b",
       "version_major": 2,
       "version_minor": 0
      },
      "text/plain": [
       "Batches:   0%|          | 0/1 [00:00<?, ?it/s]"
      ]
     },
     "metadata": {},
     "output_type": "display_data"
    },
    {
     "data": {
      "application/vnd.jupyter.widget-view+json": {
       "model_id": "6ec73f1a15284aa7bf12056cb409d72e",
       "version_major": 2,
       "version_minor": 0
      },
      "text/plain": [
       "Batches:   0%|          | 0/1 [00:00<?, ?it/s]"
      ]
     },
     "metadata": {},
     "output_type": "display_data"
    },
    {
     "data": {
      "application/vnd.jupyter.widget-view+json": {
       "model_id": "f56b49db7e0040658970e6b7b75a410f",
       "version_major": 2,
       "version_minor": 0
      },
      "text/plain": [
       "Batches:   0%|          | 0/1 [00:00<?, ?it/s]"
      ]
     },
     "metadata": {},
     "output_type": "display_data"
    },
    {
     "data": {
      "application/vnd.jupyter.widget-view+json": {
       "model_id": "c00442cb4efa4a439bfbd4475cdff859",
       "version_major": 2,
       "version_minor": 0
      },
      "text/plain": [
       "Batches:   0%|          | 0/1 [00:00<?, ?it/s]"
      ]
     },
     "metadata": {},
     "output_type": "display_data"
    },
    {
     "data": {
      "application/vnd.jupyter.widget-view+json": {
       "model_id": "ca7c8554ef164dee9ab296ee78681b9d",
       "version_major": 2,
       "version_minor": 0
      },
      "text/plain": [
       "Batches:   0%|          | 0/1 [00:00<?, ?it/s]"
      ]
     },
     "metadata": {},
     "output_type": "display_data"
    },
    {
     "data": {
      "application/vnd.jupyter.widget-view+json": {
       "model_id": "9e0136c85c9d4d41a93517c09a226f57",
       "version_major": 2,
       "version_minor": 0
      },
      "text/plain": [
       "Batches:   0%|          | 0/1 [00:00<?, ?it/s]"
      ]
     },
     "metadata": {},
     "output_type": "display_data"
    },
    {
     "data": {
      "application/vnd.jupyter.widget-view+json": {
       "model_id": "3e45086fcf254425924acb2089d556f3",
       "version_major": 2,
       "version_minor": 0
      },
      "text/plain": [
       "Batches:   0%|          | 0/1 [00:00<?, ?it/s]"
      ]
     },
     "metadata": {},
     "output_type": "display_data"
    },
    {
     "data": {
      "application/vnd.jupyter.widget-view+json": {
       "model_id": "4f7eed746f43420aae208953a4f8d3b4",
       "version_major": 2,
       "version_minor": 0
      },
      "text/plain": [
       "Batches:   0%|          | 0/1 [00:00<?, ?it/s]"
      ]
     },
     "metadata": {},
     "output_type": "display_data"
    },
    {
     "data": {
      "application/vnd.jupyter.widget-view+json": {
       "model_id": "f831653d8423422b9704e37ab937790d",
       "version_major": 2,
       "version_minor": 0
      },
      "text/plain": [
       "Batches:   0%|          | 0/1 [00:00<?, ?it/s]"
      ]
     },
     "metadata": {},
     "output_type": "display_data"
    },
    {
     "data": {
      "application/vnd.jupyter.widget-view+json": {
       "model_id": "399bd0ce704f4bf089b6e46802f2576d",
       "version_major": 2,
       "version_minor": 0
      },
      "text/plain": [
       "Batches:   0%|          | 0/1 [00:00<?, ?it/s]"
      ]
     },
     "metadata": {},
     "output_type": "display_data"
    },
    {
     "data": {
      "application/vnd.jupyter.widget-view+json": {
       "model_id": "edaba5418fce4366bc3a712cd2867aa3",
       "version_major": 2,
       "version_minor": 0
      },
      "text/plain": [
       "Batches:   0%|          | 0/1 [00:00<?, ?it/s]"
      ]
     },
     "metadata": {},
     "output_type": "display_data"
    },
    {
     "data": {
      "application/vnd.jupyter.widget-view+json": {
       "model_id": "1a159ce2f52b41ddbafdfb2c8083a10a",
       "version_major": 2,
       "version_minor": 0
      },
      "text/plain": [
       "Batches:   0%|          | 0/1 [00:00<?, ?it/s]"
      ]
     },
     "metadata": {},
     "output_type": "display_data"
    },
    {
     "data": {
      "application/vnd.jupyter.widget-view+json": {
       "model_id": "3914713607de4757a74764f200af3a9a",
       "version_major": 2,
       "version_minor": 0
      },
      "text/plain": [
       "Batches:   0%|          | 0/1 [00:00<?, ?it/s]"
      ]
     },
     "metadata": {},
     "output_type": "display_data"
    },
    {
     "data": {
      "application/vnd.jupyter.widget-view+json": {
       "model_id": "a0ddb94c9aad4e1b82af460c2f7237f9",
       "version_major": 2,
       "version_minor": 0
      },
      "text/plain": [
       "Batches:   0%|          | 0/1 [00:00<?, ?it/s]"
      ]
     },
     "metadata": {},
     "output_type": "display_data"
    },
    {
     "data": {
      "application/vnd.jupyter.widget-view+json": {
       "model_id": "5d04370226b6440c8f23cb77aa1818f6",
       "version_major": 2,
       "version_minor": 0
      },
      "text/plain": [
       "Batches:   0%|          | 0/1 [00:00<?, ?it/s]"
      ]
     },
     "metadata": {},
     "output_type": "display_data"
    },
    {
     "data": {
      "application/vnd.jupyter.widget-view+json": {
       "model_id": "9d69f1646a214d05b001c9d3a2827e53",
       "version_major": 2,
       "version_minor": 0
      },
      "text/plain": [
       "Batches:   0%|          | 0/1 [00:00<?, ?it/s]"
      ]
     },
     "metadata": {},
     "output_type": "display_data"
    },
    {
     "data": {
      "application/vnd.jupyter.widget-view+json": {
       "model_id": "cdccbcdcf1a94510abed493ce8f3ad30",
       "version_major": 2,
       "version_minor": 0
      },
      "text/plain": [
       "Batches:   0%|          | 0/1 [00:00<?, ?it/s]"
      ]
     },
     "metadata": {},
     "output_type": "display_data"
    },
    {
     "data": {
      "application/vnd.jupyter.widget-view+json": {
       "model_id": "d4fcdb55f2b44f70b80c6c8782b47ab2",
       "version_major": 2,
       "version_minor": 0
      },
      "text/plain": [
       "Batches:   0%|          | 0/1 [00:00<?, ?it/s]"
      ]
     },
     "metadata": {},
     "output_type": "display_data"
    },
    {
     "data": {
      "application/vnd.jupyter.widget-view+json": {
       "model_id": "f1bafc8c2ad349c980ae9ba048eb2c4b",
       "version_major": 2,
       "version_minor": 0
      },
      "text/plain": [
       "Batches:   0%|          | 0/1 [00:00<?, ?it/s]"
      ]
     },
     "metadata": {},
     "output_type": "display_data"
    },
    {
     "data": {
      "application/vnd.jupyter.widget-view+json": {
       "model_id": "55fbc92f26214c579f49cf9a34803c12",
       "version_major": 2,
       "version_minor": 0
      },
      "text/plain": [
       "Batches:   0%|          | 0/1 [00:00<?, ?it/s]"
      ]
     },
     "metadata": {},
     "output_type": "display_data"
    },
    {
     "data": {
      "application/vnd.jupyter.widget-view+json": {
       "model_id": "b539586bd1ac4f8592513d420d4e6c6a",
       "version_major": 2,
       "version_minor": 0
      },
      "text/plain": [
       "Batches:   0%|          | 0/1 [00:00<?, ?it/s]"
      ]
     },
     "metadata": {},
     "output_type": "display_data"
    },
    {
     "data": {
      "application/vnd.jupyter.widget-view+json": {
       "model_id": "712cef7e68444b6ca28bd6ef637146b1",
       "version_major": 2,
       "version_minor": 0
      },
      "text/plain": [
       "Batches:   0%|          | 0/1 [00:00<?, ?it/s]"
      ]
     },
     "metadata": {},
     "output_type": "display_data"
    },
    {
     "data": {
      "application/vnd.jupyter.widget-view+json": {
       "model_id": "034a613e696c4f6bacd77783c1d79128",
       "version_major": 2,
       "version_minor": 0
      },
      "text/plain": [
       "Batches:   0%|          | 0/1 [00:00<?, ?it/s]"
      ]
     },
     "metadata": {},
     "output_type": "display_data"
    },
    {
     "data": {
      "application/vnd.jupyter.widget-view+json": {
       "model_id": "243b562e20424127a62747fdbbbc7918",
       "version_major": 2,
       "version_minor": 0
      },
      "text/plain": [
       "Batches:   0%|          | 0/1 [00:00<?, ?it/s]"
      ]
     },
     "metadata": {},
     "output_type": "display_data"
    },
    {
     "data": {
      "application/vnd.jupyter.widget-view+json": {
       "model_id": "72f18ccb83f04c40b3d02de9d5be44a1",
       "version_major": 2,
       "version_minor": 0
      },
      "text/plain": [
       "Batches:   0%|          | 0/1 [00:00<?, ?it/s]"
      ]
     },
     "metadata": {},
     "output_type": "display_data"
    },
    {
     "data": {
      "application/vnd.jupyter.widget-view+json": {
       "model_id": "454d01ecd316446388957622e7816a91",
       "version_major": 2,
       "version_minor": 0
      },
      "text/plain": [
       "Batches:   0%|          | 0/1 [00:00<?, ?it/s]"
      ]
     },
     "metadata": {},
     "output_type": "display_data"
    },
    {
     "data": {
      "application/vnd.jupyter.widget-view+json": {
       "model_id": "dacc9d928b824522bdcf87aac2c5e6a3",
       "version_major": 2,
       "version_minor": 0
      },
      "text/plain": [
       "Batches:   0%|          | 0/1 [00:00<?, ?it/s]"
      ]
     },
     "metadata": {},
     "output_type": "display_data"
    },
    {
     "data": {
      "application/vnd.jupyter.widget-view+json": {
       "model_id": "723fadd2a3aa4cd08b3c436a5934d871",
       "version_major": 2,
       "version_minor": 0
      },
      "text/plain": [
       "Batches:   0%|          | 0/1 [00:00<?, ?it/s]"
      ]
     },
     "metadata": {},
     "output_type": "display_data"
    },
    {
     "data": {
      "application/vnd.jupyter.widget-view+json": {
       "model_id": "334ba6e7e43d41eba9313319a673a988",
       "version_major": 2,
       "version_minor": 0
      },
      "text/plain": [
       "Batches:   0%|          | 0/1 [00:00<?, ?it/s]"
      ]
     },
     "metadata": {},
     "output_type": "display_data"
    },
    {
     "data": {
      "application/vnd.jupyter.widget-view+json": {
       "model_id": "d997ec50ec7c430e89f92e590af62023",
       "version_major": 2,
       "version_minor": 0
      },
      "text/plain": [
       "Batches:   0%|          | 0/1 [00:00<?, ?it/s]"
      ]
     },
     "metadata": {},
     "output_type": "display_data"
    },
    {
     "data": {
      "application/vnd.jupyter.widget-view+json": {
       "model_id": "568161e0a3e84d48a6d0569d30458359",
       "version_major": 2,
       "version_minor": 0
      },
      "text/plain": [
       "Batches:   0%|          | 0/1 [00:00<?, ?it/s]"
      ]
     },
     "metadata": {},
     "output_type": "display_data"
    },
    {
     "data": {
      "application/vnd.jupyter.widget-view+json": {
       "model_id": "662a663fddc1417b8e2b4bf773844ef0",
       "version_major": 2,
       "version_minor": 0
      },
      "text/plain": [
       "Batches:   0%|          | 0/1 [00:00<?, ?it/s]"
      ]
     },
     "metadata": {},
     "output_type": "display_data"
    },
    {
     "data": {
      "application/vnd.jupyter.widget-view+json": {
       "model_id": "f55890c5b09e414e9a5e7046c1b6747e",
       "version_major": 2,
       "version_minor": 0
      },
      "text/plain": [
       "Batches:   0%|          | 0/1 [00:00<?, ?it/s]"
      ]
     },
     "metadata": {},
     "output_type": "display_data"
    },
    {
     "data": {
      "application/vnd.jupyter.widget-view+json": {
       "model_id": "4d677c1a11d547099df15022a8fc6521",
       "version_major": 2,
       "version_minor": 0
      },
      "text/plain": [
       "Batches:   0%|          | 0/1 [00:00<?, ?it/s]"
      ]
     },
     "metadata": {},
     "output_type": "display_data"
    },
    {
     "data": {
      "application/vnd.jupyter.widget-view+json": {
       "model_id": "8d07390f2444441c9dfa82cb5e442add",
       "version_major": 2,
       "version_minor": 0
      },
      "text/plain": [
       "Batches:   0%|          | 0/1 [00:00<?, ?it/s]"
      ]
     },
     "metadata": {},
     "output_type": "display_data"
    },
    {
     "data": {
      "application/vnd.jupyter.widget-view+json": {
       "model_id": "80e5880509cd48dbb85f5d87a9f11fa0",
       "version_major": 2,
       "version_minor": 0
      },
      "text/plain": [
       "Batches:   0%|          | 0/1 [00:00<?, ?it/s]"
      ]
     },
     "metadata": {},
     "output_type": "display_data"
    },
    {
     "data": {
      "application/vnd.jupyter.widget-view+json": {
       "model_id": "bc0f2f997d65438aa026590cd6d045a3",
       "version_major": 2,
       "version_minor": 0
      },
      "text/plain": [
       "Batches:   0%|          | 0/1 [00:00<?, ?it/s]"
      ]
     },
     "metadata": {},
     "output_type": "display_data"
    },
    {
     "data": {
      "application/vnd.jupyter.widget-view+json": {
       "model_id": "426d0f287d3742399ebe7209825a9297",
       "version_major": 2,
       "version_minor": 0
      },
      "text/plain": [
       "Batches:   0%|          | 0/1 [00:00<?, ?it/s]"
      ]
     },
     "metadata": {},
     "output_type": "display_data"
    },
    {
     "data": {
      "application/vnd.jupyter.widget-view+json": {
       "model_id": "c58c2f3d4fea47df9ce49691a0521452",
       "version_major": 2,
       "version_minor": 0
      },
      "text/plain": [
       "Batches:   0%|          | 0/1 [00:00<?, ?it/s]"
      ]
     },
     "metadata": {},
     "output_type": "display_data"
    },
    {
     "data": {
      "application/vnd.jupyter.widget-view+json": {
       "model_id": "4102640b16dc48d0b59c0dc9c7dc7d55",
       "version_major": 2,
       "version_minor": 0
      },
      "text/plain": [
       "Batches:   0%|          | 0/1 [00:00<?, ?it/s]"
      ]
     },
     "metadata": {},
     "output_type": "display_data"
    },
    {
     "data": {
      "application/vnd.jupyter.widget-view+json": {
       "model_id": "2f2845a7093645a58d583c6194114520",
       "version_major": 2,
       "version_minor": 0
      },
      "text/plain": [
       "Batches:   0%|          | 0/1 [00:00<?, ?it/s]"
      ]
     },
     "metadata": {},
     "output_type": "display_data"
    },
    {
     "data": {
      "application/vnd.jupyter.widget-view+json": {
       "model_id": "03f7e7711bc547fc9dbb6e6ccf8cdce9",
       "version_major": 2,
       "version_minor": 0
      },
      "text/plain": [
       "Batches:   0%|          | 0/1 [00:00<?, ?it/s]"
      ]
     },
     "metadata": {},
     "output_type": "display_data"
    },
    {
     "data": {
      "application/vnd.jupyter.widget-view+json": {
       "model_id": "366a065ce40a49159e5322207e91f32e",
       "version_major": 2,
       "version_minor": 0
      },
      "text/plain": [
       "Batches:   0%|          | 0/1 [00:00<?, ?it/s]"
      ]
     },
     "metadata": {},
     "output_type": "display_data"
    },
    {
     "data": {
      "application/vnd.jupyter.widget-view+json": {
       "model_id": "1acf92c0fa124750b11a691509e53026",
       "version_major": 2,
       "version_minor": 0
      },
      "text/plain": [
       "Batches:   0%|          | 0/1 [00:00<?, ?it/s]"
      ]
     },
     "metadata": {},
     "output_type": "display_data"
    },
    {
     "data": {
      "application/vnd.jupyter.widget-view+json": {
       "model_id": "1d5315b253a349d98bc23aaea77b0636",
       "version_major": 2,
       "version_minor": 0
      },
      "text/plain": [
       "Batches:   0%|          | 0/1 [00:00<?, ?it/s]"
      ]
     },
     "metadata": {},
     "output_type": "display_data"
    },
    {
     "data": {
      "application/vnd.jupyter.widget-view+json": {
       "model_id": "478abead5d8349409051e1959373a748",
       "version_major": 2,
       "version_minor": 0
      },
      "text/plain": [
       "Batches:   0%|          | 0/1 [00:00<?, ?it/s]"
      ]
     },
     "metadata": {},
     "output_type": "display_data"
    },
    {
     "data": {
      "application/vnd.jupyter.widget-view+json": {
       "model_id": "2c2e945642c740aebfc32b27c5484c6e",
       "version_major": 2,
       "version_minor": 0
      },
      "text/plain": [
       "Batches:   0%|          | 0/1 [00:00<?, ?it/s]"
      ]
     },
     "metadata": {},
     "output_type": "display_data"
    },
    {
     "data": {
      "application/vnd.jupyter.widget-view+json": {
       "model_id": "18fcf523b02c47ee8ba3d5dc98c93a5f",
       "version_major": 2,
       "version_minor": 0
      },
      "text/plain": [
       "Batches:   0%|          | 0/1 [00:00<?, ?it/s]"
      ]
     },
     "metadata": {},
     "output_type": "display_data"
    },
    {
     "data": {
      "application/vnd.jupyter.widget-view+json": {
       "model_id": "c5a9b88a8dea4c4d95ac928cd187eaa8",
       "version_major": 2,
       "version_minor": 0
      },
      "text/plain": [
       "Batches:   0%|          | 0/1 [00:00<?, ?it/s]"
      ]
     },
     "metadata": {},
     "output_type": "display_data"
    },
    {
     "data": {
      "application/vnd.jupyter.widget-view+json": {
       "model_id": "7e3ae47464ee4c62b5fc08743acc34e9",
       "version_major": 2,
       "version_minor": 0
      },
      "text/plain": [
       "Batches:   0%|          | 0/1 [00:00<?, ?it/s]"
      ]
     },
     "metadata": {},
     "output_type": "display_data"
    },
    {
     "data": {
      "application/vnd.jupyter.widget-view+json": {
       "model_id": "8009fd4a6ace4a1cad26b3b33c1d01e4",
       "version_major": 2,
       "version_minor": 0
      },
      "text/plain": [
       "Batches:   0%|          | 0/1 [00:00<?, ?it/s]"
      ]
     },
     "metadata": {},
     "output_type": "display_data"
    },
    {
     "data": {
      "application/vnd.jupyter.widget-view+json": {
       "model_id": "583093bc2b0e4abc8a2bec2ee3124d1f",
       "version_major": 2,
       "version_minor": 0
      },
      "text/plain": [
       "Batches:   0%|          | 0/1 [00:00<?, ?it/s]"
      ]
     },
     "metadata": {},
     "output_type": "display_data"
    },
    {
     "data": {
      "application/vnd.jupyter.widget-view+json": {
       "model_id": "6b7012cccfe441e9981879ed73472266",
       "version_major": 2,
       "version_minor": 0
      },
      "text/plain": [
       "Batches:   0%|          | 0/1 [00:00<?, ?it/s]"
      ]
     },
     "metadata": {},
     "output_type": "display_data"
    },
    {
     "data": {
      "application/vnd.jupyter.widget-view+json": {
       "model_id": "926c0d0be5a44cc9945e1445f7d71ce0",
       "version_major": 2,
       "version_minor": 0
      },
      "text/plain": [
       "Batches:   0%|          | 0/1 [00:00<?, ?it/s]"
      ]
     },
     "metadata": {},
     "output_type": "display_data"
    },
    {
     "data": {
      "application/vnd.jupyter.widget-view+json": {
       "model_id": "69feafa1521d431ebe03be5896a5efa4",
       "version_major": 2,
       "version_minor": 0
      },
      "text/plain": [
       "Batches:   0%|          | 0/1 [00:00<?, ?it/s]"
      ]
     },
     "metadata": {},
     "output_type": "display_data"
    },
    {
     "data": {
      "application/vnd.jupyter.widget-view+json": {
       "model_id": "5fd059441c3d497c92cb536ce9ff36aa",
       "version_major": 2,
       "version_minor": 0
      },
      "text/plain": [
       "Batches:   0%|          | 0/1 [00:00<?, ?it/s]"
      ]
     },
     "metadata": {},
     "output_type": "display_data"
    },
    {
     "data": {
      "application/vnd.jupyter.widget-view+json": {
       "model_id": "42dcd9bf0a49467d8825602861d7833c",
       "version_major": 2,
       "version_minor": 0
      },
      "text/plain": [
       "Batches:   0%|          | 0/1 [00:00<?, ?it/s]"
      ]
     },
     "metadata": {},
     "output_type": "display_data"
    },
    {
     "data": {
      "application/vnd.jupyter.widget-view+json": {
       "model_id": "57938912c0224c2285b9a46433b094a0",
       "version_major": 2,
       "version_minor": 0
      },
      "text/plain": [
       "Batches:   0%|          | 0/1 [00:00<?, ?it/s]"
      ]
     },
     "metadata": {},
     "output_type": "display_data"
    },
    {
     "data": {
      "application/vnd.jupyter.widget-view+json": {
       "model_id": "5da3c726ffe847cd916cecf0015338ad",
       "version_major": 2,
       "version_minor": 0
      },
      "text/plain": [
       "Batches:   0%|          | 0/1 [00:00<?, ?it/s]"
      ]
     },
     "metadata": {},
     "output_type": "display_data"
    },
    {
     "data": {
      "application/vnd.jupyter.widget-view+json": {
       "model_id": "bd8c9da284ed4abdac0b0f1f9eb35c8e",
       "version_major": 2,
       "version_minor": 0
      },
      "text/plain": [
       "Batches:   0%|          | 0/1 [00:00<?, ?it/s]"
      ]
     },
     "metadata": {},
     "output_type": "display_data"
    },
    {
     "data": {
      "application/vnd.jupyter.widget-view+json": {
       "model_id": "ccdb829133af4419bbdfa41865bc16c5",
       "version_major": 2,
       "version_minor": 0
      },
      "text/plain": [
       "Batches:   0%|          | 0/1 [00:00<?, ?it/s]"
      ]
     },
     "metadata": {},
     "output_type": "display_data"
    },
    {
     "data": {
      "application/vnd.jupyter.widget-view+json": {
       "model_id": "acc9f5578c984b70aa99503acff09115",
       "version_major": 2,
       "version_minor": 0
      },
      "text/plain": [
       "Batches:   0%|          | 0/1 [00:00<?, ?it/s]"
      ]
     },
     "metadata": {},
     "output_type": "display_data"
    },
    {
     "data": {
      "application/vnd.jupyter.widget-view+json": {
       "model_id": "28fa00ce828d46fc865b3a4c7adc7f92",
       "version_major": 2,
       "version_minor": 0
      },
      "text/plain": [
       "Batches:   0%|          | 0/1 [00:00<?, ?it/s]"
      ]
     },
     "metadata": {},
     "output_type": "display_data"
    },
    {
     "data": {
      "application/vnd.jupyter.widget-view+json": {
       "model_id": "644fc8a44e6c4b62a64552bd5cb779da",
       "version_major": 2,
       "version_minor": 0
      },
      "text/plain": [
       "Batches:   0%|          | 0/1 [00:00<?, ?it/s]"
      ]
     },
     "metadata": {},
     "output_type": "display_data"
    },
    {
     "data": {
      "application/vnd.jupyter.widget-view+json": {
       "model_id": "27f70104c4954c25b025ccd66b0adcb9",
       "version_major": 2,
       "version_minor": 0
      },
      "text/plain": [
       "Batches:   0%|          | 0/1 [00:00<?, ?it/s]"
      ]
     },
     "metadata": {},
     "output_type": "display_data"
    },
    {
     "data": {
      "application/vnd.jupyter.widget-view+json": {
       "model_id": "3e7f8aed908f450b95ea4b7a7db4c1ba",
       "version_major": 2,
       "version_minor": 0
      },
      "text/plain": [
       "Batches:   0%|          | 0/1 [00:00<?, ?it/s]"
      ]
     },
     "metadata": {},
     "output_type": "display_data"
    },
    {
     "data": {
      "application/vnd.jupyter.widget-view+json": {
       "model_id": "f841d036c88e419ca4d00c49dc87a888",
       "version_major": 2,
       "version_minor": 0
      },
      "text/plain": [
       "Batches:   0%|          | 0/1 [00:00<?, ?it/s]"
      ]
     },
     "metadata": {},
     "output_type": "display_data"
    },
    {
     "data": {
      "application/vnd.jupyter.widget-view+json": {
       "model_id": "06c059d7c5ed43ffa5238b90aae09e50",
       "version_major": 2,
       "version_minor": 0
      },
      "text/plain": [
       "Batches:   0%|          | 0/1 [00:00<?, ?it/s]"
      ]
     },
     "metadata": {},
     "output_type": "display_data"
    },
    {
     "data": {
      "application/vnd.jupyter.widget-view+json": {
       "model_id": "4c5bfa738e37499b891738785b5f5f00",
       "version_major": 2,
       "version_minor": 0
      },
      "text/plain": [
       "Batches:   0%|          | 0/1 [00:00<?, ?it/s]"
      ]
     },
     "metadata": {},
     "output_type": "display_data"
    },
    {
     "data": {
      "application/vnd.jupyter.widget-view+json": {
       "model_id": "98e0eca5168b4e7ab18bcc16ac406c8c",
       "version_major": 2,
       "version_minor": 0
      },
      "text/plain": [
       "Batches:   0%|          | 0/1 [00:00<?, ?it/s]"
      ]
     },
     "metadata": {},
     "output_type": "display_data"
    },
    {
     "data": {
      "application/vnd.jupyter.widget-view+json": {
       "model_id": "9001873a9f0249d08bcb24d604b0abe3",
       "version_major": 2,
       "version_minor": 0
      },
      "text/plain": [
       "Batches:   0%|          | 0/1 [00:00<?, ?it/s]"
      ]
     },
     "metadata": {},
     "output_type": "display_data"
    },
    {
     "data": {
      "application/vnd.jupyter.widget-view+json": {
       "model_id": "d6847110317646a2ac5b141e7bc02b22",
       "version_major": 2,
       "version_minor": 0
      },
      "text/plain": [
       "Batches:   0%|          | 0/1 [00:00<?, ?it/s]"
      ]
     },
     "metadata": {},
     "output_type": "display_data"
    },
    {
     "data": {
      "application/vnd.jupyter.widget-view+json": {
       "model_id": "fb7cd4802038439a92ba73b13b7d95b3",
       "version_major": 2,
       "version_minor": 0
      },
      "text/plain": [
       "Batches:   0%|          | 0/1 [00:00<?, ?it/s]"
      ]
     },
     "metadata": {},
     "output_type": "display_data"
    },
    {
     "data": {
      "application/vnd.jupyter.widget-view+json": {
       "model_id": "c287c626d8cf4894ab52a45d75475095",
       "version_major": 2,
       "version_minor": 0
      },
      "text/plain": [
       "Batches:   0%|          | 0/1 [00:00<?, ?it/s]"
      ]
     },
     "metadata": {},
     "output_type": "display_data"
    },
    {
     "data": {
      "application/vnd.jupyter.widget-view+json": {
       "model_id": "f80a77ece20b4fafbe9e0546e888e1c9",
       "version_major": 2,
       "version_minor": 0
      },
      "text/plain": [
       "Batches:   0%|          | 0/1 [00:00<?, ?it/s]"
      ]
     },
     "metadata": {},
     "output_type": "display_data"
    },
    {
     "data": {
      "application/vnd.jupyter.widget-view+json": {
       "model_id": "2c8a88c550814846bb3af865411fe53f",
       "version_major": 2,
       "version_minor": 0
      },
      "text/plain": [
       "Batches:   0%|          | 0/1 [00:00<?, ?it/s]"
      ]
     },
     "metadata": {},
     "output_type": "display_data"
    },
    {
     "data": {
      "application/vnd.jupyter.widget-view+json": {
       "model_id": "f370e951a82a4142ad52007a383ee351",
       "version_major": 2,
       "version_minor": 0
      },
      "text/plain": [
       "Batches:   0%|          | 0/1 [00:00<?, ?it/s]"
      ]
     },
     "metadata": {},
     "output_type": "display_data"
    },
    {
     "data": {
      "application/vnd.jupyter.widget-view+json": {
       "model_id": "ccf90b5acd884444b5632938a9c668c3",
       "version_major": 2,
       "version_minor": 0
      },
      "text/plain": [
       "Batches:   0%|          | 0/1 [00:00<?, ?it/s]"
      ]
     },
     "metadata": {},
     "output_type": "display_data"
    },
    {
     "data": {
      "application/vnd.jupyter.widget-view+json": {
       "model_id": "a508d38372164b07bdb0d8db2e4b766e",
       "version_major": 2,
       "version_minor": 0
      },
      "text/plain": [
       "Batches:   0%|          | 0/1 [00:00<?, ?it/s]"
      ]
     },
     "metadata": {},
     "output_type": "display_data"
    },
    {
     "data": {
      "application/vnd.jupyter.widget-view+json": {
       "model_id": "e58883afcb264d79b7c290aaf8eeb095",
       "version_major": 2,
       "version_minor": 0
      },
      "text/plain": [
       "Batches:   0%|          | 0/1 [00:00<?, ?it/s]"
      ]
     },
     "metadata": {},
     "output_type": "display_data"
    },
    {
     "data": {
      "application/vnd.jupyter.widget-view+json": {
       "model_id": "a0f4e3e4dc9640cf92f6e65fffae5134",
       "version_major": 2,
       "version_minor": 0
      },
      "text/plain": [
       "Batches:   0%|          | 0/1 [00:00<?, ?it/s]"
      ]
     },
     "metadata": {},
     "output_type": "display_data"
    },
    {
     "data": {
      "application/vnd.jupyter.widget-view+json": {
       "model_id": "064110b249294b0ebdc650f1d2cbc869",
       "version_major": 2,
       "version_minor": 0
      },
      "text/plain": [
       "Batches:   0%|          | 0/1 [00:00<?, ?it/s]"
      ]
     },
     "metadata": {},
     "output_type": "display_data"
    },
    {
     "data": {
      "application/vnd.jupyter.widget-view+json": {
       "model_id": "79c4a29a6acd4f7695c0f1462b2089cd",
       "version_major": 2,
       "version_minor": 0
      },
      "text/plain": [
       "Batches:   0%|          | 0/1 [00:00<?, ?it/s]"
      ]
     },
     "metadata": {},
     "output_type": "display_data"
    },
    {
     "data": {
      "application/vnd.jupyter.widget-view+json": {
       "model_id": "6ff159025af74161b28382a0a1a0e80c",
       "version_major": 2,
       "version_minor": 0
      },
      "text/plain": [
       "Batches:   0%|          | 0/1 [00:00<?, ?it/s]"
      ]
     },
     "metadata": {},
     "output_type": "display_data"
    },
    {
     "data": {
      "application/vnd.jupyter.widget-view+json": {
       "model_id": "2e6d89a6ba01486481289b3b9ef388e3",
       "version_major": 2,
       "version_minor": 0
      },
      "text/plain": [
       "Batches:   0%|          | 0/1 [00:00<?, ?it/s]"
      ]
     },
     "metadata": {},
     "output_type": "display_data"
    },
    {
     "data": {
      "application/vnd.jupyter.widget-view+json": {
       "model_id": "4ccab1725bc84e709e5b340517551347",
       "version_major": 2,
       "version_minor": 0
      },
      "text/plain": [
       "Batches:   0%|          | 0/1 [00:00<?, ?it/s]"
      ]
     },
     "metadata": {},
     "output_type": "display_data"
    },
    {
     "name": "stdout",
     "output_type": "stream",
     "text": [
      "  ✅ Created: 1 document vector, 22 section vectors, 70 paragraph vectors\n",
      "\n",
      "📊 Vector Shapes:\n",
      "  • Document vector: (384,)\n",
      "  • Section vectors: 22 vectors of shape (384,)\n",
      "  • Paragraph vectors: 70 vectors of shape (384,)\n",
      "\n",
      "🔍 Testing Similarity:\n",
      "Similarity between 'Introduction' and 'Background': 0.701\n"
     ]
    }
   ],
   "source": [
    "### STEP 8a: PROCESS SINGLE DOCUMENT - CREATE VECTORS\n",
    "\n",
    "# TEST: Create vectors for our single document\n",
    "print(\"🧪 TESTING VECTOR CREATION:\")\n",
    "print(\"=\" * 60)\n",
    "\n",
    "# Extract content\n",
    "extracted = extract_document_content(corpus_item)\n",
    "\n",
    "# Create vectors\n",
    "vectors = create_vectors(extracted, model)\n",
    "\n",
    "# Show sample results\n",
    "print(f\"\\n📊 Vector Shapes:\")\n",
    "print(f\"  • Document vector: {vectors['document_vector']['vector'].shape}\")\n",
    "print(f\"  • Section vectors: {len(vectors['section_vectors'])} vectors of shape {vectors['section_vectors'][0]['vector'].shape}\")\n",
    "print(f\"  • Paragraph vectors: {len(vectors['paragraph_vectors'])} vectors of shape {vectors['paragraph_vectors'][0]['vector'].shape}\")\n",
    "\n",
    "# Quick similarity test\n",
    "print(f\"\\n🔍 Testing Similarity:\")\n",
    "# Compare first two sections\n",
    "if len(vectors['section_vectors']) >= 2:\n",
    "    sim = cosine_similarity(\n",
    "        vectors['section_vectors'][0]['vector'].reshape(1, -1),\n",
    "        vectors['section_vectors'][1]['vector'].reshape(1, -1)\n",
    "    )[0][0]\n",
    "    print(f\"Similarity between '{vectors['section_vectors'][0]['title']}' and '{vectors['section_vectors'][1]['title']}': {sim:.3f}\")"
   ]
  },
  {
   "cell_type": "code",
   "execution_count": null,
   "id": "d7444ebb",
   "metadata": {},
   "outputs": [
    {
     "name": "stdout",
     "output_type": "stream",
     "text": [
      "📊 VECTOR HIERARCHY:\n",
      "============================================================\n",
      "\n",
      "🔷 DOCUMENT LEVEL:\n",
      "  gai-eng_item001: \"Attention is All You Need\"\n",
      "  → Vector shape: (384,)\n",
      "  → Text length: 1000 chars (preview)\n",
      "\n",
      "🔶 SECTION LEVEL VECTORS:\n",
      "\n",
      "  Level 0 - Main Sections:\n",
      "    section_1: Introduction\n",
      "    → Vector shape: (384,)\n",
      "    section_2: Background\n",
      "    → Vector shape: (384,)\n",
      "    section_3: Model Architecture\n",
      "    → Vector shape: (384,)\n",
      "    section_4: 4 Why Self-Attention\n",
      "    → Vector shape: (384,)\n",
      "    section_5: Training\n",
      "    → Vector shape: (384,)\n",
      "    section_6: Results\n",
      "    → Vector shape: (384,)\n",
      "    section_7: 7 Conclusion\n",
      "    → Vector shape: (384,)\n",
      "\n",
      "  Level 1 - Subsections:\n",
      "        section_3_1: Encoder and Decoder Stacks\n",
      "        → Vector shape: (384,)\n",
      "        section_3_2: Attention\n",
      "        → Vector shape: (384,)\n",
      "        section_3_3: Position-wise Feed-Forward Networks\n",
      "        → Vector shape: (384,)\n",
      "        section_3_4: Embeddings and Softmax\n",
      "        → Vector shape: (384,)\n",
      "        section_3_5: Positional Encoding\n",
      "        → Vector shape: (384,)\n",
      "        section_5_1: Training Data and Batching\n",
      "        → Vector shape: (384,)\n",
      "        section_5_2: Hardware and Schedule\n",
      "        → Vector shape: (384,)\n",
      "        section_5_3: Optimizer\n",
      "        → Vector shape: (384,)\n",
      "        section_5_4: Regularization\n",
      "        → Vector shape: (384,)\n",
      "        section_6_1: Machine Translation\n",
      "        → Vector shape: (384,)\n",
      "        section_6_2: Model Variations\n",
      "        → Vector shape: (384,)\n",
      "        section_6_3: English Constituency Parsing\n",
      "        → Vector shape: (384,)\n",
      "\n",
      "  Level 2 - Subsubsections:\n",
      "            section_3_2_1: Scaled Dot-Product Attention\n",
      "            → Vector shape: (384,)\n",
      "            section_3_2_2: Multi-Head Attention\n",
      "            → Vector shape: (384,)\n",
      "            section_3_2_3: Applications of Attention in our Model\n",
      "            → Vector shape: (384,)\n",
      "\n",
      "🔸 PARAGRAPH LEVEL:\n",
      "  Total paragraph vectors: 70\n",
      "\n",
      "  Paragraphs per section:\n",
      "    abstract: 1 paragraphs\n",
      "    section_1: 4 paragraphs\n",
      "    section_2: 4 paragraphs\n",
      "    section_3: 2 paragraphs\n",
      "    section_3_1: 2 paragraphs\n",
      "    ... and 17 more sections\n"
     ]
    }
   ],
   "source": [
    "### STEP 8b: PROCESS SINGLE DOCUMENT - VISUALZE VECTORS\n",
    "\n",
    "def visualize_vector_hierarchy(vectors):\n",
    "    \"\"\"\n",
    "    Show the hierarchy of vectors created\n",
    "    \"\"\"\n",
    "    print(\"📊 VECTOR HIERARCHY:\")\n",
    "    print(\"=\" * 60)\n",
    "    \n",
    "    # Group by level\n",
    "    levels = {}\n",
    "    for sv in vectors['section_vectors']:\n",
    "        level = sv['level']\n",
    "        if level not in levels:\n",
    "            levels[level] = []\n",
    "        levels[level].append(sv)\n",
    "    \n",
    "    # Display by level\n",
    "    print(\"\\n🔷 DOCUMENT LEVEL:\")\n",
    "    doc = vectors['document_vector']\n",
    "    print(f\"  {doc['id']}: \\\"{doc['title']}\\\"\")\n",
    "    print(f\"  → Vector shape: {doc['vector'].shape}\")\n",
    "    print(f\"  → Text length: {len(doc['text'])} chars (preview)\")\n",
    "    \n",
    "    print(\"\\n🔶 SECTION LEVEL VECTORS:\")\n",
    "    for level in sorted(levels.keys()):\n",
    "        level_name = ['Main Sections', 'Subsections', 'Subsubsections'][level]\n",
    "        print(f\"\\n  Level {level} - {level_name}:\")\n",
    "        for section in levels[level]:\n",
    "            indent = \"    \" * (level + 1)\n",
    "            print(f\"{indent}{section['id']}: {section['title']}\")\n",
    "            print(f\"{indent}→ Vector shape: {section['vector'].shape}\")\n",
    "    \n",
    "    print(f\"\\n🔸 PARAGRAPH LEVEL:\")\n",
    "    print(f\"  Total paragraph vectors: {len(vectors['paragraph_vectors'])}\")\n",
    "    \n",
    "    # Show paragraph distribution by section\n",
    "    para_by_section = {}\n",
    "    for p in vectors['paragraph_vectors']:\n",
    "        section = p['section_id']\n",
    "        if section not in para_by_section:\n",
    "            para_by_section[section] = 0\n",
    "        para_by_section[section] += 1\n",
    "    \n",
    "    print(\"\\n  Paragraphs per section:\")\n",
    "    for section, count in sorted(para_by_section.items())[:5]:  # Show first 5\n",
    "        print(f\"    {section}: {count} paragraphs\")\n",
    "    print(f\"    ... and {len(para_by_section) - 5} more sections\")\n",
    "\n",
    "# Run the visualization\n",
    "visualize_vector_hierarchy(vectors)"
   ]
  },
  {
   "cell_type": "code",
   "execution_count": null,
   "id": "161eac6f",
   "metadata": {},
   "outputs": [
    {
     "name": "stdout",
     "output_type": "stream",
     "text": [
      "💾 SAVING VECTORS TO JSON FILES:\n",
      "============================================================\n",
      "💾 SAVING VECTORS WITH STANDARDIZED SCHEMA:\n",
      "============================================================\n",
      "💾 Saved 1 document vectors to ../vectors/gai\\gai-document-vectors.json\n",
      "💾 Saved 22 section vectors to ../vectors/gai\\gai-section-vectors.json\n",
      "💾 Saved 70 paragraph vectors to ../vectors/gai\\gai-paragraph-vectors.json\n",
      "\n",
      "✅ All vectors saved to: ../vectors/gai\n",
      "Schema-compliant files created:\n",
      "  • gai-document-vectors.json\n",
      "  • gai-section-vectors.json\n",
      "  • gai-paragraph-vectors.json\n",
      "\n",
      "✅ Vectors saved to: ../vectors/gai\n",
      "Check your vectors/gai folder for:\n",
      "  • gai-document-vectors.json\n",
      "  • gai-section-vectors.json\n",
      "  • gai-paragraph-vectors.json\n"
     ]
    }
   ],
   "source": [
    "### STEP 8c: PROCESS SINGLE DOCUMENT - SAVE VECTORS\n",
    "\n",
    "# SAVE THE VECTORS TO JSON\n",
    "print(\"💾 SAVING VECTORS TO JSON FILES:\")\n",
    "print(\"=\" * 60)\n",
    "\n",
    "output_dir = '../vectors/gai'\n",
    "\n",
    "# Method 1: Use the convenience function\n",
    "save_all_vectors_with_schema(\n",
    "    vectors=vectors,\n",
    "    extracted_content=extracted,\n",
    "    model=model,\n",
    "    output_dir=output_dir\n",
    ")\n",
    "\n",
    "# Method 2: Save each type individually (if you need more control)\n",
    "# Uncomment this section if you want to save each type separately:\n",
    "\n",
    "\"\"\"\n",
    "# Ensure output directory exists\n",
    "os.makedirs(output_dir, exist_ok=True)\n",
    "\n",
    "# Save document vectors\n",
    "document_vectors_data = [{\n",
    "    'id': vectors['document_id'],\n",
    "    'title': extracted['title'],\n",
    "    'vector': vectors['document_vector']['vector'],\n",
    "    'text': extracted['document_text']\n",
    "}]\n",
    "\n",
    "save_document_vectors_json(\n",
    "    vectors_data=document_vectors_data,\n",
    "    filename=os.path.join(output_dir, 'gai-document-vectors.json'),\n",
    "    model=model\n",
    ")\n",
    "\n",
    "# Save section vectors\n",
    "section_vectors_data = []\n",
    "for section_vec in vectors['section_vectors']:\n",
    "    section_vectors_data.append({\n",
    "        'id': section_vec['id'],\n",
    "        'document_id': section_vec['document_id'],\n",
    "        'title': section_vec['title'],\n",
    "        'level': section_vec['level'],\n",
    "        'vector': section_vec['vector'],\n",
    "        'text': section_vec['text']\n",
    "    })\n",
    "\n",
    "save_section_vectors_json(\n",
    "    vectors_data=section_vectors_data,\n",
    "    filename=os.path.join(output_dir, 'gai-section-vectors.json'),\n",
    "    model=model\n",
    ")\n",
    "\n",
    "# Save paragraph vectors\n",
    "paragraph_vectors_data = []\n",
    "for para_vec in vectors['paragraph_vectors']:\n",
    "    paragraph_vectors_data.append({\n",
    "        'id': para_vec['id'],\n",
    "        'document_id': para_vec['document_id'],\n",
    "        'vector': para_vec['vector'],\n",
    "        'text': para_vec['text']\n",
    "    })\n",
    "\n",
    "save_paragraph_vectors_json(\n",
    "    vectors_data=paragraph_vectors_data,\n",
    "    filename=os.path.join(output_dir, 'gai-paragraph-vectors.json'),\n",
    "    model=model\n",
    ")\n",
    "\"\"\"\n",
    "\n",
    "print(f\"\\n✅ Vectors saved to: {output_dir}\")\n",
    "print(\"Check your vectors/gai folder for:\")\n",
    "print(\"  • gai-document-vectors.json\")\n",
    "print(\"  • gai-section-vectors.json\") \n",
    "print(\"  • gai-paragraph-vectors.json\")"
   ]
  },
  {
   "cell_type": "code",
   "execution_count": null,
   "id": "9205d532",
   "metadata": {},
   "outputs": [
    {
     "name": "stdout",
     "output_type": "stream",
     "text": [
      "\n",
      "🔍 VALIDATING VECTOR FILE SCHEMAS:\n",
      "============================================================\n",
      "  ✅ gai-document-vectors.json:\n",
      "      📏 Size: 12.3 KB\n",
      "      🔢 Vectors: 1\n",
      "      📋 Status: Schema validation passed for document vectors\n",
      "\n",
      "  ✅ gai-section-vectors.json:\n",
      "      📏 Size: 267.3 KB\n",
      "      🔢 Vectors: 22\n",
      "      📋 Status: Schema validation passed for section vectors\n",
      "\n",
      "  ✅ gai-paragraph-vectors.json:\n",
      "      📏 Size: 828.5 KB\n",
      "      🔢 Vectors: 70\n",
      "      📋 Status: Schema validation passed for paragraph vectors\n",
      "\n",
      "📊 SUMMARY:\n",
      "  • Total vectors created: 93\n",
      "  • All files follow standardized schema: ✅\n",
      "\n",
      "🔍 SAMPLE VECTOR INSPECTION:\n",
      "============================================================\n",
      "\n",
      "📋 Document Vectors (showing first 2):\n",
      "  1. ID: gai-eng_item001\n",
      "     Title: Attention is All You Need\n",
      "     Vector dim: 384\n",
      "     Text preview: Attention is All You Need The dominant sequence transduction models are based on complex recurrent o...\n",
      "\n",
      "\n",
      "📋 Section Vectors (showing first 2):\n",
      "  1. ID: section_1\n",
      "     Title: Introduction\n",
      "     Document: gai-eng_item001\n",
      "     Level: 0\n",
      "     Vector dim: 384\n",
      "     Text preview: Introduction Recurrent neural networks, long short-term memory [13] and gated recurrent [7] neural n...\n",
      "\n",
      "  2. ID: section_2\n",
      "     Title: Background\n",
      "     Document: gai-eng_item001\n",
      "     Level: 0\n",
      "     Vector dim: 384\n",
      "     Text preview: Background The goal of reducing sequential computation also forms the foundation of the Extended Neu...\n",
      "\n",
      "\n",
      "📋 Paragraph Vectors (showing first 2):\n",
      "  1. ID: gai-eng_item001_abstract\n",
      "     Document: gai-eng_item001\n",
      "     Vector dim: 384\n",
      "     Text preview: The dominant sequence transduction models are based on complex recurrent or convolutional neural net...\n",
      "\n",
      "  2. ID: p1_1\n",
      "     Document: gai-eng_item001\n",
      "     Vector dim: 384\n",
      "     Text preview: Recurrent neural networks, long short-term memory [13] and gated recurrent [7] neural networks in pa...\n",
      "\n"
     ]
    }
   ],
   "source": [
    "### STEP 8d: VERIFY SAVED VECTORS WITH SCHEMA VALIDATION\n",
    "\n",
    "def validate_vector_schema(filepath, expected_type):\n",
    "    \"\"\"\n",
    "    Validate that a vector file follows the expected schema\n",
    "    \n",
    "    Args:\n",
    "        filepath: Path to the JSON file\n",
    "        expected_type: 'document', 'section', or 'paragraph'\n",
    "    \"\"\"\n",
    "    \n",
    "    try:\n",
    "        with open(filepath, 'r', encoding='utf-8') as f:\n",
    "            data = json.load(f)\n",
    "        \n",
    "        # Check top-level structure\n",
    "        required_keys = ['metadata', 'vectors']\n",
    "        for key in required_keys:\n",
    "            if key not in data:\n",
    "                return False, f\"Missing required key: {key}\"\n",
    "        \n",
    "        # Check metadata structure\n",
    "        metadata = data['metadata']\n",
    "        if 'model' not in metadata or 'dimension' not in metadata:\n",
    "            return False, \"Invalid metadata structure\"\n",
    "        \n",
    "        # Check vectors structure\n",
    "        if not isinstance(data['vectors'], list) or len(data['vectors']) == 0:\n",
    "            return False, \"Vectors should be a non-empty list\"\n",
    "        \n",
    "        # Check first vector structure\n",
    "        first_vector = data['vectors'][0]\n",
    "        required_vector_keys = ['id', 'count', 'created', 'vector', 'text']\n",
    "        \n",
    "        if expected_type == 'document':\n",
    "            required_vector_keys.append('title')\n",
    "        elif expected_type == 'section':\n",
    "            required_vector_keys.extend(['document_id', 'title', 'level'])\n",
    "        elif expected_type == 'paragraph':\n",
    "            required_vector_keys.append('document_id')\n",
    "        \n",
    "        for key in required_vector_keys:\n",
    "            if key not in first_vector:\n",
    "                return False, f\"Missing required vector key: {key}\"\n",
    "        \n",
    "        # Check vector dimensions\n",
    "        vector_length = len(first_vector['vector'])\n",
    "        expected_dim = metadata['dimension']\n",
    "        if vector_length != expected_dim:\n",
    "            return False, f\"Vector dimension mismatch: got {vector_length}, expected {expected_dim}\"\n",
    "        \n",
    "        return True, f\"Schema validation passed for {expected_type} vectors\"\n",
    "        \n",
    "    except Exception as e:\n",
    "        return False, f\"Error reading file: {str(e)}\"\n",
    "\n",
    "def validate_all_vector_files(output_dir):\n",
    "    \"\"\"Validate all three vector files and show detailed info\"\"\"\n",
    "    \n",
    "    print(\"\\n🔍 VALIDATING VECTOR FILE SCHEMAS:\")\n",
    "    print(\"=\" * 60)\n",
    "    \n",
    "    files_to_validate = [\n",
    "        ('gai-document-vectors.json', 'document'),\n",
    "        ('gai-section-vectors.json', 'section'),\n",
    "        ('gai-paragraph-vectors.json', 'paragraph')\n",
    "    ]\n",
    "    \n",
    "    total_vectors = 0\n",
    "    \n",
    "    for filename, vector_type in files_to_validate:\n",
    "        filepath = os.path.join(output_dir, filename)\n",
    "        \n",
    "        if os.path.exists(filepath):\n",
    "            # Get file size\n",
    "            size = os.path.getsize(filepath) / 1024  # Size in KB\n",
    "            \n",
    "            # Validate schema\n",
    "            is_valid, message = validate_vector_schema(filepath, vector_type)\n",
    "            status = \"✅\" if is_valid else \"❌\"\n",
    "            \n",
    "            # Count vectors if valid\n",
    "            vector_count = 0\n",
    "            if is_valid:\n",
    "                try:\n",
    "                    with open(filepath, 'r', encoding='utf-8') as f:\n",
    "                        data = json.load(f)\n",
    "                        vector_count = len(data['vectors'])\n",
    "                        total_vectors += vector_count\n",
    "                except:\n",
    "                    pass\n",
    "            \n",
    "            print(f\"  {status} {filename}:\")\n",
    "            print(f\"      📏 Size: {size:.1f} KB\")\n",
    "            print(f\"      🔢 Vectors: {vector_count}\")\n",
    "            print(f\"      📋 Status: {message}\")\n",
    "            \n",
    "        else:\n",
    "            print(f\"  ❌ {filename}: File not found\")\n",
    "        \n",
    "        print()  # Empty line between files\n",
    "    \n",
    "    print(f\"📊 SUMMARY:\")\n",
    "    print(f\"  • Total vectors created: {total_vectors}\")\n",
    "    print(f\"  • All files follow standardized schema: {'✅' if total_vectors > 0 else '❌'}\")\n",
    "\n",
    "# Run validation\n",
    "validate_all_vector_files(output_dir)\n",
    "\n",
    "# Optional: Load and inspect first few vectors from each file\n",
    "def inspect_sample_vectors(output_dir, sample_size=2):\n",
    "    \"\"\"Show sample vectors from each file for inspection\"\"\"\n",
    "    \n",
    "    print(f\"\\n🔍 SAMPLE VECTOR INSPECTION:\")\n",
    "    print(\"=\" * 60)\n",
    "    \n",
    "    files_to_inspect = [\n",
    "        ('gai-document-vectors.json', 'Document'),\n",
    "        ('gai-section-vectors.json', 'Section'),\n",
    "        ('gai-paragraph-vectors.json', 'Paragraph')\n",
    "    ]\n",
    "    \n",
    "    for filename, vector_type in files_to_inspect:\n",
    "        filepath = os.path.join(output_dir, filename)\n",
    "        \n",
    "        if os.path.exists(filepath):\n",
    "            try:\n",
    "                with open(filepath, 'r', encoding='utf-8') as f:\n",
    "                    data = json.load(f)\n",
    "                \n",
    "                print(f\"\\n📋 {vector_type} Vectors (showing first {sample_size}):\")\n",
    "                vectors = data['vectors'][:sample_size]\n",
    "                \n",
    "                for i, vector in enumerate(vectors, 1):\n",
    "                    print(f\"  {i}. ID: {vector['id']}\")\n",
    "                    if 'title' in vector:\n",
    "                        print(f\"     Title: {vector['title'][:50]}{'...' if len(vector['title']) > 50 else ''}\")\n",
    "                    if 'document_id' in vector and vector['document_id'] != vector['id']:\n",
    "                        print(f\"     Document: {vector['document_id']}\")\n",
    "                    if 'level' in vector:\n",
    "                        print(f\"     Level: {vector['level']}\")\n",
    "                    print(f\"     Vector dim: {len(vector['vector'])}\")\n",
    "                    print(f\"     Text preview: {vector['text'][:100]}{'...' if len(vector['text']) > 100 else ''}\")\n",
    "                    print()\n",
    "                    \n",
    "            except Exception as e:\n",
    "                print(f\"  ❌ Error inspecting {filename}: {e}\")\n",
    "\n",
    "# Uncomment to run sample inspection\n",
    "inspect_sample_vectors(output_dir)"
   ]
  },
  {
   "cell_type": "markdown",
   "id": "3687f5f7",
   "metadata": {},
   "source": [
    "### STEP 9: VISUALIZE TEST VECTORS\n",
    "Use PCA to reduce dimensions and create a 2D/3D plot showing how vectors cluster"
   ]
  },
  {
   "cell_type": "code",
   "execution_count": null,
   "id": "6cc1dbdd",
   "metadata": {},
   "outputs": [
    {
     "name": "stdout",
     "output_type": "stream",
     "text": [
      "🎨 PREPARING VECTORS FOR VISUALIZATION:\n",
      "============================================================\n",
      "Total vectors to visualize: 43\n"
     ]
    }
   ],
   "source": [
    "### STEP 9a: VISUALIZE TEST VECTORS - PREPARE VECTORS\n",
    "\n",
    "# Prepare vectors for visualization\n",
    "print(\"🎨 PREPARING VECTORS FOR VISUALIZATION:\")\n",
    "print(\"=\" * 60)\n",
    "\n",
    "# Collect all vectors and labels\n",
    "all_vectors = []\n",
    "all_labels = []\n",
    "all_types = []\n",
    "\n",
    "# Add document vector\n",
    "all_vectors.append(vectors['document_vector']['vector'])\n",
    "all_labels.append(f\"DOC: {vectors['document_vector']['title'][:30]}...\")\n",
    "all_types.append('document')\n",
    "\n",
    "# Add section vectors\n",
    "for sv in vectors['section_vectors']:\n",
    "    all_vectors.append(sv['vector'])\n",
    "    level_prefix = ['SEC', 'SUB', 'SUBSUB'][sv['level']]\n",
    "    all_labels.append(f\"{level_prefix}: {sv['title'][:25]}...\")\n",
    "    all_types.append(f'section_L{sv[\"level\"]}')\n",
    "\n",
    "# Add some paragraph vectors (first 20 to avoid clutter)\n",
    "for pv in vectors['paragraph_vectors'][:20]:\n",
    "    all_vectors.append(pv['vector'])\n",
    "    all_labels.append(f\"PARA: {pv['text'][:20]}...\")\n",
    "    all_types.append('paragraph')\n",
    "\n",
    "# Convert to numpy array\n",
    "all_vectors_np = np.array(all_vectors)\n",
    "print(f\"Total vectors to visualize: {len(all_vectors_np)}\")"
   ]
  },
  {
   "cell_type": "code",
   "execution_count": null,
   "id": "3012cbca",
   "metadata": {},
   "outputs": [
    {
     "data": {
      "image/png": "[encoded data removed]",
      "text/plain": [
       "<Figure size 1400x1000 with 1 Axes>"
      ]
     },
     "metadata": {},
     "output_type": "display_data"
    },
    {
     "name": "stdout",
     "output_type": "stream",
     "text": [
      "Explained variance ratio: [0.20268025 0.11784332]\n",
      "Total variance explained: 32.05%\n"
     ]
    }
   ],
   "source": [
    "### STEP 9b: VISUALIZE TEST VECTORS - 2D VISUALIZATIONS\n",
    "\n",
    "# Create 2D visualization\n",
    "from sklearn.decomposition import PCA\n",
    "import matplotlib.pyplot as plt\n",
    "\n",
    "# Reduce to 2D\n",
    "pca_2d = PCA(n_components=2)\n",
    "vectors_2d = pca_2d.fit_transform(all_vectors_np)\n",
    "\n",
    "# Create figure\n",
    "plt.figure(figsize=(14, 10))\n",
    "\n",
    "# Define colors and sizes\n",
    "type_colors = {\n",
    "    'document': 'darkblue',\n",
    "    'section_L0': 'green',\n",
    "    'section_L1': 'lightgreen',\n",
    "    'section_L2': 'yellowgreen',\n",
    "    'paragraph': 'coral'\n",
    "}\n",
    "type_sizes = {\n",
    "    'document': 500,\n",
    "    'section_L0': 300,\n",
    "    'section_L1': 200,\n",
    "    'section_L2': 150,\n",
    "    'paragraph': 50\n",
    "}\n",
    "\n",
    "# Plot each type\n",
    "for t in type_colors.keys():\n",
    "    mask = [all_types[i] == t for i in range(len(all_types))]\n",
    "    if any(mask):\n",
    "        plt.scatter(\n",
    "            vectors_2d[mask, 0],\n",
    "            vectors_2d[mask, 1],\n",
    "            c=type_colors[t],\n",
    "            s=type_sizes[t],\n",
    "            alpha=0.7,\n",
    "            label=t.replace('_', ' ').title()\n",
    "        )\n",
    "\n",
    "# Add labels for document and main sections\n",
    "for i, (label, type_) in enumerate(zip(all_labels, all_types)):\n",
    "    if type_ in ['document', 'section_L0']:\n",
    "        plt.annotate(label, \n",
    "                    (vectors_2d[i, 0], vectors_2d[i, 1]),\n",
    "                    fontsize=8,\n",
    "                    alpha=0.7)\n",
    "\n",
    "plt.xlabel('First Principal Component')\n",
    "plt.ylabel('Second Principal Component')\n",
    "plt.title('Document Vector Space Visualization (2D PCA)')\n",
    "plt.legend()\n",
    "plt.grid(True, alpha=0.3)\n",
    "plt.tight_layout()\n",
    "plt.show()\n",
    "\n",
    "print(f\"Explained variance ratio: {pca_2d.explained_variance_ratio_}\")\n",
    "print(f\"Total variance explained: {sum(pca_2d.explained_variance_ratio_):.2%}\")"
   ]
  },
  {
   "cell_type": "code",
   "execution_count": null,
   "id": "31228394",
   "metadata": {},
   "outputs": [
    {
     "data": {
      "image/png": "[encoded data removed]",
      "text/plain": [
       "<Figure size 1200x1000 with 1 Axes>"
      ]
     },
     "metadata": {},
     "output_type": "display_data"
    },
    {
     "name": "stdout",
     "output_type": "stream",
     "text": [
      "3D Explained variance ratio: [0.20268025 0.11784332 0.0947157 ]\n",
      "3D Total variance explained: 41.52%\n"
     ]
    }
   ],
   "source": [
    "### STEP 9c: VISUALIZE TEST VECTORS - 3D VISUALIZATION\n",
    "\n",
    "# Create 3D visualization\n",
    "from mpl_toolkits.mplot3d import Axes3D\n",
    "\n",
    "# Reduce to 3D\n",
    "pca_3d = PCA(n_components=3)\n",
    "vectors_3d = pca_3d.fit_transform(all_vectors_np)\n",
    "\n",
    "# Create 3D plot\n",
    "fig = plt.figure(figsize=(12, 10))\n",
    "ax = fig.add_subplot(111, projection='3d')\n",
    "\n",
    "# Plot each type\n",
    "for t in type_colors.keys():\n",
    "    mask = [all_types[i] == t for i in range(len(all_types))]\n",
    "    if any(mask):\n",
    "        ax.scatter(\n",
    "            vectors_3d[mask, 0],\n",
    "            vectors_3d[mask, 1],\n",
    "            vectors_3d[mask, 2],\n",
    "            c=type_colors[t],\n",
    "            s=type_sizes[t],\n",
    "            alpha=0.7,\n",
    "            label=t.replace('_', ' ').title()\n",
    "        )\n",
    "\n",
    "ax.set_xlabel('PC1')\n",
    "ax.set_ylabel('PC2')\n",
    "ax.set_zlabel('PC3')\n",
    "ax.set_title('Document Vector Space Visualization (3D PCA)')\n",
    "ax.legend()\n",
    "\n",
    "plt.show()\n",
    "\n",
    "print(f\"3D Explained variance ratio: {pca_3d.explained_variance_ratio_}\")\n",
    "print(f\"3D Total variance explained: {sum(pca_3d.explained_variance_ratio_):.2%}\")"
   ]
  },
  {
   "cell_type": "code",
   "execution_count": null,
   "id": "ca32ee61",
   "metadata": {},
   "outputs": [
    {
     "name": "stdout",
     "output_type": "stream",
     "text": [
      "\n",
      "🔍 ANALYZING SEMANTIC CLUSTERING:\n",
      "============================================================\n",
      "\n",
      "Vectors most similar to the document vector:\n",
      "  PARA: The dominant sequenc...: 0.950\n",
      "  SEC: 7 Conclusion...: 0.711\n",
      "  SEC: Model Architecture...: 0.686\n",
      "  PARA: Most competitive neu...: 0.676\n",
      "  PARA: Attention mechanisms...: 0.667\n",
      "\n",
      "Main section similarities:\n",
      "  SEC: Introduction... ↔ SEC: Background...: 0.701\n",
      "  SEC: Background... ↔ SEC: Model Architecture...: 0.565\n",
      "  SEC: Model Architecture... ↔ SEC: 4 Why Self-Attention...: 0.528\n"
     ]
    }
   ],
   "source": [
    "### STEP 9d: VISUALIZE TEST VECTORS - SEMANTIC CLUSTERING\n",
    "\n",
    "# Analyze semantic clustering\n",
    "print(\"\\n🔍 ANALYZING SEMANTIC CLUSTERING:\")\n",
    "print(\"=\" * 60)\n",
    "\n",
    "# Find closest vectors to the document vector\n",
    "doc_vec = vectors['document_vector']['vector']\n",
    "similarities = cosine_similarity([doc_vec], all_vectors_np)[0]\n",
    "\n",
    "# Sort by similarity\n",
    "sorted_indices = np.argsort(similarities)[::-1]\n",
    "\n",
    "print(\"\\nVectors most similar to the document vector:\")\n",
    "for i in sorted_indices[1:6]:  # Skip first (itself)\n",
    "    print(f\"  {all_labels[i]}: {similarities[i]:.3f}\")\n",
    "\n",
    "# Check if main sections cluster together\n",
    "print(\"\\nMain section similarities:\")\n",
    "main_sections = [(i, l) for i, (l, t) in enumerate(zip(all_labels, all_types)) if t == 'section_L0']\n",
    "for i, (idx1, label1) in enumerate(main_sections[:3]):\n",
    "    for idx2, label2 in main_sections[i+1:i+2]:\n",
    "        sim = cosine_similarity([all_vectors_np[idx1]], [all_vectors_np[idx2]])[0][0]\n",
    "        print(f\"  {label1} ↔ {label2}: {sim:.3f}\")"
   ]
  }
 ],
 "metadata": {
  "kernelspec": {
   "display_name": "Python 3",
   "language": "python",
   "name": "python3"
  },
  "language_info": {
   "codemirror_mode": {
    "name": "ipython",
    "version": 3
   },
   "file_extension": ".py",
   "mimetype": "text/x-python",
   "name": "python",
   "nbconvert_exporter": "python",
   "pygments_lexer": "ipython3",
   "version": "3.12.6"
  }
 },
 "nbformat": 4,
 "nbformat_minor": 5
}
