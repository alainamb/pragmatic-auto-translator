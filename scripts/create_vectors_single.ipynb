{
 "cells": [
  {
   "cell_type": "markdown",
   "id": "4ea7b227",
   "metadata": {},
   "source": [
    "# CORPUS-INFORMED AUTO-TRANSLATOR: VECTOR CREATION NOTEBOOK\n",
    "Day 3: Converting JSON Document into Semantic Vectors\n",
    "(Creating vectors from a single corpus item)"
   ]
  },
  {
   "cell_type": "markdown",
   "id": "d34d5253",
   "metadata": {},
   "source": [
    "## Notebook Outline\n",
    "\n",
    "**Part 1: Data Preparation and Planning**\n",
    "\n",
    "- STEP 1: LOAD THE REQUIRED LIBRARIES\n",
    "- STEP 2: LOAD AND EXAMINE DATABASE STRUCTURE\n",
    "- STEP 3: LOAD AND EXAMINE INDIVIDUAL CORPUS ITEM\n",
    "\n",
    "**Part 2: Function and Model Setup**\n",
    "\n",
    "- STEP 4: INITIALIZE THE MULTILINGUAL EMBEDDING MODEL (WITH DEMONSTRATION)\n",
    "- STEP 5: PREPARE THE VECTOR STORAGE STRUCTURE (SCHEMA COMPLIANT)\n",
    "- STEP 6: DEFINE TEXT EXTRACTION FUNCTIONS\n",
    "- STEP 7: CREATE VECTORIZATION FUNCTIONS\n",
    "\n",
    "**Part 3: Execution and Output**\n",
    "- STEP 8: BATCH PROCESS DOCUMENTS\n",
    "- STEP 9: VISUALIZE THE VECTORS"
   ]
  },
  {
   "cell_type": "markdown",
   "id": "50b92867",
   "metadata": {},
   "source": [
    "## ============================================================================="
   ]
  },
  {
   "cell_type": "markdown",
   "id": "772dc31f",
   "metadata": {},
   "source": [
    "## Part 1: Data Preparation and Planning"
   ]
  },
  {
   "cell_type": "markdown",
   "id": "6cfc5ebe",
   "metadata": {},
   "source": [
    "### STEP 1: LOAD THE REQUIRED LIBRARIES"
   ]
  },
  {
   "cell_type": "code",
   "execution_count": null,
   "id": "1e9d5911",
   "metadata": {},
   "outputs": [
    {
     "name": "stdout",
     "output_type": "stream",
     "text": [
      "✅ All libraries loaded successfully!\n",
      "\n",
      "============================================================\n",
      "🔧 CURRENT CONFIGURATION SETTINGS\n",
      "============================================================\n",
      "Domain: gai\n",
      "Languages: eng, esp\n",
      "Model: distiluse-base-multilingual-cased-v2\n",
      "Max text length: 8,000 characters\n",
      "Create document vectors: True\n",
      "Create section vectors: True\n",
      "Create paragraph vectors: True\n"
     ]
    }
   ],
   "source": [
    "### STEP 1: LOAD THE REQUIRED LIBRARIES\n",
    "\n",
    "# Core Python libraries\n",
    "import os\n",
    "import json\n",
    "from pathlib import Path\n",
    "import logging\n",
    "from typing import Dict, List, Tuple, Optional\n",
    "from datetime import datetime\n",
    "\n",
    "# Data processing libraries\n",
    "import pandas as pd\n",
    "import numpy as np\n",
    "\n",
    "# Text processing libraries\n",
    "import re\n",
    "from collections import defaultdict\n",
    "\n",
    "# Machine learning and embedding libraries\n",
    "from sentence_transformers import SentenceTransformer\n",
    "from sklearn.decomposition import PCA\n",
    "from sklearn.metrics.pairwise import cosine_similarity\n",
    "\n",
    "# Progress tracking (helpful for long processing times)\n",
    "from tqdm.notebook import tqdm\n",
    "\n",
    "# Visualization libraries (for testing our vectors)\n",
    "import matplotlib.pyplot as plt\n",
    "import seaborn as sns\n",
    "\n",
    "# Configuration management\n",
    "import sys\n",
    "sys.path.append('../scripts')  # Add scripts folder to path\n",
    "from config import *  # Import all our configuration settings\n",
    "\n",
    "# Set up logging for debugging\n",
    "logging.basicConfig(level=logging.INFO, format='%(asctime)s - %(levelname)s - %(message)s')\n",
    "logger = logging.getLogger(__name__)\n",
    "\n",
    "print(\"✅ All libraries loaded successfully!\")\n",
    "\n",
    "# Display current configuration for workshop participants\n",
    "print(\"\\n\" + \"=\"*60)\n",
    "print(\"🔧 CURRENT CONFIGURATION SETTINGS\")\n",
    "print(\"=\"*60)\n",
    "print(f\"Domain: {DOMAIN}\")\n",
    "print(f\"Languages: {', '.join(LANGUAGES)}\")\n",
    "print(f\"Model: {MODEL_NAME}\")\n",
    "print(f\"Max text length: {MAX_TEXT_LENGTH:,} characters\")\n",
    "print(f\"Create document vectors: {CREATE_DOCUMENT_VECTORS}\")\n",
    "print(f\"Create section vectors: {CREATE_SECTION_VECTORS}\")\n",
    "print(f\"Create paragraph vectors: {CREATE_PARAGRAPH_VECTORS}\")"
   ]
  },
  {
   "cell_type": "markdown",
   "id": "3aacb633",
   "metadata": {},
   "source": [
    "### STEP 2: LOAD AND EXAMINE DATABASE STRUCTURE"
   ]
  },
  {
   "cell_type": "code",
   "execution_count": 8,
   "id": "52d02824",
   "metadata": {},
   "outputs": [
    {
     "name": "stdout",
     "output_type": "stream",
     "text": [
      "🔍 Loading corpus databases...\n",
      "✅ ENG: 4 documents loaded\n",
      "   All document IDs:\n",
      "      1. gai-eng_item001: Attention is All You Need\n",
      "      2. gai-eng_item002: On the Dangers of Stochastic Parrots: Can Language Models Be...\n",
      "      3. gai-eng_item003: Recommendation on the Ethics of Artificial Intelligence\n",
      "      4. gai-eng_item004: The Age of AI has begun\n",
      "\n",
      "✅ ESP: 2 documents loaded\n",
      "   All document IDs:\n",
      "      1. gai-esp_item001: Propuesta de Agenda Nacional de la Inteligencia Artificial p...\n",
      "      2. gai-esp_item002: Conversando con una computadora: ¿Cómo entienden las intelig...\n",
      "\n",
      "📊 Total: 6 documents across 2 languages\n",
      "✅ Database loading complete! Ready for vectorization.\n"
     ]
    }
   ],
   "source": [
    "### STEP 2: LOAD AND EXAMINE DATABASE STRUCTURE\n",
    "\n",
    "def load_database_file(language):\n",
    "    \"\"\"Load the database file for a specific language\"\"\"\n",
    "    database_path = Path(CORPORA_DIR) / language / f\"{DOMAIN}-{language}_database.json\"\n",
    "    \n",
    "    if not database_path.exists():\n",
    "        raise FileNotFoundError(f\"Database file not found: {database_path}\")\n",
    "    \n",
    "    with open(database_path, 'r', encoding='utf-8') as f:\n",
    "        return json.load(f)\n",
    "\n",
    "def extract_documents_from_db(db, language):\n",
    "    \"\"\"Extract document data from database, handling different structures\"\"\"\n",
    "    documents = {}\n",
    "    \n",
    "    # Get documents from nested 'documents' key\n",
    "    if 'documents' in db and isinstance(db['documents'], dict):\n",
    "        nested_docs = {k: v for k, v in db['documents'].items() \n",
    "                      if k.startswith(f'{DOMAIN}-{language}_item')}\n",
    "        documents.update(nested_docs)\n",
    "    \n",
    "    # Also check for direct top-level document keys\n",
    "    top_level_docs = {k: v for k, v in db.items() \n",
    "                     if k != f'{DOMAIN}_template' and k != 'documents' \n",
    "                     and k.startswith(f'{DOMAIN}-{language}_item')}\n",
    "    documents.update(top_level_docs)\n",
    "    \n",
    "    return documents\n",
    "\n",
    "# Load databases for all languages\n",
    "print(\"🔍 Loading corpus databases...\")\n",
    "\n",
    "databases = {}\n",
    "all_documents = {}\n",
    "failed_languages = []\n",
    "\n",
    "for language in LANGUAGES:\n",
    "    try:\n",
    "        databases[language] = load_database_file(language)\n",
    "        all_documents[language] = extract_documents_from_db(databases[language], language)\n",
    "        print(f\"✅ {language.upper()}: {len(all_documents[language])} documents loaded\")\n",
    "        \n",
    "        # Show all document IDs and titles for this language\n",
    "        if all_documents[language]:\n",
    "            print(f\"   All document IDs:\")\n",
    "            for i, (doc_id, doc_data) in enumerate(all_documents[language].items(), 1):\n",
    "                title = doc_data.get('document_metadata', {}).get('title', 'No title')\n",
    "                print(f\"     {i:2d}. {doc_id}: {title[:60]}{'...' if len(title) > 60 else ''}\")\n",
    "        print()  # Add blank line between languages\n",
    "        \n",
    "    except FileNotFoundError as e:\n",
    "        failed_languages.append(language)\n",
    "        print(f\"❌ {language.upper()}: Database not found\")\n",
    "\n",
    "# Show overall results\n",
    "total_documents = sum(len(docs) for docs in all_documents.values())\n",
    "print(f\"📊 Total: {total_documents} documents across {len(databases)} languages\")\n",
    "\n",
    "# Create summary for easy access by later steps\n",
    "document_summary = {\n",
    "    'total_count': total_documents,\n",
    "    'by_language': {lang: len(docs) for lang, docs in all_documents.items()},\n",
    "    'all_documents': all_documents\n",
    "}\n",
    "\n",
    "print(f\"✅ Database loading complete! Ready for vectorization.\")\n",
    "\n",
    "# Only show errors if any occurred\n",
    "if failed_languages:\n",
    "    print(f\"\\n⚠️  Failed to load: {', '.join(failed_languages)}\")\n",
    "    for lang in failed_languages:\n",
    "        expected_path = Path(CORPORA_DIR) / lang / f\"{DOMAIN}-{lang}_database.json\"\n",
    "        print(f\"   Expected: {expected_path}\")"
   ]
  },
  {
   "cell_type": "markdown",
   "id": "ae9ba408",
   "metadata": {},
   "source": [
    "### STEP 3: LOAD AND EXAMINE INDIVIDUAL CORPUS ITEM"
   ]
  },
  {
   "cell_type": "code",
   "execution_count": 9,
   "id": "21a9aa35",
   "metadata": {},
   "outputs": [
    {
     "name": "stdout",
     "output_type": "stream",
     "text": [
      "📖 Loading corpus item: gai-eng_item001\n",
      "\n",
      "📊 DOCUMENT ANALYSIS\n",
      "🔖 gai-eng_item001: Attention is All You Need\n",
      "🌐 Language: ENG\n",
      "📄 Type: Academic paper\n",
      "📏 5,817 words | 24,391 characters\n",
      "\n",
      "📋 STRUCTURE SUMMARY\n",
      "📝 Abstract: ✅ (1,139 chars)\n",
      "📚 Sections: 7\n",
      "📂 Subsections: 12\n",
      "🔗 Sub-subsections: 3\n",
      "📝 Total paragraphs: 69\n",
      "\n",
      "📑 SECTION OVERVIEW\n",
      "   1. Introduction (4 paragraphs)\n",
      "   2. Background (4 paragraphs)\n",
      "   3. Model Architecture (29 paragraphs)\n",
      "   4. 4 Why Self-Attention (6 paragraphs)\n",
      "   5. Training (9 paragraphs)\n",
      "   6. Results (12 paragraphs)\n",
      "   7. 7 Conclusion (5 paragraphs)\n",
      "\n",
      "🎯 VECTORIZATION PLAN\n",
      "📄 Document level: 1\n",
      "📚 Section level: 7\n",
      "📂 Subsection level: 12\n",
      "🔗 Sub-subsection level: 3\n",
      "📝 Paragraph level: 69\n",
      "🎯 Total vectors: 92\n",
      "\n",
      "✅ Document analysis complete! Ready for vectorization.\n",
      "\n",
      "📋 Analysis stored as 'test_document_analysis' for next steps\n"
     ]
    }
   ],
   "source": [
    "### STEP 3: LOAD AND EXAMINE INDIVIDUAL CORPUS ITEM\n",
    "\n",
    "def load_corpus_item(language, item_id):\n",
    "    \"\"\"Load a specific corpus item JSON file (content only)\"\"\"\n",
    "    item_path = Path(CORPORA_DIR) / language / \"processed\" / f\"{item_id}.json\"\n",
    "    \n",
    "    if not item_path.exists():\n",
    "        raise FileNotFoundError(f\"Corpus item not found: {item_path}\")\n",
    "    \n",
    "    with open(item_path, 'r', encoding='utf-8') as f:\n",
    "        return json.load(f)\n",
    "\n",
    "def get_document_metadata(databases, language, item_id):\n",
    "    \"\"\"Get metadata for a document from the database\"\"\"\n",
    "    db = databases.get(language, {})\n",
    "    documents = db.get('documents', {})\n",
    "    return documents.get(item_id, {})\n",
    "\n",
    "def merge_content_and_metadata(content_data, metadata):\n",
    "    \"\"\"Merge content and metadata into a complete document object\"\"\"\n",
    "    return {\n",
    "        'document_id': content_data.get('document_id'),\n",
    "        'document_metadata': metadata.get('document_metadata', {}),\n",
    "        'processing_metadata': metadata.get('processing_metadata', {}),\n",
    "        'content': content_data.get('content', {})\n",
    "    }\n",
    "\n",
    "def analyze_corpus_structure(corpus_item):\n",
    "    \"\"\"Analyze document structure for vectorization planning\"\"\"\n",
    "    analysis = {\n",
    "        'document_id': corpus_item.get('document_id', 'Unknown'),\n",
    "        'title': corpus_item.get('document_metadata', {}).get('title', 'No title'),\n",
    "        'language': corpus_item.get('document_metadata', {}).get('language_family', 'Unknown'),  # FIXED: Use language_family\n",
    "        'text_type': corpus_item.get('document_metadata', {}).get('text_type', 'Unknown'),\n",
    "        'word_count': corpus_item.get('processing_metadata', {}).get('word_count', 0),\n",
    "        'has_abstract': bool(corpus_item.get('content', {}).get('abstract')),\n",
    "        'abstract_length': len(corpus_item.get('content', {}).get('abstract', '')),\n",
    "        'sections': [],\n",
    "        'total_paragraphs': 0,\n",
    "        'total_subsections': 0,\n",
    "        'total_subsubsections': 0,\n",
    "        'total_text_length': 0\n",
    "    }\n",
    "    \n",
    "    # Analyze sections and count all structural elements\n",
    "    content = corpus_item.get('content', {})\n",
    "    sections = content.get('sections', [])\n",
    "    \n",
    "    for section in sections:\n",
    "        section_info = {\n",
    "            'title': section.get('title', 'No title'),\n",
    "            'main_paragraphs': len(section.get('paragraphs', [])),\n",
    "            'subsections': [],\n",
    "            'total_section_paragraphs': 0\n",
    "        }\n",
    "        \n",
    "        # Count main section paragraphs\n",
    "        section_info['total_section_paragraphs'] += section_info['main_paragraphs']\n",
    "        analysis['total_paragraphs'] += section_info['main_paragraphs']\n",
    "        \n",
    "        # Calculate text length\n",
    "        for paragraph in section.get('paragraphs', []):\n",
    "            analysis['total_text_length'] += len(paragraph.get('text', ''))\n",
    "        \n",
    "        # Process subsections\n",
    "        for subsection in section.get('subsections', []):\n",
    "            subsection_paragraphs = len(subsection.get('paragraphs', []))\n",
    "            section_info['total_section_paragraphs'] += subsection_paragraphs\n",
    "            analysis['total_paragraphs'] += subsection_paragraphs\n",
    "            analysis['total_subsections'] += 1\n",
    "            \n",
    "            # Add text length\n",
    "            for paragraph in subsection.get('paragraphs', []):\n",
    "                analysis['total_text_length'] += len(paragraph.get('text', ''))\n",
    "            \n",
    "            # Count subsubsections\n",
    "            subsubsections = subsection.get('subsubsections', [])\n",
    "            for subsubsection in subsubsections:\n",
    "                subsubsection_paragraphs = len(subsubsection.get('paragraphs', []))\n",
    "                section_info['total_section_paragraphs'] += subsubsection_paragraphs\n",
    "                analysis['total_paragraphs'] += subsubsection_paragraphs\n",
    "                analysis['total_subsubsections'] += 1\n",
    "                \n",
    "                # Add text length\n",
    "                for paragraph in subsubsection.get('paragraphs', []):\n",
    "                    analysis['total_text_length'] += len(paragraph.get('text', ''))\n",
    "        \n",
    "        analysis['sections'].append(section_info)\n",
    "    \n",
    "    # Add abstract to total text length\n",
    "    analysis['total_text_length'] += analysis['abstract_length']\n",
    "    \n",
    "    return analysis\n",
    "\n",
    "def display_analysis(analysis):\n",
    "    \"\"\"Display streamlined analysis for workshop\"\"\"\n",
    "    \n",
    "    print(f\"\\n📊 DOCUMENT ANALYSIS\")\n",
    "    print(f\"🔖 {analysis['document_id']}: {analysis['title']}\")\n",
    "    print(f\"🌐 Language: {analysis['language'].upper()}\")\n",
    "    print(f\"📄 Type: {analysis['text_type']}\")\n",
    "    print(f\"📏 {analysis['word_count']:,} words | {analysis['total_text_length']:,} characters\")\n",
    "    \n",
    "    print(f\"\\n📋 STRUCTURE SUMMARY\")\n",
    "    print(f\"📝 Abstract: {'✅' if analysis['has_abstract'] else '❌'} ({analysis['abstract_length']:,} chars)\")\n",
    "    print(f\"📚 Sections: {len(analysis['sections'])}\")\n",
    "    print(f\"📂 Subsections: {analysis['total_subsections']}\")\n",
    "    print(f\"🔗 Sub-subsections: {analysis['total_subsubsections']}\")\n",
    "    print(f\"📝 Total paragraphs: {analysis['total_paragraphs']}\")\n",
    "    \n",
    "    print(f\"\\n📑 SECTION OVERVIEW\")\n",
    "    for i, section in enumerate(analysis['sections'], 1):\n",
    "        title = section['title'][:40] + '...' if len(section['title']) > 40 else section['title']\n",
    "        print(f\"  {i:2d}. {title} ({section['total_section_paragraphs']} paragraphs)\")\n",
    "    \n",
    "    print(f\"\\n🎯 VECTORIZATION PLAN\")\n",
    "    document_vectors = 1\n",
    "    section_vectors = len(analysis['sections'])\n",
    "    subsection_vectors = analysis['total_subsections']\n",
    "    subsubsection_vectors = analysis['total_subsubsections']\n",
    "    paragraph_vectors = analysis['total_paragraphs']\n",
    "    total_vectors = document_vectors + section_vectors + subsection_vectors + subsubsection_vectors + paragraph_vectors\n",
    "    \n",
    "    print(f\"📄 Document level: {document_vectors}\")\n",
    "    print(f\"📚 Section level: {section_vectors}\")\n",
    "    print(f\"📂 Subsection level: {subsection_vectors}\")\n",
    "    print(f\"🔗 Sub-subsection level: {subsubsection_vectors}\")\n",
    "    print(f\"📝 Paragraph level: {paragraph_vectors}\")\n",
    "    print(f\"🎯 Total vectors: {total_vectors}\")\n",
    "\n",
    "# Load and analyze test document\n",
    "test_doc_id = \"gai-eng_item001\" \n",
    "test_language = \"eng\"\n",
    "\n",
    "print(f\"📖 Loading corpus item: {test_doc_id}\")\n",
    "\n",
    "try:\n",
    "    # Load content and metadata\n",
    "    content_data = load_corpus_item(test_language, test_doc_id)\n",
    "    \n",
    "    if test_language in databases:\n",
    "        metadata = get_document_metadata(databases, test_language, test_doc_id)\n",
    "        corpus_item = merge_content_and_metadata(content_data, metadata)\n",
    "        \n",
    "        # Analyze and display\n",
    "        analysis = analyze_corpus_structure(corpus_item)\n",
    "        display_analysis(analysis)\n",
    "        \n",
    "        print(f\"\\n✅ Document analysis complete! Ready for vectorization.\")\n",
    "        \n",
    "    else:\n",
    "        print(f\"❌ Database for {test_language} not loaded\")\n",
    "    \n",
    "except FileNotFoundError as e:\n",
    "    print(f\"❌ File not found: {test_doc_id}.json\")\n",
    "    print(f\"💡 Expected location: {Path(CORPORA_DIR) / test_language / 'processed' / f'{test_doc_id}.json'}\")\n",
    "except Exception as e:\n",
    "    print(f\"❌ Error: {e}\")\n",
    "\n",
    "# Store analysis for next steps\n",
    "if 'analysis' in locals():\n",
    "    test_document_analysis = analysis\n",
    "    print(f\"\\n📋 Analysis stored as 'test_document_analysis' for next steps\")"
   ]
  },
  {
   "cell_type": "markdown",
   "id": "bb194b0e",
   "metadata": {},
   "source": [
    "## ============================================================================="
   ]
  },
  {
   "cell_type": "markdown",
   "id": "4f0f4727",
   "metadata": {},
   "source": [
    "## Part 2: Function and Model Setup"
   ]
  },
  {
   "cell_type": "markdown",
   "id": "2c6e10b2",
   "metadata": {},
   "source": [
    "### STEP 4: INITIALIZE THE MULTILINGUAL EMBEDDING MODEL"
   ]
  },
  {
   "cell_type": "code",
   "execution_count": 12,
   "id": "3761900a",
   "metadata": {},
   "outputs": [
    {
     "name": "stderr",
     "output_type": "stream",
     "text": [
      "2025-05-30 02:16:32,625 - INFO - Use pytorch device_name: cpu\n",
      "2025-05-30 02:16:32,626 - INFO - Load pretrained SentenceTransformer: distiluse-base-multilingual-cased-v2\n"
     ]
    },
    {
     "name": "stdout",
     "output_type": "stream",
     "text": [
      "🤖 Loading multilingual embedding model...\n",
      "📥 This may take a moment on first run as it downloads the model (~500MB)\n",
      "✅ Model loaded successfully!\n",
      "\n",
      "📊 MODEL INFORMATION\n",
      "🏷️  Model: distiluse-base-multilingual-cased-v2\n",
      "📐 Embedding dimension: 512\n",
      "📏 Max sequence length: 128\n",
      "🌐 Cross-lingual: Maps Spanish + English to same vector space\n",
      "⚡ Optimized: 135M parameters\n"
     ]
    }
   ],
   "source": [
    "# STEP 4: INITIALIZE THE MULTILINGUAL EMBEDDING MODEL\n",
    "# BLOCK 1: Load the model\n",
    "\n",
    "print(\"🤖 Loading multilingual embedding model...\")\n",
    "print(\"📥 This may take a moment on first run as it downloads the model (~500MB)\")\n",
    "\n",
    "try:\n",
    "    # Load the cross-lingual model (UPDATED MODEL!)\n",
    "    model = SentenceTransformer('distiluse-base-multilingual-cased-v2')\n",
    "    print(\"✅ Model loaded successfully!\")\n",
    "    \n",
    "    # Display model information\n",
    "    print(f\"\\n📊 MODEL INFORMATION\")\n",
    "    print(f\"🏷️  Model: distiluse-base-multilingual-cased-v2\")\n",
    "    print(f\"📐 Embedding dimension: {model.get_sentence_embedding_dimension()}\")\n",
    "    print(f\"📏 Max sequence length: {model.max_seq_length}\")\n",
    "    print(f\"🌐 Cross-lingual: Maps Spanish + English to same vector space\")\n",
    "    print(f\"⚡ Optimized: 135M parameters\")\n",
    "    \n",
    "except Exception as e:\n",
    "    print(f\"❌ Error loading model: {e}\")\n",
    "    print(\"💡 Troubleshooting:\")\n",
    "    print(\"   1. Check internet connection (model downloads from Hugging Face)\")\n",
    "    print(\"   2. Ensure sentence-transformers is installed: pip install sentence-transformers\")\n",
    "    print(\"   3. Try restarting kernel if you see cache issues\")"
   ]
  },
  {
   "cell_type": "markdown",
   "id": "c0af33f6",
   "metadata": {},
   "source": [
    "#### DEMONSTRATION: UNIFIED VECTOR SPACE FOR BILINGUAL CONTENT"
   ]
  },
  {
   "cell_type": "code",
   "execution_count": 13,
   "id": "6b0245ad",
   "metadata": {},
   "outputs": [
    {
     "name": "stdout",
     "output_type": "stream",
     "text": [
      "\n",
      "🌐 DEMONSTRATING UNIFIED VECTOR SPACE:\n",
      "============================================================\n",
      "🔄 Creating embeddings for test sentences...\n"
     ]
    },
    {
     "data": {
      "application/vnd.jupyter.widget-view+json": {
       "model_id": "85b295560dab4bddac5a4d3b475e70ad",
       "version_major": 2,
       "version_minor": 0
      },
      "text/plain": [
       "Batches:   0%|          | 0/1 [00:00<?, ?it/s]"
      ]
     },
     "metadata": {},
     "output_type": "display_data"
    },
    {
     "name": "stdout",
     "output_type": "stream",
     "text": [
      "✅ Generated 6 embeddings of 512 dimensions each\n",
      "\n",
      "📈 SIMILARITY SCORES (0-1, higher = more similar):\n",
      "------------------------------------------------------------\n",
      "\n",
      "🔤 English: 'Artificial intelligence is transforming educa...'\n",
      "🔤 Spanish: 'La inteligencia artificial está transformando...'\n",
      "📊 Similarity: 0.9767 ✅ High cross-lingual similarity!\n",
      "\n",
      "🔤 English: 'Machine learning algorithms require large dat...'\n",
      "🔤 Spanish: 'Los algoritmos de aprendizaje automático requ...'\n",
      "📊 Similarity: 0.8797 ✅ High cross-lingual similarity!\n",
      "\n",
      "🔤 English: 'The weather forecast shows rain tomorrow...'\n",
      "🔤 Spanish: 'El pronóstico del tiempo muestra lluvia mañan...'\n",
      "📊 Similarity: 0.9757 ✅ High cross-lingual similarity!\n",
      "\n",
      "🔍 CROSS-TOPIC COMPARISON (unrelated content):\n",
      "'AI education...' vs 'Weather forecast...': 0.0426\n",
      "💡 Notice how related topics have higher similarity than unrelated ones!\n",
      "\n",
      "✅ READY FOR CORPUS VECTORIZATION\n",
      "📋 Model will create 512-dimensional vectors for your authentic corpora\n"
     ]
    }
   ],
   "source": [
    "# STEP 4: INITIALIZE THE MULTILINGUAL EMBEDDING MODEL\n",
    "# BLOCK 2: Demonstrate the unified vector space\n",
    "print(\"\\n🌐 DEMONSTRATING UNIFIED VECTOR SPACE:\")\n",
    "print(\"=\" * 60)\n",
    "\n",
    "# Test sentences in English and Spanish (related to your corpus domain)\n",
    "test_sentences = [\n",
    "    \"Artificial intelligence is transforming education worldwide\",  # English\n",
    "    \"La inteligencia artificial está transformando la educación mundial\",  # Spanish (same meaning)\n",
    "    \"Machine learning algorithms require large datasets for training\",  # English\n",
    "    \"Los algoritmos de aprendizaje automático requieren grandes conjuntos de datos\",  # Spanish (same meaning)\n",
    "    \"The weather forecast shows rain tomorrow\",  # English (unrelated topic)\n",
    "    \"El pronóstico del tiempo muestra lluvia mañana\"  # Spanish (unrelated topic)\n",
    "]\n",
    "\n",
    "# Create embeddings\n",
    "print(\"🔄 Creating embeddings for test sentences...\")\n",
    "test_embeddings = model.encode(test_sentences)\n",
    "print(f\"✅ Generated {len(test_embeddings)} embeddings of {test_embeddings[0].shape[0]} dimensions each\")\n",
    "\n",
    "# Calculate similarity between English and Spanish pairs\n",
    "print(\"\\n📈 SIMILARITY SCORES (0-1, higher = more similar):\")\n",
    "print(\"-\" * 60)\n",
    "\n",
    "# Compare sentence pairs\n",
    "for i in range(0, len(test_sentences), 2):\n",
    "    eng_sentence = test_sentences[i]\n",
    "    spa_sentence = test_sentences[i+1]\n",
    "    \n",
    "    similarity = cosine_similarity(\n",
    "        test_embeddings[i].reshape(1, -1),\n",
    "        test_embeddings[i+1].reshape(1, -1)\n",
    "    )[0][0]\n",
    "    \n",
    "    print(f\"\\n🔤 English: '{eng_sentence[:45]}...'\")\n",
    "    print(f\"🔤 Spanish: '{spa_sentence[:45]}...'\")\n",
    "    print(f\"📊 Similarity: {similarity:.4f} {'✅ High cross-lingual similarity!' if similarity > 0.7 else '⚠️  Lower similarity'}\")\n",
    "\n",
    "# Show that unrelated sentences have lower similarity\n",
    "print(f\"\\n🔍 CROSS-TOPIC COMPARISON (unrelated content):\")\n",
    "unrelated_sim = cosine_similarity(\n",
    "    test_embeddings[0].reshape(1, -1),  # AI sentence in English\n",
    "    test_embeddings[4].reshape(1, -1)   # Weather sentence in English\n",
    ")[0][0]\n",
    "print(f\"'AI education...' vs 'Weather forecast...': {unrelated_sim:.4f}\")\n",
    "print(f\"💡 Notice how related topics have higher similarity than unrelated ones!\")\n",
    "\n",
    "if test_embeddings[0].shape[0] == 512:\n",
    "    print(f\"\\n✅ READY FOR CORPUS VECTORIZATION\")\n",
    "    print(f\"📋 Model will create 512-dimensional vectors for your authentic corpora\")\n",
    "else:\n",
    "    print(f\"\\n⚠️  Unexpected embedding dimension: {test_embeddings[0].shape[0]}\")"
   ]
  },
  {
   "cell_type": "code",
   "execution_count": 14,
   "id": "b627292a",
   "metadata": {},
   "outputs": [
    {
     "name": "stdout",
     "output_type": "stream",
     "text": [
      "\n",
      "📊 VISUALIZING THE UNIFIED VECTOR SPACE:\n",
      "============================================================\n",
      "🔄 Reducing 512 dimensions to 2D for visualization...\n",
      "🔗 Drawing connections between translation pairs...\n"
     ]
    },
    {
     "name": "stderr",
     "output_type": "stream",
     "text": [
      "C:\\Users\\alain\\AppData\\Local\\Temp\\ipykernel_20672\\2078768525.py:57: UserWarning: Glyph 127482 (\\N{REGIONAL INDICATOR SYMBOL LETTER U}) missing from font(s) DejaVu Sans.\n",
      "  plt.tight_layout()\n",
      "C:\\Users\\alain\\AppData\\Local\\Temp\\ipykernel_20672\\2078768525.py:57: UserWarning: Glyph 127480 (\\N{REGIONAL INDICATOR SYMBOL LETTER S}) missing from font(s) DejaVu Sans.\n",
      "  plt.tight_layout()\n",
      "C:\\Users\\alain\\AppData\\Local\\Temp\\ipykernel_20672\\2078768525.py:57: UserWarning: Glyph 127466 (\\N{REGIONAL INDICATOR SYMBOL LETTER E}) missing from font(s) DejaVu Sans.\n",
      "  plt.tight_layout()\n",
      "C:\\Users\\alain\\AppData\\Roaming\\Python\\Python312\\site-packages\\IPython\\core\\pylabtools.py:170: UserWarning: Glyph 127482 (\\N{REGIONAL INDICATOR SYMBOL LETTER U}) missing from font(s) DejaVu Sans.\n",
      "  fig.canvas.print_figure(bytes_io, **kw)\n",
      "C:\\Users\\alain\\AppData\\Roaming\\Python\\Python312\\site-packages\\IPython\\core\\pylabtools.py:170: UserWarning: Glyph 127480 (\\N{REGIONAL INDICATOR SYMBOL LETTER S}) missing from font(s) DejaVu Sans.\n",
      "  fig.canvas.print_figure(bytes_io, **kw)\n",
      "C:\\Users\\alain\\AppData\\Roaming\\Python\\Python312\\site-packages\\IPython\\core\\pylabtools.py:170: UserWarning: Glyph 127466 (\\N{REGIONAL INDICATOR SYMBOL LETTER E}) missing from font(s) DejaVu Sans.\n",
      "  fig.canvas.print_figure(bytes_io, **kw)\n"
     ]
    },
    {
     "data": {
      "image/png": "[encoded data removed]",
      "text/plain": [
       "<Figure size 1200x800 with 1 Axes>"
      ]
     },
     "metadata": {},
     "output_type": "display_data"
    },
    {
     "name": "stdout",
     "output_type": "stream",
     "text": [
      "\n",
      "💡 KEY OBSERVATIONS:\n",
      "🔗 Translation pairs (connected by lines) cluster together\n",
      "📊 Similar topics group near each other regardless of language\n",
      "🌐 This demonstrates our truly multilingual vector space!\n",
      "\n",
      "✅ MODEL READY FOR CORPUS VECTORIZATION\n",
      "📋 Your authentic Spanish and English texts will map to this same unified space\n"
     ]
    }
   ],
   "source": [
    "# STEP 4: INITIALIZE THE MULTILINGUAL EMBEDDING MODEL\n",
    "# BLOCK 3: Visualize the unified vector space\n",
    "print(\"\\n📊 VISUALIZING THE UNIFIED VECTOR SPACE:\")\n",
    "print(\"=\" * 60)\n",
    "\n",
    "# Reduce dimensions for visualization\n",
    "print(\"🔄 Reducing 512 dimensions to 2D for visualization...\")\n",
    "pca = PCA(n_components=2)\n",
    "embeddings_2d = pca.fit_transform(test_embeddings)\n",
    "\n",
    "# Create visualization\n",
    "plt.figure(figsize=(12, 8))\n",
    "\n",
    "# Plot English sentences (blue)\n",
    "eng_indices = list(range(0, len(test_sentences), 2))\n",
    "plt.scatter(embeddings_2d[eng_indices, 0], embeddings_2d[eng_indices, 1], \n",
    "           c='blue', s=200, alpha=0.7, label='English', edgecolors='navy', linewidth=2)\n",
    "\n",
    "# Plot Spanish sentences (red)\n",
    "spa_indices = list(range(1, len(test_sentences), 2))\n",
    "plt.scatter(embeddings_2d[spa_indices, 0], embeddings_2d[spa_indices, 1], \n",
    "           c='red', s=200, alpha=0.7, label='Spanish', edgecolors='darkred', linewidth=2)\n",
    "\n",
    "# Add labels for each point\n",
    "for i, sentence in enumerate(test_sentences):\n",
    "    # Shorten text for display\n",
    "    if 'inteligencia artificial' in sentence or 'Artificial intelligence' in sentence:\n",
    "        display_text = \"AI Education\"\n",
    "    elif 'aprendizaje automático' in sentence or 'Machine learning' in sentence:\n",
    "        display_text = \"ML Training\"\n",
    "    elif 'tiempo' in sentence or 'weather' in sentence:\n",
    "        display_text = \"Weather\"\n",
    "    else:\n",
    "        display_text = sentence[:20] + \"...\"\n",
    "    \n",
    "    # Add language indicator\n",
    "    lang = \"🇪🇸\" if i % 2 == 1 else \"🇺🇸\"\n",
    "    display_text = f\"{lang} {display_text}\"\n",
    "    \n",
    "    plt.annotate(display_text, \n",
    "                (embeddings_2d[i, 0], embeddings_2d[i, 1]), \n",
    "                fontsize=10, ha='center', va='bottom',\n",
    "                bbox=dict(boxstyle=\"round,pad=0.3\", facecolor='white', alpha=0.8))\n",
    "\n",
    "# Draw lines between translation pairs\n",
    "print(\"🔗 Drawing connections between translation pairs...\")\n",
    "for i in range(0, len(test_sentences), 2):\n",
    "    plt.plot([embeddings_2d[i, 0], embeddings_2d[i+1, 0]], \n",
    "             [embeddings_2d[i, 1], embeddings_2d[i+1, 1]], \n",
    "             'gray', linestyle='--', alpha=0.6, linewidth=2)\n",
    "\n",
    "plt.xlabel('First Principal Component', fontsize=12)\n",
    "plt.ylabel('Second Principal Component', fontsize=12)\n",
    "plt.title('Unified Vector Space: English and Spanish Sentences\\n(Connected pairs show cross-lingual similarity)', fontsize=14)\n",
    "plt.legend(fontsize=12)\n",
    "plt.grid(True, alpha=0.3)\n",
    "plt.tight_layout()\n",
    "plt.show()\n",
    "\n",
    "print(f\"\\n💡 KEY OBSERVATIONS:\")\n",
    "print(f\"🔗 Translation pairs (connected by lines) cluster together\")\n",
    "print(f\"📊 Similar topics group near each other regardless of language\")\n",
    "print(f\"🌐 This demonstrates our truly multilingual vector space!\")\n",
    "print(f\"\\n✅ MODEL READY FOR CORPUS VECTORIZATION\")\n",
    "print(f\"📋 Your authentic Spanish and English texts will map to this same unified space\")"
   ]
  },
  {
   "cell_type": "markdown",
   "id": "e9ddb483",
   "metadata": {},
   "source": [
    "### STEP 5: PREPARE THE VECTOR STORAGE STRUCTURE (SCHEMA COMPLIANT)\n",
    "\n",
    "Note: Consider adding \"text_length\" to vector structure in a future iteration"
   ]
  },
  {
   "cell_type": "code",
   "execution_count": 28,
   "id": "8214118a",
   "metadata": {},
   "outputs": [
    {
     "name": "stdout",
     "output_type": "stream",
     "text": [
      "📦 PREPARING VECTOR STORAGE STRUCTURE\n",
      "============================================================\n",
      "✅ Using standardized schema for vector storage\n",
      "📋 Schema structure:\n",
      "  • metadata: Model name and embedding dimensions\n",
      "  • vectors: Array of vector objects with:\n",
      "    - Document vectors: id, title, count, created, vector, text\n",
      "    - Section vectors: id, document_id, title, level, count, created, vector, text\n",
      "    - Paragraph vectors: id, document_id, count, created, vector, text\n",
      "  • Full text content stored (no length limitations)\n",
      "\n",
      "✅ VECTOR STORAGE FUNCTIONS READY\n",
      "📋 Available functions:\n",
      "  • save_document_vectors_json() - Save document-level vectors\n",
      "  • save_section_vectors_json() - Save section-level vectors\n",
      "  • save_paragraph_vectors_json() - Save paragraph-level vectors\n",
      "  • save_all_vectors_with_schema() - Save all vector types at once\n",
      "\n",
      "💡 All functions store complete text content without truncation\n"
     ]
    }
   ],
   "source": [
    "### STEP 5: PREPARE THE VECTOR STORAGE STRUCTURE (SCHEMA COMPLIANT)\n",
    "\n",
    "print(\"📦 PREPARING VECTOR STORAGE STRUCTURE\")\n",
    "print(\"=\" * 60)\n",
    "\n",
    "print(\"✅ Using standardized schema for vector storage\")\n",
    "print(\"📋 Schema structure:\")\n",
    "print(\"  • metadata: Model name and embedding dimensions\")\n",
    "print(\"  • vectors: Array of vector objects with:\")\n",
    "print(\"    - Document vectors: id, title, count, created, vector, text\")\n",
    "print(\"    - Section vectors: id, document_id, title, level, count, created, vector, text\")\n",
    "print(\"    - Paragraph vectors: id, document_id, count, created, vector, text\")\n",
    "print(\"  • Full text content stored (no length limitations)\")\n",
    "\n",
    "def save_document_vectors_json(vectors_data, filename, model):\n",
    "    \"\"\"Save document vectors to JSON file following the standardized schema\"\"\"\n",
    "    \n",
    "    vector_objects = []\n",
    "    \n",
    "    for i, vector_info in enumerate(vectors_data, 1):\n",
    "        vector_obj = {\n",
    "            \"id\": vector_info['id'],  # document_id\n",
    "            \"title\": vector_info.get('title', 'No title'),\n",
    "            \"count\": i,\n",
    "            \"created\": datetime.now().isoformat(),\n",
    "            \"text\": vector_info.get('text', ''),  # Full text, no truncation\n",
    "            \"vector\": vector_info['vector'].tolist() if hasattr(vector_info['vector'], 'tolist') else vector_info['vector']\n",
    "        }\n",
    "        vector_objects.append(vector_obj)\n",
    "    \n",
    "    # Create the complete data structure following schema\n",
    "    vector_data = {\n",
    "        \"metadata\": {\n",
    "            \"model\": \"distiluse-base-multilingual-cased-v2\",  # UPDATED MODEL\n",
    "            \"dimension\": model.get_sentence_embedding_dimension()\n",
    "        },\n",
    "        \"vectors\": vector_objects\n",
    "    }\n",
    "    \n",
    "    with open(filename, 'w', encoding='utf-8') as f:\n",
    "        json.dump(vector_data, f, ensure_ascii=False, indent=2)\n",
    "    \n",
    "    print(f\"💾 Saved {len(vector_objects)} document vectors to {filename}\")\n",
    "\n",
    "def save_section_vectors_json(vectors_data, filename, model):\n",
    "    \"\"\"Save section vectors to JSON file following the standardized schema\"\"\"\n",
    "    \n",
    "    vector_objects = []\n",
    "    \n",
    "    for i, vector_info in enumerate(vectors_data, 1):\n",
    "        vector_obj = {\n",
    "            \"id\": vector_info['id'],  # section_id\n",
    "            \"document_id\": vector_info['document_id'],\n",
    "            \"title\": vector_info.get('title', 'No title'),\n",
    "            \"level\": vector_info.get('level', 0),\n",
    "            \"count\": i,\n",
    "            \"created\": datetime.now().isoformat(),\n",
    "            \"text\": vector_info.get('text', ''),  # Full text, no truncation\n",
    "            \"vector\": vector_info['vector'].tolist() if hasattr(vector_info['vector'], 'tolist') else vector_info['vector']\n",
    "        }\n",
    "        vector_objects.append(vector_obj)\n",
    "    \n",
    "    # Create the complete data structure following schema\n",
    "    vector_data = {\n",
    "        \"metadata\": {\n",
    "            \"model\": \"distiluse-base-multilingual-cased-v2\",  # UPDATED MODEL\n",
    "            \"dimension\": model.get_sentence_embedding_dimension()\n",
    "        },\n",
    "        \"vectors\": vector_objects\n",
    "    }\n",
    "    \n",
    "    with open(filename, 'w', encoding='utf-8') as f:\n",
    "        json.dump(vector_data, f, ensure_ascii=False, indent=2)\n",
    "    \n",
    "    print(f\"💾 Saved {len(vector_objects)} section vectors to {filename}\")\n",
    "\n",
    "def save_paragraph_vectors_json(vectors_data, filename, model):\n",
    "    \"\"\"Save paragraph vectors to JSON file following the standardized schema\"\"\"\n",
    "    \n",
    "    vector_objects = []\n",
    "    \n",
    "    for i, vector_info in enumerate(vectors_data, 1):\n",
    "        vector_obj = {\n",
    "            \"id\": vector_info['id'],  # paragraph_id\n",
    "            \"document_id\": vector_info['document_id'],\n",
    "            \"count\": i,\n",
    "            \"created\": datetime.now().isoformat(),\n",
    "            \"text\": vector_info.get('text', ''),  # Full text, no truncation\n",
    "            \"vector\": vector_info['vector'].tolist() if hasattr(vector_info['vector'], 'tolist') else vector_info['vector']\n",
    "        }\n",
    "        vector_objects.append(vector_obj)\n",
    "    \n",
    "    # Create the complete data structure following schema\n",
    "    vector_data = {\n",
    "        \"metadata\": {\n",
    "            \"model\": \"distiluse-base-multilingual-cased-v2\",  # UPDATED MODEL\n",
    "            \"dimension\": model.get_sentence_embedding_dimension()\n",
    "        },\n",
    "        \"vectors\": vector_objects\n",
    "    }\n",
    "    \n",
    "    with open(filename, 'w', encoding='utf-8') as f:\n",
    "        json.dump(vector_data, f, ensure_ascii=False, indent=2)\n",
    "    \n",
    "    print(f\"💾 Saved {len(vector_objects)} paragraph vectors to {filename}\")\n",
    "\n",
    "def save_all_vectors_with_schema(vectors, extracted_content, model, output_dir):\n",
    "    \"\"\"\n",
    "    Convenience function to save all vectors using the standardized schema format\n",
    "    \n",
    "    Args:\n",
    "        vectors: Dictionary containing all vector data from create_vectors()\n",
    "        extracted_content: Content data from extract_document_content()\n",
    "        model: SentenceTransformer model\n",
    "        output_dir: Directory to save vector files\n",
    "    \"\"\"\n",
    "    \n",
    "    # Ensure output directory exists\n",
    "    os.makedirs(output_dir, exist_ok=True)\n",
    "    \n",
    "    # 1. Save document vectors\n",
    "    document_vectors_data = [{\n",
    "        'id': vectors['document_id'],\n",
    "        'title': extracted_content['title'],\n",
    "        'text': extracted_content['document_text'],  # Full document text\n",
    "        'vector': vectors['document_vector']['vector']\n",
    "    }]\n",
    "    \n",
    "    save_document_vectors_json(\n",
    "        vectors_data=document_vectors_data,\n",
    "        filename=os.path.join(output_dir, 'gai-document-vectors.json'),\n",
    "        model=model\n",
    "    )\n",
    "    \n",
    "    # 2. Save section vectors\n",
    "    section_vectors_data = []\n",
    "    for section_vec in vectors['section_vectors']:\n",
    "        section_vectors_data.append({\n",
    "            'id': section_vec['id'],\n",
    "            'document_id': section_vec['document_id'],\n",
    "            'title': section_vec['title'],\n",
    "            'level': section_vec['level'],\n",
    "            'text': section_vec['text'],  # Full section text\n",
    "            'vector': section_vec['vector']\n",
    "        })\n",
    "    \n",
    "    save_section_vectors_json(\n",
    "        vectors_data=section_vectors_data,\n",
    "        filename=os.path.join(output_dir, 'gai-section-vectors.json'),\n",
    "        model=model\n",
    "    )\n",
    "    \n",
    "    # 3. Save paragraph vectors\n",
    "    paragraph_vectors_data = []\n",
    "    for para_vec in vectors['paragraph_vectors']:\n",
    "        paragraph_vectors_data.append({\n",
    "            'id': para_vec['id'],\n",
    "            'document_id': para_vec['document_id'],\n",
    "            'text': para_vec['text'],  # Full paragraph text\n",
    "            'vector': para_vec['vector']\n",
    "        })\n",
    "    \n",
    "    save_paragraph_vectors_json(\n",
    "        vectors_data=paragraph_vectors_data,\n",
    "        filename=os.path.join(output_dir, 'gai-paragraph-vectors.json'),\n",
    "        model=model\n",
    "    )\n",
    "    \n",
    "    print(f\"\\n✅ All vectors saved to: {output_dir}\")\n",
    "    print(\"📁 Schema-compliant files created:\")\n",
    "    print(\"  • gai-document-vectors.json (full document text + vectors)\")\n",
    "    print(\"  • gai-section-vectors.json (full section text + vectors)\")\n",
    "    print(\"  • gai-paragraph-vectors.json (full paragraph text + vectors)\")\n",
    "    print(f\"📐 Vector dimension: {model.get_sentence_embedding_dimension()}\")\n",
    "\n",
    "print(\"\\n✅ VECTOR STORAGE FUNCTIONS READY\")\n",
    "print(\"📋 Available functions:\")\n",
    "print(\"  • save_document_vectors_json() - Save document-level vectors\")\n",
    "print(\"  • save_section_vectors_json() - Save section-level vectors\") \n",
    "print(\"  • save_paragraph_vectors_json() - Save paragraph-level vectors\")\n",
    "print(\"  • save_all_vectors_with_schema() - Save all vector types at once\")\n",
    "print(\"\\n💡 All functions store complete text content without truncation\")"
   ]
  },
  {
   "cell_type": "markdown",
   "id": "f04a70cb",
   "metadata": {},
   "source": [
    "### STEP 6: DEFINE TEXT EXTRACTION FUNCTIONS"
   ]
  },
  {
   "cell_type": "code",
   "execution_count": 29,
   "id": "b427be0f",
   "metadata": {},
   "outputs": [],
   "source": [
    "### STEP 6: DEFINE TEXT EXTRACTION FUNCTIONS\n",
    "### BLOCK 1: Define paragraph extraction functions\n",
    "\n",
    "def extract_clean_text(text, include_citations=True):\n",
    "    \"\"\"\n",
    "    Clean text for vectorization while preserving meaning\n",
    "    \n",
    "    Args:\n",
    "        text: Raw text string\n",
    "        include_citations: Whether to keep citation markers like [1] in the text\n",
    "    \n",
    "    Returns:\n",
    "        Cleaned text string\n",
    "    \"\"\"\n",
    "    if not text:\n",
    "        return \"\"\n",
    "    \n",
    "    # Remove extra whitespace\n",
    "    text = ' '.join(text.split())\n",
    "    \n",
    "    # Remove citation markers if requested\n",
    "    if not include_citations:\n",
    "        # Remove patterns like [1], [2,3], [14-16], etc.\n",
    "        text = re.sub(r'\\[\\d+(?:[-,]\\d+)*\\]', '', text)\n",
    "    \n",
    "    # Remove excessive punctuation but keep sentence structure\n",
    "    text = re.sub(r'\\.{2,}', '.', text)  # Multiple periods to single\n",
    "    text = re.sub(r'\\s+([.,!?;:])', r'\\1', text)  # Remove space before punctuation\n",
    "    \n",
    "    return text.strip()\n",
    "\n",
    "def extract_equation_text(paragraph_data):\n",
    "    \"\"\"\n",
    "    Extract readable text from equations in a paragraph\n",
    "    \n",
    "    Args:\n",
    "        paragraph_data: Dictionary containing paragraph information\n",
    "    \n",
    "    Returns:\n",
    "        String with equation descriptions\n",
    "    \"\"\"\n",
    "    equation_texts = []\n",
    "    \n",
    "    # Check for inline equations\n",
    "    if 'inline_equations' in paragraph_data:\n",
    "        for eq in paragraph_data['inline_equations']:\n",
    "            if 'text' in eq:\n",
    "                equation_texts.append(eq['text'])\n",
    "    \n",
    "    # Check for equation numbers\n",
    "    if 'equation_numbers' in paragraph_data:\n",
    "        for eq in paragraph_data['equation_numbers']:\n",
    "            if 'text' in eq:\n",
    "                equation_texts.append(f\"Equation {eq['text']}\")\n",
    "    \n",
    "    return ' '.join(equation_texts)\n",
    "\n",
    "def extract_paragraph_text(paragraph):\n",
    "    \"\"\"\n",
    "    Extract complete text from a paragraph including equations\n",
    "    \n",
    "    Args:\n",
    "        paragraph: Paragraph dictionary from JSON\n",
    "    \n",
    "    Returns:\n",
    "        Tuple of (paragraph_id, full_text)\n",
    "    \"\"\"\n",
    "    paragraph_id = paragraph.get('id', 'unknown')\n",
    "    \n",
    "    # Get main text\n",
    "    main_text = paragraph.get('text', '')\n",
    "    \n",
    "    # Add equation text if present\n",
    "    equation_text = extract_equation_text(paragraph)\n",
    "    if equation_text:\n",
    "        main_text = f\"{main_text} {equation_text}\"\n",
    "    \n",
    "    # Clean the combined text\n",
    "    clean_text = extract_clean_text(main_text)\n",
    "    \n",
    "    return paragraph_id, clean_text"
   ]
  },
  {
   "cell_type": "code",
   "execution_count": 30,
   "id": "62e70038",
   "metadata": {},
   "outputs": [],
   "source": [
    "### STEP 6: DEFINE TEXT EXTRACTION FUNCTIONS\n",
    "### BLOCK 2: Define section extraction functions\n",
    "\n",
    "def extract_section_content(section, parent_id=\"\", level=0):\n",
    "    \"\"\"\n",
    "    Recursively extract all text content from a section and its subsections\n",
    "    \n",
    "    Args:\n",
    "        section: Section dictionary from JSON\n",
    "        parent_id: Parent section ID for hierarchical tracking\n",
    "        level: Current nesting level (0=main, 1=sub, 2=subsub)\n",
    "    \n",
    "    Returns:\n",
    "        Dictionary with section text and list of all paragraphs\n",
    "    \"\"\"\n",
    "    section_id = section.get('id', 'unknown')\n",
    "    section_title = section.get('title', '')\n",
    "    \n",
    "    # Build simpler section ID based on level\n",
    "    if level == 0:\n",
    "        full_section_id = section_id\n",
    "    else:\n",
    "        full_section_id = f\"{parent_id}_{section_id.split('_')[-1]}\"\n",
    "    \n",
    "    # Collect all text for this section level\n",
    "    section_texts = []\n",
    "    all_paragraphs = []\n",
    "    subsection_results = []\n",
    "    \n",
    "    # Add section title\n",
    "    if section_title:\n",
    "        section_texts.append(section_title)\n",
    "    \n",
    "    # Extract main section paragraphs\n",
    "    for paragraph in section.get('paragraphs', []):\n",
    "        para_id, para_text = extract_paragraph_text(paragraph)\n",
    "        if para_text:\n",
    "            section_texts.append(para_text)\n",
    "            all_paragraphs.append({\n",
    "                'id': para_id,\n",
    "                'text': para_text,\n",
    "                'section_id': full_section_id,\n",
    "                'section_title': section_title,\n",
    "                'level': level\n",
    "            })\n",
    "    \n",
    "    # Process subsections recursively\n",
    "    for subsection in section.get('subsections', []):\n",
    "        subsection_content = extract_section_content(subsection, full_section_id, level + 1)\n",
    "        subsection_results.append(subsection_content)\n",
    "        section_texts.append(subsection_content['section_text'])\n",
    "        all_paragraphs.extend(subsection_content['all_paragraphs'])\n",
    "        \n",
    "        # Process subsubsections within each subsection\n",
    "        for subsubsection in subsection.get('subsubsections', []):\n",
    "            subsubsection_content = extract_section_content(\n",
    "                subsubsection, \n",
    "                f\"{full_section_id}_{subsection['id'].split('_')[-1]}\", \n",
    "                level + 2\n",
    "            )\n",
    "            subsection_results.append(subsubsection_content)\n",
    "            section_texts.append(subsubsection_content['section_text'])\n",
    "            all_paragraphs.extend(subsubsection_content['all_paragraphs'])\n",
    "    \n",
    "    # Combine all text for this section\n",
    "    combined_section_text = ' '.join(section_texts)\n",
    "    \n",
    "    return {\n",
    "        'section_id': full_section_id,\n",
    "        'section_title': section_title,\n",
    "        'section_text': combined_section_text,\n",
    "        'subsections': subsection_results,\n",
    "        'all_paragraphs': all_paragraphs,\n",
    "        'level': level\n",
    "    }"
   ]
  },
  {
   "cell_type": "code",
   "execution_count": 31,
   "id": "d72f1992",
   "metadata": {},
   "outputs": [],
   "source": [
    "### STEP 6: DEFINE TEXT EXTRACTION FUNCTIONS\n",
    "### BLOCK 3: Define document extraction functions\n",
    "\n",
    "def extract_document_content(corpus_item):\n",
    "    \"\"\"\n",
    "    Extract all text content from a corpus document at all levels\n",
    "    \"\"\"\n",
    "    print(f\"📄 Extracting content from: {corpus_item.get('document_id', 'Unknown')}\")\n",
    "    \n",
    "    # Initialize containers\n",
    "    document_texts = []\n",
    "    all_sections = []\n",
    "    all_paragraphs = []\n",
    "    \n",
    "    # Extract metadata\n",
    "    metadata = corpus_item.get('document_metadata', {})\n",
    "    doc_id = corpus_item.get('document_id', 'unknown')\n",
    "    title = metadata.get('title', '')\n",
    "    language = metadata.get('language_variant', 'unknown')\n",
    "    \n",
    "    # Add title to document text\n",
    "    if title:\n",
    "        document_texts.append(title)\n",
    "    \n",
    "    # Extract abstract if present\n",
    "    content = corpus_item.get('content', {})\n",
    "    abstract = content.get('abstract', '')\n",
    "    if abstract:\n",
    "        clean_abstract = extract_clean_text(abstract)\n",
    "        document_texts.append(clean_abstract)\n",
    "        all_paragraphs.append({\n",
    "            'id': f\"{doc_id}_abstract\",\n",
    "            'document_id': doc_id,\n",
    "            'text': clean_abstract,\n",
    "            'section_id': 'abstract',\n",
    "            'section_title': 'Abstract',\n",
    "            'level': -1  # Special level for abstract\n",
    "        })\n",
    "    \n",
    "    # Process all main sections\n",
    "    for section in content.get('sections', []):\n",
    "        section_content = extract_section_content(section, \"\", 0)\n",
    "        \n",
    "        # Add to document text\n",
    "        document_texts.append(section_content['section_text'])\n",
    "        \n",
    "        # Recursive function to collect all sections at all levels\n",
    "        def collect_sections(section_data):\n",
    "            all_sections.append({\n",
    "                'id': section_data['section_id'],\n",
    "                'document_id': doc_id,\n",
    "                'title': section_data['section_title'],\n",
    "                'text': section_data['section_text'],\n",
    "                'level': section_data['level']\n",
    "            })\n",
    "            for subsection in section_data['subsections']:\n",
    "                collect_sections(subsection)\n",
    "        \n",
    "        collect_sections(section_content)\n",
    "\n",
    "        # Update all paragraphs to include document_id\n",
    "        for paragraph in section_content['all_paragraphs']:\n",
    "            paragraph['document_id'] = doc_id\n",
    "        \n",
    "        # Collect all paragraphs\n",
    "        all_paragraphs.extend(section_content['all_paragraphs'])\n",
    "    \n",
    "    # Combine all text for document level\n",
    "    full_document_text = ' '.join(document_texts)\n",
    "    \n",
    "    # Calculate statistics by level\n",
    "    level_counts = {\n",
    "        'main_sections': len([s for s in all_sections if s['level'] == 0]),\n",
    "        'subsections': len([s for s in all_sections if s['level'] == 1]),\n",
    "        'subsubsections': len([s for s in all_sections if s['level'] == 2])\n",
    "    }\n",
    "    \n",
    "    stats = {\n",
    "        'total_sections': len(all_sections),\n",
    "        'total_paragraphs': len(all_paragraphs),\n",
    "        'document_length': len(full_document_text),\n",
    "        'level_counts': level_counts\n",
    "    }\n",
    "    \n",
    "    print(f\"  ✅ Extracted: {stats['total_sections']} sections, {stats['total_paragraphs']} paragraphs\")\n",
    "    print(f\"  📊 By level: {level_counts['main_sections']} main, {level_counts['subsections']} sub, {level_counts['subsubsections']} subsub\")\n",
    "    \n",
    "    return {\n",
    "        'document_id': doc_id,\n",
    "        'title': title,\n",
    "        'language': language,\n",
    "        'document_text': full_document_text,\n",
    "        'sections': all_sections,\n",
    "        'paragraphs': all_paragraphs,\n",
    "        'statistics': stats\n",
    "    }"
   ]
  },
  {
   "cell_type": "code",
   "execution_count": 32,
   "id": "82767bb1",
   "metadata": {},
   "outputs": [
    {
     "name": "stdout",
     "output_type": "stream",
     "text": [
      "🔍 VERIFYING SECTION EXTRACTION (FIXED):\n",
      "============================================================\n",
      "📄 Extracting content from: gai-eng_item001\n",
      "  ✅ Extracted: 22 sections, 70 paragraphs\n",
      "  📊 By level: 7 main, 12 sub, 3 subsub\n",
      "\n",
      "📊 Section Hierarchy:\n",
      "section_1: Introduction (level 0)\n",
      "section_2: Background (level 0)\n",
      "section_3: Model Architecture (level 0)\n",
      "  section_3_1: Encoder and Decoder Stacks (level 1)\n",
      "  section_3_2: Attention (level 1)\n",
      "    section_3_2_1: Scaled Dot-Product Attention (level 2)\n",
      "    section_3_2_2: Multi-Head Attention (level 2)\n",
      "    section_3_2_3: Applications of Attention in our Model (level 2)\n",
      "  section_3_3: Position-wise Feed-Forward Networks (level 1)\n",
      "  section_3_4: Embeddings and Softmax (level 1)\n",
      "  section_3_5: Positional Encoding (level 1)\n",
      "section_4: 4 Why Self-Attention (level 0)\n",
      "section_5: Training (level 0)\n",
      "  section_5_1: Training Data and Batching (level 1)\n",
      "  section_5_2: Hardware and Schedule (level 1)\n",
      "  section_5_3: Optimizer (level 1)\n",
      "  section_5_4: Regularization (level 1)\n",
      "section_6: Results (level 0)\n",
      "  section_6_1: Machine Translation (level 1)\n",
      "  section_6_2: Model Variations (level 1)\n",
      "  section_6_3: English Constituency Parsing (level 1)\n",
      "section_7: 7 Conclusion (level 0)\n",
      "\n",
      "🔍 Section 3 Analysis:\n",
      "  • Section 3 (main): 1\n",
      "  • Section 3 subsections: 5 (expected: 5)\n",
      "    - section_3_1: Encoder and Decoder Stacks (level 1)\n",
      "    - section_3_2: Attention (level 1)\n",
      "    - section_3_3: Position-wise Feed-Forward Networks (level 1)\n",
      "    - section_3_4: Embeddings and Softmax (level 1)\n",
      "    - section_3_5: Positional Encoding (level 1)\n",
      "\n",
      "  • Section 3.2 subsubsections: 3 (expected: 3)\n",
      "    - section_3_2_1: Scaled Dot-Product Attention (level 2)\n",
      "    - section_3_2_2: Multi-Head Attention (level 2)\n",
      "    - section_3_2_3: Applications of Attention in our Model (level 2)\n",
      "\n",
      "📊 Level Distribution:\n",
      "  Level 0: 7 sections\n",
      "  Level 1: 12 sections\n",
      "    - section_3_1\n",
      "    - section_3_2\n",
      "    - section_3_3\n",
      "    - section_3_4\n",
      "    - section_3_5\n",
      "  Level 2: 3 sections\n"
     ]
    }
   ],
   "source": [
    "### STEP 6: DEFINE TEXT EXTRACTION FUNCTIONS\n",
    "### BLOCK 4: Verify extraction functions\n",
    "\n",
    "def verify_section_extraction(corpus_item):\n",
    "    \"\"\"\n",
    "    Fixed verification of section extraction\n",
    "    \"\"\"\n",
    "    print(\"🔍 VERIFYING SECTION EXTRACTION (FIXED):\")\n",
    "    print(\"=\" * 60)\n",
    "    \n",
    "    extracted = extract_document_content(corpus_item)\n",
    "    \n",
    "    # Show hierarchy\n",
    "    print(\"\\n📊 Section Hierarchy:\")\n",
    "    for section in extracted['sections']:\n",
    "        indent = \"  \" * section['level']\n",
    "        print(f\"{indent}{section['id']}: {section['title']} (level {section['level']})\")\n",
    "    \n",
    "    # Check Section 3 specifically - FIXED FILTERING\n",
    "    print(f\"\\n🔍 Section 3 Analysis:\")\n",
    "    \n",
    "    # Get all sections\n",
    "    all_sections = extracted['sections']\n",
    "    \n",
    "    # Main section 3\n",
    "    section_3_main = [s for s in all_sections if s['id'] == 'section_3']\n",
    "    \n",
    "    # Subsections of section 3 (they should have IDs like section_3_1, section_3_2, etc.)\n",
    "    section_3_subs = [s for s in all_sections if s['id'].startswith('section_3_') and s['id'].count('_') == 2]\n",
    "    \n",
    "    # Subsubsections of section 3.2\n",
    "    section_3_2_subsubs = [s for s in all_sections if s['id'].startswith('section_3_2_') and s['id'].count('_') == 3]\n",
    "    \n",
    "    print(f\"  • Section 3 (main): {len(section_3_main)}\")\n",
    "    print(f\"  • Section 3 subsections: {len(section_3_subs)} (expected: 5)\")\n",
    "    for sub in section_3_subs:\n",
    "        print(f\"    - {sub['id']}: {sub['title']} (level {sub['level']})\")\n",
    "    \n",
    "    print(f\"\\n  • Section 3.2 subsubsections: {len(section_3_2_subsubs)} (expected: 3)\")\n",
    "    for subsub in section_3_2_subsubs:\n",
    "        print(f\"    - {subsub['id']}: {subsub['title']} (level {subsub['level']})\")\n",
    "    \n",
    "    # Additional debugging: Show what levels are actually being assigned\n",
    "    print(f\"\\n📊 Level Distribution:\")\n",
    "    level_distribution = {}\n",
    "    for s in all_sections:\n",
    "        level = s['level']\n",
    "        if level not in level_distribution:\n",
    "            level_distribution[level] = []\n",
    "        level_distribution[level].append(f\"{s['id']}\")\n",
    "    \n",
    "    for level, sections in sorted(level_distribution.items()):\n",
    "        print(f\"  Level {level}: {len(sections)} sections\")\n",
    "        if level == 1:  # Show subsections\n",
    "            for s_id in sections[:5]:  # Show first 5\n",
    "                print(f\"    - {s_id}\")\n",
    "    \n",
    "    return extracted\n",
    "\n",
    "# Run the fixed verification\n",
    "verified_content = verify_section_extraction(corpus_item)"
   ]
  },
  {
   "cell_type": "markdown",
   "id": "e19804be",
   "metadata": {},
   "source": [
    "### STEP 7: CREATE VECTORIZATION FUNCTIONS"
   ]
  },
  {
   "cell_type": "code",
   "execution_count": 33,
   "id": "9bde2c0f",
   "metadata": {},
   "outputs": [
    {
     "name": "stdout",
     "output_type": "stream",
     "text": [
      "🚀 PREPARING VECTORIZATION FUNCTIONS\n",
      "==================================================\n",
      "✅ Single document vectorization function ready!\n",
      "📋 Function: create_vectors(extracted_content, model)\n",
      "📐 Creates 512-dimensional vectors using distiluse-base-multilingual-cased-v2\n",
      "\n",
      "💡 For batch processing multiple documents, use create_vectors_batch.ipynb\n"
     ]
    }
   ],
   "source": [
    "### STEP 7: CREATE VECTORIZATION FUNCTIONS\n",
    "### Single document vectorization\n",
    "\n",
    "print(\"🚀 PREPARING VECTORIZATION FUNCTIONS\")\n",
    "print(\"=\" * 50)\n",
    "\n",
    "def create_vectors(extracted_content, model):\n",
    "    \"\"\"\n",
    "    Create vectors at document, section, and paragraph levels\n",
    "    \n",
    "    Args:\n",
    "        extracted_content: Output from extract_document_content()\n",
    "        model: SentenceTransformer model (distiluse-base-multilingual-cased-v2)\n",
    "    \n",
    "    Returns:\n",
    "        Dictionary with vectors at all levels\n",
    "    \"\"\"\n",
    "    print(f\"🚀 Creating vectors for: {extracted_content['document_id']}\")\n",
    "    \n",
    "    # Document-level vector (full document text)\n",
    "    print(\"📄 Creating document-level vector...\")\n",
    "    doc_vector = model.encode(extracted_content['document_text'])\n",
    "    \n",
    "    # Section-level vectors\n",
    "    print(f\"📚 Creating {len(extracted_content['sections'])} section-level vectors...\")\n",
    "    section_vectors = []\n",
    "    for section in extracted_content['sections']:\n",
    "        vector = model.encode(section['text'])\n",
    "        section_vectors.append({\n",
    "            'id': section['id'],\n",
    "            'document_id': section['document_id'],\n",
    "            'title': section['title'],\n",
    "            'level': section['level'],\n",
    "            'vector': vector,\n",
    "            'text': section['text']  # Full text, no truncation\n",
    "        })\n",
    "    \n",
    "    # Paragraph-level vectors\n",
    "    print(f\"📝 Creating {len(extracted_content['paragraphs'])} paragraph-level vectors...\")\n",
    "    paragraph_vectors = []\n",
    "    for paragraph in extracted_content['paragraphs']:\n",
    "        vector = model.encode(paragraph['text'])\n",
    "        paragraph_vectors.append({\n",
    "            'id': paragraph['id'],\n",
    "            'document_id': paragraph['document_id'],\n",
    "            'section_id': paragraph['section_id'],\n",
    "            'vector': vector,\n",
    "            'text': paragraph['text']  # Full text, no truncation\n",
    "        })\n",
    "    \n",
    "    print(f\"  ✅ Created: 1 document vector, {len(section_vectors)} section vectors, {len(paragraph_vectors)} paragraph vectors\")\n",
    "    print(f\"  📐 Vector dimension: {doc_vector.shape[0]}\")\n",
    "    \n",
    "    return {\n",
    "        'document_id': extracted_content['document_id'],\n",
    "        'language': extracted_content['language'],\n",
    "        'document_vector': {\n",
    "            'id': extracted_content['document_id'],\n",
    "            'title': extracted_content['title'],\n",
    "            'vector': doc_vector,\n",
    "            'text': extracted_content['document_text']  # Full document text\n",
    "        },\n",
    "        'section_vectors': section_vectors,\n",
    "        'paragraph_vectors': paragraph_vectors\n",
    "    }\n",
    "\n",
    "print(\"✅ Single document vectorization function ready!\")\n",
    "print(\"📋 Function: create_vectors(extracted_content, model)\")\n",
    "print(\"📐 Creates 512-dimensional vectors using distiluse-base-multilingual-cased-v2\")\n",
    "print(\"\\n💡 For batch processing multiple documents, use create_vectors_batch.ipynb\")"
   ]
  },
  {
   "cell_type": "markdown",
   "id": "0e103ea3",
   "metadata": {},
   "source": [
    "## ============================================================================="
   ]
  },
  {
   "cell_type": "markdown",
   "id": "b6d97c2d",
   "metadata": {},
   "source": [
    "## Part 3: Execution and Output"
   ]
  },
  {
   "cell_type": "markdown",
   "id": "547124d2",
   "metadata": {},
   "source": [
    "### STEP 8: PROCESS SINGLE DOCUMENT\n",
    "(Work with one document in this file first to verify everything works)"
   ]
  },
  {
   "cell_type": "code",
   "execution_count": 34,
   "id": "f2bda0fd",
   "metadata": {},
   "outputs": [
    {
     "name": "stdout",
     "output_type": "stream",
     "text": [
      "📄 Extracting content from: gai-eng_item001\n",
      "  ✅ Extracted: 22 sections, 70 paragraphs\n",
      "  📊 By level: 7 main, 12 sub, 3 subsub\n",
      "🔍 DEBUG - First paragraph keys:\n",
      "Keys: ['id', 'document_id', 'text', 'section_id', 'section_title', 'level']\n",
      "Sample paragraph: {'id': 'gai-eng_item001_abstract', 'document_id': 'gai-eng_item001', 'text': 'The dominant sequence transduction models are based on complex recurrent or convolutional neural networks that include an encoder and a decoder. The best performing models also connect the encoder and decoder through an attention mechanism. We propose a new simple network architecture, the Transformer, based solely on attention mechanisms, dispensing with recurrence and convolutions entirely. Experiments on two machine translation tasks show these models to be superior in quality while being more parallelizable and requiring significantly less time to train. Our model achieves 28.4 BLEU on the WMT 2014 English-to-German translation task, improving over the existing best results, including ensembles, by over 2 BLEU. On the WMT 2014 English-to-French translation task, our model establishes a new single-model state-of-the-art BLEU score of 41.8 after training for 3.5 days on eight GPUs, a small fraction of the training costs of the best models from the literature. We show that the Transformer generalizes well to other tasks by applying it successfully to English constituency parsing both with large and limited training data.', 'section_id': 'abstract', 'section_title': 'Abstract', 'level': -1}\n"
     ]
    }
   ],
   "source": [
    "# DEBUG: Check what's in the paragraphs\n",
    "extracted = extract_document_content(corpus_item)\n",
    "print(\"🔍 DEBUG - First paragraph keys:\")\n",
    "if extracted['paragraphs']:\n",
    "    print(f\"Keys: {list(extracted['paragraphs'][0].keys())}\")\n",
    "    print(f\"Sample paragraph: {extracted['paragraphs'][0]}\")"
   ]
  },
  {
   "cell_type": "code",
   "execution_count": 35,
   "id": "70d933d1",
   "metadata": {},
   "outputs": [
    {
     "name": "stdout",
     "output_type": "stream",
     "text": [
      "🧪 TESTING VECTOR CREATION\n",
      "============================================================\n",
      "📄 Extracting content from: gai-eng_item001\n",
      "  ✅ Extracted: 22 sections, 70 paragraphs\n",
      "  📊 By level: 7 main, 12 sub, 3 subsub\n",
      "🚀 Creating vectors for: gai-eng_item001\n",
      "📄 Creating document-level vector...\n"
     ]
    },
    {
     "data": {
      "application/vnd.jupyter.widget-view+json": {
       "model_id": "7e15f250ac5c467bbca35d3c29b444e6",
       "version_major": 2,
       "version_minor": 0
      },
      "text/plain": [
       "Batches:   0%|          | 0/1 [00:00<?, ?it/s]"
      ]
     },
     "metadata": {},
     "output_type": "display_data"
    },
    {
     "name": "stdout",
     "output_type": "stream",
     "text": [
      "📚 Creating 22 section-level vectors...\n"
     ]
    },
    {
     "data": {
      "application/vnd.jupyter.widget-view+json": {
       "model_id": "55dbd215c2974753b7e672e892b932b4",
       "version_major": 2,
       "version_minor": 0
      },
      "text/plain": [
       "Batches:   0%|          | 0/1 [00:00<?, ?it/s]"
      ]
     },
     "metadata": {},
     "output_type": "display_data"
    },
    {
     "data": {
      "application/vnd.jupyter.widget-view+json": {
       "model_id": "45ea20e49f6f4a6b99045bb4b4eede4f",
       "version_major": 2,
       "version_minor": 0
      },
      "text/plain": [
       "Batches:   0%|          | 0/1 [00:00<?, ?it/s]"
      ]
     },
     "metadata": {},
     "output_type": "display_data"
    },
    {
     "data": {
      "application/vnd.jupyter.widget-view+json": {
       "model_id": "5f49296972b547cfa1e5da2a16becf2b",
       "version_major": 2,
       "version_minor": 0
      },
      "text/plain": [
       "Batches:   0%|          | 0/1 [00:00<?, ?it/s]"
      ]
     },
     "metadata": {},
     "output_type": "display_data"
    },
    {
     "data": {
      "application/vnd.jupyter.widget-view+json": {
       "model_id": "1b7385ff66fe44bd99a4ff09b3f7d1ac",
       "version_major": 2,
       "version_minor": 0
      },
      "text/plain": [
       "Batches:   0%|          | 0/1 [00:00<?, ?it/s]"
      ]
     },
     "metadata": {},
     "output_type": "display_data"
    },
    {
     "data": {
      "application/vnd.jupyter.widget-view+json": {
       "model_id": "abfe60e4714848f7b17bdef7d11b9771",
       "version_major": 2,
       "version_minor": 0
      },
      "text/plain": [
       "Batches:   0%|          | 0/1 [00:00<?, ?it/s]"
      ]
     },
     "metadata": {},
     "output_type": "display_data"
    },
    {
     "data": {
      "application/vnd.jupyter.widget-view+json": {
       "model_id": "74b39d096a37436eaaf086c59b783edb",
       "version_major": 2,
       "version_minor": 0
      },
      "text/plain": [
       "Batches:   0%|          | 0/1 [00:00<?, ?it/s]"
      ]
     },
     "metadata": {},
     "output_type": "display_data"
    },
    {
     "data": {
      "application/vnd.jupyter.widget-view+json": {
       "model_id": "b9e226e2127b4dc7acbdba2fcf8cd7d4",
       "version_major": 2,
       "version_minor": 0
      },
      "text/plain": [
       "Batches:   0%|          | 0/1 [00:00<?, ?it/s]"
      ]
     },
     "metadata": {},
     "output_type": "display_data"
    },
    {
     "data": {
      "application/vnd.jupyter.widget-view+json": {
       "model_id": "12cae5e72ad743dc8ae4c6a5b0e58806",
       "version_major": 2,
       "version_minor": 0
      },
      "text/plain": [
       "Batches:   0%|          | 0/1 [00:00<?, ?it/s]"
      ]
     },
     "metadata": {},
     "output_type": "display_data"
    },
    {
     "data": {
      "application/vnd.jupyter.widget-view+json": {
       "model_id": "0148ecaf0d084d338f06db1d5750e2fc",
       "version_major": 2,
       "version_minor": 0
      },
      "text/plain": [
       "Batches:   0%|          | 0/1 [00:00<?, ?it/s]"
      ]
     },
     "metadata": {},
     "output_type": "display_data"
    },
    {
     "data": {
      "application/vnd.jupyter.widget-view+json": {
       "model_id": "1fbb8c83bb1b4d3faa0b009a20dd3e0f",
       "version_major": 2,
       "version_minor": 0
      },
      "text/plain": [
       "Batches:   0%|          | 0/1 [00:00<?, ?it/s]"
      ]
     },
     "metadata": {},
     "output_type": "display_data"
    },
    {
     "data": {
      "application/vnd.jupyter.widget-view+json": {
       "model_id": "0903eda43a454662b6ea909b28105173",
       "version_major": 2,
       "version_minor": 0
      },
      "text/plain": [
       "Batches:   0%|          | 0/1 [00:00<?, ?it/s]"
      ]
     },
     "metadata": {},
     "output_type": "display_data"
    },
    {
     "data": {
      "application/vnd.jupyter.widget-view+json": {
       "model_id": "c3b499bde58e4652bcf8f048d301178b",
       "version_major": 2,
       "version_minor": 0
      },
      "text/plain": [
       "Batches:   0%|          | 0/1 [00:00<?, ?it/s]"
      ]
     },
     "metadata": {},
     "output_type": "display_data"
    },
    {
     "data": {
      "application/vnd.jupyter.widget-view+json": {
       "model_id": "8d54f2267a5e4a43bd6026a37b5e3c64",
       "version_major": 2,
       "version_minor": 0
      },
      "text/plain": [
       "Batches:   0%|          | 0/1 [00:00<?, ?it/s]"
      ]
     },
     "metadata": {},
     "output_type": "display_data"
    },
    {
     "data": {
      "application/vnd.jupyter.widget-view+json": {
       "model_id": "1f5e9142165f463fa45d7617e02d59ce",
       "version_major": 2,
       "version_minor": 0
      },
      "text/plain": [
       "Batches:   0%|          | 0/1 [00:00<?, ?it/s]"
      ]
     },
     "metadata": {},
     "output_type": "display_data"
    },
    {
     "data": {
      "application/vnd.jupyter.widget-view+json": {
       "model_id": "f7c1b30a955b43e68d66ca8823e4d4d8",
       "version_major": 2,
       "version_minor": 0
      },
      "text/plain": [
       "Batches:   0%|          | 0/1 [00:00<?, ?it/s]"
      ]
     },
     "metadata": {},
     "output_type": "display_data"
    },
    {
     "data": {
      "application/vnd.jupyter.widget-view+json": {
       "model_id": "de2840ac8d2346f9ab500e68a06f0bf1",
       "version_major": 2,
       "version_minor": 0
      },
      "text/plain": [
       "Batches:   0%|          | 0/1 [00:00<?, ?it/s]"
      ]
     },
     "metadata": {},
     "output_type": "display_data"
    },
    {
     "data": {
      "application/vnd.jupyter.widget-view+json": {
       "model_id": "56464a06825b4a63860c65411e637062",
       "version_major": 2,
       "version_minor": 0
      },
      "text/plain": [
       "Batches:   0%|          | 0/1 [00:00<?, ?it/s]"
      ]
     },
     "metadata": {},
     "output_type": "display_data"
    },
    {
     "data": {
      "application/vnd.jupyter.widget-view+json": {
       "model_id": "78b26b763d8849fca1f7f3baa5e36e95",
       "version_major": 2,
       "version_minor": 0
      },
      "text/plain": [
       "Batches:   0%|          | 0/1 [00:00<?, ?it/s]"
      ]
     },
     "metadata": {},
     "output_type": "display_data"
    },
    {
     "data": {
      "application/vnd.jupyter.widget-view+json": {
       "model_id": "20c0dcf7c688445599e31b23598d3e4f",
       "version_major": 2,
       "version_minor": 0
      },
      "text/plain": [
       "Batches:   0%|          | 0/1 [00:00<?, ?it/s]"
      ]
     },
     "metadata": {},
     "output_type": "display_data"
    },
    {
     "data": {
      "application/vnd.jupyter.widget-view+json": {
       "model_id": "75af0ba5cba74ac0985c82c5a625e706",
       "version_major": 2,
       "version_minor": 0
      },
      "text/plain": [
       "Batches:   0%|          | 0/1 [00:00<?, ?it/s]"
      ]
     },
     "metadata": {},
     "output_type": "display_data"
    },
    {
     "data": {
      "application/vnd.jupyter.widget-view+json": {
       "model_id": "8388b13e67c64f0796ece0fce858e0d0",
       "version_major": 2,
       "version_minor": 0
      },
      "text/plain": [
       "Batches:   0%|          | 0/1 [00:00<?, ?it/s]"
      ]
     },
     "metadata": {},
     "output_type": "display_data"
    },
    {
     "data": {
      "application/vnd.jupyter.widget-view+json": {
       "model_id": "f2e74635aab24a06ab2b1e0dc716eb43",
       "version_major": 2,
       "version_minor": 0
      },
      "text/plain": [
       "Batches:   0%|          | 0/1 [00:00<?, ?it/s]"
      ]
     },
     "metadata": {},
     "output_type": "display_data"
    },
    {
     "name": "stdout",
     "output_type": "stream",
     "text": [
      "📝 Creating 70 paragraph-level vectors...\n"
     ]
    },
    {
     "data": {
      "application/vnd.jupyter.widget-view+json": {
       "model_id": "f956664a6a6b4fae9b389b24f203935c",
       "version_major": 2,
       "version_minor": 0
      },
      "text/plain": [
       "Batches:   0%|          | 0/1 [00:00<?, ?it/s]"
      ]
     },
     "metadata": {},
     "output_type": "display_data"
    },
    {
     "data": {
      "application/vnd.jupyter.widget-view+json": {
       "model_id": "3fa52a3f040f4cc79098bb3c705d787a",
       "version_major": 2,
       "version_minor": 0
      },
      "text/plain": [
       "Batches:   0%|          | 0/1 [00:00<?, ?it/s]"
      ]
     },
     "metadata": {},
     "output_type": "display_data"
    },
    {
     "data": {
      "application/vnd.jupyter.widget-view+json": {
       "model_id": "edde53258db24c7780bcfafca38e32c1",
       "version_major": 2,
       "version_minor": 0
      },
      "text/plain": [
       "Batches:   0%|          | 0/1 [00:00<?, ?it/s]"
      ]
     },
     "metadata": {},
     "output_type": "display_data"
    },
    {
     "data": {
      "application/vnd.jupyter.widget-view+json": {
       "model_id": "7cb68bc9d7f24a70a8aa9fc3433f37ef",
       "version_major": 2,
       "version_minor": 0
      },
      "text/plain": [
       "Batches:   0%|          | 0/1 [00:00<?, ?it/s]"
      ]
     },
     "metadata": {},
     "output_type": "display_data"
    },
    {
     "data": {
      "application/vnd.jupyter.widget-view+json": {
       "model_id": "55865db81ec041be8030a6291b953152",
       "version_major": 2,
       "version_minor": 0
      },
      "text/plain": [
       "Batches:   0%|          | 0/1 [00:00<?, ?it/s]"
      ]
     },
     "metadata": {},
     "output_type": "display_data"
    },
    {
     "data": {
      "application/vnd.jupyter.widget-view+json": {
       "model_id": "63b89755e8384b7c8af28f3cdea75f60",
       "version_major": 2,
       "version_minor": 0
      },
      "text/plain": [
       "Batches:   0%|          | 0/1 [00:00<?, ?it/s]"
      ]
     },
     "metadata": {},
     "output_type": "display_data"
    },
    {
     "data": {
      "application/vnd.jupyter.widget-view+json": {
       "model_id": "60111825e7874bc1b78c10f8c914b33b",
       "version_major": 2,
       "version_minor": 0
      },
      "text/plain": [
       "Batches:   0%|          | 0/1 [00:00<?, ?it/s]"
      ]
     },
     "metadata": {},
     "output_type": "display_data"
    },
    {
     "data": {
      "application/vnd.jupyter.widget-view+json": {
       "model_id": "84e59b9012ac4097b9873e2afecc7dda",
       "version_major": 2,
       "version_minor": 0
      },
      "text/plain": [
       "Batches:   0%|          | 0/1 [00:00<?, ?it/s]"
      ]
     },
     "metadata": {},
     "output_type": "display_data"
    },
    {
     "data": {
      "application/vnd.jupyter.widget-view+json": {
       "model_id": "8f477a3e7b2b4960a2fbeebb14f36774",
       "version_major": 2,
       "version_minor": 0
      },
      "text/plain": [
       "Batches:   0%|          | 0/1 [00:00<?, ?it/s]"
      ]
     },
     "metadata": {},
     "output_type": "display_data"
    },
    {
     "data": {
      "application/vnd.jupyter.widget-view+json": {
       "model_id": "d824613a27b145e394934d4dd36be9b9",
       "version_major": 2,
       "version_minor": 0
      },
      "text/plain": [
       "Batches:   0%|          | 0/1 [00:00<?, ?it/s]"
      ]
     },
     "metadata": {},
     "output_type": "display_data"
    },
    {
     "data": {
      "application/vnd.jupyter.widget-view+json": {
       "model_id": "7a6fe776070f4c1c8c1e0860818eaec9",
       "version_major": 2,
       "version_minor": 0
      },
      "text/plain": [
       "Batches:   0%|          | 0/1 [00:00<?, ?it/s]"
      ]
     },
     "metadata": {},
     "output_type": "display_data"
    },
    {
     "data": {
      "application/vnd.jupyter.widget-view+json": {
       "model_id": "99e85e0747094d96a8a4b5b08e9c6689",
       "version_major": 2,
       "version_minor": 0
      },
      "text/plain": [
       "Batches:   0%|          | 0/1 [00:00<?, ?it/s]"
      ]
     },
     "metadata": {},
     "output_type": "display_data"
    },
    {
     "data": {
      "application/vnd.jupyter.widget-view+json": {
       "model_id": "c4e3e52c61d1411089085273d54f38f6",
       "version_major": 2,
       "version_minor": 0
      },
      "text/plain": [
       "Batches:   0%|          | 0/1 [00:00<?, ?it/s]"
      ]
     },
     "metadata": {},
     "output_type": "display_data"
    },
    {
     "data": {
      "application/vnd.jupyter.widget-view+json": {
       "model_id": "8eac1cc7c01b46faa36986677a887ef9",
       "version_major": 2,
       "version_minor": 0
      },
      "text/plain": [
       "Batches:   0%|          | 0/1 [00:00<?, ?it/s]"
      ]
     },
     "metadata": {},
     "output_type": "display_data"
    },
    {
     "data": {
      "application/vnd.jupyter.widget-view+json": {
       "model_id": "b35cdc263c5a47949fc16e8d5ba4c645",
       "version_major": 2,
       "version_minor": 0
      },
      "text/plain": [
       "Batches:   0%|          | 0/1 [00:00<?, ?it/s]"
      ]
     },
     "metadata": {},
     "output_type": "display_data"
    },
    {
     "data": {
      "application/vnd.jupyter.widget-view+json": {
       "model_id": "416c9d5a33054508835461286edf39a0",
       "version_major": 2,
       "version_minor": 0
      },
      "text/plain": [
       "Batches:   0%|          | 0/1 [00:00<?, ?it/s]"
      ]
     },
     "metadata": {},
     "output_type": "display_data"
    },
    {
     "data": {
      "application/vnd.jupyter.widget-view+json": {
       "model_id": "73604eb565274fa6a3b107729fbcfb8b",
       "version_major": 2,
       "version_minor": 0
      },
      "text/plain": [
       "Batches:   0%|          | 0/1 [00:00<?, ?it/s]"
      ]
     },
     "metadata": {},
     "output_type": "display_data"
    },
    {
     "data": {
      "application/vnd.jupyter.widget-view+json": {
       "model_id": "e9049c9ac220425c821d09af3b1203a2",
       "version_major": 2,
       "version_minor": 0
      },
      "text/plain": [
       "Batches:   0%|          | 0/1 [00:00<?, ?it/s]"
      ]
     },
     "metadata": {},
     "output_type": "display_data"
    },
    {
     "data": {
      "application/vnd.jupyter.widget-view+json": {
       "model_id": "7f33f20787e9413aab30714f950a389b",
       "version_major": 2,
       "version_minor": 0
      },
      "text/plain": [
       "Batches:   0%|          | 0/1 [00:00<?, ?it/s]"
      ]
     },
     "metadata": {},
     "output_type": "display_data"
    },
    {
     "data": {
      "application/vnd.jupyter.widget-view+json": {
       "model_id": "1959fdcb4ad5466585acfd0d868cf045",
       "version_major": 2,
       "version_minor": 0
      },
      "text/plain": [
       "Batches:   0%|          | 0/1 [00:00<?, ?it/s]"
      ]
     },
     "metadata": {},
     "output_type": "display_data"
    },
    {
     "data": {
      "application/vnd.jupyter.widget-view+json": {
       "model_id": "dff086ea8f744d899554537226450b0f",
       "version_major": 2,
       "version_minor": 0
      },
      "text/plain": [
       "Batches:   0%|          | 0/1 [00:00<?, ?it/s]"
      ]
     },
     "metadata": {},
     "output_type": "display_data"
    },
    {
     "data": {
      "application/vnd.jupyter.widget-view+json": {
       "model_id": "be0d7b02063e4833abe89f104279a66b",
       "version_major": 2,
       "version_minor": 0
      },
      "text/plain": [
       "Batches:   0%|          | 0/1 [00:00<?, ?it/s]"
      ]
     },
     "metadata": {},
     "output_type": "display_data"
    },
    {
     "data": {
      "application/vnd.jupyter.widget-view+json": {
       "model_id": "eff71a73113a48e1ab1abccc6e4301d0",
       "version_major": 2,
       "version_minor": 0
      },
      "text/plain": [
       "Batches:   0%|          | 0/1 [00:00<?, ?it/s]"
      ]
     },
     "metadata": {},
     "output_type": "display_data"
    },
    {
     "data": {
      "application/vnd.jupyter.widget-view+json": {
       "model_id": "78e7aa1bc8ae4bc591805922480a78e1",
       "version_major": 2,
       "version_minor": 0
      },
      "text/plain": [
       "Batches:   0%|          | 0/1 [00:00<?, ?it/s]"
      ]
     },
     "metadata": {},
     "output_type": "display_data"
    },
    {
     "data": {
      "application/vnd.jupyter.widget-view+json": {
       "model_id": "4f3cba7bd40b45e08631b4335f9fe794",
       "version_major": 2,
       "version_minor": 0
      },
      "text/plain": [
       "Batches:   0%|          | 0/1 [00:00<?, ?it/s]"
      ]
     },
     "metadata": {},
     "output_type": "display_data"
    },
    {
     "data": {
      "application/vnd.jupyter.widget-view+json": {
       "model_id": "df0ac03996a24476a301e087fb42740c",
       "version_major": 2,
       "version_minor": 0
      },
      "text/plain": [
       "Batches:   0%|          | 0/1 [00:00<?, ?it/s]"
      ]
     },
     "metadata": {},
     "output_type": "display_data"
    },
    {
     "data": {
      "application/vnd.jupyter.widget-view+json": {
       "model_id": "adf0a8922c324638891e25f3f6d3d0cf",
       "version_major": 2,
       "version_minor": 0
      },
      "text/plain": [
       "Batches:   0%|          | 0/1 [00:00<?, ?it/s]"
      ]
     },
     "metadata": {},
     "output_type": "display_data"
    },
    {
     "data": {
      "application/vnd.jupyter.widget-view+json": {
       "model_id": "12d6e8eea95848cea9c2a3a9be99a45e",
       "version_major": 2,
       "version_minor": 0
      },
      "text/plain": [
       "Batches:   0%|          | 0/1 [00:00<?, ?it/s]"
      ]
     },
     "metadata": {},
     "output_type": "display_data"
    },
    {
     "data": {
      "application/vnd.jupyter.widget-view+json": {
       "model_id": "e6362ab529f94c428ffd39ae9c4d5d25",
       "version_major": 2,
       "version_minor": 0
      },
      "text/plain": [
       "Batches:   0%|          | 0/1 [00:00<?, ?it/s]"
      ]
     },
     "metadata": {},
     "output_type": "display_data"
    },
    {
     "data": {
      "application/vnd.jupyter.widget-view+json": {
       "model_id": "3b581b78eedb44aa9858cd717e78d270",
       "version_major": 2,
       "version_minor": 0
      },
      "text/plain": [
       "Batches:   0%|          | 0/1 [00:00<?, ?it/s]"
      ]
     },
     "metadata": {},
     "output_type": "display_data"
    },
    {
     "data": {
      "application/vnd.jupyter.widget-view+json": {
       "model_id": "6f793d4a2451454284cb3e0ccaf2770b",
       "version_major": 2,
       "version_minor": 0
      },
      "text/plain": [
       "Batches:   0%|          | 0/1 [00:00<?, ?it/s]"
      ]
     },
     "metadata": {},
     "output_type": "display_data"
    },
    {
     "data": {
      "application/vnd.jupyter.widget-view+json": {
       "model_id": "06d780acd605499bbb625d6b6e739fc4",
       "version_major": 2,
       "version_minor": 0
      },
      "text/plain": [
       "Batches:   0%|          | 0/1 [00:00<?, ?it/s]"
      ]
     },
     "metadata": {},
     "output_type": "display_data"
    },
    {
     "data": {
      "application/vnd.jupyter.widget-view+json": {
       "model_id": "b07cb73adf57446795d7e60442ad02a0",
       "version_major": 2,
       "version_minor": 0
      },
      "text/plain": [
       "Batches:   0%|          | 0/1 [00:00<?, ?it/s]"
      ]
     },
     "metadata": {},
     "output_type": "display_data"
    },
    {
     "data": {
      "application/vnd.jupyter.widget-view+json": {
       "model_id": "43ffb89069344bc198cfda22e7539461",
       "version_major": 2,
       "version_minor": 0
      },
      "text/plain": [
       "Batches:   0%|          | 0/1 [00:00<?, ?it/s]"
      ]
     },
     "metadata": {},
     "output_type": "display_data"
    },
    {
     "data": {
      "application/vnd.jupyter.widget-view+json": {
       "model_id": "65f456ae47c14c919bb15df862cb0a44",
       "version_major": 2,
       "version_minor": 0
      },
      "text/plain": [
       "Batches:   0%|          | 0/1 [00:00<?, ?it/s]"
      ]
     },
     "metadata": {},
     "output_type": "display_data"
    },
    {
     "data": {
      "application/vnd.jupyter.widget-view+json": {
       "model_id": "03a0c9e1926b4b27979413b72c46c8f6",
       "version_major": 2,
       "version_minor": 0
      },
      "text/plain": [
       "Batches:   0%|          | 0/1 [00:00<?, ?it/s]"
      ]
     },
     "metadata": {},
     "output_type": "display_data"
    },
    {
     "data": {
      "application/vnd.jupyter.widget-view+json": {
       "model_id": "23719442813f49bca172e6a48b9fd638",
       "version_major": 2,
       "version_minor": 0
      },
      "text/plain": [
       "Batches:   0%|          | 0/1 [00:00<?, ?it/s]"
      ]
     },
     "metadata": {},
     "output_type": "display_data"
    },
    {
     "data": {
      "application/vnd.jupyter.widget-view+json": {
       "model_id": "4977869c030e43c4a54e2d3ca1c33b9d",
       "version_major": 2,
       "version_minor": 0
      },
      "text/plain": [
       "Batches:   0%|          | 0/1 [00:00<?, ?it/s]"
      ]
     },
     "metadata": {},
     "output_type": "display_data"
    },
    {
     "data": {
      "application/vnd.jupyter.widget-view+json": {
       "model_id": "588549f49773430aa042a4f8d7dac875",
       "version_major": 2,
       "version_minor": 0
      },
      "text/plain": [
       "Batches:   0%|          | 0/1 [00:00<?, ?it/s]"
      ]
     },
     "metadata": {},
     "output_type": "display_data"
    },
    {
     "data": {
      "application/vnd.jupyter.widget-view+json": {
       "model_id": "de81f80fdb83452bb9e4e6e43937560f",
       "version_major": 2,
       "version_minor": 0
      },
      "text/plain": [
       "Batches:   0%|          | 0/1 [00:00<?, ?it/s]"
      ]
     },
     "metadata": {},
     "output_type": "display_data"
    },
    {
     "data": {
      "application/vnd.jupyter.widget-view+json": {
       "model_id": "368b3cd2100b4242bdeaa84cd6343baa",
       "version_major": 2,
       "version_minor": 0
      },
      "text/plain": [
       "Batches:   0%|          | 0/1 [00:00<?, ?it/s]"
      ]
     },
     "metadata": {},
     "output_type": "display_data"
    },
    {
     "data": {
      "application/vnd.jupyter.widget-view+json": {
       "model_id": "867c1414e3df42ba83b84e4d6c679503",
       "version_major": 2,
       "version_minor": 0
      },
      "text/plain": [
       "Batches:   0%|          | 0/1 [00:00<?, ?it/s]"
      ]
     },
     "metadata": {},
     "output_type": "display_data"
    },
    {
     "data": {
      "application/vnd.jupyter.widget-view+json": {
       "model_id": "98f9f0eb5d7f454993bffe2844b7dc74",
       "version_major": 2,
       "version_minor": 0
      },
      "text/plain": [
       "Batches:   0%|          | 0/1 [00:00<?, ?it/s]"
      ]
     },
     "metadata": {},
     "output_type": "display_data"
    },
    {
     "data": {
      "application/vnd.jupyter.widget-view+json": {
       "model_id": "6d898e102ce441dd88bab2a2bd29f530",
       "version_major": 2,
       "version_minor": 0
      },
      "text/plain": [
       "Batches:   0%|          | 0/1 [00:00<?, ?it/s]"
      ]
     },
     "metadata": {},
     "output_type": "display_data"
    },
    {
     "data": {
      "application/vnd.jupyter.widget-view+json": {
       "model_id": "f48fafe484df499e858dd5d07174cfe9",
       "version_major": 2,
       "version_minor": 0
      },
      "text/plain": [
       "Batches:   0%|          | 0/1 [00:00<?, ?it/s]"
      ]
     },
     "metadata": {},
     "output_type": "display_data"
    },
    {
     "data": {
      "application/vnd.jupyter.widget-view+json": {
       "model_id": "2a484b008ee64978b1b58510f066ba28",
       "version_major": 2,
       "version_minor": 0
      },
      "text/plain": [
       "Batches:   0%|          | 0/1 [00:00<?, ?it/s]"
      ]
     },
     "metadata": {},
     "output_type": "display_data"
    },
    {
     "data": {
      "application/vnd.jupyter.widget-view+json": {
       "model_id": "38da60904e1a4d81b326b83482be5db3",
       "version_major": 2,
       "version_minor": 0
      },
      "text/plain": [
       "Batches:   0%|          | 0/1 [00:00<?, ?it/s]"
      ]
     },
     "metadata": {},
     "output_type": "display_data"
    },
    {
     "data": {
      "application/vnd.jupyter.widget-view+json": {
       "model_id": "7d983983c066419ab7c2901bda4e5d64",
       "version_major": 2,
       "version_minor": 0
      },
      "text/plain": [
       "Batches:   0%|          | 0/1 [00:00<?, ?it/s]"
      ]
     },
     "metadata": {},
     "output_type": "display_data"
    },
    {
     "data": {
      "application/vnd.jupyter.widget-view+json": {
       "model_id": "0c8d331015314ee5aaf68c0f29530391",
       "version_major": 2,
       "version_minor": 0
      },
      "text/plain": [
       "Batches:   0%|          | 0/1 [00:00<?, ?it/s]"
      ]
     },
     "metadata": {},
     "output_type": "display_data"
    },
    {
     "data": {
      "application/vnd.jupyter.widget-view+json": {
       "model_id": "d71f762919d74f6195ba7d390fe70393",
       "version_major": 2,
       "version_minor": 0
      },
      "text/plain": [
       "Batches:   0%|          | 0/1 [00:00<?, ?it/s]"
      ]
     },
     "metadata": {},
     "output_type": "display_data"
    },
    {
     "data": {
      "application/vnd.jupyter.widget-view+json": {
       "model_id": "38f40c072c844cc0a2d3d37f1afbdf74",
       "version_major": 2,
       "version_minor": 0
      },
      "text/plain": [
       "Batches:   0%|          | 0/1 [00:00<?, ?it/s]"
      ]
     },
     "metadata": {},
     "output_type": "display_data"
    },
    {
     "data": {
      "application/vnd.jupyter.widget-view+json": {
       "model_id": "19bc97495e154fff83f9167ac4991104",
       "version_major": 2,
       "version_minor": 0
      },
      "text/plain": [
       "Batches:   0%|          | 0/1 [00:00<?, ?it/s]"
      ]
     },
     "metadata": {},
     "output_type": "display_data"
    },
    {
     "data": {
      "application/vnd.jupyter.widget-view+json": {
       "model_id": "683636c453534c4eb5379fbce3a85207",
       "version_major": 2,
       "version_minor": 0
      },
      "text/plain": [
       "Batches:   0%|          | 0/1 [00:00<?, ?it/s]"
      ]
     },
     "metadata": {},
     "output_type": "display_data"
    },
    {
     "data": {
      "application/vnd.jupyter.widget-view+json": {
       "model_id": "d2fe9978dad54693b8e3dddb33292037",
       "version_major": 2,
       "version_minor": 0
      },
      "text/plain": [
       "Batches:   0%|          | 0/1 [00:00<?, ?it/s]"
      ]
     },
     "metadata": {},
     "output_type": "display_data"
    },
    {
     "data": {
      "application/vnd.jupyter.widget-view+json": {
       "model_id": "60f3288e67344f6eb312ae5b5ad7b04c",
       "version_major": 2,
       "version_minor": 0
      },
      "text/plain": [
       "Batches:   0%|          | 0/1 [00:00<?, ?it/s]"
      ]
     },
     "metadata": {},
     "output_type": "display_data"
    },
    {
     "data": {
      "application/vnd.jupyter.widget-view+json": {
       "model_id": "2994c699306249c9b0edd5038b2aecd6",
       "version_major": 2,
       "version_minor": 0
      },
      "text/plain": [
       "Batches:   0%|          | 0/1 [00:00<?, ?it/s]"
      ]
     },
     "metadata": {},
     "output_type": "display_data"
    },
    {
     "data": {
      "application/vnd.jupyter.widget-view+json": {
       "model_id": "76da332299e5472eb25eba44e4a1e364",
       "version_major": 2,
       "version_minor": 0
      },
      "text/plain": [
       "Batches:   0%|          | 0/1 [00:00<?, ?it/s]"
      ]
     },
     "metadata": {},
     "output_type": "display_data"
    },
    {
     "data": {
      "application/vnd.jupyter.widget-view+json": {
       "model_id": "4c6789c16940452794dc4e5ee12909b2",
       "version_major": 2,
       "version_minor": 0
      },
      "text/plain": [
       "Batches:   0%|          | 0/1 [00:00<?, ?it/s]"
      ]
     },
     "metadata": {},
     "output_type": "display_data"
    },
    {
     "data": {
      "application/vnd.jupyter.widget-view+json": {
       "model_id": "498fa442a9884226b55a36056d82596f",
       "version_major": 2,
       "version_minor": 0
      },
      "text/plain": [
       "Batches:   0%|          | 0/1 [00:00<?, ?it/s]"
      ]
     },
     "metadata": {},
     "output_type": "display_data"
    },
    {
     "data": {
      "application/vnd.jupyter.widget-view+json": {
       "model_id": "1db4117590ee426484046426ee9fa77b",
       "version_major": 2,
       "version_minor": 0
      },
      "text/plain": [
       "Batches:   0%|          | 0/1 [00:00<?, ?it/s]"
      ]
     },
     "metadata": {},
     "output_type": "display_data"
    },
    {
     "data": {
      "application/vnd.jupyter.widget-view+json": {
       "model_id": "ae6c8e1738c440768d8dd761d1913dc8",
       "version_major": 2,
       "version_minor": 0
      },
      "text/plain": [
       "Batches:   0%|          | 0/1 [00:00<?, ?it/s]"
      ]
     },
     "metadata": {},
     "output_type": "display_data"
    },
    {
     "data": {
      "application/vnd.jupyter.widget-view+json": {
       "model_id": "577899fcb3b04a62b8ab660d1fd046c6",
       "version_major": 2,
       "version_minor": 0
      },
      "text/plain": [
       "Batches:   0%|          | 0/1 [00:00<?, ?it/s]"
      ]
     },
     "metadata": {},
     "output_type": "display_data"
    },
    {
     "data": {
      "application/vnd.jupyter.widget-view+json": {
       "model_id": "d0bd39bc2c1b4df2a72af0853c588ae0",
       "version_major": 2,
       "version_minor": 0
      },
      "text/plain": [
       "Batches:   0%|          | 0/1 [00:00<?, ?it/s]"
      ]
     },
     "metadata": {},
     "output_type": "display_data"
    },
    {
     "data": {
      "application/vnd.jupyter.widget-view+json": {
       "model_id": "7089005a917545e1bf60671b74baf92d",
       "version_major": 2,
       "version_minor": 0
      },
      "text/plain": [
       "Batches:   0%|          | 0/1 [00:00<?, ?it/s]"
      ]
     },
     "metadata": {},
     "output_type": "display_data"
    },
    {
     "data": {
      "application/vnd.jupyter.widget-view+json": {
       "model_id": "5b586f233b3b43a5a1f4ae7680113e62",
       "version_major": 2,
       "version_minor": 0
      },
      "text/plain": [
       "Batches:   0%|          | 0/1 [00:00<?, ?it/s]"
      ]
     },
     "metadata": {},
     "output_type": "display_data"
    },
    {
     "data": {
      "application/vnd.jupyter.widget-view+json": {
       "model_id": "566f8bb32d724186841c83f7ec391715",
       "version_major": 2,
       "version_minor": 0
      },
      "text/plain": [
       "Batches:   0%|          | 0/1 [00:00<?, ?it/s]"
      ]
     },
     "metadata": {},
     "output_type": "display_data"
    },
    {
     "data": {
      "application/vnd.jupyter.widget-view+json": {
       "model_id": "4bdadc1f40784d18987a595d21701d46",
       "version_major": 2,
       "version_minor": 0
      },
      "text/plain": [
       "Batches:   0%|          | 0/1 [00:00<?, ?it/s]"
      ]
     },
     "metadata": {},
     "output_type": "display_data"
    },
    {
     "data": {
      "application/vnd.jupyter.widget-view+json": {
       "model_id": "8d8439be4cfd43c9916706aa13984c0a",
       "version_major": 2,
       "version_minor": 0
      },
      "text/plain": [
       "Batches:   0%|          | 0/1 [00:00<?, ?it/s]"
      ]
     },
     "metadata": {},
     "output_type": "display_data"
    },
    {
     "data": {
      "application/vnd.jupyter.widget-view+json": {
       "model_id": "6cb2f5ffad99433c8451cbb019369ee7",
       "version_major": 2,
       "version_minor": 0
      },
      "text/plain": [
       "Batches:   0%|          | 0/1 [00:00<?, ?it/s]"
      ]
     },
     "metadata": {},
     "output_type": "display_data"
    },
    {
     "data": {
      "application/vnd.jupyter.widget-view+json": {
       "model_id": "31c38fc348fe495a9d5963e42fbfe4e1",
       "version_major": 2,
       "version_minor": 0
      },
      "text/plain": [
       "Batches:   0%|          | 0/1 [00:00<?, ?it/s]"
      ]
     },
     "metadata": {},
     "output_type": "display_data"
    },
    {
     "name": "stdout",
     "output_type": "stream",
     "text": [
      "  ✅ Created: 1 document vector, 22 section vectors, 70 paragraph vectors\n",
      "  📐 Vector dimension: 512\n",
      "\n",
      "📊 VECTOR SHAPES:\n",
      "  • Document vector: (512,)\n",
      "  • Section vectors: 22 vectors of shape (512,)\n",
      "  • Paragraph vectors: 70 vectors of shape (512,)\n",
      "\n",
      "✅ Vector dimension check: 512 (expected: 512) ✅\n",
      "\n",
      "🔍 TESTING CROSS-LINGUAL SIMILARITY:\n",
      "Similarity between sections:\n",
      "  'Introduction...' vs 'Background...': 0.580\n",
      "\n",
      "✅ Vector creation successful! Ready for visualization and saving.\n"
     ]
    }
   ],
   "source": [
    "### STEP 8: PROCESS SINGLE DOCUMENT\n",
    "### Block 1: Create vectors\n",
    "\n",
    "print(\"🧪 TESTING VECTOR CREATION\")\n",
    "print(\"=\" * 60)\n",
    "\n",
    "# Extract content (using the document we analyzed in STEP 3)\n",
    "extracted = extract_document_content(corpus_item)\n",
    "\n",
    "# Create vectors using our new model\n",
    "vectors = create_vectors(extracted, model)\n",
    "\n",
    "# Show sample results\n",
    "print(f\"\\n📊 VECTOR SHAPES:\")\n",
    "print(f\"  • Document vector: {vectors['document_vector']['vector'].shape}\")\n",
    "print(f\"  • Section vectors: {len(vectors['section_vectors'])} vectors of shape {vectors['section_vectors'][0]['vector'].shape if vectors['section_vectors'] else 'None'}\")\n",
    "print(f\"  • Paragraph vectors: {len(vectors['paragraph_vectors'])} vectors of shape {vectors['paragraph_vectors'][0]['vector'].shape if vectors['paragraph_vectors'] else 'None'}\")\n",
    "\n",
    "# Verify we're getting 512-dimensional vectors\n",
    "expected_dim = 512\n",
    "actual_dim = vectors['document_vector']['vector'].shape[0]\n",
    "print(f\"\\n✅ Vector dimension check: {actual_dim} (expected: {expected_dim}) {'✅' if actual_dim == expected_dim else '❌'}\")\n",
    "\n",
    "# Quick similarity test between sections\n",
    "print(f\"\\n🔍 TESTING CROSS-LINGUAL SIMILARITY:\")\n",
    "if len(vectors['section_vectors']) >= 2:\n",
    "    sim = cosine_similarity(\n",
    "        vectors['section_vectors'][0]['vector'].reshape(1, -1),\n",
    "        vectors['section_vectors'][1]['vector'].reshape(1, -1)\n",
    "    )[0][0]\n",
    "    section1 = vectors['section_vectors'][0]['title'][:30]\n",
    "    section2 = vectors['section_vectors'][1]['title'][:30]\n",
    "    print(f\"Similarity between sections:\")\n",
    "    print(f\"  '{section1}...' vs '{section2}...': {sim:.3f}\")\n",
    "\n",
    "print(f\"\\n✅ Vector creation successful! Ready for visualization and saving.\")"
   ]
  },
  {
   "cell_type": "code",
   "execution_count": 36,
   "id": "d7444ebb",
   "metadata": {},
   "outputs": [
    {
     "name": "stdout",
     "output_type": "stream",
     "text": [
      "📊 VECTOR HIERARCHY\n",
      "============================================================\n",
      "\n",
      "🔷 DOCUMENT LEVEL:\n",
      "  📄 gai-eng_item001: \"Attention is All You Need\"\n",
      "  📐 Vector shape: (512,)\n",
      "  📏 Text length: 25,824 characters\n",
      "\n",
      "🔶 SECTION LEVEL VECTORS:\n",
      "\n",
      "  📚 Level 0 - Main Sections:\n",
      "    📑 section_1: Introduction\n",
      "    📐 Vector shape: (512,)\n",
      "    📏 Text length: 1,926 chars\n",
      "    📑 section_2: Background\n",
      "    📐 Vector shape: (512,)\n",
      "    📏 Text length: 1,824 chars\n",
      "    📑 section_3: Model Architecture\n",
      "    📐 Vector shape: (512,)\n",
      "    📏 Text length: 9,478 chars\n",
      "    📑 section_4: 4 Why Self-Attention\n",
      "    📐 Vector shape: (512,)\n",
      "    📏 Text length: 3,287 chars\n",
      "    📑 section_5: Training\n",
      "    📐 Vector shape: (512,)\n",
      "    📏 Text length: 2,297 chars\n",
      "    📑 section_6: Results\n",
      "    📐 Vector shape: (512,)\n",
      "    📏 Text length: 4,611 chars\n",
      "    📑 section_7: 7 Conclusion\n",
      "    📐 Vector shape: (512,)\n",
      "    📏 Text length: 1,229 chars\n",
      "\n",
      "  📚 Level 1 - Subsections:\n",
      "        📑 section_3_1: Encoder and Decoder Stacks\n",
      "        📐 Vector shape: (512,)\n",
      "        📏 Text length: 1,417 chars\n",
      "        📑 section_3_2: Attention\n",
      "        📐 Vector shape: (512,)\n",
      "        📏 Text length: 346 chars\n",
      "        📑 section_3_3: Position-wise Feed-Forward Networks\n",
      "        📐 Vector shape: (512,)\n",
      "        📏 Text length: 721 chars\n",
      "        📑 section_3_4: Embeddings and Softmax\n",
      "        📐 Vector shape: (512,)\n",
      "        📏 Text length: 534 chars\n",
      "        📑 section_3_5: Positional Encoding\n",
      "        📐 Vector shape: (512,)\n",
      "        📏 Text length: 1,525 chars\n",
      "        📑 section_5_1: Training Data and Batching\n",
      "        📐 Vector shape: (512,)\n",
      "        📏 Text length: 617 chars\n",
      "        📑 section_5_2: Hardware and Schedule\n",
      "        📐 Vector shape: (512,)\n",
      "        📏 Text length: 421 chars\n",
      "        📑 section_5_3: Optimizer\n",
      "        📐 Vector shape: (512,)\n",
      "        📏 Text length: 598 chars\n",
      "        📑 section_5_4: Regularization\n",
      "        📐 Vector shape: (512,)\n",
      "        📏 Text length: 590 chars\n",
      "        📑 section_6_1: Machine Translation\n",
      "        📐 Vector shape: (512,)\n",
      "        📏 Text length: 1,709 chars\n",
      "        📑 section_6_2: Model Variations\n",
      "        📐 Vector shape: (512,)\n",
      "        📏 Text length: 1,186 chars\n",
      "        📑 section_6_3: English Constituency Parsing\n",
      "        📐 Vector shape: (512,)\n",
      "        📏 Text length: 1,706 chars\n",
      "\n",
      "  📚 Level 2 - Sub-subsections:\n",
      "            📑 section_3_2_1: Scaled Dot-Product Attention\n",
      "            📐 Vector shape: (512,)\n",
      "            📏 Text length: 1,598 chars\n",
      "            📑 section_3_2_2: Multi-Head Attention\n",
      "            📐 Vector shape: (512,)\n",
      "            📏 Text length: 1,387 chars\n",
      "            📑 section_3_2_3: Applications of Attention in our Model\n",
      "            📐 Vector shape: (512,)\n",
      "            📏 Text length: 1,205 chars\n",
      "\n",
      "🔸 PARAGRAPH LEVEL:\n",
      "  📝 Total paragraph vectors: 70\n",
      "\n",
      "  📊 Paragraphs per section:\n",
      "    📝 abstract: 1 paragraphs\n",
      "    📝 section_1: 4 paragraphs\n",
      "    📝 section_2: 4 paragraphs\n",
      "    📝 section_3: 2 paragraphs\n",
      "    📝 section_3_1: 2 paragraphs\n",
      "    📝 ... and 17 more sections\n",
      "\n",
      "🎯 SUMMARY:\n",
      "  📊 Total vectors created: 93\n",
      "  📐 All vectors are 512-dimensional\n",
      "  🌐 Ready for cross-lingual similarity search!\n"
     ]
    }
   ],
   "source": [
    "### STEP 8: PROCESS SINGLE DOCUMENT\n",
    "### Block 2: Visualize vectors\n",
    "\n",
    "def visualize_vector_hierarchy(vectors):\n",
    "    \"\"\"Show the hierarchy of vectors created\"\"\"\n",
    "    print(\"📊 VECTOR HIERARCHY\")\n",
    "    print(\"=\" * 60)\n",
    "    \n",
    "    # Group sections by level\n",
    "    levels = {}\n",
    "    for sv in vectors['section_vectors']:\n",
    "        level = sv['level']\n",
    "        if level not in levels:\n",
    "            levels[level] = []\n",
    "        levels[level].append(sv)\n",
    "    \n",
    "    # Display by level\n",
    "    print(\"\\n🔷 DOCUMENT LEVEL:\")\n",
    "    doc = vectors['document_vector']\n",
    "    print(f\"  📄 {doc['id']}: \\\"{doc['title']}\\\"\")\n",
    "    print(f\"  📐 Vector shape: {doc['vector'].shape}\")\n",
    "    print(f\"  📏 Text length: {len(doc['text']):,} characters\")\n",
    "    \n",
    "    print(\"\\n🔶 SECTION LEVEL VECTORS:\")\n",
    "    for level in sorted(levels.keys()):\n",
    "        level_names = ['Main Sections', 'Subsections', 'Sub-subsections']\n",
    "        level_name = level_names[level] if level < len(level_names) else f'Level {level}'\n",
    "        print(f\"\\n  📚 Level {level} - {level_name}:\")\n",
    "        \n",
    "        for section in levels[level]:\n",
    "            indent = \"    \" * (level + 1)\n",
    "            title = section['title'][:40] + '...' if len(section['title']) > 40 else section['title']\n",
    "            print(f\"{indent}📑 {section['id']}: {title}\")\n",
    "            print(f\"{indent}📐 Vector shape: {section['vector'].shape}\")\n",
    "            print(f\"{indent}📏 Text length: {len(section['text']):,} chars\")\n",
    "    \n",
    "    print(f\"\\n🔸 PARAGRAPH LEVEL:\")\n",
    "    print(f\"  📝 Total paragraph vectors: {len(vectors['paragraph_vectors'])}\")\n",
    "    \n",
    "    # Show paragraph distribution by section\n",
    "    para_by_section = {}\n",
    "    for p in vectors['paragraph_vectors']:\n",
    "        section = p['section_id']\n",
    "        if section not in para_by_section:\n",
    "            para_by_section[section] = 0\n",
    "        para_by_section[section] += 1\n",
    "    \n",
    "    print(f\"\\n  📊 Paragraphs per section:\")\n",
    "    sorted_sections = sorted(para_by_section.items())\n",
    "    for section, count in sorted_sections[:5]:  # Show first 5\n",
    "        print(f\"    📝 {section}: {count} paragraphs\")\n",
    "    if len(para_by_section) > 5:\n",
    "        print(f\"    📝 ... and {len(para_by_section) - 5} more sections\")\n",
    "    \n",
    "    # Calculate totals\n",
    "    total_vectors = 1 + len(vectors['section_vectors']) + len(vectors['paragraph_vectors'])\n",
    "    print(f\"\\n🎯 SUMMARY:\")\n",
    "    print(f\"  📊 Total vectors created: {total_vectors}\")\n",
    "    print(f\"  📐 All vectors are {doc['vector'].shape[0]}-dimensional\")\n",
    "    print(f\"  🌐 Ready for cross-lingual similarity search!\")\n",
    "\n",
    "# Run the visualization\n",
    "visualize_vector_hierarchy(vectors)"
   ]
  },
  {
   "cell_type": "code",
   "execution_count": 37,
   "id": "161eac6f",
   "metadata": {},
   "outputs": [
    {
     "name": "stdout",
     "output_type": "stream",
     "text": [
      "💾 SAVING VECTORS WITH STANDARDIZED SCHEMA TO JSON FILES\n",
      "============================================================\n",
      "💾 Saved 1 document vectors to ../vectors/gai\\gai-document-vectors.json\n",
      "💾 Saved 22 section vectors to ../vectors/gai\\gai-section-vectors.json\n",
      "💾 Saved 70 paragraph vectors to ../vectors/gai\\gai-paragraph-vectors.json\n",
      "\n",
      "✅ All vectors saved to: ../vectors/gai\n",
      "📁 Schema-compliant files created:\n",
      "  • gai-document-vectors.json (full document text + vectors)\n",
      "  • gai-section-vectors.json (full section text + vectors)\n",
      "  • gai-paragraph-vectors.json (full paragraph text + vectors)\n",
      "📐 Vector dimension: 512\n",
      "\n",
      "📊 FILE INFORMATION:\n",
      "  📄 gai-document-vectors.json: 41.1 KB\n",
      "  📄 gai-section-vectors.json: 386.3 KB\n",
      "  📄 gai-paragraph-vectors.json: 1123.6 KB\n",
      "\n",
      "🎉 Single document vectorization complete!\n",
      "💡 Files contain 512-dimensional vectors with complete text content\n"
     ]
    }
   ],
   "source": [
    "### STEP 8: PROCESS SINGLE DOCUMENT\n",
    "### Block 3: Save vectors\n",
    "\n",
    "print(\"💾 SAVING VECTORS WITH STANDARDIZED SCHEMA TO JSON FILES\")\n",
    "print(\"=\" * 60)\n",
    "\n",
    "# Define output directory\n",
    "output_dir = '../vectors/gai'\n",
    "\n",
    "# Save using the schema-compliant function from STEP 5\n",
    "save_all_vectors_with_schema(\n",
    "    vectors=vectors,\n",
    "    extracted_content=extracted,\n",
    "    model=model,\n",
    "    output_dir=output_dir\n",
    ")\n",
    "\n",
    "# Show file sizes for reference\n",
    "print(f\"\\n📊 FILE INFORMATION:\")\n",
    "for filename in ['gai-document-vectors.json', 'gai-section-vectors.json', 'gai-paragraph-vectors.json']:\n",
    "    filepath = os.path.join(output_dir, filename)\n",
    "    if os.path.exists(filepath):\n",
    "        size_kb = os.path.getsize(filepath) / 1024\n",
    "        print(f\"  📄 {filename}: {size_kb:.1f} KB\")\n",
    "    else:\n",
    "        print(f\"  ❌ {filename}: Not found\")\n",
    "\n",
    "print(f\"\\n🎉 Single document vectorization complete!\")\n",
    "print(f\"💡 Files contain 512-dimensional vectors with complete text content\")"
   ]
  },
  {
   "cell_type": "code",
   "execution_count": 38,
   "id": "9205d532",
   "metadata": {},
   "outputs": [
    {
     "name": "stdout",
     "output_type": "stream",
     "text": [
      "🔍 Running comprehensive validation...\n",
      "🔍 VALIDATING VECTOR FILE SCHEMAS\n",
      "============================================================\n",
      "  ✅ gai-document-vectors.json:\n",
      "      📏 Size: 41.1 KB\n",
      "      🔢 Vectors: 1\n",
      "      📋 Status: Schema validation passed for document vectors\n",
      "\n",
      "  ✅ gai-section-vectors.json:\n",
      "      📏 Size: 386.3 KB\n",
      "      🔢 Vectors: 22\n",
      "      📋 Status: Schema validation passed for section vectors\n",
      "\n",
      "  ✅ gai-paragraph-vectors.json:\n",
      "      📏 Size: 1123.6 KB\n",
      "      🔢 Vectors: 70\n",
      "      📋 Status: Schema validation passed for paragraph vectors\n",
      "\n",
      "📊 VALIDATION SUMMARY:\n",
      "  • Total vectors created: 93\n",
      "  • Model: distiluse-base-multilingual-cased-v2\n",
      "  • Vector dimension: 512\n",
      "  • Schema compliance: ✅ All valid\n",
      "\n",
      "✅ All validations passed! Running sample inspection...\n",
      "\n",
      "🔍 SAMPLE VECTOR INSPECTION\n",
      "============================================================\n",
      "\n",
      "📋 Document Vectors (showing first 2):\n",
      "  1. 🔖 ID: gai-eng_item001\n",
      "     📝 Title: Attention is All You Need\n",
      "     📐 Vector dim: 512\n",
      "     📜 Text: Attention is All You Need The dominant sequence transduction models are based on complex recurrent o...\n",
      "\n",
      "\n",
      "📋 Section Vectors (showing first 2):\n",
      "  1. 🔖 ID: section_1\n",
      "     📝 Title: Introduction\n",
      "     📄 Document: gai-eng_item001\n",
      "     📊 Level: 0\n",
      "     📐 Vector dim: 512\n",
      "     📜 Text: Introduction Recurrent neural networks, long short-term memory [13] and gated recurrent [7] neural n...\n",
      "\n",
      "  2. 🔖 ID: section_2\n",
      "     📝 Title: Background\n",
      "     📄 Document: gai-eng_item001\n",
      "     📊 Level: 0\n",
      "     📐 Vector dim: 512\n",
      "     📜 Text: Background The goal of reducing sequential computation also forms the foundation of the Extended Neu...\n",
      "\n",
      "\n",
      "📋 Paragraph Vectors (showing first 2):\n",
      "  1. 🔖 ID: gai-eng_item001_abstract\n",
      "     📄 Document: gai-eng_item001\n",
      "     📐 Vector dim: 512\n",
      "     📜 Text: The dominant sequence transduction models are based on complex recurrent or convolutional neural net...\n",
      "\n",
      "  2. 🔖 ID: p1_1\n",
      "     📄 Document: gai-eng_item001\n",
      "     📐 Vector dim: 512\n",
      "     📜 Text: Recurrent neural networks, long short-term memory [13] and gated recurrent [7] neural networks in pa...\n",
      "\n",
      "\n",
      "🎉 Vector creation and validation complete!\n",
      "📋 Your vectors are ready for the web application and corpus-informed translation!\n"
     ]
    }
   ],
   "source": [
    "### STEP 8: PROCESS SINGLE DOCUMENT\n",
    "### Block 2: Verify saved vectors with schema validation\n",
    "\n",
    "def validate_vector_schema(filepath, expected_type):\n",
    "    \"\"\"\n",
    "    Validate that a vector file follows the expected schema\n",
    "    \n",
    "    Args:\n",
    "        filepath: Path to the JSON file\n",
    "        expected_type: 'document', 'section', or 'paragraph'\n",
    "    \"\"\"\n",
    "    \n",
    "    try:\n",
    "        with open(filepath, 'r', encoding='utf-8') as f:\n",
    "            data = json.load(f)\n",
    "        \n",
    "        # Check top-level structure\n",
    "        required_keys = ['metadata', 'vectors']\n",
    "        for key in required_keys:\n",
    "            if key not in data:\n",
    "                return False, f\"Missing required key: {key}\"\n",
    "        \n",
    "        # Check metadata structure\n",
    "        metadata = data['metadata']\n",
    "        if 'model' not in metadata or 'dimension' not in metadata:\n",
    "            return False, \"Invalid metadata structure\"\n",
    "        \n",
    "        # Verify we have the correct model\n",
    "        expected_model = 'distiluse-base-multilingual-cased-v2'\n",
    "        if metadata['model'] != expected_model:\n",
    "            return False, f\"Wrong model: expected {expected_model}, got {metadata['model']}\"\n",
    "        \n",
    "        # Verify dimensions are correct\n",
    "        expected_dimension = 512\n",
    "        if metadata['dimension'] != expected_dimension:\n",
    "            return False, f\"Wrong dimension: expected {expected_dimension}, got {metadata['dimension']}\"\n",
    "        \n",
    "        # Check vectors structure\n",
    "        if not isinstance(data['vectors'], list) or len(data['vectors']) == 0:\n",
    "            return False, \"Vectors should be a non-empty list\"\n",
    "        \n",
    "        # Check first vector structure\n",
    "        first_vector = data['vectors'][0]\n",
    "        required_vector_keys = ['id', 'count', 'created', 'vector', 'text']\n",
    "        \n",
    "        if expected_type == 'document':\n",
    "            required_vector_keys.append('title')\n",
    "        elif expected_type == 'section':\n",
    "            required_vector_keys.extend(['document_id', 'title', 'level'])\n",
    "        elif expected_type == 'paragraph':\n",
    "            required_vector_keys.append('document_id')\n",
    "        \n",
    "        for key in required_vector_keys:\n",
    "            if key not in first_vector:\n",
    "                return False, f\"Missing required vector key: {key}\"\n",
    "        \n",
    "        # Check vector dimensions match metadata\n",
    "        vector_length = len(first_vector['vector'])\n",
    "        if vector_length != metadata['dimension']:\n",
    "            return False, f\"Vector dimension mismatch: got {vector_length}, expected {metadata['dimension']}\"\n",
    "        \n",
    "        return True, f\"Schema validation passed for {expected_type} vectors\"\n",
    "        \n",
    "    except Exception as e:\n",
    "        return False, f\"Error reading file: {str(e)}\"\n",
    "\n",
    "def validate_all_vector_files(output_dir):\n",
    "    \"\"\"Validate all three vector files and show detailed info\"\"\"\n",
    "    \n",
    "    print(\"🔍 VALIDATING VECTOR FILE SCHEMAS\")\n",
    "    print(\"=\" * 60)\n",
    "    \n",
    "    files_to_validate = [\n",
    "        ('gai-document-vectors.json', 'document'),\n",
    "        ('gai-section-vectors.json', 'section'),\n",
    "        ('gai-paragraph-vectors.json', 'paragraph')\n",
    "    ]\n",
    "    \n",
    "    total_vectors = 0\n",
    "    all_valid = True\n",
    "    \n",
    "    for filename, vector_type in files_to_validate:\n",
    "        filepath = os.path.join(output_dir, filename)\n",
    "        \n",
    "        if os.path.exists(filepath):\n",
    "            # Get file size\n",
    "            size = os.path.getsize(filepath) / 1024  # Size in KB\n",
    "            \n",
    "            # Validate schema\n",
    "            is_valid, message = validate_vector_schema(filepath, vector_type)\n",
    "            status = \"✅\" if is_valid else \"❌\"\n",
    "            if not is_valid:\n",
    "                all_valid = False\n",
    "            \n",
    "            # Count vectors if valid\n",
    "            vector_count = 0\n",
    "            if is_valid:\n",
    "                try:\n",
    "                    with open(filepath, 'r', encoding='utf-8') as f:\n",
    "                        data = json.load(f)\n",
    "                        vector_count = len(data['vectors'])\n",
    "                        total_vectors += vector_count\n",
    "                except:\n",
    "                    pass\n",
    "            \n",
    "            print(f\"  {status} {filename}:\")\n",
    "            print(f\"      📏 Size: {size:.1f} KB\")\n",
    "            print(f\"      🔢 Vectors: {vector_count}\")\n",
    "            print(f\"      📋 Status: {message}\")\n",
    "            \n",
    "        else:\n",
    "            print(f\"  ❌ {filename}: File not found\")\n",
    "            all_valid = False\n",
    "        \n",
    "        print()  # Empty line between files\n",
    "    \n",
    "    print(f\"📊 VALIDATION SUMMARY:\")\n",
    "    print(f\"  • Total vectors created: {total_vectors}\")\n",
    "    print(f\"  • Model: distiluse-base-multilingual-cased-v2\")\n",
    "    print(f\"  • Vector dimension: 512\")\n",
    "    print(f\"  • Schema compliance: {'✅ All valid' if all_valid else '❌ Issues found'}\")\n",
    "    \n",
    "    return all_valid\n",
    "\n",
    "def inspect_sample_vectors(output_dir, sample_size=2):\n",
    "    \"\"\"Show sample vectors from each file for inspection\"\"\"\n",
    "    \n",
    "    print(f\"\\n🔍 SAMPLE VECTOR INSPECTION\")\n",
    "    print(\"=\" * 60)\n",
    "    \n",
    "    files_to_inspect = [\n",
    "        ('gai-document-vectors.json', 'Document'),\n",
    "        ('gai-section-vectors.json', 'Section'),\n",
    "        ('gai-paragraph-vectors.json', 'Paragraph')\n",
    "    ]\n",
    "    \n",
    "    for filename, vector_type in files_to_inspect:\n",
    "        filepath = os.path.join(output_dir, filename)\n",
    "        \n",
    "        if os.path.exists(filepath):\n",
    "            try:\n",
    "                with open(filepath, 'r', encoding='utf-8') as f:\n",
    "                    data = json.load(f)\n",
    "                \n",
    "                print(f\"\\n📋 {vector_type} Vectors (showing first {sample_size}):\")\n",
    "                vectors = data['vectors'][:sample_size]\n",
    "                \n",
    "                for i, vector in enumerate(vectors, 1):\n",
    "                    print(f\"  {i}. 🔖 ID: {vector['id']}\")\n",
    "                    if 'title' in vector:\n",
    "                        title_preview = vector['title'][:50] + '...' if len(vector['title']) > 50 else vector['title']\n",
    "                        print(f\"     📝 Title: {title_preview}\")\n",
    "                    if 'document_id' in vector and vector['document_id'] != vector['id']:\n",
    "                        print(f\"     📄 Document: {vector['document_id']}\")\n",
    "                    if 'level' in vector:\n",
    "                        print(f\"     📊 Level: {vector['level']}\")\n",
    "                    print(f\"     📐 Vector dim: {len(vector['vector'])}\")\n",
    "                    text_preview = vector['text'][:100] + '...' if len(vector['text']) > 100 else vector['text']\n",
    "                    print(f\"     📜 Text: {text_preview}\")\n",
    "                    print()\n",
    "                    \n",
    "            except Exception as e:\n",
    "                print(f\"  ❌ Error inspecting {filename}: {e}\")\n",
    "\n",
    "# Run validation\n",
    "print(\"🔍 Running comprehensive validation...\")\n",
    "validation_passed = validate_all_vector_files(output_dir)\n",
    "\n",
    "if validation_passed:\n",
    "    print(\"\\n✅ All validations passed! Running sample inspection...\")\n",
    "    inspect_sample_vectors(output_dir)\n",
    "    print(\"\\n🎉 Vector creation and validation complete!\")\n",
    "    print(\"📋 Your vectors are ready for the web application and corpus-informed translation!\")\n",
    "else:\n",
    "    print(\"\\n❌ Validation issues found. Please check the error messages above.\")"
   ]
  },
  {
   "cell_type": "markdown",
   "id": "3687f5f7",
   "metadata": {},
   "source": [
    "### STEP 9: VISUALIZE VECTORS\n",
    "Use PCA to reduce dimensions and create a 2D/3D plot showing how vectors cluster"
   ]
  },
  {
   "cell_type": "code",
   "execution_count": 40,
   "id": "6cc1dbdd",
   "metadata": {},
   "outputs": [
    {
     "name": "stdout",
     "output_type": "stream",
     "text": [
      "🎨 PREPARING VECTORS FOR VISUALIZATION:\n",
      "============================================================\n",
      "Total vectors to visualize: 50\n"
     ]
    }
   ],
   "source": [
    "### STEP 9: VISUALIZE VECTORS\n",
    "### BLOCK 1: Prepare vectors\n",
    "\n",
    "# Prepare vectors for visualization\n",
    "print(\"🎨 PREPARING VECTORS FOR VISUALIZATION:\")\n",
    "print(\"=\" * 60)\n",
    "\n",
    "# Collect all vectors and labels\n",
    "all_vectors = []\n",
    "all_labels = []\n",
    "all_types = []\n",
    "\n",
    "# Add document vector\n",
    "all_vectors.append(vectors['document_vector']['vector'])\n",
    "all_labels.append(f\"DOC: {vectors['document_vector']['title'][:30]}...\")\n",
    "all_types.append('document')\n",
    "\n",
    "# Add section vectors\n",
    "for sv in vectors['section_vectors']:\n",
    "    all_vectors.append(sv['vector'])\n",
    "    level_prefix = ['SEC', 'SUB', 'SUBSUB'][sv['level']]\n",
    "    all_labels.append(f\"{level_prefix}: {sv['title'][:25]}...\")\n",
    "    all_types.append(f'section_L{sv[\"level\"]}')\n",
    "\n",
    "# Add some paragraph vectors (first 27 to avoid clutter and process 50 total)\n",
    "for pv in vectors['paragraph_vectors'][:27]:\n",
    "    all_vectors.append(pv['vector'])\n",
    "    all_labels.append(f\"PARA: {pv['text'][:27]}...\")\n",
    "    all_types.append('paragraph')\n",
    "\n",
    "# Convert to numpy array\n",
    "all_vectors_np = np.array(all_vectors)\n",
    "print(f\"Total vectors to visualize: {len(all_vectors_np)}\")"
   ]
  },
  {
   "cell_type": "code",
   "execution_count": null,
   "id": "3012cbca",
   "metadata": {},
   "outputs": [
    {
     "data": {
      "image/png": "[encoded data removed]",
      "text/plain": [
       "<Figure size 1400x1000 with 1 Axes>"
      ]
     },
     "metadata": {},
     "output_type": "display_data"
    },
    {
     "name": "stdout",
     "output_type": "stream",
     "text": [
      "Explained variance ratio: [0.12082779 0.09868888]\n",
      "Total variance explained: 21.95%\n"
     ]
    }
   ],
   "source": [
    "### STEP 9: VISUALIZE VECTORS\n",
    "### BLOCK 2: 2D visualization\n",
    "\n",
    "# Create 2D visualization\n",
    "from sklearn.decomposition import PCA\n",
    "import matplotlib.pyplot as plt\n",
    "\n",
    "# Reduce to 2D\n",
    "pca_2d = PCA(n_components=2)\n",
    "vectors_2d = pca_2d.fit_transform(all_vectors_np)\n",
    "\n",
    "# Create figure\n",
    "plt.figure(figsize=(14, 10))\n",
    "\n",
    "# Define colors and sizes\n",
    "type_colors = {\n",
    "    'document': 'darkblue',\n",
    "    'section_L0': 'green',\n",
    "    'section_L1': 'lightgreen',\n",
    "    'section_L2': 'yellowgreen',\n",
    "    'paragraph': 'coral'\n",
    "}\n",
    "type_sizes = {\n",
    "    'document': 500,\n",
    "    'section_L0': 300,\n",
    "    'section_L1': 200,\n",
    "    'section_L2': 150,\n",
    "    'paragraph': 50\n",
    "}\n",
    "\n",
    "# Plot each type\n",
    "for t in type_colors.keys():\n",
    "    mask = [all_types[i] == t for i in range(len(all_types))]\n",
    "    if any(mask):\n",
    "        plt.scatter(\n",
    "            vectors_2d[mask, 0],\n",
    "            vectors_2d[mask, 1],\n",
    "            c=type_colors[t],\n",
    "            s=type_sizes[t],\n",
    "            alpha=0.7,\n",
    "            label=t.replace('_', ' ').title()\n",
    "        )\n",
    "\n",
    "# Add labels for document and main sections\n",
    "for i, (label, type_) in enumerate(zip(all_labels, all_types)):\n",
    "    if type_ in ['document', 'section_L0']:\n",
    "        plt.annotate(label, \n",
    "                    (vectors_2d[i, 0], vectors_2d[i, 1]),\n",
    "                    fontsize=8,\n",
    "                    alpha=0.7)\n",
    "\n",
    "plt.xlabel('First Principal Component')\n",
    "plt.ylabel('Second Principal Component')\n",
    "plt.title('Document Vector Space Visualization (2D PCA)')\n",
    "plt.legend()\n",
    "plt.grid(True, alpha=0.3)\n",
    "plt.tight_layout()\n",
    "plt.show()\n",
    "\n",
    "print(f\"Explained variance ratio: {pca_2d.explained_variance_ratio_}\")\n",
    "print(f\"Total variance explained: {sum(pca_2d.explained_variance_ratio_):.2%}\")"
   ]
  },
  {
   "cell_type": "code",
   "execution_count": 42,
   "id": "31228394",
   "metadata": {},
   "outputs": [
    {
     "data": {
      "image/png": "[encoded data removed]",
      "text/plain": [
       "<Figure size 1200x1000 with 1 Axes>"
      ]
     },
     "metadata": {},
     "output_type": "display_data"
    },
    {
     "name": "stdout",
     "output_type": "stream",
     "text": [
      "3D Explained variance ratio: [0.1208277  0.0986889  0.06965674]\n",
      "3D Total variance explained: 28.92%\n"
     ]
    }
   ],
   "source": [
    "### STEP 9: VISUALIZE VECTORS\n",
    "### BLOCK 3: 3D visualization\n",
    "\n",
    "# Create 3D visualization\n",
    "from mpl_toolkits.mplot3d import Axes3D\n",
    "\n",
    "# Reduce to 3D\n",
    "pca_3d = PCA(n_components=3)\n",
    "vectors_3d = pca_3d.fit_transform(all_vectors_np)\n",
    "\n",
    "# Create 3D plot\n",
    "fig = plt.figure(figsize=(12, 10))\n",
    "ax = fig.add_subplot(111, projection='3d')\n",
    "\n",
    "# Plot each type\n",
    "for t in type_colors.keys():\n",
    "    mask = [all_types[i] == t for i in range(len(all_types))]\n",
    "    if any(mask):\n",
    "        ax.scatter(\n",
    "            vectors_3d[mask, 0],\n",
    "            vectors_3d[mask, 1],\n",
    "            vectors_3d[mask, 2],\n",
    "            c=type_colors[t],\n",
    "            s=type_sizes[t],\n",
    "            alpha=0.7,\n",
    "            label=t.replace('_', ' ').title()\n",
    "        )\n",
    "\n",
    "ax.set_xlabel('PC1')\n",
    "ax.set_ylabel('PC2')\n",
    "ax.set_zlabel('PC3')\n",
    "ax.set_title('Document Vector Space Visualization (3D PCA)')\n",
    "ax.legend()\n",
    "\n",
    "plt.show()\n",
    "\n",
    "print(f\"3D Explained variance ratio: {pca_3d.explained_variance_ratio_}\")\n",
    "print(f\"3D Total variance explained: {sum(pca_3d.explained_variance_ratio_):.2%}\")"
   ]
  },
  {
   "cell_type": "code",
   "execution_count": 43,
   "id": "ca32ee61",
   "metadata": {},
   "outputs": [
    {
     "name": "stdout",
     "output_type": "stream",
     "text": [
      "\n",
      "🔍 ANALYZING SEMANTIC CLUSTERING:\n",
      "============================================================\n",
      "\n",
      "Vectors most similar to the document vector:\n",
      "  PARA: The dominant sequence trans...: 0.931\n",
      "  SEC: 7 Conclusion...: 0.689\n",
      "  SUBSUB: Applications of Attention...: 0.614\n",
      "  SEC: Introduction...: 0.570\n",
      "  PARA: Recurrent neural networks, ...: 0.557\n",
      "\n",
      "Main section similarities:\n",
      "  SEC: Introduction... ↔ SEC: Background...: 0.580\n",
      "  SEC: Background... ↔ SEC: Model Architecture...: 0.418\n",
      "  SEC: Model Architecture... ↔ SEC: 4 Why Self-Attention...: 0.505\n"
     ]
    }
   ],
   "source": [
    "### STEP 9: VISUALIZE VECTORS\n",
    "### BLOCK 4: Semantic clustering\n",
    "\n",
    "# Analyze semantic clustering\n",
    "print(\"\\n🔍 ANALYZING SEMANTIC CLUSTERING:\")\n",
    "print(\"=\" * 60)\n",
    "\n",
    "# Find closest vectors to the document vector\n",
    "doc_vec = vectors['document_vector']['vector']\n",
    "similarities = cosine_similarity([doc_vec], all_vectors_np)[0]\n",
    "\n",
    "# Sort by similarity\n",
    "sorted_indices = np.argsort(similarities)[::-1]\n",
    "\n",
    "print(\"\\nVectors most similar to the document vector:\")\n",
    "for i in sorted_indices[1:6]:  # Skip first (itself)\n",
    "    print(f\"  {all_labels[i]}: {similarities[i]:.3f}\")\n",
    "\n",
    "# Check if main sections cluster together\n",
    "print(\"\\nMain section similarities:\")\n",
    "main_sections = [(i, l) for i, (l, t) in enumerate(zip(all_labels, all_types)) if t == 'section_L0']\n",
    "for i, (idx1, label1) in enumerate(main_sections[:3]):\n",
    "    for idx2, label2 in main_sections[i+1:i+2]:\n",
    "        sim = cosine_similarity([all_vectors_np[idx1]], [all_vectors_np[idx2]])[0][0]\n",
    "        print(f\"  {label1} ↔ {label2}: {sim:.3f}\")"
   ]
  }
 ],
 "metadata": {
  "kernelspec": {
   "display_name": "Python 3",
   "language": "python",
   "name": "python3"
  },
  "language_info": {
   "codemirror_mode": {
    "name": "ipython",
    "version": 3
   },
   "file_extension": ".py",
   "mimetype": "text/x-python",
   "name": "python",
   "nbconvert_exporter": "python",
   "pygments_lexer": "ipython3",
   "version": "3.12.6"
  }
 },
 "nbformat": 4,
 "nbformat_minor": 5
}
