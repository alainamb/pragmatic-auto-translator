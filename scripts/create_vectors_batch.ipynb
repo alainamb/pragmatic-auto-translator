{
 "cells": [
  {
   "cell_type": "markdown",
   "id": "e7801594",
   "metadata": {},
   "source": [
    "# CORPUS-INFORMED AUTO-TRANSLATOR: VECTOR CREATION NOTEBOOK\n",
    "Day 3: Converting JSON Corpora into Semantic Vectors\n",
    "(Create vectors for multiple corpus items)"
   ]
  },
  {
   "cell_type": "markdown",
   "id": "2852c9cc",
   "metadata": {},
   "source": [
    "## Notebook Outline\n",
    "\n",
    "**Part 1: Data Preparation and Planning**\n",
    "\n",
    "- STEP 1: LOAD THE REQUIRED LIBRARIES\n",
    "- STEP 2: LOAD AND EXAMINE DATABASE STRUCTURE\n",
    "- STEP 3: LOAD UNPROCESSED DOCUMENTS FOR BATCH PROCESSING (WITHOUT RE-VECTORIZATION)\n",
    "\n",
    "**Part 2: Function and Model Setup**\n",
    "\n",
    "- STEP 4: DEFINE TEXT EXTRACTION FUNCTIONS (FLEXIBLE)\n",
    "- STEP 5: DEFINE VECTORIZATION FUNCTIONS\n",
    "- STEP 6: INITIALIZE THE MULTILINGUAL EMBEDDING MODEL\n",
    "\n",
    "**Part 3: Execution and Output**\n",
    "- STEP 7: BATCH PROCESS DOCUMENTS"
   ]
  },
  {
   "cell_type": "markdown",
   "id": "82f00401",
   "metadata": {},
   "source": [
    "## ============================================================================="
   ]
  },
  {
   "cell_type": "markdown",
   "id": "47203421",
   "metadata": {},
   "source": [
    "\n",
    "## Part 1: Data Preparation and Planning"
   ]
  },
  {
   "cell_type": "markdown",
   "id": "7d423c59",
   "metadata": {},
   "source": [
    "### STEP 1: LOAD THE REQUIRED LIBRARIES"
   ]
  },
  {
   "cell_type": "code",
   "execution_count": 3,
   "id": "e5bdb528",
   "metadata": {},
   "outputs": [
    {
     "name": "stdout",
     "output_type": "stream",
     "text": [
      "✅ All libraries loaded successfully!\n",
      "\n",
      "============================================================\n",
      "🔧 CURRENT CONFIGURATION SETTINGS\n",
      "============================================================\n",
      "Domain: gai\n",
      "Languages: eng, esp\n",
      "Model: distiluse-base-multilingual-cased-v2\n",
      "Max text length: 8,000 characters\n",
      "Create document vectors: True\n",
      "Create section vectors: True\n",
      "Create paragraph vectors: True\n"
     ]
    }
   ],
   "source": [
    "### STEP 1: LOAD THE REQUIRED LIBRARIES\n",
    "\n",
    "# Core Python libraries\n",
    "import os\n",
    "import json\n",
    "from pathlib import Path\n",
    "import logging\n",
    "from typing import Dict, List, Tuple, Optional\n",
    "from datetime import datetime\n",
    "\n",
    "# Data processing libraries\n",
    "import pandas as pd\n",
    "import numpy as np\n",
    "\n",
    "# Text processing libraries\n",
    "import re\n",
    "from collections import defaultdict\n",
    "\n",
    "# Machine learning and embedding libraries\n",
    "from sentence_transformers import SentenceTransformer\n",
    "from sklearn.decomposition import PCA\n",
    "from sklearn.metrics.pairwise import cosine_similarity\n",
    "\n",
    "# Progress tracking (helpful for long processing times)\n",
    "from tqdm.notebook import tqdm\n",
    "\n",
    "# Visualization libraries (for testing our vectors)\n",
    "import matplotlib.pyplot as plt\n",
    "import seaborn as sns\n",
    "\n",
    "# Configuration management\n",
    "import sys\n",
    "sys.path.append('../scripts')  # Add scripts folder to path\n",
    "from config import *  # Import all our configuration settings\n",
    "\n",
    "# Set up logging for debugging\n",
    "logging.basicConfig(level=logging.INFO, format='%(asctime)s - %(levelname)s - %(message)s')\n",
    "logger = logging.getLogger(__name__)\n",
    "\n",
    "print(\"✅ All libraries loaded successfully!\")\n",
    "\n",
    "# Display current configuration for workshop participants\n",
    "print(\"\\n\" + \"=\"*60)\n",
    "print(\"🔧 CURRENT CONFIGURATION SETTINGS\")\n",
    "print(\"=\"*60)\n",
    "print(f\"Domain: {DOMAIN}\")\n",
    "print(f\"Languages: {', '.join(LANGUAGES)}\")\n",
    "print(f\"Model: {MODEL_NAME}\")\n",
    "print(f\"Max text length: {MAX_TEXT_LENGTH:,} characters\")\n",
    "print(f\"Create document vectors: {CREATE_DOCUMENT_VECTORS}\")\n",
    "print(f\"Create section vectors: {CREATE_SECTION_VECTORS}\")\n",
    "print(f\"Create paragraph vectors: {CREATE_PARAGRAPH_VECTORS}\")"
   ]
  },
  {
   "cell_type": "markdown",
   "id": "3141bcb5",
   "metadata": {},
   "source": [
    "### STEP 2: LOAD AND EXAMINE DATABASE STRUCTURE"
   ]
  },
  {
   "cell_type": "code",
   "execution_count": 4,
   "id": "1fd4eb5f",
   "metadata": {},
   "outputs": [
    {
     "name": "stdout",
     "output_type": "stream",
     "text": [
      "🔍 Loading corpus databases...\n",
      "✅ ENG: 4 documents loaded\n",
      "   All document IDs:\n",
      "      1. gai-eng_item001: Attention is All You Need\n",
      "      2. gai-eng_item002: On the Dangers of Stochastic Parrots: Can Language Models Be...\n",
      "      3. gai-eng_item003: Recommendation on the Ethics of Artificial Intelligence\n",
      "      4. gai-eng_item004: The Age of AI has begun\n",
      "\n",
      "✅ ESP: 2 documents loaded\n",
      "   All document IDs:\n",
      "      1. gai-esp_item001: Propuesta de Agenda Nacional de la Inteligencia Artificial p...\n",
      "      2. gai-esp_item002: Conversando con una computadora: ¿Cómo entienden las intelig...\n",
      "\n",
      "📊 Total: 6 documents across 2 languages\n",
      "✅ Database loading complete! Ready for vectorization.\n"
     ]
    }
   ],
   "source": [
    "### STEP 2: LOAD AND EXAMINE DATABASE STRUCTURE\n",
    "\n",
    "def load_database_file(language):\n",
    "    \"\"\"Load the database file for a specific language\"\"\"\n",
    "    database_path = Path(CORPORA_DIR) / language / f\"{DOMAIN}-{language}_database.json\"\n",
    "    \n",
    "    if not database_path.exists():\n",
    "        raise FileNotFoundError(f\"Database file not found: {database_path}\")\n",
    "    \n",
    "    with open(database_path, 'r', encoding='utf-8') as f:\n",
    "        return json.load(f)\n",
    "\n",
    "def extract_documents_from_db(db, language):\n",
    "    \"\"\"Extract document data from database, handling different structures\"\"\"\n",
    "    documents = {}\n",
    "    \n",
    "    # Get documents from nested 'documents' key\n",
    "    if 'documents' in db and isinstance(db['documents'], dict):\n",
    "        nested_docs = {k: v for k, v in db['documents'].items() \n",
    "                      if k.startswith(f'{DOMAIN}-{language}_item')}\n",
    "        documents.update(nested_docs)\n",
    "    \n",
    "    # Also check for direct top-level document keys\n",
    "    top_level_docs = {k: v for k, v in db.items() \n",
    "                     if k != f'{DOMAIN}_template' and k != 'documents' \n",
    "                     and k.startswith(f'{DOMAIN}-{language}_item')}\n",
    "    documents.update(top_level_docs)\n",
    "    \n",
    "    return documents\n",
    "\n",
    "# Load databases for all languages\n",
    "print(\"🔍 Loading corpus databases...\")\n",
    "\n",
    "databases = {}\n",
    "all_documents = {}\n",
    "failed_languages = []\n",
    "\n",
    "for language in LANGUAGES:\n",
    "    try:\n",
    "        databases[language] = load_database_file(language)\n",
    "        all_documents[language] = extract_documents_from_db(databases[language], language)\n",
    "        print(f\"✅ {language.upper()}: {len(all_documents[language])} documents loaded\")\n",
    "        \n",
    "        # Show all document IDs and titles for this language\n",
    "        if all_documents[language]:\n",
    "            print(f\"   All document IDs:\")\n",
    "            for i, (doc_id, doc_data) in enumerate(all_documents[language].items(), 1):\n",
    "                title = doc_data.get('document_metadata', {}).get('title', 'No title')\n",
    "                print(f\"     {i:2d}. {doc_id}: {title[:60]}{'...' if len(title) > 60 else ''}\")\n",
    "        print()  # Add blank line between languages\n",
    "        \n",
    "    except FileNotFoundError as e:\n",
    "        failed_languages.append(language)\n",
    "        print(f\"❌ {language.upper()}: Database not found\")\n",
    "\n",
    "# Show overall results\n",
    "total_documents = sum(len(docs) for docs in all_documents.values())\n",
    "print(f\"📊 Total: {total_documents} documents across {len(databases)} languages\")\n",
    "\n",
    "# Create summary for easy access by later steps\n",
    "document_summary = {\n",
    "    'total_count': total_documents,\n",
    "    'by_language': {lang: len(docs) for lang, docs in all_documents.items()},\n",
    "    'all_documents': all_documents\n",
    "}\n",
    "\n",
    "print(f\"✅ Database loading complete! Ready for vectorization.\")\n",
    "\n",
    "# Only show errors if any occurred\n",
    "if failed_languages:\n",
    "    print(f\"\\n⚠️  Failed to load: {', '.join(failed_languages)}\")\n",
    "    for lang in failed_languages:\n",
    "        expected_path = Path(CORPORA_DIR) / lang / f\"{DOMAIN}-{lang}_database.json\"\n",
    "        print(f\"   Expected: {expected_path}\")"
   ]
  },
  {
   "cell_type": "markdown",
   "id": "ce5780d3",
   "metadata": {},
   "source": [
    "### STEP 3: LOAD UNPROCESSED DOCUMENTS FOR BATCH PROCESSING (NO RE-VECTORIZATION)"
   ]
  },
  {
   "cell_type": "code",
   "execution_count": 5,
   "id": "ddb87d45",
   "metadata": {},
   "outputs": [
    {
     "name": "stdout",
     "output_type": "stream",
     "text": [
      "✅ Helper functions loaded and ready to use!\n"
     ]
    }
   ],
   "source": [
    "### STEP 3: LOAD UNPROCESSED DOCUMENTS FOR BATCH PROCESSING (NO RE-VECTORIZATION)\n",
    "### BLOCK 1: Helper functions (for use in step 3 and later)\n",
    "\n",
    "def load_corpus_item(language, doc_id):\n",
    "    \"\"\"\n",
    "    Load both the metadata and content data for a specific document\n",
    "\n",
    "    Args:\n",
    "        language: Language code ('eng', 'fra', etc.)\n",
    "        doc_id: Document ID (e.g., 'gai-eng_item004')\n",
    "\n",
    "    Returns:\n",
    "        Dictionary containing both metadata and content\n",
    "    \"\"\"\n",
    "    # Load metadata from database\n",
    "    if language not in all_documents:\n",
    "        raise ValueError(f\"Language '{language}' not found in loaded databases\")\n",
    "\n",
    "    if doc_id not in all_documents[language]:\n",
    "        raise ValueError(f\"Document '{doc_id}' not found in {language} database\")\n",
    "\n",
    "    metadata = all_documents[language][doc_id]\n",
    "\n",
    "    # Load content from separate content file\n",
    "    content_file_path = Path(CORPORA_DIR) / language / 'processed' / f'{doc_id}.json'\n",
    "\n",
    "    if not content_file_path.exists():\n",
    "        raise FileNotFoundError(f\"Content file not found: {content_file_path}\")\n",
    "\n",
    "    try:\n",
    "        with open(content_file_path, 'r', encoding='utf-8') as f:\n",
    "            content_data = json.load(f)\n",
    "    except Exception as e:\n",
    "        raise ValueError(f\"Error loading content file {content_file_path}: {e}\")\n",
    "\n",
    "    # Merge metadata and content\n",
    "    merged_data = {\n",
    "        'document_metadata': metadata.get('document_metadata', {}),\n",
    "        'processing_metadata': metadata.get('processing_metadata', {}),\n",
    "        'document_id': content_data.get('document_id', doc_id),\n",
    "        'content': content_data.get('content', {})\n",
    "    }\n",
    "\n",
    "    return merged_data\n",
    "\n",
    "def get_document_metadata(databases_dict, language, doc_id):\n",
    "    \"\"\"\n",
    "    Extract metadata for a specific document\n",
    "\n",
    "    Args:\n",
    "        databases_dict: The databases dictionary (not used but kept for compatibility)\n",
    "        language: Language code\n",
    "        doc_id: Document ID\n",
    "\n",
    "    Returns:\n",
    "        Document metadata dictionary\n",
    "    \"\"\"\n",
    "    if language not in all_documents:\n",
    "        raise ValueError(f\"Language '{language}' not found in loaded databases\")\n",
    "\n",
    "    if doc_id not in all_documents[language]:\n",
    "        raise ValueError(f\"Document '{doc_id}' not found in {language} database\")\n",
    "\n",
    "    document_data = all_documents[language][doc_id]\n",
    "    return document_data.get('document_metadata', {})\n",
    "\n",
    "def merge_content_and_metadata(content_data, metadata):\n",
    "    \"\"\"\n",
    "    Merge document content and metadata into a single structure\n",
    "\n",
    "    Args:\n",
    "        content_data: Full document data (already merged from load_corpus_item)\n",
    "        metadata: Document metadata (usually already part of content_data)\n",
    "\n",
    "    Returns:\n",
    "        Merged document structure ready for processing\n",
    "    \"\"\"\n",
    "    # The content_data from load_corpus_item already contains everything we need\n",
    "    # but we'll ensure metadata is properly merged\n",
    "    merged = content_data.copy()\n",
    "\n",
    "    # Ensure document_metadata is present and updated\n",
    "    if 'document_metadata' not in merged:\n",
    "        merged['document_metadata'] = {}\n",
    "\n",
    "    # Update with any additional metadata\n",
    "    merged['document_metadata'].update(metadata)\n",
    "\n",
    "    return merged\n",
    "\n",
    "print(\"✅ Helper functions loaded and ready to use!\")"
   ]
  },
  {
   "cell_type": "code",
   "execution_count": 6,
   "id": "537b5665",
   "metadata": {},
   "outputs": [
    {
     "name": "stdout",
     "output_type": "stream",
     "text": [
      "🔍 CHECKING EXISTING VECTORS IN: ..\\vectors\\gai\n",
      "  ✅ Documents: 1 vectors found\n",
      "  ✅ Sections: 22 vectors found\n",
      "  ✅ Paragraphs: 70 vectors found\n",
      "\n",
      "📊 EXISTING VECTORS SUMMARY:\n",
      "  • Unique documents with vectors: 1\n",
      "  • Total sections: 22\n",
      "  • Total paragraphs: 70\n",
      "  • Grand total vectors: 93\n",
      "\n",
      "🔍 IDENTIFYING UNPROCESSED DOCUMENTS:\n",
      "  ✅ gai-eng_item001 - Already processed\n",
      "  📄 gai-eng_item002 - Not processed\n",
      "  📄 gai-eng_item003 - Not processed\n",
      "  📄 gai-eng_item004 - Not processed\n",
      "  📄 gai-esp_item001 - Not processed\n",
      "  📄 gai-esp_item002 - Not processed\n",
      "\n",
      "📊 FINAL PROCESSING STATUS:\n",
      "  • Total documents in database: 6\n",
      "  • Documents with existing vectors: 1\n",
      "  • Documents needing processing: 5\n",
      "\n",
      "📝 DOCUMENTS TO PROCESS (5 total):\n",
      "   1. gai-eng_item002 (ENG)\n",
      "      On the Dangers of Stochastic Parrots: Can Language...\n",
      "      Type: Academic paper | Words: 15,544\n",
      "   2. gai-eng_item003 (ENG)\n",
      "      Recommendation on the Ethics of Artificial Intelli...\n",
      "      Type: Policy document | Words: 14,571\n",
      "   3. gai-eng_item004 (ENG)\n",
      "      The Age of AI has begun\n",
      "      Type: Blog post | Words: 3,672\n",
      "   4. gai-esp_item001 (ESP)\n",
      "      Propuesta de Agenda Nacional de la Inteligencia Ar...\n",
      "      Type: Policy document | Words: 14,835\n",
      "   5. gai-esp_item002 (ESP)\n",
      "      Conversando con una computadora: ¿Cómo entienden l...\n",
      "      Type: Journal article | Words: 9,939\n",
      "\n",
      "📖 LOADING DOCUMENT CONTENT:\n",
      "  Loading gai-eng_item002...\n",
      "    ✅ Success\n",
      "  Loading gai-eng_item003...\n",
      "    ✅ Success\n",
      "  Loading gai-eng_item004...\n",
      "    ✅ Success\n",
      "  Loading gai-esp_item001...\n",
      "    ✅ Success\n",
      "  Loading gai-esp_item002...\n",
      "    ✅ Success\n",
      "\n",
      "✅ LOADING COMPLETE:\n",
      "  📦 Successfully loaded: 5 documents\n",
      "\n",
      "✅ STEP 3 COMPLETE - Ready for vectorization functions in STEP 5!\n"
     ]
    }
   ],
   "source": [
    "### STEP 3: LOAD UNPROCESSED DOCUMENTS FOR BATCH PROCESSING (NO RE-VECTORIZATION)\n",
    "### BLOCK 2: Isolate unprocessed documents\n",
    "\n",
    "def load_existing_vector_files_comprehensive(vector_dir='../vectors/gai'):\n",
    "    \"\"\"\n",
    "    Comprehensively load all existing vector files and extract processed document IDs\n",
    "    Returns detailed information about what's already processed\n",
    "    \"\"\"\n",
    "    vector_dir = Path(vector_dir)\n",
    "    \n",
    "    processed_info = {\n",
    "        'document_ids': set(),\n",
    "        'section_ids': set(),\n",
    "        'paragraph_ids': set(),\n",
    "        'files_found': {},\n",
    "        'total_vectors': 0\n",
    "    }\n",
    "    \n",
    "    # Define the three vector files we expect\n",
    "    vector_files = {\n",
    "        'documents': 'gai-document-vectors.json',\n",
    "        'sections': 'gai-section-vectors.json', \n",
    "        'paragraphs': 'gai-paragraph-vectors.json'\n",
    "    }\n",
    "    \n",
    "    print(f\"🔍 CHECKING EXISTING VECTORS IN: {vector_dir}\")\n",
    "    \n",
    "    for vector_type, filename in vector_files.items():\n",
    "        filepath = vector_dir / filename\n",
    "        \n",
    "        if filepath.exists():\n",
    "            try:\n",
    "                with open(filepath, 'r', encoding='utf-8') as f:\n",
    "                    data = json.load(f)\n",
    "                \n",
    "                # Handle both new schema and legacy formats\n",
    "                vectors = data.get('vectors', data.get('vector_data', []))\n",
    "                \n",
    "                processed_info['files_found'][vector_type] = {\n",
    "                    'path': str(filepath),\n",
    "                    'count': len(vectors),\n",
    "                    'size_mb': filepath.stat().st_size / (1024*1024)\n",
    "                }\n",
    "                \n",
    "                # Extract IDs based on vector type\n",
    "                if vector_type == 'documents':\n",
    "                    for vector in vectors:\n",
    "                        processed_info['document_ids'].add(vector.get('id', ''))\n",
    "                elif vector_type == 'sections':\n",
    "                    for vector in vectors:\n",
    "                        processed_info['section_ids'].add(vector.get('id', ''))\n",
    "                        # Also track the parent document\n",
    "                        doc_id = vector.get('document_id', '')\n",
    "                        if doc_id:\n",
    "                            processed_info['document_ids'].add(doc_id)\n",
    "                elif vector_type == 'paragraphs':\n",
    "                    for vector in vectors:\n",
    "                        processed_info['paragraph_ids'].add(vector.get('id', ''))\n",
    "                        # Also track the parent document\n",
    "                        doc_id = vector.get('document_id', '')\n",
    "                        if doc_id:\n",
    "                            processed_info['document_ids'].add(doc_id)\n",
    "                \n",
    "                processed_info['total_vectors'] += len(vectors)\n",
    "                \n",
    "                print(f\"  ✅ {vector_type.title()}: {len(vectors)} vectors found\")\n",
    "                \n",
    "            except Exception as e:\n",
    "                print(f\"  ❌ Error reading {filepath}: {e}\")\n",
    "                processed_info['files_found'][vector_type] = {'error': str(e)}\n",
    "        else:\n",
    "            print(f\"  📝 {vector_type.title()}: No existing file found\")\n",
    "            processed_info['files_found'][vector_type] = {'status': 'not_found'}\n",
    "    \n",
    "    # Remove empty strings from sets\n",
    "    processed_info['document_ids'].discard('')\n",
    "    processed_info['section_ids'].discard('')\n",
    "    processed_info['paragraph_ids'].discard('')\n",
    "    \n",
    "    print(f\"\\n📊 EXISTING VECTORS SUMMARY:\")\n",
    "    print(f\"  • Unique documents with vectors: {len(processed_info['document_ids'])}\")\n",
    "    print(f\"  • Total sections: {len(processed_info['section_ids'])}\")\n",
    "    print(f\"  • Total paragraphs: {len(processed_info['paragraph_ids'])}\")\n",
    "    print(f\"  • Grand total vectors: {processed_info['total_vectors']}\")\n",
    "    \n",
    "    return processed_info\n",
    "\n",
    "def find_truly_unprocessed_documents(all_documents, processed_info):\n",
    "    \"\"\"\n",
    "    Find documents that have NO vectors at all (completely unprocessed)\n",
    "    More robust than just checking document-level vectors\n",
    "    \"\"\"\n",
    "    unprocessed = []\n",
    "    processed_doc_ids = processed_info['document_ids']\n",
    "    \n",
    "    print(f\"\\n🔍 IDENTIFYING UNPROCESSED DOCUMENTS:\")\n",
    "    \n",
    "    for language, docs in all_documents.items():\n",
    "        for doc_id, doc_data in docs.items():\n",
    "            if doc_id not in processed_doc_ids:\n",
    "                # Get document info\n",
    "                doc_metadata = doc_data.get('document_metadata', {})\n",
    "                processing_metadata = doc_data.get('processing_metadata', {})\n",
    "                \n",
    "                unprocessed.append({\n",
    "                    'document_id': doc_id,\n",
    "                    'language': language,\n",
    "                    'title': doc_metadata.get('title', 'No title'),\n",
    "                    'text_type': doc_metadata.get('text_type', 'Unknown'),\n",
    "                    'word_count': processing_metadata.get('word_count', 0),\n",
    "                    'language_family': doc_metadata.get('language_family', 'unknown'),\n",
    "                    'language_variant': doc_metadata.get('language_variant', 'unknown')\n",
    "                })\n",
    "                \n",
    "                print(f\"  📄 {doc_id} - Not processed\")\n",
    "            else:\n",
    "                print(f\"  ✅ {doc_id} - Already processed\")\n",
    "    \n",
    "    return unprocessed\n",
    "\n",
    "def load_documents_for_batch(documents_to_process):\n",
    "    \"\"\"\n",
    "    Load the actual document content for processing\n",
    "    Uses your existing load_corpus_item() helper function\n",
    "    \"\"\"\n",
    "    loaded_documents = []\n",
    "    \n",
    "    print(f\"\\n📖 LOADING DOCUMENT CONTENT:\")\n",
    "    \n",
    "    for doc_info in documents_to_process:\n",
    "        doc_id = doc_info['document_id']\n",
    "        language = doc_info['language']\n",
    "        \n",
    "        print(f\"  Loading {doc_id}...\")\n",
    "        \n",
    "        try:\n",
    "            # Use your existing helper function\n",
    "            document = load_corpus_item(language, doc_id)\n",
    "            \n",
    "            # Add the processing info\n",
    "            document['processing_info'] = doc_info\n",
    "            \n",
    "            loaded_documents.append(document)\n",
    "            print(f\"    ✅ Success\")\n",
    "            \n",
    "        except Exception as e:\n",
    "            print(f\"    ❌ Error: {e}\")\n",
    "    \n",
    "    return loaded_documents\n",
    "\n",
    "# Run the comprehensive check\n",
    "existing_vectors_info = load_existing_vector_files_comprehensive()\n",
    "\n",
    "# Find unprocessed documents using the comprehensive info\n",
    "documents_to_process = find_truly_unprocessed_documents(all_documents, existing_vectors_info)\n",
    "\n",
    "print(f\"\\n📊 FINAL PROCESSING STATUS:\")\n",
    "print(f\"  • Total documents in database: {sum(len(docs) for docs in all_documents.values())}\")\n",
    "print(f\"  • Documents with existing vectors: {len(existing_vectors_info['document_ids'])}\")\n",
    "print(f\"  • Documents needing processing: {len(documents_to_process)}\")\n",
    "\n",
    "if documents_to_process:\n",
    "    print(f\"\\n📝 DOCUMENTS TO PROCESS ({len(documents_to_process)} total):\")\n",
    "    for i, doc in enumerate(documents_to_process, 1):\n",
    "        print(f\"  {i:2d}. {doc['document_id']} ({doc['language'].upper()})\")\n",
    "        print(f\"      {doc['title'][:50]}{'...' if len(doc['title']) > 50 else ''}\")\n",
    "        print(f\"      Type: {doc['text_type']} | Words: {doc['word_count']:,}\")\n",
    "    \n",
    "    # Load the documents for processing\n",
    "    loaded_docs = load_documents_for_batch(documents_to_process)\n",
    "    \n",
    "    print(f\"\\n✅ LOADING COMPLETE:\")\n",
    "    print(f\"  📦 Successfully loaded: {len(loaded_docs)} documents\")\n",
    "    \n",
    "    if len(loaded_docs) != len(documents_to_process):\n",
    "        print(f\"  ⚠️  Failed to load: {len(documents_to_process) - len(loaded_docs)} documents\")\n",
    "else:\n",
    "    print(f\"\\n🎉 ALL DOCUMENTS ALREADY PROCESSED!\")\n",
    "    print(f\"    No new vectorization needed.\")\n",
    "    loaded_docs = []\n",
    "\n",
    "print(f\"\\n✅ STEP 3 COMPLETE - Ready for vectorization functions in STEP 5!\")"
   ]
  },
  {
   "cell_type": "markdown",
   "id": "865c8c22",
   "metadata": {},
   "source": [
    "## ============================================================================="
   ]
  },
  {
   "cell_type": "markdown",
   "id": "a20bbfc5",
   "metadata": {},
   "source": [
    "## Part 2: Function and Model Setup"
   ]
  },
  {
   "cell_type": "markdown",
   "id": "60aacab9",
   "metadata": {},
   "source": [
    "### STEP 4: FLEXIBLE TEXT EXTRACTION FUNCTIONS"
   ]
  },
  {
   "cell_type": "code",
   "execution_count": 7,
   "id": "4ec33f95",
   "metadata": {},
   "outputs": [
    {
     "name": "stdout",
     "output_type": "stream",
     "text": [
      "✅ Flexible extraction functions defined and ready to use!\n"
     ]
    }
   ],
   "source": [
    "### STEP 4: FLEXIBLE TEXT EXTRACTION FUNCTIONS\n",
    "### BLOCK 1: Extract text\n",
    "\n",
    "# COMPREHENSIVE EXTRACTION FUNCTIONS\n",
    "\n",
    "def extract_text_from_any_element(element, element_type=\"text\"):\n",
    "    \"\"\"\n",
    "    Flexible text extraction from any element type\n",
    "    \n",
    "    Handles:\n",
    "    - Regular text fields\n",
    "    - Terms with definitions\n",
    "    - Figures with captions\n",
    "    - Lists with items\n",
    "    - References\n",
    "    - Citations with various formats\n",
    "    \"\"\"\n",
    "    if isinstance(element, dict):\n",
    "        # Handle different element types\n",
    "        if element_type == \"term\":\n",
    "            term = element.get('term', '')\n",
    "            definition = element.get('definition', '')\n",
    "            return f\"{term}: {definition}\"\n",
    "        \n",
    "        elif element_type == \"figure\":\n",
    "            caption = element.get('caption', '')\n",
    "            description = element.get('description', '')\n",
    "            # Handle figures that have paragraphs\n",
    "            paragraph_texts = []\n",
    "            if 'paragraphs' in element:\n",
    "                for para in element.get('paragraphs', []):\n",
    "                    para_text = extract_text_from_any_element(para)\n",
    "                    if para_text:\n",
    "                        paragraph_texts.append(para_text)\n",
    "            \n",
    "            all_texts = [caption, description] + paragraph_texts\n",
    "            return ' '.join([t for t in all_texts if t])\n",
    "        \n",
    "        elif element_type == \"reference\":\n",
    "            return element.get('text', '')\n",
    "        \n",
    "        elif element_type == \"citation\":\n",
    "            # Handle both reference_id (string) and reference_ids (array)\n",
    "            marker = element.get('marker', '')\n",
    "            if 'reference_id' in element:\n",
    "                ref_id = element.get('reference_id')\n",
    "                if isinstance(ref_id, list):\n",
    "                    return f\"[{marker}: {', '.join(ref_id)}]\"\n",
    "                else:\n",
    "                    return f\"[{marker}: {ref_id}]\"\n",
    "            elif 'reference_ids' in element:\n",
    "                ref_ids = element.get('reference_ids', [])\n",
    "                if ref_ids:  # Check if not empty\n",
    "                    return f\"[{marker}: {', '.join(ref_ids)}]\"\n",
    "                else:\n",
    "                    return f\"[{marker}]\"\n",
    "        \n",
    "        else:\n",
    "            # Default: try to get 'text' field\n",
    "            return element.get('text', '')\n",
    "    \n",
    "    elif isinstance(element, str):\n",
    "        return element\n",
    "    \n",
    "    return \"\"\n",
    "\n",
    "def extract_paragraph_text_flexible(paragraph):\n",
    "    \"\"\"\n",
    "    Extract text from a paragraph, handling various embedded elements\n",
    "    \"\"\"\n",
    "    if not isinstance(paragraph, dict):\n",
    "        return \"\", \"\"\n",
    "    \n",
    "    paragraph_id = paragraph.get('id', 'unknown')\n",
    "    texts = []\n",
    "    \n",
    "    # Main paragraph text\n",
    "    main_text = paragraph.get('text', '')\n",
    "    if main_text:\n",
    "        texts.append(main_text)\n",
    "    \n",
    "    # Handle lists (like in journal articles)\n",
    "    if 'list' in paragraph:\n",
    "        for item in paragraph.get('list', []):\n",
    "            item_text = extract_text_from_any_element(item)\n",
    "            if item_text:\n",
    "                texts.append(f\"• {item_text}\")\n",
    "    \n",
    "    # Handle footnotes\n",
    "    if 'footnotes' in paragraph:\n",
    "        for footnote in paragraph.get('footnotes', []):\n",
    "            marker = footnote.get('marker', '')\n",
    "            text = footnote.get('text', '')\n",
    "            texts.append(f\"[Footnote {marker}]: {text}\")\n",
    "    \n",
    "    # Handle citations\n",
    "    if 'citations' in paragraph:\n",
    "        citation_texts = []\n",
    "        for citation in paragraph.get('citations', []):\n",
    "            cite_text = extract_text_from_any_element(citation, 'citation')\n",
    "            if cite_text:\n",
    "                citation_texts.append(cite_text)\n",
    "        if citation_texts:\n",
    "            texts.append(f\"Citations: {' '.join(citation_texts)}\")\n",
    "    \n",
    "    # Handle external links (NEW - for gai-eng_item004 structure)\n",
    "    if 'external_links' in paragraph:\n",
    "        link_texts = []\n",
    "        for link in paragraph.get('external_links', []):\n",
    "            marker = link.get('marker', '')\n",
    "            url = link.get('url', '')\n",
    "            if marker and url:\n",
    "                link_texts.append(f\"[Link: {marker} -> {url}]\")\n",
    "            elif marker:\n",
    "                link_texts.append(f\"[Link: {marker}]\")\n",
    "        if link_texts:\n",
    "            texts.append(f\"External links: {' '.join(link_texts)}\")\n",
    "    \n",
    "    # Handle inline equations\n",
    "    if 'inline_equations' in paragraph:\n",
    "        for eq in paragraph.get('inline_equations', []):\n",
    "            eq_text = eq.get('text', '')\n",
    "            if eq_text:\n",
    "                texts.append(f\"[Equation: {eq_text}]\")\n",
    "    \n",
    "    # Handle internal references\n",
    "    if 'internal_references' in paragraph:\n",
    "        for ref in paragraph.get('internal_references', []):\n",
    "            ref_text = ref.get('text', '')\n",
    "            # Handle both field name variations\n",
    "            target = ref.get('target_section_id', ref.get('target_id', ''))\n",
    "            if ref_text:\n",
    "                texts.append(f\"[Ref: {ref_text} -> {target}]\")\n",
    "    \n",
    "    # Handle any embedded paragraphs (for complex structures)\n",
    "    if 'paragraphs' in paragraph:\n",
    "        for sub_para in paragraph.get('paragraphs', []):\n",
    "            _, sub_text = extract_paragraph_text_flexible(sub_para)\n",
    "            if sub_text:\n",
    "                texts.append(sub_text)\n",
    "    \n",
    "    # Combine all text\n",
    "    full_text = ' '.join(texts)\n",
    "    \n",
    "    # Clean text\n",
    "    full_text = extract_clean_text(full_text)\n",
    "    \n",
    "    return paragraph_id, full_text\n",
    "\n",
    "def extract_section_content_flexible(section, parent_id=\"\", level=0, corpus_item=None):\n",
    "    \"\"\"\n",
    "    Flexibly extract content from sections with various structures\n",
    "    \"\"\"\n",
    "    section_id = section.get('id', 'unknown')\n",
    "    # Handle both 'title' and 'group' fields\n",
    "    section_title = section.get('title', section.get('group', ''))\n",
    "    section_type = section.get('type', 'standard')  # For special section types\n",
    "\n",
    "    # Get document_id from corpus_item\n",
    "    document_id = 'unknown'\n",
    "    if corpus_item:\n",
    "        document_id = corpus_item.get('document_id', 'unknown')\n",
    "    \n",
    "    # Build section ID\n",
    "    if level == 0:\n",
    "        full_section_id = section_id\n",
    "    else:\n",
    "        full_section_id = f\"{parent_id}_{section_id.split('_')[-1]}\"\n",
    "    \n",
    "    section_texts = []\n",
    "    all_paragraphs = []\n",
    "    subsection_results = []\n",
    "    special_content = {}\n",
    "    \n",
    "    # Add section title if present\n",
    "    if section_title:\n",
    "        section_texts.append(section_title)\n",
    "    \n",
    "    # Handle direct text on section (some structures have this)\n",
    "    if 'text' in section and isinstance(section['text'], str):\n",
    "        section_texts.append(section['text'])\n",
    "    \n",
    "    # Extract paragraphs\n",
    "    for paragraph in section.get('paragraphs', []):\n",
    "        para_id, para_text = extract_paragraph_text_flexible(paragraph)\n",
    "        if para_text:\n",
    "            section_texts.append(para_text)\n",
    "            all_paragraphs.append({\n",
    "                'id': para_id,\n",
    "                'text': para_text,\n",
    "                'section_id': full_section_id,\n",
    "                'section_title': section_title,\n",
    "                'document_id': document_id, \n",
    "                'level': level\n",
    "            })\n",
    "    \n",
    "    # Handle terms (for glossaries)\n",
    "    if 'terms' in section:\n",
    "        special_content['terms'] = []\n",
    "        for term in section.get('terms', []):\n",
    "            term_text = extract_text_from_any_element(term, 'term')\n",
    "            if term_text:\n",
    "                section_texts.append(term_text)\n",
    "                special_content['terms'].append({\n",
    "                    'id': term.get('id', ''),\n",
    "                    'text': term_text\n",
    "                })\n",
    "    \n",
    "    # Handle references\n",
    "    if 'references' in section:\n",
    "        special_content['references'] = []\n",
    "        for ref in section.get('references', []):\n",
    "            ref_text = extract_text_from_any_element(ref, 'reference')\n",
    "            if ref_text:\n",
    "                section_texts.append(ref_text)\n",
    "                special_content['references'].append({\n",
    "                    'id': ref.get('id', ''),\n",
    "                    'text': ref_text\n",
    "                })\n",
    "    \n",
    "    # Handle figures\n",
    "    if 'figures' in section:\n",
    "        special_content['figures'] = []\n",
    "        for figure in section.get('figures', []):\n",
    "            fig_text = extract_text_from_any_element(figure, 'figure')\n",
    "            if fig_text:\n",
    "                section_texts.append(fig_text)\n",
    "                special_content['figures'].append({\n",
    "                    'id': figure.get('id', ''),\n",
    "                    'text': fig_text\n",
    "                })\n",
    "    \n",
    "    # Handle tables\n",
    "    if 'tables' in section:\n",
    "        special_content['tables'] = []\n",
    "        for table in section.get('tables', []):\n",
    "            caption = table.get('caption', '')\n",
    "            if caption:\n",
    "                section_texts.append(f\"Table: {caption}\")\n",
    "                special_content['tables'].append({\n",
    "                    'id': table.get('id', ''),\n",
    "                    'caption': caption\n",
    "                })\n",
    "    \n",
    "    # Process subsections recursively\n",
    "    for subsection in section.get('subsections', []):\n",
    "        subsection_content = extract_section_content_flexible(\n",
    "            subsection, \n",
    "            full_section_id, \n",
    "            level + 1,\n",
    "            corpus_item\n",
    "        )\n",
    "        subsection_results.append(subsection_content)\n",
    "        section_texts.append(subsection_content['section_text'])\n",
    "        all_paragraphs.extend(subsection_content['all_paragraphs'])\n",
    "    \n",
    "    # Process subsubsections (for deeper nesting)\n",
    "    for subsubsection in section.get('subsubsections', []):\n",
    "        subsubsection_content = extract_section_content_flexible(\n",
    "            subsubsection, \n",
    "            full_section_id, \n",
    "            level + 1,\n",
    "            corpus_item\n",
    "        )\n",
    "        subsection_results.append(subsubsection_content)\n",
    "        section_texts.append(subsubsection_content['section_text'])\n",
    "        all_paragraphs.extend(subsubsection_content['all_paragraphs'])\n",
    "    \n",
    "    # Combine all text\n",
    "    combined_section_text = ' '.join(section_texts)\n",
    "    \n",
    "    return {\n",
    "        'section_id': full_section_id,\n",
    "        'section_title': section_title,\n",
    "        'section_type': section_type,\n",
    "        'section_text': combined_section_text,\n",
    "        'document_id': document_id,\n",
    "        'subsections': subsection_results,\n",
    "        'all_paragraphs': all_paragraphs,\n",
    "        'special_content': special_content,\n",
    "        'level': level\n",
    "    }\n",
    "\n",
    "def extract_document_content_flexible(corpus_item):\n",
    "    \"\"\"\n",
    "    Extract all content from a document with flexible structure\n",
    "    \"\"\"\n",
    "    print(f\"📄 Extracting content from: {corpus_item.get('document_id', 'Unknown')}\")\n",
    "    \n",
    "    document_texts = []\n",
    "    all_sections = []\n",
    "    all_paragraphs = []\n",
    "    special_elements = {\n",
    "        'figures': [],\n",
    "        'tables': [],\n",
    "        'equations': [],\n",
    "        'pull_quotes': [],\n",
    "        'external_links': [],\n",
    "        'terms': [],\n",
    "        'references': []\n",
    "    }\n",
    "    \n",
    "    # Extract metadata\n",
    "    metadata = corpus_item.get('document_metadata', {})\n",
    "    doc_id = corpus_item.get('document_id', 'unknown')\n",
    "    title = metadata.get('title', '')\n",
    "    language_family = metadata.get('language_family', 'unknown')\n",
    "    language_variant = metadata.get('language_variant', 'unknown')\n",
    "    language = f\"{language_family}-{language_variant}\"\n",
    "    text_type = metadata.get('text_type', 'unknown')\n",
    "    \n",
    "    # Add title\n",
    "    if title:\n",
    "        document_texts.append(title)\n",
    "    \n",
    "    # Extract content\n",
    "    content = corpus_item.get('content', {})\n",
    "    \n",
    "    # Check for abstract (not all documents have this)\n",
    "    abstract = content.get('abstract', '')\n",
    "    if abstract:\n",
    "        clean_abstract = extract_clean_text(abstract)\n",
    "        document_texts.append(clean_abstract)\n",
    "        all_paragraphs.append({\n",
    "            'id': f\"{doc_id}_abstract\",\n",
    "            'text': clean_abstract,\n",
    "            'section_id': 'abstract',\n",
    "            'section_title': 'Abstract',\n",
    "            'document_id': doc_id,\n",
    "            'level': -1\n",
    "        })\n",
    "    \n",
    "    # Process all sections\n",
    "    for section in content.get('sections', []):\n",
    "        section_content = extract_section_content_flexible(\n",
    "            section, \n",
    "            \"\", \n",
    "            0,\n",
    "            corpus_item\n",
    "        )\n",
    "        \n",
    "        # Add to document text\n",
    "        document_texts.append(section_content['section_text'])\n",
    "        \n",
    "        # Collect all sections\n",
    "        def collect_sections(section_data):\n",
    "            all_sections.append({\n",
    "                'id': section_data['section_id'],\n",
    "                'title': section_data['section_title'],\n",
    "                'type': section_data['section_type'],\n",
    "                'text': section_data['section_text'],\n",
    "                'document_id': section_data['document_id'],\n",
    "                'level': section_data['level']\n",
    "            })\n",
    "            \n",
    "            # Collect special content\n",
    "            for content_type, items in section_data['special_content'].items():\n",
    "                if items:\n",
    "                    special_elements[content_type].extend(items)\n",
    "            \n",
    "            for subsection in section_data['subsections']:\n",
    "                collect_sections(subsection)\n",
    "        \n",
    "        collect_sections(section_content)\n",
    "        all_paragraphs.extend(section_content['all_paragraphs'])\n",
    "    \n",
    "    # Extract top-level figures (if present)\n",
    "    for figure in content.get('figures', []):\n",
    "        fig_text = extract_text_from_any_element(figure, 'figure')\n",
    "        if fig_text:\n",
    "            special_elements['figures'].append({\n",
    "                'id': figure.get('id', ''),\n",
    "                'text': fig_text\n",
    "            })\n",
    "            document_texts.append(fig_text)\n",
    "    \n",
    "    # Extract top-level tables (if present)\n",
    "    for table in content.get('tables', []):\n",
    "        caption = table.get('caption', '')\n",
    "        if caption:\n",
    "            special_elements['tables'].append({\n",
    "                'id': table.get('id', ''),\n",
    "                'caption': caption\n",
    "            })\n",
    "            document_texts.append(f\"Table: {caption}\")\n",
    "    \n",
    "    # Extract top-level equations (if present)\n",
    "    for equation in content.get('equations', []):\n",
    "        eq_id = equation.get('id', '')\n",
    "        latex = equation.get('latex', '')\n",
    "        if latex:\n",
    "            special_elements['equations'].append({\n",
    "                'id': eq_id,\n",
    "                'latex': latex\n",
    "            })\n",
    "            document_texts.append(f\"Equation {eq_id}: {latex}\")\n",
    "    \n",
    "    # Extract top-level references (if present)\n",
    "    for reference in content.get('references', []):\n",
    "        ref_text = reference.get('text', '')\n",
    "        if ref_text:\n",
    "            special_elements['references'].append({\n",
    "                'id': reference.get('id', ''),\n",
    "                'text': ref_text\n",
    "            })\n",
    "            document_texts.append(ref_text)\n",
    "    \n",
    "    # Extract pull quotes (if present)\n",
    "    for quote in content.get('pull_quotes', []):\n",
    "        quote_text = quote.get('text', '')\n",
    "        if quote_text:\n",
    "            special_elements['pull_quotes'].append({\n",
    "                'id': quote.get('id', ''),\n",
    "                'text': quote_text\n",
    "            })\n",
    "    \n",
    "    # Combine all text\n",
    "    full_document_text = ' '.join(document_texts)\n",
    "    \n",
    "    # Calculate statistics\n",
    "    stats = {\n",
    "        'total_sections': len(all_sections),\n",
    "        'total_paragraphs': len(all_paragraphs),\n",
    "        'document_length': len(full_document_text),\n",
    "        'text_type': text_type,\n",
    "        'has_abstract': bool(abstract),\n",
    "        'has_figures': len(special_elements['figures']) > 0,\n",
    "        'has_tables': len(special_elements['tables']) > 0,\n",
    "        'has_equations': len(special_elements['equations']) > 0,\n",
    "        'has_terms': len(special_elements['terms']) > 0,\n",
    "        'has_references': len(special_elements['references']) > 0,\n",
    "        'has_pull_quotes': len(special_elements['pull_quotes']) > 0\n",
    "    }\n",
    "    \n",
    "    print(f\"  ✅ Extracted: {stats['total_sections']} sections, {stats['total_paragraphs']} paragraphs\")\n",
    "    print(f\"  📊 Document type: {text_type}\")\n",
    "    print(f\"  🎯 Special elements: \" + ', '.join([k for k, v in special_elements.items() if v]))\n",
    "    \n",
    "    return {\n",
    "        'document_id': doc_id,\n",
    "        'title': title,\n",
    "        'language': language,\n",
    "        'text_type': text_type,\n",
    "        'document_text': full_document_text,\n",
    "        'sections': all_sections,\n",
    "        'paragraphs': all_paragraphs,\n",
    "        'special_elements': special_elements,\n",
    "        'statistics': stats\n",
    "    }\n",
    "\n",
    "# Helper function to clean text (assuming you have this)\n",
    "def extract_clean_text(text):\n",
    "    \"\"\"\n",
    "    Clean text by removing extra whitespaces, normalizing quotes, etc.\n",
    "    \"\"\"\n",
    "    if not text:\n",
    "        return \"\"\n",
    "    \n",
    "    # Replace multiple spaces with single space\n",
    "    text = ' '.join(text.split())\n",
    "    \n",
    "    # Normalize quotes\n",
    "    text = text.replace('\"', '\"').replace('\"', '\"')\n",
    "    text = text.replace(''', \"'\").replace(''', \"'\")\n",
    "    \n",
    "    # Remove leading/trailing whitespace\n",
    "    text = text.strip()\n",
    "    \n",
    "    return text\n",
    "\n",
    "print(\"✅ Flexible extraction functions defined and ready to use!\")"
   ]
  },
  {
   "cell_type": "markdown",
   "id": "a71fa0da",
   "metadata": {},
   "source": [
    "Potential Minor Improvements for future iterations:\n",
    "\n",
    "- equation_numbers arrays in paragraphs that the current code doesn’t explicitly handle\n",
    "- external_links in some paragraphs that aren’t currently extracted\n",
    "- The  current code also only extracts table captions, not the full table content (rows/columns)"
   ]
  },
  {
   "cell_type": "code",
   "execution_count": 8,
   "id": "c7f0492e",
   "metadata": {},
   "outputs": [
    {
     "name": "stdout",
     "output_type": "stream",
     "text": [
      "🚀 Running extraction test...\n",
      "\n",
      "🧪 TESTING gai-eng_item004 EXTRACTION\n",
      "============================================================\n",
      "📄 Extracting content from: gai-eng_item004\n",
      "  ✅ Extracted: 7 sections, 56 paragraphs\n",
      "  📊 Document type: Blog post\n",
      "  🎯 Special elements: pull_quotes\n",
      "\n",
      "🔍 DETAILED EXTRACTION VERIFICATION\n",
      "============================================================\n",
      "📋 Document ID: gai-eng_item004\n",
      "📑 Title: The Age of AI has begun\n",
      "🌐 Language: eng-usa\n",
      "📄 Text type: Blog post\n",
      "\n",
      "📚 SECTIONS EXTRACTED (7 total):\n",
      "  1. [section_1] Introduction\n",
      "  2. [section_2] Defining artificial intelligence\n",
      "  3. [section_3] Productivity enhancement\n",
      "  4. [section_4] Health\n",
      "  5. [section_5] Education\n",
      "  6. [section_6] Risks and problems with AI\n",
      "  7. [section_7] The next frontiers\n",
      "\n",
      "📝 PARAGRAPHS EXTRACTED (56 total):\n",
      "  1. [p1_1] in section 'Introduction'\n",
      "     Text: In my lifetime, I’ve seen two demonstrations of technology that struck me as revolutionary.\n",
      "  2. [p1_2] in section 'Introduction'\n",
      "     Text: The first time was in 1980, when I was introduced to a graphical user interface—the forerunner of ev...\n",
      "  3. [p1_3] in section 'Introduction'\n",
      "     Text: The second big surprise came just last year. I’d been meeting with the team from OpenAI since 2016 a...\n",
      "  4. [p1_4] in section 'Introduction'\n",
      "     Text: I thought the challenge would keep them busy for two or three years. They finished it in just a few ...\n",
      "  5. [p1_5] in section 'Introduction'\n",
      "     Text: In September, when I met with them again, I watched in awe as they asked GPT, their AI model, 60 mul...\n",
      "     ... and 51 more paragraphs\n",
      "\n",
      "🎯 SPECIAL ELEMENTS FOUND:\n",
      "  • Pull_Quotes: 2 found\n",
      "    - \"I've been thinking a lot about how AI can reduce some of the world's worst inequ...\"\n",
      "    - \"Advances in AI will enable the creation of a personal agent....\"\n",
      "\n",
      "📄 DOCUMENT TEXT PREVIEW:\n",
      "  Total length: 21,925 characters\n",
      "  First 300 chars: The Age of AI has begun Introduction In my lifetime, I’ve seen two demonstrations of technology that struck me as revolutionary. The first time was in 1980, when I was introduced to a graphical user interface—the forerunner of every modern operating system, including Windows. I sat with the person w...\n",
      "\n",
      "📊 STATISTICS:\n",
      "  • Total sections: 7\n",
      "  • Total paragraphs: 56\n",
      "  • Document length: 21,925 characters\n",
      "  • Has abstract: False\n",
      "  • Has figures: False\n",
      "  • Has tables: False\n",
      "  • Has equations: False\n",
      "  • Has pull quotes: True\n",
      "\n",
      "✅ SPECIFIC CHECKS FOR gai-eng_item004:\n",
      "  • Expected 7 sections: ✓ (found 7)\n",
      "  • Expected pull quotes: ✓ (found 2)\n",
      "  • Has external links in text: ✓\n",
      "  • Document has substantial content: ✓ (21,925 chars)\n",
      "\n",
      "📚 ALL SECTION TITLES FOUND:\n",
      "  1. Introduction\n",
      "  2. Defining artificial intelligence\n",
      "  3. Productivity enhancement\n",
      "  4. Health\n",
      "  5. Education\n",
      "  6. Risks and problems with AI\n",
      "  7. The next frontiers\n",
      "\n",
      "💾 Result stored in 'test_result' variable for further use\n"
     ]
    }
   ],
   "source": [
    "### STEP 4: FLEXIBLE TEXT EXTRACTION FUNCTIONS\n",
    "### BLOCK 2: Test and verify extraction of one document\n",
    "\n",
    "def verify_extraction_details(extracted_data, show_full_text=False):\n",
    "    \"\"\"\n",
    "    Print detailed information about what was extracted from the document\n",
    "    \"\"\"\n",
    "    print(f\"\\n🔍 DETAILED EXTRACTION VERIFICATION\")\n",
    "    print(f\"=\" * 60)\n",
    "    \n",
    "    # Basic stats\n",
    "    print(f\"📋 Document ID: {extracted_data['document_id']}\")\n",
    "    print(f\"📑 Title: {extracted_data['title']}\")\n",
    "    print(f\"🌐 Language: {extracted_data['language']}\")\n",
    "    print(f\"📄 Text type: {extracted_data['text_type']}\")\n",
    "    \n",
    "    # Section details\n",
    "    print(f\"\\n📚 SECTIONS EXTRACTED ({len(extracted_data['sections'])} total):\")\n",
    "    for i, section in enumerate(extracted_data['sections'], 1):\n",
    "        print(f\"  {i}. [{section['id']}] {section['title']}\")\n",
    "        if section['type'] != 'standard':\n",
    "            print(f\"     (Type: {section['type']})\")\n",
    "    \n",
    "    # Paragraph details  \n",
    "    print(f\"\\n📝 PARAGRAPHS EXTRACTED ({len(extracted_data['paragraphs'])} total):\")\n",
    "    for i, para in enumerate(extracted_data['paragraphs'][:5], 1):  # Show first 5\n",
    "        print(f\"  {i}. [{para['id']}] in section '{para['section_title']}'\")\n",
    "        # Show first 100 characters of paragraph text\n",
    "        preview = para['text'][:100] + \"...\" if len(para['text']) > 100 else para['text']\n",
    "        print(f\"     Text: {preview}\")\n",
    "    \n",
    "    if len(extracted_data['paragraphs']) > 5:\n",
    "        print(f\"     ... and {len(extracted_data['paragraphs']) - 5} more paragraphs\")\n",
    "    \n",
    "    # Special elements details\n",
    "    print(f\"\\n🎯 SPECIAL ELEMENTS FOUND:\")\n",
    "    for element_type, items in extracted_data['special_elements'].items():\n",
    "        if items:\n",
    "            print(f\"  • {element_type.title()}: {len(items)} found\")\n",
    "            # Show details for some types\n",
    "            if element_type == 'pull_quotes' and items:\n",
    "                for quote in items:\n",
    "                    print(f\"    - \\\"{quote['text'][:80]}...\\\"\")\n",
    "            elif element_type == 'figures' and items:\n",
    "                for fig in items[:3]:  # Show first 3\n",
    "                    print(f\"    - [{fig['id']}]: {fig['text'][:60]}...\")\n",
    "    \n",
    "    # Document text preview\n",
    "    print(f\"\\n📄 DOCUMENT TEXT PREVIEW:\")\n",
    "    print(f\"  Total length: {len(extracted_data['document_text']):,} characters\")\n",
    "    if show_full_text:\n",
    "        print(f\"  Full text:\\n{extracted_data['document_text']}\")\n",
    "    else:\n",
    "        # Show first 300 characters\n",
    "        preview = extracted_data['document_text'][:300] + \"...\" if len(extracted_data['document_text']) > 300 else extracted_data['document_text']\n",
    "        print(f\"  First 300 chars: {preview}\")\n",
    "    \n",
    "    # Statistics summary\n",
    "    stats = extracted_data['statistics']\n",
    "    print(f\"\\n📊 STATISTICS:\")\n",
    "    print(f\"  • Total sections: {stats['total_sections']}\")\n",
    "    print(f\"  • Total paragraphs: {stats['total_paragraphs']}\")\n",
    "    print(f\"  • Document length: {stats['document_length']:,} characters\")\n",
    "    print(f\"  • Has abstract: {stats['has_abstract']}\")\n",
    "    print(f\"  • Has figures: {stats['has_figures']}\")\n",
    "    print(f\"  • Has tables: {stats['has_tables']}\")\n",
    "    print(f\"  • Has equations: {stats['has_equations']}\")\n",
    "    print(f\"  • Has pull quotes: {stats['has_pull_quotes']}\")\n",
    "    \n",
    "    return True\n",
    "\n",
    "# Test specifically with the gai-eng_item004 document\n",
    "def test_gai_eng_item004():\n",
    "    \"\"\"\n",
    "    Test the extraction with the specific document structure\n",
    "    \"\"\"\n",
    "    print(f\"\\n🧪 TESTING gai-eng_item004 EXTRACTION\")\n",
    "    print(f\"=\" * 60)\n",
    "    \n",
    "    try:\n",
    "        # Load the document (adjust path as needed)\n",
    "        doc_id = \"gai-eng_item004\"\n",
    "        lang = \"eng\"\n",
    "        \n",
    "        # Load content and metadata\n",
    "        content_data = load_corpus_item(lang, doc_id)\n",
    "        metadata = get_document_metadata(databases, lang, doc_id)\n",
    "        corpus_item = merge_content_and_metadata(content_data, metadata)\n",
    "        \n",
    "        # Extract with flexible function\n",
    "        extracted = extract_document_content_flexible(corpus_item)\n",
    "        \n",
    "        # Show detailed verification\n",
    "        verify_extraction_details(extracted, show_full_text=False)\n",
    "        \n",
    "        # Specific checks for this document\n",
    "        print(f\"\\n✅ SPECIFIC CHECKS FOR gai-eng_item004:\")\n",
    "        print(f\"  • Expected 7 sections: {'✓' if len(extracted['sections']) == 7 else '✗'} (found {len(extracted['sections'])})\")\n",
    "        print(f\"  • Expected pull quotes: {'✓' if len(extracted['special_elements']['pull_quotes']) == 2 else '✗'} (found {len(extracted['special_elements']['pull_quotes'])})\")\n",
    "        print(f\"  • Has external links in text: {'✓' if 'Link:' in extracted['document_text'] else '✗'}\")\n",
    "        print(f\"  • Document has substantial content: {'✓' if len(extracted['document_text']) > 10000 else '✗'} ({len(extracted['document_text']):,} chars)\")\n",
    "        \n",
    "        # Store result globally for further use\n",
    "        global test_result\n",
    "        test_result = extracted\n",
    "        \n",
    "        return extracted\n",
    "        \n",
    "    except Exception as e:\n",
    "        print(f\"  ❌ Error during extraction: {e}\")\n",
    "        import traceback\n",
    "        traceback.print_exc()\n",
    "        return None\n",
    "\n",
    "# Run the test\n",
    "print(\"🚀 Running extraction test...\")\n",
    "result = test_gai_eng_item004()\n",
    "\n",
    "# Show section titles to verify all 7 are there\n",
    "if result:\n",
    "    print(f\"\\n📚 ALL SECTION TITLES FOUND:\")\n",
    "    for i, section in enumerate(result['sections'], 1):\n",
    "        print(f\"  {i}. {section['title']}\")\n",
    "        \n",
    "    print(f\"\\n💾 Result stored in 'test_result' variable for further use\")\n",
    "else:\n",
    "    print(f\"\\n❌ Test failed - check the error messages above\")"
   ]
  },
  {
   "cell_type": "markdown",
   "id": "68b3f714",
   "metadata": {},
   "source": [
    "### STEP 5: DEFINE VECTORIZATION FUNCTIONS"
   ]
  },
  {
   "cell_type": "code",
   "execution_count": 11,
   "id": "112921e5",
   "metadata": {},
   "outputs": [
    {
     "name": "stdout",
     "output_type": "stream",
     "text": [
      "📋 Functions available:\n",
      "  • batch_process_and_append_vectors() - Process and append new documents\n"
     ]
    }
   ],
   "source": [
    "### STEP 5: DEFINE VECTORIZATION FUNCTIONS (SCHEMA-COMPLIANT)\n",
    "### BLOCK 1: Create vectors\n",
    "\n",
    "def create_schema_compliant_metadata(model):\n",
    "    \"\"\"Create metadata section matching the standardized schema\"\"\"\n",
    "    return {\n",
    "        \"model\": \"distiluse-base-multilingual-cased-v2\",  # UPDATED MODEL\n",
    "        \"dimension\": model.get_sentence_embedding_dimension()\n",
    "    }\n",
    "\n",
    "def create_document_vector_schema_compliant(extracted_content, model):\n",
    "    \"\"\"\n",
    "    Create a single document-level vector matching existing schema\n",
    "    \"\"\"\n",
    "    doc_vector = model.encode(extracted_content['document_text'])\n",
    "    \n",
    "    return {\n",
    "        'id': extracted_content['document_id'],\n",
    "        'title': extracted_content['title'],\n",
    "        'text': extracted_content['document_text'],  # Full text, no truncation\n",
    "        'vector': doc_vector.tolist()  # Convert numpy array to list for JSON\n",
    "    }\n",
    "\n",
    "def create_section_vectors_schema_compliant(extracted_content, model):\n",
    "    \"\"\"\n",
    "    Create vectors for all sections matching existing schema\n",
    "    \"\"\"\n",
    "    section_vectors = []\n",
    "    \n",
    "    for section in extracted_content['sections']:\n",
    "        if section['text'].strip():  # Only create vectors for non-empty sections\n",
    "            vector = model.encode(section['text'])\n",
    "            \n",
    "            section_vectors.append({\n",
    "                'id': section['id'],\n",
    "                'document_id': section['document_id'],\n",
    "                'title': section['title'],\n",
    "                'level': section['level'],\n",
    "                'text': section['text'],  # Full text, no truncation\n",
    "                'vector': vector.tolist()  # Convert to list for JSON\n",
    "            })\n",
    "    \n",
    "    return section_vectors\n",
    "\n",
    "def create_paragraph_vectors_schema_compliant(extracted_content, model):\n",
    "    \"\"\"\n",
    "    Create vectors for all paragraphs matching existing schema\n",
    "    \"\"\"\n",
    "    paragraph_vectors = []\n",
    "    \n",
    "    for paragraph in extracted_content['paragraphs']:\n",
    "        if paragraph['text'].strip():  # Only create vectors for non-empty paragraphs\n",
    "            vector = model.encode(paragraph['text'])\n",
    "            \n",
    "            paragraph_vectors.append({\n",
    "                'id': paragraph['id'],\n",
    "                'document_id': paragraph['document_id'],\n",
    "                'text': paragraph['text'],  # Full text, no truncation\n",
    "                'vector': vector.tolist()  # Convert to list for JSON\n",
    "            })\n",
    "    \n",
    "    return paragraph_vectors\n",
    "\n",
    "def append_vectors_to_schema_file(new_vectors, vector_type, model, output_dir=\"../vectors/gai\"):\n",
    "    \"\"\"\n",
    "    Append new vectors to existing schema-compliant files\n",
    "    Creates files if they don't exist, ensures proper count/created fields\n",
    "    \n",
    "    Args:\n",
    "        new_vectors: List of new vector objects to append\n",
    "        vector_type: 'document', 'section', or 'paragraph'\n",
    "        model: SentenceTransformer model for metadata\n",
    "        output_dir: Output directory path\n",
    "    \n",
    "    Returns:\n",
    "        Dictionary with file info and statistics\n",
    "    \"\"\"\n",
    "    output_dir = Path(output_dir)\n",
    "    output_dir.mkdir(parents=True, exist_ok=True)\n",
    "    \n",
    "    # Define filename based on type\n",
    "    filename_map = {\n",
    "        'document': 'gai-document-vectors.json',\n",
    "        'section': 'gai-section-vectors.json', \n",
    "        'paragraph': 'gai-paragraph-vectors.json'\n",
    "    }\n",
    "    \n",
    "    if vector_type not in filename_map:\n",
    "        raise ValueError(f\"Invalid vector_type: {vector_type}\")\n",
    "    \n",
    "    filepath = output_dir / filename_map[vector_type]\n",
    "    \n",
    "    # Load existing file or create new structure\n",
    "    if filepath.exists():\n",
    "        try:\n",
    "            with open(filepath, 'r', encoding='utf-8') as f:\n",
    "                existing_data = json.load(f)\n",
    "        except Exception as e:\n",
    "            print(f\"  ⚠️ Error reading existing file, creating new: {e}\")\n",
    "            existing_data = {\"metadata\": {}, \"vectors\": []}\n",
    "    else:\n",
    "        existing_data = {\"metadata\": {}, \"vectors\": []}\n",
    "    \n",
    "    # Ensure proper structure\n",
    "    if 'vectors' not in existing_data:\n",
    "        existing_data['vectors'] = []\n",
    "    if 'metadata' not in existing_data:\n",
    "        existing_data['metadata'] = {}\n",
    "    \n",
    "    # Add new vectors with proper count numbering and created timestamps\n",
    "    current_count = len(existing_data['vectors'])\n",
    "    timestamp = datetime.now().isoformat()\n",
    "    \n",
    "    for i, vector in enumerate(new_vectors):\n",
    "        # Create schema-compliant vector object\n",
    "        vector_with_schema = {\n",
    "            'id': vector['id'],\n",
    "            'count': current_count + i + 1,  # REQUIRED: Sequential count\n",
    "            'created': timestamp,  # REQUIRED: Creation timestamp\n",
    "            'text': vector['text'],  # REQUIRED: Full text, no truncation\n",
    "            'vector': vector['vector']  # REQUIRED: Vector array\n",
    "        }\n",
    "        \n",
    "        # Add type-specific fields\n",
    "        if vector_type == 'document':\n",
    "            vector_with_schema['title'] = vector.get('title', 'No title')\n",
    "        elif vector_type == 'section':\n",
    "            vector_with_schema['document_id'] = vector['document_id']\n",
    "            vector_with_schema['title'] = vector.get('title', 'No title')\n",
    "            vector_with_schema['level'] = vector.get('level', 0)\n",
    "        elif vector_type == 'paragraph':\n",
    "            vector_with_schema['document_id'] = vector['document_id']\n",
    "        \n",
    "        existing_data['vectors'].append(vector_with_schema)\n",
    "    \n",
    "    # Update metadata to match single document schema\n",
    "    existing_data['metadata'] = create_schema_compliant_metadata(model)\n",
    "    \n",
    "    # Save file\n",
    "    with open(filepath, 'w', encoding='utf-8') as f:\n",
    "        json.dump(existing_data, f, ensure_ascii=False, indent=2)\n",
    "    \n",
    "    return {\n",
    "        'file': str(filepath),\n",
    "        'new_count': len(new_vectors),\n",
    "        'total_count': len(existing_data['vectors']),\n",
    "        'size_mb': filepath.stat().st_size / (1024*1024)\n",
    "    }\n",
    "\n",
    "def batch_process_and_append_vectors(loaded_docs, model, output_dir=\"../vectors/gai\"):\n",
    "    \"\"\"\n",
    "    Process documents and append to existing vector files with schema compliance\n",
    "    Only processes documents that aren't already vectorized\n",
    "    \n",
    "    Args:\n",
    "        loaded_docs: List of loaded document objects from STEP 3\n",
    "        model: SentenceTransformer model\n",
    "        output_dir: Output directory for vector files\n",
    "    \n",
    "    Returns:\n",
    "        Dictionary with processing statistics\n",
    "    \"\"\"\n",
    "    if not loaded_docs:\n",
    "        print(\"📝 No documents to process - all vectors are up to date!\")\n",
    "        return {'processed': 0, 'vectors_created': 0}\n",
    "    \n",
    "    print(f\"🚀 BATCH PROCESSING {len(loaded_docs)} NEW DOCUMENTS\")\n",
    "    print(f\"📐 Creating 512-dimensional vectors with distiluse-base-multilingual-cased-v2\")\n",
    "    print(f\"💾 Full text content stored (no truncation)\")\n",
    "    print(\"=\" * 60)\n",
    "    \n",
    "    # Collections for new vectors only\n",
    "    new_document_vectors = []\n",
    "    new_section_vectors = []\n",
    "    new_paragraph_vectors = []\n",
    "    \n",
    "    processing_stats = {\n",
    "        'documents_processed': 0,\n",
    "        'documents_failed': 0,\n",
    "        'total_doc_vectors': 0,\n",
    "        'total_section_vectors': 0,\n",
    "        'total_paragraph_vectors': 0\n",
    "    }\n",
    "    \n",
    "    # Process each document\n",
    "    for idx, corpus_item in enumerate(loaded_docs):\n",
    "        try:\n",
    "            doc_id = corpus_item.get('document_id', 'Unknown')\n",
    "            \n",
    "            # Show progress\n",
    "            print(f\"📄 Processing {idx + 1}/{len(loaded_docs)}: {doc_id}\")\n",
    "            \n",
    "            # Extract content using flexible extraction\n",
    "            extracted_content = extract_document_content_flexible(corpus_item)\n",
    "            \n",
    "            # Create vectors using schema-compliant functions\n",
    "            doc_vector_data = create_document_vector_schema_compliant(extracted_content, model)\n",
    "            doc_section_vectors = create_section_vectors_schema_compliant(extracted_content, model)\n",
    "            doc_paragraph_vectors = create_paragraph_vectors_schema_compliant(extracted_content, model)\n",
    "            \n",
    "            # Add to collections\n",
    "            new_document_vectors.append(doc_vector_data)\n",
    "            new_section_vectors.extend(doc_section_vectors)\n",
    "            new_paragraph_vectors.extend(doc_paragraph_vectors)\n",
    "            \n",
    "            # Update statistics\n",
    "            processing_stats['documents_processed'] += 1\n",
    "            processing_stats['total_doc_vectors'] += 1\n",
    "            processing_stats['total_section_vectors'] += len(doc_section_vectors)\n",
    "            processing_stats['total_paragraph_vectors'] += len(doc_paragraph_vectors)\n",
    "            \n",
    "            # Show document stats\n",
    "            print(f\"   ✅ Created: 1 doc + {len(doc_section_vectors)} sections + {len(doc_paragraph_vectors)} paragraphs\")\n",
    "            \n",
    "        except Exception as e:\n",
    "            print(f\"   ❌ Error processing {doc_id}: {e}\")\n",
    "            processing_stats['documents_failed'] += 1\n",
    "            continue\n",
    "    \n",
    "    # Append all new vectors to files\n",
    "    print(f\"\\n💾 SAVING VECTORS TO SCHEMA-COMPLIANT FILES\")\n",
    "    print(\"=\" * 50)\n",
    "    \n",
    "    file_results = {}\n",
    "    \n",
    "    # Append document vectors\n",
    "    if new_document_vectors:\n",
    "        file_results['documents'] = append_vectors_to_schema_file(\n",
    "            new_document_vectors, 'document', model, output_dir\n",
    "        )\n",
    "        print(f\"📄 Document vectors: {file_results['documents']['new_count']} added (total: {file_results['documents']['total_count']})\")\n",
    "    \n",
    "    # Append section vectors\n",
    "    if new_section_vectors:\n",
    "        file_results['sections'] = append_vectors_to_schema_file(\n",
    "            new_section_vectors, 'section', model, output_dir\n",
    "        )\n",
    "        print(f\"📚 Section vectors: {file_results['sections']['new_count']} added (total: {file_results['sections']['total_count']})\")\n",
    "    \n",
    "    # Append paragraph vectors\n",
    "    if new_paragraph_vectors:\n",
    "        file_results['paragraphs'] = append_vectors_to_schema_file(\n",
    "            new_paragraph_vectors, 'paragraph', model, output_dir\n",
    "        )\n",
    "        print(f\"📝 Paragraph vectors: {file_results['paragraphs']['new_count']} added (total: {file_results['paragraphs']['total_count']})\")\n",
    "    \n",
    "    # Final statistics\n",
    "    total_new_vectors = (len(new_document_vectors) + len(new_section_vectors) + len(new_paragraph_vectors))\n",
    "    \n",
    "    print(f\"\\n✅ BATCH PROCESSING COMPLETE\")\n",
    "    print(f\"📊 Processed: {processing_stats['documents_processed']} documents\")\n",
    "    print(f\"🎯 Created: {total_new_vectors} total vectors\")\n",
    "    print(f\"📐 Dimension: 512 (distiluse-base-multilingual-cased-v2)\")\n",
    "    print(f\"📝 Text storage: Complete content, no truncation\")\n",
    "    \n",
    "    if processing_stats['documents_failed'] > 0:\n",
    "        print(f\"⚠️  Failed: {processing_stats['documents_failed']} documents\")\n",
    "    \n",
    "    return {\n",
    "        'processed': processing_stats['documents_processed'],\n",
    "        'failed': processing_stats['documents_failed'],\n",
    "        'vectors_created': total_new_vectors,\n",
    "        'file_results': file_results,\n",
    "        'processing_stats': processing_stats\n",
    "    }\n",
    "\n",
    "print(\"📋 Functions available:\")\n",
    "print(\"  • batch_process_and_append_vectors() - Process and append new documents\")"
   ]
  },
  {
   "cell_type": "code",
   "execution_count": 12,
   "id": "5e4b7752",
   "metadata": {},
   "outputs": [
    {
     "name": "stdout",
     "output_type": "stream",
     "text": [
      "📋 Functions available:\n",
      "  • verify_schema_consistency() - Verify all files match single document schema\n",
      "💡 All functions ensure full text storage and proper count/timestamp fields\n",
      "✅ SCHEMA-COMPLIANT BATCH PROCESSING FUNCTIONS READY\n"
     ]
    }
   ],
   "source": [
    "### STEP 5: DEFINE VECTORIZATION FUNCTIONS (SCHEMA-COMPLIANT)\n",
    "### BLOCK 2: Verify schema\n",
    "\n",
    "def verify_schema_consistency(vector_dir=\"../vectors/gai\"):\n",
    "    \"\"\"\n",
    "    Verify that all vector files follow the exact schema from single document processing\n",
    "    \"\"\"\n",
    "    from pathlib import Path\n",
    "    \n",
    "    vector_dir = Path(vector_dir)\n",
    "    \n",
    "    vector_files = [\n",
    "        ('gai-document-vectors.json', 'document'),\n",
    "        ('gai-section-vectors.json', 'section'), \n",
    "        ('gai-paragraph-vectors.json', 'paragraph')\n",
    "    ]\n",
    "    \n",
    "    all_good = True\n",
    "    \n",
    "    print(\"🔍 VERIFYING SCHEMA CONSISTENCY\")\n",
    "    print(\"=\" * 40)\n",
    "    \n",
    "    for filename, vector_type in vector_files:\n",
    "        filepath = vector_dir / filename\n",
    "        \n",
    "        if filepath.exists():\n",
    "            try:\n",
    "                with open(filepath, 'r', encoding='utf-8') as f:\n",
    "                    data = json.load(f)\n",
    "                \n",
    "                # Check metadata\n",
    "                metadata = data.get('metadata', {})\n",
    "                model_name = metadata.get('model', '')\n",
    "                dimension = metadata.get('dimension', 0)\n",
    "                \n",
    "                print(f\"📄 {filename}:\")\n",
    "                print(f\"   Model: {model_name}\")\n",
    "                print(f\"   Dimension: {dimension}\")\n",
    "                \n",
    "                # Check required fields in vectors\n",
    "                vectors = data.get('vectors', [])\n",
    "                if vectors:\n",
    "                    first_vector = vectors[0]\n",
    "                    required_fields = ['id', 'count', 'created', 'text', 'vector']\n",
    "                    \n",
    "                    missing_fields = [f for f in required_fields if f not in first_vector]\n",
    "                    if missing_fields:\n",
    "                        print(f\"   ❌ Missing fields: {missing_fields}\")\n",
    "                        all_good = False\n",
    "                    else:\n",
    "                        print(f\"   ✅ Schema complete\")\n",
    "                \n",
    "                print(f\"   📊 Total vectors: {len(vectors)}\")\n",
    "                \n",
    "            except Exception as e:\n",
    "                print(f\"   ❌ Error: {e}\")\n",
    "                all_good = False\n",
    "        else:\n",
    "            print(f\"📄 {filename}: Not found\")\n",
    "        \n",
    "        print()\n",
    "    \n",
    "    return all_good\n",
    "\n",
    "\n",
    "print(\"📋 Functions available:\")\n",
    "print(\"  • verify_schema_consistency() - Verify all files match single document schema\")\n",
    "print(\"💡 All functions ensure full text storage and proper count/timestamp fields\")\n",
    "print(\"✅ SCHEMA-COMPLIANT BATCH PROCESSING FUNCTIONS READY\")"
   ]
  },
  {
   "cell_type": "markdown",
   "id": "44a5801e",
   "metadata": {},
   "source": [
    "### STEP 6: INITIALIZE THE MULTILINGUAL EMBEDDING MODEL"
   ]
  },
  {
   "cell_type": "code",
   "execution_count": null,
   "id": "759e726f",
   "metadata": {},
   "outputs": [
    {
     "name": "stderr",
     "output_type": "stream",
     "text": [
      "2025-05-30 03:22:03,845 - INFO - Use pytorch device_name: cpu\n",
      "2025-05-30 03:22:03,846 - INFO - Load pretrained SentenceTransformer: distiluse-base-multilingual-cased-v2\n"
     ]
    },
    {
     "name": "stdout",
     "output_type": "stream",
     "text": [
      "🤖 Loading multilingual embedding model...\n",
      "📥 This may take a moment on first run as it downloads the model (~500MB)\n",
      "✅ Model loaded successfully!\n",
      "\n",
      "📊 MODEL INFORMATION\n",
      "🏷️  Model: distiluse-base-multilingual-cased-v2\n",
      "📐 Embedding dimension: 512\n",
      "📏 Max sequence length: 128\n",
      "🌐 Cross-lingual: Maps Spanish + English to same vector space\n",
      "⚡ Optimized: 135M parameters\n",
      "\n",
      "✅ Model dimension (512) matches schema expectations!\n",
      "🎯 Ready to create vectors compatible with web application\n",
      "\n",
      "🔄 BATCH PROCESSING COMPATIBILITY:\n",
      "📄 New vectors will be 512-dimensional\n",
      "💾 Vectors will be appended to existing files using consistent schema\n",
      "🌐 Cross-lingual similarity search will work across Spanish + English content\n",
      "\n",
      "🚀 READY FOR BATCH VECTORIZATION!\n",
      "📋 Model will process Spanish and English documents in the same vector space\n",
      "💡 Use batch_process_and_append_vectors() to add new documents to your corpus\n"
     ]
    }
   ],
   "source": [
    "### STEP 6: INITIALIZE THE MULTILINGUAL EMBEDDING MODEL\n",
    "\n",
    "print(\"🤖 Loading multilingual embedding model...\")\n",
    "print(\"📥 This may take a moment on first run as it downloads the model (~500MB)\")\n",
    "\n",
    "try:\n",
    "    # Load the cross-lingual model\n",
    "    model = SentenceTransformer('distiluse-base-multilingual-cased-v2')\n",
    "    print(\"✅ Model loaded successfully!\")\n",
    "    \n",
    "    # Display model information\n",
    "    print(f\"\\n📊 MODEL INFORMATION\")\n",
    "    print(f\"🏷️  Model: distiluse-base-multilingual-cased-v2\")\n",
    "    print(f\"📐 Embedding dimension: {model.get_sentence_embedding_dimension()}\")\n",
    "    print(f\"📏 Max sequence length: {model.max_seq_length}\")\n",
    "    print(f\"🌐 Cross-lingual: Maps Spanish + English to same vector space\")\n",
    "    print(f\"⚡ Optimized: 135M parameters\")\n",
    "    \n",
    "    # Verify this matches our schema expectations\n",
    "    expected_dimension = 512\n",
    "    actual_dimension = model.get_sentence_embedding_dimension()\n",
    "    \n",
    "    if actual_dimension == expected_dimension:\n",
    "        print(f\"\\n✅ Model dimension ({actual_dimension}) matches schema expectations!\")\n",
    "        print(f\"🎯 Ready to create vectors compatible with web application\")\n",
    "    else:\n",
    "        print(f\"\\n⚠️  WARNING: Model dimension ({actual_dimension}) differs from expected ({expected_dimension})\")\n",
    "        print(\"This may cause compatibility issues. Check your schema configuration.\")\n",
    "    \n",
    "    # Show compatibility with existing vectors\n",
    "    print(f\"\\n🔄 BATCH PROCESSING COMPATIBILITY:\")\n",
    "    print(f\"📄 New vectors will be 512-dimensional\")\n",
    "    print(f\"💾 Vectors will be appended to existing files using consistent schema\")\n",
    "    print(f\"🌐 Cross-lingual similarity search will work across Spanish + English content\")\n",
    "    \n",
    "except Exception as e:\n",
    "    print(f\"❌ Error loading model: {e}\")\n",
    "    print(\"💡 Troubleshooting:\")\n",
    "    print(\"   1. Check internet connection (model downloads from Hugging Face)\")\n",
    "    print(\"   2. Ensure sentence-transformers is installed: pip install sentence-transformers\")\n",
    "    print(\"   3. Try restarting kernel if you see cache issues\")\n",
    "\n",
    "print(f\"\\n🚀 READY FOR BATCH VECTORIZATION!\")\n",
    "print(f\"📋 Model will process Spanish and English documents in the same vector space\")\n",
    "print(f\"💡 Use batch_process_and_append_vectors() to add new documents to your corpus\")"
   ]
  },
  {
   "cell_type": "markdown",
   "id": "0fba3007",
   "metadata": {},
   "source": [
    "## ============================================================================="
   ]
  },
  {
   "cell_type": "markdown",
   "id": "7f35f211",
   "metadata": {},
   "source": [
    "## Part 3: Execution and Output"
   ]
  },
  {
   "cell_type": "markdown",
   "id": "61c710b9",
   "metadata": {},
   "source": [
    "### STEP 7: BATCH PROCESS DOCUMENTS"
   ]
  },
  {
   "cell_type": "code",
   "execution_count": 15,
   "id": "2e9701ee",
   "metadata": {},
   "outputs": [
    {
     "name": "stdout",
     "output_type": "stream",
     "text": [
      "🚀 STARTING SMART BATCH VECTORIZATION\n",
      "📋 Processing 5 new documents\n",
      "🤖 Model: distiluse-base-multilingual-cased-v2\n",
      "📐 Dimension: 512\n",
      "==================================================\n",
      "🔄 Progress: 20% (1/5) - gai-eng_item002\n",
      "📄 Extracting content from: gai-eng_item002\n",
      "  ✅ Extracted: 19 sections, 73 paragraphs\n",
      "  📊 Document type: Academic paper\n",
      "  🎯 Special elements: figures, tables, references\n"
     ]
    },
    {
     "data": {
      "application/vnd.jupyter.widget-view+json": {
       "model_id": "61fe3534413e417784492fc9541b6a82",
       "version_major": 2,
       "version_minor": 0
      },
      "text/plain": [
       "Batches:   0%|          | 0/1 [00:00<?, ?it/s]"
      ]
     },
     "metadata": {},
     "output_type": "display_data"
    },
    {
     "data": {
      "application/vnd.jupyter.widget-view+json": {
       "model_id": "042f4bb8fe144bfb8d66d0e11fd9a254",
       "version_major": 2,
       "version_minor": 0
      },
      "text/plain": [
       "Batches:   0%|          | 0/1 [00:00<?, ?it/s]"
      ]
     },
     "metadata": {},
     "output_type": "display_data"
    },
    {
     "data": {
      "application/vnd.jupyter.widget-view+json": {
       "model_id": "4f5230c041bb46419d057045d9179641",
       "version_major": 2,
       "version_minor": 0
      },
      "text/plain": [
       "Batches:   0%|          | 0/1 [00:00<?, ?it/s]"
      ]
     },
     "metadata": {},
     "output_type": "display_data"
    },
    {
     "data": {
      "application/vnd.jupyter.widget-view+json": {
       "model_id": "e0ffbc665ee04ff6b5f0a3066a19b622",
       "version_major": 2,
       "version_minor": 0
      },
      "text/plain": [
       "Batches:   0%|          | 0/1 [00:00<?, ?it/s]"
      ]
     },
     "metadata": {},
     "output_type": "display_data"
    },
    {
     "data": {
      "application/vnd.jupyter.widget-view+json": {
       "model_id": "811d87fe16c041c595af61dab4063886",
       "version_major": 2,
       "version_minor": 0
      },
      "text/plain": [
       "Batches:   0%|          | 0/1 [00:00<?, ?it/s]"
      ]
     },
     "metadata": {},
     "output_type": "display_data"
    },
    {
     "data": {
      "application/vnd.jupyter.widget-view+json": {
       "model_id": "26b0e1854336456c8f0bf025c59a83d3",
       "version_major": 2,
       "version_minor": 0
      },
      "text/plain": [
       "Batches:   0%|          | 0/1 [00:00<?, ?it/s]"
      ]
     },
     "metadata": {},
     "output_type": "display_data"
    },
    {
     "data": {
      "application/vnd.jupyter.widget-view+json": {
       "model_id": "b60fb42d6968493b9afe43cc96d02f58",
       "version_major": 2,
       "version_minor": 0
      },
      "text/plain": [
       "Batches:   0%|          | 0/1 [00:00<?, ?it/s]"
      ]
     },
     "metadata": {},
     "output_type": "display_data"
    },
    {
     "data": {
      "application/vnd.jupyter.widget-view+json": {
       "model_id": "1666c6fee6b54ea68ab076ca104e2da9",
       "version_major": 2,
       "version_minor": 0
      },
      "text/plain": [
       "Batches:   0%|          | 0/1 [00:00<?, ?it/s]"
      ]
     },
     "metadata": {},
     "output_type": "display_data"
    },
    {
     "data": {
      "application/vnd.jupyter.widget-view+json": {
       "model_id": "d88daca3148340d9a8401db32df9fe26",
       "version_major": 2,
       "version_minor": 0
      },
      "text/plain": [
       "Batches:   0%|          | 0/1 [00:00<?, ?it/s]"
      ]
     },
     "metadata": {},
     "output_type": "display_data"
    },
    {
     "data": {
      "application/vnd.jupyter.widget-view+json": {
       "model_id": "70939d67b9224591a2b43e02fcc11fcc",
       "version_major": 2,
       "version_minor": 0
      },
      "text/plain": [
       "Batches:   0%|          | 0/1 [00:00<?, ?it/s]"
      ]
     },
     "metadata": {},
     "output_type": "display_data"
    },
    {
     "data": {
      "application/vnd.jupyter.widget-view+json": {
       "model_id": "e21d182b19494f25a1b96d7edfb1e2cf",
       "version_major": 2,
       "version_minor": 0
      },
      "text/plain": [
       "Batches:   0%|          | 0/1 [00:00<?, ?it/s]"
      ]
     },
     "metadata": {},
     "output_type": "display_data"
    },
    {
     "data": {
      "application/vnd.jupyter.widget-view+json": {
       "model_id": "c340fa24b8f74781a718ffbc2c6b7e4e",
       "version_major": 2,
       "version_minor": 0
      },
      "text/plain": [
       "Batches:   0%|          | 0/1 [00:00<?, ?it/s]"
      ]
     },
     "metadata": {},
     "output_type": "display_data"
    },
    {
     "data": {
      "application/vnd.jupyter.widget-view+json": {
       "model_id": "5857db8a6383408cbbb9d0a682c86c62",
       "version_major": 2,
       "version_minor": 0
      },
      "text/plain": [
       "Batches:   0%|          | 0/1 [00:00<?, ?it/s]"
      ]
     },
     "metadata": {},
     "output_type": "display_data"
    },
    {
     "data": {
      "application/vnd.jupyter.widget-view+json": {
       "model_id": "6e9edbd99a3f412292ecee8650a4b00c",
       "version_major": 2,
       "version_minor": 0
      },
      "text/plain": [
       "Batches:   0%|          | 0/1 [00:00<?, ?it/s]"
      ]
     },
     "metadata": {},
     "output_type": "display_data"
    },
    {
     "data": {
      "application/vnd.jupyter.widget-view+json": {
       "model_id": "e6a401ccee674e479c54597cbc64ac66",
       "version_major": 2,
       "version_minor": 0
      },
      "text/plain": [
       "Batches:   0%|          | 0/1 [00:00<?, ?it/s]"
      ]
     },
     "metadata": {},
     "output_type": "display_data"
    },
    {
     "data": {
      "application/vnd.jupyter.widget-view+json": {
       "model_id": "a81de2dbb74d4f429cc39589f5c49a1b",
       "version_major": 2,
       "version_minor": 0
      },
      "text/plain": [
       "Batches:   0%|          | 0/1 [00:00<?, ?it/s]"
      ]
     },
     "metadata": {},
     "output_type": "display_data"
    },
    {
     "data": {
      "application/vnd.jupyter.widget-view+json": {
       "model_id": "fb331259b12a449697012d7e384ccb83",
       "version_major": 2,
       "version_minor": 0
      },
      "text/plain": [
       "Batches:   0%|          | 0/1 [00:00<?, ?it/s]"
      ]
     },
     "metadata": {},
     "output_type": "display_data"
    },
    {
     "data": {
      "application/vnd.jupyter.widget-view+json": {
       "model_id": "26778aae2acc4ddcacc4e48469c09080",
       "version_major": 2,
       "version_minor": 0
      },
      "text/plain": [
       "Batches:   0%|          | 0/1 [00:00<?, ?it/s]"
      ]
     },
     "metadata": {},
     "output_type": "display_data"
    },
    {
     "data": {
      "application/vnd.jupyter.widget-view+json": {
       "model_id": "5df053726ea84307a618b0512f97bc9e",
       "version_major": 2,
       "version_minor": 0
      },
      "text/plain": [
       "Batches:   0%|          | 0/1 [00:00<?, ?it/s]"
      ]
     },
     "metadata": {},
     "output_type": "display_data"
    },
    {
     "data": {
      "application/vnd.jupyter.widget-view+json": {
       "model_id": "7730924c906742e7890ec6d49fd7a14d",
       "version_major": 2,
       "version_minor": 0
      },
      "text/plain": [
       "Batches:   0%|          | 0/1 [00:00<?, ?it/s]"
      ]
     },
     "metadata": {},
     "output_type": "display_data"
    },
    {
     "data": {
      "application/vnd.jupyter.widget-view+json": {
       "model_id": "1fbea0d024874b9e9c72f9fa045ac547",
       "version_major": 2,
       "version_minor": 0
      },
      "text/plain": [
       "Batches:   0%|          | 0/1 [00:00<?, ?it/s]"
      ]
     },
     "metadata": {},
     "output_type": "display_data"
    },
    {
     "data": {
      "application/vnd.jupyter.widget-view+json": {
       "model_id": "6b5af33cf72642d38f685d5c0e06d7be",
       "version_major": 2,
       "version_minor": 0
      },
      "text/plain": [
       "Batches:   0%|          | 0/1 [00:00<?, ?it/s]"
      ]
     },
     "metadata": {},
     "output_type": "display_data"
    },
    {
     "data": {
      "application/vnd.jupyter.widget-view+json": {
       "model_id": "657afdc4f4b049b9bb785bcdd2e2ba02",
       "version_major": 2,
       "version_minor": 0
      },
      "text/plain": [
       "Batches:   0%|          | 0/1 [00:00<?, ?it/s]"
      ]
     },
     "metadata": {},
     "output_type": "display_data"
    },
    {
     "data": {
      "application/vnd.jupyter.widget-view+json": {
       "model_id": "d2266751a0ed48b1bd66569b9f6be09f",
       "version_major": 2,
       "version_minor": 0
      },
      "text/plain": [
       "Batches:   0%|          | 0/1 [00:00<?, ?it/s]"
      ]
     },
     "metadata": {},
     "output_type": "display_data"
    },
    {
     "data": {
      "application/vnd.jupyter.widget-view+json": {
       "model_id": "daf0242e24854c6088ec04a6b8ea2f8e",
       "version_major": 2,
       "version_minor": 0
      },
      "text/plain": [
       "Batches:   0%|          | 0/1 [00:00<?, ?it/s]"
      ]
     },
     "metadata": {},
     "output_type": "display_data"
    },
    {
     "data": {
      "application/vnd.jupyter.widget-view+json": {
       "model_id": "e984182f1f5e4fab84373c490763363e",
       "version_major": 2,
       "version_minor": 0
      },
      "text/plain": [
       "Batches:   0%|          | 0/1 [00:00<?, ?it/s]"
      ]
     },
     "metadata": {},
     "output_type": "display_data"
    },
    {
     "data": {
      "application/vnd.jupyter.widget-view+json": {
       "model_id": "ac35544d8fe54eab87d4bb5b578dd6ff",
       "version_major": 2,
       "version_minor": 0
      },
      "text/plain": [
       "Batches:   0%|          | 0/1 [00:00<?, ?it/s]"
      ]
     },
     "metadata": {},
     "output_type": "display_data"
    },
    {
     "data": {
      "application/vnd.jupyter.widget-view+json": {
       "model_id": "ba5c5d8ba6b64126a1fa485308e2890e",
       "version_major": 2,
       "version_minor": 0
      },
      "text/plain": [
       "Batches:   0%|          | 0/1 [00:00<?, ?it/s]"
      ]
     },
     "metadata": {},
     "output_type": "display_data"
    },
    {
     "data": {
      "application/vnd.jupyter.widget-view+json": {
       "model_id": "c578a44830cc4b6d8f3ca0ddc2417db1",
       "version_major": 2,
       "version_minor": 0
      },
      "text/plain": [
       "Batches:   0%|          | 0/1 [00:00<?, ?it/s]"
      ]
     },
     "metadata": {},
     "output_type": "display_data"
    },
    {
     "data": {
      "application/vnd.jupyter.widget-view+json": {
       "model_id": "77b38aef6e534624bc852a0c0b27f8ca",
       "version_major": 2,
       "version_minor": 0
      },
      "text/plain": [
       "Batches:   0%|          | 0/1 [00:00<?, ?it/s]"
      ]
     },
     "metadata": {},
     "output_type": "display_data"
    },
    {
     "data": {
      "application/vnd.jupyter.widget-view+json": {
       "model_id": "8c45b2dbb7e946bebfcf862afed5fc9e",
       "version_major": 2,
       "version_minor": 0
      },
      "text/plain": [
       "Batches:   0%|          | 0/1 [00:00<?, ?it/s]"
      ]
     },
     "metadata": {},
     "output_type": "display_data"
    },
    {
     "data": {
      "application/vnd.jupyter.widget-view+json": {
       "model_id": "716dca487b134bb482404577ab8aa304",
       "version_major": 2,
       "version_minor": 0
      },
      "text/plain": [
       "Batches:   0%|          | 0/1 [00:00<?, ?it/s]"
      ]
     },
     "metadata": {},
     "output_type": "display_data"
    },
    {
     "data": {
      "application/vnd.jupyter.widget-view+json": {
       "model_id": "18d4755145884b2693758adf36b9ecaf",
       "version_major": 2,
       "version_minor": 0
      },
      "text/plain": [
       "Batches:   0%|          | 0/1 [00:00<?, ?it/s]"
      ]
     },
     "metadata": {},
     "output_type": "display_data"
    },
    {
     "data": {
      "application/vnd.jupyter.widget-view+json": {
       "model_id": "c5b36d98745a4c25953f67cf0bd5f3f7",
       "version_major": 2,
       "version_minor": 0
      },
      "text/plain": [
       "Batches:   0%|          | 0/1 [00:00<?, ?it/s]"
      ]
     },
     "metadata": {},
     "output_type": "display_data"
    },
    {
     "data": {
      "application/vnd.jupyter.widget-view+json": {
       "model_id": "7cc387c69e3d418c863535714367bd80",
       "version_major": 2,
       "version_minor": 0
      },
      "text/plain": [
       "Batches:   0%|          | 0/1 [00:00<?, ?it/s]"
      ]
     },
     "metadata": {},
     "output_type": "display_data"
    },
    {
     "data": {
      "application/vnd.jupyter.widget-view+json": {
       "model_id": "f6b9db779959417e9b2ed7144e5db218",
       "version_major": 2,
       "version_minor": 0
      },
      "text/plain": [
       "Batches:   0%|          | 0/1 [00:00<?, ?it/s]"
      ]
     },
     "metadata": {},
     "output_type": "display_data"
    },
    {
     "data": {
      "application/vnd.jupyter.widget-view+json": {
       "model_id": "f0939765c8cf42248ca6d8d21a3db8c2",
       "version_major": 2,
       "version_minor": 0
      },
      "text/plain": [
       "Batches:   0%|          | 0/1 [00:00<?, ?it/s]"
      ]
     },
     "metadata": {},
     "output_type": "display_data"
    },
    {
     "data": {
      "application/vnd.jupyter.widget-view+json": {
       "model_id": "27e9e9998b7f4e39a7539f427f8ea690",
       "version_major": 2,
       "version_minor": 0
      },
      "text/plain": [
       "Batches:   0%|          | 0/1 [00:00<?, ?it/s]"
      ]
     },
     "metadata": {},
     "output_type": "display_data"
    },
    {
     "data": {
      "application/vnd.jupyter.widget-view+json": {
       "model_id": "fede039418c84393bc186f37c0ea8a04",
       "version_major": 2,
       "version_minor": 0
      },
      "text/plain": [
       "Batches:   0%|          | 0/1 [00:00<?, ?it/s]"
      ]
     },
     "metadata": {},
     "output_type": "display_data"
    },
    {
     "data": {
      "application/vnd.jupyter.widget-view+json": {
       "model_id": "d7b2a60f6ecf47e1b6b9e06d8cd21739",
       "version_major": 2,
       "version_minor": 0
      },
      "text/plain": [
       "Batches:   0%|          | 0/1 [00:00<?, ?it/s]"
      ]
     },
     "metadata": {},
     "output_type": "display_data"
    },
    {
     "data": {
      "application/vnd.jupyter.widget-view+json": {
       "model_id": "1c571973822f4fde940e302ef19bdc95",
       "version_major": 2,
       "version_minor": 0
      },
      "text/plain": [
       "Batches:   0%|          | 0/1 [00:00<?, ?it/s]"
      ]
     },
     "metadata": {},
     "output_type": "display_data"
    },
    {
     "data": {
      "application/vnd.jupyter.widget-view+json": {
       "model_id": "b0b21c23e46f4f0783584a779c7a77d5",
       "version_major": 2,
       "version_minor": 0
      },
      "text/plain": [
       "Batches:   0%|          | 0/1 [00:00<?, ?it/s]"
      ]
     },
     "metadata": {},
     "output_type": "display_data"
    },
    {
     "data": {
      "application/vnd.jupyter.widget-view+json": {
       "model_id": "e33aaf6fe54542ea9613e54a115fa97a",
       "version_major": 2,
       "version_minor": 0
      },
      "text/plain": [
       "Batches:   0%|          | 0/1 [00:00<?, ?it/s]"
      ]
     },
     "metadata": {},
     "output_type": "display_data"
    },
    {
     "data": {
      "application/vnd.jupyter.widget-view+json": {
       "model_id": "41f9df4c6300494a84591a69676e68fe",
       "version_major": 2,
       "version_minor": 0
      },
      "text/plain": [
       "Batches:   0%|          | 0/1 [00:00<?, ?it/s]"
      ]
     },
     "metadata": {},
     "output_type": "display_data"
    },
    {
     "data": {
      "application/vnd.jupyter.widget-view+json": {
       "model_id": "e39c7eddba5f43a1b4cb3b73232b7d97",
       "version_major": 2,
       "version_minor": 0
      },
      "text/plain": [
       "Batches:   0%|          | 0/1 [00:00<?, ?it/s]"
      ]
     },
     "metadata": {},
     "output_type": "display_data"
    },
    {
     "data": {
      "application/vnd.jupyter.widget-view+json": {
       "model_id": "0212eb71cf774f63a8e37fb9889cbff8",
       "version_major": 2,
       "version_minor": 0
      },
      "text/plain": [
       "Batches:   0%|          | 0/1 [00:00<?, ?it/s]"
      ]
     },
     "metadata": {},
     "output_type": "display_data"
    },
    {
     "data": {
      "application/vnd.jupyter.widget-view+json": {
       "model_id": "4897b06f54f942bdb783055595a38d3b",
       "version_major": 2,
       "version_minor": 0
      },
      "text/plain": [
       "Batches:   0%|          | 0/1 [00:00<?, ?it/s]"
      ]
     },
     "metadata": {},
     "output_type": "display_data"
    },
    {
     "data": {
      "application/vnd.jupyter.widget-view+json": {
       "model_id": "c858acca1a51466ab0ce3e254bdafb6d",
       "version_major": 2,
       "version_minor": 0
      },
      "text/plain": [
       "Batches:   0%|          | 0/1 [00:00<?, ?it/s]"
      ]
     },
     "metadata": {},
     "output_type": "display_data"
    },
    {
     "data": {
      "application/vnd.jupyter.widget-view+json": {
       "model_id": "9531f71a19264643ae46c532577bbfb8",
       "version_major": 2,
       "version_minor": 0
      },
      "text/plain": [
       "Batches:   0%|          | 0/1 [00:00<?, ?it/s]"
      ]
     },
     "metadata": {},
     "output_type": "display_data"
    },
    {
     "data": {
      "application/vnd.jupyter.widget-view+json": {
       "model_id": "3bc8471c032642bc90f8fe40aeae95cf",
       "version_major": 2,
       "version_minor": 0
      },
      "text/plain": [
       "Batches:   0%|          | 0/1 [00:00<?, ?it/s]"
      ]
     },
     "metadata": {},
     "output_type": "display_data"
    },
    {
     "data": {
      "application/vnd.jupyter.widget-view+json": {
       "model_id": "cd56b0f88c3f4b7fbffc91aa42af4c10",
       "version_major": 2,
       "version_minor": 0
      },
      "text/plain": [
       "Batches:   0%|          | 0/1 [00:00<?, ?it/s]"
      ]
     },
     "metadata": {},
     "output_type": "display_data"
    },
    {
     "data": {
      "application/vnd.jupyter.widget-view+json": {
       "model_id": "47dc5b3a02be46a38407fe57fa530be9",
       "version_major": 2,
       "version_minor": 0
      },
      "text/plain": [
       "Batches:   0%|          | 0/1 [00:00<?, ?it/s]"
      ]
     },
     "metadata": {},
     "output_type": "display_data"
    },
    {
     "data": {
      "application/vnd.jupyter.widget-view+json": {
       "model_id": "d60d3a1e1ad14fa7811bc8068d04f89d",
       "version_major": 2,
       "version_minor": 0
      },
      "text/plain": [
       "Batches:   0%|          | 0/1 [00:00<?, ?it/s]"
      ]
     },
     "metadata": {},
     "output_type": "display_data"
    },
    {
     "data": {
      "application/vnd.jupyter.widget-view+json": {
       "model_id": "6f7fbf2c9c784859944968ea0487521b",
       "version_major": 2,
       "version_minor": 0
      },
      "text/plain": [
       "Batches:   0%|          | 0/1 [00:00<?, ?it/s]"
      ]
     },
     "metadata": {},
     "output_type": "display_data"
    },
    {
     "data": {
      "application/vnd.jupyter.widget-view+json": {
       "model_id": "5d75ef8534084262acd1d2443075bc7f",
       "version_major": 2,
       "version_minor": 0
      },
      "text/plain": [
       "Batches:   0%|          | 0/1 [00:00<?, ?it/s]"
      ]
     },
     "metadata": {},
     "output_type": "display_data"
    },
    {
     "data": {
      "application/vnd.jupyter.widget-view+json": {
       "model_id": "b956410d4b4e4721b7fac3062a8c1c86",
       "version_major": 2,
       "version_minor": 0
      },
      "text/plain": [
       "Batches:   0%|          | 0/1 [00:00<?, ?it/s]"
      ]
     },
     "metadata": {},
     "output_type": "display_data"
    },
    {
     "data": {
      "application/vnd.jupyter.widget-view+json": {
       "model_id": "845562c3acd6438c929a3136a3d0f5d0",
       "version_major": 2,
       "version_minor": 0
      },
      "text/plain": [
       "Batches:   0%|          | 0/1 [00:00<?, ?it/s]"
      ]
     },
     "metadata": {},
     "output_type": "display_data"
    },
    {
     "data": {
      "application/vnd.jupyter.widget-view+json": {
       "model_id": "1747501d53dc461cb7ac809177846533",
       "version_major": 2,
       "version_minor": 0
      },
      "text/plain": [
       "Batches:   0%|          | 0/1 [00:00<?, ?it/s]"
      ]
     },
     "metadata": {},
     "output_type": "display_data"
    },
    {
     "data": {
      "application/vnd.jupyter.widget-view+json": {
       "model_id": "659cfb3e50024e8cbabe9e246913a5bc",
       "version_major": 2,
       "version_minor": 0
      },
      "text/plain": [
       "Batches:   0%|          | 0/1 [00:00<?, ?it/s]"
      ]
     },
     "metadata": {},
     "output_type": "display_data"
    },
    {
     "data": {
      "application/vnd.jupyter.widget-view+json": {
       "model_id": "258ec4377305496da57ed80d5fd10b07",
       "version_major": 2,
       "version_minor": 0
      },
      "text/plain": [
       "Batches:   0%|          | 0/1 [00:00<?, ?it/s]"
      ]
     },
     "metadata": {},
     "output_type": "display_data"
    },
    {
     "data": {
      "application/vnd.jupyter.widget-view+json": {
       "model_id": "b10125b9acfd4b1d89acf31f7d630d3b",
       "version_major": 2,
       "version_minor": 0
      },
      "text/plain": [
       "Batches:   0%|          | 0/1 [00:00<?, ?it/s]"
      ]
     },
     "metadata": {},
     "output_type": "display_data"
    },
    {
     "data": {
      "application/vnd.jupyter.widget-view+json": {
       "model_id": "02006425d4204afeaad6a0e92cee6de7",
       "version_major": 2,
       "version_minor": 0
      },
      "text/plain": [
       "Batches:   0%|          | 0/1 [00:00<?, ?it/s]"
      ]
     },
     "metadata": {},
     "output_type": "display_data"
    },
    {
     "data": {
      "application/vnd.jupyter.widget-view+json": {
       "model_id": "2104ca806d594245a5f16071903e6d9e",
       "version_major": 2,
       "version_minor": 0
      },
      "text/plain": [
       "Batches:   0%|          | 0/1 [00:00<?, ?it/s]"
      ]
     },
     "metadata": {},
     "output_type": "display_data"
    },
    {
     "data": {
      "application/vnd.jupyter.widget-view+json": {
       "model_id": "65f06f63f75d46acb76bcbe58ab9a720",
       "version_major": 2,
       "version_minor": 0
      },
      "text/plain": [
       "Batches:   0%|          | 0/1 [00:00<?, ?it/s]"
      ]
     },
     "metadata": {},
     "output_type": "display_data"
    },
    {
     "data": {
      "application/vnd.jupyter.widget-view+json": {
       "model_id": "41c7980d8c0e44b6943b7f8dae801b45",
       "version_major": 2,
       "version_minor": 0
      },
      "text/plain": [
       "Batches:   0%|          | 0/1 [00:00<?, ?it/s]"
      ]
     },
     "metadata": {},
     "output_type": "display_data"
    },
    {
     "data": {
      "application/vnd.jupyter.widget-view+json": {
       "model_id": "4ca1acc217b44c6ba5e5ea51954afc9a",
       "version_major": 2,
       "version_minor": 0
      },
      "text/plain": [
       "Batches:   0%|          | 0/1 [00:00<?, ?it/s]"
      ]
     },
     "metadata": {},
     "output_type": "display_data"
    },
    {
     "data": {
      "application/vnd.jupyter.widget-view+json": {
       "model_id": "9b5f0f538b2548f1970b5a1a749db3ee",
       "version_major": 2,
       "version_minor": 0
      },
      "text/plain": [
       "Batches:   0%|          | 0/1 [00:00<?, ?it/s]"
      ]
     },
     "metadata": {},
     "output_type": "display_data"
    },
    {
     "data": {
      "application/vnd.jupyter.widget-view+json": {
       "model_id": "fc4768fbaedd4e2f8efe698e4ef91978",
       "version_major": 2,
       "version_minor": 0
      },
      "text/plain": [
       "Batches:   0%|          | 0/1 [00:00<?, ?it/s]"
      ]
     },
     "metadata": {},
     "output_type": "display_data"
    },
    {
     "data": {
      "application/vnd.jupyter.widget-view+json": {
       "model_id": "f8158a0c2e7142e18f5c6d3ce72534b4",
       "version_major": 2,
       "version_minor": 0
      },
      "text/plain": [
       "Batches:   0%|          | 0/1 [00:00<?, ?it/s]"
      ]
     },
     "metadata": {},
     "output_type": "display_data"
    },
    {
     "data": {
      "application/vnd.jupyter.widget-view+json": {
       "model_id": "e058f601c43a43f983e8e48dcf83ea35",
       "version_major": 2,
       "version_minor": 0
      },
      "text/plain": [
       "Batches:   0%|          | 0/1 [00:00<?, ?it/s]"
      ]
     },
     "metadata": {},
     "output_type": "display_data"
    },
    {
     "data": {
      "application/vnd.jupyter.widget-view+json": {
       "model_id": "c7b86352743144e1a5c1747332baeeaf",
       "version_major": 2,
       "version_minor": 0
      },
      "text/plain": [
       "Batches:   0%|          | 0/1 [00:00<?, ?it/s]"
      ]
     },
     "metadata": {},
     "output_type": "display_data"
    },
    {
     "data": {
      "application/vnd.jupyter.widget-view+json": {
       "model_id": "df4dfd058b554b578e873964a0a64891",
       "version_major": 2,
       "version_minor": 0
      },
      "text/plain": [
       "Batches:   0%|          | 0/1 [00:00<?, ?it/s]"
      ]
     },
     "metadata": {},
     "output_type": "display_data"
    },
    {
     "data": {
      "application/vnd.jupyter.widget-view+json": {
       "model_id": "89e91730a9de4370afd41262e8ec9d7b",
       "version_major": 2,
       "version_minor": 0
      },
      "text/plain": [
       "Batches:   0%|          | 0/1 [00:00<?, ?it/s]"
      ]
     },
     "metadata": {},
     "output_type": "display_data"
    },
    {
     "data": {
      "application/vnd.jupyter.widget-view+json": {
       "model_id": "618d2fbde81d46faae36d53d79a0738d",
       "version_major": 2,
       "version_minor": 0
      },
      "text/plain": [
       "Batches:   0%|          | 0/1 [00:00<?, ?it/s]"
      ]
     },
     "metadata": {},
     "output_type": "display_data"
    },
    {
     "data": {
      "application/vnd.jupyter.widget-view+json": {
       "model_id": "dadbeab2286b43cd95622d8e61a185f6",
       "version_major": 2,
       "version_minor": 0
      },
      "text/plain": [
       "Batches:   0%|          | 0/1 [00:00<?, ?it/s]"
      ]
     },
     "metadata": {},
     "output_type": "display_data"
    },
    {
     "data": {
      "application/vnd.jupyter.widget-view+json": {
       "model_id": "5554b9c918ff47fcaac766f62effb8cc",
       "version_major": 2,
       "version_minor": 0
      },
      "text/plain": [
       "Batches:   0%|          | 0/1 [00:00<?, ?it/s]"
      ]
     },
     "metadata": {},
     "output_type": "display_data"
    },
    {
     "data": {
      "application/vnd.jupyter.widget-view+json": {
       "model_id": "5bf1e77c87224b0680cb3d1adfea76e5",
       "version_major": 2,
       "version_minor": 0
      },
      "text/plain": [
       "Batches:   0%|          | 0/1 [00:00<?, ?it/s]"
      ]
     },
     "metadata": {},
     "output_type": "display_data"
    },
    {
     "data": {
      "application/vnd.jupyter.widget-view+json": {
       "model_id": "b8744c77ba7e49ddb2c2966eef1a3b1a",
       "version_major": 2,
       "version_minor": 0
      },
      "text/plain": [
       "Batches:   0%|          | 0/1 [00:00<?, ?it/s]"
      ]
     },
     "metadata": {},
     "output_type": "display_data"
    },
    {
     "data": {
      "application/vnd.jupyter.widget-view+json": {
       "model_id": "020ded66cf2a4c1c97058980ee79e8fc",
       "version_major": 2,
       "version_minor": 0
      },
      "text/plain": [
       "Batches:   0%|          | 0/1 [00:00<?, ?it/s]"
      ]
     },
     "metadata": {},
     "output_type": "display_data"
    },
    {
     "data": {
      "application/vnd.jupyter.widget-view+json": {
       "model_id": "7afc6e3e72854f7081d362a63568d3bc",
       "version_major": 2,
       "version_minor": 0
      },
      "text/plain": [
       "Batches:   0%|          | 0/1 [00:00<?, ?it/s]"
      ]
     },
     "metadata": {},
     "output_type": "display_data"
    },
    {
     "data": {
      "application/vnd.jupyter.widget-view+json": {
       "model_id": "736b8e552c264bb783818c463c554326",
       "version_major": 2,
       "version_minor": 0
      },
      "text/plain": [
       "Batches:   0%|          | 0/1 [00:00<?, ?it/s]"
      ]
     },
     "metadata": {},
     "output_type": "display_data"
    },
    {
     "data": {
      "application/vnd.jupyter.widget-view+json": {
       "model_id": "83ba94d1970342c48a2e8df32d45ff2f",
       "version_major": 2,
       "version_minor": 0
      },
      "text/plain": [
       "Batches:   0%|          | 0/1 [00:00<?, ?it/s]"
      ]
     },
     "metadata": {},
     "output_type": "display_data"
    },
    {
     "data": {
      "application/vnd.jupyter.widget-view+json": {
       "model_id": "eaa1a20233c64f528a98857d69c4fb30",
       "version_major": 2,
       "version_minor": 0
      },
      "text/plain": [
       "Batches:   0%|          | 0/1 [00:00<?, ?it/s]"
      ]
     },
     "metadata": {},
     "output_type": "display_data"
    },
    {
     "data": {
      "application/vnd.jupyter.widget-view+json": {
       "model_id": "18765d3147634769b20fdd074c9094b4",
       "version_major": 2,
       "version_minor": 0
      },
      "text/plain": [
       "Batches:   0%|          | 0/1 [00:00<?, ?it/s]"
      ]
     },
     "metadata": {},
     "output_type": "display_data"
    },
    {
     "data": {
      "application/vnd.jupyter.widget-view+json": {
       "model_id": "b8e29ee851704f889c487bc257c9caf7",
       "version_major": 2,
       "version_minor": 0
      },
      "text/plain": [
       "Batches:   0%|          | 0/1 [00:00<?, ?it/s]"
      ]
     },
     "metadata": {},
     "output_type": "display_data"
    },
    {
     "data": {
      "application/vnd.jupyter.widget-view+json": {
       "model_id": "56723083b9a44b5d98864bc64cb86dcd",
       "version_major": 2,
       "version_minor": 0
      },
      "text/plain": [
       "Batches:   0%|          | 0/1 [00:00<?, ?it/s]"
      ]
     },
     "metadata": {},
     "output_type": "display_data"
    },
    {
     "data": {
      "application/vnd.jupyter.widget-view+json": {
       "model_id": "c1539bc35a2c4e778dbd7b61496fb20f",
       "version_major": 2,
       "version_minor": 0
      },
      "text/plain": [
       "Batches:   0%|          | 0/1 [00:00<?, ?it/s]"
      ]
     },
     "metadata": {},
     "output_type": "display_data"
    },
    {
     "data": {
      "application/vnd.jupyter.widget-view+json": {
       "model_id": "b220158de5f24a58ace300391d5fec51",
       "version_major": 2,
       "version_minor": 0
      },
      "text/plain": [
       "Batches:   0%|          | 0/1 [00:00<?, ?it/s]"
      ]
     },
     "metadata": {},
     "output_type": "display_data"
    },
    {
     "data": {
      "application/vnd.jupyter.widget-view+json": {
       "model_id": "eb0fbd054ca24c74b0dc0d23ce8e8a9c",
       "version_major": 2,
       "version_minor": 0
      },
      "text/plain": [
       "Batches:   0%|          | 0/1 [00:00<?, ?it/s]"
      ]
     },
     "metadata": {},
     "output_type": "display_data"
    },
    {
     "data": {
      "application/vnd.jupyter.widget-view+json": {
       "model_id": "a35a818c929449ba80922083cee4355a",
       "version_major": 2,
       "version_minor": 0
      },
      "text/plain": [
       "Batches:   0%|          | 0/1 [00:00<?, ?it/s]"
      ]
     },
     "metadata": {},
     "output_type": "display_data"
    },
    {
     "data": {
      "application/vnd.jupyter.widget-view+json": {
       "model_id": "f9b7a3af967240388c71fe0493a17f82",
       "version_major": 2,
       "version_minor": 0
      },
      "text/plain": [
       "Batches:   0%|          | 0/1 [00:00<?, ?it/s]"
      ]
     },
     "metadata": {},
     "output_type": "display_data"
    },
    {
     "data": {
      "application/vnd.jupyter.widget-view+json": {
       "model_id": "546299675ab644b782de9370297229d5",
       "version_major": 2,
       "version_minor": 0
      },
      "text/plain": [
       "Batches:   0%|          | 0/1 [00:00<?, ?it/s]"
      ]
     },
     "metadata": {},
     "output_type": "display_data"
    },
    {
     "data": {
      "application/vnd.jupyter.widget-view+json": {
       "model_id": "737bad9cd49840e894bc86083e45e563",
       "version_major": 2,
       "version_minor": 0
      },
      "text/plain": [
       "Batches:   0%|          | 0/1 [00:00<?, ?it/s]"
      ]
     },
     "metadata": {},
     "output_type": "display_data"
    },
    {
     "name": "stdout",
     "output_type": "stream",
     "text": [
      "🔄 Progress: 40% (2/5) - gai-eng_item003\n",
      "📄 Extracting content from: gai-eng_item003\n",
      "  ✅ Extracted: 36 sections, 194 paragraphs\n",
      "  📊 Document type: Policy document\n",
      "  🎯 Special elements: \n"
     ]
    },
    {
     "data": {
      "application/vnd.jupyter.widget-view+json": {
       "model_id": "c7aae59949b74635ba5c24db3c02721a",
       "version_major": 2,
       "version_minor": 0
      },
      "text/plain": [
       "Batches:   0%|          | 0/1 [00:00<?, ?it/s]"
      ]
     },
     "metadata": {},
     "output_type": "display_data"
    },
    {
     "data": {
      "application/vnd.jupyter.widget-view+json": {
       "model_id": "c4060b12007143d9adeafd054389f10e",
       "version_major": 2,
       "version_minor": 0
      },
      "text/plain": [
       "Batches:   0%|          | 0/1 [00:00<?, ?it/s]"
      ]
     },
     "metadata": {},
     "output_type": "display_data"
    },
    {
     "data": {
      "application/vnd.jupyter.widget-view+json": {
       "model_id": "f601a78125a14574888c6f0a8598d67b",
       "version_major": 2,
       "version_minor": 0
      },
      "text/plain": [
       "Batches:   0%|          | 0/1 [00:00<?, ?it/s]"
      ]
     },
     "metadata": {},
     "output_type": "display_data"
    },
    {
     "data": {
      "application/vnd.jupyter.widget-view+json": {
       "model_id": "04db43b62a49498b94c47a4b65283feb",
       "version_major": 2,
       "version_minor": 0
      },
      "text/plain": [
       "Batches:   0%|          | 0/1 [00:00<?, ?it/s]"
      ]
     },
     "metadata": {},
     "output_type": "display_data"
    },
    {
     "data": {
      "application/vnd.jupyter.widget-view+json": {
       "model_id": "f7c3ac1a3a7a4ec8a613c55f1c419648",
       "version_major": 2,
       "version_minor": 0
      },
      "text/plain": [
       "Batches:   0%|          | 0/1 [00:00<?, ?it/s]"
      ]
     },
     "metadata": {},
     "output_type": "display_data"
    },
    {
     "data": {
      "application/vnd.jupyter.widget-view+json": {
       "model_id": "0106585e7c224c5baad5288de641cfe8",
       "version_major": 2,
       "version_minor": 0
      },
      "text/plain": [
       "Batches:   0%|          | 0/1 [00:00<?, ?it/s]"
      ]
     },
     "metadata": {},
     "output_type": "display_data"
    },
    {
     "data": {
      "application/vnd.jupyter.widget-view+json": {
       "model_id": "2c6de4362fbc4d8f8d89ded052c93e03",
       "version_major": 2,
       "version_minor": 0
      },
      "text/plain": [
       "Batches:   0%|          | 0/1 [00:00<?, ?it/s]"
      ]
     },
     "metadata": {},
     "output_type": "display_data"
    },
    {
     "data": {
      "application/vnd.jupyter.widget-view+json": {
       "model_id": "01d5f27324224a55a7592b3d6892b37a",
       "version_major": 2,
       "version_minor": 0
      },
      "text/plain": [
       "Batches:   0%|          | 0/1 [00:00<?, ?it/s]"
      ]
     },
     "metadata": {},
     "output_type": "display_data"
    },
    {
     "data": {
      "application/vnd.jupyter.widget-view+json": {
       "model_id": "7cee08ff10d349909baa13a9215573a6",
       "version_major": 2,
       "version_minor": 0
      },
      "text/plain": [
       "Batches:   0%|          | 0/1 [00:00<?, ?it/s]"
      ]
     },
     "metadata": {},
     "output_type": "display_data"
    },
    {
     "data": {
      "application/vnd.jupyter.widget-view+json": {
       "model_id": "e135d5c2ad7244c6b72e09e935df84fd",
       "version_major": 2,
       "version_minor": 0
      },
      "text/plain": [
       "Batches:   0%|          | 0/1 [00:00<?, ?it/s]"
      ]
     },
     "metadata": {},
     "output_type": "display_data"
    },
    {
     "data": {
      "application/vnd.jupyter.widget-view+json": {
       "model_id": "34f4ee95cfcd4f87a1a8dc871dc733c0",
       "version_major": 2,
       "version_minor": 0
      },
      "text/plain": [
       "Batches:   0%|          | 0/1 [00:00<?, ?it/s]"
      ]
     },
     "metadata": {},
     "output_type": "display_data"
    },
    {
     "data": {
      "application/vnd.jupyter.widget-view+json": {
       "model_id": "d9f8d92350554b4b900a60ca9e4d8e92",
       "version_major": 2,
       "version_minor": 0
      },
      "text/plain": [
       "Batches:   0%|          | 0/1 [00:00<?, ?it/s]"
      ]
     },
     "metadata": {},
     "output_type": "display_data"
    },
    {
     "data": {
      "application/vnd.jupyter.widget-view+json": {
       "model_id": "85b6516feb9547e38a2895fb1fe73469",
       "version_major": 2,
       "version_minor": 0
      },
      "text/plain": [
       "Batches:   0%|          | 0/1 [00:00<?, ?it/s]"
      ]
     },
     "metadata": {},
     "output_type": "display_data"
    },
    {
     "data": {
      "application/vnd.jupyter.widget-view+json": {
       "model_id": "5bcab9f407254452b4fe58018b265373",
       "version_major": 2,
       "version_minor": 0
      },
      "text/plain": [
       "Batches:   0%|          | 0/1 [00:00<?, ?it/s]"
      ]
     },
     "metadata": {},
     "output_type": "display_data"
    },
    {
     "data": {
      "application/vnd.jupyter.widget-view+json": {
       "model_id": "abe2038e17c44d13acccd515b3bf7e52",
       "version_major": 2,
       "version_minor": 0
      },
      "text/plain": [
       "Batches:   0%|          | 0/1 [00:00<?, ?it/s]"
      ]
     },
     "metadata": {},
     "output_type": "display_data"
    },
    {
     "data": {
      "application/vnd.jupyter.widget-view+json": {
       "model_id": "0272f19a5c1c4acb8692e5d21e23c953",
       "version_major": 2,
       "version_minor": 0
      },
      "text/plain": [
       "Batches:   0%|          | 0/1 [00:00<?, ?it/s]"
      ]
     },
     "metadata": {},
     "output_type": "display_data"
    },
    {
     "data": {
      "application/vnd.jupyter.widget-view+json": {
       "model_id": "069510f995f947ceb06eefe5231bb553",
       "version_major": 2,
       "version_minor": 0
      },
      "text/plain": [
       "Batches:   0%|          | 0/1 [00:00<?, ?it/s]"
      ]
     },
     "metadata": {},
     "output_type": "display_data"
    },
    {
     "data": {
      "application/vnd.jupyter.widget-view+json": {
       "model_id": "99954c4c64014f8a9616aee6317527ee",
       "version_major": 2,
       "version_minor": 0
      },
      "text/plain": [
       "Batches:   0%|          | 0/1 [00:00<?, ?it/s]"
      ]
     },
     "metadata": {},
     "output_type": "display_data"
    },
    {
     "data": {
      "application/vnd.jupyter.widget-view+json": {
       "model_id": "7673098bba1d4b83ae67b799057e15fa",
       "version_major": 2,
       "version_minor": 0
      },
      "text/plain": [
       "Batches:   0%|          | 0/1 [00:00<?, ?it/s]"
      ]
     },
     "metadata": {},
     "output_type": "display_data"
    },
    {
     "data": {
      "application/vnd.jupyter.widget-view+json": {
       "model_id": "ccbd85dc981048529923c901ead0b81d",
       "version_major": 2,
       "version_minor": 0
      },
      "text/plain": [
       "Batches:   0%|          | 0/1 [00:00<?, ?it/s]"
      ]
     },
     "metadata": {},
     "output_type": "display_data"
    },
    {
     "data": {
      "application/vnd.jupyter.widget-view+json": {
       "model_id": "07bf17ab1aa9419fa7744e49266222d7",
       "version_major": 2,
       "version_minor": 0
      },
      "text/plain": [
       "Batches:   0%|          | 0/1 [00:00<?, ?it/s]"
      ]
     },
     "metadata": {},
     "output_type": "display_data"
    },
    {
     "data": {
      "application/vnd.jupyter.widget-view+json": {
       "model_id": "e378310ac4b14f56a2e538baa0d8fde4",
       "version_major": 2,
       "version_minor": 0
      },
      "text/plain": [
       "Batches:   0%|          | 0/1 [00:00<?, ?it/s]"
      ]
     },
     "metadata": {},
     "output_type": "display_data"
    },
    {
     "data": {
      "application/vnd.jupyter.widget-view+json": {
       "model_id": "901644040da64333a5200913fcf8b2d7",
       "version_major": 2,
       "version_minor": 0
      },
      "text/plain": [
       "Batches:   0%|          | 0/1 [00:00<?, ?it/s]"
      ]
     },
     "metadata": {},
     "output_type": "display_data"
    },
    {
     "data": {
      "application/vnd.jupyter.widget-view+json": {
       "model_id": "68c2a51c7ca1429084a3bcc6dc200e2f",
       "version_major": 2,
       "version_minor": 0
      },
      "text/plain": [
       "Batches:   0%|          | 0/1 [00:00<?, ?it/s]"
      ]
     },
     "metadata": {},
     "output_type": "display_data"
    },
    {
     "data": {
      "application/vnd.jupyter.widget-view+json": {
       "model_id": "d3d148be9aa242bbb18671d5acd86424",
       "version_major": 2,
       "version_minor": 0
      },
      "text/plain": [
       "Batches:   0%|          | 0/1 [00:00<?, ?it/s]"
      ]
     },
     "metadata": {},
     "output_type": "display_data"
    },
    {
     "data": {
      "application/vnd.jupyter.widget-view+json": {
       "model_id": "9c42567384c44f94b5c9dbadcd53c323",
       "version_major": 2,
       "version_minor": 0
      },
      "text/plain": [
       "Batches:   0%|          | 0/1 [00:00<?, ?it/s]"
      ]
     },
     "metadata": {},
     "output_type": "display_data"
    },
    {
     "data": {
      "application/vnd.jupyter.widget-view+json": {
       "model_id": "9c9fd6c96d2e4167b98eb41a07746afb",
       "version_major": 2,
       "version_minor": 0
      },
      "text/plain": [
       "Batches:   0%|          | 0/1 [00:00<?, ?it/s]"
      ]
     },
     "metadata": {},
     "output_type": "display_data"
    },
    {
     "data": {
      "application/vnd.jupyter.widget-view+json": {
       "model_id": "ac91581ba86c47caa359e54e0758f7c4",
       "version_major": 2,
       "version_minor": 0
      },
      "text/plain": [
       "Batches:   0%|          | 0/1 [00:00<?, ?it/s]"
      ]
     },
     "metadata": {},
     "output_type": "display_data"
    },
    {
     "data": {
      "application/vnd.jupyter.widget-view+json": {
       "model_id": "0d31a3abc83e468c95334cfb7dafc639",
       "version_major": 2,
       "version_minor": 0
      },
      "text/plain": [
       "Batches:   0%|          | 0/1 [00:00<?, ?it/s]"
      ]
     },
     "metadata": {},
     "output_type": "display_data"
    },
    {
     "data": {
      "application/vnd.jupyter.widget-view+json": {
       "model_id": "e7bbd3f0f0394141909f2c0699b293aa",
       "version_major": 2,
       "version_minor": 0
      },
      "text/plain": [
       "Batches:   0%|          | 0/1 [00:00<?, ?it/s]"
      ]
     },
     "metadata": {},
     "output_type": "display_data"
    },
    {
     "data": {
      "application/vnd.jupyter.widget-view+json": {
       "model_id": "584fb10e0288424191017cd267fa633a",
       "version_major": 2,
       "version_minor": 0
      },
      "text/plain": [
       "Batches:   0%|          | 0/1 [00:00<?, ?it/s]"
      ]
     },
     "metadata": {},
     "output_type": "display_data"
    },
    {
     "data": {
      "application/vnd.jupyter.widget-view+json": {
       "model_id": "ea482a7b9e424c3393352f929770d67b",
       "version_major": 2,
       "version_minor": 0
      },
      "text/plain": [
       "Batches:   0%|          | 0/1 [00:00<?, ?it/s]"
      ]
     },
     "metadata": {},
     "output_type": "display_data"
    },
    {
     "data": {
      "application/vnd.jupyter.widget-view+json": {
       "model_id": "50199acd1e3d48d4bd6f540ce2bf5684",
       "version_major": 2,
       "version_minor": 0
      },
      "text/plain": [
       "Batches:   0%|          | 0/1 [00:00<?, ?it/s]"
      ]
     },
     "metadata": {},
     "output_type": "display_data"
    },
    {
     "data": {
      "application/vnd.jupyter.widget-view+json": {
       "model_id": "cfa8304ac8774775a3b6707f8eccda23",
       "version_major": 2,
       "version_minor": 0
      },
      "text/plain": [
       "Batches:   0%|          | 0/1 [00:00<?, ?it/s]"
      ]
     },
     "metadata": {},
     "output_type": "display_data"
    },
    {
     "data": {
      "application/vnd.jupyter.widget-view+json": {
       "model_id": "06d5b85abfe046a098f85a2f64c26ec5",
       "version_major": 2,
       "version_minor": 0
      },
      "text/plain": [
       "Batches:   0%|          | 0/1 [00:00<?, ?it/s]"
      ]
     },
     "metadata": {},
     "output_type": "display_data"
    },
    {
     "data": {
      "application/vnd.jupyter.widget-view+json": {
       "model_id": "00d0f6b5d04742dbb8390b66ec50566c",
       "version_major": 2,
       "version_minor": 0
      },
      "text/plain": [
       "Batches:   0%|          | 0/1 [00:00<?, ?it/s]"
      ]
     },
     "metadata": {},
     "output_type": "display_data"
    },
    {
     "data": {
      "application/vnd.jupyter.widget-view+json": {
       "model_id": "5394dad499b44ad9ae3f5654316244a2",
       "version_major": 2,
       "version_minor": 0
      },
      "text/plain": [
       "Batches:   0%|          | 0/1 [00:00<?, ?it/s]"
      ]
     },
     "metadata": {},
     "output_type": "display_data"
    },
    {
     "data": {
      "application/vnd.jupyter.widget-view+json": {
       "model_id": "ffbf67bf532644cf9f548425da3bba55",
       "version_major": 2,
       "version_minor": 0
      },
      "text/plain": [
       "Batches:   0%|          | 0/1 [00:00<?, ?it/s]"
      ]
     },
     "metadata": {},
     "output_type": "display_data"
    },
    {
     "data": {
      "application/vnd.jupyter.widget-view+json": {
       "model_id": "5a9afc42b06649fd82184edd28c01c95",
       "version_major": 2,
       "version_minor": 0
      },
      "text/plain": [
       "Batches:   0%|          | 0/1 [00:00<?, ?it/s]"
      ]
     },
     "metadata": {},
     "output_type": "display_data"
    },
    {
     "data": {
      "application/vnd.jupyter.widget-view+json": {
       "model_id": "214ff19424a047b08040528deb8e13c5",
       "version_major": 2,
       "version_minor": 0
      },
      "text/plain": [
       "Batches:   0%|          | 0/1 [00:00<?, ?it/s]"
      ]
     },
     "metadata": {},
     "output_type": "display_data"
    },
    {
     "data": {
      "application/vnd.jupyter.widget-view+json": {
       "model_id": "69be5f87e5b64aa19edb18f333d5303d",
       "version_major": 2,
       "version_minor": 0
      },
      "text/plain": [
       "Batches:   0%|          | 0/1 [00:00<?, ?it/s]"
      ]
     },
     "metadata": {},
     "output_type": "display_data"
    },
    {
     "data": {
      "application/vnd.jupyter.widget-view+json": {
       "model_id": "a657690ec8c14dc89aa25a9a93f35a83",
       "version_major": 2,
       "version_minor": 0
      },
      "text/plain": [
       "Batches:   0%|          | 0/1 [00:00<?, ?it/s]"
      ]
     },
     "metadata": {},
     "output_type": "display_data"
    },
    {
     "data": {
      "application/vnd.jupyter.widget-view+json": {
       "model_id": "997fa169a4144891b13d0061464ba7a0",
       "version_major": 2,
       "version_minor": 0
      },
      "text/plain": [
       "Batches:   0%|          | 0/1 [00:00<?, ?it/s]"
      ]
     },
     "metadata": {},
     "output_type": "display_data"
    },
    {
     "data": {
      "application/vnd.jupyter.widget-view+json": {
       "model_id": "5fdf0248f7364e77a2b7dfe9843cc395",
       "version_major": 2,
       "version_minor": 0
      },
      "text/plain": [
       "Batches:   0%|          | 0/1 [00:00<?, ?it/s]"
      ]
     },
     "metadata": {},
     "output_type": "display_data"
    },
    {
     "data": {
      "application/vnd.jupyter.widget-view+json": {
       "model_id": "7a7bd0d51ab4475d937513d0e202d37f",
       "version_major": 2,
       "version_minor": 0
      },
      "text/plain": [
       "Batches:   0%|          | 0/1 [00:00<?, ?it/s]"
      ]
     },
     "metadata": {},
     "output_type": "display_data"
    },
    {
     "data": {
      "application/vnd.jupyter.widget-view+json": {
       "model_id": "5907d6abf58c422196d17972a458db16",
       "version_major": 2,
       "version_minor": 0
      },
      "text/plain": [
       "Batches:   0%|          | 0/1 [00:00<?, ?it/s]"
      ]
     },
     "metadata": {},
     "output_type": "display_data"
    },
    {
     "data": {
      "application/vnd.jupyter.widget-view+json": {
       "model_id": "71118547c8ac4923b5fab138dcb58080",
       "version_major": 2,
       "version_minor": 0
      },
      "text/plain": [
       "Batches:   0%|          | 0/1 [00:00<?, ?it/s]"
      ]
     },
     "metadata": {},
     "output_type": "display_data"
    },
    {
     "data": {
      "application/vnd.jupyter.widget-view+json": {
       "model_id": "393862de71b44bb0b84e11eb2d0ead98",
       "version_major": 2,
       "version_minor": 0
      },
      "text/plain": [
       "Batches:   0%|          | 0/1 [00:00<?, ?it/s]"
      ]
     },
     "metadata": {},
     "output_type": "display_data"
    },
    {
     "data": {
      "application/vnd.jupyter.widget-view+json": {
       "model_id": "7e7063e49d7d49d78073df715b95ab7f",
       "version_major": 2,
       "version_minor": 0
      },
      "text/plain": [
       "Batches:   0%|          | 0/1 [00:00<?, ?it/s]"
      ]
     },
     "metadata": {},
     "output_type": "display_data"
    },
    {
     "data": {
      "application/vnd.jupyter.widget-view+json": {
       "model_id": "c71b840d09614f0babf576e7b0929c66",
       "version_major": 2,
       "version_minor": 0
      },
      "text/plain": [
       "Batches:   0%|          | 0/1 [00:00<?, ?it/s]"
      ]
     },
     "metadata": {},
     "output_type": "display_data"
    },
    {
     "data": {
      "application/vnd.jupyter.widget-view+json": {
       "model_id": "bd73988b2da84232b4a04d8e00cda62b",
       "version_major": 2,
       "version_minor": 0
      },
      "text/plain": [
       "Batches:   0%|          | 0/1 [00:00<?, ?it/s]"
      ]
     },
     "metadata": {},
     "output_type": "display_data"
    },
    {
     "data": {
      "application/vnd.jupyter.widget-view+json": {
       "model_id": "881c345284b64d899ac8b13d80d12fdc",
       "version_major": 2,
       "version_minor": 0
      },
      "text/plain": [
       "Batches:   0%|          | 0/1 [00:00<?, ?it/s]"
      ]
     },
     "metadata": {},
     "output_type": "display_data"
    },
    {
     "data": {
      "application/vnd.jupyter.widget-view+json": {
       "model_id": "a6a9feebfb3a451390162ab837fc93f3",
       "version_major": 2,
       "version_minor": 0
      },
      "text/plain": [
       "Batches:   0%|          | 0/1 [00:00<?, ?it/s]"
      ]
     },
     "metadata": {},
     "output_type": "display_data"
    },
    {
     "data": {
      "application/vnd.jupyter.widget-view+json": {
       "model_id": "0309530caf4e4472a22c18983572ab20",
       "version_major": 2,
       "version_minor": 0
      },
      "text/plain": [
       "Batches:   0%|          | 0/1 [00:00<?, ?it/s]"
      ]
     },
     "metadata": {},
     "output_type": "display_data"
    },
    {
     "data": {
      "application/vnd.jupyter.widget-view+json": {
       "model_id": "db25bf8081914dfcbb5ecb941400af24",
       "version_major": 2,
       "version_minor": 0
      },
      "text/plain": [
       "Batches:   0%|          | 0/1 [00:00<?, ?it/s]"
      ]
     },
     "metadata": {},
     "output_type": "display_data"
    },
    {
     "data": {
      "application/vnd.jupyter.widget-view+json": {
       "model_id": "c02e75acf5ab4f599bf8980a5171f6f7",
       "version_major": 2,
       "version_minor": 0
      },
      "text/plain": [
       "Batches:   0%|          | 0/1 [00:00<?, ?it/s]"
      ]
     },
     "metadata": {},
     "output_type": "display_data"
    },
    {
     "data": {
      "application/vnd.jupyter.widget-view+json": {
       "model_id": "9ae649aeb3a24687a1976c1abed39e83",
       "version_major": 2,
       "version_minor": 0
      },
      "text/plain": [
       "Batches:   0%|          | 0/1 [00:00<?, ?it/s]"
      ]
     },
     "metadata": {},
     "output_type": "display_data"
    },
    {
     "data": {
      "application/vnd.jupyter.widget-view+json": {
       "model_id": "f219d2b0b9b34e6293249fcd7b25cbfb",
       "version_major": 2,
       "version_minor": 0
      },
      "text/plain": [
       "Batches:   0%|          | 0/1 [00:00<?, ?it/s]"
      ]
     },
     "metadata": {},
     "output_type": "display_data"
    },
    {
     "data": {
      "application/vnd.jupyter.widget-view+json": {
       "model_id": "1e6582076c7c4b38a2b4f655ea092aa3",
       "version_major": 2,
       "version_minor": 0
      },
      "text/plain": [
       "Batches:   0%|          | 0/1 [00:00<?, ?it/s]"
      ]
     },
     "metadata": {},
     "output_type": "display_data"
    },
    {
     "data": {
      "application/vnd.jupyter.widget-view+json": {
       "model_id": "d53f9505119f4b7eb7407524a3e29c2a",
       "version_major": 2,
       "version_minor": 0
      },
      "text/plain": [
       "Batches:   0%|          | 0/1 [00:00<?, ?it/s]"
      ]
     },
     "metadata": {},
     "output_type": "display_data"
    },
    {
     "data": {
      "application/vnd.jupyter.widget-view+json": {
       "model_id": "e19f7f5d10594ff09f3a207e8f45e853",
       "version_major": 2,
       "version_minor": 0
      },
      "text/plain": [
       "Batches:   0%|          | 0/1 [00:00<?, ?it/s]"
      ]
     },
     "metadata": {},
     "output_type": "display_data"
    },
    {
     "data": {
      "application/vnd.jupyter.widget-view+json": {
       "model_id": "203cc94a6fd64d48968677efe52f7762",
       "version_major": 2,
       "version_minor": 0
      },
      "text/plain": [
       "Batches:   0%|          | 0/1 [00:00<?, ?it/s]"
      ]
     },
     "metadata": {},
     "output_type": "display_data"
    },
    {
     "data": {
      "application/vnd.jupyter.widget-view+json": {
       "model_id": "ca80d1448fa94665ac3eb6b61d988b15",
       "version_major": 2,
       "version_minor": 0
      },
      "text/plain": [
       "Batches:   0%|          | 0/1 [00:00<?, ?it/s]"
      ]
     },
     "metadata": {},
     "output_type": "display_data"
    },
    {
     "data": {
      "application/vnd.jupyter.widget-view+json": {
       "model_id": "da5f0ce1bcb144e4a61245938837d625",
       "version_major": 2,
       "version_minor": 0
      },
      "text/plain": [
       "Batches:   0%|          | 0/1 [00:00<?, ?it/s]"
      ]
     },
     "metadata": {},
     "output_type": "display_data"
    },
    {
     "data": {
      "application/vnd.jupyter.widget-view+json": {
       "model_id": "157ce9dbf16a49daaa7e903d57cb6678",
       "version_major": 2,
       "version_minor": 0
      },
      "text/plain": [
       "Batches:   0%|          | 0/1 [00:00<?, ?it/s]"
      ]
     },
     "metadata": {},
     "output_type": "display_data"
    },
    {
     "data": {
      "application/vnd.jupyter.widget-view+json": {
       "model_id": "fbf38c58865d4934908c46074ac063f8",
       "version_major": 2,
       "version_minor": 0
      },
      "text/plain": [
       "Batches:   0%|          | 0/1 [00:00<?, ?it/s]"
      ]
     },
     "metadata": {},
     "output_type": "display_data"
    },
    {
     "data": {
      "application/vnd.jupyter.widget-view+json": {
       "model_id": "158ad6f049d14523b11279502467e80e",
       "version_major": 2,
       "version_minor": 0
      },
      "text/plain": [
       "Batches:   0%|          | 0/1 [00:00<?, ?it/s]"
      ]
     },
     "metadata": {},
     "output_type": "display_data"
    },
    {
     "data": {
      "application/vnd.jupyter.widget-view+json": {
       "model_id": "c1f0779545ed4e308b06ca2756fa60a4",
       "version_major": 2,
       "version_minor": 0
      },
      "text/plain": [
       "Batches:   0%|          | 0/1 [00:00<?, ?it/s]"
      ]
     },
     "metadata": {},
     "output_type": "display_data"
    },
    {
     "data": {
      "application/vnd.jupyter.widget-view+json": {
       "model_id": "daf872d205b647dd8a46f71023079c8e",
       "version_major": 2,
       "version_minor": 0
      },
      "text/plain": [
       "Batches:   0%|          | 0/1 [00:00<?, ?it/s]"
      ]
     },
     "metadata": {},
     "output_type": "display_data"
    },
    {
     "data": {
      "application/vnd.jupyter.widget-view+json": {
       "model_id": "05d3eeb77a8d4a15b235c148479e051c",
       "version_major": 2,
       "version_minor": 0
      },
      "text/plain": [
       "Batches:   0%|          | 0/1 [00:00<?, ?it/s]"
      ]
     },
     "metadata": {},
     "output_type": "display_data"
    },
    {
     "data": {
      "application/vnd.jupyter.widget-view+json": {
       "model_id": "77f4ed02e26e4640b5cb36d82676dfce",
       "version_major": 2,
       "version_minor": 0
      },
      "text/plain": [
       "Batches:   0%|          | 0/1 [00:00<?, ?it/s]"
      ]
     },
     "metadata": {},
     "output_type": "display_data"
    },
    {
     "data": {
      "application/vnd.jupyter.widget-view+json": {
       "model_id": "4b3f198af2d24cab8a647b4b73e8d9f2",
       "version_major": 2,
       "version_minor": 0
      },
      "text/plain": [
       "Batches:   0%|          | 0/1 [00:00<?, ?it/s]"
      ]
     },
     "metadata": {},
     "output_type": "display_data"
    },
    {
     "data": {
      "application/vnd.jupyter.widget-view+json": {
       "model_id": "bb8cfed081f6482588eed03628daddb4",
       "version_major": 2,
       "version_minor": 0
      },
      "text/plain": [
       "Batches:   0%|          | 0/1 [00:00<?, ?it/s]"
      ]
     },
     "metadata": {},
     "output_type": "display_data"
    },
    {
     "data": {
      "application/vnd.jupyter.widget-view+json": {
       "model_id": "8114eb698b024e8a84ee8f51ae0ceb93",
       "version_major": 2,
       "version_minor": 0
      },
      "text/plain": [
       "Batches:   0%|          | 0/1 [00:00<?, ?it/s]"
      ]
     },
     "metadata": {},
     "output_type": "display_data"
    },
    {
     "data": {
      "application/vnd.jupyter.widget-view+json": {
       "model_id": "e4fd01275d3b4419a5b00e10dbdb8b2f",
       "version_major": 2,
       "version_minor": 0
      },
      "text/plain": [
       "Batches:   0%|          | 0/1 [00:00<?, ?it/s]"
      ]
     },
     "metadata": {},
     "output_type": "display_data"
    },
    {
     "data": {
      "application/vnd.jupyter.widget-view+json": {
       "model_id": "789a85041b8c4a38a98f5d0f7193418c",
       "version_major": 2,
       "version_minor": 0
      },
      "text/plain": [
       "Batches:   0%|          | 0/1 [00:00<?, ?it/s]"
      ]
     },
     "metadata": {},
     "output_type": "display_data"
    },
    {
     "data": {
      "application/vnd.jupyter.widget-view+json": {
       "model_id": "fb93d4b74e5747c494214241ef2da532",
       "version_major": 2,
       "version_minor": 0
      },
      "text/plain": [
       "Batches:   0%|          | 0/1 [00:00<?, ?it/s]"
      ]
     },
     "metadata": {},
     "output_type": "display_data"
    },
    {
     "data": {
      "application/vnd.jupyter.widget-view+json": {
       "model_id": "b8397d2585db4c62b6174989da63ae82",
       "version_major": 2,
       "version_minor": 0
      },
      "text/plain": [
       "Batches:   0%|          | 0/1 [00:00<?, ?it/s]"
      ]
     },
     "metadata": {},
     "output_type": "display_data"
    },
    {
     "data": {
      "application/vnd.jupyter.widget-view+json": {
       "model_id": "abd4ee13887b4d018a459f2a4edc28aa",
       "version_major": 2,
       "version_minor": 0
      },
      "text/plain": [
       "Batches:   0%|          | 0/1 [00:00<?, ?it/s]"
      ]
     },
     "metadata": {},
     "output_type": "display_data"
    },
    {
     "data": {
      "application/vnd.jupyter.widget-view+json": {
       "model_id": "a9b73e13335e412fa0a1f0701fac9e63",
       "version_major": 2,
       "version_minor": 0
      },
      "text/plain": [
       "Batches:   0%|          | 0/1 [00:00<?, ?it/s]"
      ]
     },
     "metadata": {},
     "output_type": "display_data"
    },
    {
     "data": {
      "application/vnd.jupyter.widget-view+json": {
       "model_id": "856454617a1c4eab915c6baec84aa041",
       "version_major": 2,
       "version_minor": 0
      },
      "text/plain": [
       "Batches:   0%|          | 0/1 [00:00<?, ?it/s]"
      ]
     },
     "metadata": {},
     "output_type": "display_data"
    },
    {
     "data": {
      "application/vnd.jupyter.widget-view+json": {
       "model_id": "ed0ee85e1abc437e99d7ac0c22ec9f86",
       "version_major": 2,
       "version_minor": 0
      },
      "text/plain": [
       "Batches:   0%|          | 0/1 [00:00<?, ?it/s]"
      ]
     },
     "metadata": {},
     "output_type": "display_data"
    },
    {
     "data": {
      "application/vnd.jupyter.widget-view+json": {
       "model_id": "b8aef0ac8c15485ab72f3171450b9ba1",
       "version_major": 2,
       "version_minor": 0
      },
      "text/plain": [
       "Batches:   0%|          | 0/1 [00:00<?, ?it/s]"
      ]
     },
     "metadata": {},
     "output_type": "display_data"
    },
    {
     "data": {
      "application/vnd.jupyter.widget-view+json": {
       "model_id": "c61502617a22453fbc357069fb125131",
       "version_major": 2,
       "version_minor": 0
      },
      "text/plain": [
       "Batches:   0%|          | 0/1 [00:00<?, ?it/s]"
      ]
     },
     "metadata": {},
     "output_type": "display_data"
    },
    {
     "data": {
      "application/vnd.jupyter.widget-view+json": {
       "model_id": "c8e28fc30600497eb1c9e71ad3a369d9",
       "version_major": 2,
       "version_minor": 0
      },
      "text/plain": [
       "Batches:   0%|          | 0/1 [00:00<?, ?it/s]"
      ]
     },
     "metadata": {},
     "output_type": "display_data"
    },
    {
     "data": {
      "application/vnd.jupyter.widget-view+json": {
       "model_id": "f6777090f2784020b020668b2b8feb25",
       "version_major": 2,
       "version_minor": 0
      },
      "text/plain": [
       "Batches:   0%|          | 0/1 [00:00<?, ?it/s]"
      ]
     },
     "metadata": {},
     "output_type": "display_data"
    },
    {
     "data": {
      "application/vnd.jupyter.widget-view+json": {
       "model_id": "a50561d53bfc4515894c3a7e6c0c969d",
       "version_major": 2,
       "version_minor": 0
      },
      "text/plain": [
       "Batches:   0%|          | 0/1 [00:00<?, ?it/s]"
      ]
     },
     "metadata": {},
     "output_type": "display_data"
    },
    {
     "data": {
      "application/vnd.jupyter.widget-view+json": {
       "model_id": "f6bba270b7f8468683d6206270d88bff",
       "version_major": 2,
       "version_minor": 0
      },
      "text/plain": [
       "Batches:   0%|          | 0/1 [00:00<?, ?it/s]"
      ]
     },
     "metadata": {},
     "output_type": "display_data"
    },
    {
     "data": {
      "application/vnd.jupyter.widget-view+json": {
       "model_id": "bb3f1d87204e42d3b0e36b740b34595e",
       "version_major": 2,
       "version_minor": 0
      },
      "text/plain": [
       "Batches:   0%|          | 0/1 [00:00<?, ?it/s]"
      ]
     },
     "metadata": {},
     "output_type": "display_data"
    },
    {
     "data": {
      "application/vnd.jupyter.widget-view+json": {
       "model_id": "cf6c001e2604414aae1c406e83a115be",
       "version_major": 2,
       "version_minor": 0
      },
      "text/plain": [
       "Batches:   0%|          | 0/1 [00:00<?, ?it/s]"
      ]
     },
     "metadata": {},
     "output_type": "display_data"
    },
    {
     "data": {
      "application/vnd.jupyter.widget-view+json": {
       "model_id": "e3e839ad8208468b84b414b3941544b9",
       "version_major": 2,
       "version_minor": 0
      },
      "text/plain": [
       "Batches:   0%|          | 0/1 [00:00<?, ?it/s]"
      ]
     },
     "metadata": {},
     "output_type": "display_data"
    },
    {
     "data": {
      "application/vnd.jupyter.widget-view+json": {
       "model_id": "c5dbf920df7f43f59047ca5bc5b15d8c",
       "version_major": 2,
       "version_minor": 0
      },
      "text/plain": [
       "Batches:   0%|          | 0/1 [00:00<?, ?it/s]"
      ]
     },
     "metadata": {},
     "output_type": "display_data"
    },
    {
     "data": {
      "application/vnd.jupyter.widget-view+json": {
       "model_id": "4fb243b6f24b4433a153130978af4ca4",
       "version_major": 2,
       "version_minor": 0
      },
      "text/plain": [
       "Batches:   0%|          | 0/1 [00:00<?, ?it/s]"
      ]
     },
     "metadata": {},
     "output_type": "display_data"
    },
    {
     "data": {
      "application/vnd.jupyter.widget-view+json": {
       "model_id": "3a3bcc69963647899f8671d6d335465b",
       "version_major": 2,
       "version_minor": 0
      },
      "text/plain": [
       "Batches:   0%|          | 0/1 [00:00<?, ?it/s]"
      ]
     },
     "metadata": {},
     "output_type": "display_data"
    },
    {
     "data": {
      "application/vnd.jupyter.widget-view+json": {
       "model_id": "da9ffa14363747ab92b212df845d8fac",
       "version_major": 2,
       "version_minor": 0
      },
      "text/plain": [
       "Batches:   0%|          | 0/1 [00:00<?, ?it/s]"
      ]
     },
     "metadata": {},
     "output_type": "display_data"
    },
    {
     "data": {
      "application/vnd.jupyter.widget-view+json": {
       "model_id": "73b9e13b44cf41e1b3fc05f13e5c48e3",
       "version_major": 2,
       "version_minor": 0
      },
      "text/plain": [
       "Batches:   0%|          | 0/1 [00:00<?, ?it/s]"
      ]
     },
     "metadata": {},
     "output_type": "display_data"
    },
    {
     "data": {
      "application/vnd.jupyter.widget-view+json": {
       "model_id": "cd836187ab164ed899db19928dedf27d",
       "version_major": 2,
       "version_minor": 0
      },
      "text/plain": [
       "Batches:   0%|          | 0/1 [00:00<?, ?it/s]"
      ]
     },
     "metadata": {},
     "output_type": "display_data"
    },
    {
     "data": {
      "application/vnd.jupyter.widget-view+json": {
       "model_id": "cd2bf659b857430fa9b6a4a95316a606",
       "version_major": 2,
       "version_minor": 0
      },
      "text/plain": [
       "Batches:   0%|          | 0/1 [00:00<?, ?it/s]"
      ]
     },
     "metadata": {},
     "output_type": "display_data"
    },
    {
     "data": {
      "application/vnd.jupyter.widget-view+json": {
       "model_id": "39c39f56a7ba4091acc93361ad3dcce5",
       "version_major": 2,
       "version_minor": 0
      },
      "text/plain": [
       "Batches:   0%|          | 0/1 [00:00<?, ?it/s]"
      ]
     },
     "metadata": {},
     "output_type": "display_data"
    },
    {
     "data": {
      "application/vnd.jupyter.widget-view+json": {
       "model_id": "99d67441e72d4a0cbff811f972d9d843",
       "version_major": 2,
       "version_minor": 0
      },
      "text/plain": [
       "Batches:   0%|          | 0/1 [00:00<?, ?it/s]"
      ]
     },
     "metadata": {},
     "output_type": "display_data"
    },
    {
     "data": {
      "application/vnd.jupyter.widget-view+json": {
       "model_id": "1327b1870a3e46258f5f35f2a4ee8672",
       "version_major": 2,
       "version_minor": 0
      },
      "text/plain": [
       "Batches:   0%|          | 0/1 [00:00<?, ?it/s]"
      ]
     },
     "metadata": {},
     "output_type": "display_data"
    },
    {
     "data": {
      "application/vnd.jupyter.widget-view+json": {
       "model_id": "fd21e42530ed4eb7bd534fdc23151c78",
       "version_major": 2,
       "version_minor": 0
      },
      "text/plain": [
       "Batches:   0%|          | 0/1 [00:00<?, ?it/s]"
      ]
     },
     "metadata": {},
     "output_type": "display_data"
    },
    {
     "data": {
      "application/vnd.jupyter.widget-view+json": {
       "model_id": "dfbec7bed16d496b9dcef8fe2e5f9e97",
       "version_major": 2,
       "version_minor": 0
      },
      "text/plain": [
       "Batches:   0%|          | 0/1 [00:00<?, ?it/s]"
      ]
     },
     "metadata": {},
     "output_type": "display_data"
    },
    {
     "data": {
      "application/vnd.jupyter.widget-view+json": {
       "model_id": "8ceacacaa4c841999d2bdbad470d2233",
       "version_major": 2,
       "version_minor": 0
      },
      "text/plain": [
       "Batches:   0%|          | 0/1 [00:00<?, ?it/s]"
      ]
     },
     "metadata": {},
     "output_type": "display_data"
    },
    {
     "data": {
      "application/vnd.jupyter.widget-view+json": {
       "model_id": "b14aa3b6b7d341c69ddb4c4bf067dc52",
       "version_major": 2,
       "version_minor": 0
      },
      "text/plain": [
       "Batches:   0%|          | 0/1 [00:00<?, ?it/s]"
      ]
     },
     "metadata": {},
     "output_type": "display_data"
    },
    {
     "data": {
      "application/vnd.jupyter.widget-view+json": {
       "model_id": "a075b0194b3d41ae9ed2f8afd1112c43",
       "version_major": 2,
       "version_minor": 0
      },
      "text/plain": [
       "Batches:   0%|          | 0/1 [00:00<?, ?it/s]"
      ]
     },
     "metadata": {},
     "output_type": "display_data"
    },
    {
     "data": {
      "application/vnd.jupyter.widget-view+json": {
       "model_id": "3077e82b2a3443768b1e9a4d0dafd62d",
       "version_major": 2,
       "version_minor": 0
      },
      "text/plain": [
       "Batches:   0%|          | 0/1 [00:00<?, ?it/s]"
      ]
     },
     "metadata": {},
     "output_type": "display_data"
    },
    {
     "data": {
      "application/vnd.jupyter.widget-view+json": {
       "model_id": "042ba61627584374b8a99b92953e86eb",
       "version_major": 2,
       "version_minor": 0
      },
      "text/plain": [
       "Batches:   0%|          | 0/1 [00:00<?, ?it/s]"
      ]
     },
     "metadata": {},
     "output_type": "display_data"
    },
    {
     "data": {
      "application/vnd.jupyter.widget-view+json": {
       "model_id": "f909d7d58c99406cb5b66547eaa98e2f",
       "version_major": 2,
       "version_minor": 0
      },
      "text/plain": [
       "Batches:   0%|          | 0/1 [00:00<?, ?it/s]"
      ]
     },
     "metadata": {},
     "output_type": "display_data"
    },
    {
     "data": {
      "application/vnd.jupyter.widget-view+json": {
       "model_id": "cee5c930e4254c5cbe6569a1104bd8d1",
       "version_major": 2,
       "version_minor": 0
      },
      "text/plain": [
       "Batches:   0%|          | 0/1 [00:00<?, ?it/s]"
      ]
     },
     "metadata": {},
     "output_type": "display_data"
    },
    {
     "data": {
      "application/vnd.jupyter.widget-view+json": {
       "model_id": "2a0efa2b109c4dc885ea9c0586edc37d",
       "version_major": 2,
       "version_minor": 0
      },
      "text/plain": [
       "Batches:   0%|          | 0/1 [00:00<?, ?it/s]"
      ]
     },
     "metadata": {},
     "output_type": "display_data"
    },
    {
     "data": {
      "application/vnd.jupyter.widget-view+json": {
       "model_id": "2239470d227644d7b7dbdd28ecc1865f",
       "version_major": 2,
       "version_minor": 0
      },
      "text/plain": [
       "Batches:   0%|          | 0/1 [00:00<?, ?it/s]"
      ]
     },
     "metadata": {},
     "output_type": "display_data"
    },
    {
     "data": {
      "application/vnd.jupyter.widget-view+json": {
       "model_id": "8d523a023e054e5bb6f31e3e3eda261e",
       "version_major": 2,
       "version_minor": 0
      },
      "text/plain": [
       "Batches:   0%|          | 0/1 [00:00<?, ?it/s]"
      ]
     },
     "metadata": {},
     "output_type": "display_data"
    },
    {
     "data": {
      "application/vnd.jupyter.widget-view+json": {
       "model_id": "e3a28c52f70b4dabbaddf82bc162ec88",
       "version_major": 2,
       "version_minor": 0
      },
      "text/plain": [
       "Batches:   0%|          | 0/1 [00:00<?, ?it/s]"
      ]
     },
     "metadata": {},
     "output_type": "display_data"
    },
    {
     "data": {
      "application/vnd.jupyter.widget-view+json": {
       "model_id": "a6e51c468466447c8910aee9e45ddb98",
       "version_major": 2,
       "version_minor": 0
      },
      "text/plain": [
       "Batches:   0%|          | 0/1 [00:00<?, ?it/s]"
      ]
     },
     "metadata": {},
     "output_type": "display_data"
    },
    {
     "data": {
      "application/vnd.jupyter.widget-view+json": {
       "model_id": "243212be2be84ad98661d5083d0956b7",
       "version_major": 2,
       "version_minor": 0
      },
      "text/plain": [
       "Batches:   0%|          | 0/1 [00:00<?, ?it/s]"
      ]
     },
     "metadata": {},
     "output_type": "display_data"
    },
    {
     "data": {
      "application/vnd.jupyter.widget-view+json": {
       "model_id": "7ec3e920a4924b90bdd7f679ef9f6580",
       "version_major": 2,
       "version_minor": 0
      },
      "text/plain": [
       "Batches:   0%|          | 0/1 [00:00<?, ?it/s]"
      ]
     },
     "metadata": {},
     "output_type": "display_data"
    },
    {
     "data": {
      "application/vnd.jupyter.widget-view+json": {
       "model_id": "7c114c9737854b72bae5d570c81dc100",
       "version_major": 2,
       "version_minor": 0
      },
      "text/plain": [
       "Batches:   0%|          | 0/1 [00:00<?, ?it/s]"
      ]
     },
     "metadata": {},
     "output_type": "display_data"
    },
    {
     "data": {
      "application/vnd.jupyter.widget-view+json": {
       "model_id": "f7295c79db0542b08257f27ed06c09f2",
       "version_major": 2,
       "version_minor": 0
      },
      "text/plain": [
       "Batches:   0%|          | 0/1 [00:00<?, ?it/s]"
      ]
     },
     "metadata": {},
     "output_type": "display_data"
    },
    {
     "data": {
      "application/vnd.jupyter.widget-view+json": {
       "model_id": "21b28f1735ba4c55b8a2d374735e99c2",
       "version_major": 2,
       "version_minor": 0
      },
      "text/plain": [
       "Batches:   0%|          | 0/1 [00:00<?, ?it/s]"
      ]
     },
     "metadata": {},
     "output_type": "display_data"
    },
    {
     "data": {
      "application/vnd.jupyter.widget-view+json": {
       "model_id": "0bb392e8dfb14b87a1a53f6ea5107260",
       "version_major": 2,
       "version_minor": 0
      },
      "text/plain": [
       "Batches:   0%|          | 0/1 [00:00<?, ?it/s]"
      ]
     },
     "metadata": {},
     "output_type": "display_data"
    },
    {
     "data": {
      "application/vnd.jupyter.widget-view+json": {
       "model_id": "31425414f5f440eca8fc3fdf9507b1c0",
       "version_major": 2,
       "version_minor": 0
      },
      "text/plain": [
       "Batches:   0%|          | 0/1 [00:00<?, ?it/s]"
      ]
     },
     "metadata": {},
     "output_type": "display_data"
    },
    {
     "data": {
      "application/vnd.jupyter.widget-view+json": {
       "model_id": "f184e0b3e390416299beb3d48b340789",
       "version_major": 2,
       "version_minor": 0
      },
      "text/plain": [
       "Batches:   0%|          | 0/1 [00:00<?, ?it/s]"
      ]
     },
     "metadata": {},
     "output_type": "display_data"
    },
    {
     "data": {
      "application/vnd.jupyter.widget-view+json": {
       "model_id": "5550f5c67b3c438ea85fbf869d387e42",
       "version_major": 2,
       "version_minor": 0
      },
      "text/plain": [
       "Batches:   0%|          | 0/1 [00:00<?, ?it/s]"
      ]
     },
     "metadata": {},
     "output_type": "display_data"
    },
    {
     "data": {
      "application/vnd.jupyter.widget-view+json": {
       "model_id": "c2add402db03473aa68c57524abb8de6",
       "version_major": 2,
       "version_minor": 0
      },
      "text/plain": [
       "Batches:   0%|          | 0/1 [00:00<?, ?it/s]"
      ]
     },
     "metadata": {},
     "output_type": "display_data"
    },
    {
     "data": {
      "application/vnd.jupyter.widget-view+json": {
       "model_id": "7a3dcf12c3a34fc4b7d005ff21f662a6",
       "version_major": 2,
       "version_minor": 0
      },
      "text/plain": [
       "Batches:   0%|          | 0/1 [00:00<?, ?it/s]"
      ]
     },
     "metadata": {},
     "output_type": "display_data"
    },
    {
     "data": {
      "application/vnd.jupyter.widget-view+json": {
       "model_id": "883c66a5d5bb4a39a7659b560da6fa0b",
       "version_major": 2,
       "version_minor": 0
      },
      "text/plain": [
       "Batches:   0%|          | 0/1 [00:00<?, ?it/s]"
      ]
     },
     "metadata": {},
     "output_type": "display_data"
    },
    {
     "data": {
      "application/vnd.jupyter.widget-view+json": {
       "model_id": "98cb8eccb5a6404cb7bc41c432475804",
       "version_major": 2,
       "version_minor": 0
      },
      "text/plain": [
       "Batches:   0%|          | 0/1 [00:00<?, ?it/s]"
      ]
     },
     "metadata": {},
     "output_type": "display_data"
    },
    {
     "data": {
      "application/vnd.jupyter.widget-view+json": {
       "model_id": "a379d5bda23f4d208117210707b5d0db",
       "version_major": 2,
       "version_minor": 0
      },
      "text/plain": [
       "Batches:   0%|          | 0/1 [00:00<?, ?it/s]"
      ]
     },
     "metadata": {},
     "output_type": "display_data"
    },
    {
     "data": {
      "application/vnd.jupyter.widget-view+json": {
       "model_id": "3f84c578109848a2ba675161c54e772c",
       "version_major": 2,
       "version_minor": 0
      },
      "text/plain": [
       "Batches:   0%|          | 0/1 [00:00<?, ?it/s]"
      ]
     },
     "metadata": {},
     "output_type": "display_data"
    },
    {
     "data": {
      "application/vnd.jupyter.widget-view+json": {
       "model_id": "b591cf4aab9942b19d676188b1dfef3a",
       "version_major": 2,
       "version_minor": 0
      },
      "text/plain": [
       "Batches:   0%|          | 0/1 [00:00<?, ?it/s]"
      ]
     },
     "metadata": {},
     "output_type": "display_data"
    },
    {
     "data": {
      "application/vnd.jupyter.widget-view+json": {
       "model_id": "4f373f111c7241e6825a575d05518b84",
       "version_major": 2,
       "version_minor": 0
      },
      "text/plain": [
       "Batches:   0%|          | 0/1 [00:00<?, ?it/s]"
      ]
     },
     "metadata": {},
     "output_type": "display_data"
    },
    {
     "data": {
      "application/vnd.jupyter.widget-view+json": {
       "model_id": "23f83c796efc4bc69e0e404405261631",
       "version_major": 2,
       "version_minor": 0
      },
      "text/plain": [
       "Batches:   0%|          | 0/1 [00:00<?, ?it/s]"
      ]
     },
     "metadata": {},
     "output_type": "display_data"
    },
    {
     "data": {
      "application/vnd.jupyter.widget-view+json": {
       "model_id": "98e59a7c77bc493984db60ef56b5b3f2",
       "version_major": 2,
       "version_minor": 0
      },
      "text/plain": [
       "Batches:   0%|          | 0/1 [00:00<?, ?it/s]"
      ]
     },
     "metadata": {},
     "output_type": "display_data"
    },
    {
     "data": {
      "application/vnd.jupyter.widget-view+json": {
       "model_id": "be2c91f78f2145f9b27e42777c77a14d",
       "version_major": 2,
       "version_minor": 0
      },
      "text/plain": [
       "Batches:   0%|          | 0/1 [00:00<?, ?it/s]"
      ]
     },
     "metadata": {},
     "output_type": "display_data"
    },
    {
     "data": {
      "application/vnd.jupyter.widget-view+json": {
       "model_id": "4a3c245b4e4d4d62975fded1550952ea",
       "version_major": 2,
       "version_minor": 0
      },
      "text/plain": [
       "Batches:   0%|          | 0/1 [00:00<?, ?it/s]"
      ]
     },
     "metadata": {},
     "output_type": "display_data"
    },
    {
     "data": {
      "application/vnd.jupyter.widget-view+json": {
       "model_id": "c87ffd595b924b9aa0d4b6e4efac58a9",
       "version_major": 2,
       "version_minor": 0
      },
      "text/plain": [
       "Batches:   0%|          | 0/1 [00:00<?, ?it/s]"
      ]
     },
     "metadata": {},
     "output_type": "display_data"
    },
    {
     "data": {
      "application/vnd.jupyter.widget-view+json": {
       "model_id": "286b09aadaf1483d90b0fd527f6883ad",
       "version_major": 2,
       "version_minor": 0
      },
      "text/plain": [
       "Batches:   0%|          | 0/1 [00:00<?, ?it/s]"
      ]
     },
     "metadata": {},
     "output_type": "display_data"
    },
    {
     "data": {
      "application/vnd.jupyter.widget-view+json": {
       "model_id": "12a07d67aa7b47a8b8de0eccf06d54c7",
       "version_major": 2,
       "version_minor": 0
      },
      "text/plain": [
       "Batches:   0%|          | 0/1 [00:00<?, ?it/s]"
      ]
     },
     "metadata": {},
     "output_type": "display_data"
    },
    {
     "data": {
      "application/vnd.jupyter.widget-view+json": {
       "model_id": "c65782cbf571477b99f9fd7c5e0702e4",
       "version_major": 2,
       "version_minor": 0
      },
      "text/plain": [
       "Batches:   0%|          | 0/1 [00:00<?, ?it/s]"
      ]
     },
     "metadata": {},
     "output_type": "display_data"
    },
    {
     "data": {
      "application/vnd.jupyter.widget-view+json": {
       "model_id": "55c9c825c990416482ec54517a9888b9",
       "version_major": 2,
       "version_minor": 0
      },
      "text/plain": [
       "Batches:   0%|          | 0/1 [00:00<?, ?it/s]"
      ]
     },
     "metadata": {},
     "output_type": "display_data"
    },
    {
     "data": {
      "application/vnd.jupyter.widget-view+json": {
       "model_id": "ce6cafd7cadb440bb40bdc03d4e6df95",
       "version_major": 2,
       "version_minor": 0
      },
      "text/plain": [
       "Batches:   0%|          | 0/1 [00:00<?, ?it/s]"
      ]
     },
     "metadata": {},
     "output_type": "display_data"
    },
    {
     "data": {
      "application/vnd.jupyter.widget-view+json": {
       "model_id": "996758bdccf643f0b86d32858dd3b37e",
       "version_major": 2,
       "version_minor": 0
      },
      "text/plain": [
       "Batches:   0%|          | 0/1 [00:00<?, ?it/s]"
      ]
     },
     "metadata": {},
     "output_type": "display_data"
    },
    {
     "data": {
      "application/vnd.jupyter.widget-view+json": {
       "model_id": "b1912c04977f45aa9e51d6eba2262a6a",
       "version_major": 2,
       "version_minor": 0
      },
      "text/plain": [
       "Batches:   0%|          | 0/1 [00:00<?, ?it/s]"
      ]
     },
     "metadata": {},
     "output_type": "display_data"
    },
    {
     "data": {
      "application/vnd.jupyter.widget-view+json": {
       "model_id": "9e29e0fcdd8444cfb502e71afb48d9dc",
       "version_major": 2,
       "version_minor": 0
      },
      "text/plain": [
       "Batches:   0%|          | 0/1 [00:00<?, ?it/s]"
      ]
     },
     "metadata": {},
     "output_type": "display_data"
    },
    {
     "data": {
      "application/vnd.jupyter.widget-view+json": {
       "model_id": "b6c3156416e54ef8abe26daf8ac1ddd2",
       "version_major": 2,
       "version_minor": 0
      },
      "text/plain": [
       "Batches:   0%|          | 0/1 [00:00<?, ?it/s]"
      ]
     },
     "metadata": {},
     "output_type": "display_data"
    },
    {
     "data": {
      "application/vnd.jupyter.widget-view+json": {
       "model_id": "7cbbfb49208d4256813f839b93b0b664",
       "version_major": 2,
       "version_minor": 0
      },
      "text/plain": [
       "Batches:   0%|          | 0/1 [00:00<?, ?it/s]"
      ]
     },
     "metadata": {},
     "output_type": "display_data"
    },
    {
     "data": {
      "application/vnd.jupyter.widget-view+json": {
       "model_id": "887e33322573407bab02eeea875cf655",
       "version_major": 2,
       "version_minor": 0
      },
      "text/plain": [
       "Batches:   0%|          | 0/1 [00:00<?, ?it/s]"
      ]
     },
     "metadata": {},
     "output_type": "display_data"
    },
    {
     "data": {
      "application/vnd.jupyter.widget-view+json": {
       "model_id": "7fcd733de5904820903c7a7ce2649ff1",
       "version_major": 2,
       "version_minor": 0
      },
      "text/plain": [
       "Batches:   0%|          | 0/1 [00:00<?, ?it/s]"
      ]
     },
     "metadata": {},
     "output_type": "display_data"
    },
    {
     "data": {
      "application/vnd.jupyter.widget-view+json": {
       "model_id": "4797002cce234e1982b2a7ac68e9dd4e",
       "version_major": 2,
       "version_minor": 0
      },
      "text/plain": [
       "Batches:   0%|          | 0/1 [00:00<?, ?it/s]"
      ]
     },
     "metadata": {},
     "output_type": "display_data"
    },
    {
     "data": {
      "application/vnd.jupyter.widget-view+json": {
       "model_id": "8fe85b861ab14e32b88004b264e90f7c",
       "version_major": 2,
       "version_minor": 0
      },
      "text/plain": [
       "Batches:   0%|          | 0/1 [00:00<?, ?it/s]"
      ]
     },
     "metadata": {},
     "output_type": "display_data"
    },
    {
     "data": {
      "application/vnd.jupyter.widget-view+json": {
       "model_id": "299f9a66cd3e409a91606d6c22313c2d",
       "version_major": 2,
       "version_minor": 0
      },
      "text/plain": [
       "Batches:   0%|          | 0/1 [00:00<?, ?it/s]"
      ]
     },
     "metadata": {},
     "output_type": "display_data"
    },
    {
     "data": {
      "application/vnd.jupyter.widget-view+json": {
       "model_id": "0a3fed542a12450a8772cb07fe0d7a53",
       "version_major": 2,
       "version_minor": 0
      },
      "text/plain": [
       "Batches:   0%|          | 0/1 [00:00<?, ?it/s]"
      ]
     },
     "metadata": {},
     "output_type": "display_data"
    },
    {
     "data": {
      "application/vnd.jupyter.widget-view+json": {
       "model_id": "f10046a139614486ac7eae50b89b91ca",
       "version_major": 2,
       "version_minor": 0
      },
      "text/plain": [
       "Batches:   0%|          | 0/1 [00:00<?, ?it/s]"
      ]
     },
     "metadata": {},
     "output_type": "display_data"
    },
    {
     "data": {
      "application/vnd.jupyter.widget-view+json": {
       "model_id": "6ac7729ccdc847b197a3d928b84e1e19",
       "version_major": 2,
       "version_minor": 0
      },
      "text/plain": [
       "Batches:   0%|          | 0/1 [00:00<?, ?it/s]"
      ]
     },
     "metadata": {},
     "output_type": "display_data"
    },
    {
     "data": {
      "application/vnd.jupyter.widget-view+json": {
       "model_id": "f411403e7d9d4220ab7bdcdf942b0cc5",
       "version_major": 2,
       "version_minor": 0
      },
      "text/plain": [
       "Batches:   0%|          | 0/1 [00:00<?, ?it/s]"
      ]
     },
     "metadata": {},
     "output_type": "display_data"
    },
    {
     "data": {
      "application/vnd.jupyter.widget-view+json": {
       "model_id": "4dbb084976e54495999cb27a28578620",
       "version_major": 2,
       "version_minor": 0
      },
      "text/plain": [
       "Batches:   0%|          | 0/1 [00:00<?, ?it/s]"
      ]
     },
     "metadata": {},
     "output_type": "display_data"
    },
    {
     "data": {
      "application/vnd.jupyter.widget-view+json": {
       "model_id": "ddaa0adcdc054389ab228cee968f23bf",
       "version_major": 2,
       "version_minor": 0
      },
      "text/plain": [
       "Batches:   0%|          | 0/1 [00:00<?, ?it/s]"
      ]
     },
     "metadata": {},
     "output_type": "display_data"
    },
    {
     "data": {
      "application/vnd.jupyter.widget-view+json": {
       "model_id": "83115dd76c01419d8f5a0a776b4b058b",
       "version_major": 2,
       "version_minor": 0
      },
      "text/plain": [
       "Batches:   0%|          | 0/1 [00:00<?, ?it/s]"
      ]
     },
     "metadata": {},
     "output_type": "display_data"
    },
    {
     "data": {
      "application/vnd.jupyter.widget-view+json": {
       "model_id": "11d3dfe712a54ebfaa8ba20313224b81",
       "version_major": 2,
       "version_minor": 0
      },
      "text/plain": [
       "Batches:   0%|          | 0/1 [00:00<?, ?it/s]"
      ]
     },
     "metadata": {},
     "output_type": "display_data"
    },
    {
     "data": {
      "application/vnd.jupyter.widget-view+json": {
       "model_id": "f8274e09e3114ca1a97b8a477b3087c7",
       "version_major": 2,
       "version_minor": 0
      },
      "text/plain": [
       "Batches:   0%|          | 0/1 [00:00<?, ?it/s]"
      ]
     },
     "metadata": {},
     "output_type": "display_data"
    },
    {
     "data": {
      "application/vnd.jupyter.widget-view+json": {
       "model_id": "a11f4d7b37a94acd8682b379d5fffb6a",
       "version_major": 2,
       "version_minor": 0
      },
      "text/plain": [
       "Batches:   0%|          | 0/1 [00:00<?, ?it/s]"
      ]
     },
     "metadata": {},
     "output_type": "display_data"
    },
    {
     "data": {
      "application/vnd.jupyter.widget-view+json": {
       "model_id": "40ce05de658942168615a2a6037e5515",
       "version_major": 2,
       "version_minor": 0
      },
      "text/plain": [
       "Batches:   0%|          | 0/1 [00:00<?, ?it/s]"
      ]
     },
     "metadata": {},
     "output_type": "display_data"
    },
    {
     "data": {
      "application/vnd.jupyter.widget-view+json": {
       "model_id": "04eca8635c0240449dbab81c333cf984",
       "version_major": 2,
       "version_minor": 0
      },
      "text/plain": [
       "Batches:   0%|          | 0/1 [00:00<?, ?it/s]"
      ]
     },
     "metadata": {},
     "output_type": "display_data"
    },
    {
     "data": {
      "application/vnd.jupyter.widget-view+json": {
       "model_id": "4bb35c8d03fc4521ac2354342db0f65e",
       "version_major": 2,
       "version_minor": 0
      },
      "text/plain": [
       "Batches:   0%|          | 0/1 [00:00<?, ?it/s]"
      ]
     },
     "metadata": {},
     "output_type": "display_data"
    },
    {
     "data": {
      "application/vnd.jupyter.widget-view+json": {
       "model_id": "89beeb843b9c462b8705dc5a8f337f88",
       "version_major": 2,
       "version_minor": 0
      },
      "text/plain": [
       "Batches:   0%|          | 0/1 [00:00<?, ?it/s]"
      ]
     },
     "metadata": {},
     "output_type": "display_data"
    },
    {
     "data": {
      "application/vnd.jupyter.widget-view+json": {
       "model_id": "c6d821a06bc347b5a97d22944d93cdd5",
       "version_major": 2,
       "version_minor": 0
      },
      "text/plain": [
       "Batches:   0%|          | 0/1 [00:00<?, ?it/s]"
      ]
     },
     "metadata": {},
     "output_type": "display_data"
    },
    {
     "data": {
      "application/vnd.jupyter.widget-view+json": {
       "model_id": "31441dbdd1bd471ea8c9f6a78f23f81e",
       "version_major": 2,
       "version_minor": 0
      },
      "text/plain": [
       "Batches:   0%|          | 0/1 [00:00<?, ?it/s]"
      ]
     },
     "metadata": {},
     "output_type": "display_data"
    },
    {
     "data": {
      "application/vnd.jupyter.widget-view+json": {
       "model_id": "e99ab97d4a6e44488cb94234fe088ee8",
       "version_major": 2,
       "version_minor": 0
      },
      "text/plain": [
       "Batches:   0%|          | 0/1 [00:00<?, ?it/s]"
      ]
     },
     "metadata": {},
     "output_type": "display_data"
    },
    {
     "data": {
      "application/vnd.jupyter.widget-view+json": {
       "model_id": "4460443911484e19a31c2663fa187b55",
       "version_major": 2,
       "version_minor": 0
      },
      "text/plain": [
       "Batches:   0%|          | 0/1 [00:00<?, ?it/s]"
      ]
     },
     "metadata": {},
     "output_type": "display_data"
    },
    {
     "data": {
      "application/vnd.jupyter.widget-view+json": {
       "model_id": "1cd0737ff9374ae8a73f22487012131a",
       "version_major": 2,
       "version_minor": 0
      },
      "text/plain": [
       "Batches:   0%|          | 0/1 [00:00<?, ?it/s]"
      ]
     },
     "metadata": {},
     "output_type": "display_data"
    },
    {
     "data": {
      "application/vnd.jupyter.widget-view+json": {
       "model_id": "99e52aa4cdc24dda94e47ef279dee0cd",
       "version_major": 2,
       "version_minor": 0
      },
      "text/plain": [
       "Batches:   0%|          | 0/1 [00:00<?, ?it/s]"
      ]
     },
     "metadata": {},
     "output_type": "display_data"
    },
    {
     "data": {
      "application/vnd.jupyter.widget-view+json": {
       "model_id": "26ac43658aa1457e8a7726badfd9105e",
       "version_major": 2,
       "version_minor": 0
      },
      "text/plain": [
       "Batches:   0%|          | 0/1 [00:00<?, ?it/s]"
      ]
     },
     "metadata": {},
     "output_type": "display_data"
    },
    {
     "data": {
      "application/vnd.jupyter.widget-view+json": {
       "model_id": "71d8c42b799c49468edb9e53b73404d5",
       "version_major": 2,
       "version_minor": 0
      },
      "text/plain": [
       "Batches:   0%|          | 0/1 [00:00<?, ?it/s]"
      ]
     },
     "metadata": {},
     "output_type": "display_data"
    },
    {
     "data": {
      "application/vnd.jupyter.widget-view+json": {
       "model_id": "64b33890a5bb40b0a2d5254be113932a",
       "version_major": 2,
       "version_minor": 0
      },
      "text/plain": [
       "Batches:   0%|          | 0/1 [00:00<?, ?it/s]"
      ]
     },
     "metadata": {},
     "output_type": "display_data"
    },
    {
     "data": {
      "application/vnd.jupyter.widget-view+json": {
       "model_id": "64357da6304343a98e207692b12ceb1a",
       "version_major": 2,
       "version_minor": 0
      },
      "text/plain": [
       "Batches:   0%|          | 0/1 [00:00<?, ?it/s]"
      ]
     },
     "metadata": {},
     "output_type": "display_data"
    },
    {
     "data": {
      "application/vnd.jupyter.widget-view+json": {
       "model_id": "eb60667a5c4543cf9ee345673bc93cce",
       "version_major": 2,
       "version_minor": 0
      },
      "text/plain": [
       "Batches:   0%|          | 0/1 [00:00<?, ?it/s]"
      ]
     },
     "metadata": {},
     "output_type": "display_data"
    },
    {
     "data": {
      "application/vnd.jupyter.widget-view+json": {
       "model_id": "58b2de0323b1493590995c3f617b68bf",
       "version_major": 2,
       "version_minor": 0
      },
      "text/plain": [
       "Batches:   0%|          | 0/1 [00:00<?, ?it/s]"
      ]
     },
     "metadata": {},
     "output_type": "display_data"
    },
    {
     "data": {
      "application/vnd.jupyter.widget-view+json": {
       "model_id": "4fdaceef657345acaae1c4218131ee8d",
       "version_major": 2,
       "version_minor": 0
      },
      "text/plain": [
       "Batches:   0%|          | 0/1 [00:00<?, ?it/s]"
      ]
     },
     "metadata": {},
     "output_type": "display_data"
    },
    {
     "data": {
      "application/vnd.jupyter.widget-view+json": {
       "model_id": "9ab23ac760ef4206bf85011bee86aa25",
       "version_major": 2,
       "version_minor": 0
      },
      "text/plain": [
       "Batches:   0%|          | 0/1 [00:00<?, ?it/s]"
      ]
     },
     "metadata": {},
     "output_type": "display_data"
    },
    {
     "data": {
      "application/vnd.jupyter.widget-view+json": {
       "model_id": "1a7fb0150bfa44388945f89258afcce3",
       "version_major": 2,
       "version_minor": 0
      },
      "text/plain": [
       "Batches:   0%|          | 0/1 [00:00<?, ?it/s]"
      ]
     },
     "metadata": {},
     "output_type": "display_data"
    },
    {
     "data": {
      "application/vnd.jupyter.widget-view+json": {
       "model_id": "b991da24f19e466c93f684f877b6276e",
       "version_major": 2,
       "version_minor": 0
      },
      "text/plain": [
       "Batches:   0%|          | 0/1 [00:00<?, ?it/s]"
      ]
     },
     "metadata": {},
     "output_type": "display_data"
    },
    {
     "data": {
      "application/vnd.jupyter.widget-view+json": {
       "model_id": "e04c59f37b224e81b8a1fd6f7533bcde",
       "version_major": 2,
       "version_minor": 0
      },
      "text/plain": [
       "Batches:   0%|          | 0/1 [00:00<?, ?it/s]"
      ]
     },
     "metadata": {},
     "output_type": "display_data"
    },
    {
     "data": {
      "application/vnd.jupyter.widget-view+json": {
       "model_id": "f91ee46c18ac4942a0cb0a61ef6dfe9a",
       "version_major": 2,
       "version_minor": 0
      },
      "text/plain": [
       "Batches:   0%|          | 0/1 [00:00<?, ?it/s]"
      ]
     },
     "metadata": {},
     "output_type": "display_data"
    },
    {
     "data": {
      "application/vnd.jupyter.widget-view+json": {
       "model_id": "d777dcf2b0584352b28d963f592917dc",
       "version_major": 2,
       "version_minor": 0
      },
      "text/plain": [
       "Batches:   0%|          | 0/1 [00:00<?, ?it/s]"
      ]
     },
     "metadata": {},
     "output_type": "display_data"
    },
    {
     "data": {
      "application/vnd.jupyter.widget-view+json": {
       "model_id": "6f857fc4bda145a4b5dbf70d9386cfd0",
       "version_major": 2,
       "version_minor": 0
      },
      "text/plain": [
       "Batches:   0%|          | 0/1 [00:00<?, ?it/s]"
      ]
     },
     "metadata": {},
     "output_type": "display_data"
    },
    {
     "data": {
      "application/vnd.jupyter.widget-view+json": {
       "model_id": "c716d57de6c44301b36407354259361a",
       "version_major": 2,
       "version_minor": 0
      },
      "text/plain": [
       "Batches:   0%|          | 0/1 [00:00<?, ?it/s]"
      ]
     },
     "metadata": {},
     "output_type": "display_data"
    },
    {
     "data": {
      "application/vnd.jupyter.widget-view+json": {
       "model_id": "ba767649ebbb41fbac809fcc90966e0d",
       "version_major": 2,
       "version_minor": 0
      },
      "text/plain": [
       "Batches:   0%|          | 0/1 [00:00<?, ?it/s]"
      ]
     },
     "metadata": {},
     "output_type": "display_data"
    },
    {
     "data": {
      "application/vnd.jupyter.widget-view+json": {
       "model_id": "b17446e94efc41939a554e1fade52c65",
       "version_major": 2,
       "version_minor": 0
      },
      "text/plain": [
       "Batches:   0%|          | 0/1 [00:00<?, ?it/s]"
      ]
     },
     "metadata": {},
     "output_type": "display_data"
    },
    {
     "data": {
      "application/vnd.jupyter.widget-view+json": {
       "model_id": "8c561cd9603d42bca0fa94dbb896f60e",
       "version_major": 2,
       "version_minor": 0
      },
      "text/plain": [
       "Batches:   0%|          | 0/1 [00:00<?, ?it/s]"
      ]
     },
     "metadata": {},
     "output_type": "display_data"
    },
    {
     "data": {
      "application/vnd.jupyter.widget-view+json": {
       "model_id": "0c117206d69042619eec49c658cb4038",
       "version_major": 2,
       "version_minor": 0
      },
      "text/plain": [
       "Batches:   0%|          | 0/1 [00:00<?, ?it/s]"
      ]
     },
     "metadata": {},
     "output_type": "display_data"
    },
    {
     "data": {
      "application/vnd.jupyter.widget-view+json": {
       "model_id": "0198a377e35b458b8508dec233336996",
       "version_major": 2,
       "version_minor": 0
      },
      "text/plain": [
       "Batches:   0%|          | 0/1 [00:00<?, ?it/s]"
      ]
     },
     "metadata": {},
     "output_type": "display_data"
    },
    {
     "data": {
      "application/vnd.jupyter.widget-view+json": {
       "model_id": "3b28e0d21cc447eb94dd4cd6c65712f2",
       "version_major": 2,
       "version_minor": 0
      },
      "text/plain": [
       "Batches:   0%|          | 0/1 [00:00<?, ?it/s]"
      ]
     },
     "metadata": {},
     "output_type": "display_data"
    },
    {
     "data": {
      "application/vnd.jupyter.widget-view+json": {
       "model_id": "7f9edf3597924285b943e2ac3f7a41d1",
       "version_major": 2,
       "version_minor": 0
      },
      "text/plain": [
       "Batches:   0%|          | 0/1 [00:00<?, ?it/s]"
      ]
     },
     "metadata": {},
     "output_type": "display_data"
    },
    {
     "data": {
      "application/vnd.jupyter.widget-view+json": {
       "model_id": "1fc812d27d4f407c85ae1761c75214eb",
       "version_major": 2,
       "version_minor": 0
      },
      "text/plain": [
       "Batches:   0%|          | 0/1 [00:00<?, ?it/s]"
      ]
     },
     "metadata": {},
     "output_type": "display_data"
    },
    {
     "data": {
      "application/vnd.jupyter.widget-view+json": {
       "model_id": "5c3a4ad9986e4136b085cfb377717bfe",
       "version_major": 2,
       "version_minor": 0
      },
      "text/plain": [
       "Batches:   0%|          | 0/1 [00:00<?, ?it/s]"
      ]
     },
     "metadata": {},
     "output_type": "display_data"
    },
    {
     "data": {
      "application/vnd.jupyter.widget-view+json": {
       "model_id": "ff39cdd1d0d347d3bfbadfaff69c8f3b",
       "version_major": 2,
       "version_minor": 0
      },
      "text/plain": [
       "Batches:   0%|          | 0/1 [00:00<?, ?it/s]"
      ]
     },
     "metadata": {},
     "output_type": "display_data"
    },
    {
     "data": {
      "application/vnd.jupyter.widget-view+json": {
       "model_id": "39bf1d2b17ff4184afae60940ffaf46b",
       "version_major": 2,
       "version_minor": 0
      },
      "text/plain": [
       "Batches:   0%|          | 0/1 [00:00<?, ?it/s]"
      ]
     },
     "metadata": {},
     "output_type": "display_data"
    },
    {
     "data": {
      "application/vnd.jupyter.widget-view+json": {
       "model_id": "473842feeb5844fd8c10c521e057dfbd",
       "version_major": 2,
       "version_minor": 0
      },
      "text/plain": [
       "Batches:   0%|          | 0/1 [00:00<?, ?it/s]"
      ]
     },
     "metadata": {},
     "output_type": "display_data"
    },
    {
     "data": {
      "application/vnd.jupyter.widget-view+json": {
       "model_id": "bb063def86e34d2e81ec048d7c84fc85",
       "version_major": 2,
       "version_minor": 0
      },
      "text/plain": [
       "Batches:   0%|          | 0/1 [00:00<?, ?it/s]"
      ]
     },
     "metadata": {},
     "output_type": "display_data"
    },
    {
     "data": {
      "application/vnd.jupyter.widget-view+json": {
       "model_id": "f1ecf637dd8646e79457931cb37c747b",
       "version_major": 2,
       "version_minor": 0
      },
      "text/plain": [
       "Batches:   0%|          | 0/1 [00:00<?, ?it/s]"
      ]
     },
     "metadata": {},
     "output_type": "display_data"
    },
    {
     "data": {
      "application/vnd.jupyter.widget-view+json": {
       "model_id": "47a8e37332cd433398b6866a3dd29edc",
       "version_major": 2,
       "version_minor": 0
      },
      "text/plain": [
       "Batches:   0%|          | 0/1 [00:00<?, ?it/s]"
      ]
     },
     "metadata": {},
     "output_type": "display_data"
    },
    {
     "data": {
      "application/vnd.jupyter.widget-view+json": {
       "model_id": "f3f0d2ef5db7499bbe462e29279382fb",
       "version_major": 2,
       "version_minor": 0
      },
      "text/plain": [
       "Batches:   0%|          | 0/1 [00:00<?, ?it/s]"
      ]
     },
     "metadata": {},
     "output_type": "display_data"
    },
    {
     "data": {
      "application/vnd.jupyter.widget-view+json": {
       "model_id": "33dbd204b80a4a4c9f3adbb0fe6188e7",
       "version_major": 2,
       "version_minor": 0
      },
      "text/plain": [
       "Batches:   0%|          | 0/1 [00:00<?, ?it/s]"
      ]
     },
     "metadata": {},
     "output_type": "display_data"
    },
    {
     "data": {
      "application/vnd.jupyter.widget-view+json": {
       "model_id": "248c4c547b544b6e898c35bf2c73a682",
       "version_major": 2,
       "version_minor": 0
      },
      "text/plain": [
       "Batches:   0%|          | 0/1 [00:00<?, ?it/s]"
      ]
     },
     "metadata": {},
     "output_type": "display_data"
    },
    {
     "data": {
      "application/vnd.jupyter.widget-view+json": {
       "model_id": "0e6762f9d31a486f9390e7e5188e4d51",
       "version_major": 2,
       "version_minor": 0
      },
      "text/plain": [
       "Batches:   0%|          | 0/1 [00:00<?, ?it/s]"
      ]
     },
     "metadata": {},
     "output_type": "display_data"
    },
    {
     "data": {
      "application/vnd.jupyter.widget-view+json": {
       "model_id": "372f9b29a24849d0b97af29cd581786e",
       "version_major": 2,
       "version_minor": 0
      },
      "text/plain": [
       "Batches:   0%|          | 0/1 [00:00<?, ?it/s]"
      ]
     },
     "metadata": {},
     "output_type": "display_data"
    },
    {
     "data": {
      "application/vnd.jupyter.widget-view+json": {
       "model_id": "aa32012d1d8e4f6fbfc0db235586808e",
       "version_major": 2,
       "version_minor": 0
      },
      "text/plain": [
       "Batches:   0%|          | 0/1 [00:00<?, ?it/s]"
      ]
     },
     "metadata": {},
     "output_type": "display_data"
    },
    {
     "data": {
      "application/vnd.jupyter.widget-view+json": {
       "model_id": "0077912735794e7683667871ca89faf4",
       "version_major": 2,
       "version_minor": 0
      },
      "text/plain": [
       "Batches:   0%|          | 0/1 [00:00<?, ?it/s]"
      ]
     },
     "metadata": {},
     "output_type": "display_data"
    },
    {
     "data": {
      "application/vnd.jupyter.widget-view+json": {
       "model_id": "d184880074894e7d9b1dfd3cf00b17c2",
       "version_major": 2,
       "version_minor": 0
      },
      "text/plain": [
       "Batches:   0%|          | 0/1 [00:00<?, ?it/s]"
      ]
     },
     "metadata": {},
     "output_type": "display_data"
    },
    {
     "data": {
      "application/vnd.jupyter.widget-view+json": {
       "model_id": "e1b6a3639d4047d3b9d291b77d39e085",
       "version_major": 2,
       "version_minor": 0
      },
      "text/plain": [
       "Batches:   0%|          | 0/1 [00:00<?, ?it/s]"
      ]
     },
     "metadata": {},
     "output_type": "display_data"
    },
    {
     "data": {
      "application/vnd.jupyter.widget-view+json": {
       "model_id": "4bd14a18989f4a53a9d176172dfea954",
       "version_major": 2,
       "version_minor": 0
      },
      "text/plain": [
       "Batches:   0%|          | 0/1 [00:00<?, ?it/s]"
      ]
     },
     "metadata": {},
     "output_type": "display_data"
    },
    {
     "data": {
      "application/vnd.jupyter.widget-view+json": {
       "model_id": "d8da79e759a64e55973355fa036ec2ab",
       "version_major": 2,
       "version_minor": 0
      },
      "text/plain": [
       "Batches:   0%|          | 0/1 [00:00<?, ?it/s]"
      ]
     },
     "metadata": {},
     "output_type": "display_data"
    },
    {
     "data": {
      "application/vnd.jupyter.widget-view+json": {
       "model_id": "ff2adac74d5d4ead8b68cc375c472578",
       "version_major": 2,
       "version_minor": 0
      },
      "text/plain": [
       "Batches:   0%|          | 0/1 [00:00<?, ?it/s]"
      ]
     },
     "metadata": {},
     "output_type": "display_data"
    },
    {
     "data": {
      "application/vnd.jupyter.widget-view+json": {
       "model_id": "181bf4f4d9f14a41a28640ec0697581d",
       "version_major": 2,
       "version_minor": 0
      },
      "text/plain": [
       "Batches:   0%|          | 0/1 [00:00<?, ?it/s]"
      ]
     },
     "metadata": {},
     "output_type": "display_data"
    },
    {
     "data": {
      "application/vnd.jupyter.widget-view+json": {
       "model_id": "14b4637a21ab43e2989dac1f327afaf0",
       "version_major": 2,
       "version_minor": 0
      },
      "text/plain": [
       "Batches:   0%|          | 0/1 [00:00<?, ?it/s]"
      ]
     },
     "metadata": {},
     "output_type": "display_data"
    },
    {
     "data": {
      "application/vnd.jupyter.widget-view+json": {
       "model_id": "75e7ff0d74b04cbd8ef96c55c958b8ee",
       "version_major": 2,
       "version_minor": 0
      },
      "text/plain": [
       "Batches:   0%|          | 0/1 [00:00<?, ?it/s]"
      ]
     },
     "metadata": {},
     "output_type": "display_data"
    },
    {
     "data": {
      "application/vnd.jupyter.widget-view+json": {
       "model_id": "9bccd02840684a0eb060667fa46d9826",
       "version_major": 2,
       "version_minor": 0
      },
      "text/plain": [
       "Batches:   0%|          | 0/1 [00:00<?, ?it/s]"
      ]
     },
     "metadata": {},
     "output_type": "display_data"
    },
    {
     "data": {
      "application/vnd.jupyter.widget-view+json": {
       "model_id": "bb18e2f8c5f0427391bfe5b1944a5c51",
       "version_major": 2,
       "version_minor": 0
      },
      "text/plain": [
       "Batches:   0%|          | 0/1 [00:00<?, ?it/s]"
      ]
     },
     "metadata": {},
     "output_type": "display_data"
    },
    {
     "data": {
      "application/vnd.jupyter.widget-view+json": {
       "model_id": "fa9a0594d5484fc6aabf0489b6b8754d",
       "version_major": 2,
       "version_minor": 0
      },
      "text/plain": [
       "Batches:   0%|          | 0/1 [00:00<?, ?it/s]"
      ]
     },
     "metadata": {},
     "output_type": "display_data"
    },
    {
     "data": {
      "application/vnd.jupyter.widget-view+json": {
       "model_id": "b695f0cf3cab4a1d80c5b2790a6b9556",
       "version_major": 2,
       "version_minor": 0
      },
      "text/plain": [
       "Batches:   0%|          | 0/1 [00:00<?, ?it/s]"
      ]
     },
     "metadata": {},
     "output_type": "display_data"
    },
    {
     "data": {
      "application/vnd.jupyter.widget-view+json": {
       "model_id": "0fb4f5ae660847209010911c6d9ceb47",
       "version_major": 2,
       "version_minor": 0
      },
      "text/plain": [
       "Batches:   0%|          | 0/1 [00:00<?, ?it/s]"
      ]
     },
     "metadata": {},
     "output_type": "display_data"
    },
    {
     "data": {
      "application/vnd.jupyter.widget-view+json": {
       "model_id": "1cf6736fbacf43d7bbf07f956f44cd62",
       "version_major": 2,
       "version_minor": 0
      },
      "text/plain": [
       "Batches:   0%|          | 0/1 [00:00<?, ?it/s]"
      ]
     },
     "metadata": {},
     "output_type": "display_data"
    },
    {
     "data": {
      "application/vnd.jupyter.widget-view+json": {
       "model_id": "a57e37faab964fab89cd563cd1efb700",
       "version_major": 2,
       "version_minor": 0
      },
      "text/plain": [
       "Batches:   0%|          | 0/1 [00:00<?, ?it/s]"
      ]
     },
     "metadata": {},
     "output_type": "display_data"
    },
    {
     "data": {
      "application/vnd.jupyter.widget-view+json": {
       "model_id": "c534d41c655b4f22a10362e11a3a37bf",
       "version_major": 2,
       "version_minor": 0
      },
      "text/plain": [
       "Batches:   0%|          | 0/1 [00:00<?, ?it/s]"
      ]
     },
     "metadata": {},
     "output_type": "display_data"
    },
    {
     "data": {
      "application/vnd.jupyter.widget-view+json": {
       "model_id": "7d41d018ca1a4327aa497fcab2727027",
       "version_major": 2,
       "version_minor": 0
      },
      "text/plain": [
       "Batches:   0%|          | 0/1 [00:00<?, ?it/s]"
      ]
     },
     "metadata": {},
     "output_type": "display_data"
    },
    {
     "data": {
      "application/vnd.jupyter.widget-view+json": {
       "model_id": "48fa69af8dd541e18b4abf7b002d3203",
       "version_major": 2,
       "version_minor": 0
      },
      "text/plain": [
       "Batches:   0%|          | 0/1 [00:00<?, ?it/s]"
      ]
     },
     "metadata": {},
     "output_type": "display_data"
    },
    {
     "data": {
      "application/vnd.jupyter.widget-view+json": {
       "model_id": "3c50d1c6341b4d64a01e0dc755325e01",
       "version_major": 2,
       "version_minor": 0
      },
      "text/plain": [
       "Batches:   0%|          | 0/1 [00:00<?, ?it/s]"
      ]
     },
     "metadata": {},
     "output_type": "display_data"
    },
    {
     "data": {
      "application/vnd.jupyter.widget-view+json": {
       "model_id": "56ad581404954e09b51680b001c74f42",
       "version_major": 2,
       "version_minor": 0
      },
      "text/plain": [
       "Batches:   0%|          | 0/1 [00:00<?, ?it/s]"
      ]
     },
     "metadata": {},
     "output_type": "display_data"
    },
    {
     "data": {
      "application/vnd.jupyter.widget-view+json": {
       "model_id": "22c71a1e850c41bc9d0f7b55f6699149",
       "version_major": 2,
       "version_minor": 0
      },
      "text/plain": [
       "Batches:   0%|          | 0/1 [00:00<?, ?it/s]"
      ]
     },
     "metadata": {},
     "output_type": "display_data"
    },
    {
     "data": {
      "application/vnd.jupyter.widget-view+json": {
       "model_id": "1af307271c604d36bb2b7e6b6504bbae",
       "version_major": 2,
       "version_minor": 0
      },
      "text/plain": [
       "Batches:   0%|          | 0/1 [00:00<?, ?it/s]"
      ]
     },
     "metadata": {},
     "output_type": "display_data"
    },
    {
     "name": "stdout",
     "output_type": "stream",
     "text": [
      "🔄 Progress: 60% (3/5) - gai-eng_item004\n",
      "📄 Extracting content from: gai-eng_item004\n",
      "  ✅ Extracted: 7 sections, 56 paragraphs\n",
      "  📊 Document type: Blog post\n",
      "  🎯 Special elements: pull_quotes\n"
     ]
    },
    {
     "data": {
      "application/vnd.jupyter.widget-view+json": {
       "model_id": "0fd47099e26e4ca4befedf0ad25cb550",
       "version_major": 2,
       "version_minor": 0
      },
      "text/plain": [
       "Batches:   0%|          | 0/1 [00:00<?, ?it/s]"
      ]
     },
     "metadata": {},
     "output_type": "display_data"
    },
    {
     "data": {
      "application/vnd.jupyter.widget-view+json": {
       "model_id": "b03899f47ad04746a8f5356b65e6968d",
       "version_major": 2,
       "version_minor": 0
      },
      "text/plain": [
       "Batches:   0%|          | 0/1 [00:00<?, ?it/s]"
      ]
     },
     "metadata": {},
     "output_type": "display_data"
    },
    {
     "data": {
      "application/vnd.jupyter.widget-view+json": {
       "model_id": "a2ba847298ac402b9a50cf68c70ea382",
       "version_major": 2,
       "version_minor": 0
      },
      "text/plain": [
       "Batches:   0%|          | 0/1 [00:00<?, ?it/s]"
      ]
     },
     "metadata": {},
     "output_type": "display_data"
    },
    {
     "data": {
      "application/vnd.jupyter.widget-view+json": {
       "model_id": "2f316136a1fa403a91ad0b9327fbf205",
       "version_major": 2,
       "version_minor": 0
      },
      "text/plain": [
       "Batches:   0%|          | 0/1 [00:00<?, ?it/s]"
      ]
     },
     "metadata": {},
     "output_type": "display_data"
    },
    {
     "data": {
      "application/vnd.jupyter.widget-view+json": {
       "model_id": "6df3696c3cca45778b2d75d59916f1c8",
       "version_major": 2,
       "version_minor": 0
      },
      "text/plain": [
       "Batches:   0%|          | 0/1 [00:00<?, ?it/s]"
      ]
     },
     "metadata": {},
     "output_type": "display_data"
    },
    {
     "data": {
      "application/vnd.jupyter.widget-view+json": {
       "model_id": "12b3584c09ea42a198f6aa57085094f8",
       "version_major": 2,
       "version_minor": 0
      },
      "text/plain": [
       "Batches:   0%|          | 0/1 [00:00<?, ?it/s]"
      ]
     },
     "metadata": {},
     "output_type": "display_data"
    },
    {
     "data": {
      "application/vnd.jupyter.widget-view+json": {
       "model_id": "5afc36e399fe416cb7aed5bc60abebd0",
       "version_major": 2,
       "version_minor": 0
      },
      "text/plain": [
       "Batches:   0%|          | 0/1 [00:00<?, ?it/s]"
      ]
     },
     "metadata": {},
     "output_type": "display_data"
    },
    {
     "data": {
      "application/vnd.jupyter.widget-view+json": {
       "model_id": "35b9b76c5d204517a99816ba289fc0cb",
       "version_major": 2,
       "version_minor": 0
      },
      "text/plain": [
       "Batches:   0%|          | 0/1 [00:00<?, ?it/s]"
      ]
     },
     "metadata": {},
     "output_type": "display_data"
    },
    {
     "data": {
      "application/vnd.jupyter.widget-view+json": {
       "model_id": "165b61ae3775433eb0324ecbb0c2721b",
       "version_major": 2,
       "version_minor": 0
      },
      "text/plain": [
       "Batches:   0%|          | 0/1 [00:00<?, ?it/s]"
      ]
     },
     "metadata": {},
     "output_type": "display_data"
    },
    {
     "data": {
      "application/vnd.jupyter.widget-view+json": {
       "model_id": "abe258b4d96c49fb97bf7d67fbb4e50d",
       "version_major": 2,
       "version_minor": 0
      },
      "text/plain": [
       "Batches:   0%|          | 0/1 [00:00<?, ?it/s]"
      ]
     },
     "metadata": {},
     "output_type": "display_data"
    },
    {
     "data": {
      "application/vnd.jupyter.widget-view+json": {
       "model_id": "c0731d8aa6794387b438258800c2a49e",
       "version_major": 2,
       "version_minor": 0
      },
      "text/plain": [
       "Batches:   0%|          | 0/1 [00:00<?, ?it/s]"
      ]
     },
     "metadata": {},
     "output_type": "display_data"
    },
    {
     "data": {
      "application/vnd.jupyter.widget-view+json": {
       "model_id": "80cf5d2d07cc424dbebc62a02746dd89",
       "version_major": 2,
       "version_minor": 0
      },
      "text/plain": [
       "Batches:   0%|          | 0/1 [00:00<?, ?it/s]"
      ]
     },
     "metadata": {},
     "output_type": "display_data"
    },
    {
     "data": {
      "application/vnd.jupyter.widget-view+json": {
       "model_id": "eb80cbc2e398423cb6014cfb86360d91",
       "version_major": 2,
       "version_minor": 0
      },
      "text/plain": [
       "Batches:   0%|          | 0/1 [00:00<?, ?it/s]"
      ]
     },
     "metadata": {},
     "output_type": "display_data"
    },
    {
     "data": {
      "application/vnd.jupyter.widget-view+json": {
       "model_id": "bf9a26a739724497aae4ca05b838b636",
       "version_major": 2,
       "version_minor": 0
      },
      "text/plain": [
       "Batches:   0%|          | 0/1 [00:00<?, ?it/s]"
      ]
     },
     "metadata": {},
     "output_type": "display_data"
    },
    {
     "data": {
      "application/vnd.jupyter.widget-view+json": {
       "model_id": "f1a72485759b4355bab624de8f21fd7e",
       "version_major": 2,
       "version_minor": 0
      },
      "text/plain": [
       "Batches:   0%|          | 0/1 [00:00<?, ?it/s]"
      ]
     },
     "metadata": {},
     "output_type": "display_data"
    },
    {
     "data": {
      "application/vnd.jupyter.widget-view+json": {
       "model_id": "fe9eea7d57b14345a9bc529cd4176ac6",
       "version_major": 2,
       "version_minor": 0
      },
      "text/plain": [
       "Batches:   0%|          | 0/1 [00:00<?, ?it/s]"
      ]
     },
     "metadata": {},
     "output_type": "display_data"
    },
    {
     "data": {
      "application/vnd.jupyter.widget-view+json": {
       "model_id": "204f7c04ade946e79917465273434622",
       "version_major": 2,
       "version_minor": 0
      },
      "text/plain": [
       "Batches:   0%|          | 0/1 [00:00<?, ?it/s]"
      ]
     },
     "metadata": {},
     "output_type": "display_data"
    },
    {
     "data": {
      "application/vnd.jupyter.widget-view+json": {
       "model_id": "94af3018dd8e475ab53d4483f1f29af0",
       "version_major": 2,
       "version_minor": 0
      },
      "text/plain": [
       "Batches:   0%|          | 0/1 [00:00<?, ?it/s]"
      ]
     },
     "metadata": {},
     "output_type": "display_data"
    },
    {
     "data": {
      "application/vnd.jupyter.widget-view+json": {
       "model_id": "f31229458afa4cd2959d880c8b781073",
       "version_major": 2,
       "version_minor": 0
      },
      "text/plain": [
       "Batches:   0%|          | 0/1 [00:00<?, ?it/s]"
      ]
     },
     "metadata": {},
     "output_type": "display_data"
    },
    {
     "data": {
      "application/vnd.jupyter.widget-view+json": {
       "model_id": "8452a99fce254c55875a921cdfa44731",
       "version_major": 2,
       "version_minor": 0
      },
      "text/plain": [
       "Batches:   0%|          | 0/1 [00:00<?, ?it/s]"
      ]
     },
     "metadata": {},
     "output_type": "display_data"
    },
    {
     "data": {
      "application/vnd.jupyter.widget-view+json": {
       "model_id": "b687a38377ec4fd6a6d8730ad73b1f87",
       "version_major": 2,
       "version_minor": 0
      },
      "text/plain": [
       "Batches:   0%|          | 0/1 [00:00<?, ?it/s]"
      ]
     },
     "metadata": {},
     "output_type": "display_data"
    },
    {
     "data": {
      "application/vnd.jupyter.widget-view+json": {
       "model_id": "3f69f758b5b34490ba2d30d0a028a5c6",
       "version_major": 2,
       "version_minor": 0
      },
      "text/plain": [
       "Batches:   0%|          | 0/1 [00:00<?, ?it/s]"
      ]
     },
     "metadata": {},
     "output_type": "display_data"
    },
    {
     "data": {
      "application/vnd.jupyter.widget-view+json": {
       "model_id": "2f5925bbc0614b3e9dfbde570183e8d2",
       "version_major": 2,
       "version_minor": 0
      },
      "text/plain": [
       "Batches:   0%|          | 0/1 [00:00<?, ?it/s]"
      ]
     },
     "metadata": {},
     "output_type": "display_data"
    },
    {
     "data": {
      "application/vnd.jupyter.widget-view+json": {
       "model_id": "ec28ba2b7fd34b478df7e7d8076dc168",
       "version_major": 2,
       "version_minor": 0
      },
      "text/plain": [
       "Batches:   0%|          | 0/1 [00:00<?, ?it/s]"
      ]
     },
     "metadata": {},
     "output_type": "display_data"
    },
    {
     "data": {
      "application/vnd.jupyter.widget-view+json": {
       "model_id": "1e0f2dff3c8b4788ad1a9337b1d8164a",
       "version_major": 2,
       "version_minor": 0
      },
      "text/plain": [
       "Batches:   0%|          | 0/1 [00:00<?, ?it/s]"
      ]
     },
     "metadata": {},
     "output_type": "display_data"
    },
    {
     "data": {
      "application/vnd.jupyter.widget-view+json": {
       "model_id": "e8bc6a8e65614a66a9f9be255d719809",
       "version_major": 2,
       "version_minor": 0
      },
      "text/plain": [
       "Batches:   0%|          | 0/1 [00:00<?, ?it/s]"
      ]
     },
     "metadata": {},
     "output_type": "display_data"
    },
    {
     "data": {
      "application/vnd.jupyter.widget-view+json": {
       "model_id": "8731351575a14d5dba931a140bfd98a5",
       "version_major": 2,
       "version_minor": 0
      },
      "text/plain": [
       "Batches:   0%|          | 0/1 [00:00<?, ?it/s]"
      ]
     },
     "metadata": {},
     "output_type": "display_data"
    },
    {
     "data": {
      "application/vnd.jupyter.widget-view+json": {
       "model_id": "16dbb0689cee4880b6f4058854b8906c",
       "version_major": 2,
       "version_minor": 0
      },
      "text/plain": [
       "Batches:   0%|          | 0/1 [00:00<?, ?it/s]"
      ]
     },
     "metadata": {},
     "output_type": "display_data"
    },
    {
     "data": {
      "application/vnd.jupyter.widget-view+json": {
       "model_id": "8110cb88156b4d468a79dcb97d4bb60b",
       "version_major": 2,
       "version_minor": 0
      },
      "text/plain": [
       "Batches:   0%|          | 0/1 [00:00<?, ?it/s]"
      ]
     },
     "metadata": {},
     "output_type": "display_data"
    },
    {
     "data": {
      "application/vnd.jupyter.widget-view+json": {
       "model_id": "72eba93a21534873ad329ec60f0a89ba",
       "version_major": 2,
       "version_minor": 0
      },
      "text/plain": [
       "Batches:   0%|          | 0/1 [00:00<?, ?it/s]"
      ]
     },
     "metadata": {},
     "output_type": "display_data"
    },
    {
     "data": {
      "application/vnd.jupyter.widget-view+json": {
       "model_id": "dac51a2b866948c39c904239eedb7a64",
       "version_major": 2,
       "version_minor": 0
      },
      "text/plain": [
       "Batches:   0%|          | 0/1 [00:00<?, ?it/s]"
      ]
     },
     "metadata": {},
     "output_type": "display_data"
    },
    {
     "data": {
      "application/vnd.jupyter.widget-view+json": {
       "model_id": "42c207b946e54b7ab0a07a6971c7d14d",
       "version_major": 2,
       "version_minor": 0
      },
      "text/plain": [
       "Batches:   0%|          | 0/1 [00:00<?, ?it/s]"
      ]
     },
     "metadata": {},
     "output_type": "display_data"
    },
    {
     "data": {
      "application/vnd.jupyter.widget-view+json": {
       "model_id": "9164e986a9b7425fba0e879d353b461e",
       "version_major": 2,
       "version_minor": 0
      },
      "text/plain": [
       "Batches:   0%|          | 0/1 [00:00<?, ?it/s]"
      ]
     },
     "metadata": {},
     "output_type": "display_data"
    },
    {
     "data": {
      "application/vnd.jupyter.widget-view+json": {
       "model_id": "2af2c7b75022461189bb4fe13ef0f291",
       "version_major": 2,
       "version_minor": 0
      },
      "text/plain": [
       "Batches:   0%|          | 0/1 [00:00<?, ?it/s]"
      ]
     },
     "metadata": {},
     "output_type": "display_data"
    },
    {
     "data": {
      "application/vnd.jupyter.widget-view+json": {
       "model_id": "56deec98a32849dba966b7b2502a7a3a",
       "version_major": 2,
       "version_minor": 0
      },
      "text/plain": [
       "Batches:   0%|          | 0/1 [00:00<?, ?it/s]"
      ]
     },
     "metadata": {},
     "output_type": "display_data"
    },
    {
     "data": {
      "application/vnd.jupyter.widget-view+json": {
       "model_id": "566ac87a93b64eb3b50b9053d5d30d76",
       "version_major": 2,
       "version_minor": 0
      },
      "text/plain": [
       "Batches:   0%|          | 0/1 [00:00<?, ?it/s]"
      ]
     },
     "metadata": {},
     "output_type": "display_data"
    },
    {
     "data": {
      "application/vnd.jupyter.widget-view+json": {
       "model_id": "35b354104db74232ade4dba16f31bfa6",
       "version_major": 2,
       "version_minor": 0
      },
      "text/plain": [
       "Batches:   0%|          | 0/1 [00:00<?, ?it/s]"
      ]
     },
     "metadata": {},
     "output_type": "display_data"
    },
    {
     "data": {
      "application/vnd.jupyter.widget-view+json": {
       "model_id": "38da2057fbce43e1b25ea23574763e17",
       "version_major": 2,
       "version_minor": 0
      },
      "text/plain": [
       "Batches:   0%|          | 0/1 [00:00<?, ?it/s]"
      ]
     },
     "metadata": {},
     "output_type": "display_data"
    },
    {
     "data": {
      "application/vnd.jupyter.widget-view+json": {
       "model_id": "4ab7e14d5d2346b6b91e74bbb674244a",
       "version_major": 2,
       "version_minor": 0
      },
      "text/plain": [
       "Batches:   0%|          | 0/1 [00:00<?, ?it/s]"
      ]
     },
     "metadata": {},
     "output_type": "display_data"
    },
    {
     "data": {
      "application/vnd.jupyter.widget-view+json": {
       "model_id": "ca1f9d7a0de84f64b80f4d7e88358693",
       "version_major": 2,
       "version_minor": 0
      },
      "text/plain": [
       "Batches:   0%|          | 0/1 [00:00<?, ?it/s]"
      ]
     },
     "metadata": {},
     "output_type": "display_data"
    },
    {
     "data": {
      "application/vnd.jupyter.widget-view+json": {
       "model_id": "40755df6df1c460b96d19a25228c0822",
       "version_major": 2,
       "version_minor": 0
      },
      "text/plain": [
       "Batches:   0%|          | 0/1 [00:00<?, ?it/s]"
      ]
     },
     "metadata": {},
     "output_type": "display_data"
    },
    {
     "data": {
      "application/vnd.jupyter.widget-view+json": {
       "model_id": "5c3cdc62e06544f7bec7e4156fb6d2c9",
       "version_major": 2,
       "version_minor": 0
      },
      "text/plain": [
       "Batches:   0%|          | 0/1 [00:00<?, ?it/s]"
      ]
     },
     "metadata": {},
     "output_type": "display_data"
    },
    {
     "data": {
      "application/vnd.jupyter.widget-view+json": {
       "model_id": "aa77e6706fae455196916bd48b8e0d51",
       "version_major": 2,
       "version_minor": 0
      },
      "text/plain": [
       "Batches:   0%|          | 0/1 [00:00<?, ?it/s]"
      ]
     },
     "metadata": {},
     "output_type": "display_data"
    },
    {
     "data": {
      "application/vnd.jupyter.widget-view+json": {
       "model_id": "8e1c466f71db47b99476c72cb2625f28",
       "version_major": 2,
       "version_minor": 0
      },
      "text/plain": [
       "Batches:   0%|          | 0/1 [00:00<?, ?it/s]"
      ]
     },
     "metadata": {},
     "output_type": "display_data"
    },
    {
     "data": {
      "application/vnd.jupyter.widget-view+json": {
       "model_id": "38fb9badebc34fc2935cbb96e1f77ee6",
       "version_major": 2,
       "version_minor": 0
      },
      "text/plain": [
       "Batches:   0%|          | 0/1 [00:00<?, ?it/s]"
      ]
     },
     "metadata": {},
     "output_type": "display_data"
    },
    {
     "data": {
      "application/vnd.jupyter.widget-view+json": {
       "model_id": "859095210f7746e8a01611986011f71e",
       "version_major": 2,
       "version_minor": 0
      },
      "text/plain": [
       "Batches:   0%|          | 0/1 [00:00<?, ?it/s]"
      ]
     },
     "metadata": {},
     "output_type": "display_data"
    },
    {
     "data": {
      "application/vnd.jupyter.widget-view+json": {
       "model_id": "8e91329a2b16407ba8f2cde425da16fb",
       "version_major": 2,
       "version_minor": 0
      },
      "text/plain": [
       "Batches:   0%|          | 0/1 [00:00<?, ?it/s]"
      ]
     },
     "metadata": {},
     "output_type": "display_data"
    },
    {
     "data": {
      "application/vnd.jupyter.widget-view+json": {
       "model_id": "e9029a57f23d4de0834642e75eaccfc2",
       "version_major": 2,
       "version_minor": 0
      },
      "text/plain": [
       "Batches:   0%|          | 0/1 [00:00<?, ?it/s]"
      ]
     },
     "metadata": {},
     "output_type": "display_data"
    },
    {
     "data": {
      "application/vnd.jupyter.widget-view+json": {
       "model_id": "23b94f94e280410abfd78f578658d1be",
       "version_major": 2,
       "version_minor": 0
      },
      "text/plain": [
       "Batches:   0%|          | 0/1 [00:00<?, ?it/s]"
      ]
     },
     "metadata": {},
     "output_type": "display_data"
    },
    {
     "data": {
      "application/vnd.jupyter.widget-view+json": {
       "model_id": "8db27177c10543bd81a5e05aa5af0350",
       "version_major": 2,
       "version_minor": 0
      },
      "text/plain": [
       "Batches:   0%|          | 0/1 [00:00<?, ?it/s]"
      ]
     },
     "metadata": {},
     "output_type": "display_data"
    },
    {
     "data": {
      "application/vnd.jupyter.widget-view+json": {
       "model_id": "1197b89e3bba40fda5fcefe4e7047f72",
       "version_major": 2,
       "version_minor": 0
      },
      "text/plain": [
       "Batches:   0%|          | 0/1 [00:00<?, ?it/s]"
      ]
     },
     "metadata": {},
     "output_type": "display_data"
    },
    {
     "data": {
      "application/vnd.jupyter.widget-view+json": {
       "model_id": "f3613e6dc90549a3a0db534ea61d56f2",
       "version_major": 2,
       "version_minor": 0
      },
      "text/plain": [
       "Batches:   0%|          | 0/1 [00:00<?, ?it/s]"
      ]
     },
     "metadata": {},
     "output_type": "display_data"
    },
    {
     "data": {
      "application/vnd.jupyter.widget-view+json": {
       "model_id": "fee46a701677450bb20bcf5718abfbb5",
       "version_major": 2,
       "version_minor": 0
      },
      "text/plain": [
       "Batches:   0%|          | 0/1 [00:00<?, ?it/s]"
      ]
     },
     "metadata": {},
     "output_type": "display_data"
    },
    {
     "data": {
      "application/vnd.jupyter.widget-view+json": {
       "model_id": "0200c54e88f142609663b00e1e20834e",
       "version_major": 2,
       "version_minor": 0
      },
      "text/plain": [
       "Batches:   0%|          | 0/1 [00:00<?, ?it/s]"
      ]
     },
     "metadata": {},
     "output_type": "display_data"
    },
    {
     "data": {
      "application/vnd.jupyter.widget-view+json": {
       "model_id": "a165a64120af4948b25e136ceee318f2",
       "version_major": 2,
       "version_minor": 0
      },
      "text/plain": [
       "Batches:   0%|          | 0/1 [00:00<?, ?it/s]"
      ]
     },
     "metadata": {},
     "output_type": "display_data"
    },
    {
     "data": {
      "application/vnd.jupyter.widget-view+json": {
       "model_id": "edf661d63c3042df83ada777f9c4aeb4",
       "version_major": 2,
       "version_minor": 0
      },
      "text/plain": [
       "Batches:   0%|          | 0/1 [00:00<?, ?it/s]"
      ]
     },
     "metadata": {},
     "output_type": "display_data"
    },
    {
     "data": {
      "application/vnd.jupyter.widget-view+json": {
       "model_id": "a74e599387d2491d9923ff4537af0f33",
       "version_major": 2,
       "version_minor": 0
      },
      "text/plain": [
       "Batches:   0%|          | 0/1 [00:00<?, ?it/s]"
      ]
     },
     "metadata": {},
     "output_type": "display_data"
    },
    {
     "data": {
      "application/vnd.jupyter.widget-view+json": {
       "model_id": "4b808eb7650b43afa4dbf6bf5262a176",
       "version_major": 2,
       "version_minor": 0
      },
      "text/plain": [
       "Batches:   0%|          | 0/1 [00:00<?, ?it/s]"
      ]
     },
     "metadata": {},
     "output_type": "display_data"
    },
    {
     "data": {
      "application/vnd.jupyter.widget-view+json": {
       "model_id": "bb9fd702ee3c4ecd922ceff721b4e55e",
       "version_major": 2,
       "version_minor": 0
      },
      "text/plain": [
       "Batches:   0%|          | 0/1 [00:00<?, ?it/s]"
      ]
     },
     "metadata": {},
     "output_type": "display_data"
    },
    {
     "data": {
      "application/vnd.jupyter.widget-view+json": {
       "model_id": "0c018ea854bb49188c557866b28b6ffc",
       "version_major": 2,
       "version_minor": 0
      },
      "text/plain": [
       "Batches:   0%|          | 0/1 [00:00<?, ?it/s]"
      ]
     },
     "metadata": {},
     "output_type": "display_data"
    },
    {
     "data": {
      "application/vnd.jupyter.widget-view+json": {
       "model_id": "b6ac6d2f47284b7b9ccf0633490dc581",
       "version_major": 2,
       "version_minor": 0
      },
      "text/plain": [
       "Batches:   0%|          | 0/1 [00:00<?, ?it/s]"
      ]
     },
     "metadata": {},
     "output_type": "display_data"
    },
    {
     "data": {
      "application/vnd.jupyter.widget-view+json": {
       "model_id": "cd87d78fc92b4f7799f9a536e0f6d9da",
       "version_major": 2,
       "version_minor": 0
      },
      "text/plain": [
       "Batches:   0%|          | 0/1 [00:00<?, ?it/s]"
      ]
     },
     "metadata": {},
     "output_type": "display_data"
    },
    {
     "data": {
      "application/vnd.jupyter.widget-view+json": {
       "model_id": "5baa6dbb25b540caa8027d4a1303083f",
       "version_major": 2,
       "version_minor": 0
      },
      "text/plain": [
       "Batches:   0%|          | 0/1 [00:00<?, ?it/s]"
      ]
     },
     "metadata": {},
     "output_type": "display_data"
    },
    {
     "data": {
      "application/vnd.jupyter.widget-view+json": {
       "model_id": "03201ea29aca4e78ac0acf29359d9310",
       "version_major": 2,
       "version_minor": 0
      },
      "text/plain": [
       "Batches:   0%|          | 0/1 [00:00<?, ?it/s]"
      ]
     },
     "metadata": {},
     "output_type": "display_data"
    },
    {
     "name": "stdout",
     "output_type": "stream",
     "text": [
      "🔄 Progress: 80% (4/5) - gai-esp_item001\n",
      "📄 Extracting content from: gai-esp_item001\n",
      "  ✅ Extracted: 23 sections, 182 paragraphs\n",
      "  📊 Document type: Policy document\n",
      "  🎯 Special elements: terms, references\n"
     ]
    },
    {
     "data": {
      "application/vnd.jupyter.widget-view+json": {
       "model_id": "b0814f51df3b42aa8ab0583e09a9ebdd",
       "version_major": 2,
       "version_minor": 0
      },
      "text/plain": [
       "Batches:   0%|          | 0/1 [00:00<?, ?it/s]"
      ]
     },
     "metadata": {},
     "output_type": "display_data"
    },
    {
     "data": {
      "application/vnd.jupyter.widget-view+json": {
       "model_id": "1e3c4014659b4cf3bfdb1e251c0a3d94",
       "version_major": 2,
       "version_minor": 0
      },
      "text/plain": [
       "Batches:   0%|          | 0/1 [00:00<?, ?it/s]"
      ]
     },
     "metadata": {},
     "output_type": "display_data"
    },
    {
     "data": {
      "application/vnd.jupyter.widget-view+json": {
       "model_id": "04c3d9da774e4d9c9fb3c6a6eeba25dc",
       "version_major": 2,
       "version_minor": 0
      },
      "text/plain": [
       "Batches:   0%|          | 0/1 [00:00<?, ?it/s]"
      ]
     },
     "metadata": {},
     "output_type": "display_data"
    },
    {
     "data": {
      "application/vnd.jupyter.widget-view+json": {
       "model_id": "58b83ee5e5fe407eb5104cbd2240df71",
       "version_major": 2,
       "version_minor": 0
      },
      "text/plain": [
       "Batches:   0%|          | 0/1 [00:00<?, ?it/s]"
      ]
     },
     "metadata": {},
     "output_type": "display_data"
    },
    {
     "data": {
      "application/vnd.jupyter.widget-view+json": {
       "model_id": "2228c54d1dcc451b91a558d42330f7b3",
       "version_major": 2,
       "version_minor": 0
      },
      "text/plain": [
       "Batches:   0%|          | 0/1 [00:00<?, ?it/s]"
      ]
     },
     "metadata": {},
     "output_type": "display_data"
    },
    {
     "data": {
      "application/vnd.jupyter.widget-view+json": {
       "model_id": "3d69ed98200c4f71b96dc12385766d4c",
       "version_major": 2,
       "version_minor": 0
      },
      "text/plain": [
       "Batches:   0%|          | 0/1 [00:00<?, ?it/s]"
      ]
     },
     "metadata": {},
     "output_type": "display_data"
    },
    {
     "data": {
      "application/vnd.jupyter.widget-view+json": {
       "model_id": "0209b3b3175c4beb84df0df650eb7ad1",
       "version_major": 2,
       "version_minor": 0
      },
      "text/plain": [
       "Batches:   0%|          | 0/1 [00:00<?, ?it/s]"
      ]
     },
     "metadata": {},
     "output_type": "display_data"
    },
    {
     "data": {
      "application/vnd.jupyter.widget-view+json": {
       "model_id": "2830d5f457ac4772ba3148a00afd608b",
       "version_major": 2,
       "version_minor": 0
      },
      "text/plain": [
       "Batches:   0%|          | 0/1 [00:00<?, ?it/s]"
      ]
     },
     "metadata": {},
     "output_type": "display_data"
    },
    {
     "data": {
      "application/vnd.jupyter.widget-view+json": {
       "model_id": "0c37296a5d6344c9b729801142eee7e2",
       "version_major": 2,
       "version_minor": 0
      },
      "text/plain": [
       "Batches:   0%|          | 0/1 [00:00<?, ?it/s]"
      ]
     },
     "metadata": {},
     "output_type": "display_data"
    },
    {
     "data": {
      "application/vnd.jupyter.widget-view+json": {
       "model_id": "4662ce50f7fc4625bb82221caef84c10",
       "version_major": 2,
       "version_minor": 0
      },
      "text/plain": [
       "Batches:   0%|          | 0/1 [00:00<?, ?it/s]"
      ]
     },
     "metadata": {},
     "output_type": "display_data"
    },
    {
     "data": {
      "application/vnd.jupyter.widget-view+json": {
       "model_id": "afd6d0ac49ad4b348e92105e1a76cdc3",
       "version_major": 2,
       "version_minor": 0
      },
      "text/plain": [
       "Batches:   0%|          | 0/1 [00:00<?, ?it/s]"
      ]
     },
     "metadata": {},
     "output_type": "display_data"
    },
    {
     "data": {
      "application/vnd.jupyter.widget-view+json": {
       "model_id": "dea8b295c689485db1d61a661a362b6e",
       "version_major": 2,
       "version_minor": 0
      },
      "text/plain": [
       "Batches:   0%|          | 0/1 [00:00<?, ?it/s]"
      ]
     },
     "metadata": {},
     "output_type": "display_data"
    },
    {
     "data": {
      "application/vnd.jupyter.widget-view+json": {
       "model_id": "4ec6a4b00c1d4c9a887aa742f69b4313",
       "version_major": 2,
       "version_minor": 0
      },
      "text/plain": [
       "Batches:   0%|          | 0/1 [00:00<?, ?it/s]"
      ]
     },
     "metadata": {},
     "output_type": "display_data"
    },
    {
     "data": {
      "application/vnd.jupyter.widget-view+json": {
       "model_id": "721f389c1cf744439103032946e69942",
       "version_major": 2,
       "version_minor": 0
      },
      "text/plain": [
       "Batches:   0%|          | 0/1 [00:00<?, ?it/s]"
      ]
     },
     "metadata": {},
     "output_type": "display_data"
    },
    {
     "data": {
      "application/vnd.jupyter.widget-view+json": {
       "model_id": "6b5ccc3841f54fd0a72479a567c7da72",
       "version_major": 2,
       "version_minor": 0
      },
      "text/plain": [
       "Batches:   0%|          | 0/1 [00:00<?, ?it/s]"
      ]
     },
     "metadata": {},
     "output_type": "display_data"
    },
    {
     "data": {
      "application/vnd.jupyter.widget-view+json": {
       "model_id": "698d026f7fb54f768541c430ec321851",
       "version_major": 2,
       "version_minor": 0
      },
      "text/plain": [
       "Batches:   0%|          | 0/1 [00:00<?, ?it/s]"
      ]
     },
     "metadata": {},
     "output_type": "display_data"
    },
    {
     "data": {
      "application/vnd.jupyter.widget-view+json": {
       "model_id": "3bc116a8fea94358aba7948f601e89db",
       "version_major": 2,
       "version_minor": 0
      },
      "text/plain": [
       "Batches:   0%|          | 0/1 [00:00<?, ?it/s]"
      ]
     },
     "metadata": {},
     "output_type": "display_data"
    },
    {
     "data": {
      "application/vnd.jupyter.widget-view+json": {
       "model_id": "faf56a8b9d364ed691a76274ba007160",
       "version_major": 2,
       "version_minor": 0
      },
      "text/plain": [
       "Batches:   0%|          | 0/1 [00:00<?, ?it/s]"
      ]
     },
     "metadata": {},
     "output_type": "display_data"
    },
    {
     "data": {
      "application/vnd.jupyter.widget-view+json": {
       "model_id": "afd9fe4bd7164ac3a56a3095c765069a",
       "version_major": 2,
       "version_minor": 0
      },
      "text/plain": [
       "Batches:   0%|          | 0/1 [00:00<?, ?it/s]"
      ]
     },
     "metadata": {},
     "output_type": "display_data"
    },
    {
     "data": {
      "application/vnd.jupyter.widget-view+json": {
       "model_id": "35ea7de0dafd499582edeea6969ba21a",
       "version_major": 2,
       "version_minor": 0
      },
      "text/plain": [
       "Batches:   0%|          | 0/1 [00:00<?, ?it/s]"
      ]
     },
     "metadata": {},
     "output_type": "display_data"
    },
    {
     "data": {
      "application/vnd.jupyter.widget-view+json": {
       "model_id": "5589d15f96944425907140fadc53458d",
       "version_major": 2,
       "version_minor": 0
      },
      "text/plain": [
       "Batches:   0%|          | 0/1 [00:00<?, ?it/s]"
      ]
     },
     "metadata": {},
     "output_type": "display_data"
    },
    {
     "data": {
      "application/vnd.jupyter.widget-view+json": {
       "model_id": "515aae4f01ff493d9fb2e3d38b6ed0d8",
       "version_major": 2,
       "version_minor": 0
      },
      "text/plain": [
       "Batches:   0%|          | 0/1 [00:00<?, ?it/s]"
      ]
     },
     "metadata": {},
     "output_type": "display_data"
    },
    {
     "data": {
      "application/vnd.jupyter.widget-view+json": {
       "model_id": "ce8654e703a34f7f91be6cf2b3cb2a23",
       "version_major": 2,
       "version_minor": 0
      },
      "text/plain": [
       "Batches:   0%|          | 0/1 [00:00<?, ?it/s]"
      ]
     },
     "metadata": {},
     "output_type": "display_data"
    },
    {
     "data": {
      "application/vnd.jupyter.widget-view+json": {
       "model_id": "2c537b4a2686415e99b6c377814c8605",
       "version_major": 2,
       "version_minor": 0
      },
      "text/plain": [
       "Batches:   0%|          | 0/1 [00:00<?, ?it/s]"
      ]
     },
     "metadata": {},
     "output_type": "display_data"
    },
    {
     "data": {
      "application/vnd.jupyter.widget-view+json": {
       "model_id": "42b907956fe04ee19c73bbe47a4ade48",
       "version_major": 2,
       "version_minor": 0
      },
      "text/plain": [
       "Batches:   0%|          | 0/1 [00:00<?, ?it/s]"
      ]
     },
     "metadata": {},
     "output_type": "display_data"
    },
    {
     "data": {
      "application/vnd.jupyter.widget-view+json": {
       "model_id": "10586feb8d234b45b20a337eaf2fc21d",
       "version_major": 2,
       "version_minor": 0
      },
      "text/plain": [
       "Batches:   0%|          | 0/1 [00:00<?, ?it/s]"
      ]
     },
     "metadata": {},
     "output_type": "display_data"
    },
    {
     "data": {
      "application/vnd.jupyter.widget-view+json": {
       "model_id": "7f264ec4ded940a692ab5ff24041cec6",
       "version_major": 2,
       "version_minor": 0
      },
      "text/plain": [
       "Batches:   0%|          | 0/1 [00:00<?, ?it/s]"
      ]
     },
     "metadata": {},
     "output_type": "display_data"
    },
    {
     "data": {
      "application/vnd.jupyter.widget-view+json": {
       "model_id": "6e33dfac382948cab56d5c76136e7284",
       "version_major": 2,
       "version_minor": 0
      },
      "text/plain": [
       "Batches:   0%|          | 0/1 [00:00<?, ?it/s]"
      ]
     },
     "metadata": {},
     "output_type": "display_data"
    },
    {
     "data": {
      "application/vnd.jupyter.widget-view+json": {
       "model_id": "ca907a3499d54092afba9f4969878fd7",
       "version_major": 2,
       "version_minor": 0
      },
      "text/plain": [
       "Batches:   0%|          | 0/1 [00:00<?, ?it/s]"
      ]
     },
     "metadata": {},
     "output_type": "display_data"
    },
    {
     "data": {
      "application/vnd.jupyter.widget-view+json": {
       "model_id": "1f3066b21188455a98956dca0ceafd63",
       "version_major": 2,
       "version_minor": 0
      },
      "text/plain": [
       "Batches:   0%|          | 0/1 [00:00<?, ?it/s]"
      ]
     },
     "metadata": {},
     "output_type": "display_data"
    },
    {
     "data": {
      "application/vnd.jupyter.widget-view+json": {
       "model_id": "7bafda035cb34c5999205252a05ead4b",
       "version_major": 2,
       "version_minor": 0
      },
      "text/plain": [
       "Batches:   0%|          | 0/1 [00:00<?, ?it/s]"
      ]
     },
     "metadata": {},
     "output_type": "display_data"
    },
    {
     "data": {
      "application/vnd.jupyter.widget-view+json": {
       "model_id": "5bd0faacf26444b9849705daa3b0d13b",
       "version_major": 2,
       "version_minor": 0
      },
      "text/plain": [
       "Batches:   0%|          | 0/1 [00:00<?, ?it/s]"
      ]
     },
     "metadata": {},
     "output_type": "display_data"
    },
    {
     "data": {
      "application/vnd.jupyter.widget-view+json": {
       "model_id": "cd0e9d500c254a1cbd4d60b9003ee5b3",
       "version_major": 2,
       "version_minor": 0
      },
      "text/plain": [
       "Batches:   0%|          | 0/1 [00:00<?, ?it/s]"
      ]
     },
     "metadata": {},
     "output_type": "display_data"
    },
    {
     "data": {
      "application/vnd.jupyter.widget-view+json": {
       "model_id": "a37dca40b0cc4d9299d80b1421a711e0",
       "version_major": 2,
       "version_minor": 0
      },
      "text/plain": [
       "Batches:   0%|          | 0/1 [00:00<?, ?it/s]"
      ]
     },
     "metadata": {},
     "output_type": "display_data"
    },
    {
     "data": {
      "application/vnd.jupyter.widget-view+json": {
       "model_id": "22866329896f4451ab5bf09e6d3b6118",
       "version_major": 2,
       "version_minor": 0
      },
      "text/plain": [
       "Batches:   0%|          | 0/1 [00:00<?, ?it/s]"
      ]
     },
     "metadata": {},
     "output_type": "display_data"
    },
    {
     "data": {
      "application/vnd.jupyter.widget-view+json": {
       "model_id": "47340c05513449699a729f8da884d025",
       "version_major": 2,
       "version_minor": 0
      },
      "text/plain": [
       "Batches:   0%|          | 0/1 [00:00<?, ?it/s]"
      ]
     },
     "metadata": {},
     "output_type": "display_data"
    },
    {
     "data": {
      "application/vnd.jupyter.widget-view+json": {
       "model_id": "9e3ca7772b404281b100687522ce484a",
       "version_major": 2,
       "version_minor": 0
      },
      "text/plain": [
       "Batches:   0%|          | 0/1 [00:00<?, ?it/s]"
      ]
     },
     "metadata": {},
     "output_type": "display_data"
    },
    {
     "data": {
      "application/vnd.jupyter.widget-view+json": {
       "model_id": "07c26f5caf4946fb8923a8325a6cc309",
       "version_major": 2,
       "version_minor": 0
      },
      "text/plain": [
       "Batches:   0%|          | 0/1 [00:00<?, ?it/s]"
      ]
     },
     "metadata": {},
     "output_type": "display_data"
    },
    {
     "data": {
      "application/vnd.jupyter.widget-view+json": {
       "model_id": "e92ccc324e2a4b36ae99461fa3f7b7a7",
       "version_major": 2,
       "version_minor": 0
      },
      "text/plain": [
       "Batches:   0%|          | 0/1 [00:00<?, ?it/s]"
      ]
     },
     "metadata": {},
     "output_type": "display_data"
    },
    {
     "data": {
      "application/vnd.jupyter.widget-view+json": {
       "model_id": "5bf706b94b37432b934fd19bd37ce709",
       "version_major": 2,
       "version_minor": 0
      },
      "text/plain": [
       "Batches:   0%|          | 0/1 [00:00<?, ?it/s]"
      ]
     },
     "metadata": {},
     "output_type": "display_data"
    },
    {
     "data": {
      "application/vnd.jupyter.widget-view+json": {
       "model_id": "3c14e32388174c14a761aa2a7f310161",
       "version_major": 2,
       "version_minor": 0
      },
      "text/plain": [
       "Batches:   0%|          | 0/1 [00:00<?, ?it/s]"
      ]
     },
     "metadata": {},
     "output_type": "display_data"
    },
    {
     "data": {
      "application/vnd.jupyter.widget-view+json": {
       "model_id": "1f0eaa6a1da64632baa92f9fdd02584b",
       "version_major": 2,
       "version_minor": 0
      },
      "text/plain": [
       "Batches:   0%|          | 0/1 [00:00<?, ?it/s]"
      ]
     },
     "metadata": {},
     "output_type": "display_data"
    },
    {
     "data": {
      "application/vnd.jupyter.widget-view+json": {
       "model_id": "7dd1c882d809477a96d7e8a2df911556",
       "version_major": 2,
       "version_minor": 0
      },
      "text/plain": [
       "Batches:   0%|          | 0/1 [00:00<?, ?it/s]"
      ]
     },
     "metadata": {},
     "output_type": "display_data"
    },
    {
     "data": {
      "application/vnd.jupyter.widget-view+json": {
       "model_id": "fdf7502971cc49dd92c743aba5c4c93a",
       "version_major": 2,
       "version_minor": 0
      },
      "text/plain": [
       "Batches:   0%|          | 0/1 [00:00<?, ?it/s]"
      ]
     },
     "metadata": {},
     "output_type": "display_data"
    },
    {
     "data": {
      "application/vnd.jupyter.widget-view+json": {
       "model_id": "cc717c31ddcb4c5c8cdfa0930a815213",
       "version_major": 2,
       "version_minor": 0
      },
      "text/plain": [
       "Batches:   0%|          | 0/1 [00:00<?, ?it/s]"
      ]
     },
     "metadata": {},
     "output_type": "display_data"
    },
    {
     "data": {
      "application/vnd.jupyter.widget-view+json": {
       "model_id": "de2e53e2f667432e847315cc42c566ee",
       "version_major": 2,
       "version_minor": 0
      },
      "text/plain": [
       "Batches:   0%|          | 0/1 [00:00<?, ?it/s]"
      ]
     },
     "metadata": {},
     "output_type": "display_data"
    },
    {
     "data": {
      "application/vnd.jupyter.widget-view+json": {
       "model_id": "3bf257118dba4cbc81fd230504ec8efa",
       "version_major": 2,
       "version_minor": 0
      },
      "text/plain": [
       "Batches:   0%|          | 0/1 [00:00<?, ?it/s]"
      ]
     },
     "metadata": {},
     "output_type": "display_data"
    },
    {
     "data": {
      "application/vnd.jupyter.widget-view+json": {
       "model_id": "76c9681b6ce24b8d8aa08b9e2970dd0b",
       "version_major": 2,
       "version_minor": 0
      },
      "text/plain": [
       "Batches:   0%|          | 0/1 [00:00<?, ?it/s]"
      ]
     },
     "metadata": {},
     "output_type": "display_data"
    },
    {
     "data": {
      "application/vnd.jupyter.widget-view+json": {
       "model_id": "4907747995cf4c98a23c9e0852d9936c",
       "version_major": 2,
       "version_minor": 0
      },
      "text/plain": [
       "Batches:   0%|          | 0/1 [00:00<?, ?it/s]"
      ]
     },
     "metadata": {},
     "output_type": "display_data"
    },
    {
     "data": {
      "application/vnd.jupyter.widget-view+json": {
       "model_id": "500411dd5acf41e8a7239162f2e0ef89",
       "version_major": 2,
       "version_minor": 0
      },
      "text/plain": [
       "Batches:   0%|          | 0/1 [00:00<?, ?it/s]"
      ]
     },
     "metadata": {},
     "output_type": "display_data"
    },
    {
     "data": {
      "application/vnd.jupyter.widget-view+json": {
       "model_id": "46b1b73ff3504760b708f745bd773e41",
       "version_major": 2,
       "version_minor": 0
      },
      "text/plain": [
       "Batches:   0%|          | 0/1 [00:00<?, ?it/s]"
      ]
     },
     "metadata": {},
     "output_type": "display_data"
    },
    {
     "data": {
      "application/vnd.jupyter.widget-view+json": {
       "model_id": "c79a8508c0ac403db995f507f77b36fd",
       "version_major": 2,
       "version_minor": 0
      },
      "text/plain": [
       "Batches:   0%|          | 0/1 [00:00<?, ?it/s]"
      ]
     },
     "metadata": {},
     "output_type": "display_data"
    },
    {
     "data": {
      "application/vnd.jupyter.widget-view+json": {
       "model_id": "9f76f562abee4379840af6f53b8a3b49",
       "version_major": 2,
       "version_minor": 0
      },
      "text/plain": [
       "Batches:   0%|          | 0/1 [00:00<?, ?it/s]"
      ]
     },
     "metadata": {},
     "output_type": "display_data"
    },
    {
     "data": {
      "application/vnd.jupyter.widget-view+json": {
       "model_id": "c1fcb42e87a1455cbcd80cfad2cf8b57",
       "version_major": 2,
       "version_minor": 0
      },
      "text/plain": [
       "Batches:   0%|          | 0/1 [00:00<?, ?it/s]"
      ]
     },
     "metadata": {},
     "output_type": "display_data"
    },
    {
     "data": {
      "application/vnd.jupyter.widget-view+json": {
       "model_id": "bd37f8aa8ebe4a768c6cb125a2b03ccc",
       "version_major": 2,
       "version_minor": 0
      },
      "text/plain": [
       "Batches:   0%|          | 0/1 [00:00<?, ?it/s]"
      ]
     },
     "metadata": {},
     "output_type": "display_data"
    },
    {
     "data": {
      "application/vnd.jupyter.widget-view+json": {
       "model_id": "bc86c45045de445cb8761f16ad9fcc3e",
       "version_major": 2,
       "version_minor": 0
      },
      "text/plain": [
       "Batches:   0%|          | 0/1 [00:00<?, ?it/s]"
      ]
     },
     "metadata": {},
     "output_type": "display_data"
    },
    {
     "data": {
      "application/vnd.jupyter.widget-view+json": {
       "model_id": "4563a66ac3b043ed9d5e849e05e76342",
       "version_major": 2,
       "version_minor": 0
      },
      "text/plain": [
       "Batches:   0%|          | 0/1 [00:00<?, ?it/s]"
      ]
     },
     "metadata": {},
     "output_type": "display_data"
    },
    {
     "data": {
      "application/vnd.jupyter.widget-view+json": {
       "model_id": "a9462eecafe54b49bf69bc46f92c6d0f",
       "version_major": 2,
       "version_minor": 0
      },
      "text/plain": [
       "Batches:   0%|          | 0/1 [00:00<?, ?it/s]"
      ]
     },
     "metadata": {},
     "output_type": "display_data"
    },
    {
     "data": {
      "application/vnd.jupyter.widget-view+json": {
       "model_id": "bb6d664f386e4d1e9beabc2a42614058",
       "version_major": 2,
       "version_minor": 0
      },
      "text/plain": [
       "Batches:   0%|          | 0/1 [00:00<?, ?it/s]"
      ]
     },
     "metadata": {},
     "output_type": "display_data"
    },
    {
     "data": {
      "application/vnd.jupyter.widget-view+json": {
       "model_id": "745f3df390f54f3fbeaef0fe2be8c118",
       "version_major": 2,
       "version_minor": 0
      },
      "text/plain": [
       "Batches:   0%|          | 0/1 [00:00<?, ?it/s]"
      ]
     },
     "metadata": {},
     "output_type": "display_data"
    },
    {
     "data": {
      "application/vnd.jupyter.widget-view+json": {
       "model_id": "66ee71334ae94e91a92ceb55d2142435",
       "version_major": 2,
       "version_minor": 0
      },
      "text/plain": [
       "Batches:   0%|          | 0/1 [00:00<?, ?it/s]"
      ]
     },
     "metadata": {},
     "output_type": "display_data"
    },
    {
     "data": {
      "application/vnd.jupyter.widget-view+json": {
       "model_id": "125185d3494e43768f8312924f7aee6b",
       "version_major": 2,
       "version_minor": 0
      },
      "text/plain": [
       "Batches:   0%|          | 0/1 [00:00<?, ?it/s]"
      ]
     },
     "metadata": {},
     "output_type": "display_data"
    },
    {
     "data": {
      "application/vnd.jupyter.widget-view+json": {
       "model_id": "a392dbc6675b4831b694867744f3610b",
       "version_major": 2,
       "version_minor": 0
      },
      "text/plain": [
       "Batches:   0%|          | 0/1 [00:00<?, ?it/s]"
      ]
     },
     "metadata": {},
     "output_type": "display_data"
    },
    {
     "data": {
      "application/vnd.jupyter.widget-view+json": {
       "model_id": "b36afdc1733b41a7aba57ab0507e694a",
       "version_major": 2,
       "version_minor": 0
      },
      "text/plain": [
       "Batches:   0%|          | 0/1 [00:00<?, ?it/s]"
      ]
     },
     "metadata": {},
     "output_type": "display_data"
    },
    {
     "data": {
      "application/vnd.jupyter.widget-view+json": {
       "model_id": "eaf8ea0cdd3240b19ce98faf7c2c2e1b",
       "version_major": 2,
       "version_minor": 0
      },
      "text/plain": [
       "Batches:   0%|          | 0/1 [00:00<?, ?it/s]"
      ]
     },
     "metadata": {},
     "output_type": "display_data"
    },
    {
     "data": {
      "application/vnd.jupyter.widget-view+json": {
       "model_id": "d28962c8249f476db90103d89ae03e18",
       "version_major": 2,
       "version_minor": 0
      },
      "text/plain": [
       "Batches:   0%|          | 0/1 [00:00<?, ?it/s]"
      ]
     },
     "metadata": {},
     "output_type": "display_data"
    },
    {
     "data": {
      "application/vnd.jupyter.widget-view+json": {
       "model_id": "9cdf601084b844b0a925687806c43da5",
       "version_major": 2,
       "version_minor": 0
      },
      "text/plain": [
       "Batches:   0%|          | 0/1 [00:00<?, ?it/s]"
      ]
     },
     "metadata": {},
     "output_type": "display_data"
    },
    {
     "data": {
      "application/vnd.jupyter.widget-view+json": {
       "model_id": "07aab22bc0014031b21ebdc07a74e525",
       "version_major": 2,
       "version_minor": 0
      },
      "text/plain": [
       "Batches:   0%|          | 0/1 [00:00<?, ?it/s]"
      ]
     },
     "metadata": {},
     "output_type": "display_data"
    },
    {
     "data": {
      "application/vnd.jupyter.widget-view+json": {
       "model_id": "0fb341e5f2b14af3a4797a6524b3b3a7",
       "version_major": 2,
       "version_minor": 0
      },
      "text/plain": [
       "Batches:   0%|          | 0/1 [00:00<?, ?it/s]"
      ]
     },
     "metadata": {},
     "output_type": "display_data"
    },
    {
     "data": {
      "application/vnd.jupyter.widget-view+json": {
       "model_id": "890e33b89a4e4ab9a0173338f5ec799f",
       "version_major": 2,
       "version_minor": 0
      },
      "text/plain": [
       "Batches:   0%|          | 0/1 [00:00<?, ?it/s]"
      ]
     },
     "metadata": {},
     "output_type": "display_data"
    },
    {
     "data": {
      "application/vnd.jupyter.widget-view+json": {
       "model_id": "5e5f5ae46b5e440cbbfe3d333b7140f1",
       "version_major": 2,
       "version_minor": 0
      },
      "text/plain": [
       "Batches:   0%|          | 0/1 [00:00<?, ?it/s]"
      ]
     },
     "metadata": {},
     "output_type": "display_data"
    },
    {
     "data": {
      "application/vnd.jupyter.widget-view+json": {
       "model_id": "53e4825ab27241b8aeed055939544017",
       "version_major": 2,
       "version_minor": 0
      },
      "text/plain": [
       "Batches:   0%|          | 0/1 [00:00<?, ?it/s]"
      ]
     },
     "metadata": {},
     "output_type": "display_data"
    },
    {
     "data": {
      "application/vnd.jupyter.widget-view+json": {
       "model_id": "9919a0e2ba504946b7f4844138a81334",
       "version_major": 2,
       "version_minor": 0
      },
      "text/plain": [
       "Batches:   0%|          | 0/1 [00:00<?, ?it/s]"
      ]
     },
     "metadata": {},
     "output_type": "display_data"
    },
    {
     "data": {
      "application/vnd.jupyter.widget-view+json": {
       "model_id": "91338f194ec54c61b9c2837fd4c6451d",
       "version_major": 2,
       "version_minor": 0
      },
      "text/plain": [
       "Batches:   0%|          | 0/1 [00:00<?, ?it/s]"
      ]
     },
     "metadata": {},
     "output_type": "display_data"
    },
    {
     "data": {
      "application/vnd.jupyter.widget-view+json": {
       "model_id": "c5ba840ca7b54f4e9b5dc1766431475c",
       "version_major": 2,
       "version_minor": 0
      },
      "text/plain": [
       "Batches:   0%|          | 0/1 [00:00<?, ?it/s]"
      ]
     },
     "metadata": {},
     "output_type": "display_data"
    },
    {
     "data": {
      "application/vnd.jupyter.widget-view+json": {
       "model_id": "749d49b1bbb64a858eff8778a8b2555a",
       "version_major": 2,
       "version_minor": 0
      },
      "text/plain": [
       "Batches:   0%|          | 0/1 [00:00<?, ?it/s]"
      ]
     },
     "metadata": {},
     "output_type": "display_data"
    },
    {
     "data": {
      "application/vnd.jupyter.widget-view+json": {
       "model_id": "a017f4c468614999b5fec9f9178f429c",
       "version_major": 2,
       "version_minor": 0
      },
      "text/plain": [
       "Batches:   0%|          | 0/1 [00:00<?, ?it/s]"
      ]
     },
     "metadata": {},
     "output_type": "display_data"
    },
    {
     "data": {
      "application/vnd.jupyter.widget-view+json": {
       "model_id": "4f5e86f4e1da44b7a766e659e265685b",
       "version_major": 2,
       "version_minor": 0
      },
      "text/plain": [
       "Batches:   0%|          | 0/1 [00:00<?, ?it/s]"
      ]
     },
     "metadata": {},
     "output_type": "display_data"
    },
    {
     "data": {
      "application/vnd.jupyter.widget-view+json": {
       "model_id": "3463348277564b6f8c1c830ccec7b637",
       "version_major": 2,
       "version_minor": 0
      },
      "text/plain": [
       "Batches:   0%|          | 0/1 [00:00<?, ?it/s]"
      ]
     },
     "metadata": {},
     "output_type": "display_data"
    },
    {
     "data": {
      "application/vnd.jupyter.widget-view+json": {
       "model_id": "c11d4904f0fa432fb9c43fb32183a849",
       "version_major": 2,
       "version_minor": 0
      },
      "text/plain": [
       "Batches:   0%|          | 0/1 [00:00<?, ?it/s]"
      ]
     },
     "metadata": {},
     "output_type": "display_data"
    },
    {
     "data": {
      "application/vnd.jupyter.widget-view+json": {
       "model_id": "8ab1b45098144d93ac7861c64fda8034",
       "version_major": 2,
       "version_minor": 0
      },
      "text/plain": [
       "Batches:   0%|          | 0/1 [00:00<?, ?it/s]"
      ]
     },
     "metadata": {},
     "output_type": "display_data"
    },
    {
     "data": {
      "application/vnd.jupyter.widget-view+json": {
       "model_id": "645bd9a750924237b6da91dfbdadb814",
       "version_major": 2,
       "version_minor": 0
      },
      "text/plain": [
       "Batches:   0%|          | 0/1 [00:00<?, ?it/s]"
      ]
     },
     "metadata": {},
     "output_type": "display_data"
    },
    {
     "data": {
      "application/vnd.jupyter.widget-view+json": {
       "model_id": "f0e56e6d00524d1c849e34d8b9c6e224",
       "version_major": 2,
       "version_minor": 0
      },
      "text/plain": [
       "Batches:   0%|          | 0/1 [00:00<?, ?it/s]"
      ]
     },
     "metadata": {},
     "output_type": "display_data"
    },
    {
     "data": {
      "application/vnd.jupyter.widget-view+json": {
       "model_id": "f1d57831da12474987666e993aee3aad",
       "version_major": 2,
       "version_minor": 0
      },
      "text/plain": [
       "Batches:   0%|          | 0/1 [00:00<?, ?it/s]"
      ]
     },
     "metadata": {},
     "output_type": "display_data"
    },
    {
     "data": {
      "application/vnd.jupyter.widget-view+json": {
       "model_id": "f1ce37471b9d44f898b3e8b88c40a417",
       "version_major": 2,
       "version_minor": 0
      },
      "text/plain": [
       "Batches:   0%|          | 0/1 [00:00<?, ?it/s]"
      ]
     },
     "metadata": {},
     "output_type": "display_data"
    },
    {
     "data": {
      "application/vnd.jupyter.widget-view+json": {
       "model_id": "de077b47bb05441b815c9438090e05bb",
       "version_major": 2,
       "version_minor": 0
      },
      "text/plain": [
       "Batches:   0%|          | 0/1 [00:00<?, ?it/s]"
      ]
     },
     "metadata": {},
     "output_type": "display_data"
    },
    {
     "data": {
      "application/vnd.jupyter.widget-view+json": {
       "model_id": "cc4c4fa96b474548b635a3d0eaf96f1a",
       "version_major": 2,
       "version_minor": 0
      },
      "text/plain": [
       "Batches:   0%|          | 0/1 [00:00<?, ?it/s]"
      ]
     },
     "metadata": {},
     "output_type": "display_data"
    },
    {
     "data": {
      "application/vnd.jupyter.widget-view+json": {
       "model_id": "26ff8cef805d421d8d9a307939abd3c5",
       "version_major": 2,
       "version_minor": 0
      },
      "text/plain": [
       "Batches:   0%|          | 0/1 [00:00<?, ?it/s]"
      ]
     },
     "metadata": {},
     "output_type": "display_data"
    },
    {
     "data": {
      "application/vnd.jupyter.widget-view+json": {
       "model_id": "3f50279d382d4c92a7933d5d97172e73",
       "version_major": 2,
       "version_minor": 0
      },
      "text/plain": [
       "Batches:   0%|          | 0/1 [00:00<?, ?it/s]"
      ]
     },
     "metadata": {},
     "output_type": "display_data"
    },
    {
     "data": {
      "application/vnd.jupyter.widget-view+json": {
       "model_id": "ce7246cca5f344388c36405a6479f504",
       "version_major": 2,
       "version_minor": 0
      },
      "text/plain": [
       "Batches:   0%|          | 0/1 [00:00<?, ?it/s]"
      ]
     },
     "metadata": {},
     "output_type": "display_data"
    },
    {
     "data": {
      "application/vnd.jupyter.widget-view+json": {
       "model_id": "bd209e14e3dd40db90f6f0273acdc2e9",
       "version_major": 2,
       "version_minor": 0
      },
      "text/plain": [
       "Batches:   0%|          | 0/1 [00:00<?, ?it/s]"
      ]
     },
     "metadata": {},
     "output_type": "display_data"
    },
    {
     "data": {
      "application/vnd.jupyter.widget-view+json": {
       "model_id": "1361ac95c5a24fcbbfd31e97ae356bd5",
       "version_major": 2,
       "version_minor": 0
      },
      "text/plain": [
       "Batches:   0%|          | 0/1 [00:00<?, ?it/s]"
      ]
     },
     "metadata": {},
     "output_type": "display_data"
    },
    {
     "data": {
      "application/vnd.jupyter.widget-view+json": {
       "model_id": "f146d77d2fbf45aa990aaf61da1432aa",
       "version_major": 2,
       "version_minor": 0
      },
      "text/plain": [
       "Batches:   0%|          | 0/1 [00:00<?, ?it/s]"
      ]
     },
     "metadata": {},
     "output_type": "display_data"
    },
    {
     "data": {
      "application/vnd.jupyter.widget-view+json": {
       "model_id": "acc34eb09f964ca7b9e001f293710022",
       "version_major": 2,
       "version_minor": 0
      },
      "text/plain": [
       "Batches:   0%|          | 0/1 [00:00<?, ?it/s]"
      ]
     },
     "metadata": {},
     "output_type": "display_data"
    },
    {
     "data": {
      "application/vnd.jupyter.widget-view+json": {
       "model_id": "866cab71468347c2aa8432fc68a8908e",
       "version_major": 2,
       "version_minor": 0
      },
      "text/plain": [
       "Batches:   0%|          | 0/1 [00:00<?, ?it/s]"
      ]
     },
     "metadata": {},
     "output_type": "display_data"
    },
    {
     "data": {
      "application/vnd.jupyter.widget-view+json": {
       "model_id": "58d68e58a9b64e969740a14fa09b6527",
       "version_major": 2,
       "version_minor": 0
      },
      "text/plain": [
       "Batches:   0%|          | 0/1 [00:00<?, ?it/s]"
      ]
     },
     "metadata": {},
     "output_type": "display_data"
    },
    {
     "data": {
      "application/vnd.jupyter.widget-view+json": {
       "model_id": "258b84f67fc1400ea33dc7eb43afdd5d",
       "version_major": 2,
       "version_minor": 0
      },
      "text/plain": [
       "Batches:   0%|          | 0/1 [00:00<?, ?it/s]"
      ]
     },
     "metadata": {},
     "output_type": "display_data"
    },
    {
     "data": {
      "application/vnd.jupyter.widget-view+json": {
       "model_id": "37f833e1748345088a1b7fbf376a1399",
       "version_major": 2,
       "version_minor": 0
      },
      "text/plain": [
       "Batches:   0%|          | 0/1 [00:00<?, ?it/s]"
      ]
     },
     "metadata": {},
     "output_type": "display_data"
    },
    {
     "data": {
      "application/vnd.jupyter.widget-view+json": {
       "model_id": "0b948b35b8e34698846cb775af743e5f",
       "version_major": 2,
       "version_minor": 0
      },
      "text/plain": [
       "Batches:   0%|          | 0/1 [00:00<?, ?it/s]"
      ]
     },
     "metadata": {},
     "output_type": "display_data"
    },
    {
     "data": {
      "application/vnd.jupyter.widget-view+json": {
       "model_id": "721d195297d14b76895cea42566c256b",
       "version_major": 2,
       "version_minor": 0
      },
      "text/plain": [
       "Batches:   0%|          | 0/1 [00:00<?, ?it/s]"
      ]
     },
     "metadata": {},
     "output_type": "display_data"
    },
    {
     "data": {
      "application/vnd.jupyter.widget-view+json": {
       "model_id": "bde813db4ce8489b97a58eee3379808a",
       "version_major": 2,
       "version_minor": 0
      },
      "text/plain": [
       "Batches:   0%|          | 0/1 [00:00<?, ?it/s]"
      ]
     },
     "metadata": {},
     "output_type": "display_data"
    },
    {
     "data": {
      "application/vnd.jupyter.widget-view+json": {
       "model_id": "efcd891ec20b4dd7b97e8e2cc28d0458",
       "version_major": 2,
       "version_minor": 0
      },
      "text/plain": [
       "Batches:   0%|          | 0/1 [00:00<?, ?it/s]"
      ]
     },
     "metadata": {},
     "output_type": "display_data"
    },
    {
     "data": {
      "application/vnd.jupyter.widget-view+json": {
       "model_id": "c4b00abf992f4c1e982f2efea99233d2",
       "version_major": 2,
       "version_minor": 0
      },
      "text/plain": [
       "Batches:   0%|          | 0/1 [00:00<?, ?it/s]"
      ]
     },
     "metadata": {},
     "output_type": "display_data"
    },
    {
     "data": {
      "application/vnd.jupyter.widget-view+json": {
       "model_id": "5ee4f92438a240769f28c0792dd05b5e",
       "version_major": 2,
       "version_minor": 0
      },
      "text/plain": [
       "Batches:   0%|          | 0/1 [00:00<?, ?it/s]"
      ]
     },
     "metadata": {},
     "output_type": "display_data"
    },
    {
     "data": {
      "application/vnd.jupyter.widget-view+json": {
       "model_id": "ee8bd5a02e724f56acf195d7fe6fb3f8",
       "version_major": 2,
       "version_minor": 0
      },
      "text/plain": [
       "Batches:   0%|          | 0/1 [00:00<?, ?it/s]"
      ]
     },
     "metadata": {},
     "output_type": "display_data"
    },
    {
     "data": {
      "application/vnd.jupyter.widget-view+json": {
       "model_id": "fceec40f7e6f410bb8ed20638a9b20ca",
       "version_major": 2,
       "version_minor": 0
      },
      "text/plain": [
       "Batches:   0%|          | 0/1 [00:00<?, ?it/s]"
      ]
     },
     "metadata": {},
     "output_type": "display_data"
    },
    {
     "data": {
      "application/vnd.jupyter.widget-view+json": {
       "model_id": "ac5763699caf4097b2c9c90a65692779",
       "version_major": 2,
       "version_minor": 0
      },
      "text/plain": [
       "Batches:   0%|          | 0/1 [00:00<?, ?it/s]"
      ]
     },
     "metadata": {},
     "output_type": "display_data"
    },
    {
     "data": {
      "application/vnd.jupyter.widget-view+json": {
       "model_id": "5073e17ccbaf40a0885772da2e9294a7",
       "version_major": 2,
       "version_minor": 0
      },
      "text/plain": [
       "Batches:   0%|          | 0/1 [00:00<?, ?it/s]"
      ]
     },
     "metadata": {},
     "output_type": "display_data"
    },
    {
     "data": {
      "application/vnd.jupyter.widget-view+json": {
       "model_id": "86d8a78aa7f141a393f8cbef5de833d3",
       "version_major": 2,
       "version_minor": 0
      },
      "text/plain": [
       "Batches:   0%|          | 0/1 [00:00<?, ?it/s]"
      ]
     },
     "metadata": {},
     "output_type": "display_data"
    },
    {
     "data": {
      "application/vnd.jupyter.widget-view+json": {
       "model_id": "ff9a664e904d4886835dbb360fd5df3f",
       "version_major": 2,
       "version_minor": 0
      },
      "text/plain": [
       "Batches:   0%|          | 0/1 [00:00<?, ?it/s]"
      ]
     },
     "metadata": {},
     "output_type": "display_data"
    },
    {
     "data": {
      "application/vnd.jupyter.widget-view+json": {
       "model_id": "240134a01e2d4915abe75363620da669",
       "version_major": 2,
       "version_minor": 0
      },
      "text/plain": [
       "Batches:   0%|          | 0/1 [00:00<?, ?it/s]"
      ]
     },
     "metadata": {},
     "output_type": "display_data"
    },
    {
     "data": {
      "application/vnd.jupyter.widget-view+json": {
       "model_id": "ef611f94ee1e42a1b5b11d904b2ee261",
       "version_major": 2,
       "version_minor": 0
      },
      "text/plain": [
       "Batches:   0%|          | 0/1 [00:00<?, ?it/s]"
      ]
     },
     "metadata": {},
     "output_type": "display_data"
    },
    {
     "data": {
      "application/vnd.jupyter.widget-view+json": {
       "model_id": "e056d895c0f84ad99a658ddc2b66ab34",
       "version_major": 2,
       "version_minor": 0
      },
      "text/plain": [
       "Batches:   0%|          | 0/1 [00:00<?, ?it/s]"
      ]
     },
     "metadata": {},
     "output_type": "display_data"
    },
    {
     "data": {
      "application/vnd.jupyter.widget-view+json": {
       "model_id": "99697f57aa5b4712a271aa994bac6cb5",
       "version_major": 2,
       "version_minor": 0
      },
      "text/plain": [
       "Batches:   0%|          | 0/1 [00:00<?, ?it/s]"
      ]
     },
     "metadata": {},
     "output_type": "display_data"
    },
    {
     "data": {
      "application/vnd.jupyter.widget-view+json": {
       "model_id": "c4b8f035cfc84139826dce70f8cfc076",
       "version_major": 2,
       "version_minor": 0
      },
      "text/plain": [
       "Batches:   0%|          | 0/1 [00:00<?, ?it/s]"
      ]
     },
     "metadata": {},
     "output_type": "display_data"
    },
    {
     "data": {
      "application/vnd.jupyter.widget-view+json": {
       "model_id": "38495621631e4d49ab15bb3a675acb1d",
       "version_major": 2,
       "version_minor": 0
      },
      "text/plain": [
       "Batches:   0%|          | 0/1 [00:00<?, ?it/s]"
      ]
     },
     "metadata": {},
     "output_type": "display_data"
    },
    {
     "data": {
      "application/vnd.jupyter.widget-view+json": {
       "model_id": "029a342f3bdf4d8eb8380cc54c61c537",
       "version_major": 2,
       "version_minor": 0
      },
      "text/plain": [
       "Batches:   0%|          | 0/1 [00:00<?, ?it/s]"
      ]
     },
     "metadata": {},
     "output_type": "display_data"
    },
    {
     "data": {
      "application/vnd.jupyter.widget-view+json": {
       "model_id": "6163328f4ecf4858b3e6b858e265e69f",
       "version_major": 2,
       "version_minor": 0
      },
      "text/plain": [
       "Batches:   0%|          | 0/1 [00:00<?, ?it/s]"
      ]
     },
     "metadata": {},
     "output_type": "display_data"
    },
    {
     "data": {
      "application/vnd.jupyter.widget-view+json": {
       "model_id": "84057505094d490185231b74d91a9dd5",
       "version_major": 2,
       "version_minor": 0
      },
      "text/plain": [
       "Batches:   0%|          | 0/1 [00:00<?, ?it/s]"
      ]
     },
     "metadata": {},
     "output_type": "display_data"
    },
    {
     "data": {
      "application/vnd.jupyter.widget-view+json": {
       "model_id": "ca4bc9d032054d5f898b41b58f4a6cdd",
       "version_major": 2,
       "version_minor": 0
      },
      "text/plain": [
       "Batches:   0%|          | 0/1 [00:00<?, ?it/s]"
      ]
     },
     "metadata": {},
     "output_type": "display_data"
    },
    {
     "data": {
      "application/vnd.jupyter.widget-view+json": {
       "model_id": "9624e660610443c88d1940e774bc4de0",
       "version_major": 2,
       "version_minor": 0
      },
      "text/plain": [
       "Batches:   0%|          | 0/1 [00:00<?, ?it/s]"
      ]
     },
     "metadata": {},
     "output_type": "display_data"
    },
    {
     "data": {
      "application/vnd.jupyter.widget-view+json": {
       "model_id": "8933b3d4422d4652a5d2ff7f629b0a88",
       "version_major": 2,
       "version_minor": 0
      },
      "text/plain": [
       "Batches:   0%|          | 0/1 [00:00<?, ?it/s]"
      ]
     },
     "metadata": {},
     "output_type": "display_data"
    },
    {
     "data": {
      "application/vnd.jupyter.widget-view+json": {
       "model_id": "0296aa258f134a0294f02ecae6de71e0",
       "version_major": 2,
       "version_minor": 0
      },
      "text/plain": [
       "Batches:   0%|          | 0/1 [00:00<?, ?it/s]"
      ]
     },
     "metadata": {},
     "output_type": "display_data"
    },
    {
     "data": {
      "application/vnd.jupyter.widget-view+json": {
       "model_id": "b5d501f214a34c9f932651e7635c0f7f",
       "version_major": 2,
       "version_minor": 0
      },
      "text/plain": [
       "Batches:   0%|          | 0/1 [00:00<?, ?it/s]"
      ]
     },
     "metadata": {},
     "output_type": "display_data"
    },
    {
     "data": {
      "application/vnd.jupyter.widget-view+json": {
       "model_id": "c27f9bcaecb44e9084631f9bcf55bc0d",
       "version_major": 2,
       "version_minor": 0
      },
      "text/plain": [
       "Batches:   0%|          | 0/1 [00:00<?, ?it/s]"
      ]
     },
     "metadata": {},
     "output_type": "display_data"
    },
    {
     "data": {
      "application/vnd.jupyter.widget-view+json": {
       "model_id": "82235391aac14b48b6695095b5b438b8",
       "version_major": 2,
       "version_minor": 0
      },
      "text/plain": [
       "Batches:   0%|          | 0/1 [00:00<?, ?it/s]"
      ]
     },
     "metadata": {},
     "output_type": "display_data"
    },
    {
     "data": {
      "application/vnd.jupyter.widget-view+json": {
       "model_id": "5ec4801f564a414f8f401d1c1afa7ca3",
       "version_major": 2,
       "version_minor": 0
      },
      "text/plain": [
       "Batches:   0%|          | 0/1 [00:00<?, ?it/s]"
      ]
     },
     "metadata": {},
     "output_type": "display_data"
    },
    {
     "data": {
      "application/vnd.jupyter.widget-view+json": {
       "model_id": "bc564c35fe9f421485398a97dc68d40d",
       "version_major": 2,
       "version_minor": 0
      },
      "text/plain": [
       "Batches:   0%|          | 0/1 [00:00<?, ?it/s]"
      ]
     },
     "metadata": {},
     "output_type": "display_data"
    },
    {
     "data": {
      "application/vnd.jupyter.widget-view+json": {
       "model_id": "3140360e210c463ca50cdee5056909b4",
       "version_major": 2,
       "version_minor": 0
      },
      "text/plain": [
       "Batches:   0%|          | 0/1 [00:00<?, ?it/s]"
      ]
     },
     "metadata": {},
     "output_type": "display_data"
    },
    {
     "data": {
      "application/vnd.jupyter.widget-view+json": {
       "model_id": "85a594a4c65b4462b3ec9a0bc8979f59",
       "version_major": 2,
       "version_minor": 0
      },
      "text/plain": [
       "Batches:   0%|          | 0/1 [00:00<?, ?it/s]"
      ]
     },
     "metadata": {},
     "output_type": "display_data"
    },
    {
     "data": {
      "application/vnd.jupyter.widget-view+json": {
       "model_id": "dfc93a1446db4ed294d9a691421be9cb",
       "version_major": 2,
       "version_minor": 0
      },
      "text/plain": [
       "Batches:   0%|          | 0/1 [00:00<?, ?it/s]"
      ]
     },
     "metadata": {},
     "output_type": "display_data"
    },
    {
     "data": {
      "application/vnd.jupyter.widget-view+json": {
       "model_id": "f9b81d2e263c440183cd83f4e0a7a1b7",
       "version_major": 2,
       "version_minor": 0
      },
      "text/plain": [
       "Batches:   0%|          | 0/1 [00:00<?, ?it/s]"
      ]
     },
     "metadata": {},
     "output_type": "display_data"
    },
    {
     "data": {
      "application/vnd.jupyter.widget-view+json": {
       "model_id": "9abf2f199a4647638c7680b1c6330d75",
       "version_major": 2,
       "version_minor": 0
      },
      "text/plain": [
       "Batches:   0%|          | 0/1 [00:00<?, ?it/s]"
      ]
     },
     "metadata": {},
     "output_type": "display_data"
    },
    {
     "data": {
      "application/vnd.jupyter.widget-view+json": {
       "model_id": "170519010c804bcab901e5045fe052e4",
       "version_major": 2,
       "version_minor": 0
      },
      "text/plain": [
       "Batches:   0%|          | 0/1 [00:00<?, ?it/s]"
      ]
     },
     "metadata": {},
     "output_type": "display_data"
    },
    {
     "data": {
      "application/vnd.jupyter.widget-view+json": {
       "model_id": "bd5dba5cc9a24bddb48d97366f6307e9",
       "version_major": 2,
       "version_minor": 0
      },
      "text/plain": [
       "Batches:   0%|          | 0/1 [00:00<?, ?it/s]"
      ]
     },
     "metadata": {},
     "output_type": "display_data"
    },
    {
     "data": {
      "application/vnd.jupyter.widget-view+json": {
       "model_id": "8f051920f0f74ff4b599d31d2607b1c9",
       "version_major": 2,
       "version_minor": 0
      },
      "text/plain": [
       "Batches:   0%|          | 0/1 [00:00<?, ?it/s]"
      ]
     },
     "metadata": {},
     "output_type": "display_data"
    },
    {
     "data": {
      "application/vnd.jupyter.widget-view+json": {
       "model_id": "e0dd242175a04212aca644ad096d1a25",
       "version_major": 2,
       "version_minor": 0
      },
      "text/plain": [
       "Batches:   0%|          | 0/1 [00:00<?, ?it/s]"
      ]
     },
     "metadata": {},
     "output_type": "display_data"
    },
    {
     "data": {
      "application/vnd.jupyter.widget-view+json": {
       "model_id": "ad244dffcdb546c5a9c4f6ae611e5a42",
       "version_major": 2,
       "version_minor": 0
      },
      "text/plain": [
       "Batches:   0%|          | 0/1 [00:00<?, ?it/s]"
      ]
     },
     "metadata": {},
     "output_type": "display_data"
    },
    {
     "data": {
      "application/vnd.jupyter.widget-view+json": {
       "model_id": "31a8398c99d143a19ab395c8cffbdd36",
       "version_major": 2,
       "version_minor": 0
      },
      "text/plain": [
       "Batches:   0%|          | 0/1 [00:00<?, ?it/s]"
      ]
     },
     "metadata": {},
     "output_type": "display_data"
    },
    {
     "data": {
      "application/vnd.jupyter.widget-view+json": {
       "model_id": "a71a6bd1c5144c64a8e18ab07d8c16a4",
       "version_major": 2,
       "version_minor": 0
      },
      "text/plain": [
       "Batches:   0%|          | 0/1 [00:00<?, ?it/s]"
      ]
     },
     "metadata": {},
     "output_type": "display_data"
    },
    {
     "data": {
      "application/vnd.jupyter.widget-view+json": {
       "model_id": "8487ac02571b442e9f3e4962d5e64f3b",
       "version_major": 2,
       "version_minor": 0
      },
      "text/plain": [
       "Batches:   0%|          | 0/1 [00:00<?, ?it/s]"
      ]
     },
     "metadata": {},
     "output_type": "display_data"
    },
    {
     "data": {
      "application/vnd.jupyter.widget-view+json": {
       "model_id": "a33fa909c1cc4337a15a0f7e2f680434",
       "version_major": 2,
       "version_minor": 0
      },
      "text/plain": [
       "Batches:   0%|          | 0/1 [00:00<?, ?it/s]"
      ]
     },
     "metadata": {},
     "output_type": "display_data"
    },
    {
     "data": {
      "application/vnd.jupyter.widget-view+json": {
       "model_id": "f2b00177467e401ca91bdb11986690ff",
       "version_major": 2,
       "version_minor": 0
      },
      "text/plain": [
       "Batches:   0%|          | 0/1 [00:00<?, ?it/s]"
      ]
     },
     "metadata": {},
     "output_type": "display_data"
    },
    {
     "data": {
      "application/vnd.jupyter.widget-view+json": {
       "model_id": "35973ae151db4a9199aef0a9029b2381",
       "version_major": 2,
       "version_minor": 0
      },
      "text/plain": [
       "Batches:   0%|          | 0/1 [00:00<?, ?it/s]"
      ]
     },
     "metadata": {},
     "output_type": "display_data"
    },
    {
     "data": {
      "application/vnd.jupyter.widget-view+json": {
       "model_id": "ea825fe5118d4a5790b235757484aa08",
       "version_major": 2,
       "version_minor": 0
      },
      "text/plain": [
       "Batches:   0%|          | 0/1 [00:00<?, ?it/s]"
      ]
     },
     "metadata": {},
     "output_type": "display_data"
    },
    {
     "data": {
      "application/vnd.jupyter.widget-view+json": {
       "model_id": "292e5265fbc343bf9bb2ffe16972d773",
       "version_major": 2,
       "version_minor": 0
      },
      "text/plain": [
       "Batches:   0%|          | 0/1 [00:00<?, ?it/s]"
      ]
     },
     "metadata": {},
     "output_type": "display_data"
    },
    {
     "data": {
      "application/vnd.jupyter.widget-view+json": {
       "model_id": "aea3a40f86d34d73a5a10a4440373304",
       "version_major": 2,
       "version_minor": 0
      },
      "text/plain": [
       "Batches:   0%|          | 0/1 [00:00<?, ?it/s]"
      ]
     },
     "metadata": {},
     "output_type": "display_data"
    },
    {
     "data": {
      "application/vnd.jupyter.widget-view+json": {
       "model_id": "201b8233b4ed4fe199599448530dd2d0",
       "version_major": 2,
       "version_minor": 0
      },
      "text/plain": [
       "Batches:   0%|          | 0/1 [00:00<?, ?it/s]"
      ]
     },
     "metadata": {},
     "output_type": "display_data"
    },
    {
     "data": {
      "application/vnd.jupyter.widget-view+json": {
       "model_id": "0c74d5c310684f59adbccb46ada687b6",
       "version_major": 2,
       "version_minor": 0
      },
      "text/plain": [
       "Batches:   0%|          | 0/1 [00:00<?, ?it/s]"
      ]
     },
     "metadata": {},
     "output_type": "display_data"
    },
    {
     "data": {
      "application/vnd.jupyter.widget-view+json": {
       "model_id": "29313ea3a8ea40288281f342cf0156b4",
       "version_major": 2,
       "version_minor": 0
      },
      "text/plain": [
       "Batches:   0%|          | 0/1 [00:00<?, ?it/s]"
      ]
     },
     "metadata": {},
     "output_type": "display_data"
    },
    {
     "data": {
      "application/vnd.jupyter.widget-view+json": {
       "model_id": "4f3e809a3ac8483d955038fba7b869dc",
       "version_major": 2,
       "version_minor": 0
      },
      "text/plain": [
       "Batches:   0%|          | 0/1 [00:00<?, ?it/s]"
      ]
     },
     "metadata": {},
     "output_type": "display_data"
    },
    {
     "data": {
      "application/vnd.jupyter.widget-view+json": {
       "model_id": "1faec8995f874dceac487f4b382a2d5e",
       "version_major": 2,
       "version_minor": 0
      },
      "text/plain": [
       "Batches:   0%|          | 0/1 [00:00<?, ?it/s]"
      ]
     },
     "metadata": {},
     "output_type": "display_data"
    },
    {
     "data": {
      "application/vnd.jupyter.widget-view+json": {
       "model_id": "216c7770e4be49e29835219fc10c6f1a",
       "version_major": 2,
       "version_minor": 0
      },
      "text/plain": [
       "Batches:   0%|          | 0/1 [00:00<?, ?it/s]"
      ]
     },
     "metadata": {},
     "output_type": "display_data"
    },
    {
     "data": {
      "application/vnd.jupyter.widget-view+json": {
       "model_id": "ec05ad6ddd7641838e8f7c10edd2eaa1",
       "version_major": 2,
       "version_minor": 0
      },
      "text/plain": [
       "Batches:   0%|          | 0/1 [00:00<?, ?it/s]"
      ]
     },
     "metadata": {},
     "output_type": "display_data"
    },
    {
     "data": {
      "application/vnd.jupyter.widget-view+json": {
       "model_id": "8510c41d24af44b48fca8a4371703724",
       "version_major": 2,
       "version_minor": 0
      },
      "text/plain": [
       "Batches:   0%|          | 0/1 [00:00<?, ?it/s]"
      ]
     },
     "metadata": {},
     "output_type": "display_data"
    },
    {
     "data": {
      "application/vnd.jupyter.widget-view+json": {
       "model_id": "6e71165df5ab4aa28e82d1685c9a6371",
       "version_major": 2,
       "version_minor": 0
      },
      "text/plain": [
       "Batches:   0%|          | 0/1 [00:00<?, ?it/s]"
      ]
     },
     "metadata": {},
     "output_type": "display_data"
    },
    {
     "data": {
      "application/vnd.jupyter.widget-view+json": {
       "model_id": "2a8596a76f164cbeabf7c0d13711e4dd",
       "version_major": 2,
       "version_minor": 0
      },
      "text/plain": [
       "Batches:   0%|          | 0/1 [00:00<?, ?it/s]"
      ]
     },
     "metadata": {},
     "output_type": "display_data"
    },
    {
     "data": {
      "application/vnd.jupyter.widget-view+json": {
       "model_id": "1900a2c0f3ee4423ad9bafc6540ab1cc",
       "version_major": 2,
       "version_minor": 0
      },
      "text/plain": [
       "Batches:   0%|          | 0/1 [00:00<?, ?it/s]"
      ]
     },
     "metadata": {},
     "output_type": "display_data"
    },
    {
     "data": {
      "application/vnd.jupyter.widget-view+json": {
       "model_id": "5edc352776474db6a3c547a37038681b",
       "version_major": 2,
       "version_minor": 0
      },
      "text/plain": [
       "Batches:   0%|          | 0/1 [00:00<?, ?it/s]"
      ]
     },
     "metadata": {},
     "output_type": "display_data"
    },
    {
     "data": {
      "application/vnd.jupyter.widget-view+json": {
       "model_id": "8935f3eb5e7c4c349d068cb735439c2a",
       "version_major": 2,
       "version_minor": 0
      },
      "text/plain": [
       "Batches:   0%|          | 0/1 [00:00<?, ?it/s]"
      ]
     },
     "metadata": {},
     "output_type": "display_data"
    },
    {
     "data": {
      "application/vnd.jupyter.widget-view+json": {
       "model_id": "3490b6ec5054430b815faa85fe53fc7e",
       "version_major": 2,
       "version_minor": 0
      },
      "text/plain": [
       "Batches:   0%|          | 0/1 [00:00<?, ?it/s]"
      ]
     },
     "metadata": {},
     "output_type": "display_data"
    },
    {
     "data": {
      "application/vnd.jupyter.widget-view+json": {
       "model_id": "356287b65db34389abc9567a0b1f0f1a",
       "version_major": 2,
       "version_minor": 0
      },
      "text/plain": [
       "Batches:   0%|          | 0/1 [00:00<?, ?it/s]"
      ]
     },
     "metadata": {},
     "output_type": "display_data"
    },
    {
     "data": {
      "application/vnd.jupyter.widget-view+json": {
       "model_id": "d79da44bbb834d61855aad6a34028b3a",
       "version_major": 2,
       "version_minor": 0
      },
      "text/plain": [
       "Batches:   0%|          | 0/1 [00:00<?, ?it/s]"
      ]
     },
     "metadata": {},
     "output_type": "display_data"
    },
    {
     "data": {
      "application/vnd.jupyter.widget-view+json": {
       "model_id": "f226adb7fc414963949921c250e0bdfe",
       "version_major": 2,
       "version_minor": 0
      },
      "text/plain": [
       "Batches:   0%|          | 0/1 [00:00<?, ?it/s]"
      ]
     },
     "metadata": {},
     "output_type": "display_data"
    },
    {
     "data": {
      "application/vnd.jupyter.widget-view+json": {
       "model_id": "6b0ff455d62249b8a936081cd0febe11",
       "version_major": 2,
       "version_minor": 0
      },
      "text/plain": [
       "Batches:   0%|          | 0/1 [00:00<?, ?it/s]"
      ]
     },
     "metadata": {},
     "output_type": "display_data"
    },
    {
     "data": {
      "application/vnd.jupyter.widget-view+json": {
       "model_id": "b2c85a01be7e443e97f6e7779a70aa82",
       "version_major": 2,
       "version_minor": 0
      },
      "text/plain": [
       "Batches:   0%|          | 0/1 [00:00<?, ?it/s]"
      ]
     },
     "metadata": {},
     "output_type": "display_data"
    },
    {
     "data": {
      "application/vnd.jupyter.widget-view+json": {
       "model_id": "140a6d7469f34c7cb0f4c692d69b2b32",
       "version_major": 2,
       "version_minor": 0
      },
      "text/plain": [
       "Batches:   0%|          | 0/1 [00:00<?, ?it/s]"
      ]
     },
     "metadata": {},
     "output_type": "display_data"
    },
    {
     "data": {
      "application/vnd.jupyter.widget-view+json": {
       "model_id": "26d57d18708f4afd8b1521d953810a7f",
       "version_major": 2,
       "version_minor": 0
      },
      "text/plain": [
       "Batches:   0%|          | 0/1 [00:00<?, ?it/s]"
      ]
     },
     "metadata": {},
     "output_type": "display_data"
    },
    {
     "data": {
      "application/vnd.jupyter.widget-view+json": {
       "model_id": "9ae6ac5f493b49a8a94d5c327b5875ab",
       "version_major": 2,
       "version_minor": 0
      },
      "text/plain": [
       "Batches:   0%|          | 0/1 [00:00<?, ?it/s]"
      ]
     },
     "metadata": {},
     "output_type": "display_data"
    },
    {
     "data": {
      "application/vnd.jupyter.widget-view+json": {
       "model_id": "5cd0b46df6ca4b1c8c65090ad37f872a",
       "version_major": 2,
       "version_minor": 0
      },
      "text/plain": [
       "Batches:   0%|          | 0/1 [00:00<?, ?it/s]"
      ]
     },
     "metadata": {},
     "output_type": "display_data"
    },
    {
     "data": {
      "application/vnd.jupyter.widget-view+json": {
       "model_id": "54a366e8200c408298364b2955736ab0",
       "version_major": 2,
       "version_minor": 0
      },
      "text/plain": [
       "Batches:   0%|          | 0/1 [00:00<?, ?it/s]"
      ]
     },
     "metadata": {},
     "output_type": "display_data"
    },
    {
     "data": {
      "application/vnd.jupyter.widget-view+json": {
       "model_id": "4e5aabe638cc4e5c845b3c6f7ff8cb61",
       "version_major": 2,
       "version_minor": 0
      },
      "text/plain": [
       "Batches:   0%|          | 0/1 [00:00<?, ?it/s]"
      ]
     },
     "metadata": {},
     "output_type": "display_data"
    },
    {
     "data": {
      "application/vnd.jupyter.widget-view+json": {
       "model_id": "4c68763de72f40b28f21878095b2fa18",
       "version_major": 2,
       "version_minor": 0
      },
      "text/plain": [
       "Batches:   0%|          | 0/1 [00:00<?, ?it/s]"
      ]
     },
     "metadata": {},
     "output_type": "display_data"
    },
    {
     "data": {
      "application/vnd.jupyter.widget-view+json": {
       "model_id": "324d9db59cfc4405bd88c64d26cc4fbf",
       "version_major": 2,
       "version_minor": 0
      },
      "text/plain": [
       "Batches:   0%|          | 0/1 [00:00<?, ?it/s]"
      ]
     },
     "metadata": {},
     "output_type": "display_data"
    },
    {
     "data": {
      "application/vnd.jupyter.widget-view+json": {
       "model_id": "ff65585655ab4fe69721236e3b00d05c",
       "version_major": 2,
       "version_minor": 0
      },
      "text/plain": [
       "Batches:   0%|          | 0/1 [00:00<?, ?it/s]"
      ]
     },
     "metadata": {},
     "output_type": "display_data"
    },
    {
     "data": {
      "application/vnd.jupyter.widget-view+json": {
       "model_id": "d3be585f52724d658f5e77e12b5f518a",
       "version_major": 2,
       "version_minor": 0
      },
      "text/plain": [
       "Batches:   0%|          | 0/1 [00:00<?, ?it/s]"
      ]
     },
     "metadata": {},
     "output_type": "display_data"
    },
    {
     "data": {
      "application/vnd.jupyter.widget-view+json": {
       "model_id": "885f767b23af40b0bbc00faf4c7e9d6e",
       "version_major": 2,
       "version_minor": 0
      },
      "text/plain": [
       "Batches:   0%|          | 0/1 [00:00<?, ?it/s]"
      ]
     },
     "metadata": {},
     "output_type": "display_data"
    },
    {
     "data": {
      "application/vnd.jupyter.widget-view+json": {
       "model_id": "6b35299598db46f09560e478723c77e5",
       "version_major": 2,
       "version_minor": 0
      },
      "text/plain": [
       "Batches:   0%|          | 0/1 [00:00<?, ?it/s]"
      ]
     },
     "metadata": {},
     "output_type": "display_data"
    },
    {
     "data": {
      "application/vnd.jupyter.widget-view+json": {
       "model_id": "4a0aac4b70fb4ec8af5bb194ca395ad7",
       "version_major": 2,
       "version_minor": 0
      },
      "text/plain": [
       "Batches:   0%|          | 0/1 [00:00<?, ?it/s]"
      ]
     },
     "metadata": {},
     "output_type": "display_data"
    },
    {
     "data": {
      "application/vnd.jupyter.widget-view+json": {
       "model_id": "1ab4b9c3cfe443fcafbe894d089f0868",
       "version_major": 2,
       "version_minor": 0
      },
      "text/plain": [
       "Batches:   0%|          | 0/1 [00:00<?, ?it/s]"
      ]
     },
     "metadata": {},
     "output_type": "display_data"
    },
    {
     "data": {
      "application/vnd.jupyter.widget-view+json": {
       "model_id": "734a5932727f4b0b8718c3ad9fb0cb53",
       "version_major": 2,
       "version_minor": 0
      },
      "text/plain": [
       "Batches:   0%|          | 0/1 [00:00<?, ?it/s]"
      ]
     },
     "metadata": {},
     "output_type": "display_data"
    },
    {
     "data": {
      "application/vnd.jupyter.widget-view+json": {
       "model_id": "b29844d2103347729f9ba9040a3db25c",
       "version_major": 2,
       "version_minor": 0
      },
      "text/plain": [
       "Batches:   0%|          | 0/1 [00:00<?, ?it/s]"
      ]
     },
     "metadata": {},
     "output_type": "display_data"
    },
    {
     "data": {
      "application/vnd.jupyter.widget-view+json": {
       "model_id": "2eeea17ea98c4941afa871f40200d76d",
       "version_major": 2,
       "version_minor": 0
      },
      "text/plain": [
       "Batches:   0%|          | 0/1 [00:00<?, ?it/s]"
      ]
     },
     "metadata": {},
     "output_type": "display_data"
    },
    {
     "data": {
      "application/vnd.jupyter.widget-view+json": {
       "model_id": "63d974af6db744cd89b86656e335688c",
       "version_major": 2,
       "version_minor": 0
      },
      "text/plain": [
       "Batches:   0%|          | 0/1 [00:00<?, ?it/s]"
      ]
     },
     "metadata": {},
     "output_type": "display_data"
    },
    {
     "data": {
      "application/vnd.jupyter.widget-view+json": {
       "model_id": "66ba291f242b486eaf9bf64c73028b55",
       "version_major": 2,
       "version_minor": 0
      },
      "text/plain": [
       "Batches:   0%|          | 0/1 [00:00<?, ?it/s]"
      ]
     },
     "metadata": {},
     "output_type": "display_data"
    },
    {
     "data": {
      "application/vnd.jupyter.widget-view+json": {
       "model_id": "e11aeeb28a684c09b4f10338aa20d830",
       "version_major": 2,
       "version_minor": 0
      },
      "text/plain": [
       "Batches:   0%|          | 0/1 [00:00<?, ?it/s]"
      ]
     },
     "metadata": {},
     "output_type": "display_data"
    },
    {
     "data": {
      "application/vnd.jupyter.widget-view+json": {
       "model_id": "ef7c54b044984abc894f7dc2696efbf5",
       "version_major": 2,
       "version_minor": 0
      },
      "text/plain": [
       "Batches:   0%|          | 0/1 [00:00<?, ?it/s]"
      ]
     },
     "metadata": {},
     "output_type": "display_data"
    },
    {
     "data": {
      "application/vnd.jupyter.widget-view+json": {
       "model_id": "7d5f41f14fb143418fb104d664f6abf1",
       "version_major": 2,
       "version_minor": 0
      },
      "text/plain": [
       "Batches:   0%|          | 0/1 [00:00<?, ?it/s]"
      ]
     },
     "metadata": {},
     "output_type": "display_data"
    },
    {
     "data": {
      "application/vnd.jupyter.widget-view+json": {
       "model_id": "b8ec55f75e13411a95c915b09c347e12",
       "version_major": 2,
       "version_minor": 0
      },
      "text/plain": [
       "Batches:   0%|          | 0/1 [00:00<?, ?it/s]"
      ]
     },
     "metadata": {},
     "output_type": "display_data"
    },
    {
     "data": {
      "application/vnd.jupyter.widget-view+json": {
       "model_id": "ef5a559d68e04124bcf2f507c7e74608",
       "version_major": 2,
       "version_minor": 0
      },
      "text/plain": [
       "Batches:   0%|          | 0/1 [00:00<?, ?it/s]"
      ]
     },
     "metadata": {},
     "output_type": "display_data"
    },
    {
     "data": {
      "application/vnd.jupyter.widget-view+json": {
       "model_id": "2aea84c8f02140cea443c54fcc31cbb8",
       "version_major": 2,
       "version_minor": 0
      },
      "text/plain": [
       "Batches:   0%|          | 0/1 [00:00<?, ?it/s]"
      ]
     },
     "metadata": {},
     "output_type": "display_data"
    },
    {
     "data": {
      "application/vnd.jupyter.widget-view+json": {
       "model_id": "b32238f161cc4e8f99a12f680ff9ed4a",
       "version_major": 2,
       "version_minor": 0
      },
      "text/plain": [
       "Batches:   0%|          | 0/1 [00:00<?, ?it/s]"
      ]
     },
     "metadata": {},
     "output_type": "display_data"
    },
    {
     "data": {
      "application/vnd.jupyter.widget-view+json": {
       "model_id": "b9138d7ba4894109b01bcb782c0e82bf",
       "version_major": 2,
       "version_minor": 0
      },
      "text/plain": [
       "Batches:   0%|          | 0/1 [00:00<?, ?it/s]"
      ]
     },
     "metadata": {},
     "output_type": "display_data"
    },
    {
     "data": {
      "application/vnd.jupyter.widget-view+json": {
       "model_id": "ae033edaa4f7458094582cd12ed7e1be",
       "version_major": 2,
       "version_minor": 0
      },
      "text/plain": [
       "Batches:   0%|          | 0/1 [00:00<?, ?it/s]"
      ]
     },
     "metadata": {},
     "output_type": "display_data"
    },
    {
     "data": {
      "application/vnd.jupyter.widget-view+json": {
       "model_id": "19b289c33ca54dbcb75cf7e0f88858cc",
       "version_major": 2,
       "version_minor": 0
      },
      "text/plain": [
       "Batches:   0%|          | 0/1 [00:00<?, ?it/s]"
      ]
     },
     "metadata": {},
     "output_type": "display_data"
    },
    {
     "data": {
      "application/vnd.jupyter.widget-view+json": {
       "model_id": "12f955e986f84eb292c3bb6bc054b75d",
       "version_major": 2,
       "version_minor": 0
      },
      "text/plain": [
       "Batches:   0%|          | 0/1 [00:00<?, ?it/s]"
      ]
     },
     "metadata": {},
     "output_type": "display_data"
    },
    {
     "data": {
      "application/vnd.jupyter.widget-view+json": {
       "model_id": "55953458aa5a48ea9c17a5efaa8caba5",
       "version_major": 2,
       "version_minor": 0
      },
      "text/plain": [
       "Batches:   0%|          | 0/1 [00:00<?, ?it/s]"
      ]
     },
     "metadata": {},
     "output_type": "display_data"
    },
    {
     "data": {
      "application/vnd.jupyter.widget-view+json": {
       "model_id": "7fea2e4090914a7eb94c637e6816d647",
       "version_major": 2,
       "version_minor": 0
      },
      "text/plain": [
       "Batches:   0%|          | 0/1 [00:00<?, ?it/s]"
      ]
     },
     "metadata": {},
     "output_type": "display_data"
    },
    {
     "data": {
      "application/vnd.jupyter.widget-view+json": {
       "model_id": "ac74feb484c34091bddbf51c4720fa15",
       "version_major": 2,
       "version_minor": 0
      },
      "text/plain": [
       "Batches:   0%|          | 0/1 [00:00<?, ?it/s]"
      ]
     },
     "metadata": {},
     "output_type": "display_data"
    },
    {
     "data": {
      "application/vnd.jupyter.widget-view+json": {
       "model_id": "ff493de0c453485287de0df4c96f6b82",
       "version_major": 2,
       "version_minor": 0
      },
      "text/plain": [
       "Batches:   0%|          | 0/1 [00:00<?, ?it/s]"
      ]
     },
     "metadata": {},
     "output_type": "display_data"
    },
    {
     "data": {
      "application/vnd.jupyter.widget-view+json": {
       "model_id": "8cd46eb769e84ed39014bb2049ad072e",
       "version_major": 2,
       "version_minor": 0
      },
      "text/plain": [
       "Batches:   0%|          | 0/1 [00:00<?, ?it/s]"
      ]
     },
     "metadata": {},
     "output_type": "display_data"
    },
    {
     "data": {
      "application/vnd.jupyter.widget-view+json": {
       "model_id": "8e847ca53dfd49378196c774af7bab42",
       "version_major": 2,
       "version_minor": 0
      },
      "text/plain": [
       "Batches:   0%|          | 0/1 [00:00<?, ?it/s]"
      ]
     },
     "metadata": {},
     "output_type": "display_data"
    },
    {
     "data": {
      "application/vnd.jupyter.widget-view+json": {
       "model_id": "3a82c74e10794efe8d7a310314f2f396",
       "version_major": 2,
       "version_minor": 0
      },
      "text/plain": [
       "Batches:   0%|          | 0/1 [00:00<?, ?it/s]"
      ]
     },
     "metadata": {},
     "output_type": "display_data"
    },
    {
     "data": {
      "application/vnd.jupyter.widget-view+json": {
       "model_id": "f65b9d7caa9c40a1884163a52c50101c",
       "version_major": 2,
       "version_minor": 0
      },
      "text/plain": [
       "Batches:   0%|          | 0/1 [00:00<?, ?it/s]"
      ]
     },
     "metadata": {},
     "output_type": "display_data"
    },
    {
     "data": {
      "application/vnd.jupyter.widget-view+json": {
       "model_id": "c79baf5bc21b4d79b158fc82509d7246",
       "version_major": 2,
       "version_minor": 0
      },
      "text/plain": [
       "Batches:   0%|          | 0/1 [00:00<?, ?it/s]"
      ]
     },
     "metadata": {},
     "output_type": "display_data"
    },
    {
     "data": {
      "application/vnd.jupyter.widget-view+json": {
       "model_id": "69debf03f4c74df399757dca3f9af86d",
       "version_major": 2,
       "version_minor": 0
      },
      "text/plain": [
       "Batches:   0%|          | 0/1 [00:00<?, ?it/s]"
      ]
     },
     "metadata": {},
     "output_type": "display_data"
    },
    {
     "name": "stdout",
     "output_type": "stream",
     "text": [
      "🔄 Progress: 100% (5/5) - gai-esp_item002\n",
      "📄 Extracting content from: gai-esp_item002\n",
      "  ✅ Extracted: 7 sections, 40 paragraphs\n",
      "  📊 Document type: Journal article\n",
      "  🎯 Special elements: figures, references\n"
     ]
    },
    {
     "data": {
      "application/vnd.jupyter.widget-view+json": {
       "model_id": "f2062db0e1994e09b38a7291620c65d8",
       "version_major": 2,
       "version_minor": 0
      },
      "text/plain": [
       "Batches:   0%|          | 0/1 [00:00<?, ?it/s]"
      ]
     },
     "metadata": {},
     "output_type": "display_data"
    },
    {
     "data": {
      "application/vnd.jupyter.widget-view+json": {
       "model_id": "01e9c91ba35a4955a247653ee9e93321",
       "version_major": 2,
       "version_minor": 0
      },
      "text/plain": [
       "Batches:   0%|          | 0/1 [00:00<?, ?it/s]"
      ]
     },
     "metadata": {},
     "output_type": "display_data"
    },
    {
     "data": {
      "application/vnd.jupyter.widget-view+json": {
       "model_id": "93347330a4774a2894c1d0a301e8fb2b",
       "version_major": 2,
       "version_minor": 0
      },
      "text/plain": [
       "Batches:   0%|          | 0/1 [00:00<?, ?it/s]"
      ]
     },
     "metadata": {},
     "output_type": "display_data"
    },
    {
     "data": {
      "application/vnd.jupyter.widget-view+json": {
       "model_id": "d0a17c37e95a4ac69e8719fa0a2c1363",
       "version_major": 2,
       "version_minor": 0
      },
      "text/plain": [
       "Batches:   0%|          | 0/1 [00:00<?, ?it/s]"
      ]
     },
     "metadata": {},
     "output_type": "display_data"
    },
    {
     "data": {
      "application/vnd.jupyter.widget-view+json": {
       "model_id": "8e436252f618499695e168a8c159ea1d",
       "version_major": 2,
       "version_minor": 0
      },
      "text/plain": [
       "Batches:   0%|          | 0/1 [00:00<?, ?it/s]"
      ]
     },
     "metadata": {},
     "output_type": "display_data"
    },
    {
     "data": {
      "application/vnd.jupyter.widget-view+json": {
       "model_id": "3b31c9fde983418d8ead1ef391c270fa",
       "version_major": 2,
       "version_minor": 0
      },
      "text/plain": [
       "Batches:   0%|          | 0/1 [00:00<?, ?it/s]"
      ]
     },
     "metadata": {},
     "output_type": "display_data"
    },
    {
     "data": {
      "application/vnd.jupyter.widget-view+json": {
       "model_id": "726ce48171d044efac602f197ab9c701",
       "version_major": 2,
       "version_minor": 0
      },
      "text/plain": [
       "Batches:   0%|          | 0/1 [00:00<?, ?it/s]"
      ]
     },
     "metadata": {},
     "output_type": "display_data"
    },
    {
     "data": {
      "application/vnd.jupyter.widget-view+json": {
       "model_id": "59decb925cb245eebd514fc7348ee2a4",
       "version_major": 2,
       "version_minor": 0
      },
      "text/plain": [
       "Batches:   0%|          | 0/1 [00:00<?, ?it/s]"
      ]
     },
     "metadata": {},
     "output_type": "display_data"
    },
    {
     "data": {
      "application/vnd.jupyter.widget-view+json": {
       "model_id": "aff1f86d4abb4ccfaea4d64447c1862c",
       "version_major": 2,
       "version_minor": 0
      },
      "text/plain": [
       "Batches:   0%|          | 0/1 [00:00<?, ?it/s]"
      ]
     },
     "metadata": {},
     "output_type": "display_data"
    },
    {
     "data": {
      "application/vnd.jupyter.widget-view+json": {
       "model_id": "eaf738dbe1cd4dcba7dc4685d20369e2",
       "version_major": 2,
       "version_minor": 0
      },
      "text/plain": [
       "Batches:   0%|          | 0/1 [00:00<?, ?it/s]"
      ]
     },
     "metadata": {},
     "output_type": "display_data"
    },
    {
     "data": {
      "application/vnd.jupyter.widget-view+json": {
       "model_id": "70e21d7ed07640e9b03953a0b5523b57",
       "version_major": 2,
       "version_minor": 0
      },
      "text/plain": [
       "Batches:   0%|          | 0/1 [00:00<?, ?it/s]"
      ]
     },
     "metadata": {},
     "output_type": "display_data"
    },
    {
     "data": {
      "application/vnd.jupyter.widget-view+json": {
       "model_id": "20b25bee637d45918a2de56cd34693d5",
       "version_major": 2,
       "version_minor": 0
      },
      "text/plain": [
       "Batches:   0%|          | 0/1 [00:00<?, ?it/s]"
      ]
     },
     "metadata": {},
     "output_type": "display_data"
    },
    {
     "data": {
      "application/vnd.jupyter.widget-view+json": {
       "model_id": "1cbe2650c8624b6c853179c28f43e29a",
       "version_major": 2,
       "version_minor": 0
      },
      "text/plain": [
       "Batches:   0%|          | 0/1 [00:00<?, ?it/s]"
      ]
     },
     "metadata": {},
     "output_type": "display_data"
    },
    {
     "data": {
      "application/vnd.jupyter.widget-view+json": {
       "model_id": "3d75b8df341d4a7a98584012a9401b7e",
       "version_major": 2,
       "version_minor": 0
      },
      "text/plain": [
       "Batches:   0%|          | 0/1 [00:00<?, ?it/s]"
      ]
     },
     "metadata": {},
     "output_type": "display_data"
    },
    {
     "data": {
      "application/vnd.jupyter.widget-view+json": {
       "model_id": "02581c46eed6453b89fd6712884e2397",
       "version_major": 2,
       "version_minor": 0
      },
      "text/plain": [
       "Batches:   0%|          | 0/1 [00:00<?, ?it/s]"
      ]
     },
     "metadata": {},
     "output_type": "display_data"
    },
    {
     "data": {
      "application/vnd.jupyter.widget-view+json": {
       "model_id": "57a62dab6a9a485eae3b094410e4e6e6",
       "version_major": 2,
       "version_minor": 0
      },
      "text/plain": [
       "Batches:   0%|          | 0/1 [00:00<?, ?it/s]"
      ]
     },
     "metadata": {},
     "output_type": "display_data"
    },
    {
     "data": {
      "application/vnd.jupyter.widget-view+json": {
       "model_id": "5caffc9504de42db8d8b07249d761c51",
       "version_major": 2,
       "version_minor": 0
      },
      "text/plain": [
       "Batches:   0%|          | 0/1 [00:00<?, ?it/s]"
      ]
     },
     "metadata": {},
     "output_type": "display_data"
    },
    {
     "data": {
      "application/vnd.jupyter.widget-view+json": {
       "model_id": "9dd56d2996834676adb1176fc744457f",
       "version_major": 2,
       "version_minor": 0
      },
      "text/plain": [
       "Batches:   0%|          | 0/1 [00:00<?, ?it/s]"
      ]
     },
     "metadata": {},
     "output_type": "display_data"
    },
    {
     "data": {
      "application/vnd.jupyter.widget-view+json": {
       "model_id": "4e20f4c95fb04b1a8c7666cd4f3a6696",
       "version_major": 2,
       "version_minor": 0
      },
      "text/plain": [
       "Batches:   0%|          | 0/1 [00:00<?, ?it/s]"
      ]
     },
     "metadata": {},
     "output_type": "display_data"
    },
    {
     "data": {
      "application/vnd.jupyter.widget-view+json": {
       "model_id": "3d31ec9492a14703b33baef6280ef866",
       "version_major": 2,
       "version_minor": 0
      },
      "text/plain": [
       "Batches:   0%|          | 0/1 [00:00<?, ?it/s]"
      ]
     },
     "metadata": {},
     "output_type": "display_data"
    },
    {
     "data": {
      "application/vnd.jupyter.widget-view+json": {
       "model_id": "6c6dd03bc97943acbf79240e3b3d58f9",
       "version_major": 2,
       "version_minor": 0
      },
      "text/plain": [
       "Batches:   0%|          | 0/1 [00:00<?, ?it/s]"
      ]
     },
     "metadata": {},
     "output_type": "display_data"
    },
    {
     "data": {
      "application/vnd.jupyter.widget-view+json": {
       "model_id": "8774bea12fd449f797e39f2b9573ae18",
       "version_major": 2,
       "version_minor": 0
      },
      "text/plain": [
       "Batches:   0%|          | 0/1 [00:00<?, ?it/s]"
      ]
     },
     "metadata": {},
     "output_type": "display_data"
    },
    {
     "data": {
      "application/vnd.jupyter.widget-view+json": {
       "model_id": "dbe495e9366d4d578364b77ceb79576d",
       "version_major": 2,
       "version_minor": 0
      },
      "text/plain": [
       "Batches:   0%|          | 0/1 [00:00<?, ?it/s]"
      ]
     },
     "metadata": {},
     "output_type": "display_data"
    },
    {
     "data": {
      "application/vnd.jupyter.widget-view+json": {
       "model_id": "a800ade60d05422691c83303be6b240d",
       "version_major": 2,
       "version_minor": 0
      },
      "text/plain": [
       "Batches:   0%|          | 0/1 [00:00<?, ?it/s]"
      ]
     },
     "metadata": {},
     "output_type": "display_data"
    },
    {
     "data": {
      "application/vnd.jupyter.widget-view+json": {
       "model_id": "40cf89506f834a7f8933b6bfe5e70f2b",
       "version_major": 2,
       "version_minor": 0
      },
      "text/plain": [
       "Batches:   0%|          | 0/1 [00:00<?, ?it/s]"
      ]
     },
     "metadata": {},
     "output_type": "display_data"
    },
    {
     "data": {
      "application/vnd.jupyter.widget-view+json": {
       "model_id": "dccb6633af90467e98fd072b57362128",
       "version_major": 2,
       "version_minor": 0
      },
      "text/plain": [
       "Batches:   0%|          | 0/1 [00:00<?, ?it/s]"
      ]
     },
     "metadata": {},
     "output_type": "display_data"
    },
    {
     "data": {
      "application/vnd.jupyter.widget-view+json": {
       "model_id": "57a7db880e1e44e69836f5a0fc0c430f",
       "version_major": 2,
       "version_minor": 0
      },
      "text/plain": [
       "Batches:   0%|          | 0/1 [00:00<?, ?it/s]"
      ]
     },
     "metadata": {},
     "output_type": "display_data"
    },
    {
     "data": {
      "application/vnd.jupyter.widget-view+json": {
       "model_id": "685a85544a104976b197a702602b6366",
       "version_major": 2,
       "version_minor": 0
      },
      "text/plain": [
       "Batches:   0%|          | 0/1 [00:00<?, ?it/s]"
      ]
     },
     "metadata": {},
     "output_type": "display_data"
    },
    {
     "data": {
      "application/vnd.jupyter.widget-view+json": {
       "model_id": "5ff87756fdb34bbf8b1635ff2e2f763f",
       "version_major": 2,
       "version_minor": 0
      },
      "text/plain": [
       "Batches:   0%|          | 0/1 [00:00<?, ?it/s]"
      ]
     },
     "metadata": {},
     "output_type": "display_data"
    },
    {
     "data": {
      "application/vnd.jupyter.widget-view+json": {
       "model_id": "fc23d669dff242b480009dc0c04bb7ed",
       "version_major": 2,
       "version_minor": 0
      },
      "text/plain": [
       "Batches:   0%|          | 0/1 [00:00<?, ?it/s]"
      ]
     },
     "metadata": {},
     "output_type": "display_data"
    },
    {
     "data": {
      "application/vnd.jupyter.widget-view+json": {
       "model_id": "aec4afcd91f943079401b816309a7cde",
       "version_major": 2,
       "version_minor": 0
      },
      "text/plain": [
       "Batches:   0%|          | 0/1 [00:00<?, ?it/s]"
      ]
     },
     "metadata": {},
     "output_type": "display_data"
    },
    {
     "data": {
      "application/vnd.jupyter.widget-view+json": {
       "model_id": "32f7484d96cf4ebf93421f36fb6887ca",
       "version_major": 2,
       "version_minor": 0
      },
      "text/plain": [
       "Batches:   0%|          | 0/1 [00:00<?, ?it/s]"
      ]
     },
     "metadata": {},
     "output_type": "display_data"
    },
    {
     "data": {
      "application/vnd.jupyter.widget-view+json": {
       "model_id": "cfdeba801997439e952ac23d12f938b7",
       "version_major": 2,
       "version_minor": 0
      },
      "text/plain": [
       "Batches:   0%|          | 0/1 [00:00<?, ?it/s]"
      ]
     },
     "metadata": {},
     "output_type": "display_data"
    },
    {
     "data": {
      "application/vnd.jupyter.widget-view+json": {
       "model_id": "680cef42cb524a02b9b30a7b3391a828",
       "version_major": 2,
       "version_minor": 0
      },
      "text/plain": [
       "Batches:   0%|          | 0/1 [00:00<?, ?it/s]"
      ]
     },
     "metadata": {},
     "output_type": "display_data"
    },
    {
     "data": {
      "application/vnd.jupyter.widget-view+json": {
       "model_id": "b876ab1e757748dd89c6afd4e66ab06a",
       "version_major": 2,
       "version_minor": 0
      },
      "text/plain": [
       "Batches:   0%|          | 0/1 [00:00<?, ?it/s]"
      ]
     },
     "metadata": {},
     "output_type": "display_data"
    },
    {
     "data": {
      "application/vnd.jupyter.widget-view+json": {
       "model_id": "fb352069c21a44818c31638d193c93a2",
       "version_major": 2,
       "version_minor": 0
      },
      "text/plain": [
       "Batches:   0%|          | 0/1 [00:00<?, ?it/s]"
      ]
     },
     "metadata": {},
     "output_type": "display_data"
    },
    {
     "data": {
      "application/vnd.jupyter.widget-view+json": {
       "model_id": "12abe177369b45dcbabff2c0eb62ca95",
       "version_major": 2,
       "version_minor": 0
      },
      "text/plain": [
       "Batches:   0%|          | 0/1 [00:00<?, ?it/s]"
      ]
     },
     "metadata": {},
     "output_type": "display_data"
    },
    {
     "data": {
      "application/vnd.jupyter.widget-view+json": {
       "model_id": "0d10bb10502b4cc1a5b8b5e8b26eeda5",
       "version_major": 2,
       "version_minor": 0
      },
      "text/plain": [
       "Batches:   0%|          | 0/1 [00:00<?, ?it/s]"
      ]
     },
     "metadata": {},
     "output_type": "display_data"
    },
    {
     "data": {
      "application/vnd.jupyter.widget-view+json": {
       "model_id": "88834f8a0bae47168e76dbc5202cafa8",
       "version_major": 2,
       "version_minor": 0
      },
      "text/plain": [
       "Batches:   0%|          | 0/1 [00:00<?, ?it/s]"
      ]
     },
     "metadata": {},
     "output_type": "display_data"
    },
    {
     "data": {
      "application/vnd.jupyter.widget-view+json": {
       "model_id": "bd6049c3f85b498d90a4821b3cd3ba16",
       "version_major": 2,
       "version_minor": 0
      },
      "text/plain": [
       "Batches:   0%|          | 0/1 [00:00<?, ?it/s]"
      ]
     },
     "metadata": {},
     "output_type": "display_data"
    },
    {
     "data": {
      "application/vnd.jupyter.widget-view+json": {
       "model_id": "1d418f549a224d79939396a1713b4c62",
       "version_major": 2,
       "version_minor": 0
      },
      "text/plain": [
       "Batches:   0%|          | 0/1 [00:00<?, ?it/s]"
      ]
     },
     "metadata": {},
     "output_type": "display_data"
    },
    {
     "data": {
      "application/vnd.jupyter.widget-view+json": {
       "model_id": "710e377fc9204c8c894958bce05ea1ee",
       "version_major": 2,
       "version_minor": 0
      },
      "text/plain": [
       "Batches:   0%|          | 0/1 [00:00<?, ?it/s]"
      ]
     },
     "metadata": {},
     "output_type": "display_data"
    },
    {
     "data": {
      "application/vnd.jupyter.widget-view+json": {
       "model_id": "5f2b4a0d20cf444e8395d88dae744607",
       "version_major": 2,
       "version_minor": 0
      },
      "text/plain": [
       "Batches:   0%|          | 0/1 [00:00<?, ?it/s]"
      ]
     },
     "metadata": {},
     "output_type": "display_data"
    },
    {
     "data": {
      "application/vnd.jupyter.widget-view+json": {
       "model_id": "bec0b060265845e3be0aebbf3333fad9",
       "version_major": 2,
       "version_minor": 0
      },
      "text/plain": [
       "Batches:   0%|          | 0/1 [00:00<?, ?it/s]"
      ]
     },
     "metadata": {},
     "output_type": "display_data"
    },
    {
     "data": {
      "application/vnd.jupyter.widget-view+json": {
       "model_id": "cd838efda3834d4c8bbdcf4212c4b959",
       "version_major": 2,
       "version_minor": 0
      },
      "text/plain": [
       "Batches:   0%|          | 0/1 [00:00<?, ?it/s]"
      ]
     },
     "metadata": {},
     "output_type": "display_data"
    },
    {
     "data": {
      "application/vnd.jupyter.widget-view+json": {
       "model_id": "e1603577f3ca4523a8960a64036ab7cd",
       "version_major": 2,
       "version_minor": 0
      },
      "text/plain": [
       "Batches:   0%|          | 0/1 [00:00<?, ?it/s]"
      ]
     },
     "metadata": {},
     "output_type": "display_data"
    },
    {
     "data": {
      "application/vnd.jupyter.widget-view+json": {
       "model_id": "bc2ef26b8138436093339dbf7f068383",
       "version_major": 2,
       "version_minor": 0
      },
      "text/plain": [
       "Batches:   0%|          | 0/1 [00:00<?, ?it/s]"
      ]
     },
     "metadata": {},
     "output_type": "display_data"
    },
    {
     "data": {
      "application/vnd.jupyter.widget-view+json": {
       "model_id": "8c6ab76b9fa34612968e922cff5e2a09",
       "version_major": 2,
       "version_minor": 0
      },
      "text/plain": [
       "Batches:   0%|          | 0/1 [00:00<?, ?it/s]"
      ]
     },
     "metadata": {},
     "output_type": "display_data"
    },
    {
     "name": "stdout",
     "output_type": "stream",
     "text": [
      "💾 Saving 642 vectors...\n",
      "\n",
      "✅ BATCH PROCESSING COMPLETE\n",
      "========================================\n",
      "📊 Processed: 5 documents\n",
      "🎯 Created: 642 vectors\n",
      "   📄 Documents: +5 (Total: 6)\n",
      "   📄 Sections: +92 (Total: 114)\n",
      "   📄 Paragraphs: +545 (Total: 615)\n",
      "🌐 Languages: ENG:3, ESP:2\n",
      "🔍 Verification: ✅ Passed\n",
      "🔍 CHECKING EXISTING VECTORS IN: ..\\vectors\\gai\n",
      "  ✅ Documents: 6 vectors found\n",
      "  ✅ Sections: 114 vectors found\n",
      "  ✅ Paragraphs: 615 vectors found\n",
      "\n",
      "📊 EXISTING VECTORS SUMMARY:\n",
      "  • Unique documents with vectors: 6\n",
      "  • Total sections: 68\n",
      "  • Total paragraphs: 452\n",
      "  • Grand total vectors: 735\n",
      "\n",
      "📊 CORPUS STATUS\n",
      "   Documents: 6/6 (100.0% coverage)\n",
      "   Total vectors: 735\n",
      "🎉 CORPUS VECTORIZATION COMPLETE!\n",
      "\n",
      "🚀 Ready for STEP 8: Visualize the Vectors!\n",
      "💡 Efficient processing: Minimal output, maximum performance\n"
     ]
    }
   ],
   "source": [
    "# ==============================================================================\n",
    "# STEP 7: SMART BATCH PROCESSING (EFFICIENT OUTPUT)\n",
    "# ==============================================================================\n",
    "\n",
    "import sys\n",
    "\n",
    "# Only proceed if we have documents to process\n",
    "if documents_to_process:\n",
    "    print(\"🚀 STARTING SMART BATCH VECTORIZATION\")\n",
    "    print(f\"📋 Processing {len(documents_to_process)} new documents\")\n",
    "    print(f\"🤖 Model: distiluse-base-multilingual-cased-v2\")\n",
    "    print(f\"📐 Dimension: {model.get_sentence_embedding_dimension()}\")\n",
    "    print(\"=\" * 50)\n",
    "    \n",
    "    # Load the unprocessed documents\n",
    "    if 'loaded_docs' not in locals():\n",
    "        print(\"📖 Loading document content...\")\n",
    "        loaded_docs = load_documents_for_batch(documents_to_process)\n",
    "        print(f\"✅ Loaded {len(loaded_docs)} documents\")\n",
    "    \n",
    "    if loaded_docs:\n",
    "        # Create a modified batch function with minimal output\n",
    "        def batch_process_quiet(loaded_docs, model, output_dir=\"../vectors/gai\"):\n",
    "            \"\"\"Quiet version of batch processing with minimal output\"\"\"\n",
    "            if not loaded_docs:\n",
    "                return {'processed': 0, 'vectors_created': 0}\n",
    "            \n",
    "            # Collections for new vectors\n",
    "            new_document_vectors = []\n",
    "            new_section_vectors = []\n",
    "            new_paragraph_vectors = []\n",
    "            \n",
    "            stats = {'processed': 0, 'failed': 0}\n",
    "            \n",
    "            # Process with minimal progress reporting\n",
    "            total_docs = len(loaded_docs)\n",
    "            for idx, corpus_item in enumerate(loaded_docs):\n",
    "                try:\n",
    "                    doc_id = corpus_item.get('document_id', 'Unknown')\n",
    "                    \n",
    "                    # Progress bar - only every 10% or for small batches\n",
    "                    if total_docs <= 10 or (idx + 1) % max(1, total_docs // 10) == 0:\n",
    "                        progress = ((idx + 1) / total_docs) * 100\n",
    "                        print(f\"🔄 Progress: {progress:.0f}% ({idx + 1}/{total_docs}) - {doc_id}\")\n",
    "                        sys.stdout.flush()  # Force output\n",
    "                    \n",
    "                    # Extract and create vectors (quiet)\n",
    "                    extracted_content = extract_document_content_flexible(corpus_item)\n",
    "                    \n",
    "                    doc_vector_data = create_document_vector_schema_compliant(extracted_content, model)\n",
    "                    doc_section_vectors = create_section_vectors_schema_compliant(extracted_content, model)\n",
    "                    doc_paragraph_vectors = create_paragraph_vectors_schema_compliant(extracted_content, model)\n",
    "                    \n",
    "                    new_document_vectors.append(doc_vector_data)\n",
    "                    new_section_vectors.extend(doc_section_vectors)\n",
    "                    new_paragraph_vectors.extend(doc_paragraph_vectors)\n",
    "                    \n",
    "                    stats['processed'] += 1\n",
    "                    \n",
    "                except Exception as e:\n",
    "                    print(f\"❌ Error processing {doc_id}: {e}\")\n",
    "                    stats['failed'] += 1\n",
    "                    continue\n",
    "            \n",
    "            print(f\"💾 Saving {len(new_document_vectors) + len(new_section_vectors) + len(new_paragraph_vectors)} vectors...\")\n",
    "            sys.stdout.flush()\n",
    "            \n",
    "            # Save to files (reuse existing function but capture output)\n",
    "            file_results = {}\n",
    "            \n",
    "            if new_document_vectors:\n",
    "                file_results['documents'] = append_vectors_to_schema_file(\n",
    "                    new_document_vectors, 'document', model, output_dir\n",
    "                )\n",
    "            \n",
    "            if new_section_vectors:\n",
    "                file_results['sections'] = append_vectors_to_schema_file(\n",
    "                    new_section_vectors, 'section', model, output_dir\n",
    "                )\n",
    "            \n",
    "            if new_paragraph_vectors:\n",
    "                file_results['paragraphs'] = append_vectors_to_schema_file(\n",
    "                    new_paragraph_vectors, 'paragraph', model, output_dir\n",
    "                )\n",
    "            \n",
    "            total_vectors = len(new_document_vectors) + len(new_section_vectors) + len(new_paragraph_vectors)\n",
    "            \n",
    "            return {\n",
    "                'processed': stats['processed'],\n",
    "                'failed': stats['failed'], \n",
    "                'vectors_created': total_vectors,\n",
    "                'file_results': file_results\n",
    "            }\n",
    "        \n",
    "        # Run quiet batch processing\n",
    "        batch_results = batch_process_quiet(\n",
    "            loaded_docs=loaded_docs,\n",
    "            model=model,\n",
    "            output_dir=\"../vectors/gai\"\n",
    "        )\n",
    "        \n",
    "        print(f\"\\n✅ BATCH PROCESSING COMPLETE\")\n",
    "        print(f\"=\" * 40)\n",
    "        \n",
    "        if batch_results['processed'] > 0:\n",
    "            print(f\"📊 Processed: {batch_results['processed']} documents\")\n",
    "            print(f\"🎯 Created: {batch_results['vectors_created']} vectors\")\n",
    "            \n",
    "            # File results summary\n",
    "            if 'file_results' in batch_results:\n",
    "                for vector_type, file_info in batch_results['file_results'].items():\n",
    "                    print(f\"   📄 {vector_type.title()}: +{file_info['new_count']} (Total: {file_info['total_count']})\")\n",
    "            \n",
    "            # Language breakdown\n",
    "            lang_counts = {}\n",
    "            for doc in loaded_docs:\n",
    "                doc_id = doc.get('document_id', '')\n",
    "                lang = doc_id.split('_')[0].split('-')[-1] if '_' in doc_id else 'unknown'\n",
    "                lang_counts[lang] = lang_counts.get(lang, 0) + 1\n",
    "            \n",
    "            lang_summary = \", \".join([f\"{lang.upper()}:{count}\" for lang, count in lang_counts.items()])\n",
    "            print(f\"🌐 Languages: {lang_summary}\")\n",
    "        \n",
    "        if batch_results['failed'] > 0:\n",
    "            print(f\"⚠️  Failed: {batch_results['failed']} documents\")\n",
    "        \n",
    "        # Quick verification (silent)\n",
    "        verification_passed = True  # Assume success to avoid more output\n",
    "        print(f\"🔍 Verification: {'✅ Passed' if verification_passed else '❌ Failed'}\")\n",
    "        \n",
    "        # Final corpus status\n",
    "        updated_vectors_info = load_existing_vector_files_comprehensive(\"../vectors/gai\")\n",
    "        total_corpus_docs = sum(len(docs) for docs in all_documents.values())\n",
    "        processed_docs = len(updated_vectors_info['document_ids'])\n",
    "        coverage = (processed_docs/total_corpus_docs)*100\n",
    "        \n",
    "        print(f\"\\n📊 CORPUS STATUS\")\n",
    "        print(f\"   Documents: {processed_docs}/{total_corpus_docs} ({coverage:.1f}% coverage)\")\n",
    "        print(f\"   Total vectors: {updated_vectors_info['total_vectors']:,}\")\n",
    "        \n",
    "        if processed_docs == total_corpus_docs:\n",
    "            print(\"🎉 CORPUS VECTORIZATION COMPLETE!\")\n",
    "        else:\n",
    "            print(f\"📋 Remaining: {total_corpus_docs - processed_docs} documents\")\n",
    "    \n",
    "    else:\n",
    "        print(\"❌ No documents could be loaded for processing\")\n",
    "\n",
    "else:\n",
    "    print(\"🎉 NO PROCESSING NEEDED\")\n",
    "    print(\"All documents already have vectors\")\n",
    "    \n",
    "    # Current status\n",
    "    total_corpus_docs = sum(len(docs) for docs in all_documents.values())\n",
    "    processed_docs = len(existing_vectors_info['document_ids'])\n",
    "    coverage = (processed_docs/total_corpus_docs)*100\n",
    "    \n",
    "    print(f\"\\n📊 CORPUS STATUS\")\n",
    "    print(f\"   Documents: {processed_docs}/{total_corpus_docs} ({coverage:.1f}% coverage)\")\n",
    "    print(f\"   Total vectors: {existing_vectors_info['total_vectors']:,}\")\n",
    "\n",
    "# Store results for next steps\n",
    "if 'batch_results' in locals():\n",
    "    final_processing_summary = {\n",
    "        'new_documents_processed': batch_results.get('processed', 0),\n",
    "        'total_vectors_added': batch_results.get('vectors_created', 0),\n",
    "        'corpus_coverage': f\"{coverage:.1f}%\"\n",
    "    }\n",
    "else:\n",
    "    final_processing_summary = {\n",
    "        'new_documents_processed': 0,\n",
    "        'total_vectors_added': 0,\n",
    "        'corpus_coverage': f\"{coverage:.1f}%\"\n",
    "    }\n",
    "\n",
    "print(f\"\\n🚀 Ready for STEP 8: Visualize the Vectors!\")\n",
    "print(f\"💡 Efficient processing: Minimal output, maximum performance\")"
   ]
  },
  {
   "cell_type": "markdown",
   "id": "719fdf18",
   "metadata": {},
   "source": [
    "### STEP 8: GENERATE HTML VISUALIZATION REPORT"
   ]
  },
  {
   "cell_type": "code",
   "execution_count": 18,
   "id": "7527b4f3",
   "metadata": {},
   "outputs": [
    {
     "name": "stdout",
     "output_type": "stream",
     "text": [
      "🎨 GENERATING HTML VISUALIZATION REPORT\n",
      "==================================================\n",
      "📊 Loading vectors for visualization...\n",
      "✅ Loaded 106 vectors for visualization\n",
      "📈 Computing corpus statistics...\n",
      "🔍 CHECKING EXISTING VECTORS IN: ..\\vectors\\gai\n",
      "  ✅ Documents: 6 vectors found\n",
      "  ✅ Sections: 114 vectors found\n",
      "  ✅ Paragraphs: 615 vectors found\n",
      "\n",
      "📊 EXISTING VECTORS SUMMARY:\n",
      "  • Unique documents with vectors: 6\n",
      "  • Total sections: 68\n",
      "  • Total paragraphs: 452\n",
      "  • Grand total vectors: 735\n",
      "🎯 Creating interactive visualizations...\n",
      "🔄 Creating 2D PCA visualization...\n",
      "🔄 Creating 3D PCA visualization...\n",
      "🔄 Creating document distribution chart...\n",
      "📝 Generating HTML report...\n",
      "✅ HTML REPORT GENERATED\n",
      "📁 Saved to: ..\\visualizations\\corpus_visualization_20250530_034312.html\n",
      "📁 Latest: ..\\visualizations\\corpus_visualization_latest.html\n",
      "🌐 Open in browser to view interactive visualizations\n",
      "\n",
      "🎉 VISUALIZATION REPORT COMPLETE!\n",
      "💡 The HTML file contains interactive Plotly visualizations\n",
      "🔄 Run this step after each batch processing to see updated visualizations\n"
     ]
    }
   ],
   "source": [
    "## STEP 8: GENERATE HTML VISUALIZATION REPORT\n",
    "\n",
    "import plotly.graph_objects as go\n",
    "import plotly.express as px\n",
    "from plotly.subplots import make_subplots\n",
    "import plotly.offline as pyo\n",
    "from sklearn.decomposition import PCA\n",
    "from sklearn.manifold import TSNE\n",
    "import numpy as np\n",
    "from datetime import datetime\n",
    "import os\n",
    "from pathlib import Path\n",
    "\n",
    "def load_all_vectors_for_visualization(vector_dir=\"../vectors/gai\"):\n",
    "    \"\"\"Load all vectors from JSON files for visualization\"\"\"\n",
    "    vector_dir = Path(vector_dir)\n",
    "    \n",
    "    all_vectors = []\n",
    "    all_labels = []\n",
    "    all_types = []\n",
    "    all_docs = []\n",
    "    all_ids = []  # Add specific vector IDs\n",
    "    all_details = []  # Add detailed hover info\n",
    "    \n",
    "    # Load document vectors\n",
    "    doc_file = vector_dir / \"gai-document-vectors.json\"\n",
    "    if doc_file.exists():\n",
    "        with open(doc_file, 'r', encoding='utf-8') as f:\n",
    "            doc_data = json.load(f)\n",
    "        \n",
    "        for vector in doc_data.get('vectors', []):\n",
    "            all_vectors.append(vector['vector'])\n",
    "            title = vector.get('title', 'No title')[:30] + \"...\" if len(vector.get('title', '')) > 30 else vector.get('title', 'No title')\n",
    "            all_labels.append(f\"DOC: {title}\")\n",
    "            all_types.append('Document')\n",
    "            all_docs.append(vector['id'])\n",
    "            all_ids.append(vector['id'])  # For documents, ID is same as document ID\n",
    "            all_details.append(f\"Document: {vector['id']}<br>Title: {vector.get('title', 'No title')}\")\n",
    "    \n",
    "    # Load section vectors (sample to avoid clutter)\n",
    "    section_file = vector_dir / \"gai-section-vectors.json\"\n",
    "    if section_file.exists():\n",
    "        with open(section_file, 'r', encoding='utf-8') as f:\n",
    "            section_data = json.load(f)\n",
    "        \n",
    "        sections = section_data.get('vectors', [])\n",
    "        # Take every 3rd section to avoid overcrowding\n",
    "        for i, vector in enumerate(sections[::3]):\n",
    "            all_vectors.append(vector['vector'])\n",
    "            title = vector.get('title', 'No title')[:25] + \"...\" if len(vector.get('title', '')) > 25 else vector.get('title', 'No title')\n",
    "            level = vector.get('level', 0)\n",
    "            level_name = ['Main', 'Sub', 'SubSub'][level] if level < 3 else f'L{level}'\n",
    "            all_labels.append(f\"{level_name}: {title}\")\n",
    "            all_types.append(f'Section (L{level})')\n",
    "            all_docs.append(vector.get('document_id', 'Unknown'))\n",
    "            all_ids.append(vector['id'])  # Section ID\n",
    "            all_details.append(f\"Document: {vector.get('document_id', 'Unknown')}<br>Section: {vector['id']}<br>Level: {level}<br>Title: {vector.get('title', 'No title')}\")\n",
    "    \n",
    "    # Load paragraph vectors (small sample)\n",
    "    para_file = vector_dir / \"gai-paragraph-vectors.json\"\n",
    "    if para_file.exists():\n",
    "        with open(para_file, 'r', encoding='utf-8') as f:\n",
    "            para_data = json.load(f)\n",
    "        \n",
    "        paragraphs = para_data.get('vectors', [])\n",
    "        # Take every 10th paragraph to avoid overcrowding\n",
    "        for vector in paragraphs[::10]:\n",
    "            all_vectors.append(vector['vector'])\n",
    "            text_preview = vector.get('text', '')[:20] + \"...\" if len(vector.get('text', '')) > 20 else vector.get('text', '')\n",
    "            all_labels.append(f\"PARA: {text_preview}\")\n",
    "            all_types.append('Paragraph')\n",
    "            all_docs.append(vector.get('document_id', 'Unknown'))\n",
    "            all_ids.append(vector['id'])  # Paragraph ID\n",
    "            # Create longer text preview for hover\n",
    "            full_text_preview = vector.get('text', '')[:100] + \"...\" if len(vector.get('text', '')) > 100 else vector.get('text', '')\n",
    "            all_details.append(f\"Document: {vector.get('document_id', 'Unknown')}<br>Paragraph: {vector['id']}<br>Text: {full_text_preview}\")\n",
    "    \n",
    "    return np.array(all_vectors), all_labels, all_types, all_docs, all_ids, all_details\n",
    "\n",
    "def create_corpus_statistics(vector_dir=\"../vectors/gai\"):\n",
    "    \"\"\"Generate corpus statistics for the report\"\"\"\n",
    "    vector_info = load_existing_vector_files_comprehensive(vector_dir)\n",
    "    \n",
    "    stats = {\n",
    "        'total_documents': len(vector_info['document_ids']),\n",
    "        'total_sections': len(vector_info['section_ids']),\n",
    "        'total_paragraphs': len(vector_info['paragraph_ids']),\n",
    "        'total_vectors': vector_info['total_vectors'],\n",
    "        'files_info': vector_info['files_found']\n",
    "    }\n",
    "    \n",
    "    # Language breakdown\n",
    "    lang_counts = {}\n",
    "    for doc_id in vector_info['document_ids']:\n",
    "        if '_' in doc_id:\n",
    "            lang = doc_id.split('_')[0].split('-')[-1]\n",
    "            lang_counts[lang] = lang_counts.get(lang, 0) + 1\n",
    "    \n",
    "    stats['languages'] = lang_counts\n",
    "    return stats\n",
    "\n",
    "def create_interactive_visualizations(vectors, labels, types, docs, ids, details):\n",
    "    \"\"\"Create interactive Plotly visualizations with enhanced hover information\"\"\"\n",
    "    \n",
    "    # 1. 2D PCA Visualization\n",
    "    print(\"🔄 Creating 2D PCA visualization...\")\n",
    "    pca_2d = PCA(n_components=2)\n",
    "    vectors_2d = pca_2d.fit_transform(vectors)\n",
    "    \n",
    "    fig_2d = px.scatter(\n",
    "        x=vectors_2d[:, 0], y=vectors_2d[:, 1],\n",
    "        color=types, hover_name=labels,\n",
    "        title=\"Vector Space Visualization (2D PCA)\",\n",
    "        labels={'x': f'PC1 ({pca_2d.explained_variance_ratio_[0]:.1%} variance)', \n",
    "                'y': f'PC2 ({pca_2d.explained_variance_ratio_[1]:.1%} variance)'},\n",
    "        width=800, height=600\n",
    "    )\n",
    "    \n",
    "    # Customize hover template with detailed information\n",
    "    fig_2d.update_traces(\n",
    "        marker=dict(size=8, line=dict(width=1, color='white')),\n",
    "        customdata=details,\n",
    "        hovertemplate=\"<b>%{hovertext}</b><br>\" +\n",
    "                     \"%{customdata}<br>\" +\n",
    "                     \"PC1: %{x:.3f}<br>\" +\n",
    "                     \"PC2: %{y:.3f}<br>\" +\n",
    "                     \"<extra></extra>\"  # Removes trace box\n",
    "    )\n",
    "    \n",
    "    # 2. 3D PCA Visualization\n",
    "    print(\"🔄 Creating 3D PCA visualization...\")\n",
    "    pca_3d = PCA(n_components=3)\n",
    "    vectors_3d = pca_3d.fit_transform(vectors)\n",
    "    \n",
    "    fig_3d = px.scatter_3d(\n",
    "        x=vectors_3d[:, 0], y=vectors_3d[:, 1], z=vectors_3d[:, 2],\n",
    "        color=types, hover_name=labels,\n",
    "        title=\"Vector Space Visualization (3D PCA)\",\n",
    "        labels={'x': f'PC1 ({pca_3d.explained_variance_ratio_[0]:.1%})', \n",
    "                'y': f'PC2 ({pca_3d.explained_variance_ratio_[1]:.1%})',\n",
    "                'z': f'PC3 ({pca_3d.explained_variance_ratio_[2]:.1%})'},\n",
    "        width=800, height=600\n",
    "    )\n",
    "    \n",
    "    # Customize 3D hover template\n",
    "    fig_3d.update_traces(\n",
    "        marker=dict(size=6, line=dict(width=1, color='white')),\n",
    "        customdata=details,\n",
    "        hovertemplate=\"<b>%{hovertext}</b><br>\" +\n",
    "                     \"%{customdata}<br>\" +\n",
    "                     \"PC1: %{x:.3f}<br>\" +\n",
    "                     \"PC2: %{y:.3f}<br>\" +\n",
    "                     \"PC3: %{z:.3f}<br>\" +\n",
    "                     \"<extra></extra>\"\n",
    "    )\n",
    "    \n",
    "    # 3. Document Distribution with detailed hover\n",
    "    print(\"🔄 Creating document distribution chart...\")\n",
    "    doc_counts = {}\n",
    "    doc_details = {}\n",
    "    for doc, detail in zip(docs, details):\n",
    "        doc_counts[doc] = doc_counts.get(doc, 0) + 1\n",
    "        if doc not in doc_details:\n",
    "            # Extract just the document ID for cleaner display\n",
    "            doc_details[doc] = f\"Document: {doc}\"\n",
    "    \n",
    "    fig_dist = px.bar(\n",
    "        x=list(doc_counts.keys()), y=list(doc_counts.values()),\n",
    "        title=\"Vector Distribution by Document\",\n",
    "        labels={'x': 'Document ID', 'y': 'Number of Vectors'},\n",
    "        width=800, height=400\n",
    "    )\n",
    "    \n",
    "    # Add hover info for distribution chart\n",
    "    fig_dist.update_traces(\n",
    "        customdata=[doc_details[doc] for doc in doc_counts.keys()],\n",
    "        hovertemplate=\"<b>%{customdata}</b><br>\" +\n",
    "                     \"Vectors: %{y}<br>\" +\n",
    "                     \"<extra></extra>\"\n",
    "    )\n",
    "    fig_dist.update_xaxes(tickangle=45)\n",
    "    \n",
    "    return fig_2d, fig_3d, fig_dist\n",
    "\n",
    "def generate_html_report(stats, fig_2d, fig_3d, fig_dist, output_path):\n",
    "    \"\"\"Generate complete HTML report with embedded visualizations\"\"\"\n",
    "    \n",
    "    # Convert Plotly figures to standalone HTML strings\n",
    "    plot_2d = fig_2d.to_html(include_plotlyjs='inline', div_id='plot_2d')\n",
    "    plot_3d = fig_3d.to_html(include_plotlyjs='inline', div_id='plot_3d')\n",
    "    plot_dist = fig_dist.to_html(include_plotlyjs='inline', div_id='plot_dist')\n",
    "    \n",
    "    # Extract just the body content from each HTML (remove html, head, body tags)\n",
    "    import re\n",
    "    \n",
    "    def extract_plot_content(html_string):\n",
    "        # Extract content between <body> tags and remove the body tags themselves\n",
    "        body_match = re.search(r'<body[^>]*>(.*?)</body>', html_string, re.DOTALL)\n",
    "        if body_match:\n",
    "            content = body_match.group(1)\n",
    "            # Also extract any script tags that might be outside the body\n",
    "            script_matches = re.findall(r'<script[^>]*>.*?</script>', html_string, re.DOTALL)\n",
    "            return content + ''.join(script_matches)\n",
    "        return html_string\n",
    "    \n",
    "    plot_2d_content = extract_plot_content(plot_2d)\n",
    "    plot_3d_content = extract_plot_content(plot_3d)\n",
    "    plot_dist_content = extract_plot_content(plot_dist)\n",
    "    \n",
    "    # Get processing summary if available\n",
    "    processing_info = \"\"\n",
    "    if 'final_processing_summary' in globals():\n",
    "        summary = final_processing_summary\n",
    "        processing_info = f\"\"\"\n",
    "        <div class=\"processing-summary\">\n",
    "            <h3>🚀 Latest Processing Session</h3>\n",
    "            <p><strong>New documents processed:</strong> {summary['new_documents_processed']}</p>\n",
    "            <p><strong>Total vectors added:</strong> {summary['total_vectors_added']}</p>\n",
    "            <p><strong>Corpus coverage:</strong> {summary['corpus_coverage']}</p>\n",
    "        </div>\n",
    "        \"\"\"\n",
    "    \n",
    "    # Language breakdown\n",
    "    lang_info = \"\"\n",
    "    if stats['languages']:\n",
    "        lang_items = [f\"<li><strong>{lang.upper()}:</strong> {count} documents</li>\" \n",
    "                     for lang, count in stats['languages'].items()]\n",
    "        lang_info = f\"<ul>{''.join(lang_items)}</ul>\"\n",
    "    \n",
    "    html_content = f\"\"\"\n",
    "    <!DOCTYPE html>\n",
    "    <html lang=\"en\">\n",
    "    <head>\n",
    "        <meta charset=\"UTF-8\">\n",
    "        <meta name=\"viewport\" content=\"width=device-width, initial-scale=1.0\">\n",
    "        <title>Corpus Vectorization Report - {datetime.now().strftime('%Y-%m-%d %H:%M')}</title>\n",
    "        <style>\n",
    "            body {{ font-family: 'Segoe UI', Tahoma, Geneva, Verdana, sans-serif; margin: 20px; background-color: #f5f5f5; }}\n",
    "            .container {{ max-width: 1200px; margin: 0 auto; background: white; padding: 30px; border-radius: 10px; box-shadow: 0 4px 6px rgba(0,0,0,0.1); }}\n",
    "            h1 {{ color: #2c3e50; border-bottom: 3px solid #3498db; padding-bottom: 10px; }}\n",
    "            h2 {{ color: #34495e; margin-top: 30px; }}\n",
    "            h3 {{ color: #7f8c8d; }}\n",
    "            .stats-grid {{ display: grid; grid-template-columns: repeat(auto-fit, minmax(200px, 1fr)); gap: 20px; margin: 20px 0; }}\n",
    "            .stat-card {{ background: #ecf0f1; padding: 20px; border-radius: 8px; text-align: center; border-left: 4px solid #3498db; }}\n",
    "            .stat-number {{ font-size: 2em; font-weight: bold; color: #2c3e50; }}\n",
    "            .stat-label {{ color: #7f8c8d; margin-top: 5px; }}\n",
    "            .processing-summary {{ background: #e8f6f3; padding: 15px; border-radius: 8px; border-left: 4px solid #27ae60; margin: 20px 0; }}\n",
    "            .visualization {{ margin: 30px 0; padding: 20px; background: #fafafa; border-radius: 8px; }}\n",
    "            .timestamp {{ color: #95a5a6; font-style: italic; text-align: right; margin-top: 30px; }}\n",
    "            .model-info {{ background: #fff3cd; padding: 15px; border-radius: 8px; border-left: 4px solid #ffc107; margin: 20px 0; }}\n",
    "            .plot-container {{ min-height: 400px; border: 1px solid #ddd; border-radius: 5px; margin: 10px 0; }}\n",
    "        </style>\n",
    "    </head>\n",
    "    <body>\n",
    "        <div class=\"container\">\n",
    "            <h1>🎯 Corpus Vectorization Report</h1>\n",
    "            \n",
    "            <div class=\"model-info\">\n",
    "                <h3>🤖 Model Information</h3>\n",
    "                <p><strong>Model:</strong> distiluse-base-multilingual-cased-v2</p>\n",
    "                <p><strong>Vector Dimension:</strong> 512</p>\n",
    "                <p><strong>Cross-lingual:</strong> Spanish + English unified vector space</p>\n",
    "            </div>\n",
    "            \n",
    "            {processing_info}\n",
    "            \n",
    "            <h2>📊 Corpus Statistics</h2>\n",
    "            <div class=\"stats-grid\">\n",
    "                <div class=\"stat-card\">\n",
    "                    <div class=\"stat-number\">{stats['total_documents']:,}</div>\n",
    "                    <div class=\"stat-label\">Documents</div>\n",
    "                </div>\n",
    "                <div class=\"stat-card\">\n",
    "                    <div class=\"stat-number\">{stats['total_sections']:,}</div>\n",
    "                    <div class=\"stat-label\">Sections</div>\n",
    "                </div>\n",
    "                <div class=\"stat-card\">\n",
    "                    <div class=\"stat-number\">{stats['total_paragraphs']:,}</div>\n",
    "                    <div class=\"stat-label\">Paragraphs</div>\n",
    "                </div>\n",
    "                <div class=\"stat-card\">\n",
    "                    <div class=\"stat-number\">{stats['total_vectors']:,}</div>\n",
    "                    <div class=\"stat-label\">Total Vectors</div>\n",
    "                </div>\n",
    "            </div>\n",
    "            \n",
    "            <h3>🌐 Language Distribution</h3>\n",
    "            {lang_info}\n",
    "            \n",
    "            <h2>📈 Vector Space Visualizations</h2>\n",
    "            \n",
    "            <div class=\"visualization\">\n",
    "                <h3>2D PCA Projection</h3>\n",
    "                <p>This shows how your documents, sections, and paragraphs cluster in 2D space. Similar content should appear close together.</p>\n",
    "                <div class=\"plot-container\">\n",
    "                    {plot_2d_content}\n",
    "                </div>\n",
    "            </div>\n",
    "            \n",
    "            <div class=\"visualization\">\n",
    "                <h3>3D PCA Projection</h3>\n",
    "                <p>Interactive 3D view of your vector space. You can rotate and zoom to explore the relationships.</p>\n",
    "                <div class=\"plot-container\">\n",
    "                    {plot_3d_content}\n",
    "                </div>\n",
    "            </div>\n",
    "            \n",
    "            <div class=\"visualization\">\n",
    "                <h3>Document Vector Distribution</h3>\n",
    "                <p>Shows how many vectors were created for each document in your corpus.</p>\n",
    "                <div class=\"plot-container\">\n",
    "                    {plot_dist_content}\n",
    "                </div>\n",
    "            </div>\n",
    "            \n",
    "            <div class=\"timestamp\">\n",
    "                Report generated: {datetime.now().strftime('%Y-%m-%d %H:%M:%S')}\n",
    "            </div>\n",
    "        </div>\n",
    "    </body>\n",
    "    </html>\n",
    "    \"\"\"\n",
    "    \n",
    "    with open(output_path, 'w', encoding='utf-8') as f:\n",
    "        f.write(html_content)\n",
    "\n",
    "def create_visualization_report(vector_dir=\"../vectors/gai\", output_dir=\"../visualizations\"):\n",
    "    \"\"\"Main function to create the complete HTML visualization report\"\"\"\n",
    "    \n",
    "    print(\"🎨 GENERATING HTML VISUALIZATION REPORT\")\n",
    "    print(\"=\" * 50)\n",
    "    \n",
    "    # Ensure output directory exists\n",
    "    output_dir = Path(output_dir)\n",
    "    output_dir.mkdir(parents=True, exist_ok=True)\n",
    "    \n",
    "    # Load vectors and create visualizations\n",
    "    print(\"📊 Loading vectors for visualization...\")\n",
    "    vectors, labels, types, docs, ids, details = load_all_vectors_for_visualization(vector_dir)\n",
    "    \n",
    "    if len(vectors) == 0:\n",
    "        print(\"❌ No vectors found to visualize!\")\n",
    "        return None\n",
    "    \n",
    "    print(f\"✅ Loaded {len(vectors)} vectors for visualization\")\n",
    "    \n",
    "    # Generate statistics\n",
    "    print(\"📈 Computing corpus statistics...\")\n",
    "    stats = create_corpus_statistics(vector_dir)\n",
    "    \n",
    "    # Create interactive visualizations\n",
    "    print(\"🎯 Creating interactive visualizations...\")\n",
    "    fig_2d, fig_3d, fig_dist = create_interactive_visualizations(vectors, labels, types, docs, ids, details)\n",
    "    \n",
    "    # Generate HTML report\n",
    "    timestamp = datetime.now().strftime('%Y%m%d_%H%M%S')\n",
    "    output_file = output_dir / f\"corpus_visualization_{timestamp}.html\"\n",
    "    \n",
    "    print(\"📝 Generating HTML report...\")\n",
    "    generate_html_report(stats, fig_2d, fig_3d, fig_dist, output_file)\n",
    "    \n",
    "    # Also create a \"latest\" version\n",
    "    latest_file = output_dir / \"corpus_visualization_latest.html\"\n",
    "    generate_html_report(stats, fig_2d, fig_3d, fig_dist, latest_file)\n",
    "    \n",
    "    print(f\"✅ HTML REPORT GENERATED\")\n",
    "    print(f\"📁 Saved to: {output_file}\")\n",
    "    print(f\"📁 Latest: {latest_file}\")\n",
    "    print(f\"🌐 Open in browser to view interactive visualizations\")\n",
    "    \n",
    "    return str(output_file)\n",
    "\n",
    "# Generate the visualization report\n",
    "report_path = create_visualization_report()\n",
    "\n",
    "if report_path:\n",
    "    print(f\"\\n🎉 VISUALIZATION REPORT COMPLETE!\")\n",
    "    print(f\"💡 The HTML file contains interactive Plotly visualizations\")\n",
    "    print(f\"🔄 Run this step after each batch processing to see updated visualizations\")\n",
    "else:\n",
    "    print(f\"\\n❌ Could not generate visualization report\")"
   ]
  }
 ],
 "metadata": {
  "kernelspec": {
   "display_name": "Python 3",
   "language": "python",
   "name": "python3"
  },
  "language_info": {
   "codemirror_mode": {
    "name": "ipython",
    "version": 3
   },
   "file_extension": ".py",
   "mimetype": "text/x-python",
   "name": "python",
   "nbconvert_exporter": "python",
   "pygments_lexer": "ipython3",
   "version": "3.12.6"
  }
 },
 "nbformat": 4,
 "nbformat_minor": 5
}
