{
 "cells": [
  {
   "cell_type": "markdown",
   "id": "e7801594",
   "metadata": {},
   "source": [
    "# CORPUS-INFORMED AUTO-TRANSLATOR: VECTOR CREATION NOTEBOOK\n",
    "Day 3: Converting JSON Corpora into Semantic Vectors\n",
    "(Create vectors for multiple corpus items)"
   ]
  },
  {
   "cell_type": "markdown",
   "id": "2852c9cc",
   "metadata": {},
   "source": [
    "## Notebook Outline\n",
    "\n",
    "**Part 1: Data Preparation and Planning**\n",
    "\n",
    "- STEP 1: LOAD THE REQUIRED LIBRARIES\n",
    "- STEP 2: LOAD AND EXAMINE DATABASE STRUCTURE\n",
    "- STEP 3: LOAD UNPROCESSED DOCUMENTS FOR BATCH PROCESSING (WITHOUT RE-VECTORIZATION)\n",
    "\n",
    "**Part 2: Function and Model Setup**\n",
    "\n",
    "- STEP 4: DEFINE TEXT EXTRACTION FUNCTIONS (FLEXIBLE)\n",
    "- STEP 5: DEFINE VECTORIZATION FUNCTIONS\n",
    "- STEP 6: INITIALIZE THE MULTILINGUAL EMBEDDING MODEL\n",
    "\n",
    "**Part 3: Execution and Output**\n",
    "- STEP 7: BATCH PROCESS DOCUMENTS"
   ]
  },
  {
   "cell_type": "markdown",
   "id": "82f00401",
   "metadata": {},
   "source": [
    "## ============================================================================="
   ]
  },
  {
   "cell_type": "markdown",
   "id": "47203421",
   "metadata": {},
   "source": [
    "\n",
    "## Part 1: Data Preparation and Planning"
   ]
  },
  {
   "cell_type": "markdown",
   "id": "7d423c59",
   "metadata": {},
   "source": [
    "### STEP 1: LOAD THE REQUIRED LIBRARIES"
   ]
  },
  {
   "cell_type": "code",
   "execution_count": 1,
   "id": "e5bdb528",
   "metadata": {},
   "outputs": [
    {
     "name": "stdout",
     "output_type": "stream",
     "text": [
      "✅ All libraries loaded successfully!\n",
      "📁 Working with domain: gai\n",
      "🌐 Processing languages: ['eng', 'esp']\n",
      "🤖 Using model: paraphrase-multilingual-MiniLM-L12-v2\n"
     ]
    }
   ],
   "source": [
    "### STEP 1: LOAD THE REQUIRED LIBRARIES\n",
    "\n",
    "# Core Python libraries\n",
    "import json\n",
    "import os\n",
    "from pathlib import Path\n",
    "import logging\n",
    "from typing import Dict, List, Tuple, Optional\n",
    "from datetime import datetime\n",
    "\n",
    "# Data processing libraries\n",
    "import pandas as pd\n",
    "import numpy as np\n",
    "\n",
    "# Text processing libraries\n",
    "import re\n",
    "from collections import defaultdict\n",
    "\n",
    "# Machine learning and embedding libraries\n",
    "from sentence_transformers import SentenceTransformer\n",
    "from sklearn.decomposition import PCA\n",
    "from sklearn.metrics.pairwise import cosine_similarity\n",
    "\n",
    "# Progress tracking (helpful for long processing times)\n",
    "from tqdm.notebook import tqdm\n",
    "\n",
    "# Visualization libraries (for testing our vectors)\n",
    "import matplotlib.pyplot as plt\n",
    "import seaborn as sns\n",
    "\n",
    "# Configuration management\n",
    "import sys\n",
    "sys.path.append('../scripts')  # Add scripts folder to path\n",
    "from config import *  # Import all our configuration settings\n",
    "\n",
    "# Set up logging for debugging\n",
    "logging.basicConfig(level=logging.INFO, format='%(asctime)s - %(levelname)s - %(message)s')\n",
    "logger = logging.getLogger(__name__)\n",
    "\n",
    "print(\"✅ All libraries loaded successfully!\")\n",
    "print(f\"📁 Working with domain: {DOMAIN}\")\n",
    "print(f\"🌐 Processing languages: {LANGUAGES}\")\n",
    "print(f\"🤖 Using model: {MODEL_NAME}\")"
   ]
  },
  {
   "cell_type": "markdown",
   "id": "3141bcb5",
   "metadata": {},
   "source": [
    "### STEP 2: LOAD AND EXAMINE DATABASE STRUCTURE"
   ]
  },
  {
   "cell_type": "code",
   "execution_count": 2,
   "id": "1fd4eb5f",
   "metadata": {},
   "outputs": [
    {
     "name": "stdout",
     "output_type": "stream",
     "text": [
      "🔍 Loading ENG database...\n",
      "📊 ENG database contains 1 top-level keys:\n",
      "  • documents\n",
      "📚 Found 4 documents in ENG database\n",
      "  All document IDs:\n",
      "     1. gai-eng_item001: Attention is All You Need\n",
      "     2. gai-eng_item002: On the Dangers of Stochastic Parrots: Can Language Models Be...\n",
      "     3. gai-eng_item003: Recommendation on the Ethics of Artificial Intelligence\n",
      "     4. gai-eng_item004: The Age of AI has begun\n",
      "\n",
      "🔍 Loading ESP database...\n",
      "📊 ESP database contains 1 top-level keys:\n",
      "  • documents\n",
      "📚 Found 2 documents in ESP database\n",
      "  All document IDs:\n",
      "     1. gai-esp_item001: Propuesta de Agenda Nacional de la Inteligencia Artificial p...\n",
      "     2. gai-esp_item002: Conversando con una computadora: ¿Cómo entienden las intelig...\n",
      "\n",
      "✅ Successfully loaded databases for: eng, esp\n",
      "📊 Total documents across all languages: 6\n",
      "\n",
      "📊 Document count breakdown:\n",
      "  • ENG: 4 documents\n",
      "  • ESP: 2 documents\n",
      "\n",
      "📂 Expected database file locations:\n",
      "  • ENG: ..\\corpora\\gai\\eng\\gai-eng_database.json\n",
      "  • ESP: ..\\corpora\\gai\\esp\\gai-esp_database.json\n",
      "\n",
      "📋 Summary:\n",
      "Total documents loaded: 6\n",
      "  ENG: 4 documents\n",
      "  ESP: 2 documents\n"
     ]
    }
   ],
   "source": [
    "### STEP 2: LOAD AND EXAMINE DATABASE STRUCTURE\n",
    "\n",
    "def load_database_file(language):\n",
    "    \"\"\"Load the database file for a specific language\"\"\"\n",
    "    database_path = Path(CORPORA_DIR) / language / f\"{DOMAIN}-{language}_database.json\"\n",
    "    \n",
    "    if not database_path.exists():\n",
    "        raise FileNotFoundError(f\"Database file not found: {database_path}\")\n",
    "    \n",
    "    with open(database_path, 'r', encoding='utf-8') as f:\n",
    "        return json.load(f)\n",
    "\n",
    "# Load databases for all languages\n",
    "databases = {}\n",
    "all_documents = {}  # Store all documents for easy access\n",
    "\n",
    "for language in LANGUAGES:\n",
    "    try:\n",
    "        print(f\"🔍 Loading {language.upper()} database...\")\n",
    "        databases[language] = load_database_file(language)\n",
    "        \n",
    "        # Show database structure\n",
    "        db = databases[language]\n",
    "        print(f\"📊 {language.upper()} database contains {len(db)} top-level keys:\")\n",
    "        for key in list(db.keys())[:5]:  # Show first 5 keys\n",
    "            print(f\"  • {key}\")\n",
    "        \n",
    "        # Count actual documents (excluding template)\n",
    "        # Handle mixed structure: check both nested 'documents' and top-level keys\n",
    "        documents = {}\n",
    "        \n",
    "        # First, get documents from nested 'documents' key\n",
    "        if 'documents' in db and isinstance(db['documents'], dict):\n",
    "            nested_docs = {k: v for k, v in db['documents'].items() if k.startswith(f'gai-{language}_item')}\n",
    "            documents.update(nested_docs)\n",
    "        \n",
    "        # Also check for direct top-level document keys\n",
    "        top_level_docs = {k: v for k, v in db.items() if k != 'gai_template' and k != 'documents' and k.startswith(f'gai-{language}_item')}\n",
    "        documents.update(top_level_docs)\n",
    "        \n",
    "        # Store documents for this language\n",
    "        all_documents[language] = documents\n",
    "        \n",
    "        print(f\"📚 Found {len(documents)} documents in {language.upper()} database\")\n",
    "        \n",
    "        # Show ALL document IDs (not just sample)\n",
    "        if documents:\n",
    "            print(f\"  All document IDs:\")\n",
    "            for i, (doc_id, doc_data) in enumerate(documents.items(), 1):\n",
    "                title = doc_data.get('document_metadata', {}).get('title', 'No title')\n",
    "                print(f\"    {i:2d}. {doc_id}: {title[:60]}{'...' if len(title) > 60 else ''}\")\n",
    "        \n",
    "        print()  # Add blank line between languages\n",
    "        \n",
    "    except FileNotFoundError as e:\n",
    "        print(f\"❌ Error loading {language.upper()} database: {e}\")\n",
    "        print(f\"Expected location: {Path(CORPORA_DIR) / language / f'{DOMAIN}-{language}_database.json'}\")\n",
    "        print()\n",
    "\n",
    "print(f\"✅ Successfully loaded databases for: {', '.join(databases.keys())}\")\n",
    "\n",
    "# Calculate correct total documents using the stored documents\n",
    "total_documents = sum(len(docs) for docs in all_documents.values())\n",
    "print(f\"📊 Total documents across all languages: {total_documents}\")\n",
    "\n",
    "# Show breakdown by language\n",
    "print(f\"\\n📊 Document count breakdown:\")\n",
    "for language, docs in all_documents.items():\n",
    "    print(f\"  • {language.upper()}: {len(docs)} documents\")\n",
    "\n",
    "# Show expected file locations for all languages\n",
    "print(f\"\\n📂 Expected database file locations:\")\n",
    "for language in LANGUAGES:\n",
    "    expected_path = Path(CORPORA_DIR) / language / f\"{DOMAIN}-{language}_database.json\"\n",
    "    print(f\"  • {language.upper()}: {expected_path}\")\n",
    "\n",
    "# Optional: Create a summary dictionary for easy access\n",
    "document_summary = {\n",
    "    'total_count': total_documents,\n",
    "    'by_language': {lang: len(docs) for lang, docs in all_documents.items()},\n",
    "    'all_documents': all_documents\n",
    "}\n",
    "\n",
    "print(f\"\\n📋 Summary:\")\n",
    "print(f\"Total documents loaded: {document_summary['total_count']}\")\n",
    "for lang, count in document_summary['by_language'].items():\n",
    "    print(f\"  {lang.upper()}: {count} documents\")"
   ]
  },
  {
   "cell_type": "markdown",
   "id": "ce5780d3",
   "metadata": {},
   "source": [
    "### STEP 3: LOAD UNPROCESSED DOCUMENTS FOR BATCH PROCESSING (NO RE-VECTORIZATION)"
   ]
  },
  {
   "cell_type": "code",
   "execution_count": 3,
   "id": "ddb87d45",
   "metadata": {},
   "outputs": [
    {
     "name": "stdout",
     "output_type": "stream",
     "text": [
      "✅ Helper functions loaded and ready to use!\n"
     ]
    }
   ],
   "source": [
    "### STEP 3: LOAD UNPROCESSED DOCUMENTS FOR BATCH PROCESSING (NO RE-VECTORIZATION) - HELPER FUNCTIONS\n",
    "\n",
    "# Helper Functions (for use in step 3 and later)\n",
    "\n",
    "def load_corpus_item(language, doc_id):\n",
    "    \"\"\"\n",
    "    Load both the metadata and content data for a specific document\n",
    "\n",
    "    Args:\n",
    "        language: Language code ('eng', 'fra', etc.)\n",
    "        doc_id: Document ID (e.g., 'gai-eng_item004')\n",
    "\n",
    "    Returns:\n",
    "        Dictionary containing both metadata and content\n",
    "    \"\"\"\n",
    "    # Load metadata from database\n",
    "    if language not in all_documents:\n",
    "        raise ValueError(f\"Language '{language}' not found in loaded databases\")\n",
    "\n",
    "    if doc_id not in all_documents[language]:\n",
    "        raise ValueError(f\"Document '{doc_id}' not found in {language} database\")\n",
    "\n",
    "    metadata = all_documents[language][doc_id]\n",
    "\n",
    "    # Load content from separate content file\n",
    "    content_file_path = Path(CORPORA_DIR) / language / 'processed' / f'{doc_id}.json'\n",
    "\n",
    "    if not content_file_path.exists():\n",
    "        raise FileNotFoundError(f\"Content file not found: {content_file_path}\")\n",
    "\n",
    "    try:\n",
    "        with open(content_file_path, 'r', encoding='utf-8') as f:\n",
    "            content_data = json.load(f)\n",
    "    except Exception as e:\n",
    "        raise ValueError(f\"Error loading content file {content_file_path}: {e}\")\n",
    "\n",
    "    # Merge metadata and content\n",
    "    merged_data = {\n",
    "        'document_metadata': metadata.get('document_metadata', {}),\n",
    "        'processing_metadata': metadata.get('processing_metadata', {}),\n",
    "        'document_id': content_data.get('document_id', doc_id),\n",
    "        'content': content_data.get('content', {})\n",
    "    }\n",
    "\n",
    "    return merged_data\n",
    "\n",
    "def get_document_metadata(databases_dict, language, doc_id):\n",
    "    \"\"\"\n",
    "    Extract metadata for a specific document\n",
    "\n",
    "    Args:\n",
    "        databases_dict: The databases dictionary (not used but kept for compatibility)\n",
    "        language: Language code\n",
    "        doc_id: Document ID\n",
    "\n",
    "    Returns:\n",
    "        Document metadata dictionary\n",
    "    \"\"\"\n",
    "    if language not in all_documents:\n",
    "        raise ValueError(f\"Language '{language}' not found in loaded databases\")\n",
    "\n",
    "    if doc_id not in all_documents[language]:\n",
    "        raise ValueError(f\"Document '{doc_id}' not found in {language} database\")\n",
    "\n",
    "    document_data = all_documents[language][doc_id]\n",
    "    return document_data.get('document_metadata', {})\n",
    "\n",
    "def merge_content_and_metadata(content_data, metadata):\n",
    "    \"\"\"\n",
    "    Merge document content and metadata into a single structure\n",
    "\n",
    "    Args:\n",
    "        content_data: Full document data (already merged from load_corpus_item)\n",
    "        metadata: Document metadata (usually already part of content_data)\n",
    "\n",
    "    Returns:\n",
    "        Merged document structure ready for processing\n",
    "    \"\"\"\n",
    "    # The content_data from load_corpus_item already contains everything we need\n",
    "    # but we'll ensure metadata is properly merged\n",
    "    merged = content_data.copy()\n",
    "\n",
    "    # Ensure document_metadata is present and updated\n",
    "    if 'document_metadata' not in merged:\n",
    "        merged['document_metadata'] = {}\n",
    "\n",
    "    # Update with any additional metadata\n",
    "    merged['document_metadata'].update(metadata)\n",
    "\n",
    "    return merged\n",
    "\n",
    "print(\"✅ Helper functions loaded and ready to use!\")"
   ]
  },
  {
   "cell_type": "code",
   "execution_count": 4,
   "id": "537b5665",
   "metadata": {},
   "outputs": [
    {
     "name": "stdout",
     "output_type": "stream",
     "text": [
      "🔍 CHECKING EXISTING VECTORS IN: ..\\vectors\\gai\n",
      "  ✅ Documents: 1 vectors found\n",
      "  ✅ Sections: 22 vectors found\n",
      "  ✅ Paragraphs: 70 vectors found\n",
      "\n",
      "📊 EXISTING VECTORS SUMMARY:\n",
      "  • Unique documents with vectors: 1\n",
      "  • Total sections: 22\n",
      "  • Total paragraphs: 70\n",
      "  • Grand total vectors: 93\n",
      "\n",
      "🔍 IDENTIFYING UNPROCESSED DOCUMENTS:\n",
      "  ✅ gai-eng_item001 - Already processed\n",
      "  📄 gai-eng_item002 - Not processed\n",
      "  📄 gai-eng_item003 - Not processed\n",
      "  📄 gai-eng_item004 - Not processed\n",
      "  📄 gai-esp_item001 - Not processed\n",
      "  📄 gai-esp_item002 - Not processed\n",
      "\n",
      "📊 FINAL PROCESSING STATUS:\n",
      "  • Total documents in database: 6\n",
      "  • Documents with existing vectors: 1\n",
      "  • Documents needing processing: 5\n",
      "\n",
      "📝 DOCUMENTS TO PROCESS (5 total):\n",
      "   1. gai-eng_item002 (ENG)\n",
      "      On the Dangers of Stochastic Parrots: Can Language...\n",
      "      Type: Academic paper | Words: 15,544\n",
      "   2. gai-eng_item003 (ENG)\n",
      "      Recommendation on the Ethics of Artificial Intelli...\n",
      "      Type: Policy document | Words: 14,571\n",
      "   3. gai-eng_item004 (ENG)\n",
      "      The Age of AI has begun\n",
      "      Type: Blog post | Words: 3,672\n",
      "   4. gai-esp_item001 (ESP)\n",
      "      Propuesta de Agenda Nacional de la Inteligencia Ar...\n",
      "      Type: Policy document | Words: 14,835\n",
      "   5. gai-esp_item002 (ESP)\n",
      "      Conversando con una computadora: ¿Cómo entienden l...\n",
      "      Type: Journal article | Words: 9,939\n",
      "\n",
      "📖 LOADING DOCUMENT CONTENT:\n",
      "  Loading gai-eng_item002...\n",
      "    ✅ Success\n",
      "  Loading gai-eng_item003...\n",
      "    ✅ Success\n",
      "  Loading gai-eng_item004...\n",
      "    ✅ Success\n",
      "  Loading gai-esp_item001...\n",
      "    ✅ Success\n",
      "  Loading gai-esp_item002...\n",
      "    ✅ Success\n",
      "\n",
      "✅ LOADING COMPLETE:\n",
      "  📦 Successfully loaded: 5 documents\n",
      "\n",
      "✅ STEP 3 COMPLETE - Ready for vectorization functions in STEP 5!\n"
     ]
    }
   ],
   "source": [
    "### STEP 3: LOAD UNPROCESSED DOCUMENTS FOR BATCH PROCESSING (NO RE-VECTORIZATION)\n",
    "\n",
    "import json\n",
    "from pathlib import Path\n",
    "\n",
    "def load_existing_vector_files_comprehensive(vector_dir='../vectors/gai'):\n",
    "    \"\"\"\n",
    "    Comprehensively load all existing vector files and extract processed document IDs\n",
    "    Returns detailed information about what's already processed\n",
    "    \"\"\"\n",
    "    vector_dir = Path(vector_dir)\n",
    "    \n",
    "    processed_info = {\n",
    "        'document_ids': set(),\n",
    "        'section_ids': set(),\n",
    "        'paragraph_ids': set(),\n",
    "        'files_found': {},\n",
    "        'total_vectors': 0\n",
    "    }\n",
    "    \n",
    "    # Define the three vector files we expect\n",
    "    vector_files = {\n",
    "        'documents': 'gai-document-vectors.json',\n",
    "        'sections': 'gai-section-vectors.json', \n",
    "        'paragraphs': 'gai-paragraph-vectors.json'\n",
    "    }\n",
    "    \n",
    "    print(f\"🔍 CHECKING EXISTING VECTORS IN: {vector_dir}\")\n",
    "    \n",
    "    for vector_type, filename in vector_files.items():\n",
    "        filepath = vector_dir / filename\n",
    "        \n",
    "        if filepath.exists():\n",
    "            try:\n",
    "                with open(filepath, 'r', encoding='utf-8') as f:\n",
    "                    data = json.load(f)\n",
    "                \n",
    "                # Handle both new schema and legacy formats\n",
    "                vectors = data.get('vectors', data.get('vector_data', []))\n",
    "                \n",
    "                processed_info['files_found'][vector_type] = {\n",
    "                    'path': str(filepath),\n",
    "                    'count': len(vectors),\n",
    "                    'size_mb': filepath.stat().st_size / (1024*1024)\n",
    "                }\n",
    "                \n",
    "                # Extract IDs based on vector type\n",
    "                if vector_type == 'documents':\n",
    "                    for vector in vectors:\n",
    "                        processed_info['document_ids'].add(vector.get('id', ''))\n",
    "                elif vector_type == 'sections':\n",
    "                    for vector in vectors:\n",
    "                        processed_info['section_ids'].add(vector.get('id', ''))\n",
    "                        # Also track the parent document\n",
    "                        doc_id = vector.get('document_id', '')\n",
    "                        if doc_id:\n",
    "                            processed_info['document_ids'].add(doc_id)\n",
    "                elif vector_type == 'paragraphs':\n",
    "                    for vector in vectors:\n",
    "                        processed_info['paragraph_ids'].add(vector.get('id', ''))\n",
    "                        # Also track the parent document\n",
    "                        doc_id = vector.get('document_id', '')\n",
    "                        if doc_id:\n",
    "                            processed_info['document_ids'].add(doc_id)\n",
    "                \n",
    "                processed_info['total_vectors'] += len(vectors)\n",
    "                \n",
    "                print(f\"  ✅ {vector_type.title()}: {len(vectors)} vectors found\")\n",
    "                \n",
    "            except Exception as e:\n",
    "                print(f\"  ❌ Error reading {filepath}: {e}\")\n",
    "                processed_info['files_found'][vector_type] = {'error': str(e)}\n",
    "        else:\n",
    "            print(f\"  📝 {vector_type.title()}: No existing file found\")\n",
    "            processed_info['files_found'][vector_type] = {'status': 'not_found'}\n",
    "    \n",
    "    # Remove empty strings from sets\n",
    "    processed_info['document_ids'].discard('')\n",
    "    processed_info['section_ids'].discard('')\n",
    "    processed_info['paragraph_ids'].discard('')\n",
    "    \n",
    "    print(f\"\\n📊 EXISTING VECTORS SUMMARY:\")\n",
    "    print(f\"  • Unique documents with vectors: {len(processed_info['document_ids'])}\")\n",
    "    print(f\"  • Total sections: {len(processed_info['section_ids'])}\")\n",
    "    print(f\"  • Total paragraphs: {len(processed_info['paragraph_ids'])}\")\n",
    "    print(f\"  • Grand total vectors: {processed_info['total_vectors']}\")\n",
    "    \n",
    "    return processed_info\n",
    "\n",
    "def find_truly_unprocessed_documents(all_documents, processed_info):\n",
    "    \"\"\"\n",
    "    Find documents that have NO vectors at all (completely unprocessed)\n",
    "    More robust than just checking document-level vectors\n",
    "    \"\"\"\n",
    "    unprocessed = []\n",
    "    processed_doc_ids = processed_info['document_ids']\n",
    "    \n",
    "    print(f\"\\n🔍 IDENTIFYING UNPROCESSED DOCUMENTS:\")\n",
    "    \n",
    "    for language, docs in all_documents.items():\n",
    "        for doc_id, doc_data in docs.items():\n",
    "            if doc_id not in processed_doc_ids:\n",
    "                # Get document info\n",
    "                doc_metadata = doc_data.get('document_metadata', {})\n",
    "                processing_metadata = doc_data.get('processing_metadata', {})\n",
    "                \n",
    "                unprocessed.append({\n",
    "                    'document_id': doc_id,\n",
    "                    'language': language,\n",
    "                    'title': doc_metadata.get('title', 'No title'),\n",
    "                    'text_type': doc_metadata.get('text_type', 'Unknown'),\n",
    "                    'word_count': processing_metadata.get('word_count', 0),\n",
    "                    'language_family': doc_metadata.get('language_family', 'unknown'),\n",
    "                    'language_variant': doc_metadata.get('language_variant', 'unknown')\n",
    "                })\n",
    "                \n",
    "                print(f\"  📄 {doc_id} - Not processed\")\n",
    "            else:\n",
    "                print(f\"  ✅ {doc_id} - Already processed\")\n",
    "    \n",
    "    return unprocessed\n",
    "\n",
    "def load_documents_for_batch(documents_to_process):\n",
    "    \"\"\"\n",
    "    Load the actual document content for processing\n",
    "    Uses your existing load_corpus_item() helper function\n",
    "    \"\"\"\n",
    "    loaded_documents = []\n",
    "    \n",
    "    print(f\"\\n📖 LOADING DOCUMENT CONTENT:\")\n",
    "    \n",
    "    for doc_info in documents_to_process:\n",
    "        doc_id = doc_info['document_id']\n",
    "        language = doc_info['language']\n",
    "        \n",
    "        print(f\"  Loading {doc_id}...\")\n",
    "        \n",
    "        try:\n",
    "            # Use your existing helper function\n",
    "            document = load_corpus_item(language, doc_id)\n",
    "            \n",
    "            # Add the processing info\n",
    "            document['processing_info'] = doc_info\n",
    "            \n",
    "            loaded_documents.append(document)\n",
    "            print(f\"    ✅ Success\")\n",
    "            \n",
    "        except Exception as e:\n",
    "            print(f\"    ❌ Error: {e}\")\n",
    "    \n",
    "    return loaded_documents\n",
    "\n",
    "# Run the comprehensive check\n",
    "existing_vectors_info = load_existing_vector_files_comprehensive()\n",
    "\n",
    "# Find unprocessed documents using the comprehensive info\n",
    "documents_to_process = find_truly_unprocessed_documents(all_documents, existing_vectors_info)\n",
    "\n",
    "print(f\"\\n📊 FINAL PROCESSING STATUS:\")\n",
    "print(f\"  • Total documents in database: {sum(len(docs) for docs in all_documents.values())}\")\n",
    "print(f\"  • Documents with existing vectors: {len(existing_vectors_info['document_ids'])}\")\n",
    "print(f\"  • Documents needing processing: {len(documents_to_process)}\")\n",
    "\n",
    "if documents_to_process:\n",
    "    print(f\"\\n📝 DOCUMENTS TO PROCESS ({len(documents_to_process)} total):\")\n",
    "    for i, doc in enumerate(documents_to_process, 1):\n",
    "        print(f\"  {i:2d}. {doc['document_id']} ({doc['language'].upper()})\")\n",
    "        print(f\"      {doc['title'][:50]}{'...' if len(doc['title']) > 50 else ''}\")\n",
    "        print(f\"      Type: {doc['text_type']} | Words: {doc['word_count']:,}\")\n",
    "    \n",
    "    # Load the documents for processing\n",
    "    loaded_docs = load_documents_for_batch(documents_to_process)\n",
    "    \n",
    "    print(f\"\\n✅ LOADING COMPLETE:\")\n",
    "    print(f\"  📦 Successfully loaded: {len(loaded_docs)} documents\")\n",
    "    \n",
    "    if len(loaded_docs) != len(documents_to_process):\n",
    "        print(f\"  ⚠️  Failed to load: {len(documents_to_process) - len(loaded_docs)} documents\")\n",
    "else:\n",
    "    print(f\"\\n🎉 ALL DOCUMENTS ALREADY PROCESSED!\")\n",
    "    print(f\"    No new vectorization needed.\")\n",
    "    loaded_docs = []\n",
    "\n",
    "print(f\"\\n✅ STEP 3 COMPLETE - Ready for vectorization functions in STEP 5!\")"
   ]
  },
  {
   "cell_type": "markdown",
   "id": "865c8c22",
   "metadata": {},
   "source": [
    "## ============================================================================="
   ]
  },
  {
   "cell_type": "markdown",
   "id": "a20bbfc5",
   "metadata": {},
   "source": [
    "## Part 2: Function and Model Setup"
   ]
  },
  {
   "cell_type": "markdown",
   "id": "60aacab9",
   "metadata": {},
   "source": [
    "### STEP 4: FLEXIBLE TEXT EXTRACTION FUNCTIONS"
   ]
  },
  {
   "cell_type": "code",
   "execution_count": 5,
   "id": "4ec33f95",
   "metadata": {},
   "outputs": [
    {
     "name": "stdout",
     "output_type": "stream",
     "text": [
      "✅ Flexible extraction functions defined and ready to use!\n"
     ]
    }
   ],
   "source": [
    "### STEP 4a: FLEXIBLE TEXT EXTRACTION FUNCTIONS\n",
    "### FROM: create_vectors_batch.ipynb\n",
    "\n",
    "# COMPREHENSIVE EXTRACTION FUNCTIONS\n",
    "\n",
    "def extract_text_from_any_element(element, element_type=\"text\"):\n",
    "    \"\"\"\n",
    "    Flexible text extraction from any element type\n",
    "    \n",
    "    Handles:\n",
    "    - Regular text fields\n",
    "    - Terms with definitions\n",
    "    - Figures with captions\n",
    "    - Lists with items\n",
    "    - References\n",
    "    - Citations with various formats\n",
    "    \"\"\"\n",
    "    if isinstance(element, dict):\n",
    "        # Handle different element types\n",
    "        if element_type == \"term\":\n",
    "            term = element.get('term', '')\n",
    "            definition = element.get('definition', '')\n",
    "            return f\"{term}: {definition}\"\n",
    "        \n",
    "        elif element_type == \"figure\":\n",
    "            caption = element.get('caption', '')\n",
    "            description = element.get('description', '')\n",
    "            # Handle figures that have paragraphs\n",
    "            paragraph_texts = []\n",
    "            if 'paragraphs' in element:\n",
    "                for para in element.get('paragraphs', []):\n",
    "                    para_text = extract_text_from_any_element(para)\n",
    "                    if para_text:\n",
    "                        paragraph_texts.append(para_text)\n",
    "            \n",
    "            all_texts = [caption, description] + paragraph_texts\n",
    "            return ' '.join([t for t in all_texts if t])\n",
    "        \n",
    "        elif element_type == \"reference\":\n",
    "            return element.get('text', '')\n",
    "        \n",
    "        elif element_type == \"citation\":\n",
    "            # Handle both reference_id (string) and reference_ids (array)\n",
    "            marker = element.get('marker', '')\n",
    "            if 'reference_id' in element:\n",
    "                ref_id = element.get('reference_id')\n",
    "                if isinstance(ref_id, list):\n",
    "                    return f\"[{marker}: {', '.join(ref_id)}]\"\n",
    "                else:\n",
    "                    return f\"[{marker}: {ref_id}]\"\n",
    "            elif 'reference_ids' in element:\n",
    "                ref_ids = element.get('reference_ids', [])\n",
    "                if ref_ids:  # Check if not empty\n",
    "                    return f\"[{marker}: {', '.join(ref_ids)}]\"\n",
    "                else:\n",
    "                    return f\"[{marker}]\"\n",
    "        \n",
    "        else:\n",
    "            # Default: try to get 'text' field\n",
    "            return element.get('text', '')\n",
    "    \n",
    "    elif isinstance(element, str):\n",
    "        return element\n",
    "    \n",
    "    return \"\"\n",
    "\n",
    "def extract_paragraph_text_flexible(paragraph):\n",
    "    \"\"\"\n",
    "    Extract text from a paragraph, handling various embedded elements\n",
    "    \"\"\"\n",
    "    if not isinstance(paragraph, dict):\n",
    "        return \"\", \"\"\n",
    "    \n",
    "    paragraph_id = paragraph.get('id', 'unknown')\n",
    "    texts = []\n",
    "    \n",
    "    # Main paragraph text\n",
    "    main_text = paragraph.get('text', '')\n",
    "    if main_text:\n",
    "        texts.append(main_text)\n",
    "    \n",
    "    # Handle lists (like in journal articles)\n",
    "    if 'list' in paragraph:\n",
    "        for item in paragraph.get('list', []):\n",
    "            item_text = extract_text_from_any_element(item)\n",
    "            if item_text:\n",
    "                texts.append(f\"• {item_text}\")\n",
    "    \n",
    "    # Handle footnotes\n",
    "    if 'footnotes' in paragraph:\n",
    "        for footnote in paragraph.get('footnotes', []):\n",
    "            marker = footnote.get('marker', '')\n",
    "            text = footnote.get('text', '')\n",
    "            texts.append(f\"[Footnote {marker}]: {text}\")\n",
    "    \n",
    "    # Handle citations\n",
    "    if 'citations' in paragraph:\n",
    "        citation_texts = []\n",
    "        for citation in paragraph.get('citations', []):\n",
    "            cite_text = extract_text_from_any_element(citation, 'citation')\n",
    "            if cite_text:\n",
    "                citation_texts.append(cite_text)\n",
    "        if citation_texts:\n",
    "            texts.append(f\"Citations: {' '.join(citation_texts)}\")\n",
    "    \n",
    "    # Handle external links (NEW - for gai-eng_item004 structure)\n",
    "    if 'external_links' in paragraph:\n",
    "        link_texts = []\n",
    "        for link in paragraph.get('external_links', []):\n",
    "            marker = link.get('marker', '')\n",
    "            url = link.get('url', '')\n",
    "            if marker and url:\n",
    "                link_texts.append(f\"[Link: {marker} -> {url}]\")\n",
    "            elif marker:\n",
    "                link_texts.append(f\"[Link: {marker}]\")\n",
    "        if link_texts:\n",
    "            texts.append(f\"External links: {' '.join(link_texts)}\")\n",
    "    \n",
    "    # Handle inline equations\n",
    "    if 'inline_equations' in paragraph:\n",
    "        for eq in paragraph.get('inline_equations', []):\n",
    "            eq_text = eq.get('text', '')\n",
    "            if eq_text:\n",
    "                texts.append(f\"[Equation: {eq_text}]\")\n",
    "    \n",
    "    # Handle internal references\n",
    "    if 'internal_references' in paragraph:\n",
    "        for ref in paragraph.get('internal_references', []):\n",
    "            ref_text = ref.get('text', '')\n",
    "            # Handle both field name variations\n",
    "            target = ref.get('target_section_id', ref.get('target_id', ''))\n",
    "            if ref_text:\n",
    "                texts.append(f\"[Ref: {ref_text} -> {target}]\")\n",
    "    \n",
    "    # Handle any embedded paragraphs (for complex structures)\n",
    "    if 'paragraphs' in paragraph:\n",
    "        for sub_para in paragraph.get('paragraphs', []):\n",
    "            _, sub_text = extract_paragraph_text_flexible(sub_para)\n",
    "            if sub_text:\n",
    "                texts.append(sub_text)\n",
    "    \n",
    "    # Combine all text\n",
    "    full_text = ' '.join(texts)\n",
    "    \n",
    "    # Clean text\n",
    "    full_text = extract_clean_text(full_text)\n",
    "    \n",
    "    return paragraph_id, full_text\n",
    "\n",
    "def extract_section_content_flexible(section, parent_id=\"\", level=0, corpus_item=None):\n",
    "    \"\"\"\n",
    "    Flexibly extract content from sections with various structures\n",
    "    \"\"\"\n",
    "    section_id = section.get('id', 'unknown')\n",
    "    # Handle both 'title' and 'group' fields\n",
    "    section_title = section.get('title', section.get('group', ''))\n",
    "    section_type = section.get('type', 'standard')  # For special section types\n",
    "\n",
    "    # Get document_id from corpus_item\n",
    "    document_id = 'unknown'\n",
    "    if corpus_item:\n",
    "        document_id = corpus_item.get('document_id', 'unknown')\n",
    "    \n",
    "    # Build section ID\n",
    "    if level == 0:\n",
    "        full_section_id = section_id\n",
    "    else:\n",
    "        full_section_id = f\"{parent_id}_{section_id.split('_')[-1]}\"\n",
    "    \n",
    "    section_texts = []\n",
    "    all_paragraphs = []\n",
    "    subsection_results = []\n",
    "    special_content = {}\n",
    "    \n",
    "    # Add section title if present\n",
    "    if section_title:\n",
    "        section_texts.append(section_title)\n",
    "    \n",
    "    # Handle direct text on section (some structures have this)\n",
    "    if 'text' in section and isinstance(section['text'], str):\n",
    "        section_texts.append(section['text'])\n",
    "    \n",
    "    # Extract paragraphs\n",
    "    for paragraph in section.get('paragraphs', []):\n",
    "        para_id, para_text = extract_paragraph_text_flexible(paragraph)\n",
    "        if para_text:\n",
    "            section_texts.append(para_text)\n",
    "            all_paragraphs.append({\n",
    "                'id': para_id,\n",
    "                'text': para_text,\n",
    "                'section_id': full_section_id,\n",
    "                'section_title': section_title,\n",
    "                'document_id': document_id, \n",
    "                'level': level\n",
    "            })\n",
    "    \n",
    "    # Handle terms (for glossaries)\n",
    "    if 'terms' in section:\n",
    "        special_content['terms'] = []\n",
    "        for term in section.get('terms', []):\n",
    "            term_text = extract_text_from_any_element(term, 'term')\n",
    "            if term_text:\n",
    "                section_texts.append(term_text)\n",
    "                special_content['terms'].append({\n",
    "                    'id': term.get('id', ''),\n",
    "                    'text': term_text\n",
    "                })\n",
    "    \n",
    "    # Handle references\n",
    "    if 'references' in section:\n",
    "        special_content['references'] = []\n",
    "        for ref in section.get('references', []):\n",
    "            ref_text = extract_text_from_any_element(ref, 'reference')\n",
    "            if ref_text:\n",
    "                section_texts.append(ref_text)\n",
    "                special_content['references'].append({\n",
    "                    'id': ref.get('id', ''),\n",
    "                    'text': ref_text\n",
    "                })\n",
    "    \n",
    "    # Handle figures\n",
    "    if 'figures' in section:\n",
    "        special_content['figures'] = []\n",
    "        for figure in section.get('figures', []):\n",
    "            fig_text = extract_text_from_any_element(figure, 'figure')\n",
    "            if fig_text:\n",
    "                section_texts.append(fig_text)\n",
    "                special_content['figures'].append({\n",
    "                    'id': figure.get('id', ''),\n",
    "                    'text': fig_text\n",
    "                })\n",
    "    \n",
    "    # Handle tables\n",
    "    if 'tables' in section:\n",
    "        special_content['tables'] = []\n",
    "        for table in section.get('tables', []):\n",
    "            caption = table.get('caption', '')\n",
    "            if caption:\n",
    "                section_texts.append(f\"Table: {caption}\")\n",
    "                special_content['tables'].append({\n",
    "                    'id': table.get('id', ''),\n",
    "                    'caption': caption\n",
    "                })\n",
    "    \n",
    "    # Process subsections recursively\n",
    "    for subsection in section.get('subsections', []):\n",
    "        subsection_content = extract_section_content_flexible(\n",
    "            subsection, \n",
    "            full_section_id, \n",
    "            level + 1,\n",
    "            corpus_item\n",
    "        )\n",
    "        subsection_results.append(subsection_content)\n",
    "        section_texts.append(subsection_content['section_text'])\n",
    "        all_paragraphs.extend(subsection_content['all_paragraphs'])\n",
    "    \n",
    "    # Process subsubsections (for deeper nesting)\n",
    "    for subsubsection in section.get('subsubsections', []):\n",
    "        subsubsection_content = extract_section_content_flexible(\n",
    "            subsubsection, \n",
    "            full_section_id, \n",
    "            level + 1,\n",
    "            corpus_item\n",
    "        )\n",
    "        subsection_results.append(subsubsection_content)\n",
    "        section_texts.append(subsubsection_content['section_text'])\n",
    "        all_paragraphs.extend(subsubsection_content['all_paragraphs'])\n",
    "    \n",
    "    # Combine all text\n",
    "    combined_section_text = ' '.join(section_texts)\n",
    "    \n",
    "    return {\n",
    "        'section_id': full_section_id,\n",
    "        'section_title': section_title,\n",
    "        'section_type': section_type,\n",
    "        'section_text': combined_section_text,\n",
    "        'document_id': document_id,\n",
    "        'subsections': subsection_results,\n",
    "        'all_paragraphs': all_paragraphs,\n",
    "        'special_content': special_content,\n",
    "        'level': level\n",
    "    }\n",
    "\n",
    "def extract_document_content_flexible(corpus_item):\n",
    "    \"\"\"\n",
    "    Extract all content from a document with flexible structure\n",
    "    \"\"\"\n",
    "    print(f\"📄 Extracting content from: {corpus_item.get('document_id', 'Unknown')}\")\n",
    "    \n",
    "    document_texts = []\n",
    "    all_sections = []\n",
    "    all_paragraphs = []\n",
    "    special_elements = {\n",
    "        'figures': [],\n",
    "        'tables': [],\n",
    "        'equations': [],\n",
    "        'pull_quotes': [],\n",
    "        'external_links': [],\n",
    "        'terms': [],\n",
    "        'references': []\n",
    "    }\n",
    "    \n",
    "    # Extract metadata\n",
    "    metadata = corpus_item.get('document_metadata', {})\n",
    "    doc_id = corpus_item.get('document_id', 'unknown')\n",
    "    title = metadata.get('title', '')\n",
    "    language_family = metadata.get('language_family', 'unknown')\n",
    "    language_variant = metadata.get('language_variant', 'unknown')\n",
    "    language = f\"{language_family}-{language_variant}\"\n",
    "    text_type = metadata.get('text_type', 'unknown')\n",
    "    \n",
    "    # Add title\n",
    "    if title:\n",
    "        document_texts.append(title)\n",
    "    \n",
    "    # Extract content\n",
    "    content = corpus_item.get('content', {})\n",
    "    \n",
    "    # Check for abstract (not all documents have this)\n",
    "    abstract = content.get('abstract', '')\n",
    "    if abstract:\n",
    "        clean_abstract = extract_clean_text(abstract)\n",
    "        document_texts.append(clean_abstract)\n",
    "        all_paragraphs.append({\n",
    "            'id': f\"{doc_id}_abstract\",\n",
    "            'text': clean_abstract,\n",
    "            'section_id': 'abstract',\n",
    "            'section_title': 'Abstract',\n",
    "            'document_id': doc_id,\n",
    "            'level': -1\n",
    "        })\n",
    "    \n",
    "    # Process all sections\n",
    "    for section in content.get('sections', []):\n",
    "        section_content = extract_section_content_flexible(\n",
    "            section, \n",
    "            \"\", \n",
    "            0,\n",
    "            corpus_item\n",
    "        )\n",
    "        \n",
    "        # Add to document text\n",
    "        document_texts.append(section_content['section_text'])\n",
    "        \n",
    "        # Collect all sections\n",
    "        def collect_sections(section_data):\n",
    "            all_sections.append({\n",
    "                'id': section_data['section_id'],\n",
    "                'title': section_data['section_title'],\n",
    "                'type': section_data['section_type'],\n",
    "                'text': section_data['section_text'],\n",
    "                'document_id': section_data['document_id'],\n",
    "                'level': section_data['level']\n",
    "            })\n",
    "            \n",
    "            # Collect special content\n",
    "            for content_type, items in section_data['special_content'].items():\n",
    "                if items:\n",
    "                    special_elements[content_type].extend(items)\n",
    "            \n",
    "            for subsection in section_data['subsections']:\n",
    "                collect_sections(subsection)\n",
    "        \n",
    "        collect_sections(section_content)\n",
    "        all_paragraphs.extend(section_content['all_paragraphs'])\n",
    "    \n",
    "    # Extract top-level figures (if present)\n",
    "    for figure in content.get('figures', []):\n",
    "        fig_text = extract_text_from_any_element(figure, 'figure')\n",
    "        if fig_text:\n",
    "            special_elements['figures'].append({\n",
    "                'id': figure.get('id', ''),\n",
    "                'text': fig_text\n",
    "            })\n",
    "            document_texts.append(fig_text)\n",
    "    \n",
    "    # Extract top-level tables (if present)\n",
    "    for table in content.get('tables', []):\n",
    "        caption = table.get('caption', '')\n",
    "        if caption:\n",
    "            special_elements['tables'].append({\n",
    "                'id': table.get('id', ''),\n",
    "                'caption': caption\n",
    "            })\n",
    "            document_texts.append(f\"Table: {caption}\")\n",
    "    \n",
    "    # Extract top-level equations (if present)\n",
    "    for equation in content.get('equations', []):\n",
    "        eq_id = equation.get('id', '')\n",
    "        latex = equation.get('latex', '')\n",
    "        if latex:\n",
    "            special_elements['equations'].append({\n",
    "                'id': eq_id,\n",
    "                'latex': latex\n",
    "            })\n",
    "            document_texts.append(f\"Equation {eq_id}: {latex}\")\n",
    "    \n",
    "    # Extract top-level references (if present)\n",
    "    for reference in content.get('references', []):\n",
    "        ref_text = reference.get('text', '')\n",
    "        if ref_text:\n",
    "            special_elements['references'].append({\n",
    "                'id': reference.get('id', ''),\n",
    "                'text': ref_text\n",
    "            })\n",
    "            document_texts.append(ref_text)\n",
    "    \n",
    "    # Extract pull quotes (if present)\n",
    "    for quote in content.get('pull_quotes', []):\n",
    "        quote_text = quote.get('text', '')\n",
    "        if quote_text:\n",
    "            special_elements['pull_quotes'].append({\n",
    "                'id': quote.get('id', ''),\n",
    "                'text': quote_text\n",
    "            })\n",
    "    \n",
    "    # Combine all text\n",
    "    full_document_text = ' '.join(document_texts)\n",
    "    \n",
    "    # Calculate statistics\n",
    "    stats = {\n",
    "        'total_sections': len(all_sections),\n",
    "        'total_paragraphs': len(all_paragraphs),\n",
    "        'document_length': len(full_document_text),\n",
    "        'text_type': text_type,\n",
    "        'has_abstract': bool(abstract),\n",
    "        'has_figures': len(special_elements['figures']) > 0,\n",
    "        'has_tables': len(special_elements['tables']) > 0,\n",
    "        'has_equations': len(special_elements['equations']) > 0,\n",
    "        'has_terms': len(special_elements['terms']) > 0,\n",
    "        'has_references': len(special_elements['references']) > 0,\n",
    "        'has_pull_quotes': len(special_elements['pull_quotes']) > 0\n",
    "    }\n",
    "    \n",
    "    print(f\"  ✅ Extracted: {stats['total_sections']} sections, {stats['total_paragraphs']} paragraphs\")\n",
    "    print(f\"  📊 Document type: {text_type}\")\n",
    "    print(f\"  🎯 Special elements: \" + ', '.join([k for k, v in special_elements.items() if v]))\n",
    "    \n",
    "    return {\n",
    "        'document_id': doc_id,\n",
    "        'title': title,\n",
    "        'language': language,\n",
    "        'text_type': text_type,\n",
    "        'document_text': full_document_text,\n",
    "        'sections': all_sections,\n",
    "        'paragraphs': all_paragraphs,\n",
    "        'special_elements': special_elements,\n",
    "        'statistics': stats\n",
    "    }\n",
    "\n",
    "# Helper function to clean text (assuming you have this)\n",
    "def extract_clean_text(text):\n",
    "    \"\"\"\n",
    "    Clean text by removing extra whitespaces, normalizing quotes, etc.\n",
    "    \"\"\"\n",
    "    if not text:\n",
    "        return \"\"\n",
    "    \n",
    "    # Replace multiple spaces with single space\n",
    "    text = ' '.join(text.split())\n",
    "    \n",
    "    # Normalize quotes\n",
    "    text = text.replace('\"', '\"').replace('\"', '\"')\n",
    "    text = text.replace(''', \"'\").replace(''', \"'\")\n",
    "    \n",
    "    # Remove leading/trailing whitespace\n",
    "    text = text.strip()\n",
    "    \n",
    "    return text\n",
    "\n",
    "print(\"✅ Flexible extraction functions defined and ready to use!\")"
   ]
  },
  {
   "cell_type": "markdown",
   "id": "a71fa0da",
   "metadata": {},
   "source": [
    "Potential Minor Improvements for future iterations:\n",
    "\n",
    "- equation_numbers arrays in paragraphs that the current code doesn’t explicitly handle\n",
    "- external_links in some paragraphs that aren’t currently extracted\n",
    "- The  current code also only extracts table captions, not the full table content (rows/columns)"
   ]
  },
  {
   "cell_type": "code",
   "execution_count": 6,
   "id": "c7f0492e",
   "metadata": {},
   "outputs": [
    {
     "name": "stdout",
     "output_type": "stream",
     "text": [
      "🚀 Running extraction test...\n",
      "\n",
      "🧪 TESTING gai-eng_item004 EXTRACTION\n",
      "============================================================\n",
      "📄 Extracting content from: gai-eng_item004\n",
      "  ✅ Extracted: 7 sections, 56 paragraphs\n",
      "  📊 Document type: Blog post\n",
      "  🎯 Special elements: pull_quotes\n",
      "\n",
      "🔍 DETAILED EXTRACTION VERIFICATION\n",
      "============================================================\n",
      "📋 Document ID: gai-eng_item004\n",
      "📑 Title: The Age of AI has begun\n",
      "🌐 Language: eng-usa\n",
      "📄 Text type: Blog post\n",
      "\n",
      "📚 SECTIONS EXTRACTED (7 total):\n",
      "  1. [section_1] Introduction\n",
      "  2. [section_2] Defining artificial intelligence\n",
      "  3. [section_3] Productivity enhancement\n",
      "  4. [section_4] Health\n",
      "  5. [section_5] Education\n",
      "  6. [section_6] Risks and problems with AI\n",
      "  7. [section_7] The next frontiers\n",
      "\n",
      "📝 PARAGRAPHS EXTRACTED (56 total):\n",
      "  1. [p1_1] in section 'Introduction'\n",
      "     Text: In my lifetime, I’ve seen two demonstrations of technology that struck me as revolutionary.\n",
      "  2. [p1_2] in section 'Introduction'\n",
      "     Text: The first time was in 1980, when I was introduced to a graphical user interface—the forerunner of ev...\n",
      "  3. [p1_3] in section 'Introduction'\n",
      "     Text: The second big surprise came just last year. I’d been meeting with the team from OpenAI since 2016 a...\n",
      "  4. [p1_4] in section 'Introduction'\n",
      "     Text: I thought the challenge would keep them busy for two or three years. They finished it in just a few ...\n",
      "  5. [p1_5] in section 'Introduction'\n",
      "     Text: In September, when I met with them again, I watched in awe as they asked GPT, their AI model, 60 mul...\n",
      "     ... and 51 more paragraphs\n",
      "\n",
      "🎯 SPECIAL ELEMENTS FOUND:\n",
      "  • Pull_Quotes: 2 found\n",
      "    - \"I've been thinking a lot about how AI can reduce some of the world's worst inequ...\"\n",
      "    - \"Advances in AI will enable the creation of a personal agent....\"\n",
      "\n",
      "📄 DOCUMENT TEXT PREVIEW:\n",
      "  Total length: 21,925 characters\n",
      "  First 300 chars: The Age of AI has begun Introduction In my lifetime, I’ve seen two demonstrations of technology that struck me as revolutionary. The first time was in 1980, when I was introduced to a graphical user interface—the forerunner of every modern operating system, including Windows. I sat with the person w...\n",
      "\n",
      "📊 STATISTICS:\n",
      "  • Total sections: 7\n",
      "  • Total paragraphs: 56\n",
      "  • Document length: 21,925 characters\n",
      "  • Has abstract: False\n",
      "  • Has figures: False\n",
      "  • Has tables: False\n",
      "  • Has equations: False\n",
      "  • Has pull quotes: True\n",
      "\n",
      "✅ SPECIFIC CHECKS FOR gai-eng_item004:\n",
      "  • Expected 7 sections: ✓ (found 7)\n",
      "  • Expected pull quotes: ✓ (found 2)\n",
      "  • Has external links in text: ✓\n",
      "  • Document has substantial content: ✓ (21,925 chars)\n",
      "\n",
      "📚 ALL SECTION TITLES FOUND:\n",
      "  1. Introduction\n",
      "  2. Defining artificial intelligence\n",
      "  3. Productivity enhancement\n",
      "  4. Health\n",
      "  5. Education\n",
      "  6. Risks and problems with AI\n",
      "  7. The next frontiers\n",
      "\n",
      "💾 Result stored in 'test_result' variable for further use\n"
     ]
    }
   ],
   "source": [
    "### STEP 4b: FLEXIBLE TEXT EXTRACTION FUNCTIONS\n",
    "### FROM: create_vectors_batch.ipynb\n",
    "\n",
    "# TEST AND VERIFY EXTRACTION\n",
    "\n",
    "def verify_extraction_details(extracted_data, show_full_text=False):\n",
    "    \"\"\"\n",
    "    Print detailed information about what was extracted from the document\n",
    "    \"\"\"\n",
    "    print(f\"\\n🔍 DETAILED EXTRACTION VERIFICATION\")\n",
    "    print(f\"=\" * 60)\n",
    "    \n",
    "    # Basic stats\n",
    "    print(f\"📋 Document ID: {extracted_data['document_id']}\")\n",
    "    print(f\"📑 Title: {extracted_data['title']}\")\n",
    "    print(f\"🌐 Language: {extracted_data['language']}\")\n",
    "    print(f\"📄 Text type: {extracted_data['text_type']}\")\n",
    "    \n",
    "    # Section details\n",
    "    print(f\"\\n📚 SECTIONS EXTRACTED ({len(extracted_data['sections'])} total):\")\n",
    "    for i, section in enumerate(extracted_data['sections'], 1):\n",
    "        print(f\"  {i}. [{section['id']}] {section['title']}\")\n",
    "        if section['type'] != 'standard':\n",
    "            print(f\"     (Type: {section['type']})\")\n",
    "    \n",
    "    # Paragraph details  \n",
    "    print(f\"\\n📝 PARAGRAPHS EXTRACTED ({len(extracted_data['paragraphs'])} total):\")\n",
    "    for i, para in enumerate(extracted_data['paragraphs'][:5], 1):  # Show first 5\n",
    "        print(f\"  {i}. [{para['id']}] in section '{para['section_title']}'\")\n",
    "        # Show first 100 characters of paragraph text\n",
    "        preview = para['text'][:100] + \"...\" if len(para['text']) > 100 else para['text']\n",
    "        print(f\"     Text: {preview}\")\n",
    "    \n",
    "    if len(extracted_data['paragraphs']) > 5:\n",
    "        print(f\"     ... and {len(extracted_data['paragraphs']) - 5} more paragraphs\")\n",
    "    \n",
    "    # Special elements details\n",
    "    print(f\"\\n🎯 SPECIAL ELEMENTS FOUND:\")\n",
    "    for element_type, items in extracted_data['special_elements'].items():\n",
    "        if items:\n",
    "            print(f\"  • {element_type.title()}: {len(items)} found\")\n",
    "            # Show details for some types\n",
    "            if element_type == 'pull_quotes' and items:\n",
    "                for quote in items:\n",
    "                    print(f\"    - \\\"{quote['text'][:80]}...\\\"\")\n",
    "            elif element_type == 'figures' and items:\n",
    "                for fig in items[:3]:  # Show first 3\n",
    "                    print(f\"    - [{fig['id']}]: {fig['text'][:60]}...\")\n",
    "    \n",
    "    # Document text preview\n",
    "    print(f\"\\n📄 DOCUMENT TEXT PREVIEW:\")\n",
    "    print(f\"  Total length: {len(extracted_data['document_text']):,} characters\")\n",
    "    if show_full_text:\n",
    "        print(f\"  Full text:\\n{extracted_data['document_text']}\")\n",
    "    else:\n",
    "        # Show first 300 characters\n",
    "        preview = extracted_data['document_text'][:300] + \"...\" if len(extracted_data['document_text']) > 300 else extracted_data['document_text']\n",
    "        print(f\"  First 300 chars: {preview}\")\n",
    "    \n",
    "    # Statistics summary\n",
    "    stats = extracted_data['statistics']\n",
    "    print(f\"\\n📊 STATISTICS:\")\n",
    "    print(f\"  • Total sections: {stats['total_sections']}\")\n",
    "    print(f\"  • Total paragraphs: {stats['total_paragraphs']}\")\n",
    "    print(f\"  • Document length: {stats['document_length']:,} characters\")\n",
    "    print(f\"  • Has abstract: {stats['has_abstract']}\")\n",
    "    print(f\"  • Has figures: {stats['has_figures']}\")\n",
    "    print(f\"  • Has tables: {stats['has_tables']}\")\n",
    "    print(f\"  • Has equations: {stats['has_equations']}\")\n",
    "    print(f\"  • Has pull quotes: {stats['has_pull_quotes']}\")\n",
    "    \n",
    "    return True\n",
    "\n",
    "# Test specifically with the gai-eng_item004 document\n",
    "def test_gai_eng_item004():\n",
    "    \"\"\"\n",
    "    Test the extraction with the specific document structure\n",
    "    \"\"\"\n",
    "    print(f\"\\n🧪 TESTING gai-eng_item004 EXTRACTION\")\n",
    "    print(f\"=\" * 60)\n",
    "    \n",
    "    try:\n",
    "        # Load the document (adjust path as needed)\n",
    "        doc_id = \"gai-eng_item004\"\n",
    "        lang = \"eng\"\n",
    "        \n",
    "        # Load content and metadata\n",
    "        content_data = load_corpus_item(lang, doc_id)\n",
    "        metadata = get_document_metadata(databases, lang, doc_id)\n",
    "        corpus_item = merge_content_and_metadata(content_data, metadata)\n",
    "        \n",
    "        # Extract with flexible function\n",
    "        extracted = extract_document_content_flexible(corpus_item)\n",
    "        \n",
    "        # Show detailed verification\n",
    "        verify_extraction_details(extracted, show_full_text=False)\n",
    "        \n",
    "        # Specific checks for this document\n",
    "        print(f\"\\n✅ SPECIFIC CHECKS FOR gai-eng_item004:\")\n",
    "        print(f\"  • Expected 7 sections: {'✓' if len(extracted['sections']) == 7 else '✗'} (found {len(extracted['sections'])})\")\n",
    "        print(f\"  • Expected pull quotes: {'✓' if len(extracted['special_elements']['pull_quotes']) == 2 else '✗'} (found {len(extracted['special_elements']['pull_quotes'])})\")\n",
    "        print(f\"  • Has external links in text: {'✓' if 'Link:' in extracted['document_text'] else '✗'}\")\n",
    "        print(f\"  • Document has substantial content: {'✓' if len(extracted['document_text']) > 10000 else '✗'} ({len(extracted['document_text']):,} chars)\")\n",
    "        \n",
    "        # Store result globally for further use\n",
    "        global test_result\n",
    "        test_result = extracted\n",
    "        \n",
    "        return extracted\n",
    "        \n",
    "    except Exception as e:\n",
    "        print(f\"  ❌ Error during extraction: {e}\")\n",
    "        import traceback\n",
    "        traceback.print_exc()\n",
    "        return None\n",
    "\n",
    "# Run the test\n",
    "print(\"🚀 Running extraction test...\")\n",
    "result = test_gai_eng_item004()\n",
    "\n",
    "# Show section titles to verify all 7 are there\n",
    "if result:\n",
    "    print(f\"\\n📚 ALL SECTION TITLES FOUND:\")\n",
    "    for i, section in enumerate(result['sections'], 1):\n",
    "        print(f\"  {i}. {section['title']}\")\n",
    "        \n",
    "    print(f\"\\n💾 Result stored in 'test_result' variable for further use\")\n",
    "else:\n",
    "    print(f\"\\n❌ Test failed - check the error messages above\")"
   ]
  },
  {
   "cell_type": "markdown",
   "id": "68b3f714",
   "metadata": {},
   "source": [
    "### STEP 5: DEFINE VECTORIZATION FUNCTIONS"
   ]
  },
  {
   "cell_type": "code",
   "execution_count": null,
   "id": "112921e5",
   "metadata": {},
   "outputs": [
    {
     "name": "stdout",
     "output_type": "stream",
     "text": [
      "✅ Cleaned batch processing functions loaded!\n",
      "📋 Functions available:\n",
      "  • batch_process_and_append_vectors() - Clean batch processing\n",
      "  • verify_no_duplicates() - Silent verification function\n",
      "🔄 Reduced output for better notebook experience!\n"
     ]
    }
   ],
   "source": [
    "### STEP 5: DEFINE VECTORIZATION FUNCTIONS (SCHEMA-COMPLIANT)\n",
    "\n",
    "def create_schema_compliant_metadata(model):\n",
    "    \"\"\"Create metadata section matching the standardized schema\"\"\"\n",
    "    return {\n",
    "        \"model\": \"paraphrase-multilingual-MiniLM-L12-v2\",\n",
    "        \"dimension\": model.get_sentence_embedding_dimension(),\n",
    "        \"version\": \"1.0\"\n",
    "    }\n",
    "\n",
    "def create_document_vector_schema_compliant(extracted_content, model):\n",
    "    \"\"\"\n",
    "    Create a single document-level vector matching existing schema\n",
    "    \"\"\"\n",
    "    doc_vector = model.encode(extracted_content['document_text'])\n",
    "    \n",
    "    return {\n",
    "        'id': extracted_content['document_id'],\n",
    "        'title': extracted_content['title'],\n",
    "        'vector': doc_vector.tolist(),  # Convert numpy array to list for JSON\n",
    "        'text': extracted_content['document_text'][:500]  # Limit text for storage\n",
    "    }\n",
    "\n",
    "def create_section_vectors_schema_compliant(extracted_content, model):\n",
    "    \"\"\"\n",
    "    Create vectors for all sections matching existing schema\n",
    "    \"\"\"\n",
    "    section_vectors = []\n",
    "    \n",
    "    for section in extracted_content['sections']:\n",
    "        if section['text'].strip():  # Only create vectors for non-empty sections\n",
    "            vector = model.encode(section['text'])\n",
    "            \n",
    "            section_vectors.append({\n",
    "                'id': section['id'],\n",
    "                'document_id': section['document_id'],\n",
    "                'title': section['title'],\n",
    "                'level': section['level'],\n",
    "                'vector': vector.tolist(),  # Convert to list for JSON\n",
    "                'text': section['text'][:500]  # Limit text for storage\n",
    "            })\n",
    "    \n",
    "    return section_vectors\n",
    "\n",
    "def create_paragraph_vectors_schema_compliant(extracted_content, model):\n",
    "    \"\"\"\n",
    "    Create vectors for all paragraphs matching existing schema\n",
    "    \"\"\"\n",
    "    paragraph_vectors = []\n",
    "    \n",
    "    for paragraph in extracted_content['paragraphs']:\n",
    "        if paragraph['text'].strip():  # Only create vectors for non-empty paragraphs\n",
    "            vector = model.encode(paragraph['text'])\n",
    "            \n",
    "            paragraph_vectors.append({\n",
    "                'id': paragraph['id'],\n",
    "                'document_id': paragraph['document_id'],\n",
    "                'vector': vector.tolist(),  # Convert to list for JSON\n",
    "                'text': paragraph['text'][:300]  # Limit text for storage\n",
    "            })\n",
    "    \n",
    "    return paragraph_vectors\n",
    "\n",
    "def append_vectors_to_schema_file(new_vectors, vector_type, model, output_dir=\"../vectors/gai\"):\n",
    "    \"\"\"\n",
    "    Append new vectors to existing schema-compliant files\n",
    "    Creates files if they don't exist\n",
    "    \n",
    "    Args:\n",
    "        new_vectors: List of new vector objects to append\n",
    "        vector_type: 'document', 'section', or 'paragraph'\n",
    "        model: SentenceTransformer model for metadata\n",
    "        output_dir: Output directory path\n",
    "    \n",
    "    Returns:\n",
    "        Dictionary with file info and statistics\n",
    "    \"\"\"\n",
    "    output_dir = Path(output_dir)\n",
    "    output_dir.mkdir(parents=True, exist_ok=True)\n",
    "    \n",
    "    # Define filename based on type\n",
    "    filename_map = {\n",
    "        'document': 'gai-document-vectors.json',\n",
    "        'section': 'gai-section-vectors.json', \n",
    "        'paragraph': 'gai-paragraph-vectors.json'\n",
    "    }\n",
    "    \n",
    "    if vector_type not in filename_map:\n",
    "        raise ValueError(f\"Invalid vector_type: {vector_type}\")\n",
    "    \n",
    "    filepath = output_dir / filename_map[vector_type]\n",
    "    \n",
    "    # Load existing file or create new structure\n",
    "    if filepath.exists():\n",
    "        try:\n",
    "            with open(filepath, 'r', encoding='utf-8') as f:\n",
    "                existing_data = json.load(f)\n",
    "        except Exception as e:\n",
    "            print(f\"  ⚠️ Error reading existing file, creating new: {e}\")\n",
    "            existing_data = {\"metadata\": {}, \"vectors\": []}\n",
    "    else:\n",
    "        existing_data = {\"metadata\": {}, \"vectors\": []}\n",
    "    \n",
    "    # Ensure proper structure\n",
    "    if 'vectors' not in existing_data:\n",
    "        existing_data['vectors'] = []\n",
    "    if 'metadata' not in existing_data:\n",
    "        existing_data['metadata'] = {}\n",
    "    \n",
    "    # Add new vectors with proper count numbering\n",
    "    current_count = len(existing_data['vectors'])\n",
    "    \n",
    "    for i, vector in enumerate(new_vectors):\n",
    "        # Ensure each vector has a count field\n",
    "        vector_with_count = vector.copy()\n",
    "        vector_with_count['count'] = current_count + i + 1\n",
    "        vector_with_count['created'] = datetime.now().isoformat()\n",
    "        \n",
    "        existing_data['vectors'].append(vector_with_count)\n",
    "    \n",
    "    # Update metadata\n",
    "    existing_data['metadata'] = create_schema_compliant_metadata(model)\n",
    "    \n",
    "    # Save file\n",
    "    with open(filepath, 'w', encoding='utf-8') as f:\n",
    "        json.dump(existing_data, f, ensure_ascii=False, indent=2)\n",
    "    \n",
    "    return {\n",
    "        'file': str(filepath),\n",
    "        'new_count': len(new_vectors),\n",
    "        'total_count': len(existing_data['vectors']),\n",
    "        'size_mb': filepath.stat().st_size / (1024*1024)\n",
    "    }\n",
    "\n",
    "def batch_process_and_append_vectors(loaded_docs, model, output_dir=\"../vectors/gai\"):\n",
    "    \"\"\"\n",
    "    Process documents and append to existing vector files with schema compliance\n",
    "    Only processes documents that aren't already vectorized\n",
    "    \n",
    "    Args:\n",
    "        loaded_docs: List of loaded document objects from STEP 3\n",
    "        model: SentenceTransformer model\n",
    "        output_dir: Output directory for vector files\n",
    "    \n",
    "    Returns:\n",
    "        Dictionary with processing statistics\n",
    "    \"\"\"\n",
    "    if not loaded_docs:\n",
    "        print(\"📝 No documents to process - all vectors are up to date!\")\n",
    "        return {'processed': 0, 'vectors_created': 0}\n",
    "    \n",
    "    print(f\"🚀 Processing {len(loaded_docs)} new documents...\")\n",
    "    \n",
    "    # Collections for new vectors only\n",
    "    new_document_vectors = []\n",
    "    new_section_vectors = []\n",
    "    new_paragraph_vectors = []\n",
    "    \n",
    "    processing_stats = {\n",
    "        'documents_processed': 0,\n",
    "        'documents_failed': 0,\n",
    "        'total_doc_vectors': 0,\n",
    "        'total_section_vectors': 0,\n",
    "        'total_paragraph_vectors': 0\n",
    "    }\n",
    "    \n",
    "    # Process each document\n",
    "    for idx, corpus_item in enumerate(loaded_docs):\n",
    "        try:\n",
    "            doc_id = corpus_item.get('document_id', 'Unknown')\n",
    "            \n",
    "            # Show progress every 10 documents or for small batches\n",
    "            if len(loaded_docs) <= 10 or (idx + 1) % 10 == 0 or idx == 0:\n",
    "                print(f\"   Processing {idx + 1}/{len(loaded_docs)}: {doc_id}\")\n",
    "            \n",
    "            # Extract content using your existing flexible extraction\n",
    "            extracted_content = extract_document_content_flexible(corpus_item)\n",
    "            \n",
    "            # Create vectors using schema-compliant functions\n",
    "            doc_vector_data = create_document_vector_schema_compliant(extracted_content, model)\n",
    "            doc_section_vectors = create_section_vectors_schema_compliant(extracted_content, model)\n",
    "            doc_paragraph_vectors = create_paragraph_vectors_schema_compliant(extracted_content, model)\n",
    "            \n",
    "            # Add to collections\n",
    "            new_document_vectors.append(doc_vector_data)\n",
    "            new_section_vectors.extend(doc_section_vectors)\n",
    "            new_paragraph_vectors.extend(doc_paragraph_vectors)\n",
    "            \n",
    "            # Update statistics\n",
    "            processing_stats['documents_processed'] += 1\n",
    "            processing_stats['total_doc_vectors'] += 1\n",
    "            processing_stats['total_section_vectors'] += len(doc_section_vectors)\n",
    "            processing_stats['total_paragraph_vectors'] += len(doc_paragraph_vectors)\n",
    "            \n",
    "        except Exception as e:\n",
    "            print(f\"   ❌ Error processing {doc_id}: {e}\")\n",
    "            processing_stats['documents_failed'] += 1\n",
    "            continue\n",
    "    \n",
    "    # Append all new vectors to files\n",
    "    print(f\"💾 Saving vectors to files...\")\n",
    "    \n",
    "    file_results = {}\n",
    "    \n",
    "    # Append document vectors\n",
    "    if new_document_vectors:\n",
    "        file_results['documents'] = append_vectors_to_schema_file(\n",
    "            new_document_vectors, 'document', model, output_dir\n",
    "        )\n",
    "    \n",
    "    # Append section vectors\n",
    "    if new_section_vectors:\n",
    "        file_results['sections'] = append_vectors_to_schema_file(\n",
    "            new_section_vectors, 'section', model, output_dir\n",
    "        )\n",
    "    \n",
    "    # Append paragraph vectors\n",
    "    if new_paragraph_vectors:\n",
    "        file_results['paragraphs'] = append_vectors_to_schema_file(\n",
    "            new_paragraph_vectors, 'paragraph', model, output_dir\n",
    "        )\n",
    "    \n",
    "    # Compact final statistics\n",
    "    total_new_vectors = (len(new_document_vectors) + len(new_section_vectors) + len(new_paragraph_vectors))\n",
    "    \n",
    "    print(f\"✅ Processed {processing_stats['documents_processed']} docs, created {total_new_vectors} vectors\")\n",
    "    if processing_stats['documents_failed'] > 0:\n",
    "        print(f\"⚠️  {processing_stats['documents_failed']} documents failed\")\n",
    "    \n",
    "    return {\n",
    "        'processed': processing_stats['documents_processed'],\n",
    "        'failed': processing_stats['documents_failed'],\n",
    "        'vectors_created': total_new_vectors,\n",
    "        'file_results': file_results,\n",
    "        'processing_stats': processing_stats\n",
    "    }\n",
    "\n",
    "def verify_no_duplicates(vector_dir=\"../vectors/gai\"):\n",
    "    \"\"\"\n",
    "    Verify that there are no duplicate document IDs in the vector files\n",
    "    This ensures our \"no re-processing\" logic worked correctly\n",
    "    \"\"\"\n",
    "    from pathlib import Path\n",
    "    import json\n",
    "    \n",
    "    vector_dir = Path(vector_dir)\n",
    "    \n",
    "    # Check each vector file\n",
    "    vector_files = [\n",
    "        'gai-document-vectors.json',\n",
    "        'gai-section-vectors.json', \n",
    "        'gai-paragraph-vectors.json'\n",
    "    ]\n",
    "    \n",
    "    all_good = True\n",
    "    \n",
    "    for filename in vector_files:\n",
    "        filepath = vector_dir / filename\n",
    "        \n",
    "        if filepath.exists():\n",
    "            try:\n",
    "                with open(filepath, 'r', encoding='utf-8') as f:\n",
    "                    data = json.load(f)\n",
    "                \n",
    "                vectors = data.get('vectors', [])\n",
    "                ids = [v.get('id', '') for v in vectors]\n",
    "                unique_ids = set(ids)\n",
    "                \n",
    "                if len(ids) != len(unique_ids):\n",
    "                    print(f\"❌ Duplicates found in {filename}: {len(ids)} total, {len(unique_ids)} unique\")\n",
    "                    all_good = False\n",
    "                        \n",
    "            except Exception as e:\n",
    "                print(f\"❌ Error checking {filename}: {e}\")\n",
    "                all_good = False\n",
    "    \n",
    "    return all_good\n",
    "\n",
    "print(\"✅ Cleaned batch processing functions loaded!\")\n",
    "print(\"📋 Functions available:\")\n",
    "print(\"  • batch_process_and_append_vectors() - Clean batch processing\")\n",
    "print(\"  • verify_no_duplicates() - Silent verification function\")"
   ]
  },
  {
   "cell_type": "markdown",
   "id": "44a5801e",
   "metadata": {},
   "source": [
    "### STEP 6: INITIALIZE THE MULTILINGUAL EMBEDDING MODEL"
   ]
  },
  {
   "cell_type": "code",
   "execution_count": 8,
   "id": "759e726f",
   "metadata": {},
   "outputs": [
    {
     "name": "stderr",
     "output_type": "stream",
     "text": [
      "2025-05-29 01:49:24,926 - INFO - Use pytorch device_name: cpu\n",
      "2025-05-29 01:49:24,927 - INFO - Load pretrained SentenceTransformer: paraphrase-multilingual-MiniLM-L12-v2\n"
     ]
    },
    {
     "name": "stdout",
     "output_type": "stream",
     "text": [
      "🤖 Loading multilingual embedding model...\n",
      "This may take a moment on first run as it downloads the model (~420MB)\n",
      "✅ Model loaded successfully!\n",
      "\n",
      "📊 Model Information:\n",
      "  • Model name: sentence-transformers/paraphrase-multilingual-MiniLM-L12-v2\n",
      "  • Embedding dimension: 384\n",
      "  • Max sequence length: 128\n",
      "  • Supports 50+ languages including English and Spanish\n",
      "\n",
      "✅ Model dimension (384) matches existing vector files!\n",
      "\n",
      "🚀 Ready for batch vectorization!\n"
     ]
    }
   ],
   "source": [
    "# Initialize the multilingual sentence transformer model\n",
    "print(\"🤖 Loading multilingual embedding model...\")\n",
    "print(\"This may take a moment on first run as it downloads the model (~420MB)\")\n",
    "\n",
    "try:\n",
    "    # Load the model that creates our unified vector space\n",
    "    model = SentenceTransformer('paraphrase-multilingual-MiniLM-L12-v2')\n",
    "    print(\"✅ Model loaded successfully!\")\n",
    "    \n",
    "    # Display model information\n",
    "    print(f\"\\n📊 Model Information:\")\n",
    "    print(f\"  • Model name: {model._modules['0'].auto_model.config._name_or_path}\")\n",
    "    print(f\"  • Embedding dimension: {model.get_sentence_embedding_dimension()}\")\n",
    "    print(f\"  • Max sequence length: {model.max_seq_length}\")\n",
    "    print(f\"  • Supports 50+ languages including English and Spanish\")\n",
    "    \n",
    "    # Verify this matches our existing vector schema\n",
    "    expected_dimension = 384\n",
    "    actual_dimension = model.get_sentence_embedding_dimension()\n",
    "    \n",
    "    if actual_dimension == expected_dimension:\n",
    "        print(f\"\\n✅ Model dimension ({actual_dimension}) matches existing vector files!\")\n",
    "    else:\n",
    "        print(f\"\\n⚠️  WARNING: Model dimension ({actual_dimension}) differs from expected ({expected_dimension})\")\n",
    "        print(\"This may cause compatibility issues with existing vectors.\")\n",
    "    \n",
    "except Exception as e:\n",
    "    print(f\"❌ Error loading model: {e}\")\n",
    "    print(\"💡 Try running: pip install sentence-transformers\")\n",
    "\n",
    "print(\"\\n🚀 Ready for batch vectorization!\")"
   ]
  },
  {
   "cell_type": "markdown",
   "id": "0fba3007",
   "metadata": {},
   "source": [
    "## ============================================================================="
   ]
  },
  {
   "cell_type": "markdown",
   "id": "7f35f211",
   "metadata": {},
   "source": [
    "## Part 3: Execution and Output"
   ]
  },
  {
   "cell_type": "markdown",
   "id": "61c710b9",
   "metadata": {},
   "source": [
    "### STEP 7: BATCH PROCESS DOCUMENTS"
   ]
  },
  {
   "cell_type": "code",
   "execution_count": 9,
   "id": "2e9701ee",
   "metadata": {},
   "outputs": [
    {
     "name": "stdout",
     "output_type": "stream",
     "text": [
      "🚀 Starting Smart Batch Vectorization\n",
      "📋 Processing 5 new documents\n",
      "🤖 Model: sentence-transformers/paraphrase-multilingual-MiniLM-L12-v2\n",
      "📐 Dimension: 384\n",
      "🔄 Processing 5 documents...\n",
      "🚀 Processing 5 new documents...\n",
      "   Processing 1/5: gai-eng_item002\n",
      "📄 Extracting content from: gai-eng_item002\n",
      "  ✅ Extracted: 19 sections, 73 paragraphs\n",
      "  📊 Document type: Academic paper\n",
      "  🎯 Special elements: figures, tables, references\n"
     ]
    },
    {
     "data": {
      "application/vnd.jupyter.widget-view+json": {
       "model_id": "99b4fb2048a84e1f989c595eb8da81e1",
       "version_major": 2,
       "version_minor": 0
      },
      "text/plain": [
       "Batches:   0%|          | 0/1 [00:00<?, ?it/s]"
      ]
     },
     "metadata": {},
     "output_type": "display_data"
    },
    {
     "data": {
      "application/vnd.jupyter.widget-view+json": {
       "model_id": "48eaadbabee6494ab91284a90ee8baae",
       "version_major": 2,
       "version_minor": 0
      },
      "text/plain": [
       "Batches:   0%|          | 0/1 [00:00<?, ?it/s]"
      ]
     },
     "metadata": {},
     "output_type": "display_data"
    },
    {
     "data": {
      "application/vnd.jupyter.widget-view+json": {
       "model_id": "9dfed96b15034dbb9979130a6649456c",
       "version_major": 2,
       "version_minor": 0
      },
      "text/plain": [
       "Batches:   0%|          | 0/1 [00:00<?, ?it/s]"
      ]
     },
     "metadata": {},
     "output_type": "display_data"
    },
    {
     "data": {
      "application/vnd.jupyter.widget-view+json": {
       "model_id": "d75273d90544442fb48e85ee3bd96702",
       "version_major": 2,
       "version_minor": 0
      },
      "text/plain": [
       "Batches:   0%|          | 0/1 [00:00<?, ?it/s]"
      ]
     },
     "metadata": {},
     "output_type": "display_data"
    },
    {
     "data": {
      "application/vnd.jupyter.widget-view+json": {
       "model_id": "1ff9de654d6d4bba96e49b9a7d950af4",
       "version_major": 2,
       "version_minor": 0
      },
      "text/plain": [
       "Batches:   0%|          | 0/1 [00:00<?, ?it/s]"
      ]
     },
     "metadata": {},
     "output_type": "display_data"
    },
    {
     "data": {
      "application/vnd.jupyter.widget-view+json": {
       "model_id": "4eb414288cf6450aa8e1ab5aebd07b96",
       "version_major": 2,
       "version_minor": 0
      },
      "text/plain": [
       "Batches:   0%|          | 0/1 [00:00<?, ?it/s]"
      ]
     },
     "metadata": {},
     "output_type": "display_data"
    },
    {
     "data": {
      "application/vnd.jupyter.widget-view+json": {
       "model_id": "0c8cf511d6a7461092bee2ddfe6401f5",
       "version_major": 2,
       "version_minor": 0
      },
      "text/plain": [
       "Batches:   0%|          | 0/1 [00:00<?, ?it/s]"
      ]
     },
     "metadata": {},
     "output_type": "display_data"
    },
    {
     "data": {
      "application/vnd.jupyter.widget-view+json": {
       "model_id": "d5aaa240c22c4434babc876af45710bd",
       "version_major": 2,
       "version_minor": 0
      },
      "text/plain": [
       "Batches:   0%|          | 0/1 [00:00<?, ?it/s]"
      ]
     },
     "metadata": {},
     "output_type": "display_data"
    },
    {
     "data": {
      "application/vnd.jupyter.widget-view+json": {
       "model_id": "c55ee9527c0f4f97895397e73152b2cb",
       "version_major": 2,
       "version_minor": 0
      },
      "text/plain": [
       "Batches:   0%|          | 0/1 [00:00<?, ?it/s]"
      ]
     },
     "metadata": {},
     "output_type": "display_data"
    },
    {
     "data": {
      "application/vnd.jupyter.widget-view+json": {
       "model_id": "e2cd88c7832f44349c33c8f31dc7b757",
       "version_major": 2,
       "version_minor": 0
      },
      "text/plain": [
       "Batches:   0%|          | 0/1 [00:00<?, ?it/s]"
      ]
     },
     "metadata": {},
     "output_type": "display_data"
    },
    {
     "data": {
      "application/vnd.jupyter.widget-view+json": {
       "model_id": "12badc4b7904432ea94c5aaef1c65e8d",
       "version_major": 2,
       "version_minor": 0
      },
      "text/plain": [
       "Batches:   0%|          | 0/1 [00:00<?, ?it/s]"
      ]
     },
     "metadata": {},
     "output_type": "display_data"
    },
    {
     "data": {
      "application/vnd.jupyter.widget-view+json": {
       "model_id": "9cdfb1892f3543f2ab9d606ec3b1ce1b",
       "version_major": 2,
       "version_minor": 0
      },
      "text/plain": [
       "Batches:   0%|          | 0/1 [00:00<?, ?it/s]"
      ]
     },
     "metadata": {},
     "output_type": "display_data"
    },
    {
     "data": {
      "application/vnd.jupyter.widget-view+json": {
       "model_id": "3ff00f3b13334f6fb1e54633b988fafe",
       "version_major": 2,
       "version_minor": 0
      },
      "text/plain": [
       "Batches:   0%|          | 0/1 [00:00<?, ?it/s]"
      ]
     },
     "metadata": {},
     "output_type": "display_data"
    },
    {
     "data": {
      "application/vnd.jupyter.widget-view+json": {
       "model_id": "2a5efd6c697741439d2e209557ac8ab5",
       "version_major": 2,
       "version_minor": 0
      },
      "text/plain": [
       "Batches:   0%|          | 0/1 [00:00<?, ?it/s]"
      ]
     },
     "metadata": {},
     "output_type": "display_data"
    },
    {
     "data": {
      "application/vnd.jupyter.widget-view+json": {
       "model_id": "be6a069dd5f1404888723129adf137b8",
       "version_major": 2,
       "version_minor": 0
      },
      "text/plain": [
       "Batches:   0%|          | 0/1 [00:00<?, ?it/s]"
      ]
     },
     "metadata": {},
     "output_type": "display_data"
    },
    {
     "data": {
      "application/vnd.jupyter.widget-view+json": {
       "model_id": "f499ad0c674a450d9cbb142d7932a6ae",
       "version_major": 2,
       "version_minor": 0
      },
      "text/plain": [
       "Batches:   0%|          | 0/1 [00:00<?, ?it/s]"
      ]
     },
     "metadata": {},
     "output_type": "display_data"
    },
    {
     "data": {
      "application/vnd.jupyter.widget-view+json": {
       "model_id": "1d26d2bde19243db95ecf9ad9d2d0447",
       "version_major": 2,
       "version_minor": 0
      },
      "text/plain": [
       "Batches:   0%|          | 0/1 [00:00<?, ?it/s]"
      ]
     },
     "metadata": {},
     "output_type": "display_data"
    },
    {
     "data": {
      "application/vnd.jupyter.widget-view+json": {
       "model_id": "4535b0d6a7b54f7a9736fecb31e4ce97",
       "version_major": 2,
       "version_minor": 0
      },
      "text/plain": [
       "Batches:   0%|          | 0/1 [00:00<?, ?it/s]"
      ]
     },
     "metadata": {},
     "output_type": "display_data"
    },
    {
     "data": {
      "application/vnd.jupyter.widget-view+json": {
       "model_id": "2419ae0f9cd5419a9f3e1e7768b6c46e",
       "version_major": 2,
       "version_minor": 0
      },
      "text/plain": [
       "Batches:   0%|          | 0/1 [00:00<?, ?it/s]"
      ]
     },
     "metadata": {},
     "output_type": "display_data"
    },
    {
     "data": {
      "application/vnd.jupyter.widget-view+json": {
       "model_id": "c97ab6b7fb604a328323956d0652c248",
       "version_major": 2,
       "version_minor": 0
      },
      "text/plain": [
       "Batches:   0%|          | 0/1 [00:00<?, ?it/s]"
      ]
     },
     "metadata": {},
     "output_type": "display_data"
    },
    {
     "data": {
      "application/vnd.jupyter.widget-view+json": {
       "model_id": "78a0fa6acf7c4c8092aa9170faf2aaa5",
       "version_major": 2,
       "version_minor": 0
      },
      "text/plain": [
       "Batches:   0%|          | 0/1 [00:00<?, ?it/s]"
      ]
     },
     "metadata": {},
     "output_type": "display_data"
    },
    {
     "data": {
      "application/vnd.jupyter.widget-view+json": {
       "model_id": "c65217031fe24f20b610009644327575",
       "version_major": 2,
       "version_minor": 0
      },
      "text/plain": [
       "Batches:   0%|          | 0/1 [00:00<?, ?it/s]"
      ]
     },
     "metadata": {},
     "output_type": "display_data"
    },
    {
     "data": {
      "application/vnd.jupyter.widget-view+json": {
       "model_id": "43fce2427be24527b8713cb54ec808e0",
       "version_major": 2,
       "version_minor": 0
      },
      "text/plain": [
       "Batches:   0%|          | 0/1 [00:00<?, ?it/s]"
      ]
     },
     "metadata": {},
     "output_type": "display_data"
    },
    {
     "data": {
      "application/vnd.jupyter.widget-view+json": {
       "model_id": "0e8f5df0b5184e5abb0f9c32c57334f9",
       "version_major": 2,
       "version_minor": 0
      },
      "text/plain": [
       "Batches:   0%|          | 0/1 [00:00<?, ?it/s]"
      ]
     },
     "metadata": {},
     "output_type": "display_data"
    },
    {
     "data": {
      "application/vnd.jupyter.widget-view+json": {
       "model_id": "921fd98edd9549348e30d4b75c89eb04",
       "version_major": 2,
       "version_minor": 0
      },
      "text/plain": [
       "Batches:   0%|          | 0/1 [00:00<?, ?it/s]"
      ]
     },
     "metadata": {},
     "output_type": "display_data"
    },
    {
     "data": {
      "application/vnd.jupyter.widget-view+json": {
       "model_id": "105a7bd32be14d38b4c0c26f0ed80d81",
       "version_major": 2,
       "version_minor": 0
      },
      "text/plain": [
       "Batches:   0%|          | 0/1 [00:00<?, ?it/s]"
      ]
     },
     "metadata": {},
     "output_type": "display_data"
    },
    {
     "data": {
      "application/vnd.jupyter.widget-view+json": {
       "model_id": "2e64abd1eb324a8980ec3ffc8a982fa7",
       "version_major": 2,
       "version_minor": 0
      },
      "text/plain": [
       "Batches:   0%|          | 0/1 [00:00<?, ?it/s]"
      ]
     },
     "metadata": {},
     "output_type": "display_data"
    },
    {
     "data": {
      "application/vnd.jupyter.widget-view+json": {
       "model_id": "5e12aeb28ebe4b77a37db011f5b9fec6",
       "version_major": 2,
       "version_minor": 0
      },
      "text/plain": [
       "Batches:   0%|          | 0/1 [00:00<?, ?it/s]"
      ]
     },
     "metadata": {},
     "output_type": "display_data"
    },
    {
     "data": {
      "application/vnd.jupyter.widget-view+json": {
       "model_id": "0c4640e4207f4db8a238da7a610b3cff",
       "version_major": 2,
       "version_minor": 0
      },
      "text/plain": [
       "Batches:   0%|          | 0/1 [00:00<?, ?it/s]"
      ]
     },
     "metadata": {},
     "output_type": "display_data"
    },
    {
     "data": {
      "application/vnd.jupyter.widget-view+json": {
       "model_id": "c4a0bdac4cc7476b94c8793614e4e61a",
       "version_major": 2,
       "version_minor": 0
      },
      "text/plain": [
       "Batches:   0%|          | 0/1 [00:00<?, ?it/s]"
      ]
     },
     "metadata": {},
     "output_type": "display_data"
    },
    {
     "data": {
      "application/vnd.jupyter.widget-view+json": {
       "model_id": "c9c2bd5ddd134a92a7681e903c3c51db",
       "version_major": 2,
       "version_minor": 0
      },
      "text/plain": [
       "Batches:   0%|          | 0/1 [00:00<?, ?it/s]"
      ]
     },
     "metadata": {},
     "output_type": "display_data"
    },
    {
     "data": {
      "application/vnd.jupyter.widget-view+json": {
       "model_id": "1a91c19261b4468f855d1e7522f208ab",
       "version_major": 2,
       "version_minor": 0
      },
      "text/plain": [
       "Batches:   0%|          | 0/1 [00:00<?, ?it/s]"
      ]
     },
     "metadata": {},
     "output_type": "display_data"
    },
    {
     "data": {
      "application/vnd.jupyter.widget-view+json": {
       "model_id": "d0bb8c4c23ff4670983cc71a4a016cf8",
       "version_major": 2,
       "version_minor": 0
      },
      "text/plain": [
       "Batches:   0%|          | 0/1 [00:00<?, ?it/s]"
      ]
     },
     "metadata": {},
     "output_type": "display_data"
    },
    {
     "data": {
      "application/vnd.jupyter.widget-view+json": {
       "model_id": "b32383c31cdf49e2846f0890eb95872b",
       "version_major": 2,
       "version_minor": 0
      },
      "text/plain": [
       "Batches:   0%|          | 0/1 [00:00<?, ?it/s]"
      ]
     },
     "metadata": {},
     "output_type": "display_data"
    },
    {
     "data": {
      "application/vnd.jupyter.widget-view+json": {
       "model_id": "386ae6f4d32745549767156f2b343ff8",
       "version_major": 2,
       "version_minor": 0
      },
      "text/plain": [
       "Batches:   0%|          | 0/1 [00:00<?, ?it/s]"
      ]
     },
     "metadata": {},
     "output_type": "display_data"
    },
    {
     "data": {
      "application/vnd.jupyter.widget-view+json": {
       "model_id": "b6b8d14d5b0843948fd5b967166c0f14",
       "version_major": 2,
       "version_minor": 0
      },
      "text/plain": [
       "Batches:   0%|          | 0/1 [00:00<?, ?it/s]"
      ]
     },
     "metadata": {},
     "output_type": "display_data"
    },
    {
     "data": {
      "application/vnd.jupyter.widget-view+json": {
       "model_id": "825580a44a9445c1a8a5401f325ea074",
       "version_major": 2,
       "version_minor": 0
      },
      "text/plain": [
       "Batches:   0%|          | 0/1 [00:00<?, ?it/s]"
      ]
     },
     "metadata": {},
     "output_type": "display_data"
    },
    {
     "data": {
      "application/vnd.jupyter.widget-view+json": {
       "model_id": "50180708ad04437b883a6703c4839497",
       "version_major": 2,
       "version_minor": 0
      },
      "text/plain": [
       "Batches:   0%|          | 0/1 [00:00<?, ?it/s]"
      ]
     },
     "metadata": {},
     "output_type": "display_data"
    },
    {
     "data": {
      "application/vnd.jupyter.widget-view+json": {
       "model_id": "082bbca8f31c43f2a2d504abbdb657ec",
       "version_major": 2,
       "version_minor": 0
      },
      "text/plain": [
       "Batches:   0%|          | 0/1 [00:00<?, ?it/s]"
      ]
     },
     "metadata": {},
     "output_type": "display_data"
    },
    {
     "data": {
      "application/vnd.jupyter.widget-view+json": {
       "model_id": "c4f1ec2b38a3419fa06f4abcfd436588",
       "version_major": 2,
       "version_minor": 0
      },
      "text/plain": [
       "Batches:   0%|          | 0/1 [00:00<?, ?it/s]"
      ]
     },
     "metadata": {},
     "output_type": "display_data"
    },
    {
     "data": {
      "application/vnd.jupyter.widget-view+json": {
       "model_id": "ca4f750b92354ce0843d9a20cb91864e",
       "version_major": 2,
       "version_minor": 0
      },
      "text/plain": [
       "Batches:   0%|          | 0/1 [00:00<?, ?it/s]"
      ]
     },
     "metadata": {},
     "output_type": "display_data"
    },
    {
     "data": {
      "application/vnd.jupyter.widget-view+json": {
       "model_id": "3bf8665eade843528c6304b9e791bcc4",
       "version_major": 2,
       "version_minor": 0
      },
      "text/plain": [
       "Batches:   0%|          | 0/1 [00:00<?, ?it/s]"
      ]
     },
     "metadata": {},
     "output_type": "display_data"
    },
    {
     "data": {
      "application/vnd.jupyter.widget-view+json": {
       "model_id": "bf442dd9ecc04a43a767aecba97287d6",
       "version_major": 2,
       "version_minor": 0
      },
      "text/plain": [
       "Batches:   0%|          | 0/1 [00:00<?, ?it/s]"
      ]
     },
     "metadata": {},
     "output_type": "display_data"
    },
    {
     "data": {
      "application/vnd.jupyter.widget-view+json": {
       "model_id": "98c4941f315b415a8142d58d94edfe1b",
       "version_major": 2,
       "version_minor": 0
      },
      "text/plain": [
       "Batches:   0%|          | 0/1 [00:00<?, ?it/s]"
      ]
     },
     "metadata": {},
     "output_type": "display_data"
    },
    {
     "data": {
      "application/vnd.jupyter.widget-view+json": {
       "model_id": "eed10fe476bc479f85a0cb6711e9dfbe",
       "version_major": 2,
       "version_minor": 0
      },
      "text/plain": [
       "Batches:   0%|          | 0/1 [00:00<?, ?it/s]"
      ]
     },
     "metadata": {},
     "output_type": "display_data"
    },
    {
     "data": {
      "application/vnd.jupyter.widget-view+json": {
       "model_id": "dd145ea22f2d4a879d38a5cdc74010dc",
       "version_major": 2,
       "version_minor": 0
      },
      "text/plain": [
       "Batches:   0%|          | 0/1 [00:00<?, ?it/s]"
      ]
     },
     "metadata": {},
     "output_type": "display_data"
    },
    {
     "data": {
      "application/vnd.jupyter.widget-view+json": {
       "model_id": "dc65860989134217afd07e13d6868dde",
       "version_major": 2,
       "version_minor": 0
      },
      "text/plain": [
       "Batches:   0%|          | 0/1 [00:00<?, ?it/s]"
      ]
     },
     "metadata": {},
     "output_type": "display_data"
    },
    {
     "data": {
      "application/vnd.jupyter.widget-view+json": {
       "model_id": "3503ff17ead24d5bacf9ae2b65dc404e",
       "version_major": 2,
       "version_minor": 0
      },
      "text/plain": [
       "Batches:   0%|          | 0/1 [00:00<?, ?it/s]"
      ]
     },
     "metadata": {},
     "output_type": "display_data"
    },
    {
     "data": {
      "application/vnd.jupyter.widget-view+json": {
       "model_id": "867672232a894191a321be5714502c7e",
       "version_major": 2,
       "version_minor": 0
      },
      "text/plain": [
       "Batches:   0%|          | 0/1 [00:00<?, ?it/s]"
      ]
     },
     "metadata": {},
     "output_type": "display_data"
    },
    {
     "data": {
      "application/vnd.jupyter.widget-view+json": {
       "model_id": "39c2ea38232b4fc5afa7b0f861965842",
       "version_major": 2,
       "version_minor": 0
      },
      "text/plain": [
       "Batches:   0%|          | 0/1 [00:00<?, ?it/s]"
      ]
     },
     "metadata": {},
     "output_type": "display_data"
    },
    {
     "data": {
      "application/vnd.jupyter.widget-view+json": {
       "model_id": "e4276cb1f4474228867f51e15b09fe5f",
       "version_major": 2,
       "version_minor": 0
      },
      "text/plain": [
       "Batches:   0%|          | 0/1 [00:00<?, ?it/s]"
      ]
     },
     "metadata": {},
     "output_type": "display_data"
    },
    {
     "data": {
      "application/vnd.jupyter.widget-view+json": {
       "model_id": "0b2ba04ca5c94ccc8cc331dfa3337989",
       "version_major": 2,
       "version_minor": 0
      },
      "text/plain": [
       "Batches:   0%|          | 0/1 [00:00<?, ?it/s]"
      ]
     },
     "metadata": {},
     "output_type": "display_data"
    },
    {
     "data": {
      "application/vnd.jupyter.widget-view+json": {
       "model_id": "7687821068fc4aa7b901f5e6965ec45c",
       "version_major": 2,
       "version_minor": 0
      },
      "text/plain": [
       "Batches:   0%|          | 0/1 [00:00<?, ?it/s]"
      ]
     },
     "metadata": {},
     "output_type": "display_data"
    },
    {
     "data": {
      "application/vnd.jupyter.widget-view+json": {
       "model_id": "14f36c9270d34b4fa11bf285a4790b6e",
       "version_major": 2,
       "version_minor": 0
      },
      "text/plain": [
       "Batches:   0%|          | 0/1 [00:00<?, ?it/s]"
      ]
     },
     "metadata": {},
     "output_type": "display_data"
    },
    {
     "data": {
      "application/vnd.jupyter.widget-view+json": {
       "model_id": "04be138eb9284c5d87ee3cccfc6b66cb",
       "version_major": 2,
       "version_minor": 0
      },
      "text/plain": [
       "Batches:   0%|          | 0/1 [00:00<?, ?it/s]"
      ]
     },
     "metadata": {},
     "output_type": "display_data"
    },
    {
     "data": {
      "application/vnd.jupyter.widget-view+json": {
       "model_id": "2175aa03f65746e1a0464775027c2017",
       "version_major": 2,
       "version_minor": 0
      },
      "text/plain": [
       "Batches:   0%|          | 0/1 [00:00<?, ?it/s]"
      ]
     },
     "metadata": {},
     "output_type": "display_data"
    },
    {
     "data": {
      "application/vnd.jupyter.widget-view+json": {
       "model_id": "2390d2dc757d42d5b457ad2489497417",
       "version_major": 2,
       "version_minor": 0
      },
      "text/plain": [
       "Batches:   0%|          | 0/1 [00:00<?, ?it/s]"
      ]
     },
     "metadata": {},
     "output_type": "display_data"
    },
    {
     "data": {
      "application/vnd.jupyter.widget-view+json": {
       "model_id": "b601445b0eb44204b985a44e1bc73c14",
       "version_major": 2,
       "version_minor": 0
      },
      "text/plain": [
       "Batches:   0%|          | 0/1 [00:00<?, ?it/s]"
      ]
     },
     "metadata": {},
     "output_type": "display_data"
    },
    {
     "data": {
      "application/vnd.jupyter.widget-view+json": {
       "model_id": "f835efc740374614b042a55fa2aea7dc",
       "version_major": 2,
       "version_minor": 0
      },
      "text/plain": [
       "Batches:   0%|          | 0/1 [00:00<?, ?it/s]"
      ]
     },
     "metadata": {},
     "output_type": "display_data"
    },
    {
     "data": {
      "application/vnd.jupyter.widget-view+json": {
       "model_id": "c8fdce26d74c43b98c349e4dbced0816",
       "version_major": 2,
       "version_minor": 0
      },
      "text/plain": [
       "Batches:   0%|          | 0/1 [00:00<?, ?it/s]"
      ]
     },
     "metadata": {},
     "output_type": "display_data"
    },
    {
     "data": {
      "application/vnd.jupyter.widget-view+json": {
       "model_id": "e8a7fdccf0d647fe90e70bcaae9368f0",
       "version_major": 2,
       "version_minor": 0
      },
      "text/plain": [
       "Batches:   0%|          | 0/1 [00:00<?, ?it/s]"
      ]
     },
     "metadata": {},
     "output_type": "display_data"
    },
    {
     "data": {
      "application/vnd.jupyter.widget-view+json": {
       "model_id": "b2946d61f9884d729385f5cdf128eced",
       "version_major": 2,
       "version_minor": 0
      },
      "text/plain": [
       "Batches:   0%|          | 0/1 [00:00<?, ?it/s]"
      ]
     },
     "metadata": {},
     "output_type": "display_data"
    },
    {
     "data": {
      "application/vnd.jupyter.widget-view+json": {
       "model_id": "f8550795f9de49ed9921866aaa374d1f",
       "version_major": 2,
       "version_minor": 0
      },
      "text/plain": [
       "Batches:   0%|          | 0/1 [00:00<?, ?it/s]"
      ]
     },
     "metadata": {},
     "output_type": "display_data"
    },
    {
     "data": {
      "application/vnd.jupyter.widget-view+json": {
       "model_id": "c63ad3be233245e58b48a845e53de095",
       "version_major": 2,
       "version_minor": 0
      },
      "text/plain": [
       "Batches:   0%|          | 0/1 [00:00<?, ?it/s]"
      ]
     },
     "metadata": {},
     "output_type": "display_data"
    },
    {
     "data": {
      "application/vnd.jupyter.widget-view+json": {
       "model_id": "880f2d21dbe249338c24a49f01473483",
       "version_major": 2,
       "version_minor": 0
      },
      "text/plain": [
       "Batches:   0%|          | 0/1 [00:00<?, ?it/s]"
      ]
     },
     "metadata": {},
     "output_type": "display_data"
    },
    {
     "data": {
      "application/vnd.jupyter.widget-view+json": {
       "model_id": "1f272f8f67594811afc983cd33d67292",
       "version_major": 2,
       "version_minor": 0
      },
      "text/plain": [
       "Batches:   0%|          | 0/1 [00:00<?, ?it/s]"
      ]
     },
     "metadata": {},
     "output_type": "display_data"
    },
    {
     "data": {
      "application/vnd.jupyter.widget-view+json": {
       "model_id": "1f55ea4c774c45ce96b91406a1135164",
       "version_major": 2,
       "version_minor": 0
      },
      "text/plain": [
       "Batches:   0%|          | 0/1 [00:00<?, ?it/s]"
      ]
     },
     "metadata": {},
     "output_type": "display_data"
    },
    {
     "data": {
      "application/vnd.jupyter.widget-view+json": {
       "model_id": "6f0017a1ceca4a25bb88fa00b3442c94",
       "version_major": 2,
       "version_minor": 0
      },
      "text/plain": [
       "Batches:   0%|          | 0/1 [00:00<?, ?it/s]"
      ]
     },
     "metadata": {},
     "output_type": "display_data"
    },
    {
     "data": {
      "application/vnd.jupyter.widget-view+json": {
       "model_id": "61c0ef733c4c4c7a8eb779eeefa1c791",
       "version_major": 2,
       "version_minor": 0
      },
      "text/plain": [
       "Batches:   0%|          | 0/1 [00:00<?, ?it/s]"
      ]
     },
     "metadata": {},
     "output_type": "display_data"
    },
    {
     "data": {
      "application/vnd.jupyter.widget-view+json": {
       "model_id": "a0afca0386c840ff8dab104273cb2a3f",
       "version_major": 2,
       "version_minor": 0
      },
      "text/plain": [
       "Batches:   0%|          | 0/1 [00:00<?, ?it/s]"
      ]
     },
     "metadata": {},
     "output_type": "display_data"
    },
    {
     "data": {
      "application/vnd.jupyter.widget-view+json": {
       "model_id": "ca1e877d17614c328773da20c2fa5a90",
       "version_major": 2,
       "version_minor": 0
      },
      "text/plain": [
       "Batches:   0%|          | 0/1 [00:00<?, ?it/s]"
      ]
     },
     "metadata": {},
     "output_type": "display_data"
    },
    {
     "data": {
      "application/vnd.jupyter.widget-view+json": {
       "model_id": "d9e1582ada8d413a9e8182bcc660d98e",
       "version_major": 2,
       "version_minor": 0
      },
      "text/plain": [
       "Batches:   0%|          | 0/1 [00:00<?, ?it/s]"
      ]
     },
     "metadata": {},
     "output_type": "display_data"
    },
    {
     "data": {
      "application/vnd.jupyter.widget-view+json": {
       "model_id": "1d3f4279a652438398b8a1f9d4f4e32f",
       "version_major": 2,
       "version_minor": 0
      },
      "text/plain": [
       "Batches:   0%|          | 0/1 [00:00<?, ?it/s]"
      ]
     },
     "metadata": {},
     "output_type": "display_data"
    },
    {
     "data": {
      "application/vnd.jupyter.widget-view+json": {
       "model_id": "44936b827ee2478a8c7d0beb02b29070",
       "version_major": 2,
       "version_minor": 0
      },
      "text/plain": [
       "Batches:   0%|          | 0/1 [00:00<?, ?it/s]"
      ]
     },
     "metadata": {},
     "output_type": "display_data"
    },
    {
     "data": {
      "application/vnd.jupyter.widget-view+json": {
       "model_id": "df7f6cbb8d2c4c838a20ada8f5f42a55",
       "version_major": 2,
       "version_minor": 0
      },
      "text/plain": [
       "Batches:   0%|          | 0/1 [00:00<?, ?it/s]"
      ]
     },
     "metadata": {},
     "output_type": "display_data"
    },
    {
     "data": {
      "application/vnd.jupyter.widget-view+json": {
       "model_id": "240398cf3a9a4749a9c3b87189c325ea",
       "version_major": 2,
       "version_minor": 0
      },
      "text/plain": [
       "Batches:   0%|          | 0/1 [00:00<?, ?it/s]"
      ]
     },
     "metadata": {},
     "output_type": "display_data"
    },
    {
     "data": {
      "application/vnd.jupyter.widget-view+json": {
       "model_id": "8c14757f1b454ffc8054c5e9e2ea0486",
       "version_major": 2,
       "version_minor": 0
      },
      "text/plain": [
       "Batches:   0%|          | 0/1 [00:00<?, ?it/s]"
      ]
     },
     "metadata": {},
     "output_type": "display_data"
    },
    {
     "data": {
      "application/vnd.jupyter.widget-view+json": {
       "model_id": "f2b6d09f5a7a40ce872743c95b8dfff9",
       "version_major": 2,
       "version_minor": 0
      },
      "text/plain": [
       "Batches:   0%|          | 0/1 [00:00<?, ?it/s]"
      ]
     },
     "metadata": {},
     "output_type": "display_data"
    },
    {
     "data": {
      "application/vnd.jupyter.widget-view+json": {
       "model_id": "98c6ffe66e1d40a7aabe0aab1311b236",
       "version_major": 2,
       "version_minor": 0
      },
      "text/plain": [
       "Batches:   0%|          | 0/1 [00:00<?, ?it/s]"
      ]
     },
     "metadata": {},
     "output_type": "display_data"
    },
    {
     "data": {
      "application/vnd.jupyter.widget-view+json": {
       "model_id": "238e064d3d8b42ac927bdec23e92a463",
       "version_major": 2,
       "version_minor": 0
      },
      "text/plain": [
       "Batches:   0%|          | 0/1 [00:00<?, ?it/s]"
      ]
     },
     "metadata": {},
     "output_type": "display_data"
    },
    {
     "data": {
      "application/vnd.jupyter.widget-view+json": {
       "model_id": "e3890b4a5ba94938adaf8a059246bb28",
       "version_major": 2,
       "version_minor": 0
      },
      "text/plain": [
       "Batches:   0%|          | 0/1 [00:00<?, ?it/s]"
      ]
     },
     "metadata": {},
     "output_type": "display_data"
    },
    {
     "data": {
      "application/vnd.jupyter.widget-view+json": {
       "model_id": "1635ed26f1dc47eabc92e90bbfc985fb",
       "version_major": 2,
       "version_minor": 0
      },
      "text/plain": [
       "Batches:   0%|          | 0/1 [00:00<?, ?it/s]"
      ]
     },
     "metadata": {},
     "output_type": "display_data"
    },
    {
     "data": {
      "application/vnd.jupyter.widget-view+json": {
       "model_id": "dfc146981796437190825fd313400644",
       "version_major": 2,
       "version_minor": 0
      },
      "text/plain": [
       "Batches:   0%|          | 0/1 [00:00<?, ?it/s]"
      ]
     },
     "metadata": {},
     "output_type": "display_data"
    },
    {
     "data": {
      "application/vnd.jupyter.widget-view+json": {
       "model_id": "beec548a1473420185d747f9b2bfd2d5",
       "version_major": 2,
       "version_minor": 0
      },
      "text/plain": [
       "Batches:   0%|          | 0/1 [00:00<?, ?it/s]"
      ]
     },
     "metadata": {},
     "output_type": "display_data"
    },
    {
     "data": {
      "application/vnd.jupyter.widget-view+json": {
       "model_id": "cc21c430ee8748c58c804e485ad8bca3",
       "version_major": 2,
       "version_minor": 0
      },
      "text/plain": [
       "Batches:   0%|          | 0/1 [00:00<?, ?it/s]"
      ]
     },
     "metadata": {},
     "output_type": "display_data"
    },
    {
     "data": {
      "application/vnd.jupyter.widget-view+json": {
       "model_id": "e91147407fb049e88405ec96f0d5e817",
       "version_major": 2,
       "version_minor": 0
      },
      "text/plain": [
       "Batches:   0%|          | 0/1 [00:00<?, ?it/s]"
      ]
     },
     "metadata": {},
     "output_type": "display_data"
    },
    {
     "data": {
      "application/vnd.jupyter.widget-view+json": {
       "model_id": "d36d04b409094394a9651a93bbef1475",
       "version_major": 2,
       "version_minor": 0
      },
      "text/plain": [
       "Batches:   0%|          | 0/1 [00:00<?, ?it/s]"
      ]
     },
     "metadata": {},
     "output_type": "display_data"
    },
    {
     "data": {
      "application/vnd.jupyter.widget-view+json": {
       "model_id": "e5f4e3382981479a97980021c2fbd98a",
       "version_major": 2,
       "version_minor": 0
      },
      "text/plain": [
       "Batches:   0%|          | 0/1 [00:00<?, ?it/s]"
      ]
     },
     "metadata": {},
     "output_type": "display_data"
    },
    {
     "data": {
      "application/vnd.jupyter.widget-view+json": {
       "model_id": "18c1b507a1204420843328550b43af8a",
       "version_major": 2,
       "version_minor": 0
      },
      "text/plain": [
       "Batches:   0%|          | 0/1 [00:00<?, ?it/s]"
      ]
     },
     "metadata": {},
     "output_type": "display_data"
    },
    {
     "data": {
      "application/vnd.jupyter.widget-view+json": {
       "model_id": "ba93cfe96246493c95a05e30cce3f56e",
       "version_major": 2,
       "version_minor": 0
      },
      "text/plain": [
       "Batches:   0%|          | 0/1 [00:00<?, ?it/s]"
      ]
     },
     "metadata": {},
     "output_type": "display_data"
    },
    {
     "data": {
      "application/vnd.jupyter.widget-view+json": {
       "model_id": "7e0ca6bf3b444fceb61724bd4cf5ce7f",
       "version_major": 2,
       "version_minor": 0
      },
      "text/plain": [
       "Batches:   0%|          | 0/1 [00:00<?, ?it/s]"
      ]
     },
     "metadata": {},
     "output_type": "display_data"
    },
    {
     "data": {
      "application/vnd.jupyter.widget-view+json": {
       "model_id": "ae03ea5b872247ea90741d5379ad1257",
       "version_major": 2,
       "version_minor": 0
      },
      "text/plain": [
       "Batches:   0%|          | 0/1 [00:00<?, ?it/s]"
      ]
     },
     "metadata": {},
     "output_type": "display_data"
    },
    {
     "data": {
      "application/vnd.jupyter.widget-view+json": {
       "model_id": "d0e711134c29441391aae7a778ce83c7",
       "version_major": 2,
       "version_minor": 0
      },
      "text/plain": [
       "Batches:   0%|          | 0/1 [00:00<?, ?it/s]"
      ]
     },
     "metadata": {},
     "output_type": "display_data"
    },
    {
     "name": "stdout",
     "output_type": "stream",
     "text": [
      "   Processing 2/5: gai-eng_item003\n",
      "📄 Extracting content from: gai-eng_item003\n",
      "  ✅ Extracted: 36 sections, 194 paragraphs\n",
      "  📊 Document type: Policy document\n",
      "  🎯 Special elements: \n"
     ]
    },
    {
     "data": {
      "application/vnd.jupyter.widget-view+json": {
       "model_id": "419c2fd1b4e9496f82d511dfde6bf1d8",
       "version_major": 2,
       "version_minor": 0
      },
      "text/plain": [
       "Batches:   0%|          | 0/1 [00:00<?, ?it/s]"
      ]
     },
     "metadata": {},
     "output_type": "display_data"
    },
    {
     "data": {
      "application/vnd.jupyter.widget-view+json": {
       "model_id": "74980b0a56af4c0ba28b2ac69cef7d61",
       "version_major": 2,
       "version_minor": 0
      },
      "text/plain": [
       "Batches:   0%|          | 0/1 [00:00<?, ?it/s]"
      ]
     },
     "metadata": {},
     "output_type": "display_data"
    },
    {
     "data": {
      "application/vnd.jupyter.widget-view+json": {
       "model_id": "e206bf2c52304716b0f156591f4792b7",
       "version_major": 2,
       "version_minor": 0
      },
      "text/plain": [
       "Batches:   0%|          | 0/1 [00:00<?, ?it/s]"
      ]
     },
     "metadata": {},
     "output_type": "display_data"
    },
    {
     "data": {
      "application/vnd.jupyter.widget-view+json": {
       "model_id": "48334c23c1764bb689b3017cbec6cd28",
       "version_major": 2,
       "version_minor": 0
      },
      "text/plain": [
       "Batches:   0%|          | 0/1 [00:00<?, ?it/s]"
      ]
     },
     "metadata": {},
     "output_type": "display_data"
    },
    {
     "data": {
      "application/vnd.jupyter.widget-view+json": {
       "model_id": "7f87f67825fc4a7da69c7cf0d57b315f",
       "version_major": 2,
       "version_minor": 0
      },
      "text/plain": [
       "Batches:   0%|          | 0/1 [00:00<?, ?it/s]"
      ]
     },
     "metadata": {},
     "output_type": "display_data"
    },
    {
     "data": {
      "application/vnd.jupyter.widget-view+json": {
       "model_id": "aa01a4d12b12468987d3d87966021600",
       "version_major": 2,
       "version_minor": 0
      },
      "text/plain": [
       "Batches:   0%|          | 0/1 [00:00<?, ?it/s]"
      ]
     },
     "metadata": {},
     "output_type": "display_data"
    },
    {
     "data": {
      "application/vnd.jupyter.widget-view+json": {
       "model_id": "5a6c1e47529143cab5290d5e024ce05d",
       "version_major": 2,
       "version_minor": 0
      },
      "text/plain": [
       "Batches:   0%|          | 0/1 [00:00<?, ?it/s]"
      ]
     },
     "metadata": {},
     "output_type": "display_data"
    },
    {
     "data": {
      "application/vnd.jupyter.widget-view+json": {
       "model_id": "7c14d16cc0a24629ad7d42bdd96c8ea0",
       "version_major": 2,
       "version_minor": 0
      },
      "text/plain": [
       "Batches:   0%|          | 0/1 [00:00<?, ?it/s]"
      ]
     },
     "metadata": {},
     "output_type": "display_data"
    },
    {
     "data": {
      "application/vnd.jupyter.widget-view+json": {
       "model_id": "767fd73f198d4d3d85ea0241d0f16565",
       "version_major": 2,
       "version_minor": 0
      },
      "text/plain": [
       "Batches:   0%|          | 0/1 [00:00<?, ?it/s]"
      ]
     },
     "metadata": {},
     "output_type": "display_data"
    },
    {
     "data": {
      "application/vnd.jupyter.widget-view+json": {
       "model_id": "ad8d7d85646642aeb6cc2a5f152dd1ea",
       "version_major": 2,
       "version_minor": 0
      },
      "text/plain": [
       "Batches:   0%|          | 0/1 [00:00<?, ?it/s]"
      ]
     },
     "metadata": {},
     "output_type": "display_data"
    },
    {
     "data": {
      "application/vnd.jupyter.widget-view+json": {
       "model_id": "f7c625e6c5354f33b181b87779ae1a34",
       "version_major": 2,
       "version_minor": 0
      },
      "text/plain": [
       "Batches:   0%|          | 0/1 [00:00<?, ?it/s]"
      ]
     },
     "metadata": {},
     "output_type": "display_data"
    },
    {
     "data": {
      "application/vnd.jupyter.widget-view+json": {
       "model_id": "5224dbf850f14c18b6effbd9e044c34b",
       "version_major": 2,
       "version_minor": 0
      },
      "text/plain": [
       "Batches:   0%|          | 0/1 [00:00<?, ?it/s]"
      ]
     },
     "metadata": {},
     "output_type": "display_data"
    },
    {
     "data": {
      "application/vnd.jupyter.widget-view+json": {
       "model_id": "6fe64eac71284a6da15c5ee072546d0b",
       "version_major": 2,
       "version_minor": 0
      },
      "text/plain": [
       "Batches:   0%|          | 0/1 [00:00<?, ?it/s]"
      ]
     },
     "metadata": {},
     "output_type": "display_data"
    },
    {
     "data": {
      "application/vnd.jupyter.widget-view+json": {
       "model_id": "471ead9abaac45cfa23387d666cd38fb",
       "version_major": 2,
       "version_minor": 0
      },
      "text/plain": [
       "Batches:   0%|          | 0/1 [00:00<?, ?it/s]"
      ]
     },
     "metadata": {},
     "output_type": "display_data"
    },
    {
     "data": {
      "application/vnd.jupyter.widget-view+json": {
       "model_id": "62d14b07ca00412fa8e4e0348cad8baf",
       "version_major": 2,
       "version_minor": 0
      },
      "text/plain": [
       "Batches:   0%|          | 0/1 [00:00<?, ?it/s]"
      ]
     },
     "metadata": {},
     "output_type": "display_data"
    },
    {
     "data": {
      "application/vnd.jupyter.widget-view+json": {
       "model_id": "bb069f67559a42dba4a6f007dd163bfb",
       "version_major": 2,
       "version_minor": 0
      },
      "text/plain": [
       "Batches:   0%|          | 0/1 [00:00<?, ?it/s]"
      ]
     },
     "metadata": {},
     "output_type": "display_data"
    },
    {
     "data": {
      "application/vnd.jupyter.widget-view+json": {
       "model_id": "a399da8f12bf4ab19ae145a5e345ee39",
       "version_major": 2,
       "version_minor": 0
      },
      "text/plain": [
       "Batches:   0%|          | 0/1 [00:00<?, ?it/s]"
      ]
     },
     "metadata": {},
     "output_type": "display_data"
    },
    {
     "data": {
      "application/vnd.jupyter.widget-view+json": {
       "model_id": "39b8845fcda94f129a880ff2b5b34c73",
       "version_major": 2,
       "version_minor": 0
      },
      "text/plain": [
       "Batches:   0%|          | 0/1 [00:00<?, ?it/s]"
      ]
     },
     "metadata": {},
     "output_type": "display_data"
    },
    {
     "data": {
      "application/vnd.jupyter.widget-view+json": {
       "model_id": "61c0fc2f3fbe47bbab8d69eecaef7398",
       "version_major": 2,
       "version_minor": 0
      },
      "text/plain": [
       "Batches:   0%|          | 0/1 [00:00<?, ?it/s]"
      ]
     },
     "metadata": {},
     "output_type": "display_data"
    },
    {
     "data": {
      "application/vnd.jupyter.widget-view+json": {
       "model_id": "38c9686d7bf44cfd952376c99b92c953",
       "version_major": 2,
       "version_minor": 0
      },
      "text/plain": [
       "Batches:   0%|          | 0/1 [00:00<?, ?it/s]"
      ]
     },
     "metadata": {},
     "output_type": "display_data"
    },
    {
     "data": {
      "application/vnd.jupyter.widget-view+json": {
       "model_id": "cb03e0ee5f184cf0b99cd4de66891c6a",
       "version_major": 2,
       "version_minor": 0
      },
      "text/plain": [
       "Batches:   0%|          | 0/1 [00:00<?, ?it/s]"
      ]
     },
     "metadata": {},
     "output_type": "display_data"
    },
    {
     "data": {
      "application/vnd.jupyter.widget-view+json": {
       "model_id": "56b911e696d1404694d589b88c91b1cf",
       "version_major": 2,
       "version_minor": 0
      },
      "text/plain": [
       "Batches:   0%|          | 0/1 [00:00<?, ?it/s]"
      ]
     },
     "metadata": {},
     "output_type": "display_data"
    },
    {
     "data": {
      "application/vnd.jupyter.widget-view+json": {
       "model_id": "9ec83abf54f3439189708c6d0ee9f3fb",
       "version_major": 2,
       "version_minor": 0
      },
      "text/plain": [
       "Batches:   0%|          | 0/1 [00:00<?, ?it/s]"
      ]
     },
     "metadata": {},
     "output_type": "display_data"
    },
    {
     "data": {
      "application/vnd.jupyter.widget-view+json": {
       "model_id": "5e9234b7a6b544dc8c08604d6120616e",
       "version_major": 2,
       "version_minor": 0
      },
      "text/plain": [
       "Batches:   0%|          | 0/1 [00:00<?, ?it/s]"
      ]
     },
     "metadata": {},
     "output_type": "display_data"
    },
    {
     "data": {
      "application/vnd.jupyter.widget-view+json": {
       "model_id": "83b24a0b2c214d9ba187b64923264e87",
       "version_major": 2,
       "version_minor": 0
      },
      "text/plain": [
       "Batches:   0%|          | 0/1 [00:00<?, ?it/s]"
      ]
     },
     "metadata": {},
     "output_type": "display_data"
    },
    {
     "data": {
      "application/vnd.jupyter.widget-view+json": {
       "model_id": "1cbc3a7326bc4e2eac1332488cd6273b",
       "version_major": 2,
       "version_minor": 0
      },
      "text/plain": [
       "Batches:   0%|          | 0/1 [00:00<?, ?it/s]"
      ]
     },
     "metadata": {},
     "output_type": "display_data"
    },
    {
     "data": {
      "application/vnd.jupyter.widget-view+json": {
       "model_id": "9112c2f3789a4ae3b00d323c3be79c35",
       "version_major": 2,
       "version_minor": 0
      },
      "text/plain": [
       "Batches:   0%|          | 0/1 [00:00<?, ?it/s]"
      ]
     },
     "metadata": {},
     "output_type": "display_data"
    },
    {
     "data": {
      "application/vnd.jupyter.widget-view+json": {
       "model_id": "2a761f5c62b64865ad1cd2b3e4e2fc24",
       "version_major": 2,
       "version_minor": 0
      },
      "text/plain": [
       "Batches:   0%|          | 0/1 [00:00<?, ?it/s]"
      ]
     },
     "metadata": {},
     "output_type": "display_data"
    },
    {
     "data": {
      "application/vnd.jupyter.widget-view+json": {
       "model_id": "a4da712e6b1d4c27a7d959dda53cb36a",
       "version_major": 2,
       "version_minor": 0
      },
      "text/plain": [
       "Batches:   0%|          | 0/1 [00:00<?, ?it/s]"
      ]
     },
     "metadata": {},
     "output_type": "display_data"
    },
    {
     "data": {
      "application/vnd.jupyter.widget-view+json": {
       "model_id": "33e2d292bdb7495995b688dcb2369d0f",
       "version_major": 2,
       "version_minor": 0
      },
      "text/plain": [
       "Batches:   0%|          | 0/1 [00:00<?, ?it/s]"
      ]
     },
     "metadata": {},
     "output_type": "display_data"
    },
    {
     "data": {
      "application/vnd.jupyter.widget-view+json": {
       "model_id": "746e030284fb44ecba714b3fa9482ff5",
       "version_major": 2,
       "version_minor": 0
      },
      "text/plain": [
       "Batches:   0%|          | 0/1 [00:00<?, ?it/s]"
      ]
     },
     "metadata": {},
     "output_type": "display_data"
    },
    {
     "data": {
      "application/vnd.jupyter.widget-view+json": {
       "model_id": "0da577900060416ba87453ea819dc0c8",
       "version_major": 2,
       "version_minor": 0
      },
      "text/plain": [
       "Batches:   0%|          | 0/1 [00:00<?, ?it/s]"
      ]
     },
     "metadata": {},
     "output_type": "display_data"
    },
    {
     "data": {
      "application/vnd.jupyter.widget-view+json": {
       "model_id": "cdf398e035354c698f970e3755187994",
       "version_major": 2,
       "version_minor": 0
      },
      "text/plain": [
       "Batches:   0%|          | 0/1 [00:00<?, ?it/s]"
      ]
     },
     "metadata": {},
     "output_type": "display_data"
    },
    {
     "data": {
      "application/vnd.jupyter.widget-view+json": {
       "model_id": "077fef11fc7d45aaaca0bc7af807206f",
       "version_major": 2,
       "version_minor": 0
      },
      "text/plain": [
       "Batches:   0%|          | 0/1 [00:00<?, ?it/s]"
      ]
     },
     "metadata": {},
     "output_type": "display_data"
    },
    {
     "data": {
      "application/vnd.jupyter.widget-view+json": {
       "model_id": "af65f8bc4ec8486c8ae2b1588495fec7",
       "version_major": 2,
       "version_minor": 0
      },
      "text/plain": [
       "Batches:   0%|          | 0/1 [00:00<?, ?it/s]"
      ]
     },
     "metadata": {},
     "output_type": "display_data"
    },
    {
     "data": {
      "application/vnd.jupyter.widget-view+json": {
       "model_id": "df75ae0ee3bb4a3ebadb3282a51bffc6",
       "version_major": 2,
       "version_minor": 0
      },
      "text/plain": [
       "Batches:   0%|          | 0/1 [00:00<?, ?it/s]"
      ]
     },
     "metadata": {},
     "output_type": "display_data"
    },
    {
     "data": {
      "application/vnd.jupyter.widget-view+json": {
       "model_id": "684f6da88dc042d181125e70b6395250",
       "version_major": 2,
       "version_minor": 0
      },
      "text/plain": [
       "Batches:   0%|          | 0/1 [00:00<?, ?it/s]"
      ]
     },
     "metadata": {},
     "output_type": "display_data"
    },
    {
     "data": {
      "application/vnd.jupyter.widget-view+json": {
       "model_id": "380b1da40ff24d8f9be63d0cd1ebd9d1",
       "version_major": 2,
       "version_minor": 0
      },
      "text/plain": [
       "Batches:   0%|          | 0/1 [00:00<?, ?it/s]"
      ]
     },
     "metadata": {},
     "output_type": "display_data"
    },
    {
     "data": {
      "application/vnd.jupyter.widget-view+json": {
       "model_id": "0bcd60e0d6de4ccbbbe886e85ca9245f",
       "version_major": 2,
       "version_minor": 0
      },
      "text/plain": [
       "Batches:   0%|          | 0/1 [00:00<?, ?it/s]"
      ]
     },
     "metadata": {},
     "output_type": "display_data"
    },
    {
     "data": {
      "application/vnd.jupyter.widget-view+json": {
       "model_id": "fdf2c5baa1fe40f0907836b73a13e704",
       "version_major": 2,
       "version_minor": 0
      },
      "text/plain": [
       "Batches:   0%|          | 0/1 [00:00<?, ?it/s]"
      ]
     },
     "metadata": {},
     "output_type": "display_data"
    },
    {
     "data": {
      "application/vnd.jupyter.widget-view+json": {
       "model_id": "b8cc1ebf18574426b7c0bb123035c002",
       "version_major": 2,
       "version_minor": 0
      },
      "text/plain": [
       "Batches:   0%|          | 0/1 [00:00<?, ?it/s]"
      ]
     },
     "metadata": {},
     "output_type": "display_data"
    },
    {
     "data": {
      "application/vnd.jupyter.widget-view+json": {
       "model_id": "508a0f98b4b644ebb6faa9c8ebbed0b8",
       "version_major": 2,
       "version_minor": 0
      },
      "text/plain": [
       "Batches:   0%|          | 0/1 [00:00<?, ?it/s]"
      ]
     },
     "metadata": {},
     "output_type": "display_data"
    },
    {
     "data": {
      "application/vnd.jupyter.widget-view+json": {
       "model_id": "990b56c71d0d4b9f8ce2aecba5d02eec",
       "version_major": 2,
       "version_minor": 0
      },
      "text/plain": [
       "Batches:   0%|          | 0/1 [00:00<?, ?it/s]"
      ]
     },
     "metadata": {},
     "output_type": "display_data"
    },
    {
     "data": {
      "application/vnd.jupyter.widget-view+json": {
       "model_id": "eeb70a4dc26a4aeeae4a4e6689e1912b",
       "version_major": 2,
       "version_minor": 0
      },
      "text/plain": [
       "Batches:   0%|          | 0/1 [00:00<?, ?it/s]"
      ]
     },
     "metadata": {},
     "output_type": "display_data"
    },
    {
     "data": {
      "application/vnd.jupyter.widget-view+json": {
       "model_id": "aa63975b98334b4aa11e19d61e58151f",
       "version_major": 2,
       "version_minor": 0
      },
      "text/plain": [
       "Batches:   0%|          | 0/1 [00:00<?, ?it/s]"
      ]
     },
     "metadata": {},
     "output_type": "display_data"
    },
    {
     "data": {
      "application/vnd.jupyter.widget-view+json": {
       "model_id": "ff8febf18b99434cb468454d43f59850",
       "version_major": 2,
       "version_minor": 0
      },
      "text/plain": [
       "Batches:   0%|          | 0/1 [00:00<?, ?it/s]"
      ]
     },
     "metadata": {},
     "output_type": "display_data"
    },
    {
     "data": {
      "application/vnd.jupyter.widget-view+json": {
       "model_id": "4b1aaa61088a4be68ceb8f13a4e3c878",
       "version_major": 2,
       "version_minor": 0
      },
      "text/plain": [
       "Batches:   0%|          | 0/1 [00:00<?, ?it/s]"
      ]
     },
     "metadata": {},
     "output_type": "display_data"
    },
    {
     "data": {
      "application/vnd.jupyter.widget-view+json": {
       "model_id": "0fd2adbba60041b9a48a89db6d3ffddd",
       "version_major": 2,
       "version_minor": 0
      },
      "text/plain": [
       "Batches:   0%|          | 0/1 [00:00<?, ?it/s]"
      ]
     },
     "metadata": {},
     "output_type": "display_data"
    },
    {
     "data": {
      "application/vnd.jupyter.widget-view+json": {
       "model_id": "f8220ed666314c89bec9e30d55b9a210",
       "version_major": 2,
       "version_minor": 0
      },
      "text/plain": [
       "Batches:   0%|          | 0/1 [00:00<?, ?it/s]"
      ]
     },
     "metadata": {},
     "output_type": "display_data"
    },
    {
     "data": {
      "application/vnd.jupyter.widget-view+json": {
       "model_id": "1b9f568591324387af4dea600204a6fc",
       "version_major": 2,
       "version_minor": 0
      },
      "text/plain": [
       "Batches:   0%|          | 0/1 [00:00<?, ?it/s]"
      ]
     },
     "metadata": {},
     "output_type": "display_data"
    },
    {
     "data": {
      "application/vnd.jupyter.widget-view+json": {
       "model_id": "5a3001b5da934eee9bf641b62a9f27ec",
       "version_major": 2,
       "version_minor": 0
      },
      "text/plain": [
       "Batches:   0%|          | 0/1 [00:00<?, ?it/s]"
      ]
     },
     "metadata": {},
     "output_type": "display_data"
    },
    {
     "data": {
      "application/vnd.jupyter.widget-view+json": {
       "model_id": "f947f48bb5b443a98513de7bd72cf7d3",
       "version_major": 2,
       "version_minor": 0
      },
      "text/plain": [
       "Batches:   0%|          | 0/1 [00:00<?, ?it/s]"
      ]
     },
     "metadata": {},
     "output_type": "display_data"
    },
    {
     "data": {
      "application/vnd.jupyter.widget-view+json": {
       "model_id": "54669acfb4624f7784c5e615746bcad3",
       "version_major": 2,
       "version_minor": 0
      },
      "text/plain": [
       "Batches:   0%|          | 0/1 [00:00<?, ?it/s]"
      ]
     },
     "metadata": {},
     "output_type": "display_data"
    },
    {
     "data": {
      "application/vnd.jupyter.widget-view+json": {
       "model_id": "3a4640deb45b42a986ff1284dc8c3d8b",
       "version_major": 2,
       "version_minor": 0
      },
      "text/plain": [
       "Batches:   0%|          | 0/1 [00:00<?, ?it/s]"
      ]
     },
     "metadata": {},
     "output_type": "display_data"
    },
    {
     "data": {
      "application/vnd.jupyter.widget-view+json": {
       "model_id": "3085983d0a76420aae2d259420f99314",
       "version_major": 2,
       "version_minor": 0
      },
      "text/plain": [
       "Batches:   0%|          | 0/1 [00:00<?, ?it/s]"
      ]
     },
     "metadata": {},
     "output_type": "display_data"
    },
    {
     "data": {
      "application/vnd.jupyter.widget-view+json": {
       "model_id": "af51a28156424831af27f55d2ad084e7",
       "version_major": 2,
       "version_minor": 0
      },
      "text/plain": [
       "Batches:   0%|          | 0/1 [00:00<?, ?it/s]"
      ]
     },
     "metadata": {},
     "output_type": "display_data"
    },
    {
     "data": {
      "application/vnd.jupyter.widget-view+json": {
       "model_id": "68665b75abea416c84247c48fb583d2f",
       "version_major": 2,
       "version_minor": 0
      },
      "text/plain": [
       "Batches:   0%|          | 0/1 [00:00<?, ?it/s]"
      ]
     },
     "metadata": {},
     "output_type": "display_data"
    },
    {
     "data": {
      "application/vnd.jupyter.widget-view+json": {
       "model_id": "1b0d757e4c2e4a6baed9d297865e64d3",
       "version_major": 2,
       "version_minor": 0
      },
      "text/plain": [
       "Batches:   0%|          | 0/1 [00:00<?, ?it/s]"
      ]
     },
     "metadata": {},
     "output_type": "display_data"
    },
    {
     "data": {
      "application/vnd.jupyter.widget-view+json": {
       "model_id": "470a8269e4f544da8e1d2d8827593325",
       "version_major": 2,
       "version_minor": 0
      },
      "text/plain": [
       "Batches:   0%|          | 0/1 [00:00<?, ?it/s]"
      ]
     },
     "metadata": {},
     "output_type": "display_data"
    },
    {
     "data": {
      "application/vnd.jupyter.widget-view+json": {
       "model_id": "0ead5eb4ea184edbac27c334850eb260",
       "version_major": 2,
       "version_minor": 0
      },
      "text/plain": [
       "Batches:   0%|          | 0/1 [00:00<?, ?it/s]"
      ]
     },
     "metadata": {},
     "output_type": "display_data"
    },
    {
     "data": {
      "application/vnd.jupyter.widget-view+json": {
       "model_id": "30ad62c59479410e8b3bd2f847f44295",
       "version_major": 2,
       "version_minor": 0
      },
      "text/plain": [
       "Batches:   0%|          | 0/1 [00:00<?, ?it/s]"
      ]
     },
     "metadata": {},
     "output_type": "display_data"
    },
    {
     "data": {
      "application/vnd.jupyter.widget-view+json": {
       "model_id": "b1e5584f9a274c65bdebb11ea13bc74c",
       "version_major": 2,
       "version_minor": 0
      },
      "text/plain": [
       "Batches:   0%|          | 0/1 [00:00<?, ?it/s]"
      ]
     },
     "metadata": {},
     "output_type": "display_data"
    },
    {
     "data": {
      "application/vnd.jupyter.widget-view+json": {
       "model_id": "5f673e4346ee423ca456b7a7ef0d3e7b",
       "version_major": 2,
       "version_minor": 0
      },
      "text/plain": [
       "Batches:   0%|          | 0/1 [00:00<?, ?it/s]"
      ]
     },
     "metadata": {},
     "output_type": "display_data"
    },
    {
     "data": {
      "application/vnd.jupyter.widget-view+json": {
       "model_id": "14c1ae4e7cb24790bdc1da1d89e14824",
       "version_major": 2,
       "version_minor": 0
      },
      "text/plain": [
       "Batches:   0%|          | 0/1 [00:00<?, ?it/s]"
      ]
     },
     "metadata": {},
     "output_type": "display_data"
    },
    {
     "data": {
      "application/vnd.jupyter.widget-view+json": {
       "model_id": "66400917d9a045b2a6742d890fd5ec48",
       "version_major": 2,
       "version_minor": 0
      },
      "text/plain": [
       "Batches:   0%|          | 0/1 [00:00<?, ?it/s]"
      ]
     },
     "metadata": {},
     "output_type": "display_data"
    },
    {
     "data": {
      "application/vnd.jupyter.widget-view+json": {
       "model_id": "40caf0351a304e2fb13291e73375ae63",
       "version_major": 2,
       "version_minor": 0
      },
      "text/plain": [
       "Batches:   0%|          | 0/1 [00:00<?, ?it/s]"
      ]
     },
     "metadata": {},
     "output_type": "display_data"
    },
    {
     "data": {
      "application/vnd.jupyter.widget-view+json": {
       "model_id": "8263be3c4bfa485fbe70fe1339826e77",
       "version_major": 2,
       "version_minor": 0
      },
      "text/plain": [
       "Batches:   0%|          | 0/1 [00:00<?, ?it/s]"
      ]
     },
     "metadata": {},
     "output_type": "display_data"
    },
    {
     "data": {
      "application/vnd.jupyter.widget-view+json": {
       "model_id": "15cbe6ac070a43d1bcd1633c5f7fd86e",
       "version_major": 2,
       "version_minor": 0
      },
      "text/plain": [
       "Batches:   0%|          | 0/1 [00:00<?, ?it/s]"
      ]
     },
     "metadata": {},
     "output_type": "display_data"
    },
    {
     "data": {
      "application/vnd.jupyter.widget-view+json": {
       "model_id": "2e7cbd2c0b0f48139b447baa04523a0a",
       "version_major": 2,
       "version_minor": 0
      },
      "text/plain": [
       "Batches:   0%|          | 0/1 [00:00<?, ?it/s]"
      ]
     },
     "metadata": {},
     "output_type": "display_data"
    },
    {
     "data": {
      "application/vnd.jupyter.widget-view+json": {
       "model_id": "30d62688d0b940d9b63a75418dd093b9",
       "version_major": 2,
       "version_minor": 0
      },
      "text/plain": [
       "Batches:   0%|          | 0/1 [00:00<?, ?it/s]"
      ]
     },
     "metadata": {},
     "output_type": "display_data"
    },
    {
     "data": {
      "application/vnd.jupyter.widget-view+json": {
       "model_id": "8c8addb2f349411eb3e8acdb3480e72b",
       "version_major": 2,
       "version_minor": 0
      },
      "text/plain": [
       "Batches:   0%|          | 0/1 [00:00<?, ?it/s]"
      ]
     },
     "metadata": {},
     "output_type": "display_data"
    },
    {
     "data": {
      "application/vnd.jupyter.widget-view+json": {
       "model_id": "ed1d086439bf4f539e55704d40c0d21d",
       "version_major": 2,
       "version_minor": 0
      },
      "text/plain": [
       "Batches:   0%|          | 0/1 [00:00<?, ?it/s]"
      ]
     },
     "metadata": {},
     "output_type": "display_data"
    },
    {
     "data": {
      "application/vnd.jupyter.widget-view+json": {
       "model_id": "39f2a188e72b4ba481b92ea37a4ecd52",
       "version_major": 2,
       "version_minor": 0
      },
      "text/plain": [
       "Batches:   0%|          | 0/1 [00:00<?, ?it/s]"
      ]
     },
     "metadata": {},
     "output_type": "display_data"
    },
    {
     "data": {
      "application/vnd.jupyter.widget-view+json": {
       "model_id": "5aeb98e3c2b4480d9b4a95f07f3751f5",
       "version_major": 2,
       "version_minor": 0
      },
      "text/plain": [
       "Batches:   0%|          | 0/1 [00:00<?, ?it/s]"
      ]
     },
     "metadata": {},
     "output_type": "display_data"
    },
    {
     "data": {
      "application/vnd.jupyter.widget-view+json": {
       "model_id": "be7b7813b3f6406cac25e8b822ab92e6",
       "version_major": 2,
       "version_minor": 0
      },
      "text/plain": [
       "Batches:   0%|          | 0/1 [00:00<?, ?it/s]"
      ]
     },
     "metadata": {},
     "output_type": "display_data"
    },
    {
     "data": {
      "application/vnd.jupyter.widget-view+json": {
       "model_id": "7eb28cd52b6f40f7be44ec4f54af2003",
       "version_major": 2,
       "version_minor": 0
      },
      "text/plain": [
       "Batches:   0%|          | 0/1 [00:00<?, ?it/s]"
      ]
     },
     "metadata": {},
     "output_type": "display_data"
    },
    {
     "data": {
      "application/vnd.jupyter.widget-view+json": {
       "model_id": "8a93d872e40548d69a5d516faf4beabe",
       "version_major": 2,
       "version_minor": 0
      },
      "text/plain": [
       "Batches:   0%|          | 0/1 [00:00<?, ?it/s]"
      ]
     },
     "metadata": {},
     "output_type": "display_data"
    },
    {
     "data": {
      "application/vnd.jupyter.widget-view+json": {
       "model_id": "f74df094455e451cadacdb0c5cf5c1fb",
       "version_major": 2,
       "version_minor": 0
      },
      "text/plain": [
       "Batches:   0%|          | 0/1 [00:00<?, ?it/s]"
      ]
     },
     "metadata": {},
     "output_type": "display_data"
    },
    {
     "data": {
      "application/vnd.jupyter.widget-view+json": {
       "model_id": "236b37f566094074836235d483d7afd1",
       "version_major": 2,
       "version_minor": 0
      },
      "text/plain": [
       "Batches:   0%|          | 0/1 [00:00<?, ?it/s]"
      ]
     },
     "metadata": {},
     "output_type": "display_data"
    },
    {
     "data": {
      "application/vnd.jupyter.widget-view+json": {
       "model_id": "b0fde14e3e214cb5af1f54edc619f2a7",
       "version_major": 2,
       "version_minor": 0
      },
      "text/plain": [
       "Batches:   0%|          | 0/1 [00:00<?, ?it/s]"
      ]
     },
     "metadata": {},
     "output_type": "display_data"
    },
    {
     "data": {
      "application/vnd.jupyter.widget-view+json": {
       "model_id": "a4d4efc78c144325937fb0e7cc7ea26e",
       "version_major": 2,
       "version_minor": 0
      },
      "text/plain": [
       "Batches:   0%|          | 0/1 [00:00<?, ?it/s]"
      ]
     },
     "metadata": {},
     "output_type": "display_data"
    },
    {
     "data": {
      "application/vnd.jupyter.widget-view+json": {
       "model_id": "6460f622358349d3b6034c0d8fe7c2dd",
       "version_major": 2,
       "version_minor": 0
      },
      "text/plain": [
       "Batches:   0%|          | 0/1 [00:00<?, ?it/s]"
      ]
     },
     "metadata": {},
     "output_type": "display_data"
    },
    {
     "data": {
      "application/vnd.jupyter.widget-view+json": {
       "model_id": "8173d2f4c33c4b89a6fba437c47b404e",
       "version_major": 2,
       "version_minor": 0
      },
      "text/plain": [
       "Batches:   0%|          | 0/1 [00:00<?, ?it/s]"
      ]
     },
     "metadata": {},
     "output_type": "display_data"
    },
    {
     "data": {
      "application/vnd.jupyter.widget-view+json": {
       "model_id": "6e463828debb4af798c8df4f973911d3",
       "version_major": 2,
       "version_minor": 0
      },
      "text/plain": [
       "Batches:   0%|          | 0/1 [00:00<?, ?it/s]"
      ]
     },
     "metadata": {},
     "output_type": "display_data"
    },
    {
     "data": {
      "application/vnd.jupyter.widget-view+json": {
       "model_id": "a7775d628afa492d9c8120953ba8f1e0",
       "version_major": 2,
       "version_minor": 0
      },
      "text/plain": [
       "Batches:   0%|          | 0/1 [00:00<?, ?it/s]"
      ]
     },
     "metadata": {},
     "output_type": "display_data"
    },
    {
     "data": {
      "application/vnd.jupyter.widget-view+json": {
       "model_id": "788f8ebd7ea54a9fb299bb1d710b1bd2",
       "version_major": 2,
       "version_minor": 0
      },
      "text/plain": [
       "Batches:   0%|          | 0/1 [00:00<?, ?it/s]"
      ]
     },
     "metadata": {},
     "output_type": "display_data"
    },
    {
     "data": {
      "application/vnd.jupyter.widget-view+json": {
       "model_id": "4c4b513386294cc2be78fe9e1fab9e37",
       "version_major": 2,
       "version_minor": 0
      },
      "text/plain": [
       "Batches:   0%|          | 0/1 [00:00<?, ?it/s]"
      ]
     },
     "metadata": {},
     "output_type": "display_data"
    },
    {
     "data": {
      "application/vnd.jupyter.widget-view+json": {
       "model_id": "4cba75c16b12418499e751aee20d8d8e",
       "version_major": 2,
       "version_minor": 0
      },
      "text/plain": [
       "Batches:   0%|          | 0/1 [00:00<?, ?it/s]"
      ]
     },
     "metadata": {},
     "output_type": "display_data"
    },
    {
     "data": {
      "application/vnd.jupyter.widget-view+json": {
       "model_id": "719804015eee4d27a1f3632b325bc97a",
       "version_major": 2,
       "version_minor": 0
      },
      "text/plain": [
       "Batches:   0%|          | 0/1 [00:00<?, ?it/s]"
      ]
     },
     "metadata": {},
     "output_type": "display_data"
    },
    {
     "data": {
      "application/vnd.jupyter.widget-view+json": {
       "model_id": "7796897f5a5e43d2924c97b4b548b099",
       "version_major": 2,
       "version_minor": 0
      },
      "text/plain": [
       "Batches:   0%|          | 0/1 [00:00<?, ?it/s]"
      ]
     },
     "metadata": {},
     "output_type": "display_data"
    },
    {
     "data": {
      "application/vnd.jupyter.widget-view+json": {
       "model_id": "6e03f018ef8a4c699fd069a013e9094f",
       "version_major": 2,
       "version_minor": 0
      },
      "text/plain": [
       "Batches:   0%|          | 0/1 [00:00<?, ?it/s]"
      ]
     },
     "metadata": {},
     "output_type": "display_data"
    },
    {
     "data": {
      "application/vnd.jupyter.widget-view+json": {
       "model_id": "1b770c4f62e74e959b7aa25d6c7f43d4",
       "version_major": 2,
       "version_minor": 0
      },
      "text/plain": [
       "Batches:   0%|          | 0/1 [00:00<?, ?it/s]"
      ]
     },
     "metadata": {},
     "output_type": "display_data"
    },
    {
     "data": {
      "application/vnd.jupyter.widget-view+json": {
       "model_id": "c6593d1e38c34e32bf236f7ace9520be",
       "version_major": 2,
       "version_minor": 0
      },
      "text/plain": [
       "Batches:   0%|          | 0/1 [00:00<?, ?it/s]"
      ]
     },
     "metadata": {},
     "output_type": "display_data"
    },
    {
     "data": {
      "application/vnd.jupyter.widget-view+json": {
       "model_id": "ce34c03f4b0c47e087463f69986d4541",
       "version_major": 2,
       "version_minor": 0
      },
      "text/plain": [
       "Batches:   0%|          | 0/1 [00:00<?, ?it/s]"
      ]
     },
     "metadata": {},
     "output_type": "display_data"
    },
    {
     "data": {
      "application/vnd.jupyter.widget-view+json": {
       "model_id": "9f63c1267fc242d0b3e5e3316dd54e2c",
       "version_major": 2,
       "version_minor": 0
      },
      "text/plain": [
       "Batches:   0%|          | 0/1 [00:00<?, ?it/s]"
      ]
     },
     "metadata": {},
     "output_type": "display_data"
    },
    {
     "data": {
      "application/vnd.jupyter.widget-view+json": {
       "model_id": "6ea4a140fd2f45d9912efb2701f7d595",
       "version_major": 2,
       "version_minor": 0
      },
      "text/plain": [
       "Batches:   0%|          | 0/1 [00:00<?, ?it/s]"
      ]
     },
     "metadata": {},
     "output_type": "display_data"
    },
    {
     "data": {
      "application/vnd.jupyter.widget-view+json": {
       "model_id": "30b47997b2fb450e8205d796e52cea3f",
       "version_major": 2,
       "version_minor": 0
      },
      "text/plain": [
       "Batches:   0%|          | 0/1 [00:00<?, ?it/s]"
      ]
     },
     "metadata": {},
     "output_type": "display_data"
    },
    {
     "data": {
      "application/vnd.jupyter.widget-view+json": {
       "model_id": "f54f60be3e8e4b10b0ce2410759d3957",
       "version_major": 2,
       "version_minor": 0
      },
      "text/plain": [
       "Batches:   0%|          | 0/1 [00:00<?, ?it/s]"
      ]
     },
     "metadata": {},
     "output_type": "display_data"
    },
    {
     "data": {
      "application/vnd.jupyter.widget-view+json": {
       "model_id": "d149624ebbf64064be7f9db678cd0933",
       "version_major": 2,
       "version_minor": 0
      },
      "text/plain": [
       "Batches:   0%|          | 0/1 [00:00<?, ?it/s]"
      ]
     },
     "metadata": {},
     "output_type": "display_data"
    },
    {
     "data": {
      "application/vnd.jupyter.widget-view+json": {
       "model_id": "624e47c9ce6347b29ab59d727b8ff6da",
       "version_major": 2,
       "version_minor": 0
      },
      "text/plain": [
       "Batches:   0%|          | 0/1 [00:00<?, ?it/s]"
      ]
     },
     "metadata": {},
     "output_type": "display_data"
    },
    {
     "data": {
      "application/vnd.jupyter.widget-view+json": {
       "model_id": "250916c4b63d4b0693ad8c1092ce6078",
       "version_major": 2,
       "version_minor": 0
      },
      "text/plain": [
       "Batches:   0%|          | 0/1 [00:00<?, ?it/s]"
      ]
     },
     "metadata": {},
     "output_type": "display_data"
    },
    {
     "data": {
      "application/vnd.jupyter.widget-view+json": {
       "model_id": "72b28c3279f649a4b9cf3a256148b44f",
       "version_major": 2,
       "version_minor": 0
      },
      "text/plain": [
       "Batches:   0%|          | 0/1 [00:00<?, ?it/s]"
      ]
     },
     "metadata": {},
     "output_type": "display_data"
    },
    {
     "data": {
      "application/vnd.jupyter.widget-view+json": {
       "model_id": "7b2916731cf5433e81cb07d4c6575c4f",
       "version_major": 2,
       "version_minor": 0
      },
      "text/plain": [
       "Batches:   0%|          | 0/1 [00:00<?, ?it/s]"
      ]
     },
     "metadata": {},
     "output_type": "display_data"
    },
    {
     "data": {
      "application/vnd.jupyter.widget-view+json": {
       "model_id": "ee520e447e0e4f7eb6b81b38ecf7503e",
       "version_major": 2,
       "version_minor": 0
      },
      "text/plain": [
       "Batches:   0%|          | 0/1 [00:00<?, ?it/s]"
      ]
     },
     "metadata": {},
     "output_type": "display_data"
    },
    {
     "data": {
      "application/vnd.jupyter.widget-view+json": {
       "model_id": "32e8596c1b6f4864a2f40efcdd9acdff",
       "version_major": 2,
       "version_minor": 0
      },
      "text/plain": [
       "Batches:   0%|          | 0/1 [00:00<?, ?it/s]"
      ]
     },
     "metadata": {},
     "output_type": "display_data"
    },
    {
     "data": {
      "application/vnd.jupyter.widget-view+json": {
       "model_id": "5ec2c01ea26040bea97fc1b86ea4a672",
       "version_major": 2,
       "version_minor": 0
      },
      "text/plain": [
       "Batches:   0%|          | 0/1 [00:00<?, ?it/s]"
      ]
     },
     "metadata": {},
     "output_type": "display_data"
    },
    {
     "data": {
      "application/vnd.jupyter.widget-view+json": {
       "model_id": "83e53da3e2e4405cbf802d69fec4003e",
       "version_major": 2,
       "version_minor": 0
      },
      "text/plain": [
       "Batches:   0%|          | 0/1 [00:00<?, ?it/s]"
      ]
     },
     "metadata": {},
     "output_type": "display_data"
    },
    {
     "data": {
      "application/vnd.jupyter.widget-view+json": {
       "model_id": "be68454cee0f44d1b37b5d99ba903ee0",
       "version_major": 2,
       "version_minor": 0
      },
      "text/plain": [
       "Batches:   0%|          | 0/1 [00:00<?, ?it/s]"
      ]
     },
     "metadata": {},
     "output_type": "display_data"
    },
    {
     "data": {
      "application/vnd.jupyter.widget-view+json": {
       "model_id": "e4b7fb235e9f48c6ad62dce2d5a500bb",
       "version_major": 2,
       "version_minor": 0
      },
      "text/plain": [
       "Batches:   0%|          | 0/1 [00:00<?, ?it/s]"
      ]
     },
     "metadata": {},
     "output_type": "display_data"
    },
    {
     "data": {
      "application/vnd.jupyter.widget-view+json": {
       "model_id": "3e8b813d15a3412192ce268377e8d8c2",
       "version_major": 2,
       "version_minor": 0
      },
      "text/plain": [
       "Batches:   0%|          | 0/1 [00:00<?, ?it/s]"
      ]
     },
     "metadata": {},
     "output_type": "display_data"
    },
    {
     "data": {
      "application/vnd.jupyter.widget-view+json": {
       "model_id": "59d4a63c601648278326092ed3389ad8",
       "version_major": 2,
       "version_minor": 0
      },
      "text/plain": [
       "Batches:   0%|          | 0/1 [00:00<?, ?it/s]"
      ]
     },
     "metadata": {},
     "output_type": "display_data"
    },
    {
     "data": {
      "application/vnd.jupyter.widget-view+json": {
       "model_id": "a94f24c1bf8c42f2a0c5c8e4cd1e4398",
       "version_major": 2,
       "version_minor": 0
      },
      "text/plain": [
       "Batches:   0%|          | 0/1 [00:00<?, ?it/s]"
      ]
     },
     "metadata": {},
     "output_type": "display_data"
    },
    {
     "data": {
      "application/vnd.jupyter.widget-view+json": {
       "model_id": "0fef9628578c4f899d16064848efc0a0",
       "version_major": 2,
       "version_minor": 0
      },
      "text/plain": [
       "Batches:   0%|          | 0/1 [00:00<?, ?it/s]"
      ]
     },
     "metadata": {},
     "output_type": "display_data"
    },
    {
     "data": {
      "application/vnd.jupyter.widget-view+json": {
       "model_id": "3fee238e3aa243c0825ef07988c7144b",
       "version_major": 2,
       "version_minor": 0
      },
      "text/plain": [
       "Batches:   0%|          | 0/1 [00:00<?, ?it/s]"
      ]
     },
     "metadata": {},
     "output_type": "display_data"
    },
    {
     "data": {
      "application/vnd.jupyter.widget-view+json": {
       "model_id": "bfbd9b27c05c4ac9bf5033f7b898e6a9",
       "version_major": 2,
       "version_minor": 0
      },
      "text/plain": [
       "Batches:   0%|          | 0/1 [00:00<?, ?it/s]"
      ]
     },
     "metadata": {},
     "output_type": "display_data"
    },
    {
     "data": {
      "application/vnd.jupyter.widget-view+json": {
       "model_id": "f01faadbda074bf7a0667457f3835d2d",
       "version_major": 2,
       "version_minor": 0
      },
      "text/plain": [
       "Batches:   0%|          | 0/1 [00:00<?, ?it/s]"
      ]
     },
     "metadata": {},
     "output_type": "display_data"
    },
    {
     "data": {
      "application/vnd.jupyter.widget-view+json": {
       "model_id": "d6eca8a92c6146f8bdd01dc49b2af550",
       "version_major": 2,
       "version_minor": 0
      },
      "text/plain": [
       "Batches:   0%|          | 0/1 [00:00<?, ?it/s]"
      ]
     },
     "metadata": {},
     "output_type": "display_data"
    },
    {
     "data": {
      "application/vnd.jupyter.widget-view+json": {
       "model_id": "c7b7731f192346a5982bbd5cb2b875ca",
       "version_major": 2,
       "version_minor": 0
      },
      "text/plain": [
       "Batches:   0%|          | 0/1 [00:00<?, ?it/s]"
      ]
     },
     "metadata": {},
     "output_type": "display_data"
    },
    {
     "data": {
      "application/vnd.jupyter.widget-view+json": {
       "model_id": "ff6f6e3a668c4240a4e53e5785acb23e",
       "version_major": 2,
       "version_minor": 0
      },
      "text/plain": [
       "Batches:   0%|          | 0/1 [00:00<?, ?it/s]"
      ]
     },
     "metadata": {},
     "output_type": "display_data"
    },
    {
     "data": {
      "application/vnd.jupyter.widget-view+json": {
       "model_id": "806741741d424b84a949ae53fe0d1d38",
       "version_major": 2,
       "version_minor": 0
      },
      "text/plain": [
       "Batches:   0%|          | 0/1 [00:00<?, ?it/s]"
      ]
     },
     "metadata": {},
     "output_type": "display_data"
    },
    {
     "data": {
      "application/vnd.jupyter.widget-view+json": {
       "model_id": "f97dc5639f7d47adb7855cbff28969ba",
       "version_major": 2,
       "version_minor": 0
      },
      "text/plain": [
       "Batches:   0%|          | 0/1 [00:00<?, ?it/s]"
      ]
     },
     "metadata": {},
     "output_type": "display_data"
    },
    {
     "data": {
      "application/vnd.jupyter.widget-view+json": {
       "model_id": "b96e059be78340fdb826b00b4e48e62e",
       "version_major": 2,
       "version_minor": 0
      },
      "text/plain": [
       "Batches:   0%|          | 0/1 [00:00<?, ?it/s]"
      ]
     },
     "metadata": {},
     "output_type": "display_data"
    },
    {
     "data": {
      "application/vnd.jupyter.widget-view+json": {
       "model_id": "ae7830721a0e436da504ccc75741f363",
       "version_major": 2,
       "version_minor": 0
      },
      "text/plain": [
       "Batches:   0%|          | 0/1 [00:00<?, ?it/s]"
      ]
     },
     "metadata": {},
     "output_type": "display_data"
    },
    {
     "data": {
      "application/vnd.jupyter.widget-view+json": {
       "model_id": "f0fd88614ff44f119a271f3e1dc1f455",
       "version_major": 2,
       "version_minor": 0
      },
      "text/plain": [
       "Batches:   0%|          | 0/1 [00:00<?, ?it/s]"
      ]
     },
     "metadata": {},
     "output_type": "display_data"
    },
    {
     "data": {
      "application/vnd.jupyter.widget-view+json": {
       "model_id": "41bd69b780a6491eb26ab1ae52f305ff",
       "version_major": 2,
       "version_minor": 0
      },
      "text/plain": [
       "Batches:   0%|          | 0/1 [00:00<?, ?it/s]"
      ]
     },
     "metadata": {},
     "output_type": "display_data"
    },
    {
     "data": {
      "application/vnd.jupyter.widget-view+json": {
       "model_id": "02fbfd10088e41e0a83b7afb375146b1",
       "version_major": 2,
       "version_minor": 0
      },
      "text/plain": [
       "Batches:   0%|          | 0/1 [00:00<?, ?it/s]"
      ]
     },
     "metadata": {},
     "output_type": "display_data"
    },
    {
     "data": {
      "application/vnd.jupyter.widget-view+json": {
       "model_id": "589312ac8b774b8797ff363d08108687",
       "version_major": 2,
       "version_minor": 0
      },
      "text/plain": [
       "Batches:   0%|          | 0/1 [00:00<?, ?it/s]"
      ]
     },
     "metadata": {},
     "output_type": "display_data"
    },
    {
     "data": {
      "application/vnd.jupyter.widget-view+json": {
       "model_id": "b21cd6314d554afebb1cb34691f52bd5",
       "version_major": 2,
       "version_minor": 0
      },
      "text/plain": [
       "Batches:   0%|          | 0/1 [00:00<?, ?it/s]"
      ]
     },
     "metadata": {},
     "output_type": "display_data"
    },
    {
     "data": {
      "application/vnd.jupyter.widget-view+json": {
       "model_id": "5855979c13aa4abfae2feb283372769b",
       "version_major": 2,
       "version_minor": 0
      },
      "text/plain": [
       "Batches:   0%|          | 0/1 [00:00<?, ?it/s]"
      ]
     },
     "metadata": {},
     "output_type": "display_data"
    },
    {
     "data": {
      "application/vnd.jupyter.widget-view+json": {
       "model_id": "a6012e79aff240a2b2bd8252ea021d6e",
       "version_major": 2,
       "version_minor": 0
      },
      "text/plain": [
       "Batches:   0%|          | 0/1 [00:00<?, ?it/s]"
      ]
     },
     "metadata": {},
     "output_type": "display_data"
    },
    {
     "data": {
      "application/vnd.jupyter.widget-view+json": {
       "model_id": "51a0463cffcc4c51aa5ca962766d5903",
       "version_major": 2,
       "version_minor": 0
      },
      "text/plain": [
       "Batches:   0%|          | 0/1 [00:00<?, ?it/s]"
      ]
     },
     "metadata": {},
     "output_type": "display_data"
    },
    {
     "data": {
      "application/vnd.jupyter.widget-view+json": {
       "model_id": "73015a6dc86547719b28d3e60f6082f6",
       "version_major": 2,
       "version_minor": 0
      },
      "text/plain": [
       "Batches:   0%|          | 0/1 [00:00<?, ?it/s]"
      ]
     },
     "metadata": {},
     "output_type": "display_data"
    },
    {
     "data": {
      "application/vnd.jupyter.widget-view+json": {
       "model_id": "37c72e81c3f549c8b3f6802e367ffc79",
       "version_major": 2,
       "version_minor": 0
      },
      "text/plain": [
       "Batches:   0%|          | 0/1 [00:00<?, ?it/s]"
      ]
     },
     "metadata": {},
     "output_type": "display_data"
    },
    {
     "data": {
      "application/vnd.jupyter.widget-view+json": {
       "model_id": "edc8bf4ff2bd4309ac9965d37bc2445b",
       "version_major": 2,
       "version_minor": 0
      },
      "text/plain": [
       "Batches:   0%|          | 0/1 [00:00<?, ?it/s]"
      ]
     },
     "metadata": {},
     "output_type": "display_data"
    },
    {
     "data": {
      "application/vnd.jupyter.widget-view+json": {
       "model_id": "fdbfbe4cff864a13bd2802507ae6bd8d",
       "version_major": 2,
       "version_minor": 0
      },
      "text/plain": [
       "Batches:   0%|          | 0/1 [00:00<?, ?it/s]"
      ]
     },
     "metadata": {},
     "output_type": "display_data"
    },
    {
     "data": {
      "application/vnd.jupyter.widget-view+json": {
       "model_id": "86ddaa9ee2e845ddb75ffc0505538c51",
       "version_major": 2,
       "version_minor": 0
      },
      "text/plain": [
       "Batches:   0%|          | 0/1 [00:00<?, ?it/s]"
      ]
     },
     "metadata": {},
     "output_type": "display_data"
    },
    {
     "data": {
      "application/vnd.jupyter.widget-view+json": {
       "model_id": "0012d58a23eb42cca00dbfd05972cf49",
       "version_major": 2,
       "version_minor": 0
      },
      "text/plain": [
       "Batches:   0%|          | 0/1 [00:00<?, ?it/s]"
      ]
     },
     "metadata": {},
     "output_type": "display_data"
    },
    {
     "data": {
      "application/vnd.jupyter.widget-view+json": {
       "model_id": "60a33584ade54fde8e3b015db574d24b",
       "version_major": 2,
       "version_minor": 0
      },
      "text/plain": [
       "Batches:   0%|          | 0/1 [00:00<?, ?it/s]"
      ]
     },
     "metadata": {},
     "output_type": "display_data"
    },
    {
     "data": {
      "application/vnd.jupyter.widget-view+json": {
       "model_id": "6db0f3437be243b49d44bbdeba83daae",
       "version_major": 2,
       "version_minor": 0
      },
      "text/plain": [
       "Batches:   0%|          | 0/1 [00:00<?, ?it/s]"
      ]
     },
     "metadata": {},
     "output_type": "display_data"
    },
    {
     "data": {
      "application/vnd.jupyter.widget-view+json": {
       "model_id": "8604030207e14fe4a9281d44074a4588",
       "version_major": 2,
       "version_minor": 0
      },
      "text/plain": [
       "Batches:   0%|          | 0/1 [00:00<?, ?it/s]"
      ]
     },
     "metadata": {},
     "output_type": "display_data"
    },
    {
     "data": {
      "application/vnd.jupyter.widget-view+json": {
       "model_id": "fc4502edea9a409481c45382f374cd0c",
       "version_major": 2,
       "version_minor": 0
      },
      "text/plain": [
       "Batches:   0%|          | 0/1 [00:00<?, ?it/s]"
      ]
     },
     "metadata": {},
     "output_type": "display_data"
    },
    {
     "data": {
      "application/vnd.jupyter.widget-view+json": {
       "model_id": "c49689b96b414905899d6200e45b87b9",
       "version_major": 2,
       "version_minor": 0
      },
      "text/plain": [
       "Batches:   0%|          | 0/1 [00:00<?, ?it/s]"
      ]
     },
     "metadata": {},
     "output_type": "display_data"
    },
    {
     "data": {
      "application/vnd.jupyter.widget-view+json": {
       "model_id": "65a746e2061843968335a40e7db9606e",
       "version_major": 2,
       "version_minor": 0
      },
      "text/plain": [
       "Batches:   0%|          | 0/1 [00:00<?, ?it/s]"
      ]
     },
     "metadata": {},
     "output_type": "display_data"
    },
    {
     "data": {
      "application/vnd.jupyter.widget-view+json": {
       "model_id": "243a6d48b20147c5b9e0569f63123e3a",
       "version_major": 2,
       "version_minor": 0
      },
      "text/plain": [
       "Batches:   0%|          | 0/1 [00:00<?, ?it/s]"
      ]
     },
     "metadata": {},
     "output_type": "display_data"
    },
    {
     "data": {
      "application/vnd.jupyter.widget-view+json": {
       "model_id": "ae797808c9db49d7af9d21bbacb7e43c",
       "version_major": 2,
       "version_minor": 0
      },
      "text/plain": [
       "Batches:   0%|          | 0/1 [00:00<?, ?it/s]"
      ]
     },
     "metadata": {},
     "output_type": "display_data"
    },
    {
     "data": {
      "application/vnd.jupyter.widget-view+json": {
       "model_id": "63206258ef8d44a7aa1572dfe75cedff",
       "version_major": 2,
       "version_minor": 0
      },
      "text/plain": [
       "Batches:   0%|          | 0/1 [00:00<?, ?it/s]"
      ]
     },
     "metadata": {},
     "output_type": "display_data"
    },
    {
     "data": {
      "application/vnd.jupyter.widget-view+json": {
       "model_id": "04d6ff9e6c574798aa2016b94d5d3b4a",
       "version_major": 2,
       "version_minor": 0
      },
      "text/plain": [
       "Batches:   0%|          | 0/1 [00:00<?, ?it/s]"
      ]
     },
     "metadata": {},
     "output_type": "display_data"
    },
    {
     "data": {
      "application/vnd.jupyter.widget-view+json": {
       "model_id": "1ac33ff7776e464d9550541717e40628",
       "version_major": 2,
       "version_minor": 0
      },
      "text/plain": [
       "Batches:   0%|          | 0/1 [00:00<?, ?it/s]"
      ]
     },
     "metadata": {},
     "output_type": "display_data"
    },
    {
     "data": {
      "application/vnd.jupyter.widget-view+json": {
       "model_id": "d5e4a14e654341189e7ebdef44c9a472",
       "version_major": 2,
       "version_minor": 0
      },
      "text/plain": [
       "Batches:   0%|          | 0/1 [00:00<?, ?it/s]"
      ]
     },
     "metadata": {},
     "output_type": "display_data"
    },
    {
     "data": {
      "application/vnd.jupyter.widget-view+json": {
       "model_id": "c505d390e0c54e0384329490cdf3832f",
       "version_major": 2,
       "version_minor": 0
      },
      "text/plain": [
       "Batches:   0%|          | 0/1 [00:00<?, ?it/s]"
      ]
     },
     "metadata": {},
     "output_type": "display_data"
    },
    {
     "data": {
      "application/vnd.jupyter.widget-view+json": {
       "model_id": "fed63a5615ed4c3e86d9ac7a95eff6a6",
       "version_major": 2,
       "version_minor": 0
      },
      "text/plain": [
       "Batches:   0%|          | 0/1 [00:00<?, ?it/s]"
      ]
     },
     "metadata": {},
     "output_type": "display_data"
    },
    {
     "data": {
      "application/vnd.jupyter.widget-view+json": {
       "model_id": "49743142c4b54f37bcc604bdf2d2f061",
       "version_major": 2,
       "version_minor": 0
      },
      "text/plain": [
       "Batches:   0%|          | 0/1 [00:00<?, ?it/s]"
      ]
     },
     "metadata": {},
     "output_type": "display_data"
    },
    {
     "data": {
      "application/vnd.jupyter.widget-view+json": {
       "model_id": "1ea70957df604fdb86a2cbb0040ade58",
       "version_major": 2,
       "version_minor": 0
      },
      "text/plain": [
       "Batches:   0%|          | 0/1 [00:00<?, ?it/s]"
      ]
     },
     "metadata": {},
     "output_type": "display_data"
    },
    {
     "data": {
      "application/vnd.jupyter.widget-view+json": {
       "model_id": "e886b00bd9804a87b52acb6656cb94a4",
       "version_major": 2,
       "version_minor": 0
      },
      "text/plain": [
       "Batches:   0%|          | 0/1 [00:00<?, ?it/s]"
      ]
     },
     "metadata": {},
     "output_type": "display_data"
    },
    {
     "data": {
      "application/vnd.jupyter.widget-view+json": {
       "model_id": "a712110fd5424ad9adb6264a633eff7e",
       "version_major": 2,
       "version_minor": 0
      },
      "text/plain": [
       "Batches:   0%|          | 0/1 [00:00<?, ?it/s]"
      ]
     },
     "metadata": {},
     "output_type": "display_data"
    },
    {
     "data": {
      "application/vnd.jupyter.widget-view+json": {
       "model_id": "45ac53b886464079896aa85e754604c5",
       "version_major": 2,
       "version_minor": 0
      },
      "text/plain": [
       "Batches:   0%|          | 0/1 [00:00<?, ?it/s]"
      ]
     },
     "metadata": {},
     "output_type": "display_data"
    },
    {
     "data": {
      "application/vnd.jupyter.widget-view+json": {
       "model_id": "b908c5396be4480a96a85ed785b0da46",
       "version_major": 2,
       "version_minor": 0
      },
      "text/plain": [
       "Batches:   0%|          | 0/1 [00:00<?, ?it/s]"
      ]
     },
     "metadata": {},
     "output_type": "display_data"
    },
    {
     "data": {
      "application/vnd.jupyter.widget-view+json": {
       "model_id": "7f44cc3abd96484995785c4065fc38c8",
       "version_major": 2,
       "version_minor": 0
      },
      "text/plain": [
       "Batches:   0%|          | 0/1 [00:00<?, ?it/s]"
      ]
     },
     "metadata": {},
     "output_type": "display_data"
    },
    {
     "data": {
      "application/vnd.jupyter.widget-view+json": {
       "model_id": "2653339b1cf64f9e9db9cd0bad736921",
       "version_major": 2,
       "version_minor": 0
      },
      "text/plain": [
       "Batches:   0%|          | 0/1 [00:00<?, ?it/s]"
      ]
     },
     "metadata": {},
     "output_type": "display_data"
    },
    {
     "data": {
      "application/vnd.jupyter.widget-view+json": {
       "model_id": "9776df6243b64f0db96dcf2d2a2897c1",
       "version_major": 2,
       "version_minor": 0
      },
      "text/plain": [
       "Batches:   0%|          | 0/1 [00:00<?, ?it/s]"
      ]
     },
     "metadata": {},
     "output_type": "display_data"
    },
    {
     "data": {
      "application/vnd.jupyter.widget-view+json": {
       "model_id": "1d3a537b6cad4996826a79ad603a8205",
       "version_major": 2,
       "version_minor": 0
      },
      "text/plain": [
       "Batches:   0%|          | 0/1 [00:00<?, ?it/s]"
      ]
     },
     "metadata": {},
     "output_type": "display_data"
    },
    {
     "data": {
      "application/vnd.jupyter.widget-view+json": {
       "model_id": "43fa05b64a23467c8e09fc69422ea182",
       "version_major": 2,
       "version_minor": 0
      },
      "text/plain": [
       "Batches:   0%|          | 0/1 [00:00<?, ?it/s]"
      ]
     },
     "metadata": {},
     "output_type": "display_data"
    },
    {
     "data": {
      "application/vnd.jupyter.widget-view+json": {
       "model_id": "5142de80a08a4ad1a265b43030ba096d",
       "version_major": 2,
       "version_minor": 0
      },
      "text/plain": [
       "Batches:   0%|          | 0/1 [00:00<?, ?it/s]"
      ]
     },
     "metadata": {},
     "output_type": "display_data"
    },
    {
     "data": {
      "application/vnd.jupyter.widget-view+json": {
       "model_id": "f049c969320e414bbe8766238ef49d3d",
       "version_major": 2,
       "version_minor": 0
      },
      "text/plain": [
       "Batches:   0%|          | 0/1 [00:00<?, ?it/s]"
      ]
     },
     "metadata": {},
     "output_type": "display_data"
    },
    {
     "data": {
      "application/vnd.jupyter.widget-view+json": {
       "model_id": "339f8a3067f74d58b3e59d5857e02fab",
       "version_major": 2,
       "version_minor": 0
      },
      "text/plain": [
       "Batches:   0%|          | 0/1 [00:00<?, ?it/s]"
      ]
     },
     "metadata": {},
     "output_type": "display_data"
    },
    {
     "data": {
      "application/vnd.jupyter.widget-view+json": {
       "model_id": "291ec389e3a346b39db37bab39e6bcbd",
       "version_major": 2,
       "version_minor": 0
      },
      "text/plain": [
       "Batches:   0%|          | 0/1 [00:00<?, ?it/s]"
      ]
     },
     "metadata": {},
     "output_type": "display_data"
    },
    {
     "data": {
      "application/vnd.jupyter.widget-view+json": {
       "model_id": "d46b7edd191e453fa3f99b3aeac5c17b",
       "version_major": 2,
       "version_minor": 0
      },
      "text/plain": [
       "Batches:   0%|          | 0/1 [00:00<?, ?it/s]"
      ]
     },
     "metadata": {},
     "output_type": "display_data"
    },
    {
     "data": {
      "application/vnd.jupyter.widget-view+json": {
       "model_id": "af4e9f9d777144a6b33829883eafcf0a",
       "version_major": 2,
       "version_minor": 0
      },
      "text/plain": [
       "Batches:   0%|          | 0/1 [00:00<?, ?it/s]"
      ]
     },
     "metadata": {},
     "output_type": "display_data"
    },
    {
     "data": {
      "application/vnd.jupyter.widget-view+json": {
       "model_id": "3e5f9143cdfc4ce0bd7a92745b4907af",
       "version_major": 2,
       "version_minor": 0
      },
      "text/plain": [
       "Batches:   0%|          | 0/1 [00:00<?, ?it/s]"
      ]
     },
     "metadata": {},
     "output_type": "display_data"
    },
    {
     "data": {
      "application/vnd.jupyter.widget-view+json": {
       "model_id": "8efd141c617141a8a1ccd277217b9894",
       "version_major": 2,
       "version_minor": 0
      },
      "text/plain": [
       "Batches:   0%|          | 0/1 [00:00<?, ?it/s]"
      ]
     },
     "metadata": {},
     "output_type": "display_data"
    },
    {
     "data": {
      "application/vnd.jupyter.widget-view+json": {
       "model_id": "876da2e2827e4fc7afbb801db0cd5fa3",
       "version_major": 2,
       "version_minor": 0
      },
      "text/plain": [
       "Batches:   0%|          | 0/1 [00:00<?, ?it/s]"
      ]
     },
     "metadata": {},
     "output_type": "display_data"
    },
    {
     "data": {
      "application/vnd.jupyter.widget-view+json": {
       "model_id": "3e50936c21254f8790025f029d6c1c71",
       "version_major": 2,
       "version_minor": 0
      },
      "text/plain": [
       "Batches:   0%|          | 0/1 [00:00<?, ?it/s]"
      ]
     },
     "metadata": {},
     "output_type": "display_data"
    },
    {
     "data": {
      "application/vnd.jupyter.widget-view+json": {
       "model_id": "1a99e76c798d47c3a321a3150270d3d6",
       "version_major": 2,
       "version_minor": 0
      },
      "text/plain": [
       "Batches:   0%|          | 0/1 [00:00<?, ?it/s]"
      ]
     },
     "metadata": {},
     "output_type": "display_data"
    },
    {
     "data": {
      "application/vnd.jupyter.widget-view+json": {
       "model_id": "ede0de97e11248628531e811525b6254",
       "version_major": 2,
       "version_minor": 0
      },
      "text/plain": [
       "Batches:   0%|          | 0/1 [00:00<?, ?it/s]"
      ]
     },
     "metadata": {},
     "output_type": "display_data"
    },
    {
     "data": {
      "application/vnd.jupyter.widget-view+json": {
       "model_id": "e8fc836fbf1a43bda9a319f8c8d14799",
       "version_major": 2,
       "version_minor": 0
      },
      "text/plain": [
       "Batches:   0%|          | 0/1 [00:00<?, ?it/s]"
      ]
     },
     "metadata": {},
     "output_type": "display_data"
    },
    {
     "data": {
      "application/vnd.jupyter.widget-view+json": {
       "model_id": "47c60ebcbf304dd6a22fc214a9a03194",
       "version_major": 2,
       "version_minor": 0
      },
      "text/plain": [
       "Batches:   0%|          | 0/1 [00:00<?, ?it/s]"
      ]
     },
     "metadata": {},
     "output_type": "display_data"
    },
    {
     "data": {
      "application/vnd.jupyter.widget-view+json": {
       "model_id": "9ae8359f3e3b417d920559a44d12c2cc",
       "version_major": 2,
       "version_minor": 0
      },
      "text/plain": [
       "Batches:   0%|          | 0/1 [00:00<?, ?it/s]"
      ]
     },
     "metadata": {},
     "output_type": "display_data"
    },
    {
     "data": {
      "application/vnd.jupyter.widget-view+json": {
       "model_id": "25cafd40287d46679ec97937f1af34ac",
       "version_major": 2,
       "version_minor": 0
      },
      "text/plain": [
       "Batches:   0%|          | 0/1 [00:00<?, ?it/s]"
      ]
     },
     "metadata": {},
     "output_type": "display_data"
    },
    {
     "data": {
      "application/vnd.jupyter.widget-view+json": {
       "model_id": "cbe8064130c84537bf6ff506aed0ddb9",
       "version_major": 2,
       "version_minor": 0
      },
      "text/plain": [
       "Batches:   0%|          | 0/1 [00:00<?, ?it/s]"
      ]
     },
     "metadata": {},
     "output_type": "display_data"
    },
    {
     "data": {
      "application/vnd.jupyter.widget-view+json": {
       "model_id": "5ad3010abf264fb8a866e7811c82932c",
       "version_major": 2,
       "version_minor": 0
      },
      "text/plain": [
       "Batches:   0%|          | 0/1 [00:00<?, ?it/s]"
      ]
     },
     "metadata": {},
     "output_type": "display_data"
    },
    {
     "data": {
      "application/vnd.jupyter.widget-view+json": {
       "model_id": "126b5872200b4de3b1855e2a9b001d74",
       "version_major": 2,
       "version_minor": 0
      },
      "text/plain": [
       "Batches:   0%|          | 0/1 [00:00<?, ?it/s]"
      ]
     },
     "metadata": {},
     "output_type": "display_data"
    },
    {
     "data": {
      "application/vnd.jupyter.widget-view+json": {
       "model_id": "d172889cefbe41d690effbdafd697a38",
       "version_major": 2,
       "version_minor": 0
      },
      "text/plain": [
       "Batches:   0%|          | 0/1 [00:00<?, ?it/s]"
      ]
     },
     "metadata": {},
     "output_type": "display_data"
    },
    {
     "data": {
      "application/vnd.jupyter.widget-view+json": {
       "model_id": "7d02b08ebf0d421d987db49568ced7fb",
       "version_major": 2,
       "version_minor": 0
      },
      "text/plain": [
       "Batches:   0%|          | 0/1 [00:00<?, ?it/s]"
      ]
     },
     "metadata": {},
     "output_type": "display_data"
    },
    {
     "data": {
      "application/vnd.jupyter.widget-view+json": {
       "model_id": "767a0271ff494061b6a0ffb43ca936f3",
       "version_major": 2,
       "version_minor": 0
      },
      "text/plain": [
       "Batches:   0%|          | 0/1 [00:00<?, ?it/s]"
      ]
     },
     "metadata": {},
     "output_type": "display_data"
    },
    {
     "data": {
      "application/vnd.jupyter.widget-view+json": {
       "model_id": "76ea9db76057434a84e7f3fed155a200",
       "version_major": 2,
       "version_minor": 0
      },
      "text/plain": [
       "Batches:   0%|          | 0/1 [00:00<?, ?it/s]"
      ]
     },
     "metadata": {},
     "output_type": "display_data"
    },
    {
     "data": {
      "application/vnd.jupyter.widget-view+json": {
       "model_id": "25df40d1b8a740aba8b621c827dd3ed4",
       "version_major": 2,
       "version_minor": 0
      },
      "text/plain": [
       "Batches:   0%|          | 0/1 [00:00<?, ?it/s]"
      ]
     },
     "metadata": {},
     "output_type": "display_data"
    },
    {
     "data": {
      "application/vnd.jupyter.widget-view+json": {
       "model_id": "7302878457694a96a70aeafe971bdddb",
       "version_major": 2,
       "version_minor": 0
      },
      "text/plain": [
       "Batches:   0%|          | 0/1 [00:00<?, ?it/s]"
      ]
     },
     "metadata": {},
     "output_type": "display_data"
    },
    {
     "data": {
      "application/vnd.jupyter.widget-view+json": {
       "model_id": "86a3f7d2951a4271b49b6159233992f3",
       "version_major": 2,
       "version_minor": 0
      },
      "text/plain": [
       "Batches:   0%|          | 0/1 [00:00<?, ?it/s]"
      ]
     },
     "metadata": {},
     "output_type": "display_data"
    },
    {
     "data": {
      "application/vnd.jupyter.widget-view+json": {
       "model_id": "8df92d86495048cfa3258de0b5ee67e3",
       "version_major": 2,
       "version_minor": 0
      },
      "text/plain": [
       "Batches:   0%|          | 0/1 [00:00<?, ?it/s]"
      ]
     },
     "metadata": {},
     "output_type": "display_data"
    },
    {
     "data": {
      "application/vnd.jupyter.widget-view+json": {
       "model_id": "d17d614d61cd4485b5eb29f6651bb295",
       "version_major": 2,
       "version_minor": 0
      },
      "text/plain": [
       "Batches:   0%|          | 0/1 [00:00<?, ?it/s]"
      ]
     },
     "metadata": {},
     "output_type": "display_data"
    },
    {
     "data": {
      "application/vnd.jupyter.widget-view+json": {
       "model_id": "45c1fcec43e34073ab2333e30107c955",
       "version_major": 2,
       "version_minor": 0
      },
      "text/plain": [
       "Batches:   0%|          | 0/1 [00:00<?, ?it/s]"
      ]
     },
     "metadata": {},
     "output_type": "display_data"
    },
    {
     "data": {
      "application/vnd.jupyter.widget-view+json": {
       "model_id": "7810d8db5e8f450db5fb379f3a1e0941",
       "version_major": 2,
       "version_minor": 0
      },
      "text/plain": [
       "Batches:   0%|          | 0/1 [00:00<?, ?it/s]"
      ]
     },
     "metadata": {},
     "output_type": "display_data"
    },
    {
     "data": {
      "application/vnd.jupyter.widget-view+json": {
       "model_id": "1d3a55f416f341b49e91c0ea0fb98a8c",
       "version_major": 2,
       "version_minor": 0
      },
      "text/plain": [
       "Batches:   0%|          | 0/1 [00:00<?, ?it/s]"
      ]
     },
     "metadata": {},
     "output_type": "display_data"
    },
    {
     "data": {
      "application/vnd.jupyter.widget-view+json": {
       "model_id": "d7ee4c39c1ce438abbc6ee408497be36",
       "version_major": 2,
       "version_minor": 0
      },
      "text/plain": [
       "Batches:   0%|          | 0/1 [00:00<?, ?it/s]"
      ]
     },
     "metadata": {},
     "output_type": "display_data"
    },
    {
     "data": {
      "application/vnd.jupyter.widget-view+json": {
       "model_id": "cf29d80d135041ea942f0fbd94d22aa4",
       "version_major": 2,
       "version_minor": 0
      },
      "text/plain": [
       "Batches:   0%|          | 0/1 [00:00<?, ?it/s]"
      ]
     },
     "metadata": {},
     "output_type": "display_data"
    },
    {
     "data": {
      "application/vnd.jupyter.widget-view+json": {
       "model_id": "a119c67237724594b8cd49eae606e6ca",
       "version_major": 2,
       "version_minor": 0
      },
      "text/plain": [
       "Batches:   0%|          | 0/1 [00:00<?, ?it/s]"
      ]
     },
     "metadata": {},
     "output_type": "display_data"
    },
    {
     "data": {
      "application/vnd.jupyter.widget-view+json": {
       "model_id": "0c4c0ed97e2e49edb06010902375ca39",
       "version_major": 2,
       "version_minor": 0
      },
      "text/plain": [
       "Batches:   0%|          | 0/1 [00:00<?, ?it/s]"
      ]
     },
     "metadata": {},
     "output_type": "display_data"
    },
    {
     "data": {
      "application/vnd.jupyter.widget-view+json": {
       "model_id": "aaa99b6aecad4687978f9a07542808c5",
       "version_major": 2,
       "version_minor": 0
      },
      "text/plain": [
       "Batches:   0%|          | 0/1 [00:00<?, ?it/s]"
      ]
     },
     "metadata": {},
     "output_type": "display_data"
    },
    {
     "data": {
      "application/vnd.jupyter.widget-view+json": {
       "model_id": "4bd20b456c754206868820fcfc69a8db",
       "version_major": 2,
       "version_minor": 0
      },
      "text/plain": [
       "Batches:   0%|          | 0/1 [00:00<?, ?it/s]"
      ]
     },
     "metadata": {},
     "output_type": "display_data"
    },
    {
     "data": {
      "application/vnd.jupyter.widget-view+json": {
       "model_id": "4b420d2cf2804f78aedba4ef7c58b4ce",
       "version_major": 2,
       "version_minor": 0
      },
      "text/plain": [
       "Batches:   0%|          | 0/1 [00:00<?, ?it/s]"
      ]
     },
     "metadata": {},
     "output_type": "display_data"
    },
    {
     "data": {
      "application/vnd.jupyter.widget-view+json": {
       "model_id": "b4391a36c0aa4b208ddb8ef7df479832",
       "version_major": 2,
       "version_minor": 0
      },
      "text/plain": [
       "Batches:   0%|          | 0/1 [00:00<?, ?it/s]"
      ]
     },
     "metadata": {},
     "output_type": "display_data"
    },
    {
     "data": {
      "application/vnd.jupyter.widget-view+json": {
       "model_id": "59c71826d92a46c897abd8518690e5d8",
       "version_major": 2,
       "version_minor": 0
      },
      "text/plain": [
       "Batches:   0%|          | 0/1 [00:00<?, ?it/s]"
      ]
     },
     "metadata": {},
     "output_type": "display_data"
    },
    {
     "data": {
      "application/vnd.jupyter.widget-view+json": {
       "model_id": "5e827ef1d92142d4b25d6c8f65968e8c",
       "version_major": 2,
       "version_minor": 0
      },
      "text/plain": [
       "Batches:   0%|          | 0/1 [00:00<?, ?it/s]"
      ]
     },
     "metadata": {},
     "output_type": "display_data"
    },
    {
     "data": {
      "application/vnd.jupyter.widget-view+json": {
       "model_id": "c6086bbff37b4922aa2202375d7852bb",
       "version_major": 2,
       "version_minor": 0
      },
      "text/plain": [
       "Batches:   0%|          | 0/1 [00:00<?, ?it/s]"
      ]
     },
     "metadata": {},
     "output_type": "display_data"
    },
    {
     "data": {
      "application/vnd.jupyter.widget-view+json": {
       "model_id": "d4050a960c7a4acaa40d0906f1be7987",
       "version_major": 2,
       "version_minor": 0
      },
      "text/plain": [
       "Batches:   0%|          | 0/1 [00:00<?, ?it/s]"
      ]
     },
     "metadata": {},
     "output_type": "display_data"
    },
    {
     "data": {
      "application/vnd.jupyter.widget-view+json": {
       "model_id": "1ec9cb242e2f4ee396fce3d92ed1b9fb",
       "version_major": 2,
       "version_minor": 0
      },
      "text/plain": [
       "Batches:   0%|          | 0/1 [00:00<?, ?it/s]"
      ]
     },
     "metadata": {},
     "output_type": "display_data"
    },
    {
     "data": {
      "application/vnd.jupyter.widget-view+json": {
       "model_id": "e701560ca8aa4b4cb8b2d2ec2bea86ec",
       "version_major": 2,
       "version_minor": 0
      },
      "text/plain": [
       "Batches:   0%|          | 0/1 [00:00<?, ?it/s]"
      ]
     },
     "metadata": {},
     "output_type": "display_data"
    },
    {
     "data": {
      "application/vnd.jupyter.widget-view+json": {
       "model_id": "3f646cc4fa6a45738d1556902ef7607a",
       "version_major": 2,
       "version_minor": 0
      },
      "text/plain": [
       "Batches:   0%|          | 0/1 [00:00<?, ?it/s]"
      ]
     },
     "metadata": {},
     "output_type": "display_data"
    },
    {
     "data": {
      "application/vnd.jupyter.widget-view+json": {
       "model_id": "cf50b78e098c45ec8a237d8340156b8b",
       "version_major": 2,
       "version_minor": 0
      },
      "text/plain": [
       "Batches:   0%|          | 0/1 [00:00<?, ?it/s]"
      ]
     },
     "metadata": {},
     "output_type": "display_data"
    },
    {
     "data": {
      "application/vnd.jupyter.widget-view+json": {
       "model_id": "745b06f05fa940588711304fe46b48fd",
       "version_major": 2,
       "version_minor": 0
      },
      "text/plain": [
       "Batches:   0%|          | 0/1 [00:00<?, ?it/s]"
      ]
     },
     "metadata": {},
     "output_type": "display_data"
    },
    {
     "data": {
      "application/vnd.jupyter.widget-view+json": {
       "model_id": "a7a415c5098f4e45a7bf3bddac6ea17d",
       "version_major": 2,
       "version_minor": 0
      },
      "text/plain": [
       "Batches:   0%|          | 0/1 [00:00<?, ?it/s]"
      ]
     },
     "metadata": {},
     "output_type": "display_data"
    },
    {
     "data": {
      "application/vnd.jupyter.widget-view+json": {
       "model_id": "fffe9c9e5da64f40a8dcb4218acce30a",
       "version_major": 2,
       "version_minor": 0
      },
      "text/plain": [
       "Batches:   0%|          | 0/1 [00:00<?, ?it/s]"
      ]
     },
     "metadata": {},
     "output_type": "display_data"
    },
    {
     "data": {
      "application/vnd.jupyter.widget-view+json": {
       "model_id": "e3228c4a0570474b85774a8b3ef7d3f1",
       "version_major": 2,
       "version_minor": 0
      },
      "text/plain": [
       "Batches:   0%|          | 0/1 [00:00<?, ?it/s]"
      ]
     },
     "metadata": {},
     "output_type": "display_data"
    },
    {
     "data": {
      "application/vnd.jupyter.widget-view+json": {
       "model_id": "279cf81bbb37447580b7ac0a6f081e0c",
       "version_major": 2,
       "version_minor": 0
      },
      "text/plain": [
       "Batches:   0%|          | 0/1 [00:00<?, ?it/s]"
      ]
     },
     "metadata": {},
     "output_type": "display_data"
    },
    {
     "data": {
      "application/vnd.jupyter.widget-view+json": {
       "model_id": "1b73c9e994914c17895d84b2b7d0d541",
       "version_major": 2,
       "version_minor": 0
      },
      "text/plain": [
       "Batches:   0%|          | 0/1 [00:00<?, ?it/s]"
      ]
     },
     "metadata": {},
     "output_type": "display_data"
    },
    {
     "data": {
      "application/vnd.jupyter.widget-view+json": {
       "model_id": "48de0994a9d840ba81b79885b3f8ffe1",
       "version_major": 2,
       "version_minor": 0
      },
      "text/plain": [
       "Batches:   0%|          | 0/1 [00:00<?, ?it/s]"
      ]
     },
     "metadata": {},
     "output_type": "display_data"
    },
    {
     "data": {
      "application/vnd.jupyter.widget-view+json": {
       "model_id": "aa8c4a35cf23468bb151e8a24b0bc9ca",
       "version_major": 2,
       "version_minor": 0
      },
      "text/plain": [
       "Batches:   0%|          | 0/1 [00:00<?, ?it/s]"
      ]
     },
     "metadata": {},
     "output_type": "display_data"
    },
    {
     "data": {
      "application/vnd.jupyter.widget-view+json": {
       "model_id": "c474577e4d10422f8669d438f313e59d",
       "version_major": 2,
       "version_minor": 0
      },
      "text/plain": [
       "Batches:   0%|          | 0/1 [00:00<?, ?it/s]"
      ]
     },
     "metadata": {},
     "output_type": "display_data"
    },
    {
     "data": {
      "application/vnd.jupyter.widget-view+json": {
       "model_id": "50c96892fa684d6dba134815e62c1418",
       "version_major": 2,
       "version_minor": 0
      },
      "text/plain": [
       "Batches:   0%|          | 0/1 [00:00<?, ?it/s]"
      ]
     },
     "metadata": {},
     "output_type": "display_data"
    },
    {
     "data": {
      "application/vnd.jupyter.widget-view+json": {
       "model_id": "0b304b786cfc4a06b4314b43f3ffe159",
       "version_major": 2,
       "version_minor": 0
      },
      "text/plain": [
       "Batches:   0%|          | 0/1 [00:00<?, ?it/s]"
      ]
     },
     "metadata": {},
     "output_type": "display_data"
    },
    {
     "data": {
      "application/vnd.jupyter.widget-view+json": {
       "model_id": "670d93dec25f40798876ce0cadd4d0ce",
       "version_major": 2,
       "version_minor": 0
      },
      "text/plain": [
       "Batches:   0%|          | 0/1 [00:00<?, ?it/s]"
      ]
     },
     "metadata": {},
     "output_type": "display_data"
    },
    {
     "data": {
      "application/vnd.jupyter.widget-view+json": {
       "model_id": "becb6f3ac9b64b01816107d37de12534",
       "version_major": 2,
       "version_minor": 0
      },
      "text/plain": [
       "Batches:   0%|          | 0/1 [00:00<?, ?it/s]"
      ]
     },
     "metadata": {},
     "output_type": "display_data"
    },
    {
     "data": {
      "application/vnd.jupyter.widget-view+json": {
       "model_id": "1949ca464fe64940953dcdac907c664d",
       "version_major": 2,
       "version_minor": 0
      },
      "text/plain": [
       "Batches:   0%|          | 0/1 [00:00<?, ?it/s]"
      ]
     },
     "metadata": {},
     "output_type": "display_data"
    },
    {
     "data": {
      "application/vnd.jupyter.widget-view+json": {
       "model_id": "d6fda3559c31487bb77907d82bd5800f",
       "version_major": 2,
       "version_minor": 0
      },
      "text/plain": [
       "Batches:   0%|          | 0/1 [00:00<?, ?it/s]"
      ]
     },
     "metadata": {},
     "output_type": "display_data"
    },
    {
     "data": {
      "application/vnd.jupyter.widget-view+json": {
       "model_id": "6418d2c03db84e689ddd39b4d682869d",
       "version_major": 2,
       "version_minor": 0
      },
      "text/plain": [
       "Batches:   0%|          | 0/1 [00:00<?, ?it/s]"
      ]
     },
     "metadata": {},
     "output_type": "display_data"
    },
    {
     "data": {
      "application/vnd.jupyter.widget-view+json": {
       "model_id": "68ef960759b14cbc805c5d993533d887",
       "version_major": 2,
       "version_minor": 0
      },
      "text/plain": [
       "Batches:   0%|          | 0/1 [00:00<?, ?it/s]"
      ]
     },
     "metadata": {},
     "output_type": "display_data"
    },
    {
     "data": {
      "application/vnd.jupyter.widget-view+json": {
       "model_id": "e30041f0b034466b9c5b323b35f64bb4",
       "version_major": 2,
       "version_minor": 0
      },
      "text/plain": [
       "Batches:   0%|          | 0/1 [00:00<?, ?it/s]"
      ]
     },
     "metadata": {},
     "output_type": "display_data"
    },
    {
     "data": {
      "application/vnd.jupyter.widget-view+json": {
       "model_id": "222de1dc95924fab97c2cb455f5fc555",
       "version_major": 2,
       "version_minor": 0
      },
      "text/plain": [
       "Batches:   0%|          | 0/1 [00:00<?, ?it/s]"
      ]
     },
     "metadata": {},
     "output_type": "display_data"
    },
    {
     "data": {
      "application/vnd.jupyter.widget-view+json": {
       "model_id": "19a077e2ed674c5ba1e39aa70d19f731",
       "version_major": 2,
       "version_minor": 0
      },
      "text/plain": [
       "Batches:   0%|          | 0/1 [00:00<?, ?it/s]"
      ]
     },
     "metadata": {},
     "output_type": "display_data"
    },
    {
     "data": {
      "application/vnd.jupyter.widget-view+json": {
       "model_id": "bf533ac10cb346809c678de558c03db3",
       "version_major": 2,
       "version_minor": 0
      },
      "text/plain": [
       "Batches:   0%|          | 0/1 [00:00<?, ?it/s]"
      ]
     },
     "metadata": {},
     "output_type": "display_data"
    },
    {
     "data": {
      "application/vnd.jupyter.widget-view+json": {
       "model_id": "d721c5f52dc346f9a8a805de920a7b8c",
       "version_major": 2,
       "version_minor": 0
      },
      "text/plain": [
       "Batches:   0%|          | 0/1 [00:00<?, ?it/s]"
      ]
     },
     "metadata": {},
     "output_type": "display_data"
    },
    {
     "name": "stdout",
     "output_type": "stream",
     "text": [
      "   Processing 3/5: gai-eng_item004\n",
      "📄 Extracting content from: gai-eng_item004\n",
      "  ✅ Extracted: 7 sections, 56 paragraphs\n",
      "  📊 Document type: Blog post\n",
      "  🎯 Special elements: pull_quotes\n"
     ]
    },
    {
     "data": {
      "application/vnd.jupyter.widget-view+json": {
       "model_id": "43b1d2277ff44ed88764f4e5d6cda973",
       "version_major": 2,
       "version_minor": 0
      },
      "text/plain": [
       "Batches:   0%|          | 0/1 [00:00<?, ?it/s]"
      ]
     },
     "metadata": {},
     "output_type": "display_data"
    },
    {
     "data": {
      "application/vnd.jupyter.widget-view+json": {
       "model_id": "0080cbe730874a10808b6ecdd5f11477",
       "version_major": 2,
       "version_minor": 0
      },
      "text/plain": [
       "Batches:   0%|          | 0/1 [00:00<?, ?it/s]"
      ]
     },
     "metadata": {},
     "output_type": "display_data"
    },
    {
     "data": {
      "application/vnd.jupyter.widget-view+json": {
       "model_id": "759093947ca344b48b977ab0d3665c2e",
       "version_major": 2,
       "version_minor": 0
      },
      "text/plain": [
       "Batches:   0%|          | 0/1 [00:00<?, ?it/s]"
      ]
     },
     "metadata": {},
     "output_type": "display_data"
    },
    {
     "data": {
      "application/vnd.jupyter.widget-view+json": {
       "model_id": "4069a8c72d834a4f9f4a0e662452a58d",
       "version_major": 2,
       "version_minor": 0
      },
      "text/plain": [
       "Batches:   0%|          | 0/1 [00:00<?, ?it/s]"
      ]
     },
     "metadata": {},
     "output_type": "display_data"
    },
    {
     "data": {
      "application/vnd.jupyter.widget-view+json": {
       "model_id": "45f03ff8be8140b89e08a6fb8aaf9fbf",
       "version_major": 2,
       "version_minor": 0
      },
      "text/plain": [
       "Batches:   0%|          | 0/1 [00:00<?, ?it/s]"
      ]
     },
     "metadata": {},
     "output_type": "display_data"
    },
    {
     "data": {
      "application/vnd.jupyter.widget-view+json": {
       "model_id": "28704aea4dd44ad2ab0a692dff71fcdf",
       "version_major": 2,
       "version_minor": 0
      },
      "text/plain": [
       "Batches:   0%|          | 0/1 [00:00<?, ?it/s]"
      ]
     },
     "metadata": {},
     "output_type": "display_data"
    },
    {
     "data": {
      "application/vnd.jupyter.widget-view+json": {
       "model_id": "1b3d4906b6c94c78ac010955629c5de5",
       "version_major": 2,
       "version_minor": 0
      },
      "text/plain": [
       "Batches:   0%|          | 0/1 [00:00<?, ?it/s]"
      ]
     },
     "metadata": {},
     "output_type": "display_data"
    },
    {
     "data": {
      "application/vnd.jupyter.widget-view+json": {
       "model_id": "267054b75ac94a458c89cd9275fa1963",
       "version_major": 2,
       "version_minor": 0
      },
      "text/plain": [
       "Batches:   0%|          | 0/1 [00:00<?, ?it/s]"
      ]
     },
     "metadata": {},
     "output_type": "display_data"
    },
    {
     "data": {
      "application/vnd.jupyter.widget-view+json": {
       "model_id": "1c2d8868b7bd4d2299d16e696472249f",
       "version_major": 2,
       "version_minor": 0
      },
      "text/plain": [
       "Batches:   0%|          | 0/1 [00:00<?, ?it/s]"
      ]
     },
     "metadata": {},
     "output_type": "display_data"
    },
    {
     "data": {
      "application/vnd.jupyter.widget-view+json": {
       "model_id": "c31a3e9ee8b1417582116dcec12ca05a",
       "version_major": 2,
       "version_minor": 0
      },
      "text/plain": [
       "Batches:   0%|          | 0/1 [00:00<?, ?it/s]"
      ]
     },
     "metadata": {},
     "output_type": "display_data"
    },
    {
     "data": {
      "application/vnd.jupyter.widget-view+json": {
       "model_id": "55676dbcf6d249ac8d4a002b9ea3aa95",
       "version_major": 2,
       "version_minor": 0
      },
      "text/plain": [
       "Batches:   0%|          | 0/1 [00:00<?, ?it/s]"
      ]
     },
     "metadata": {},
     "output_type": "display_data"
    },
    {
     "data": {
      "application/vnd.jupyter.widget-view+json": {
       "model_id": "3dc8088844c2467f847b31fc6d788e38",
       "version_major": 2,
       "version_minor": 0
      },
      "text/plain": [
       "Batches:   0%|          | 0/1 [00:00<?, ?it/s]"
      ]
     },
     "metadata": {},
     "output_type": "display_data"
    },
    {
     "data": {
      "application/vnd.jupyter.widget-view+json": {
       "model_id": "6c355d809a514ac98af0cb5d319a7083",
       "version_major": 2,
       "version_minor": 0
      },
      "text/plain": [
       "Batches:   0%|          | 0/1 [00:00<?, ?it/s]"
      ]
     },
     "metadata": {},
     "output_type": "display_data"
    },
    {
     "data": {
      "application/vnd.jupyter.widget-view+json": {
       "model_id": "51b735b25c4745b8bab6786ad67f35f8",
       "version_major": 2,
       "version_minor": 0
      },
      "text/plain": [
       "Batches:   0%|          | 0/1 [00:00<?, ?it/s]"
      ]
     },
     "metadata": {},
     "output_type": "display_data"
    },
    {
     "data": {
      "application/vnd.jupyter.widget-view+json": {
       "model_id": "4fc1b5a90f6c43239802a5c421b15f98",
       "version_major": 2,
       "version_minor": 0
      },
      "text/plain": [
       "Batches:   0%|          | 0/1 [00:00<?, ?it/s]"
      ]
     },
     "metadata": {},
     "output_type": "display_data"
    },
    {
     "data": {
      "application/vnd.jupyter.widget-view+json": {
       "model_id": "40a4a5c27dde4cdfba1ff605b25218b9",
       "version_major": 2,
       "version_minor": 0
      },
      "text/plain": [
       "Batches:   0%|          | 0/1 [00:00<?, ?it/s]"
      ]
     },
     "metadata": {},
     "output_type": "display_data"
    },
    {
     "data": {
      "application/vnd.jupyter.widget-view+json": {
       "model_id": "d1341fb5c8ba4634a24b7250e40dfa25",
       "version_major": 2,
       "version_minor": 0
      },
      "text/plain": [
       "Batches:   0%|          | 0/1 [00:00<?, ?it/s]"
      ]
     },
     "metadata": {},
     "output_type": "display_data"
    },
    {
     "data": {
      "application/vnd.jupyter.widget-view+json": {
       "model_id": "a7968d1825e547d0b3deb3020f6fe118",
       "version_major": 2,
       "version_minor": 0
      },
      "text/plain": [
       "Batches:   0%|          | 0/1 [00:00<?, ?it/s]"
      ]
     },
     "metadata": {},
     "output_type": "display_data"
    },
    {
     "data": {
      "application/vnd.jupyter.widget-view+json": {
       "model_id": "742b91b6c59a4bc2b1e3045320c2cf6d",
       "version_major": 2,
       "version_minor": 0
      },
      "text/plain": [
       "Batches:   0%|          | 0/1 [00:00<?, ?it/s]"
      ]
     },
     "metadata": {},
     "output_type": "display_data"
    },
    {
     "data": {
      "application/vnd.jupyter.widget-view+json": {
       "model_id": "f8040e9bdabb49619e5133ca0237d38f",
       "version_major": 2,
       "version_minor": 0
      },
      "text/plain": [
       "Batches:   0%|          | 0/1 [00:00<?, ?it/s]"
      ]
     },
     "metadata": {},
     "output_type": "display_data"
    },
    {
     "data": {
      "application/vnd.jupyter.widget-view+json": {
       "model_id": "add55c877c91490a956d5b81b61a5b12",
       "version_major": 2,
       "version_minor": 0
      },
      "text/plain": [
       "Batches:   0%|          | 0/1 [00:00<?, ?it/s]"
      ]
     },
     "metadata": {},
     "output_type": "display_data"
    },
    {
     "data": {
      "application/vnd.jupyter.widget-view+json": {
       "model_id": "0eb93f5c95224c3b8305152ea4697b6a",
       "version_major": 2,
       "version_minor": 0
      },
      "text/plain": [
       "Batches:   0%|          | 0/1 [00:00<?, ?it/s]"
      ]
     },
     "metadata": {},
     "output_type": "display_data"
    },
    {
     "data": {
      "application/vnd.jupyter.widget-view+json": {
       "model_id": "340b87e11388426fa886fa42cb3684c8",
       "version_major": 2,
       "version_minor": 0
      },
      "text/plain": [
       "Batches:   0%|          | 0/1 [00:00<?, ?it/s]"
      ]
     },
     "metadata": {},
     "output_type": "display_data"
    },
    {
     "data": {
      "application/vnd.jupyter.widget-view+json": {
       "model_id": "74e9cb78900e49bdb978f09338490b7f",
       "version_major": 2,
       "version_minor": 0
      },
      "text/plain": [
       "Batches:   0%|          | 0/1 [00:00<?, ?it/s]"
      ]
     },
     "metadata": {},
     "output_type": "display_data"
    },
    {
     "data": {
      "application/vnd.jupyter.widget-view+json": {
       "model_id": "4a40983413824e24a119f965538c855b",
       "version_major": 2,
       "version_minor": 0
      },
      "text/plain": [
       "Batches:   0%|          | 0/1 [00:00<?, ?it/s]"
      ]
     },
     "metadata": {},
     "output_type": "display_data"
    },
    {
     "data": {
      "application/vnd.jupyter.widget-view+json": {
       "model_id": "2495c3cfaf6e4a57aeb08f3b066ec57e",
       "version_major": 2,
       "version_minor": 0
      },
      "text/plain": [
       "Batches:   0%|          | 0/1 [00:00<?, ?it/s]"
      ]
     },
     "metadata": {},
     "output_type": "display_data"
    },
    {
     "data": {
      "application/vnd.jupyter.widget-view+json": {
       "model_id": "874e133baf924936b037812e614e8c51",
       "version_major": 2,
       "version_minor": 0
      },
      "text/plain": [
       "Batches:   0%|          | 0/1 [00:00<?, ?it/s]"
      ]
     },
     "metadata": {},
     "output_type": "display_data"
    },
    {
     "data": {
      "application/vnd.jupyter.widget-view+json": {
       "model_id": "3e23d67db3984412bca1e4ab603b73e6",
       "version_major": 2,
       "version_minor": 0
      },
      "text/plain": [
       "Batches:   0%|          | 0/1 [00:00<?, ?it/s]"
      ]
     },
     "metadata": {},
     "output_type": "display_data"
    },
    {
     "data": {
      "application/vnd.jupyter.widget-view+json": {
       "model_id": "18d44adacf3a45a8a69823d9692a560c",
       "version_major": 2,
       "version_minor": 0
      },
      "text/plain": [
       "Batches:   0%|          | 0/1 [00:00<?, ?it/s]"
      ]
     },
     "metadata": {},
     "output_type": "display_data"
    },
    {
     "data": {
      "application/vnd.jupyter.widget-view+json": {
       "model_id": "8e633e583b904770a001ef56ee92866b",
       "version_major": 2,
       "version_minor": 0
      },
      "text/plain": [
       "Batches:   0%|          | 0/1 [00:00<?, ?it/s]"
      ]
     },
     "metadata": {},
     "output_type": "display_data"
    },
    {
     "data": {
      "application/vnd.jupyter.widget-view+json": {
       "model_id": "ab9a0c7358bb45d6a36af15b2f96419d",
       "version_major": 2,
       "version_minor": 0
      },
      "text/plain": [
       "Batches:   0%|          | 0/1 [00:00<?, ?it/s]"
      ]
     },
     "metadata": {},
     "output_type": "display_data"
    },
    {
     "data": {
      "application/vnd.jupyter.widget-view+json": {
       "model_id": "0d64fa198cc0446785e1005d377ff414",
       "version_major": 2,
       "version_minor": 0
      },
      "text/plain": [
       "Batches:   0%|          | 0/1 [00:00<?, ?it/s]"
      ]
     },
     "metadata": {},
     "output_type": "display_data"
    },
    {
     "data": {
      "application/vnd.jupyter.widget-view+json": {
       "model_id": "bddff66a3111499181daa1d127184e39",
       "version_major": 2,
       "version_minor": 0
      },
      "text/plain": [
       "Batches:   0%|          | 0/1 [00:00<?, ?it/s]"
      ]
     },
     "metadata": {},
     "output_type": "display_data"
    },
    {
     "data": {
      "application/vnd.jupyter.widget-view+json": {
       "model_id": "f269367522d44c12a032912f2ce2cef6",
       "version_major": 2,
       "version_minor": 0
      },
      "text/plain": [
       "Batches:   0%|          | 0/1 [00:00<?, ?it/s]"
      ]
     },
     "metadata": {},
     "output_type": "display_data"
    },
    {
     "data": {
      "application/vnd.jupyter.widget-view+json": {
       "model_id": "d8bf29ec92a24fb29972a2c7f780d8a3",
       "version_major": 2,
       "version_minor": 0
      },
      "text/plain": [
       "Batches:   0%|          | 0/1 [00:00<?, ?it/s]"
      ]
     },
     "metadata": {},
     "output_type": "display_data"
    },
    {
     "data": {
      "application/vnd.jupyter.widget-view+json": {
       "model_id": "4c321d15bf9941338badab18fc879c90",
       "version_major": 2,
       "version_minor": 0
      },
      "text/plain": [
       "Batches:   0%|          | 0/1 [00:00<?, ?it/s]"
      ]
     },
     "metadata": {},
     "output_type": "display_data"
    },
    {
     "data": {
      "application/vnd.jupyter.widget-view+json": {
       "model_id": "ccaaad01b18149ed91d36fab98da6c66",
       "version_major": 2,
       "version_minor": 0
      },
      "text/plain": [
       "Batches:   0%|          | 0/1 [00:00<?, ?it/s]"
      ]
     },
     "metadata": {},
     "output_type": "display_data"
    },
    {
     "data": {
      "application/vnd.jupyter.widget-view+json": {
       "model_id": "d21c2a27f8624d8fbb262f1596806ffc",
       "version_major": 2,
       "version_minor": 0
      },
      "text/plain": [
       "Batches:   0%|          | 0/1 [00:00<?, ?it/s]"
      ]
     },
     "metadata": {},
     "output_type": "display_data"
    },
    {
     "data": {
      "application/vnd.jupyter.widget-view+json": {
       "model_id": "bb1f401d9298434e9b6aa1d35caa3ffc",
       "version_major": 2,
       "version_minor": 0
      },
      "text/plain": [
       "Batches:   0%|          | 0/1 [00:00<?, ?it/s]"
      ]
     },
     "metadata": {},
     "output_type": "display_data"
    },
    {
     "data": {
      "application/vnd.jupyter.widget-view+json": {
       "model_id": "e66f2b2cd04c47ad85405c49b9ecc28c",
       "version_major": 2,
       "version_minor": 0
      },
      "text/plain": [
       "Batches:   0%|          | 0/1 [00:00<?, ?it/s]"
      ]
     },
     "metadata": {},
     "output_type": "display_data"
    },
    {
     "data": {
      "application/vnd.jupyter.widget-view+json": {
       "model_id": "88f1b7a4547f44fe97fdba92e8cffd87",
       "version_major": 2,
       "version_minor": 0
      },
      "text/plain": [
       "Batches:   0%|          | 0/1 [00:00<?, ?it/s]"
      ]
     },
     "metadata": {},
     "output_type": "display_data"
    },
    {
     "data": {
      "application/vnd.jupyter.widget-view+json": {
       "model_id": "445c271af08d4d7a9dc9418b763be68b",
       "version_major": 2,
       "version_minor": 0
      },
      "text/plain": [
       "Batches:   0%|          | 0/1 [00:00<?, ?it/s]"
      ]
     },
     "metadata": {},
     "output_type": "display_data"
    },
    {
     "data": {
      "application/vnd.jupyter.widget-view+json": {
       "model_id": "fc44056d0949488a932d209ad2800b2f",
       "version_major": 2,
       "version_minor": 0
      },
      "text/plain": [
       "Batches:   0%|          | 0/1 [00:00<?, ?it/s]"
      ]
     },
     "metadata": {},
     "output_type": "display_data"
    },
    {
     "data": {
      "application/vnd.jupyter.widget-view+json": {
       "model_id": "fd8c17f3b46c4892bfeefe645eafd4c2",
       "version_major": 2,
       "version_minor": 0
      },
      "text/plain": [
       "Batches:   0%|          | 0/1 [00:00<?, ?it/s]"
      ]
     },
     "metadata": {},
     "output_type": "display_data"
    },
    {
     "data": {
      "application/vnd.jupyter.widget-view+json": {
       "model_id": "0b58a133b889463498949827a147ab51",
       "version_major": 2,
       "version_minor": 0
      },
      "text/plain": [
       "Batches:   0%|          | 0/1 [00:00<?, ?it/s]"
      ]
     },
     "metadata": {},
     "output_type": "display_data"
    },
    {
     "data": {
      "application/vnd.jupyter.widget-view+json": {
       "model_id": "c72d40031643476182d666c2984c216a",
       "version_major": 2,
       "version_minor": 0
      },
      "text/plain": [
       "Batches:   0%|          | 0/1 [00:00<?, ?it/s]"
      ]
     },
     "metadata": {},
     "output_type": "display_data"
    },
    {
     "data": {
      "application/vnd.jupyter.widget-view+json": {
       "model_id": "80c2378b091e41078c9a303e92b041a3",
       "version_major": 2,
       "version_minor": 0
      },
      "text/plain": [
       "Batches:   0%|          | 0/1 [00:00<?, ?it/s]"
      ]
     },
     "metadata": {},
     "output_type": "display_data"
    },
    {
     "data": {
      "application/vnd.jupyter.widget-view+json": {
       "model_id": "faedb4b81ec0447b98e3f18c6a615b33",
       "version_major": 2,
       "version_minor": 0
      },
      "text/plain": [
       "Batches:   0%|          | 0/1 [00:00<?, ?it/s]"
      ]
     },
     "metadata": {},
     "output_type": "display_data"
    },
    {
     "data": {
      "application/vnd.jupyter.widget-view+json": {
       "model_id": "f0e5bafd727a490cb7f118130ba003c3",
       "version_major": 2,
       "version_minor": 0
      },
      "text/plain": [
       "Batches:   0%|          | 0/1 [00:00<?, ?it/s]"
      ]
     },
     "metadata": {},
     "output_type": "display_data"
    },
    {
     "data": {
      "application/vnd.jupyter.widget-view+json": {
       "model_id": "9f9fe7faef4b4481a87540a1d3c7d95e",
       "version_major": 2,
       "version_minor": 0
      },
      "text/plain": [
       "Batches:   0%|          | 0/1 [00:00<?, ?it/s]"
      ]
     },
     "metadata": {},
     "output_type": "display_data"
    },
    {
     "data": {
      "application/vnd.jupyter.widget-view+json": {
       "model_id": "30fb604c259f45c89a8d114d2fa1ac1c",
       "version_major": 2,
       "version_minor": 0
      },
      "text/plain": [
       "Batches:   0%|          | 0/1 [00:00<?, ?it/s]"
      ]
     },
     "metadata": {},
     "output_type": "display_data"
    },
    {
     "data": {
      "application/vnd.jupyter.widget-view+json": {
       "model_id": "17d8a75e24ea4e748e7da54220d0843d",
       "version_major": 2,
       "version_minor": 0
      },
      "text/plain": [
       "Batches:   0%|          | 0/1 [00:00<?, ?it/s]"
      ]
     },
     "metadata": {},
     "output_type": "display_data"
    },
    {
     "data": {
      "application/vnd.jupyter.widget-view+json": {
       "model_id": "6a5976dce5ea4669b7e4b951a9c65257",
       "version_major": 2,
       "version_minor": 0
      },
      "text/plain": [
       "Batches:   0%|          | 0/1 [00:00<?, ?it/s]"
      ]
     },
     "metadata": {},
     "output_type": "display_data"
    },
    {
     "data": {
      "application/vnd.jupyter.widget-view+json": {
       "model_id": "c185f19f020d4c2096a35a7193a6d8f8",
       "version_major": 2,
       "version_minor": 0
      },
      "text/plain": [
       "Batches:   0%|          | 0/1 [00:00<?, ?it/s]"
      ]
     },
     "metadata": {},
     "output_type": "display_data"
    },
    {
     "data": {
      "application/vnd.jupyter.widget-view+json": {
       "model_id": "3b405379fcec4dae8945f83b6943fc28",
       "version_major": 2,
       "version_minor": 0
      },
      "text/plain": [
       "Batches:   0%|          | 0/1 [00:00<?, ?it/s]"
      ]
     },
     "metadata": {},
     "output_type": "display_data"
    },
    {
     "data": {
      "application/vnd.jupyter.widget-view+json": {
       "model_id": "edc60edeba8a48d8ae3bdc9ad73014d2",
       "version_major": 2,
       "version_minor": 0
      },
      "text/plain": [
       "Batches:   0%|          | 0/1 [00:00<?, ?it/s]"
      ]
     },
     "metadata": {},
     "output_type": "display_data"
    },
    {
     "data": {
      "application/vnd.jupyter.widget-view+json": {
       "model_id": "981d5e4ab7c749b2aeab78ba834f6451",
       "version_major": 2,
       "version_minor": 0
      },
      "text/plain": [
       "Batches:   0%|          | 0/1 [00:00<?, ?it/s]"
      ]
     },
     "metadata": {},
     "output_type": "display_data"
    },
    {
     "data": {
      "application/vnd.jupyter.widget-view+json": {
       "model_id": "a9ef9b681b2d40d6a61a206fab524e61",
       "version_major": 2,
       "version_minor": 0
      },
      "text/plain": [
       "Batches:   0%|          | 0/1 [00:00<?, ?it/s]"
      ]
     },
     "metadata": {},
     "output_type": "display_data"
    },
    {
     "data": {
      "application/vnd.jupyter.widget-view+json": {
       "model_id": "ccf672ab269e4520b2f233232ec23d5c",
       "version_major": 2,
       "version_minor": 0
      },
      "text/plain": [
       "Batches:   0%|          | 0/1 [00:00<?, ?it/s]"
      ]
     },
     "metadata": {},
     "output_type": "display_data"
    },
    {
     "data": {
      "application/vnd.jupyter.widget-view+json": {
       "model_id": "1fce8f313aa44ae49fb19c3b2959d760",
       "version_major": 2,
       "version_minor": 0
      },
      "text/plain": [
       "Batches:   0%|          | 0/1 [00:00<?, ?it/s]"
      ]
     },
     "metadata": {},
     "output_type": "display_data"
    },
    {
     "data": {
      "application/vnd.jupyter.widget-view+json": {
       "model_id": "28d1e902788a47e9a1a2459a10d8ed22",
       "version_major": 2,
       "version_minor": 0
      },
      "text/plain": [
       "Batches:   0%|          | 0/1 [00:00<?, ?it/s]"
      ]
     },
     "metadata": {},
     "output_type": "display_data"
    },
    {
     "data": {
      "application/vnd.jupyter.widget-view+json": {
       "model_id": "67d851fb3b8745f9abeb5ecc450d4ebb",
       "version_major": 2,
       "version_minor": 0
      },
      "text/plain": [
       "Batches:   0%|          | 0/1 [00:00<?, ?it/s]"
      ]
     },
     "metadata": {},
     "output_type": "display_data"
    },
    {
     "data": {
      "application/vnd.jupyter.widget-view+json": {
       "model_id": "8623d6b98f574f9f84de41cd4eed5df9",
       "version_major": 2,
       "version_minor": 0
      },
      "text/plain": [
       "Batches:   0%|          | 0/1 [00:00<?, ?it/s]"
      ]
     },
     "metadata": {},
     "output_type": "display_data"
    },
    {
     "data": {
      "application/vnd.jupyter.widget-view+json": {
       "model_id": "e0770686a4fe41e2bcfb185ed9875580",
       "version_major": 2,
       "version_minor": 0
      },
      "text/plain": [
       "Batches:   0%|          | 0/1 [00:00<?, ?it/s]"
      ]
     },
     "metadata": {},
     "output_type": "display_data"
    },
    {
     "name": "stdout",
     "output_type": "stream",
     "text": [
      "   Processing 4/5: gai-esp_item001\n",
      "📄 Extracting content from: gai-esp_item001\n",
      "  ✅ Extracted: 23 sections, 182 paragraphs\n",
      "  📊 Document type: Policy document\n",
      "  🎯 Special elements: terms, references\n"
     ]
    },
    {
     "data": {
      "application/vnd.jupyter.widget-view+json": {
       "model_id": "5e1f5cb9c0b64de89443283e709509c3",
       "version_major": 2,
       "version_minor": 0
      },
      "text/plain": [
       "Batches:   0%|          | 0/1 [00:00<?, ?it/s]"
      ]
     },
     "metadata": {},
     "output_type": "display_data"
    },
    {
     "data": {
      "application/vnd.jupyter.widget-view+json": {
       "model_id": "e69360f4af45477eb79558d71cc5549f",
       "version_major": 2,
       "version_minor": 0
      },
      "text/plain": [
       "Batches:   0%|          | 0/1 [00:00<?, ?it/s]"
      ]
     },
     "metadata": {},
     "output_type": "display_data"
    },
    {
     "data": {
      "application/vnd.jupyter.widget-view+json": {
       "model_id": "32493e7b130644b89ee1ce358b78fdc0",
       "version_major": 2,
       "version_minor": 0
      },
      "text/plain": [
       "Batches:   0%|          | 0/1 [00:00<?, ?it/s]"
      ]
     },
     "metadata": {},
     "output_type": "display_data"
    },
    {
     "data": {
      "application/vnd.jupyter.widget-view+json": {
       "model_id": "4869ecf514e74deeb917466b32c4ca04",
       "version_major": 2,
       "version_minor": 0
      },
      "text/plain": [
       "Batches:   0%|          | 0/1 [00:00<?, ?it/s]"
      ]
     },
     "metadata": {},
     "output_type": "display_data"
    },
    {
     "data": {
      "application/vnd.jupyter.widget-view+json": {
       "model_id": "b37c68270e5249d18a7044e2d07fac84",
       "version_major": 2,
       "version_minor": 0
      },
      "text/plain": [
       "Batches:   0%|          | 0/1 [00:00<?, ?it/s]"
      ]
     },
     "metadata": {},
     "output_type": "display_data"
    },
    {
     "data": {
      "application/vnd.jupyter.widget-view+json": {
       "model_id": "d93f5d90a1ef492695a6de46663c40f1",
       "version_major": 2,
       "version_minor": 0
      },
      "text/plain": [
       "Batches:   0%|          | 0/1 [00:00<?, ?it/s]"
      ]
     },
     "metadata": {},
     "output_type": "display_data"
    },
    {
     "data": {
      "application/vnd.jupyter.widget-view+json": {
       "model_id": "c4ba5b8c589340af90f1423632bea99c",
       "version_major": 2,
       "version_minor": 0
      },
      "text/plain": [
       "Batches:   0%|          | 0/1 [00:00<?, ?it/s]"
      ]
     },
     "metadata": {},
     "output_type": "display_data"
    },
    {
     "data": {
      "application/vnd.jupyter.widget-view+json": {
       "model_id": "8320ec59cbf1487397c13027a7f5e2c1",
       "version_major": 2,
       "version_minor": 0
      },
      "text/plain": [
       "Batches:   0%|          | 0/1 [00:00<?, ?it/s]"
      ]
     },
     "metadata": {},
     "output_type": "display_data"
    },
    {
     "data": {
      "application/vnd.jupyter.widget-view+json": {
       "model_id": "a43af50371be42db9605359cc5eda78e",
       "version_major": 2,
       "version_minor": 0
      },
      "text/plain": [
       "Batches:   0%|          | 0/1 [00:00<?, ?it/s]"
      ]
     },
     "metadata": {},
     "output_type": "display_data"
    },
    {
     "data": {
      "application/vnd.jupyter.widget-view+json": {
       "model_id": "542373480cef4a83835456fa0a151477",
       "version_major": 2,
       "version_minor": 0
      },
      "text/plain": [
       "Batches:   0%|          | 0/1 [00:00<?, ?it/s]"
      ]
     },
     "metadata": {},
     "output_type": "display_data"
    },
    {
     "data": {
      "application/vnd.jupyter.widget-view+json": {
       "model_id": "034e9cb18c99402bb6741523ea0099d0",
       "version_major": 2,
       "version_minor": 0
      },
      "text/plain": [
       "Batches:   0%|          | 0/1 [00:00<?, ?it/s]"
      ]
     },
     "metadata": {},
     "output_type": "display_data"
    },
    {
     "data": {
      "application/vnd.jupyter.widget-view+json": {
       "model_id": "fefee8bd19cb4f97b52f807c60284719",
       "version_major": 2,
       "version_minor": 0
      },
      "text/plain": [
       "Batches:   0%|          | 0/1 [00:00<?, ?it/s]"
      ]
     },
     "metadata": {},
     "output_type": "display_data"
    },
    {
     "data": {
      "application/vnd.jupyter.widget-view+json": {
       "model_id": "fb116eef4d264fdd8d9f431b99c9a506",
       "version_major": 2,
       "version_minor": 0
      },
      "text/plain": [
       "Batches:   0%|          | 0/1 [00:00<?, ?it/s]"
      ]
     },
     "metadata": {},
     "output_type": "display_data"
    },
    {
     "data": {
      "application/vnd.jupyter.widget-view+json": {
       "model_id": "e8d3f5b7919749e2adc4dc299b7c961e",
       "version_major": 2,
       "version_minor": 0
      },
      "text/plain": [
       "Batches:   0%|          | 0/1 [00:00<?, ?it/s]"
      ]
     },
     "metadata": {},
     "output_type": "display_data"
    },
    {
     "data": {
      "application/vnd.jupyter.widget-view+json": {
       "model_id": "aadf8ecbdedb480daa3cbb230e00ba5e",
       "version_major": 2,
       "version_minor": 0
      },
      "text/plain": [
       "Batches:   0%|          | 0/1 [00:00<?, ?it/s]"
      ]
     },
     "metadata": {},
     "output_type": "display_data"
    },
    {
     "data": {
      "application/vnd.jupyter.widget-view+json": {
       "model_id": "a94c77c0209743f08ef6c58e90e0216d",
       "version_major": 2,
       "version_minor": 0
      },
      "text/plain": [
       "Batches:   0%|          | 0/1 [00:00<?, ?it/s]"
      ]
     },
     "metadata": {},
     "output_type": "display_data"
    },
    {
     "data": {
      "application/vnd.jupyter.widget-view+json": {
       "model_id": "a42cb543427e41fc94e4da46fa91c30a",
       "version_major": 2,
       "version_minor": 0
      },
      "text/plain": [
       "Batches:   0%|          | 0/1 [00:00<?, ?it/s]"
      ]
     },
     "metadata": {},
     "output_type": "display_data"
    },
    {
     "data": {
      "application/vnd.jupyter.widget-view+json": {
       "model_id": "877214cdab474b84a4e8391a0ff64ca3",
       "version_major": 2,
       "version_minor": 0
      },
      "text/plain": [
       "Batches:   0%|          | 0/1 [00:00<?, ?it/s]"
      ]
     },
     "metadata": {},
     "output_type": "display_data"
    },
    {
     "data": {
      "application/vnd.jupyter.widget-view+json": {
       "model_id": "0a5efcff72a446f9b9b609a7153d47bb",
       "version_major": 2,
       "version_minor": 0
      },
      "text/plain": [
       "Batches:   0%|          | 0/1 [00:00<?, ?it/s]"
      ]
     },
     "metadata": {},
     "output_type": "display_data"
    },
    {
     "data": {
      "application/vnd.jupyter.widget-view+json": {
       "model_id": "43c099a9b3e24a8093f71530d19c2d12",
       "version_major": 2,
       "version_minor": 0
      },
      "text/plain": [
       "Batches:   0%|          | 0/1 [00:00<?, ?it/s]"
      ]
     },
     "metadata": {},
     "output_type": "display_data"
    },
    {
     "data": {
      "application/vnd.jupyter.widget-view+json": {
       "model_id": "93700b33c71143a0a1278b68ec48ba8d",
       "version_major": 2,
       "version_minor": 0
      },
      "text/plain": [
       "Batches:   0%|          | 0/1 [00:00<?, ?it/s]"
      ]
     },
     "metadata": {},
     "output_type": "display_data"
    },
    {
     "data": {
      "application/vnd.jupyter.widget-view+json": {
       "model_id": "b75c145a070e4c0c9631ced56796f911",
       "version_major": 2,
       "version_minor": 0
      },
      "text/plain": [
       "Batches:   0%|          | 0/1 [00:00<?, ?it/s]"
      ]
     },
     "metadata": {},
     "output_type": "display_data"
    },
    {
     "data": {
      "application/vnd.jupyter.widget-view+json": {
       "model_id": "415addb8c0d644e085e4c07bb1a52e42",
       "version_major": 2,
       "version_minor": 0
      },
      "text/plain": [
       "Batches:   0%|          | 0/1 [00:00<?, ?it/s]"
      ]
     },
     "metadata": {},
     "output_type": "display_data"
    },
    {
     "data": {
      "application/vnd.jupyter.widget-view+json": {
       "model_id": "db0bb80910734f079e793a08dce7b2b1",
       "version_major": 2,
       "version_minor": 0
      },
      "text/plain": [
       "Batches:   0%|          | 0/1 [00:00<?, ?it/s]"
      ]
     },
     "metadata": {},
     "output_type": "display_data"
    },
    {
     "data": {
      "application/vnd.jupyter.widget-view+json": {
       "model_id": "8c845ae358b94009a8dac951e9373752",
       "version_major": 2,
       "version_minor": 0
      },
      "text/plain": [
       "Batches:   0%|          | 0/1 [00:00<?, ?it/s]"
      ]
     },
     "metadata": {},
     "output_type": "display_data"
    },
    {
     "data": {
      "application/vnd.jupyter.widget-view+json": {
       "model_id": "6ddef9247d584fcf8af216abc3af2921",
       "version_major": 2,
       "version_minor": 0
      },
      "text/plain": [
       "Batches:   0%|          | 0/1 [00:00<?, ?it/s]"
      ]
     },
     "metadata": {},
     "output_type": "display_data"
    },
    {
     "data": {
      "application/vnd.jupyter.widget-view+json": {
       "model_id": "b42097ca4c6641548ddfc8848170c806",
       "version_major": 2,
       "version_minor": 0
      },
      "text/plain": [
       "Batches:   0%|          | 0/1 [00:00<?, ?it/s]"
      ]
     },
     "metadata": {},
     "output_type": "display_data"
    },
    {
     "data": {
      "application/vnd.jupyter.widget-view+json": {
       "model_id": "54a204356f5b4e0c8d63ddaff4ce99c9",
       "version_major": 2,
       "version_minor": 0
      },
      "text/plain": [
       "Batches:   0%|          | 0/1 [00:00<?, ?it/s]"
      ]
     },
     "metadata": {},
     "output_type": "display_data"
    },
    {
     "data": {
      "application/vnd.jupyter.widget-view+json": {
       "model_id": "7d8e88800dfe4178b3c13cbde5096cbc",
       "version_major": 2,
       "version_minor": 0
      },
      "text/plain": [
       "Batches:   0%|          | 0/1 [00:00<?, ?it/s]"
      ]
     },
     "metadata": {},
     "output_type": "display_data"
    },
    {
     "data": {
      "application/vnd.jupyter.widget-view+json": {
       "model_id": "7b4a07f0004d47929fc08b19d8662a6b",
       "version_major": 2,
       "version_minor": 0
      },
      "text/plain": [
       "Batches:   0%|          | 0/1 [00:00<?, ?it/s]"
      ]
     },
     "metadata": {},
     "output_type": "display_data"
    },
    {
     "data": {
      "application/vnd.jupyter.widget-view+json": {
       "model_id": "3eef7ab1f41143669415aa9bb0ec35f4",
       "version_major": 2,
       "version_minor": 0
      },
      "text/plain": [
       "Batches:   0%|          | 0/1 [00:00<?, ?it/s]"
      ]
     },
     "metadata": {},
     "output_type": "display_data"
    },
    {
     "data": {
      "application/vnd.jupyter.widget-view+json": {
       "model_id": "372e8b08017547aea5c3721e31a820a3",
       "version_major": 2,
       "version_minor": 0
      },
      "text/plain": [
       "Batches:   0%|          | 0/1 [00:00<?, ?it/s]"
      ]
     },
     "metadata": {},
     "output_type": "display_data"
    },
    {
     "data": {
      "application/vnd.jupyter.widget-view+json": {
       "model_id": "de1511899d4c4cbc8953dfec7394d865",
       "version_major": 2,
       "version_minor": 0
      },
      "text/plain": [
       "Batches:   0%|          | 0/1 [00:00<?, ?it/s]"
      ]
     },
     "metadata": {},
     "output_type": "display_data"
    },
    {
     "data": {
      "application/vnd.jupyter.widget-view+json": {
       "model_id": "9aa86cdf3d2f4c648e2531e4033bc8a0",
       "version_major": 2,
       "version_minor": 0
      },
      "text/plain": [
       "Batches:   0%|          | 0/1 [00:00<?, ?it/s]"
      ]
     },
     "metadata": {},
     "output_type": "display_data"
    },
    {
     "data": {
      "application/vnd.jupyter.widget-view+json": {
       "model_id": "d9ab1b04ce844a19b2add93c1cb7841f",
       "version_major": 2,
       "version_minor": 0
      },
      "text/plain": [
       "Batches:   0%|          | 0/1 [00:00<?, ?it/s]"
      ]
     },
     "metadata": {},
     "output_type": "display_data"
    },
    {
     "data": {
      "application/vnd.jupyter.widget-view+json": {
       "model_id": "cda1c0b9d158406ea64c3d42331cc76a",
       "version_major": 2,
       "version_minor": 0
      },
      "text/plain": [
       "Batches:   0%|          | 0/1 [00:00<?, ?it/s]"
      ]
     },
     "metadata": {},
     "output_type": "display_data"
    },
    {
     "data": {
      "application/vnd.jupyter.widget-view+json": {
       "model_id": "bf022cc5427d47fbaf25716a14224f14",
       "version_major": 2,
       "version_minor": 0
      },
      "text/plain": [
       "Batches:   0%|          | 0/1 [00:00<?, ?it/s]"
      ]
     },
     "metadata": {},
     "output_type": "display_data"
    },
    {
     "data": {
      "application/vnd.jupyter.widget-view+json": {
       "model_id": "4ba74ad0666844cf8dddc25140f04e06",
       "version_major": 2,
       "version_minor": 0
      },
      "text/plain": [
       "Batches:   0%|          | 0/1 [00:00<?, ?it/s]"
      ]
     },
     "metadata": {},
     "output_type": "display_data"
    },
    {
     "data": {
      "application/vnd.jupyter.widget-view+json": {
       "model_id": "6165134847034f63bc523593761d1032",
       "version_major": 2,
       "version_minor": 0
      },
      "text/plain": [
       "Batches:   0%|          | 0/1 [00:00<?, ?it/s]"
      ]
     },
     "metadata": {},
     "output_type": "display_data"
    },
    {
     "data": {
      "application/vnd.jupyter.widget-view+json": {
       "model_id": "f3b0491b57694558adf9c678a549a706",
       "version_major": 2,
       "version_minor": 0
      },
      "text/plain": [
       "Batches:   0%|          | 0/1 [00:00<?, ?it/s]"
      ]
     },
     "metadata": {},
     "output_type": "display_data"
    },
    {
     "data": {
      "application/vnd.jupyter.widget-view+json": {
       "model_id": "ba7dbf203d924d70a54c9601386d6a00",
       "version_major": 2,
       "version_minor": 0
      },
      "text/plain": [
       "Batches:   0%|          | 0/1 [00:00<?, ?it/s]"
      ]
     },
     "metadata": {},
     "output_type": "display_data"
    },
    {
     "data": {
      "application/vnd.jupyter.widget-view+json": {
       "model_id": "31794a3120904e4c8e280268340a34a4",
       "version_major": 2,
       "version_minor": 0
      },
      "text/plain": [
       "Batches:   0%|          | 0/1 [00:00<?, ?it/s]"
      ]
     },
     "metadata": {},
     "output_type": "display_data"
    },
    {
     "data": {
      "application/vnd.jupyter.widget-view+json": {
       "model_id": "804709fecf4f4f479b45a9f8b6a0b9e9",
       "version_major": 2,
       "version_minor": 0
      },
      "text/plain": [
       "Batches:   0%|          | 0/1 [00:00<?, ?it/s]"
      ]
     },
     "metadata": {},
     "output_type": "display_data"
    },
    {
     "data": {
      "application/vnd.jupyter.widget-view+json": {
       "model_id": "fa80b8af18294b45bf4fe12acc8ac5bc",
       "version_major": 2,
       "version_minor": 0
      },
      "text/plain": [
       "Batches:   0%|          | 0/1 [00:00<?, ?it/s]"
      ]
     },
     "metadata": {},
     "output_type": "display_data"
    },
    {
     "data": {
      "application/vnd.jupyter.widget-view+json": {
       "model_id": "67e6e613fe3a444cacf49cf5e3d7f5a3",
       "version_major": 2,
       "version_minor": 0
      },
      "text/plain": [
       "Batches:   0%|          | 0/1 [00:00<?, ?it/s]"
      ]
     },
     "metadata": {},
     "output_type": "display_data"
    },
    {
     "data": {
      "application/vnd.jupyter.widget-view+json": {
       "model_id": "3c716ea9a44d40e1928907934ba86467",
       "version_major": 2,
       "version_minor": 0
      },
      "text/plain": [
       "Batches:   0%|          | 0/1 [00:00<?, ?it/s]"
      ]
     },
     "metadata": {},
     "output_type": "display_data"
    },
    {
     "data": {
      "application/vnd.jupyter.widget-view+json": {
       "model_id": "d07b98264fe8425181e9bb207dd23caf",
       "version_major": 2,
       "version_minor": 0
      },
      "text/plain": [
       "Batches:   0%|          | 0/1 [00:00<?, ?it/s]"
      ]
     },
     "metadata": {},
     "output_type": "display_data"
    },
    {
     "data": {
      "application/vnd.jupyter.widget-view+json": {
       "model_id": "d35c56ebfccd4a7ca6710eff76e7efe4",
       "version_major": 2,
       "version_minor": 0
      },
      "text/plain": [
       "Batches:   0%|          | 0/1 [00:00<?, ?it/s]"
      ]
     },
     "metadata": {},
     "output_type": "display_data"
    },
    {
     "data": {
      "application/vnd.jupyter.widget-view+json": {
       "model_id": "fd08a3c4525847f984a87500be21715d",
       "version_major": 2,
       "version_minor": 0
      },
      "text/plain": [
       "Batches:   0%|          | 0/1 [00:00<?, ?it/s]"
      ]
     },
     "metadata": {},
     "output_type": "display_data"
    },
    {
     "data": {
      "application/vnd.jupyter.widget-view+json": {
       "model_id": "ee6d4d72d912429f8b057f74264e4235",
       "version_major": 2,
       "version_minor": 0
      },
      "text/plain": [
       "Batches:   0%|          | 0/1 [00:00<?, ?it/s]"
      ]
     },
     "metadata": {},
     "output_type": "display_data"
    },
    {
     "data": {
      "application/vnd.jupyter.widget-view+json": {
       "model_id": "61a9fc82d69147ab8a0b7cf1aaa65438",
       "version_major": 2,
       "version_minor": 0
      },
      "text/plain": [
       "Batches:   0%|          | 0/1 [00:00<?, ?it/s]"
      ]
     },
     "metadata": {},
     "output_type": "display_data"
    },
    {
     "data": {
      "application/vnd.jupyter.widget-view+json": {
       "model_id": "6241b3c6ca564d5c8e386a732c226247",
       "version_major": 2,
       "version_minor": 0
      },
      "text/plain": [
       "Batches:   0%|          | 0/1 [00:00<?, ?it/s]"
      ]
     },
     "metadata": {},
     "output_type": "display_data"
    },
    {
     "data": {
      "application/vnd.jupyter.widget-view+json": {
       "model_id": "174926c150e648799cc807a8084fc69a",
       "version_major": 2,
       "version_minor": 0
      },
      "text/plain": [
       "Batches:   0%|          | 0/1 [00:00<?, ?it/s]"
      ]
     },
     "metadata": {},
     "output_type": "display_data"
    },
    {
     "data": {
      "application/vnd.jupyter.widget-view+json": {
       "model_id": "98df7e89552d46e686f8f4448f845bb6",
       "version_major": 2,
       "version_minor": 0
      },
      "text/plain": [
       "Batches:   0%|          | 0/1 [00:00<?, ?it/s]"
      ]
     },
     "metadata": {},
     "output_type": "display_data"
    },
    {
     "data": {
      "application/vnd.jupyter.widget-view+json": {
       "model_id": "9ed3743b53fa4caa82bce8cca18c93a7",
       "version_major": 2,
       "version_minor": 0
      },
      "text/plain": [
       "Batches:   0%|          | 0/1 [00:00<?, ?it/s]"
      ]
     },
     "metadata": {},
     "output_type": "display_data"
    },
    {
     "data": {
      "application/vnd.jupyter.widget-view+json": {
       "model_id": "54c88451a98747a6bb0278217cbb3b50",
       "version_major": 2,
       "version_minor": 0
      },
      "text/plain": [
       "Batches:   0%|          | 0/1 [00:00<?, ?it/s]"
      ]
     },
     "metadata": {},
     "output_type": "display_data"
    },
    {
     "data": {
      "application/vnd.jupyter.widget-view+json": {
       "model_id": "5ef3363ebda7471ca955a011a2c9daac",
       "version_major": 2,
       "version_minor": 0
      },
      "text/plain": [
       "Batches:   0%|          | 0/1 [00:00<?, ?it/s]"
      ]
     },
     "metadata": {},
     "output_type": "display_data"
    },
    {
     "data": {
      "application/vnd.jupyter.widget-view+json": {
       "model_id": "bdce2776311d446382d1e4a94aeee69e",
       "version_major": 2,
       "version_minor": 0
      },
      "text/plain": [
       "Batches:   0%|          | 0/1 [00:00<?, ?it/s]"
      ]
     },
     "metadata": {},
     "output_type": "display_data"
    },
    {
     "data": {
      "application/vnd.jupyter.widget-view+json": {
       "model_id": "bae9454b19e24524aa1c8b8a24004f21",
       "version_major": 2,
       "version_minor": 0
      },
      "text/plain": [
       "Batches:   0%|          | 0/1 [00:00<?, ?it/s]"
      ]
     },
     "metadata": {},
     "output_type": "display_data"
    },
    {
     "data": {
      "application/vnd.jupyter.widget-view+json": {
       "model_id": "0006999c89f148059865169a2e8c4b4f",
       "version_major": 2,
       "version_minor": 0
      },
      "text/plain": [
       "Batches:   0%|          | 0/1 [00:00<?, ?it/s]"
      ]
     },
     "metadata": {},
     "output_type": "display_data"
    },
    {
     "data": {
      "application/vnd.jupyter.widget-view+json": {
       "model_id": "c89844b6ffed4e9ca7cf9391e3f9d186",
       "version_major": 2,
       "version_minor": 0
      },
      "text/plain": [
       "Batches:   0%|          | 0/1 [00:00<?, ?it/s]"
      ]
     },
     "metadata": {},
     "output_type": "display_data"
    },
    {
     "data": {
      "application/vnd.jupyter.widget-view+json": {
       "model_id": "451db67b0ac6424aac30a6861190d832",
       "version_major": 2,
       "version_minor": 0
      },
      "text/plain": [
       "Batches:   0%|          | 0/1 [00:00<?, ?it/s]"
      ]
     },
     "metadata": {},
     "output_type": "display_data"
    },
    {
     "data": {
      "application/vnd.jupyter.widget-view+json": {
       "model_id": "1e3d5207ad7f4388acfd0c76c983776d",
       "version_major": 2,
       "version_minor": 0
      },
      "text/plain": [
       "Batches:   0%|          | 0/1 [00:00<?, ?it/s]"
      ]
     },
     "metadata": {},
     "output_type": "display_data"
    },
    {
     "data": {
      "application/vnd.jupyter.widget-view+json": {
       "model_id": "dc1448ccef7c4e7c841be44b7429b7de",
       "version_major": 2,
       "version_minor": 0
      },
      "text/plain": [
       "Batches:   0%|          | 0/1 [00:00<?, ?it/s]"
      ]
     },
     "metadata": {},
     "output_type": "display_data"
    },
    {
     "data": {
      "application/vnd.jupyter.widget-view+json": {
       "model_id": "84f4de227e7641e9ab0e24ed220a2cfa",
       "version_major": 2,
       "version_minor": 0
      },
      "text/plain": [
       "Batches:   0%|          | 0/1 [00:00<?, ?it/s]"
      ]
     },
     "metadata": {},
     "output_type": "display_data"
    },
    {
     "data": {
      "application/vnd.jupyter.widget-view+json": {
       "model_id": "d7f50b32765e4c97b081dd153508f029",
       "version_major": 2,
       "version_minor": 0
      },
      "text/plain": [
       "Batches:   0%|          | 0/1 [00:00<?, ?it/s]"
      ]
     },
     "metadata": {},
     "output_type": "display_data"
    },
    {
     "data": {
      "application/vnd.jupyter.widget-view+json": {
       "model_id": "7926025aeb904cc7b75dab38ee15b1a8",
       "version_major": 2,
       "version_minor": 0
      },
      "text/plain": [
       "Batches:   0%|          | 0/1 [00:00<?, ?it/s]"
      ]
     },
     "metadata": {},
     "output_type": "display_data"
    },
    {
     "data": {
      "application/vnd.jupyter.widget-view+json": {
       "model_id": "844b682559b64caeb9b6306326cda92a",
       "version_major": 2,
       "version_minor": 0
      },
      "text/plain": [
       "Batches:   0%|          | 0/1 [00:00<?, ?it/s]"
      ]
     },
     "metadata": {},
     "output_type": "display_data"
    },
    {
     "data": {
      "application/vnd.jupyter.widget-view+json": {
       "model_id": "f395b522a3034dc695497577bf58807a",
       "version_major": 2,
       "version_minor": 0
      },
      "text/plain": [
       "Batches:   0%|          | 0/1 [00:00<?, ?it/s]"
      ]
     },
     "metadata": {},
     "output_type": "display_data"
    },
    {
     "data": {
      "application/vnd.jupyter.widget-view+json": {
       "model_id": "a95a7b1643c44037bc2a39bee7cb3ad9",
       "version_major": 2,
       "version_minor": 0
      },
      "text/plain": [
       "Batches:   0%|          | 0/1 [00:00<?, ?it/s]"
      ]
     },
     "metadata": {},
     "output_type": "display_data"
    },
    {
     "data": {
      "application/vnd.jupyter.widget-view+json": {
       "model_id": "9eb4f4b0ec9644beb19d31b35f080693",
       "version_major": 2,
       "version_minor": 0
      },
      "text/plain": [
       "Batches:   0%|          | 0/1 [00:00<?, ?it/s]"
      ]
     },
     "metadata": {},
     "output_type": "display_data"
    },
    {
     "data": {
      "application/vnd.jupyter.widget-view+json": {
       "model_id": "d399a4a7301d42be87aa0bb87355e348",
       "version_major": 2,
       "version_minor": 0
      },
      "text/plain": [
       "Batches:   0%|          | 0/1 [00:00<?, ?it/s]"
      ]
     },
     "metadata": {},
     "output_type": "display_data"
    },
    {
     "data": {
      "application/vnd.jupyter.widget-view+json": {
       "model_id": "ba9370809e0448bfb28eb020c06864c2",
       "version_major": 2,
       "version_minor": 0
      },
      "text/plain": [
       "Batches:   0%|          | 0/1 [00:00<?, ?it/s]"
      ]
     },
     "metadata": {},
     "output_type": "display_data"
    },
    {
     "data": {
      "application/vnd.jupyter.widget-view+json": {
       "model_id": "cb3a3aa3dfd644c28385cf84284a0362",
       "version_major": 2,
       "version_minor": 0
      },
      "text/plain": [
       "Batches:   0%|          | 0/1 [00:00<?, ?it/s]"
      ]
     },
     "metadata": {},
     "output_type": "display_data"
    },
    {
     "data": {
      "application/vnd.jupyter.widget-view+json": {
       "model_id": "6b98c02131b74ca4b087e43a9b8d1d4f",
       "version_major": 2,
       "version_minor": 0
      },
      "text/plain": [
       "Batches:   0%|          | 0/1 [00:00<?, ?it/s]"
      ]
     },
     "metadata": {},
     "output_type": "display_data"
    },
    {
     "data": {
      "application/vnd.jupyter.widget-view+json": {
       "model_id": "af6622bd917f482b83cca895f0c56594",
       "version_major": 2,
       "version_minor": 0
      },
      "text/plain": [
       "Batches:   0%|          | 0/1 [00:00<?, ?it/s]"
      ]
     },
     "metadata": {},
     "output_type": "display_data"
    },
    {
     "data": {
      "application/vnd.jupyter.widget-view+json": {
       "model_id": "5e830b2f3db44d3a9ce27440bc360ba6",
       "version_major": 2,
       "version_minor": 0
      },
      "text/plain": [
       "Batches:   0%|          | 0/1 [00:00<?, ?it/s]"
      ]
     },
     "metadata": {},
     "output_type": "display_data"
    },
    {
     "data": {
      "application/vnd.jupyter.widget-view+json": {
       "model_id": "7e241cac57574253b3edef6ef046fe76",
       "version_major": 2,
       "version_minor": 0
      },
      "text/plain": [
       "Batches:   0%|          | 0/1 [00:00<?, ?it/s]"
      ]
     },
     "metadata": {},
     "output_type": "display_data"
    },
    {
     "data": {
      "application/vnd.jupyter.widget-view+json": {
       "model_id": "21c5f670eeed4d4faa03aa30c9a16e14",
       "version_major": 2,
       "version_minor": 0
      },
      "text/plain": [
       "Batches:   0%|          | 0/1 [00:00<?, ?it/s]"
      ]
     },
     "metadata": {},
     "output_type": "display_data"
    },
    {
     "data": {
      "application/vnd.jupyter.widget-view+json": {
       "model_id": "3d5daed5c8534aa39be24206f8196bf5",
       "version_major": 2,
       "version_minor": 0
      },
      "text/plain": [
       "Batches:   0%|          | 0/1 [00:00<?, ?it/s]"
      ]
     },
     "metadata": {},
     "output_type": "display_data"
    },
    {
     "data": {
      "application/vnd.jupyter.widget-view+json": {
       "model_id": "5cf690e9f12f4362902f58b35a442999",
       "version_major": 2,
       "version_minor": 0
      },
      "text/plain": [
       "Batches:   0%|          | 0/1 [00:00<?, ?it/s]"
      ]
     },
     "metadata": {},
     "output_type": "display_data"
    },
    {
     "data": {
      "application/vnd.jupyter.widget-view+json": {
       "model_id": "c77c48ec8e9c460eb3e112961e1c1a35",
       "version_major": 2,
       "version_minor": 0
      },
      "text/plain": [
       "Batches:   0%|          | 0/1 [00:00<?, ?it/s]"
      ]
     },
     "metadata": {},
     "output_type": "display_data"
    },
    {
     "data": {
      "application/vnd.jupyter.widget-view+json": {
       "model_id": "8f774ac099e04d399545bcc117533f9b",
       "version_major": 2,
       "version_minor": 0
      },
      "text/plain": [
       "Batches:   0%|          | 0/1 [00:00<?, ?it/s]"
      ]
     },
     "metadata": {},
     "output_type": "display_data"
    },
    {
     "data": {
      "application/vnd.jupyter.widget-view+json": {
       "model_id": "36f12821c089473ebf7c3182d6d2f1ed",
       "version_major": 2,
       "version_minor": 0
      },
      "text/plain": [
       "Batches:   0%|          | 0/1 [00:00<?, ?it/s]"
      ]
     },
     "metadata": {},
     "output_type": "display_data"
    },
    {
     "data": {
      "application/vnd.jupyter.widget-view+json": {
       "model_id": "4c2ac52ddba44b439ce35e5969fa6939",
       "version_major": 2,
       "version_minor": 0
      },
      "text/plain": [
       "Batches:   0%|          | 0/1 [00:00<?, ?it/s]"
      ]
     },
     "metadata": {},
     "output_type": "display_data"
    },
    {
     "data": {
      "application/vnd.jupyter.widget-view+json": {
       "model_id": "dfc8c19ae2784bc6b5a3ef53de737cfd",
       "version_major": 2,
       "version_minor": 0
      },
      "text/plain": [
       "Batches:   0%|          | 0/1 [00:00<?, ?it/s]"
      ]
     },
     "metadata": {},
     "output_type": "display_data"
    },
    {
     "data": {
      "application/vnd.jupyter.widget-view+json": {
       "model_id": "8dc3a66af2614bbd975d9b06f1577d76",
       "version_major": 2,
       "version_minor": 0
      },
      "text/plain": [
       "Batches:   0%|          | 0/1 [00:00<?, ?it/s]"
      ]
     },
     "metadata": {},
     "output_type": "display_data"
    },
    {
     "data": {
      "application/vnd.jupyter.widget-view+json": {
       "model_id": "0bef87ac11a44ef09904f2eaadc50072",
       "version_major": 2,
       "version_minor": 0
      },
      "text/plain": [
       "Batches:   0%|          | 0/1 [00:00<?, ?it/s]"
      ]
     },
     "metadata": {},
     "output_type": "display_data"
    },
    {
     "data": {
      "application/vnd.jupyter.widget-view+json": {
       "model_id": "d91d0f75a7da4cab8db2e596f8151545",
       "version_major": 2,
       "version_minor": 0
      },
      "text/plain": [
       "Batches:   0%|          | 0/1 [00:00<?, ?it/s]"
      ]
     },
     "metadata": {},
     "output_type": "display_data"
    },
    {
     "data": {
      "application/vnd.jupyter.widget-view+json": {
       "model_id": "5fc240eaaffb4f08a4c8f900e42ee495",
       "version_major": 2,
       "version_minor": 0
      },
      "text/plain": [
       "Batches:   0%|          | 0/1 [00:00<?, ?it/s]"
      ]
     },
     "metadata": {},
     "output_type": "display_data"
    },
    {
     "data": {
      "application/vnd.jupyter.widget-view+json": {
       "model_id": "ad055670ec33424d8774c7f06377f783",
       "version_major": 2,
       "version_minor": 0
      },
      "text/plain": [
       "Batches:   0%|          | 0/1 [00:00<?, ?it/s]"
      ]
     },
     "metadata": {},
     "output_type": "display_data"
    },
    {
     "data": {
      "application/vnd.jupyter.widget-view+json": {
       "model_id": "f654f70bc57845228892caaf5b508f55",
       "version_major": 2,
       "version_minor": 0
      },
      "text/plain": [
       "Batches:   0%|          | 0/1 [00:00<?, ?it/s]"
      ]
     },
     "metadata": {},
     "output_type": "display_data"
    },
    {
     "data": {
      "application/vnd.jupyter.widget-view+json": {
       "model_id": "9e6dd7739eb8437fb5143ad13d37ea8f",
       "version_major": 2,
       "version_minor": 0
      },
      "text/plain": [
       "Batches:   0%|          | 0/1 [00:00<?, ?it/s]"
      ]
     },
     "metadata": {},
     "output_type": "display_data"
    },
    {
     "data": {
      "application/vnd.jupyter.widget-view+json": {
       "model_id": "6d49c3d30a1a44ceb94b18392988e85c",
       "version_major": 2,
       "version_minor": 0
      },
      "text/plain": [
       "Batches:   0%|          | 0/1 [00:00<?, ?it/s]"
      ]
     },
     "metadata": {},
     "output_type": "display_data"
    },
    {
     "data": {
      "application/vnd.jupyter.widget-view+json": {
       "model_id": "38ee71efde8c47dda6c6a8d0eddbc688",
       "version_major": 2,
       "version_minor": 0
      },
      "text/plain": [
       "Batches:   0%|          | 0/1 [00:00<?, ?it/s]"
      ]
     },
     "metadata": {},
     "output_type": "display_data"
    },
    {
     "data": {
      "application/vnd.jupyter.widget-view+json": {
       "model_id": "ac45fe3ee37347f7931fddf195ef89f2",
       "version_major": 2,
       "version_minor": 0
      },
      "text/plain": [
       "Batches:   0%|          | 0/1 [00:00<?, ?it/s]"
      ]
     },
     "metadata": {},
     "output_type": "display_data"
    },
    {
     "data": {
      "application/vnd.jupyter.widget-view+json": {
       "model_id": "e756b7590a7d480db1cfd9cb31b4a102",
       "version_major": 2,
       "version_minor": 0
      },
      "text/plain": [
       "Batches:   0%|          | 0/1 [00:00<?, ?it/s]"
      ]
     },
     "metadata": {},
     "output_type": "display_data"
    },
    {
     "data": {
      "application/vnd.jupyter.widget-view+json": {
       "model_id": "52f97cd005f142d8935f719dd9464a1d",
       "version_major": 2,
       "version_minor": 0
      },
      "text/plain": [
       "Batches:   0%|          | 0/1 [00:00<?, ?it/s]"
      ]
     },
     "metadata": {},
     "output_type": "display_data"
    },
    {
     "data": {
      "application/vnd.jupyter.widget-view+json": {
       "model_id": "11c759311b8c422fbf1c6d7c795f0627",
       "version_major": 2,
       "version_minor": 0
      },
      "text/plain": [
       "Batches:   0%|          | 0/1 [00:00<?, ?it/s]"
      ]
     },
     "metadata": {},
     "output_type": "display_data"
    },
    {
     "data": {
      "application/vnd.jupyter.widget-view+json": {
       "model_id": "f127531c805e4de7ba94f4d84fd9fc0b",
       "version_major": 2,
       "version_minor": 0
      },
      "text/plain": [
       "Batches:   0%|          | 0/1 [00:00<?, ?it/s]"
      ]
     },
     "metadata": {},
     "output_type": "display_data"
    },
    {
     "data": {
      "application/vnd.jupyter.widget-view+json": {
       "model_id": "ede98d71e78a468eb7938c6c42176455",
       "version_major": 2,
       "version_minor": 0
      },
      "text/plain": [
       "Batches:   0%|          | 0/1 [00:00<?, ?it/s]"
      ]
     },
     "metadata": {},
     "output_type": "display_data"
    },
    {
     "data": {
      "application/vnd.jupyter.widget-view+json": {
       "model_id": "37d822ed440a40b8ba2ebc5a0e49722f",
       "version_major": 2,
       "version_minor": 0
      },
      "text/plain": [
       "Batches:   0%|          | 0/1 [00:00<?, ?it/s]"
      ]
     },
     "metadata": {},
     "output_type": "display_data"
    },
    {
     "data": {
      "application/vnd.jupyter.widget-view+json": {
       "model_id": "23f89919ee69451bab6c39e5250f7805",
       "version_major": 2,
       "version_minor": 0
      },
      "text/plain": [
       "Batches:   0%|          | 0/1 [00:00<?, ?it/s]"
      ]
     },
     "metadata": {},
     "output_type": "display_data"
    },
    {
     "data": {
      "application/vnd.jupyter.widget-view+json": {
       "model_id": "50c4bb27f6e44dd7abbf2fa1eb7f9463",
       "version_major": 2,
       "version_minor": 0
      },
      "text/plain": [
       "Batches:   0%|          | 0/1 [00:00<?, ?it/s]"
      ]
     },
     "metadata": {},
     "output_type": "display_data"
    },
    {
     "data": {
      "application/vnd.jupyter.widget-view+json": {
       "model_id": "b82f84201cb948568c4dac0f9c7be645",
       "version_major": 2,
       "version_minor": 0
      },
      "text/plain": [
       "Batches:   0%|          | 0/1 [00:00<?, ?it/s]"
      ]
     },
     "metadata": {},
     "output_type": "display_data"
    },
    {
     "data": {
      "application/vnd.jupyter.widget-view+json": {
       "model_id": "e0a4d08454dd4dd4ad64867d5df15440",
       "version_major": 2,
       "version_minor": 0
      },
      "text/plain": [
       "Batches:   0%|          | 0/1 [00:00<?, ?it/s]"
      ]
     },
     "metadata": {},
     "output_type": "display_data"
    },
    {
     "data": {
      "application/vnd.jupyter.widget-view+json": {
       "model_id": "bcc0d447c0cb4b5dbd6bc931eedb7841",
       "version_major": 2,
       "version_minor": 0
      },
      "text/plain": [
       "Batches:   0%|          | 0/1 [00:00<?, ?it/s]"
      ]
     },
     "metadata": {},
     "output_type": "display_data"
    },
    {
     "data": {
      "application/vnd.jupyter.widget-view+json": {
       "model_id": "78a79d14ea7549e0be6287aefb51290c",
       "version_major": 2,
       "version_minor": 0
      },
      "text/plain": [
       "Batches:   0%|          | 0/1 [00:00<?, ?it/s]"
      ]
     },
     "metadata": {},
     "output_type": "display_data"
    },
    {
     "data": {
      "application/vnd.jupyter.widget-view+json": {
       "model_id": "9a866b1a36ae47628549bc44dc42b6b2",
       "version_major": 2,
       "version_minor": 0
      },
      "text/plain": [
       "Batches:   0%|          | 0/1 [00:00<?, ?it/s]"
      ]
     },
     "metadata": {},
     "output_type": "display_data"
    },
    {
     "data": {
      "application/vnd.jupyter.widget-view+json": {
       "model_id": "200efadfa6ea44588d13e36fe8ee3602",
       "version_major": 2,
       "version_minor": 0
      },
      "text/plain": [
       "Batches:   0%|          | 0/1 [00:00<?, ?it/s]"
      ]
     },
     "metadata": {},
     "output_type": "display_data"
    },
    {
     "data": {
      "application/vnd.jupyter.widget-view+json": {
       "model_id": "aa89f9fcd39a4f2293b5c4aa94ffe9cc",
       "version_major": 2,
       "version_minor": 0
      },
      "text/plain": [
       "Batches:   0%|          | 0/1 [00:00<?, ?it/s]"
      ]
     },
     "metadata": {},
     "output_type": "display_data"
    },
    {
     "data": {
      "application/vnd.jupyter.widget-view+json": {
       "model_id": "3a29ead83b2343e7a0348e04d5f28071",
       "version_major": 2,
       "version_minor": 0
      },
      "text/plain": [
       "Batches:   0%|          | 0/1 [00:00<?, ?it/s]"
      ]
     },
     "metadata": {},
     "output_type": "display_data"
    },
    {
     "data": {
      "application/vnd.jupyter.widget-view+json": {
       "model_id": "1da01c12476e4e4a90ec81433b04970f",
       "version_major": 2,
       "version_minor": 0
      },
      "text/plain": [
       "Batches:   0%|          | 0/1 [00:00<?, ?it/s]"
      ]
     },
     "metadata": {},
     "output_type": "display_data"
    },
    {
     "data": {
      "application/vnd.jupyter.widget-view+json": {
       "model_id": "fdaf67afb2934b6783fad3af1a6c7fb0",
       "version_major": 2,
       "version_minor": 0
      },
      "text/plain": [
       "Batches:   0%|          | 0/1 [00:00<?, ?it/s]"
      ]
     },
     "metadata": {},
     "output_type": "display_data"
    },
    {
     "data": {
      "application/vnd.jupyter.widget-view+json": {
       "model_id": "76049fe3b6494f0c9df32ac1d03e298e",
       "version_major": 2,
       "version_minor": 0
      },
      "text/plain": [
       "Batches:   0%|          | 0/1 [00:00<?, ?it/s]"
      ]
     },
     "metadata": {},
     "output_type": "display_data"
    },
    {
     "data": {
      "application/vnd.jupyter.widget-view+json": {
       "model_id": "f87f67ab162f48669930160093249e8d",
       "version_major": 2,
       "version_minor": 0
      },
      "text/plain": [
       "Batches:   0%|          | 0/1 [00:00<?, ?it/s]"
      ]
     },
     "metadata": {},
     "output_type": "display_data"
    },
    {
     "data": {
      "application/vnd.jupyter.widget-view+json": {
       "model_id": "1c92958ab245409da3faaa313c4164b4",
       "version_major": 2,
       "version_minor": 0
      },
      "text/plain": [
       "Batches:   0%|          | 0/1 [00:00<?, ?it/s]"
      ]
     },
     "metadata": {},
     "output_type": "display_data"
    },
    {
     "data": {
      "application/vnd.jupyter.widget-view+json": {
       "model_id": "75b1e888f54449a194cdf2b58afa3bc6",
       "version_major": 2,
       "version_minor": 0
      },
      "text/plain": [
       "Batches:   0%|          | 0/1 [00:00<?, ?it/s]"
      ]
     },
     "metadata": {},
     "output_type": "display_data"
    },
    {
     "data": {
      "application/vnd.jupyter.widget-view+json": {
       "model_id": "12b21225c759460a8d27d0718f969682",
       "version_major": 2,
       "version_minor": 0
      },
      "text/plain": [
       "Batches:   0%|          | 0/1 [00:00<?, ?it/s]"
      ]
     },
     "metadata": {},
     "output_type": "display_data"
    },
    {
     "data": {
      "application/vnd.jupyter.widget-view+json": {
       "model_id": "a9366f96114d4b0ab818242502416876",
       "version_major": 2,
       "version_minor": 0
      },
      "text/plain": [
       "Batches:   0%|          | 0/1 [00:00<?, ?it/s]"
      ]
     },
     "metadata": {},
     "output_type": "display_data"
    },
    {
     "data": {
      "application/vnd.jupyter.widget-view+json": {
       "model_id": "cbfba85106b04e4e9b67b0057b8b4fbc",
       "version_major": 2,
       "version_minor": 0
      },
      "text/plain": [
       "Batches:   0%|          | 0/1 [00:00<?, ?it/s]"
      ]
     },
     "metadata": {},
     "output_type": "display_data"
    },
    {
     "data": {
      "application/vnd.jupyter.widget-view+json": {
       "model_id": "fbaeb7375c284df2b1358ea3049d84a9",
       "version_major": 2,
       "version_minor": 0
      },
      "text/plain": [
       "Batches:   0%|          | 0/1 [00:00<?, ?it/s]"
      ]
     },
     "metadata": {},
     "output_type": "display_data"
    },
    {
     "data": {
      "application/vnd.jupyter.widget-view+json": {
       "model_id": "be2f3f9cd69a4627bee568f572504745",
       "version_major": 2,
       "version_minor": 0
      },
      "text/plain": [
       "Batches:   0%|          | 0/1 [00:00<?, ?it/s]"
      ]
     },
     "metadata": {},
     "output_type": "display_data"
    },
    {
     "data": {
      "application/vnd.jupyter.widget-view+json": {
       "model_id": "50148de2f9a74ad786ce7dafe11ee86d",
       "version_major": 2,
       "version_minor": 0
      },
      "text/plain": [
       "Batches:   0%|          | 0/1 [00:00<?, ?it/s]"
      ]
     },
     "metadata": {},
     "output_type": "display_data"
    },
    {
     "data": {
      "application/vnd.jupyter.widget-view+json": {
       "model_id": "5d6d2c8fca2e405e9b1f1c6133038d34",
       "version_major": 2,
       "version_minor": 0
      },
      "text/plain": [
       "Batches:   0%|          | 0/1 [00:00<?, ?it/s]"
      ]
     },
     "metadata": {},
     "output_type": "display_data"
    },
    {
     "data": {
      "application/vnd.jupyter.widget-view+json": {
       "model_id": "80749f07b56e45d2981d16c1fb3a57c0",
       "version_major": 2,
       "version_minor": 0
      },
      "text/plain": [
       "Batches:   0%|          | 0/1 [00:00<?, ?it/s]"
      ]
     },
     "metadata": {},
     "output_type": "display_data"
    },
    {
     "data": {
      "application/vnd.jupyter.widget-view+json": {
       "model_id": "3d7bdfb662a14437830f16c4ae1f4162",
       "version_major": 2,
       "version_minor": 0
      },
      "text/plain": [
       "Batches:   0%|          | 0/1 [00:00<?, ?it/s]"
      ]
     },
     "metadata": {},
     "output_type": "display_data"
    },
    {
     "data": {
      "application/vnd.jupyter.widget-view+json": {
       "model_id": "1be91f3a3d4d47fea2363fd6a04c982f",
       "version_major": 2,
       "version_minor": 0
      },
      "text/plain": [
       "Batches:   0%|          | 0/1 [00:00<?, ?it/s]"
      ]
     },
     "metadata": {},
     "output_type": "display_data"
    },
    {
     "data": {
      "application/vnd.jupyter.widget-view+json": {
       "model_id": "2a19535f4c1b44da95db0bba138fb0bc",
       "version_major": 2,
       "version_minor": 0
      },
      "text/plain": [
       "Batches:   0%|          | 0/1 [00:00<?, ?it/s]"
      ]
     },
     "metadata": {},
     "output_type": "display_data"
    },
    {
     "data": {
      "application/vnd.jupyter.widget-view+json": {
       "model_id": "3e03b399edf24f0683cafa11d26ab9a3",
       "version_major": 2,
       "version_minor": 0
      },
      "text/plain": [
       "Batches:   0%|          | 0/1 [00:00<?, ?it/s]"
      ]
     },
     "metadata": {},
     "output_type": "display_data"
    },
    {
     "data": {
      "application/vnd.jupyter.widget-view+json": {
       "model_id": "c40ec535d8084694992b45e9f46bc472",
       "version_major": 2,
       "version_minor": 0
      },
      "text/plain": [
       "Batches:   0%|          | 0/1 [00:00<?, ?it/s]"
      ]
     },
     "metadata": {},
     "output_type": "display_data"
    },
    {
     "data": {
      "application/vnd.jupyter.widget-view+json": {
       "model_id": "85e81050ea4e4005a134801c9192e88a",
       "version_major": 2,
       "version_minor": 0
      },
      "text/plain": [
       "Batches:   0%|          | 0/1 [00:00<?, ?it/s]"
      ]
     },
     "metadata": {},
     "output_type": "display_data"
    },
    {
     "data": {
      "application/vnd.jupyter.widget-view+json": {
       "model_id": "eafb987ca9944152bfce12b504dd8d73",
       "version_major": 2,
       "version_minor": 0
      },
      "text/plain": [
       "Batches:   0%|          | 0/1 [00:00<?, ?it/s]"
      ]
     },
     "metadata": {},
     "output_type": "display_data"
    },
    {
     "data": {
      "application/vnd.jupyter.widget-view+json": {
       "model_id": "ae90974c429249458452b9f3a0cd3765",
       "version_major": 2,
       "version_minor": 0
      },
      "text/plain": [
       "Batches:   0%|          | 0/1 [00:00<?, ?it/s]"
      ]
     },
     "metadata": {},
     "output_type": "display_data"
    },
    {
     "data": {
      "application/vnd.jupyter.widget-view+json": {
       "model_id": "d49d18c09dc243d3b6c8ec40015453a4",
       "version_major": 2,
       "version_minor": 0
      },
      "text/plain": [
       "Batches:   0%|          | 0/1 [00:00<?, ?it/s]"
      ]
     },
     "metadata": {},
     "output_type": "display_data"
    },
    {
     "data": {
      "application/vnd.jupyter.widget-view+json": {
       "model_id": "c902dac7334948e2bf29d1022a5fb357",
       "version_major": 2,
       "version_minor": 0
      },
      "text/plain": [
       "Batches:   0%|          | 0/1 [00:00<?, ?it/s]"
      ]
     },
     "metadata": {},
     "output_type": "display_data"
    },
    {
     "data": {
      "application/vnd.jupyter.widget-view+json": {
       "model_id": "5d3ab9e1179944859db3f26f93a23189",
       "version_major": 2,
       "version_minor": 0
      },
      "text/plain": [
       "Batches:   0%|          | 0/1 [00:00<?, ?it/s]"
      ]
     },
     "metadata": {},
     "output_type": "display_data"
    },
    {
     "data": {
      "application/vnd.jupyter.widget-view+json": {
       "model_id": "c2f3a713998848e1839129d9f2c39ed2",
       "version_major": 2,
       "version_minor": 0
      },
      "text/plain": [
       "Batches:   0%|          | 0/1 [00:00<?, ?it/s]"
      ]
     },
     "metadata": {},
     "output_type": "display_data"
    },
    {
     "data": {
      "application/vnd.jupyter.widget-view+json": {
       "model_id": "dcc293d579e242dab5790a0f378304cc",
       "version_major": 2,
       "version_minor": 0
      },
      "text/plain": [
       "Batches:   0%|          | 0/1 [00:00<?, ?it/s]"
      ]
     },
     "metadata": {},
     "output_type": "display_data"
    },
    {
     "data": {
      "application/vnd.jupyter.widget-view+json": {
       "model_id": "d5fab9f4d77e4421b11c281a2e255c72",
       "version_major": 2,
       "version_minor": 0
      },
      "text/plain": [
       "Batches:   0%|          | 0/1 [00:00<?, ?it/s]"
      ]
     },
     "metadata": {},
     "output_type": "display_data"
    },
    {
     "data": {
      "application/vnd.jupyter.widget-view+json": {
       "model_id": "203a6ccdeb784e94902be43480cf46f0",
       "version_major": 2,
       "version_minor": 0
      },
      "text/plain": [
       "Batches:   0%|          | 0/1 [00:00<?, ?it/s]"
      ]
     },
     "metadata": {},
     "output_type": "display_data"
    },
    {
     "data": {
      "application/vnd.jupyter.widget-view+json": {
       "model_id": "9b4323fba5ee413e96d46d3fe678e8af",
       "version_major": 2,
       "version_minor": 0
      },
      "text/plain": [
       "Batches:   0%|          | 0/1 [00:00<?, ?it/s]"
      ]
     },
     "metadata": {},
     "output_type": "display_data"
    },
    {
     "data": {
      "application/vnd.jupyter.widget-view+json": {
       "model_id": "d2e18f1698214b6e9342a8cc0cd64313",
       "version_major": 2,
       "version_minor": 0
      },
      "text/plain": [
       "Batches:   0%|          | 0/1 [00:00<?, ?it/s]"
      ]
     },
     "metadata": {},
     "output_type": "display_data"
    },
    {
     "data": {
      "application/vnd.jupyter.widget-view+json": {
       "model_id": "b1f83c9d4aeb44e8be73d3586ef21762",
       "version_major": 2,
       "version_minor": 0
      },
      "text/plain": [
       "Batches:   0%|          | 0/1 [00:00<?, ?it/s]"
      ]
     },
     "metadata": {},
     "output_type": "display_data"
    },
    {
     "data": {
      "application/vnd.jupyter.widget-view+json": {
       "model_id": "da39b4abf472425cba37c88c3a08eea2",
       "version_major": 2,
       "version_minor": 0
      },
      "text/plain": [
       "Batches:   0%|          | 0/1 [00:00<?, ?it/s]"
      ]
     },
     "metadata": {},
     "output_type": "display_data"
    },
    {
     "data": {
      "application/vnd.jupyter.widget-view+json": {
       "model_id": "91d7bae9cc8e462c9dd75a24503606ad",
       "version_major": 2,
       "version_minor": 0
      },
      "text/plain": [
       "Batches:   0%|          | 0/1 [00:00<?, ?it/s]"
      ]
     },
     "metadata": {},
     "output_type": "display_data"
    },
    {
     "data": {
      "application/vnd.jupyter.widget-view+json": {
       "model_id": "4656befb654849dc96b11411e0d32c5e",
       "version_major": 2,
       "version_minor": 0
      },
      "text/plain": [
       "Batches:   0%|          | 0/1 [00:00<?, ?it/s]"
      ]
     },
     "metadata": {},
     "output_type": "display_data"
    },
    {
     "data": {
      "application/vnd.jupyter.widget-view+json": {
       "model_id": "48af9c083eac4d91875f9bfadaf312e4",
       "version_major": 2,
       "version_minor": 0
      },
      "text/plain": [
       "Batches:   0%|          | 0/1 [00:00<?, ?it/s]"
      ]
     },
     "metadata": {},
     "output_type": "display_data"
    },
    {
     "data": {
      "application/vnd.jupyter.widget-view+json": {
       "model_id": "8683a739224e42f6b5a601d3a032bbcc",
       "version_major": 2,
       "version_minor": 0
      },
      "text/plain": [
       "Batches:   0%|          | 0/1 [00:00<?, ?it/s]"
      ]
     },
     "metadata": {},
     "output_type": "display_data"
    },
    {
     "data": {
      "application/vnd.jupyter.widget-view+json": {
       "model_id": "5f74527c561848d9983a43254c3c3d5f",
       "version_major": 2,
       "version_minor": 0
      },
      "text/plain": [
       "Batches:   0%|          | 0/1 [00:00<?, ?it/s]"
      ]
     },
     "metadata": {},
     "output_type": "display_data"
    },
    {
     "data": {
      "application/vnd.jupyter.widget-view+json": {
       "model_id": "b4c242280e22470081a28bbfc0f404ad",
       "version_major": 2,
       "version_minor": 0
      },
      "text/plain": [
       "Batches:   0%|          | 0/1 [00:00<?, ?it/s]"
      ]
     },
     "metadata": {},
     "output_type": "display_data"
    },
    {
     "data": {
      "application/vnd.jupyter.widget-view+json": {
       "model_id": "bb121f267d204c6fa3895390c59504d1",
       "version_major": 2,
       "version_minor": 0
      },
      "text/plain": [
       "Batches:   0%|          | 0/1 [00:00<?, ?it/s]"
      ]
     },
     "metadata": {},
     "output_type": "display_data"
    },
    {
     "data": {
      "application/vnd.jupyter.widget-view+json": {
       "model_id": "087a8928f0f942baa91c98e1a802a944",
       "version_major": 2,
       "version_minor": 0
      },
      "text/plain": [
       "Batches:   0%|          | 0/1 [00:00<?, ?it/s]"
      ]
     },
     "metadata": {},
     "output_type": "display_data"
    },
    {
     "data": {
      "application/vnd.jupyter.widget-view+json": {
       "model_id": "d7cd8f59c7ee4928803e754c6b915904",
       "version_major": 2,
       "version_minor": 0
      },
      "text/plain": [
       "Batches:   0%|          | 0/1 [00:00<?, ?it/s]"
      ]
     },
     "metadata": {},
     "output_type": "display_data"
    },
    {
     "data": {
      "application/vnd.jupyter.widget-view+json": {
       "model_id": "a26b898f28d541a68c94ad6c8274d839",
       "version_major": 2,
       "version_minor": 0
      },
      "text/plain": [
       "Batches:   0%|          | 0/1 [00:00<?, ?it/s]"
      ]
     },
     "metadata": {},
     "output_type": "display_data"
    },
    {
     "data": {
      "application/vnd.jupyter.widget-view+json": {
       "model_id": "28aef8b75f324ac0bc7e379a328f2c53",
       "version_major": 2,
       "version_minor": 0
      },
      "text/plain": [
       "Batches:   0%|          | 0/1 [00:00<?, ?it/s]"
      ]
     },
     "metadata": {},
     "output_type": "display_data"
    },
    {
     "data": {
      "application/vnd.jupyter.widget-view+json": {
       "model_id": "c7e8d4534a6b4ee983e0f9a79c842c42",
       "version_major": 2,
       "version_minor": 0
      },
      "text/plain": [
       "Batches:   0%|          | 0/1 [00:00<?, ?it/s]"
      ]
     },
     "metadata": {},
     "output_type": "display_data"
    },
    {
     "data": {
      "application/vnd.jupyter.widget-view+json": {
       "model_id": "7f33124d561a4263a9c78bcd9ec0e482",
       "version_major": 2,
       "version_minor": 0
      },
      "text/plain": [
       "Batches:   0%|          | 0/1 [00:00<?, ?it/s]"
      ]
     },
     "metadata": {},
     "output_type": "display_data"
    },
    {
     "data": {
      "application/vnd.jupyter.widget-view+json": {
       "model_id": "7e260777cf6d4ef7960c31ec5a48a0fa",
       "version_major": 2,
       "version_minor": 0
      },
      "text/plain": [
       "Batches:   0%|          | 0/1 [00:00<?, ?it/s]"
      ]
     },
     "metadata": {},
     "output_type": "display_data"
    },
    {
     "data": {
      "application/vnd.jupyter.widget-view+json": {
       "model_id": "3cedc2a10d6a46019dc7c98c2c16567b",
       "version_major": 2,
       "version_minor": 0
      },
      "text/plain": [
       "Batches:   0%|          | 0/1 [00:00<?, ?it/s]"
      ]
     },
     "metadata": {},
     "output_type": "display_data"
    },
    {
     "data": {
      "application/vnd.jupyter.widget-view+json": {
       "model_id": "ada99d492a884355849ce091a9cdf063",
       "version_major": 2,
       "version_minor": 0
      },
      "text/plain": [
       "Batches:   0%|          | 0/1 [00:00<?, ?it/s]"
      ]
     },
     "metadata": {},
     "output_type": "display_data"
    },
    {
     "data": {
      "application/vnd.jupyter.widget-view+json": {
       "model_id": "24ca5480a6224e7d857992950227af5a",
       "version_major": 2,
       "version_minor": 0
      },
      "text/plain": [
       "Batches:   0%|          | 0/1 [00:00<?, ?it/s]"
      ]
     },
     "metadata": {},
     "output_type": "display_data"
    },
    {
     "data": {
      "application/vnd.jupyter.widget-view+json": {
       "model_id": "ced592b1c9bc4acdb819214ed2cdc4bc",
       "version_major": 2,
       "version_minor": 0
      },
      "text/plain": [
       "Batches:   0%|          | 0/1 [00:00<?, ?it/s]"
      ]
     },
     "metadata": {},
     "output_type": "display_data"
    },
    {
     "data": {
      "application/vnd.jupyter.widget-view+json": {
       "model_id": "cb71407184704504bb8e765ddb62d57d",
       "version_major": 2,
       "version_minor": 0
      },
      "text/plain": [
       "Batches:   0%|          | 0/1 [00:00<?, ?it/s]"
      ]
     },
     "metadata": {},
     "output_type": "display_data"
    },
    {
     "data": {
      "application/vnd.jupyter.widget-view+json": {
       "model_id": "a3bb2eb586844536a52c324e1e8dc70b",
       "version_major": 2,
       "version_minor": 0
      },
      "text/plain": [
       "Batches:   0%|          | 0/1 [00:00<?, ?it/s]"
      ]
     },
     "metadata": {},
     "output_type": "display_data"
    },
    {
     "data": {
      "application/vnd.jupyter.widget-view+json": {
       "model_id": "cc999ee710e04850afdc675cdc68fcad",
       "version_major": 2,
       "version_minor": 0
      },
      "text/plain": [
       "Batches:   0%|          | 0/1 [00:00<?, ?it/s]"
      ]
     },
     "metadata": {},
     "output_type": "display_data"
    },
    {
     "data": {
      "application/vnd.jupyter.widget-view+json": {
       "model_id": "9eec77bb94cb4d6e8e1623a3f6e89149",
       "version_major": 2,
       "version_minor": 0
      },
      "text/plain": [
       "Batches:   0%|          | 0/1 [00:00<?, ?it/s]"
      ]
     },
     "metadata": {},
     "output_type": "display_data"
    },
    {
     "data": {
      "application/vnd.jupyter.widget-view+json": {
       "model_id": "c5b520ab9ec54d589042edccbbbe0a44",
       "version_major": 2,
       "version_minor": 0
      },
      "text/plain": [
       "Batches:   0%|          | 0/1 [00:00<?, ?it/s]"
      ]
     },
     "metadata": {},
     "output_type": "display_data"
    },
    {
     "data": {
      "application/vnd.jupyter.widget-view+json": {
       "model_id": "26b1184a405a4e44a0bc4e09e81863f0",
       "version_major": 2,
       "version_minor": 0
      },
      "text/plain": [
       "Batches:   0%|          | 0/1 [00:00<?, ?it/s]"
      ]
     },
     "metadata": {},
     "output_type": "display_data"
    },
    {
     "data": {
      "application/vnd.jupyter.widget-view+json": {
       "model_id": "de2e86361ebf4e64b6154fa0fc3e66c3",
       "version_major": 2,
       "version_minor": 0
      },
      "text/plain": [
       "Batches:   0%|          | 0/1 [00:00<?, ?it/s]"
      ]
     },
     "metadata": {},
     "output_type": "display_data"
    },
    {
     "data": {
      "application/vnd.jupyter.widget-view+json": {
       "model_id": "f8cd052038354beb8b6b65e497e1c6b7",
       "version_major": 2,
       "version_minor": 0
      },
      "text/plain": [
       "Batches:   0%|          | 0/1 [00:00<?, ?it/s]"
      ]
     },
     "metadata": {},
     "output_type": "display_data"
    },
    {
     "data": {
      "application/vnd.jupyter.widget-view+json": {
       "model_id": "c20e46739a88490fa76e8b4d8c3269ee",
       "version_major": 2,
       "version_minor": 0
      },
      "text/plain": [
       "Batches:   0%|          | 0/1 [00:00<?, ?it/s]"
      ]
     },
     "metadata": {},
     "output_type": "display_data"
    },
    {
     "data": {
      "application/vnd.jupyter.widget-view+json": {
       "model_id": "b5543dcc87a64de18be9a964a8feec4d",
       "version_major": 2,
       "version_minor": 0
      },
      "text/plain": [
       "Batches:   0%|          | 0/1 [00:00<?, ?it/s]"
      ]
     },
     "metadata": {},
     "output_type": "display_data"
    },
    {
     "data": {
      "application/vnd.jupyter.widget-view+json": {
       "model_id": "8a59f0ce5f1b429cbcefb9b758bf696f",
       "version_major": 2,
       "version_minor": 0
      },
      "text/plain": [
       "Batches:   0%|          | 0/1 [00:00<?, ?it/s]"
      ]
     },
     "metadata": {},
     "output_type": "display_data"
    },
    {
     "data": {
      "application/vnd.jupyter.widget-view+json": {
       "model_id": "b42259ec2bf7474890a3211ba8a2caf2",
       "version_major": 2,
       "version_minor": 0
      },
      "text/plain": [
       "Batches:   0%|          | 0/1 [00:00<?, ?it/s]"
      ]
     },
     "metadata": {},
     "output_type": "display_data"
    },
    {
     "data": {
      "application/vnd.jupyter.widget-view+json": {
       "model_id": "5afe2559039a4ba4babf295569b03a7b",
       "version_major": 2,
       "version_minor": 0
      },
      "text/plain": [
       "Batches:   0%|          | 0/1 [00:00<?, ?it/s]"
      ]
     },
     "metadata": {},
     "output_type": "display_data"
    },
    {
     "data": {
      "application/vnd.jupyter.widget-view+json": {
       "model_id": "78646d8dd17548ff82f1e8d9a81e0006",
       "version_major": 2,
       "version_minor": 0
      },
      "text/plain": [
       "Batches:   0%|          | 0/1 [00:00<?, ?it/s]"
      ]
     },
     "metadata": {},
     "output_type": "display_data"
    },
    {
     "data": {
      "application/vnd.jupyter.widget-view+json": {
       "model_id": "bb9f95b9d96e43f98b908237cef5847c",
       "version_major": 2,
       "version_minor": 0
      },
      "text/plain": [
       "Batches:   0%|          | 0/1 [00:00<?, ?it/s]"
      ]
     },
     "metadata": {},
     "output_type": "display_data"
    },
    {
     "data": {
      "application/vnd.jupyter.widget-view+json": {
       "model_id": "8be7b813a7844aab82c70df8de251378",
       "version_major": 2,
       "version_minor": 0
      },
      "text/plain": [
       "Batches:   0%|          | 0/1 [00:00<?, ?it/s]"
      ]
     },
     "metadata": {},
     "output_type": "display_data"
    },
    {
     "data": {
      "application/vnd.jupyter.widget-view+json": {
       "model_id": "be2fff54530e453cbb28329046bbab03",
       "version_major": 2,
       "version_minor": 0
      },
      "text/plain": [
       "Batches:   0%|          | 0/1 [00:00<?, ?it/s]"
      ]
     },
     "metadata": {},
     "output_type": "display_data"
    },
    {
     "data": {
      "application/vnd.jupyter.widget-view+json": {
       "model_id": "84a336602d6f4ae1b91ac36018150be7",
       "version_major": 2,
       "version_minor": 0
      },
      "text/plain": [
       "Batches:   0%|          | 0/1 [00:00<?, ?it/s]"
      ]
     },
     "metadata": {},
     "output_type": "display_data"
    },
    {
     "data": {
      "application/vnd.jupyter.widget-view+json": {
       "model_id": "ead221f0b471404abcb3662e53e64203",
       "version_major": 2,
       "version_minor": 0
      },
      "text/plain": [
       "Batches:   0%|          | 0/1 [00:00<?, ?it/s]"
      ]
     },
     "metadata": {},
     "output_type": "display_data"
    },
    {
     "data": {
      "application/vnd.jupyter.widget-view+json": {
       "model_id": "810c2d93e81b4ce581218896e009e9fd",
       "version_major": 2,
       "version_minor": 0
      },
      "text/plain": [
       "Batches:   0%|          | 0/1 [00:00<?, ?it/s]"
      ]
     },
     "metadata": {},
     "output_type": "display_data"
    },
    {
     "data": {
      "application/vnd.jupyter.widget-view+json": {
       "model_id": "87f01fba2283419f8a8a606961fd047e",
       "version_major": 2,
       "version_minor": 0
      },
      "text/plain": [
       "Batches:   0%|          | 0/1 [00:00<?, ?it/s]"
      ]
     },
     "metadata": {},
     "output_type": "display_data"
    },
    {
     "data": {
      "application/vnd.jupyter.widget-view+json": {
       "model_id": "0fe34f658b0548b389e294ad0082e5a3",
       "version_major": 2,
       "version_minor": 0
      },
      "text/plain": [
       "Batches:   0%|          | 0/1 [00:00<?, ?it/s]"
      ]
     },
     "metadata": {},
     "output_type": "display_data"
    },
    {
     "data": {
      "application/vnd.jupyter.widget-view+json": {
       "model_id": "dabba88ea464459b81e886bc7492c3fc",
       "version_major": 2,
       "version_minor": 0
      },
      "text/plain": [
       "Batches:   0%|          | 0/1 [00:00<?, ?it/s]"
      ]
     },
     "metadata": {},
     "output_type": "display_data"
    },
    {
     "data": {
      "application/vnd.jupyter.widget-view+json": {
       "model_id": "c30941a5d7c94004bef59fba14379cf5",
       "version_major": 2,
       "version_minor": 0
      },
      "text/plain": [
       "Batches:   0%|          | 0/1 [00:00<?, ?it/s]"
      ]
     },
     "metadata": {},
     "output_type": "display_data"
    },
    {
     "data": {
      "application/vnd.jupyter.widget-view+json": {
       "model_id": "4edd5eb27d8747c89c32ac209a08582b",
       "version_major": 2,
       "version_minor": 0
      },
      "text/plain": [
       "Batches:   0%|          | 0/1 [00:00<?, ?it/s]"
      ]
     },
     "metadata": {},
     "output_type": "display_data"
    },
    {
     "data": {
      "application/vnd.jupyter.widget-view+json": {
       "model_id": "1203ee5e83924c63a755a7921632c394",
       "version_major": 2,
       "version_minor": 0
      },
      "text/plain": [
       "Batches:   0%|          | 0/1 [00:00<?, ?it/s]"
      ]
     },
     "metadata": {},
     "output_type": "display_data"
    },
    {
     "data": {
      "application/vnd.jupyter.widget-view+json": {
       "model_id": "72489f5a596f4162a0b345bc2c0396a4",
       "version_major": 2,
       "version_minor": 0
      },
      "text/plain": [
       "Batches:   0%|          | 0/1 [00:00<?, ?it/s]"
      ]
     },
     "metadata": {},
     "output_type": "display_data"
    },
    {
     "data": {
      "application/vnd.jupyter.widget-view+json": {
       "model_id": "21f5fdb0304f4b0988963db1c214b960",
       "version_major": 2,
       "version_minor": 0
      },
      "text/plain": [
       "Batches:   0%|          | 0/1 [00:00<?, ?it/s]"
      ]
     },
     "metadata": {},
     "output_type": "display_data"
    },
    {
     "data": {
      "application/vnd.jupyter.widget-view+json": {
       "model_id": "4f62a08a7d57478993fc304711ef9d72",
       "version_major": 2,
       "version_minor": 0
      },
      "text/plain": [
       "Batches:   0%|          | 0/1 [00:00<?, ?it/s]"
      ]
     },
     "metadata": {},
     "output_type": "display_data"
    },
    {
     "data": {
      "application/vnd.jupyter.widget-view+json": {
       "model_id": "1e70ccae6aa5493db7478349f9af8d96",
       "version_major": 2,
       "version_minor": 0
      },
      "text/plain": [
       "Batches:   0%|          | 0/1 [00:00<?, ?it/s]"
      ]
     },
     "metadata": {},
     "output_type": "display_data"
    },
    {
     "data": {
      "application/vnd.jupyter.widget-view+json": {
       "model_id": "8d7f6c76736c46e382e586f8f1ba8766",
       "version_major": 2,
       "version_minor": 0
      },
      "text/plain": [
       "Batches:   0%|          | 0/1 [00:00<?, ?it/s]"
      ]
     },
     "metadata": {},
     "output_type": "display_data"
    },
    {
     "data": {
      "application/vnd.jupyter.widget-view+json": {
       "model_id": "72c9c1458df74d018b1e5462f6428cdf",
       "version_major": 2,
       "version_minor": 0
      },
      "text/plain": [
       "Batches:   0%|          | 0/1 [00:00<?, ?it/s]"
      ]
     },
     "metadata": {},
     "output_type": "display_data"
    },
    {
     "data": {
      "application/vnd.jupyter.widget-view+json": {
       "model_id": "8fb0a938c4da448bb642243e9b83abe1",
       "version_major": 2,
       "version_minor": 0
      },
      "text/plain": [
       "Batches:   0%|          | 0/1 [00:00<?, ?it/s]"
      ]
     },
     "metadata": {},
     "output_type": "display_data"
    },
    {
     "data": {
      "application/vnd.jupyter.widget-view+json": {
       "model_id": "2e4228375bbd4210b6977c280547d5f5",
       "version_major": 2,
       "version_minor": 0
      },
      "text/plain": [
       "Batches:   0%|          | 0/1 [00:00<?, ?it/s]"
      ]
     },
     "metadata": {},
     "output_type": "display_data"
    },
    {
     "data": {
      "application/vnd.jupyter.widget-view+json": {
       "model_id": "731b659655e8493fbf24e3276b8bb354",
       "version_major": 2,
       "version_minor": 0
      },
      "text/plain": [
       "Batches:   0%|          | 0/1 [00:00<?, ?it/s]"
      ]
     },
     "metadata": {},
     "output_type": "display_data"
    },
    {
     "data": {
      "application/vnd.jupyter.widget-view+json": {
       "model_id": "5d1742e1da6349a08a0886782bba1b3c",
       "version_major": 2,
       "version_minor": 0
      },
      "text/plain": [
       "Batches:   0%|          | 0/1 [00:00<?, ?it/s]"
      ]
     },
     "metadata": {},
     "output_type": "display_data"
    },
    {
     "data": {
      "application/vnd.jupyter.widget-view+json": {
       "model_id": "698fbab3d1384c1db51db473145863ff",
       "version_major": 2,
       "version_minor": 0
      },
      "text/plain": [
       "Batches:   0%|          | 0/1 [00:00<?, ?it/s]"
      ]
     },
     "metadata": {},
     "output_type": "display_data"
    },
    {
     "data": {
      "application/vnd.jupyter.widget-view+json": {
       "model_id": "5c35492282d94ffa932cd2078b96d390",
       "version_major": 2,
       "version_minor": 0
      },
      "text/plain": [
       "Batches:   0%|          | 0/1 [00:00<?, ?it/s]"
      ]
     },
     "metadata": {},
     "output_type": "display_data"
    },
    {
     "data": {
      "application/vnd.jupyter.widget-view+json": {
       "model_id": "19d0f25ae8c34bf085167ccb4625824f",
       "version_major": 2,
       "version_minor": 0
      },
      "text/plain": [
       "Batches:   0%|          | 0/1 [00:00<?, ?it/s]"
      ]
     },
     "metadata": {},
     "output_type": "display_data"
    },
    {
     "data": {
      "application/vnd.jupyter.widget-view+json": {
       "model_id": "6b4336dd8e7b4d40845ec902dbb4d7e0",
       "version_major": 2,
       "version_minor": 0
      },
      "text/plain": [
       "Batches:   0%|          | 0/1 [00:00<?, ?it/s]"
      ]
     },
     "metadata": {},
     "output_type": "display_data"
    },
    {
     "data": {
      "application/vnd.jupyter.widget-view+json": {
       "model_id": "f84332637de74837a6ce92afae5c77cd",
       "version_major": 2,
       "version_minor": 0
      },
      "text/plain": [
       "Batches:   0%|          | 0/1 [00:00<?, ?it/s]"
      ]
     },
     "metadata": {},
     "output_type": "display_data"
    },
    {
     "data": {
      "application/vnd.jupyter.widget-view+json": {
       "model_id": "e87bf3d7c2494048881731f5095ece04",
       "version_major": 2,
       "version_minor": 0
      },
      "text/plain": [
       "Batches:   0%|          | 0/1 [00:00<?, ?it/s]"
      ]
     },
     "metadata": {},
     "output_type": "display_data"
    },
    {
     "data": {
      "application/vnd.jupyter.widget-view+json": {
       "model_id": "f0c48017dcf14bb39c51388f03a3af2c",
       "version_major": 2,
       "version_minor": 0
      },
      "text/plain": [
       "Batches:   0%|          | 0/1 [00:00<?, ?it/s]"
      ]
     },
     "metadata": {},
     "output_type": "display_data"
    },
    {
     "name": "stdout",
     "output_type": "stream",
     "text": [
      "   Processing 5/5: gai-esp_item002\n",
      "📄 Extracting content from: gai-esp_item002\n",
      "  ✅ Extracted: 7 sections, 40 paragraphs\n",
      "  📊 Document type: Journal article\n",
      "  🎯 Special elements: figures, references\n"
     ]
    },
    {
     "data": {
      "application/vnd.jupyter.widget-view+json": {
       "model_id": "a6ddcaeffbcd43c099b6d5528299e77a",
       "version_major": 2,
       "version_minor": 0
      },
      "text/plain": [
       "Batches:   0%|          | 0/1 [00:00<?, ?it/s]"
      ]
     },
     "metadata": {},
     "output_type": "display_data"
    },
    {
     "data": {
      "application/vnd.jupyter.widget-view+json": {
       "model_id": "92f398d858844141889a7a1a4e65c143",
       "version_major": 2,
       "version_minor": 0
      },
      "text/plain": [
       "Batches:   0%|          | 0/1 [00:00<?, ?it/s]"
      ]
     },
     "metadata": {},
     "output_type": "display_data"
    },
    {
     "data": {
      "application/vnd.jupyter.widget-view+json": {
       "model_id": "cdee82f3387d433d888045206a879603",
       "version_major": 2,
       "version_minor": 0
      },
      "text/plain": [
       "Batches:   0%|          | 0/1 [00:00<?, ?it/s]"
      ]
     },
     "metadata": {},
     "output_type": "display_data"
    },
    {
     "data": {
      "application/vnd.jupyter.widget-view+json": {
       "model_id": "9bbba859820b47348a6d4597bc3ac185",
       "version_major": 2,
       "version_minor": 0
      },
      "text/plain": [
       "Batches:   0%|          | 0/1 [00:00<?, ?it/s]"
      ]
     },
     "metadata": {},
     "output_type": "display_data"
    },
    {
     "data": {
      "application/vnd.jupyter.widget-view+json": {
       "model_id": "16957d7f988e4bdfa66b81432a8eb3ad",
       "version_major": 2,
       "version_minor": 0
      },
      "text/plain": [
       "Batches:   0%|          | 0/1 [00:00<?, ?it/s]"
      ]
     },
     "metadata": {},
     "output_type": "display_data"
    },
    {
     "data": {
      "application/vnd.jupyter.widget-view+json": {
       "model_id": "fee4e13e489e41d1a427cb3bcd747d6b",
       "version_major": 2,
       "version_minor": 0
      },
      "text/plain": [
       "Batches:   0%|          | 0/1 [00:00<?, ?it/s]"
      ]
     },
     "metadata": {},
     "output_type": "display_data"
    },
    {
     "data": {
      "application/vnd.jupyter.widget-view+json": {
       "model_id": "efe241df1ba149f5aed9974d16fece35",
       "version_major": 2,
       "version_minor": 0
      },
      "text/plain": [
       "Batches:   0%|          | 0/1 [00:00<?, ?it/s]"
      ]
     },
     "metadata": {},
     "output_type": "display_data"
    },
    {
     "data": {
      "application/vnd.jupyter.widget-view+json": {
       "model_id": "91a5bdb5371d41cca8951b059cc540e7",
       "version_major": 2,
       "version_minor": 0
      },
      "text/plain": [
       "Batches:   0%|          | 0/1 [00:00<?, ?it/s]"
      ]
     },
     "metadata": {},
     "output_type": "display_data"
    },
    {
     "data": {
      "application/vnd.jupyter.widget-view+json": {
       "model_id": "2aa4867304e249e484717ccf62f6624a",
       "version_major": 2,
       "version_minor": 0
      },
      "text/plain": [
       "Batches:   0%|          | 0/1 [00:00<?, ?it/s]"
      ]
     },
     "metadata": {},
     "output_type": "display_data"
    },
    {
     "data": {
      "application/vnd.jupyter.widget-view+json": {
       "model_id": "a5605aefc34545c2a738a1a3c8a8b298",
       "version_major": 2,
       "version_minor": 0
      },
      "text/plain": [
       "Batches:   0%|          | 0/1 [00:00<?, ?it/s]"
      ]
     },
     "metadata": {},
     "output_type": "display_data"
    },
    {
     "data": {
      "application/vnd.jupyter.widget-view+json": {
       "model_id": "250825aab1db4d538bc4dee137372ace",
       "version_major": 2,
       "version_minor": 0
      },
      "text/plain": [
       "Batches:   0%|          | 0/1 [00:00<?, ?it/s]"
      ]
     },
     "metadata": {},
     "output_type": "display_data"
    },
    {
     "data": {
      "application/vnd.jupyter.widget-view+json": {
       "model_id": "f9710372985848ca98ba9b9f28ac0090",
       "version_major": 2,
       "version_minor": 0
      },
      "text/plain": [
       "Batches:   0%|          | 0/1 [00:00<?, ?it/s]"
      ]
     },
     "metadata": {},
     "output_type": "display_data"
    },
    {
     "data": {
      "application/vnd.jupyter.widget-view+json": {
       "model_id": "5dbe77634ff5404481dc35e6ca762d94",
       "version_major": 2,
       "version_minor": 0
      },
      "text/plain": [
       "Batches:   0%|          | 0/1 [00:00<?, ?it/s]"
      ]
     },
     "metadata": {},
     "output_type": "display_data"
    },
    {
     "data": {
      "application/vnd.jupyter.widget-view+json": {
       "model_id": "8fe9a50afd1e4224931f3de05a05f89f",
       "version_major": 2,
       "version_minor": 0
      },
      "text/plain": [
       "Batches:   0%|          | 0/1 [00:00<?, ?it/s]"
      ]
     },
     "metadata": {},
     "output_type": "display_data"
    },
    {
     "data": {
      "application/vnd.jupyter.widget-view+json": {
       "model_id": "8a0fcd7bcbc749c19cae04f94ba5c96e",
       "version_major": 2,
       "version_minor": 0
      },
      "text/plain": [
       "Batches:   0%|          | 0/1 [00:00<?, ?it/s]"
      ]
     },
     "metadata": {},
     "output_type": "display_data"
    },
    {
     "data": {
      "application/vnd.jupyter.widget-view+json": {
       "model_id": "22bdadec5fa34beb8ac55a6bbe3f4b73",
       "version_major": 2,
       "version_minor": 0
      },
      "text/plain": [
       "Batches:   0%|          | 0/1 [00:00<?, ?it/s]"
      ]
     },
     "metadata": {},
     "output_type": "display_data"
    },
    {
     "data": {
      "application/vnd.jupyter.widget-view+json": {
       "model_id": "6d372b15f1bc44b0be41b54da480146f",
       "version_major": 2,
       "version_minor": 0
      },
      "text/plain": [
       "Batches:   0%|          | 0/1 [00:00<?, ?it/s]"
      ]
     },
     "metadata": {},
     "output_type": "display_data"
    },
    {
     "data": {
      "application/vnd.jupyter.widget-view+json": {
       "model_id": "f86bf25d8f7846a0bc70f8f968e5d211",
       "version_major": 2,
       "version_minor": 0
      },
      "text/plain": [
       "Batches:   0%|          | 0/1 [00:00<?, ?it/s]"
      ]
     },
     "metadata": {},
     "output_type": "display_data"
    },
    {
     "data": {
      "application/vnd.jupyter.widget-view+json": {
       "model_id": "f25c268aa2934cc49229f8310c450364",
       "version_major": 2,
       "version_minor": 0
      },
      "text/plain": [
       "Batches:   0%|          | 0/1 [00:00<?, ?it/s]"
      ]
     },
     "metadata": {},
     "output_type": "display_data"
    },
    {
     "data": {
      "application/vnd.jupyter.widget-view+json": {
       "model_id": "c01eed5206fc49d596028fcaa407cc88",
       "version_major": 2,
       "version_minor": 0
      },
      "text/plain": [
       "Batches:   0%|          | 0/1 [00:00<?, ?it/s]"
      ]
     },
     "metadata": {},
     "output_type": "display_data"
    },
    {
     "data": {
      "application/vnd.jupyter.widget-view+json": {
       "model_id": "a2179aed1e784fce8a22412bb60e476f",
       "version_major": 2,
       "version_minor": 0
      },
      "text/plain": [
       "Batches:   0%|          | 0/1 [00:00<?, ?it/s]"
      ]
     },
     "metadata": {},
     "output_type": "display_data"
    },
    {
     "data": {
      "application/vnd.jupyter.widget-view+json": {
       "model_id": "bebad8a5eb99476986f8c22535bff052",
       "version_major": 2,
       "version_minor": 0
      },
      "text/plain": [
       "Batches:   0%|          | 0/1 [00:00<?, ?it/s]"
      ]
     },
     "metadata": {},
     "output_type": "display_data"
    },
    {
     "data": {
      "application/vnd.jupyter.widget-view+json": {
       "model_id": "562f5efaab6844a680681f908039ddfb",
       "version_major": 2,
       "version_minor": 0
      },
      "text/plain": [
       "Batches:   0%|          | 0/1 [00:00<?, ?it/s]"
      ]
     },
     "metadata": {},
     "output_type": "display_data"
    },
    {
     "data": {
      "application/vnd.jupyter.widget-view+json": {
       "model_id": "4cbb5a1f5972475ebdd5d25f9a9f6c02",
       "version_major": 2,
       "version_minor": 0
      },
      "text/plain": [
       "Batches:   0%|          | 0/1 [00:00<?, ?it/s]"
      ]
     },
     "metadata": {},
     "output_type": "display_data"
    },
    {
     "data": {
      "application/vnd.jupyter.widget-view+json": {
       "model_id": "73bbe582c8464c7f962e750d340a2b2c",
       "version_major": 2,
       "version_minor": 0
      },
      "text/plain": [
       "Batches:   0%|          | 0/1 [00:00<?, ?it/s]"
      ]
     },
     "metadata": {},
     "output_type": "display_data"
    },
    {
     "data": {
      "application/vnd.jupyter.widget-view+json": {
       "model_id": "f50061a3dfcc475cb762e914f8207ccd",
       "version_major": 2,
       "version_minor": 0
      },
      "text/plain": [
       "Batches:   0%|          | 0/1 [00:00<?, ?it/s]"
      ]
     },
     "metadata": {},
     "output_type": "display_data"
    },
    {
     "data": {
      "application/vnd.jupyter.widget-view+json": {
       "model_id": "f2022eaa28f94fd79a84431a2fd93fe2",
       "version_major": 2,
       "version_minor": 0
      },
      "text/plain": [
       "Batches:   0%|          | 0/1 [00:00<?, ?it/s]"
      ]
     },
     "metadata": {},
     "output_type": "display_data"
    },
    {
     "data": {
      "application/vnd.jupyter.widget-view+json": {
       "model_id": "c28925952be34b89b35485c6c3ce87e3",
       "version_major": 2,
       "version_minor": 0
      },
      "text/plain": [
       "Batches:   0%|          | 0/1 [00:00<?, ?it/s]"
      ]
     },
     "metadata": {},
     "output_type": "display_data"
    },
    {
     "data": {
      "application/vnd.jupyter.widget-view+json": {
       "model_id": "55fcdef2fc7f44d2a91f3aae730cfeaf",
       "version_major": 2,
       "version_minor": 0
      },
      "text/plain": [
       "Batches:   0%|          | 0/1 [00:00<?, ?it/s]"
      ]
     },
     "metadata": {},
     "output_type": "display_data"
    },
    {
     "data": {
      "application/vnd.jupyter.widget-view+json": {
       "model_id": "26a8f20a71a64232a7db7b88ebb70278",
       "version_major": 2,
       "version_minor": 0
      },
      "text/plain": [
       "Batches:   0%|          | 0/1 [00:00<?, ?it/s]"
      ]
     },
     "metadata": {},
     "output_type": "display_data"
    },
    {
     "data": {
      "application/vnd.jupyter.widget-view+json": {
       "model_id": "f29a2ac63c544395ae523cf8ed85f019",
       "version_major": 2,
       "version_minor": 0
      },
      "text/plain": [
       "Batches:   0%|          | 0/1 [00:00<?, ?it/s]"
      ]
     },
     "metadata": {},
     "output_type": "display_data"
    },
    {
     "data": {
      "application/vnd.jupyter.widget-view+json": {
       "model_id": "a29ae7403ebf4a6aa6a8af5761f78890",
       "version_major": 2,
       "version_minor": 0
      },
      "text/plain": [
       "Batches:   0%|          | 0/1 [00:00<?, ?it/s]"
      ]
     },
     "metadata": {},
     "output_type": "display_data"
    },
    {
     "data": {
      "application/vnd.jupyter.widget-view+json": {
       "model_id": "97c6139b9a984ef8bab60e19e7435c0e",
       "version_major": 2,
       "version_minor": 0
      },
      "text/plain": [
       "Batches:   0%|          | 0/1 [00:00<?, ?it/s]"
      ]
     },
     "metadata": {},
     "output_type": "display_data"
    },
    {
     "data": {
      "application/vnd.jupyter.widget-view+json": {
       "model_id": "7e5ed7e0e3564bb8baac58af5f970bc1",
       "version_major": 2,
       "version_minor": 0
      },
      "text/plain": [
       "Batches:   0%|          | 0/1 [00:00<?, ?it/s]"
      ]
     },
     "metadata": {},
     "output_type": "display_data"
    },
    {
     "data": {
      "application/vnd.jupyter.widget-view+json": {
       "model_id": "54a2a63479ee404487d3f07b3f81b9e0",
       "version_major": 2,
       "version_minor": 0
      },
      "text/plain": [
       "Batches:   0%|          | 0/1 [00:00<?, ?it/s]"
      ]
     },
     "metadata": {},
     "output_type": "display_data"
    },
    {
     "data": {
      "application/vnd.jupyter.widget-view+json": {
       "model_id": "8cdafcf3644d41c69cf6e6966bcbdd1d",
       "version_major": 2,
       "version_minor": 0
      },
      "text/plain": [
       "Batches:   0%|          | 0/1 [00:00<?, ?it/s]"
      ]
     },
     "metadata": {},
     "output_type": "display_data"
    },
    {
     "data": {
      "application/vnd.jupyter.widget-view+json": {
       "model_id": "8510eac641e9450192d69ec4eca80ec3",
       "version_major": 2,
       "version_minor": 0
      },
      "text/plain": [
       "Batches:   0%|          | 0/1 [00:00<?, ?it/s]"
      ]
     },
     "metadata": {},
     "output_type": "display_data"
    },
    {
     "data": {
      "application/vnd.jupyter.widget-view+json": {
       "model_id": "2dfb0621f5ce4febb0a2bc5f8a16d24e",
       "version_major": 2,
       "version_minor": 0
      },
      "text/plain": [
       "Batches:   0%|          | 0/1 [00:00<?, ?it/s]"
      ]
     },
     "metadata": {},
     "output_type": "display_data"
    },
    {
     "data": {
      "application/vnd.jupyter.widget-view+json": {
       "model_id": "92343dd70ff649bba5b2d338bdca6dac",
       "version_major": 2,
       "version_minor": 0
      },
      "text/plain": [
       "Batches:   0%|          | 0/1 [00:00<?, ?it/s]"
      ]
     },
     "metadata": {},
     "output_type": "display_data"
    },
    {
     "data": {
      "application/vnd.jupyter.widget-view+json": {
       "model_id": "d526c10abb0e4866bfc7ee6ad4f4f0d3",
       "version_major": 2,
       "version_minor": 0
      },
      "text/plain": [
       "Batches:   0%|          | 0/1 [00:00<?, ?it/s]"
      ]
     },
     "metadata": {},
     "output_type": "display_data"
    },
    {
     "data": {
      "application/vnd.jupyter.widget-view+json": {
       "model_id": "2091908da8044449b3efcbef9b1e2b69",
       "version_major": 2,
       "version_minor": 0
      },
      "text/plain": [
       "Batches:   0%|          | 0/1 [00:00<?, ?it/s]"
      ]
     },
     "metadata": {},
     "output_type": "display_data"
    },
    {
     "data": {
      "application/vnd.jupyter.widget-view+json": {
       "model_id": "1b5e939685e64034ade30f1fadfc1698",
       "version_major": 2,
       "version_minor": 0
      },
      "text/plain": [
       "Batches:   0%|          | 0/1 [00:00<?, ?it/s]"
      ]
     },
     "metadata": {},
     "output_type": "display_data"
    },
    {
     "data": {
      "application/vnd.jupyter.widget-view+json": {
       "model_id": "8ad19bc442b7488b85b8614f91f1754d",
       "version_major": 2,
       "version_minor": 0
      },
      "text/plain": [
       "Batches:   0%|          | 0/1 [00:00<?, ?it/s]"
      ]
     },
     "metadata": {},
     "output_type": "display_data"
    },
    {
     "data": {
      "application/vnd.jupyter.widget-view+json": {
       "model_id": "1e1fa916bf2a4768903c1f02ae026b46",
       "version_major": 2,
       "version_minor": 0
      },
      "text/plain": [
       "Batches:   0%|          | 0/1 [00:00<?, ?it/s]"
      ]
     },
     "metadata": {},
     "output_type": "display_data"
    },
    {
     "data": {
      "application/vnd.jupyter.widget-view+json": {
       "model_id": "4d23de8767564b4c9dc729223084f366",
       "version_major": 2,
       "version_minor": 0
      },
      "text/plain": [
       "Batches:   0%|          | 0/1 [00:00<?, ?it/s]"
      ]
     },
     "metadata": {},
     "output_type": "display_data"
    },
    {
     "data": {
      "application/vnd.jupyter.widget-view+json": {
       "model_id": "8c07d8fdcd85467dacb3916080a59fa6",
       "version_major": 2,
       "version_minor": 0
      },
      "text/plain": [
       "Batches:   0%|          | 0/1 [00:00<?, ?it/s]"
      ]
     },
     "metadata": {},
     "output_type": "display_data"
    },
    {
     "data": {
      "application/vnd.jupyter.widget-view+json": {
       "model_id": "1fb61430c30544cb859c515af707e5c8",
       "version_major": 2,
       "version_minor": 0
      },
      "text/plain": [
       "Batches:   0%|          | 0/1 [00:00<?, ?it/s]"
      ]
     },
     "metadata": {},
     "output_type": "display_data"
    },
    {
     "data": {
      "application/vnd.jupyter.widget-view+json": {
       "model_id": "b64713f57fd14c50bd7030becf377e53",
       "version_major": 2,
       "version_minor": 0
      },
      "text/plain": [
       "Batches:   0%|          | 0/1 [00:00<?, ?it/s]"
      ]
     },
     "metadata": {},
     "output_type": "display_data"
    },
    {
     "name": "stdout",
     "output_type": "stream",
     "text": [
      "💾 Saving vectors to files...\n",
      "✅ Processed 5 docs, created 642 vectors\n",
      "✅ Processed: 5 docs, Created: 642 vectors\n",
      "   Documents: +5 vectors (Total: 6, 0.1MB)\n",
      "   Sections: +92 vectors (Total: 114, 1.4MB)\n",
      "   Paragraphs: +545 vectors (Total: 615, 7.1MB)\n",
      "🌐 Languages: ENG:3, ESP:2\n",
      "📄 Types: Academic paper:1, Policy document:2, Blog post:1, Journal article:1\n",
      "🔍 Verifying integrity...❌ Duplicates found in gai-section-vectors.json: 114 total, 68 unique\n",
      "❌ Duplicates found in gai-paragraph-vectors.json: 615 total, 452 unique\n",
      " ❌ Failed\n",
      "🔍 CHECKING EXISTING VECTORS IN: ..\\vectors\\gai\n",
      "  ✅ Documents: 6 vectors found\n",
      "  ✅ Sections: 114 vectors found\n",
      "  ✅ Paragraphs: 615 vectors found\n",
      "\n",
      "📊 EXISTING VECTORS SUMMARY:\n",
      "  • Unique documents with vectors: 6\n",
      "  • Total sections: 68\n",
      "  • Total paragraphs: 452\n",
      "  • Grand total vectors: 735\n",
      "📊 Corpus Status: 6/6 docs (100.0% coverage)\n",
      "🎉 CORPUS VECTORIZATION COMPLETE!\n",
      "\n",
      "🚀 Ready for Step 9: Visualize the Vectors!\n",
      "💡 Benefits: No re-processing, schema-compliant files, smart detection, verified integrity\n"
     ]
    }
   ],
   "source": [
    "### STEP 7: SMART BATCH PROCESSING (NO RE-VECTORIZATION)\n",
    "\n",
    "# Only proceed if we have documents to process\n",
    "if documents_to_process:\n",
    "    print(\"🚀 Starting Smart Batch Vectorization\")\n",
    "    print(f\"📋 Processing {len(documents_to_process)} new documents\")\n",
    "    print(f\"🤖 Model: {model._modules['0'].auto_model.config._name_or_path}\")\n",
    "    print(f\"📐 Dimension: {model.get_sentence_embedding_dimension()}\")\n",
    "    \n",
    "    # Load the unprocessed documents\n",
    "    if 'loaded_docs' not in locals():\n",
    "        print(\"📖 Loading document content...\")\n",
    "        loaded_docs = load_documents_for_batch(documents_to_process)\n",
    "    \n",
    "    if loaded_docs:\n",
    "        print(f\"🔄 Processing {len(loaded_docs)} documents...\")\n",
    "        \n",
    "        # Use the schema-compliant batch processing\n",
    "        batch_results = batch_process_and_append_vectors(\n",
    "            loaded_docs=loaded_docs,\n",
    "            model=model,\n",
    "            output_dir=\"../vectors/gai\"\n",
    "        )\n",
    "        \n",
    "        # Show concise results\n",
    "        if batch_results['processed'] > 0:\n",
    "            print(f\"✅ Processed: {batch_results['processed']} docs, Created: {batch_results['vectors_created']} vectors\")\n",
    "            \n",
    "            # Show file updates in one line per type\n",
    "            if 'file_results' in batch_results:\n",
    "                for vector_type, file_info in batch_results['file_results'].items():\n",
    "                    print(f\"   {vector_type.title()}: +{file_info['new_count']} vectors (Total: {file_info['total_count']}, {file_info['size_mb']:.1f}MB)\")\n",
    "            \n",
    "            # Compact language and type breakdown\n",
    "            lang_counts = {}\n",
    "            for doc in loaded_docs:\n",
    "                doc_id = doc.get('document_id', '')\n",
    "                lang = doc_id.split('_')[0].split('-')[-1] if '_' in doc_id else 'unknown'\n",
    "                lang_counts[lang] = lang_counts.get(lang, 0) + 1\n",
    "            \n",
    "            type_counts = {}\n",
    "            for doc_info in documents_to_process:\n",
    "                text_type = doc_info.get('text_type', 'Unknown')\n",
    "                type_counts[text_type] = type_counts.get(text_type, 0) + 1\n",
    "            \n",
    "            # Single line summaries\n",
    "            lang_summary = \", \".join([f\"{lang.upper()}:{count}\" for lang, count in lang_counts.items()])\n",
    "            type_summary = \", \".join([f\"{text_type}:{count}\" for text_type, count in type_counts.items()])\n",
    "            print(f\"🌐 Languages: {lang_summary}\")\n",
    "            print(f\"📄 Types: {type_summary}\")\n",
    "        \n",
    "        if batch_results['failed'] > 0:\n",
    "            print(f\"⚠️ Failed: {batch_results['failed']} documents\")\n",
    "        \n",
    "        # Quick verification\n",
    "        print(\"🔍 Verifying integrity...\", end=\"\")\n",
    "        verification_passed = verify_no_duplicates(\"../vectors/gai\")\n",
    "        print(\" ✅ Passed\" if verification_passed else \" ❌ Failed\")\n",
    "        \n",
    "        # Final status - compact version\n",
    "        updated_vectors_info = load_existing_vector_files_comprehensive(\"../vectors/gai\")\n",
    "        total_corpus_docs = sum(len(docs) for docs in all_documents.values())\n",
    "        processed_docs = len(updated_vectors_info['document_ids'])\n",
    "        coverage = (processed_docs/total_corpus_docs)*100\n",
    "        \n",
    "        print(f\"📊 Corpus Status: {processed_docs}/{total_corpus_docs} docs ({coverage:.1f}% coverage)\")\n",
    "        \n",
    "        if processed_docs == total_corpus_docs:\n",
    "            print(\"🎉 CORPUS VECTORIZATION COMPLETE!\")\n",
    "        else:\n",
    "            print(f\"📋 Remaining: {total_corpus_docs - processed_docs} documents\")\n",
    "    \n",
    "    else:\n",
    "        print(\"❌ No documents could be loaded for processing\")\n",
    "\n",
    "else:\n",
    "    print(\"🎉 NO PROCESSING NEEDED - All documents already have vectors\")\n",
    "    \n",
    "    # Compact current status\n",
    "    total_corpus_docs = sum(len(docs) for docs in all_documents.values())\n",
    "    processed_docs = len(existing_vectors_info['document_ids'])\n",
    "    coverage = (processed_docs/total_corpus_docs)*100\n",
    "    \n",
    "    print(f\"📊 Status: {processed_docs}/{total_corpus_docs} docs ({coverage:.1f}% coverage)\")\n",
    "    print(f\"📊 Total vectors: {existing_vectors_info['total_vectors']:,}\")\n",
    "    \n",
    "    # Single line per vector type\n",
    "    for vector_type, file_info in existing_vectors_info['files_found'].items():\n",
    "        if 'count' in file_info:\n",
    "            print(f\"   {vector_type.title()}: {file_info['count']} vectors ({file_info['size_mb']:.1f}MB)\")\n",
    "\n",
    "# Store final results for potential use in next steps\n",
    "if 'batch_results' in locals():\n",
    "    final_processing_summary = {\n",
    "        'new_documents_processed': batch_results.get('processed', 0),\n",
    "        'total_vectors_added': batch_results.get('vectors_created', 0),\n",
    "        'files_updated': len(batch_results.get('file_results', {})),\n",
    "        'corpus_coverage': f\"{coverage:.1f}%\"\n",
    "    }\n",
    "else:\n",
    "    final_processing_summary = {\n",
    "        'new_documents_processed': 0,\n",
    "        'total_vectors_added': 0,\n",
    "        'files_updated': 0,\n",
    "        'corpus_coverage': f\"{coverage:.1f}%\"\n",
    "    }\n",
    "\n",
    "print(f\"\\n🚀 Ready for Step 9: Visualize the Vectors!\")\n",
    "print(f\"💡 Benefits: No re-processing, schema-compliant files, smart detection, verified integrity\")"
   ]
  }
 ],
 "metadata": {
  "kernelspec": {
   "display_name": "Python 3",
   "language": "python",
   "name": "python3"
  },
  "language_info": {
   "codemirror_mode": {
    "name": "ipython",
    "version": 3
   },
   "file_extension": ".py",
   "mimetype": "text/x-python",
   "name": "python",
   "nbconvert_exporter": "python",
   "pygments_lexer": "ipython3",
   "version": "3.12.6"
  }
 },
 "nbformat": 4,
 "nbformat_minor": 5
}
